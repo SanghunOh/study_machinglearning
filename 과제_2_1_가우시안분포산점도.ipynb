{
  "nbformat": 4,
  "nbformat_minor": 0,
  "metadata": {
    "colab": {
      "name": "과제_2_1_가우시안분포산점도.ipynb",
      "provenance": [],
      "collapsed_sections": [],
      "mount_file_id": "1768dRBE8yCf1h_vaVCNIH69HVIId95uU",
      "authorship_tag": "ABX9TyP9fyjFpD/Hob5oLr08Adqd"
    },
    "kernelspec": {
      "name": "python3",
      "display_name": "Python 3"
    },
    "language_info": {
      "name": "python"
    }
  },
  "cells": [
    {
      "cell_type": "markdown",
      "source": [
        "1. (50점) 다음에 주어진 단계에 따라 데이터를 생성하고 베이지안 분류기를 이용하여 분류를 수행하시오."
      ],
      "metadata": {
        "id": "WLtZkSHjYYBZ"
      }
    },
    {
      "cell_type": "markdown",
      "source": [
        " \n",
        "#(1) (25점) 다음과 같은 평균과 공분산을 가지는 가우시안 분포를 따르는 각 100개씩의 2차원 데이터로 이루어진 두 클래스 집합 를 생성하고, 이를 2차원 평면상에 산점도를 그리시오."
      ],
      "metadata": {
        "id": "lp3RQ2FSYduO"
      }
    },
    {
      "cell_type": "markdown",
      "source": [
        "##\bcreate data"
      ],
      "metadata": {
        "id": "pN0NeT5aYIDz"
      }
    },
    {
      "cell_type": "code",
      "execution_count": null,
      "metadata": {
        "id": "08GX8oTvWOw_"
      },
      "outputs": [],
      "source": [
        "import numpy as np\n",
        "row_count = 100"
      ]
    },
    {
      "cell_type": "markdown",
      "source": [
        "$\n",
        "μ_1=\\begin{pmatrix}\n",
        "0 \\\\ 0\n",
        "\\end{pmatrix}\n",
        "Σ_1 =\\begin{pmatrix}\n",
        "4 & 0 \\\\ 0 & 4\n",
        "\\end{pmatrix}\n",
        "$"
      ],
      "metadata": {
        "id": "xpGtNaZ-ZUuB"
      }
    },
    {
      "cell_type": "code",
      "source": [
        "# Class 1\n",
        "rand_std_1 = np.random.randn(row_count, 2)\n",
        "mu_1 = np.array([0,0])\n",
        "sigma_1 = np.array([[4,0],[0,4]])\n",
        "class_1 = rand_std_1 @ np.sqrt(sigma_1) + mu_1"
      ],
      "metadata": {
        "id": "ZXGROCagWSXP"
      },
      "execution_count": null,
      "outputs": []
    },
    {
      "cell_type": "markdown",
      "source": [
        "$\n",
        "μ_2=\\begin{pmatrix}\n",
        "3 \\\\ 5\n",
        "\\end{pmatrix}\n",
        "Σ_2 =\\begin{pmatrix}\n",
        "3 & 0 \\\\ 0 & 5\n",
        "\\end{pmatrix}\n",
        "$"
      ],
      "metadata": {
        "id": "xkBDen64tuth"
      }
    },
    {
      "cell_type": "code",
      "source": [
        "# Class 2\n",
        "rand_std_2 = np.random.randn(row_count, 2)\n",
        "mu_2 = np.array([3,5])\n",
        "sigma_2 = np.array([[3,0],[0,5]])\n",
        "class_2 = rand_std_2 @ np.sqrt(sigma_2) + mu_2"
      ],
      "metadata": {
        "id": "q5BFl4eoabTL"
      },
      "execution_count": null,
      "outputs": []
    },
    {
      "cell_type": "code",
      "source": [
        "import matplotlib.pyplot as plt"
      ],
      "metadata": {
        "id": "lgBAMfTOakNs"
      },
      "execution_count": null,
      "outputs": []
    },
    {
      "cell_type": "code",
      "source": [
        "# \bClass 1\n",
        "plt.plot(class_1[:,0],class_1[:,1],marker='o', color='red', linestyle='None', label='Class 1') \n",
        "# \bClass 2\n",
        "plt.plot(class_2[:,0],class_2[:,1],marker='s',linestyle='None', label='Class 2')\n",
        "\n",
        "plt.legend()\n",
        "plt.show()\n"
      ],
      "metadata": {
        "colab": {
          "base_uri": "https://localhost:8080/",
          "height": 267
        },
        "id": "HSakQfcCaphZ",
        "outputId": "1e17b1fc-e576-4147-b15f-17539a590d75"
      },
      "execution_count": null,
      "outputs": [
        {
          "output_type": "display_data",
          "data": {
            "text/plain": [
              "<Figure size 432x288 with 1 Axes>"
            ],
            "image/png": "[encoded data removed]"
          },
          "metadata": {
            "needs_background": "light"
          }
        }
      ]
    },
    {
      "cell_type": "markdown",
      "source": [
        "#(2) (25점) 하나의 새로운 데이터 에 대해, 클래스 공통 공분산행렬을 가정한 경우와 일반적인 공분산행렬을 가정한 경우의 판별함수를 이용하여 각각의 경우 어떤 클래스에 속하는지를 판단하시오."
      ],
      "metadata": {
        "id": "U_ZilyRwudnq"
      }
    },
    {
      "cell_type": "markdown",
      "source": [
        "## 각 Class 평균과 공분산 행렬 구하기"
      ],
      "metadata": {
        "id": "0RLr-aD00hhA"
      }
    },
    {
      "cell_type": "code",
      "source": [
        "# Class 1\n",
        "class_1_mu = np.mean(class_1,axis=0)\n",
        "class_1_sigma = np.cov(class_1.T)\n",
        "print('설정 평균 : {}, 공분산 : {}'.format(mu_1, sigma_1))\n",
        "print('확인 평균 : {}, 공분산 : {}'.format(class_1_mu, class_1_sigma))"
      ],
      "metadata": {
        "colab": {
          "base_uri": "https://localhost:8080/"
        },
        "id": "nCSxKHeC0W8t",
        "outputId": "3547dc97-3150-491c-da69-d1bc3b033311"
      },
      "execution_count": null,
      "outputs": [
        {
          "output_type": "stream",
          "name": "stdout",
          "text": [
            "설정 평균 : [0 0], 공분산 : [[4 0]\n",
            " [0 4]]\n",
            "확인 평균 : [0.24050156 0.23334004], 공분산 : [[ 3.54052082 -0.24317319]\n",
            " [-0.24317319  3.98218211]]\n"
          ]
        }
      ]
    },
    {
      "cell_type": "code",
      "source": [
        "# Class 2\n",
        "class_2_mu = np.mean(class_2,axis=0)\n",
        "class_2_sigma = np.cov(class_2.T)\n",
        "print('설정 평균 : {}, 공분산 : {}'.format(mu_2, sigma_2))\n",
        "print('확인 평균 : {}, 공분산 : {}'.format(class_2_mu, class_2_sigma))"
      ],
      "metadata": {
        "colab": {
          "base_uri": "https://localhost:8080/"
        },
        "id": "RjNSf_uQ0bzZ",
        "outputId": "8cc6aab3-c318-4479-a250-ef46737b7ad6"
      },
      "execution_count": null,
      "outputs": [
        {
          "output_type": "stream",
          "name": "stdout",
          "text": [
            "설정 평균 : [3 5], 공분산 : [[3 0]\n",
            " [0 5]]\n",
            "확인 평균 : [3.33161837 5.32030742], 공분산 : [[2.55311108 0.72308955]\n",
            " [0.72308955 6.34756053]]\n"
          ]
        }
      ]
    },
    {
      "cell_type": "code",
      "source": [
        "# All Covariance\n",
        "class_All = np.vstack([class_1, class_2])\n",
        "# claa_All.shape\n",
        "class_All_cov = np.cov(class_All.T)\n",
        "class_All_cov"
      ],
      "metadata": {
        "colab": {
          "base_uri": "https://localhost:8080/"
        },
        "id": "y13d03Q631TT",
        "outputId": "4b7d0e35-c833-4a5d-ebdf-951aec31109c"
      },
      "execution_count": null,
      "outputs": [
        {
          "output_type": "execute_result",
          "data": {
            "text/plain": [
              "array([[ 5.43225988,  4.18960924],\n",
              "       [ 4.18960924, 11.64073555]])"
            ]
          },
          "metadata": {},
          "execution_count": 8
        }
      ]
    },
    {
      "cell_type": "markdown",
      "source": [
        "### 판별함수 적용"
      ],
      "metadata": {
        "id": "kZSpU90V7TiT"
      }
    },
    {
      "cell_type": "markdown",
      "source": [
        "\n",
        "###$ x=[1,2]^T $에 대한 공통 공분산행렬을 가정한 경우\n",
        "$ y(x)=argmin_i\\{(x-μ_i)^TΣ^{-1}(x-μ_i)\\} $ → Mahalanobis Distance"
      ],
      "metadata": {
        "id": "6uLI5Y6Ruihg"
      }
    },
    {
      "cell_type": "code",
      "source": [
        "new_x = np.array([1,2])\n",
        "# new_x = np.array([-2,-2]) # class 1  \n",
        "# new_x = np.array([6,10]) # class 2\n",
        "new_x"
      ],
      "metadata": {
        "colab": {
          "base_uri": "https://localhost:8080/"
        },
        "id": "zHm-lFaVbNQj",
        "outputId": "3916ea11-66c1-4cf5-8640-1c5c7a3c40d7"
      },
      "execution_count": null,
      "outputs": [
        {
          "output_type": "execute_result",
          "data": {
            "text/plain": [
              "array([1, 2])"
            ]
          },
          "metadata": {},
          "execution_count": 30
        }
      ]
    },
    {
      "cell_type": "code",
      "source": [
        "train_hat = np.full((2),0)\n",
        "# class 1 측정\n",
        "train_hat[0] = (new_x-class_1_mu).T @ np.linalg.inv(class_All_cov) @ (new_x-class_1_mu)\n",
        "# class 2 측정\n",
        "train_hat[1] = (new_x-class_2_mu).T @ np.linalg.inv(class_All_cov) @ (new_x-class_2_mu)\n",
        "train_hat\n",
        "classify = np.argmin(train_hat)\n",
        "print('분류 : class {}, 입력값 : {}, 판별함수 :{}'.format(classify+1, new_x, train_hat))"
      ],
      "metadata": {
        "colab": {
          "base_uri": "https://localhost:8080/"
        },
        "id": "x7VWfYns1gla",
        "outputId": "2eb44df6-db08-40de-f913-d5e597656fbf"
      },
      "execution_count": null,
      "outputs": [
        {
          "output_type": "stream",
          "name": "stdout",
          "text": [
            "분류 : class 1, 입력값 : [1 2], 판별함수 :[0 1]\n"
          ]
        }
      ]
    },
    {
      "cell_type": "markdown",
      "source": [
        "###$ x=[1,2]^T $에 대한 일반성 갖는 공분산행렬을 가정한 경우\n",
        "$ y(x)=argmin_i\\{(x-μ_i)^TΣ^{-1}(x-μ_i)+ln|Σ_i|\\} $→ 경계가 곡선 형태"
      ],
      "metadata": {
        "id": "vlAx8kphvEJ4"
      }
    },
    {
      "cell_type": "code",
      "source": [
        "train_hat = np.full((2),0)\n",
        "# class 1 측정\n",
        "train_hat[0] = (new_x-class_1_mu).T @ np.linalg.inv(class_1_sigma) @ (new_x-class_1_mu)\n",
        "# class 2 측정\n",
        "train_hat[1] = (new_x-class_2_mu).T @ np.linalg.inv(class_2_sigma) @ (new_x-class_2_mu)\n",
        "train_hat\n",
        "classify = np.argmin(train_hat)\n",
        "print('분류 : class {}, 입력값 : {}, 판별함수 :{}'.format(classify+1, new_x, train_hat))"
      ],
      "metadata": {
        "colab": {
          "base_uri": "https://localhost:8080/"
        },
        "id": "EFVwDoskvMY4",
        "outputId": "065325ca-5a24-4f90-ffbd-119163a2b6a8"
      },
      "execution_count": null,
      "outputs": [
        {
          "output_type": "stream",
          "name": "stdout",
          "text": [
            "분류 : class 1, 입력값 : [1 2], 판별함수 :[0 3]\n"
          ]
        }
      ]
    },
    {
      "cell_type": "code",
      "source": [
        ""
      ],
      "metadata": {
        "id": "i-fktktm85Hr"
      },
      "execution_count": null,
      "outputs": []
    }
  ]
}