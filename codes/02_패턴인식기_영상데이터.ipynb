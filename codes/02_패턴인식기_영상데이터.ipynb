{
  "nbformat": 4,
  "nbformat_minor": 0,
  "metadata": {
    "colab": {
      "name": "02_패턴인식기_영상데이터.ipynb",
      "provenance": [],
      "mount_file_id": "1h7WOYGWQgR268hdHIFwaSTy2sieq9_6D",
      "authorship_tag": "ABX9TyML2R8w85uRdgJoOFuB0cRh"
    },
    "kernelspec": {
      "name": "python3",
      "display_name": "Python 3"
    },
    "language_info": {
      "name": "python"
    }
  },
  "cells": [
    {
      "cell_type": "markdown",
      "source": [
        "#이미지 dataset 설정"
      ],
      "metadata": {
        "id": "tJ7pRVyILqg_"
      }
    },
    {
      "cell_type": "code",
      "execution_count": 34,
      "metadata": {
        "colab": {
          "base_uri": "https://localhost:8080/"
        },
        "id": "OMGcqL5q6lwB",
        "outputId": "01f268fb-bbb1-49e8-a70e-827ff3ffa62d"
      },
      "outputs": [
        {
          "output_type": "stream",
          "name": "stdout",
          "text": [
            "/content/drive/MyDrive/Colab Notebooks/00.study/10.knou\n",
            "02_패턴인식기_2차원데이터.ipynb  digitimages_binary.zip\n",
            "02_패턴인식기_영상데이터.ipynb\n"
          ]
        }
      ],
      "source": [
        "# 작업 경로 설정\n",
        "import os\n",
        "os.chdir(r\"/content/drive/MyDrive/Colab Notebooks/00.study/10.knou\")\n",
        "!pwd\n",
        "!ls"
      ]
    },
    {
      "cell_type": "code",
      "source": [
        "!rm -rf ./number_images\n",
        "!unzip ./digitimages_binary.zip -d ./number_images\n",
        "!ls ./number_images"
      ],
      "metadata": {
        "colab": {
          "base_uri": "https://localhost:8080/"
        },
        "id": "RY4sxpyN99f6",
        "outputId": "46a7aff1-6085-4702-b39b-17a5a5cfba21"
      },
      "execution_count": 35,
      "outputs": [
        {
          "output_type": "stream",
          "name": "stdout",
          "text": [
            "Archive:  ./digitimages_binary.zip\n",
            "  inflating: ./number_images/digit0_1.bmp  \n",
            "  inflating: ./number_images/digit0_2.bmp  \n",
            "  inflating: ./number_images/digit0_3.bmp  \n",
            "  inflating: ./number_images/digit0_4.bmp  \n",
            "  inflating: ./number_images/digit0_5.bmp  \n",
            "  inflating: ./number_images/digit0_6.bmp  \n",
            "  inflating: ./number_images/digit0_7.bmp  \n",
            "  inflating: ./number_images/digit1_1.bmp  \n",
            "  inflating: ./number_images/digit1_2.bmp  \n",
            "  inflating: ./number_images/digit1_3.bmp  \n",
            "  inflating: ./number_images/digit1_4.bmp  \n",
            "  inflating: ./number_images/digit1_5.bmp  \n",
            "  inflating: ./number_images/digit1_6.bmp  \n",
            "  inflating: ./number_images/digit1_7.bmp  \n",
            "  inflating: ./number_images/digit2_1.bmp  \n",
            "  inflating: ./number_images/digit2_2.bmp  \n",
            "  inflating: ./number_images/digit2_3.bmp  \n",
            "  inflating: ./number_images/digit2_4.bmp  \n",
            "  inflating: ./number_images/digit2_5.bmp  \n",
            "  inflating: ./number_images/digit2_6.bmp  \n",
            "  inflating: ./number_images/digit2_7.bmp  \n",
            "  inflating: ./number_images/digit3_1.bmp  \n",
            "  inflating: ./number_images/digit3_2.bmp  \n",
            "  inflating: ./number_images/digit3_3.bmp  \n",
            "  inflating: ./number_images/digit3_4.bmp  \n",
            "  inflating: ./number_images/digit3_5.bmp  \n",
            "  inflating: ./number_images/digit3_6.bmp  \n",
            "  inflating: ./number_images/digit3_7.bmp  \n",
            "  inflating: ./number_images/digit4_1.bmp  \n",
            "  inflating: ./number_images/digit4_2.bmp  \n",
            "  inflating: ./number_images/digit4_3.bmp  \n",
            "  inflating: ./number_images/digit4_4.bmp  \n",
            "  inflating: ./number_images/digit4_5.bmp  \n",
            "  inflating: ./number_images/digit4_6.bmp  \n",
            "  inflating: ./number_images/digit4_7.bmp  \n",
            "  inflating: ./number_images/digit5_1.bmp  \n",
            "  inflating: ./number_images/digit5_2.bmp  \n",
            "  inflating: ./number_images/digit5_3.bmp  \n",
            "  inflating: ./number_images/digit5_4.bmp  \n",
            "  inflating: ./number_images/digit5_5.bmp  \n",
            "  inflating: ./number_images/digit5_6.bmp  \n",
            "  inflating: ./number_images/digit5_7.bmp  \n",
            "  inflating: ./number_images/digit6_1.bmp  \n",
            "  inflating: ./number_images/digit6_2.bmp  \n",
            "  inflating: ./number_images/digit6_3.bmp  \n",
            "  inflating: ./number_images/digit6_4.bmp  \n",
            "  inflating: ./number_images/digit6_5.bmp  \n",
            "  inflating: ./number_images/digit6_6.bmp  \n",
            "  inflating: ./number_images/digit6_7.bmp  \n",
            "  inflating: ./number_images/digit7_1.bmp  \n",
            "  inflating: ./number_images/digit7_2.bmp  \n",
            "  inflating: ./number_images/digit7_3.bmp  \n",
            "  inflating: ./number_images/digit7_4.bmp  \n",
            "  inflating: ./number_images/digit7_5.bmp  \n",
            "  inflating: ./number_images/digit7_6.bmp  \n",
            "  inflating: ./number_images/digit7_7.bmp  \n",
            "  inflating: ./number_images/digit8_1.bmp  \n",
            "  inflating: ./number_images/digit8_2.bmp  \n",
            "  inflating: ./number_images/digit8_3.bmp  \n",
            "  inflating: ./number_images/digit8_4.bmp  \n",
            "  inflating: ./number_images/digit8_5.bmp  \n",
            "  inflating: ./number_images/digit8_6.bmp  \n",
            "  inflating: ./number_images/digit8_7.bmp  \n",
            "  inflating: ./number_images/digit9_1.bmp  \n",
            "  inflating: ./number_images/digit9_2.bmp  \n",
            "  inflating: ./number_images/digit9_3.bmp  \n",
            "  inflating: ./number_images/digit9_4.bmp  \n",
            "  inflating: ./number_images/digit9_5.bmp  \n",
            "  inflating: ./number_images/digit9_6.bmp  \n",
            "  inflating: ./number_images/digit9_7.bmp  \n",
            "digit0_1.bmp  digit2_1.bmp  digit4_1.bmp  digit6_1.bmp\tdigit8_1.bmp\n",
            "digit0_2.bmp  digit2_2.bmp  digit4_2.bmp  digit6_2.bmp\tdigit8_2.bmp\n",
            "digit0_3.bmp  digit2_3.bmp  digit4_3.bmp  digit6_3.bmp\tdigit8_3.bmp\n",
            "digit0_4.bmp  digit2_4.bmp  digit4_4.bmp  digit6_4.bmp\tdigit8_4.bmp\n",
            "digit0_5.bmp  digit2_5.bmp  digit4_5.bmp  digit6_5.bmp\tdigit8_5.bmp\n",
            "digit0_6.bmp  digit2_6.bmp  digit4_6.bmp  digit6_6.bmp\tdigit8_6.bmp\n",
            "digit0_7.bmp  digit2_7.bmp  digit4_7.bmp  digit6_7.bmp\tdigit8_7.bmp\n",
            "digit1_1.bmp  digit3_1.bmp  digit5_1.bmp  digit7_1.bmp\tdigit9_1.bmp\n",
            "digit1_2.bmp  digit3_2.bmp  digit5_2.bmp  digit7_2.bmp\tdigit9_2.bmp\n",
            "digit1_3.bmp  digit3_3.bmp  digit5_3.bmp  digit7_3.bmp\tdigit9_3.bmp\n",
            "digit1_4.bmp  digit3_4.bmp  digit5_4.bmp  digit7_4.bmp\tdigit9_4.bmp\n",
            "digit1_5.bmp  digit3_5.bmp  digit5_5.bmp  digit7_5.bmp\tdigit9_5.bmp\n",
            "digit1_6.bmp  digit3_6.bmp  digit5_6.bmp  digit7_6.bmp\tdigit9_6.bmp\n",
            "digit1_7.bmp  digit3_7.bmp  digit5_7.bmp  digit7_7.bmp\tdigit9_7.bmp\n"
          ]
        }
      ]
    },
    {
      "cell_type": "markdown",
      "source": [
        "# 이미지 데이터 행렬 변환"
      ],
      "metadata": {
        "id": "wX-T1xIPL7SY"
      }
    },
    {
      "cell_type": "code",
      "source": [
        "import cv2 as cv\n",
        "cv.__version__"
      ],
      "metadata": {
        "colab": {
          "base_uri": "https://localhost:8080/",
          "height": 35
        },
        "id": "zHqGIuE9-LXW",
        "outputId": "da0e2f96-282c-4861-b48e-ff431c320097"
      },
      "execution_count": 31,
      "outputs": [
        {
          "output_type": "execute_result",
          "data": {
            "text/plain": [
              "'4.1.2'"
            ],
            "application/vnd.google.colaboratory.intrinsic+json": {
              "type": "string"
            }
          },
          "metadata": {},
          "execution_count": 31
        }
      ]
    },
    {
      "cell_type": "markdown",
      "source": [
        "## 이미지 한개 이진화 "
      ],
      "metadata": {
        "id": "X_AEoXOkb0LH"
      }
    },
    {
      "cell_type": "markdown",
      "source": [
        "### opencv 사용 방식 - 연습용"
      ],
      "metadata": {
        "id": "OpLmybR0eSYl"
      }
    },
    {
      "cell_type": "code",
      "source": [
        "image_unchange = cv.imread(\"./number_images/digit8_1.bmp\", cv.IMREAD_UNCHANGED)\n",
        "image_unchange.size, image_unchange.shape, type(image_unchange)\n",
        "import matplotlib.pyplot as plt\n",
        "plt.imshow(image_unchange, cmap='gray')"
      ],
      "metadata": {
        "id": "u4zbcGmBhqv4",
        "outputId": "ec14582c-dba9-4d00-9bbc-728061ef3a96",
        "colab": {
          "base_uri": "https://localhost:8080/",
          "height": 283
        }
      },
      "execution_count": 32,
      "outputs": [
        {
          "output_type": "execute_result",
          "data": {
            "text/plain": [
              "<matplotlib.image.AxesImage at 0x7f3e79a97950>"
            ]
          },
          "metadata": {},
          "execution_count": 32
        },
        {
          "output_type": "display_data",
          "data": {
            "text/plain": [
              "<Figure size 432x288 with 1 Axes>"
            ],
            "image/png": "[encoded data removed]"
          },
          "metadata": {
            "needs_background": "light"
          }
        }
      ]
    },
    {
      "cell_type": "code",
      "source": [
        "image_bgr = cv.imread(\"./number_images/digit8_1.bmp\")\n",
        "image_bgr.size, image_bgr.shape, type(image_bgr)"
      ],
      "metadata": {
        "colab": {
          "base_uri": "https://localhost:8080/"
        },
        "id": "6i8Hb_3N_tYk",
        "outputId": "703c16a6-5413-4979-d437-ce70f9f51cf8"
      },
      "execution_count": 33,
      "outputs": [
        {
          "output_type": "execute_result",
          "data": {
            "text/plain": [
              "(960, (20, 16, 3), numpy.ndarray)"
            ]
          },
          "metadata": {},
          "execution_count": 33
        }
      ]
    },
    {
      "cell_type": "code",
      "source": [
        "dim = (16,20)  # (width, height)\n",
        "image_bgr = cv.resize(image_bgr, dim)\n",
        "image_gray = cv.cvtColor(image_bgr, cv.COLOR_BGR2GRAY)\n",
        "image_gray.size, image_gray.shape, type(image_gray)"
      ],
      "metadata": {
        "colab": {
          "base_uri": "https://localhost:8080/"
        },
        "id": "TdxsHMaGLEcC",
        "outputId": "79d0d45e-5c22-4c00-853b-8d73f171e07e"
      },
      "execution_count": 34,
      "outputs": [
        {
          "output_type": "execute_result",
          "data": {
            "text/plain": [
              "(320, (20, 16), numpy.ndarray)"
            ]
          },
          "metadata": {},
          "execution_count": 34
        }
      ]
    },
    {
      "cell_type": "code",
      "source": [
        "ret, image_binary = cv.threshold (image_gray, 127, 255, cv.THRESH_BINARY_INV)\n",
        "image_binary.size, image_binary.shape, type(image_binary)"
      ],
      "metadata": {
        "id": "TXOo64ANNZ_i",
        "outputId": "3f2c6371-d0a4-4064-99f5-8b82f4c0ccf0",
        "colab": {
          "base_uri": "https://localhost:8080/"
        }
      },
      "execution_count": 35,
      "outputs": [
        {
          "output_type": "execute_result",
          "data": {
            "text/plain": [
              "(320, (20, 16), numpy.ndarray)"
            ]
          },
          "metadata": {},
          "execution_count": 35
        }
      ]
    },
    {
      "cell_type": "code",
      "source": [
        "import matplotlib.pyplot as plt\n",
        "fig, axs = plt.subplots(1, 3, figsize=(10, 3))\n",
        "plt.axis(\"off\")\n",
        "axs[0].imshow(image_bgr)\n",
        "axs[1].imshow(image_gray, cmap='gray')\n",
        "axs[2].imshow(image_binary, cmap=plt.cm.binary)"
      ],
      "metadata": {
        "id": "ZDOJZNiTSruz",
        "outputId": "af1761f9-7046-4971-a3de-33b0843e0cf8",
        "colab": {
          "base_uri": "https://localhost:8080/",
          "height": 229
        }
      },
      "execution_count": 36,
      "outputs": [
        {
          "output_type": "execute_result",
          "data": {
            "text/plain": [
              "<matplotlib.image.AxesImage at 0x7f3e799fc8d0>"
            ]
          },
          "metadata": {},
          "execution_count": 36
        },
        {
          "output_type": "display_data",
          "data": {
            "text/plain": [
              "<Figure size 720x216 with 3 Axes>"
            ],
            "image/png": "[encoded data removed]"
          },
          "metadata": {
            "needs_background": "light"
          }
        }
      ]
    },
    {
      "cell_type": "code",
      "source": [
        "digit_flat = image_binary.reshape(-1)\n",
        "digit_flat.size, digit_flat.shape"
      ],
      "metadata": {
        "id": "oocxwAfYewYX",
        "outputId": "563ef744-e492-4a71-815a-b737b9ee5089",
        "colab": {
          "base_uri": "https://localhost:8080/"
        }
      },
      "execution_count": 37,
      "outputs": [
        {
          "output_type": "execute_result",
          "data": {
            "text/plain": [
              "(320, (320,))"
            ]
          },
          "metadata": {},
          "execution_count": 37
        }
      ]
    },
    {
      "cell_type": "markdown",
      "source": [
        "### Pillow 사용 방식"
      ],
      "metadata": {
        "id": "Te-HmuHJebDQ"
      }
    },
    {
      "cell_type": "code",
      "source": [
        "from PIL import Image \n",
        "image_binary = Image.open(\"./number_images/digit8_1.bmp\") # open colour image\n",
        "image_binary.format, image_binary.size, image_binary.mode,  type(image_binary)"
      ],
      "metadata": {
        "id": "MsQYHQ5mS8UV",
        "outputId": "b81b0998-54d8-41ac-8255-a6e6f21a173f",
        "colab": {
          "base_uri": "https://localhost:8080/"
        }
      },
      "execution_count": 38,
      "outputs": [
        {
          "output_type": "execute_result",
          "data": {
            "text/plain": [
              "('BMP', (16, 20), '1', PIL.BmpImagePlugin.BmpImageFile)"
            ]
          },
          "metadata": {},
          "execution_count": 38
        }
      ]
    },
    {
      "cell_type": "code",
      "source": [
        "import numpy as np\n",
        "image_binary = np.array(image_binary)\n",
        "image_binary.shape, type(image_binary)"
      ],
      "metadata": {
        "id": "6HiJClUWi_hI",
        "outputId": "0decd25f-b8ce-4069-831f-6d63e6cbae5d",
        "colab": {
          "base_uri": "https://localhost:8080/"
        }
      },
      "execution_count": 41,
      "outputs": [
        {
          "output_type": "execute_result",
          "data": {
            "text/plain": [
              "((20, 16), numpy.ndarray)"
            ]
          },
          "metadata": {},
          "execution_count": 41
        }
      ]
    },
    {
      "cell_type": "code",
      "source": [
        "digit_flat = image_binary.reshape(-1)\n",
        "digit_flat.size, digit_flat.shape"
      ],
      "metadata": {
        "id": "dTEhEHZ8jGgf",
        "outputId": "83679e8c-f3b8-4168-b55d-3a221e9da477",
        "colab": {
          "base_uri": "https://localhost:8080/"
        }
      },
      "execution_count": 42,
      "outputs": [
        {
          "output_type": "execute_result",
          "data": {
            "text/plain": [
              "(320, (320,))"
            ]
          },
          "metadata": {},
          "execution_count": 42
        }
      ]
    },
    {
      "cell_type": "code",
      "source": [
        ""
      ],
      "metadata": {
        "id": "jUX70IwgjVJP"
      },
      "execution_count": 42,
      "outputs": []
    }
  ]
}