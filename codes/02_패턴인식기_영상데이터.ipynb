{
  "nbformat": 4,
  "nbformat_minor": 0,
  "metadata": {
    "colab": {
      "name": "02_패턴인식기_영상데이터.ipynb",
      "provenance": [],
      "collapsed_sections": [],
      "mount_file_id": "1h7WOYGWQgR268hdHIFwaSTy2sieq9_6D",
      "authorship_tag": "ABX9TyN8/DR9hC5lpt4ALBrf71cB"
    },
    "kernelspec": {
      "name": "python3",
      "display_name": "Python 3"
    },
    "language_info": {
      "name": "python"
    }
  },
  "cells": [
    {
      "cell_type": "markdown",
      "source": [
        "#이미지 dataset 설정"
      ],
      "metadata": {
        "id": "tJ7pRVyILqg_"
      }
    },
    {
      "cell_type": "code",
      "execution_count": 148,
      "metadata": {
        "colab": {
          "base_uri": "https://localhost:8080/"
        },
        "id": "OMGcqL5q6lwB",
        "outputId": "6f3e68b8-260c-4cd5-8cde-892a1c821eda"
      },
      "outputs": [
        {
          "output_type": "stream",
          "name": "stdout",
          "text": [
            "/content/drive/MyDrive/Colab Notebooks/00.study/10.knou\n",
            "02_패턴인식기_2차원데이터.ipynb  digitimages_binary.zip\n",
            "02_패턴인식기_영상데이터.ipynb\t number_images\n"
          ]
        }
      ],
      "source": [
        "# 작업 경로 설정\n",
        "import os\n",
        "os.chdir(r\"/content/drive/MyDrive/Colab Notebooks/00.study/10.knou\")\n",
        "!pwd\n",
        "!ls"
      ]
    },
    {
      "cell_type": "code",
      "source": [
        "!rm -rf ./number_images\n",
        "!unzip ./digitimages_binary.zip -d ./number_images\n",
        "!ls ./number_images"
      ],
      "metadata": {
        "colab": {
          "base_uri": "https://localhost:8080/"
        },
        "id": "RY4sxpyN99f6",
        "outputId": "c20e9427-63c0-4d28-c1eb-2df7325437fb"
      },
      "execution_count": 149,
      "outputs": [
        {
          "output_type": "stream",
          "name": "stdout",
          "text": [
            "Archive:  ./digitimages_binary.zip\n",
            "  inflating: ./number_images/digit0_1.bmp  \n",
            "  inflating: ./number_images/digit0_2.bmp  \n",
            "  inflating: ./number_images/digit0_3.bmp  \n",
            "  inflating: ./number_images/digit0_4.bmp  \n",
            "  inflating: ./number_images/digit0_5.bmp  \n",
            "  inflating: ./number_images/digit0_6.bmp  \n",
            "  inflating: ./number_images/digit0_7.bmp  \n",
            "  inflating: ./number_images/digit1_1.bmp  \n",
            "  inflating: ./number_images/digit1_2.bmp  \n",
            "  inflating: ./number_images/digit1_3.bmp  \n",
            "  inflating: ./number_images/digit1_4.bmp  \n",
            "  inflating: ./number_images/digit1_5.bmp  \n",
            "  inflating: ./number_images/digit1_6.bmp  \n",
            "  inflating: ./number_images/digit1_7.bmp  \n",
            "  inflating: ./number_images/digit2_1.bmp  \n",
            "  inflating: ./number_images/digit2_2.bmp  \n",
            "  inflating: ./number_images/digit2_3.bmp  \n",
            "  inflating: ./number_images/digit2_4.bmp  \n",
            "  inflating: ./number_images/digit2_5.bmp  \n",
            "  inflating: ./number_images/digit2_6.bmp  \n",
            "  inflating: ./number_images/digit2_7.bmp  \n",
            "  inflating: ./number_images/digit3_1.bmp  \n",
            "  inflating: ./number_images/digit3_2.bmp  \n",
            "  inflating: ./number_images/digit3_3.bmp  \n",
            "  inflating: ./number_images/digit3_4.bmp  \n",
            "  inflating: ./number_images/digit3_5.bmp  \n",
            "  inflating: ./number_images/digit3_6.bmp  \n",
            "  inflating: ./number_images/digit3_7.bmp  \n",
            "  inflating: ./number_images/digit4_1.bmp  \n",
            "  inflating: ./number_images/digit4_2.bmp  \n",
            "  inflating: ./number_images/digit4_3.bmp  \n",
            "  inflating: ./number_images/digit4_4.bmp  \n",
            "  inflating: ./number_images/digit4_5.bmp  \n",
            "  inflating: ./number_images/digit4_6.bmp  \n",
            "  inflating: ./number_images/digit4_7.bmp  \n",
            "  inflating: ./number_images/digit5_1.bmp  \n",
            "  inflating: ./number_images/digit5_2.bmp  \n",
            "  inflating: ./number_images/digit5_3.bmp  \n",
            "  inflating: ./number_images/digit5_4.bmp  \n",
            "  inflating: ./number_images/digit5_5.bmp  \n",
            "  inflating: ./number_images/digit5_6.bmp  \n",
            "  inflating: ./number_images/digit5_7.bmp  \n",
            "  inflating: ./number_images/digit6_1.bmp  \n",
            "  inflating: ./number_images/digit6_2.bmp  \n",
            "  inflating: ./number_images/digit6_3.bmp  \n",
            "  inflating: ./number_images/digit6_4.bmp  \n",
            "  inflating: ./number_images/digit6_5.bmp  \n",
            "  inflating: ./number_images/digit6_6.bmp  \n",
            "  inflating: ./number_images/digit6_7.bmp  \n",
            "  inflating: ./number_images/digit7_1.bmp  \n",
            "  inflating: ./number_images/digit7_2.bmp  \n",
            "  inflating: ./number_images/digit7_3.bmp  \n",
            "  inflating: ./number_images/digit7_4.bmp  \n",
            "  inflating: ./number_images/digit7_5.bmp  \n",
            "  inflating: ./number_images/digit7_6.bmp  \n",
            "  inflating: ./number_images/digit7_7.bmp  \n",
            "  inflating: ./number_images/digit8_1.bmp  \n",
            "  inflating: ./number_images/digit8_2.bmp  \n",
            "  inflating: ./number_images/digit8_3.bmp  \n",
            "  inflating: ./number_images/digit8_4.bmp  \n",
            "  inflating: ./number_images/digit8_5.bmp  \n",
            "  inflating: ./number_images/digit8_6.bmp  \n",
            "  inflating: ./number_images/digit8_7.bmp  \n",
            "  inflating: ./number_images/digit9_1.bmp  \n",
            "  inflating: ./number_images/digit9_2.bmp  \n",
            "  inflating: ./number_images/digit9_3.bmp  \n",
            "  inflating: ./number_images/digit9_4.bmp  \n",
            "  inflating: ./number_images/digit9_5.bmp  \n",
            "  inflating: ./number_images/digit9_6.bmp  \n",
            "  inflating: ./number_images/digit9_7.bmp  \n",
            "digit0_1.bmp  digit2_1.bmp  digit4_1.bmp  digit6_1.bmp\tdigit8_1.bmp\n",
            "digit0_2.bmp  digit2_2.bmp  digit4_2.bmp  digit6_2.bmp\tdigit8_2.bmp\n",
            "digit0_3.bmp  digit2_3.bmp  digit4_3.bmp  digit6_3.bmp\tdigit8_3.bmp\n",
            "digit0_4.bmp  digit2_4.bmp  digit4_4.bmp  digit6_4.bmp\tdigit8_4.bmp\n",
            "digit0_5.bmp  digit2_5.bmp  digit4_5.bmp  digit6_5.bmp\tdigit8_5.bmp\n",
            "digit0_6.bmp  digit2_6.bmp  digit4_6.bmp  digit6_6.bmp\tdigit8_6.bmp\n",
            "digit0_7.bmp  digit2_7.bmp  digit4_7.bmp  digit6_7.bmp\tdigit8_7.bmp\n",
            "digit1_1.bmp  digit3_1.bmp  digit5_1.bmp  digit7_1.bmp\tdigit9_1.bmp\n",
            "digit1_2.bmp  digit3_2.bmp  digit5_2.bmp  digit7_2.bmp\tdigit9_2.bmp\n",
            "digit1_3.bmp  digit3_3.bmp  digit5_3.bmp  digit7_3.bmp\tdigit9_3.bmp\n",
            "digit1_4.bmp  digit3_4.bmp  digit5_4.bmp  digit7_4.bmp\tdigit9_4.bmp\n",
            "digit1_5.bmp  digit3_5.bmp  digit5_5.bmp  digit7_5.bmp\tdigit9_5.bmp\n",
            "digit1_6.bmp  digit3_6.bmp  digit5_6.bmp  digit7_6.bmp\tdigit9_6.bmp\n",
            "digit1_7.bmp  digit3_7.bmp  digit5_7.bmp  digit7_7.bmp\tdigit9_7.bmp\n"
          ]
        }
      ]
    },
    {
      "cell_type": "markdown",
      "source": [
        "# 이미지 데이터 행렬 변환"
      ],
      "metadata": {
        "id": "wX-T1xIPL7SY"
      }
    },
    {
      "cell_type": "code",
      "source": [
        "import cv2 as cv\n",
        "cv.__version__"
      ],
      "metadata": {
        "colab": {
          "base_uri": "https://localhost:8080/",
          "height": 35
        },
        "id": "zHqGIuE9-LXW",
        "outputId": "777be8f3-f845-4a67-857c-06a8d8e53670"
      },
      "execution_count": 150,
      "outputs": [
        {
          "output_type": "execute_result",
          "data": {
            "text/plain": [
              "'4.1.2'"
            ],
            "application/vnd.google.colaboratory.intrinsic+json": {
              "type": "string"
            }
          },
          "metadata": {},
          "execution_count": 150
        }
      ]
    },
    {
      "cell_type": "markdown",
      "source": [
        "## 이미지 한개 이진화 "
      ],
      "metadata": {
        "id": "X_AEoXOkb0LH"
      }
    },
    {
      "cell_type": "markdown",
      "source": [
        "### opencv 사용 방식 - 연습용"
      ],
      "metadata": {
        "id": "OpLmybR0eSYl"
      }
    },
    {
      "cell_type": "code",
      "source": [
        "image_unchange = cv.imread(\"./number_images/digit8_1.bmp\", cv.IMREAD_UNCHANGED)\n",
        "image_unchange.size, image_unchange.shape, type(image_unchange)\n",
        "import matplotlib.pyplot as plt\n",
        "plt.imshow(image_unchange, cmap='gray')"
      ],
      "metadata": {
        "colab": {
          "base_uri": "https://localhost:8080/",
          "height": 283
        },
        "id": "u4zbcGmBhqv4",
        "outputId": "6970ba4e-6a2d-4270-e439-3a0248368f3d"
      },
      "execution_count": 151,
      "outputs": [
        {
          "output_type": "execute_result",
          "data": {
            "text/plain": [
              "<matplotlib.image.AxesImage at 0x7fb20d6c77d0>"
            ]
          },
          "metadata": {},
          "execution_count": 151
        },
        {
          "output_type": "display_data",
          "data": {
            "text/plain": [
              "<Figure size 432x288 with 1 Axes>"
            ],
            "image/png": "[encoded data removed]"
          },
          "metadata": {
            "needs_background": "light"
          }
        }
      ]
    },
    {
      "cell_type": "code",
      "source": [
        "image_bgr = cv.imread(\"./number_images/digit8_1.bmp\")\n",
        "image_bgr.size, image_bgr.shape, type(image_bgr)"
      ],
      "metadata": {
        "colab": {
          "base_uri": "https://localhost:8080/"
        },
        "id": "6i8Hb_3N_tYk",
        "outputId": "c460c8dc-7b64-4f6f-a604-25cd553b855d"
      },
      "execution_count": 152,
      "outputs": [
        {
          "output_type": "execute_result",
          "data": {
            "text/plain": [
              "(960, (20, 16, 3), numpy.ndarray)"
            ]
          },
          "metadata": {},
          "execution_count": 152
        }
      ]
    },
    {
      "cell_type": "code",
      "source": [
        "dim = (16,20)  # (width, height)\n",
        "image_bgr = cv.resize(image_bgr, dim)\n",
        "image_gray = cv.cvtColor(image_bgr, cv.COLOR_BGR2GRAY)\n",
        "image_gray.size, image_gray.shape, type(image_gray)"
      ],
      "metadata": {
        "colab": {
          "base_uri": "https://localhost:8080/"
        },
        "id": "TdxsHMaGLEcC",
        "outputId": "b6e38e3b-76b1-4e1b-86b7-529ed69d0a13"
      },
      "execution_count": 153,
      "outputs": [
        {
          "output_type": "execute_result",
          "data": {
            "text/plain": [
              "(320, (20, 16), numpy.ndarray)"
            ]
          },
          "metadata": {},
          "execution_count": 153
        }
      ]
    },
    {
      "cell_type": "code",
      "source": [
        "ret, image_binary = cv.threshold (image_gray, 127, 255, cv.THRESH_BINARY_INV)\n",
        "image_binary.size, image_binary.shape, type(image_binary)"
      ],
      "metadata": {
        "colab": {
          "base_uri": "https://localhost:8080/"
        },
        "id": "TXOo64ANNZ_i",
        "outputId": "09c954c8-4b67-45d5-9339-ae285b1519a0"
      },
      "execution_count": 154,
      "outputs": [
        {
          "output_type": "execute_result",
          "data": {
            "text/plain": [
              "(320, (20, 16), numpy.ndarray)"
            ]
          },
          "metadata": {},
          "execution_count": 154
        }
      ]
    },
    {
      "cell_type": "code",
      "source": [
        "import matplotlib.pyplot as plt\n",
        "fig, axs = plt.subplots(1, 3, figsize=(10, 3))\n",
        "plt.axis(\"off\")\n",
        "axs[0].imshow(image_bgr)\n",
        "axs[1].imshow(image_gray, cmap='gray')\n",
        "axs[2].imshow(image_binary, cmap=plt.cm.binary)"
      ],
      "metadata": {
        "colab": {
          "base_uri": "https://localhost:8080/",
          "height": 229
        },
        "id": "ZDOJZNiTSruz",
        "outputId": "31ffebe5-7169-4ceb-c1d4-c6bb5244e8f3"
      },
      "execution_count": 155,
      "outputs": [
        {
          "output_type": "execute_result",
          "data": {
            "text/plain": [
              "<matplotlib.image.AxesImage at 0x7fb20d6b9c90>"
            ]
          },
          "metadata": {},
          "execution_count": 155
        },
        {
          "output_type": "display_data",
          "data": {
            "text/plain": [
              "<Figure size 720x216 with 3 Axes>"
            ],
            "image/png": "[encoded data removed]"
          },
          "metadata": {
            "needs_background": "light"
          }
        }
      ]
    },
    {
      "cell_type": "code",
      "source": [
        "digit_flat = image_binary.reshape(-1)\n",
        "digit_flat.size, digit_flat.shape"
      ],
      "metadata": {
        "colab": {
          "base_uri": "https://localhost:8080/"
        },
        "id": "oocxwAfYewYX",
        "outputId": "4d0b15e8-6e78-44a0-87da-9df587b20476"
      },
      "execution_count": 156,
      "outputs": [
        {
          "output_type": "execute_result",
          "data": {
            "text/plain": [
              "(320, (320,))"
            ]
          },
          "metadata": {},
          "execution_count": 156
        }
      ]
    },
    {
      "cell_type": "markdown",
      "source": [
        "### Pillow 사용 방식"
      ],
      "metadata": {
        "id": "Te-HmuHJebDQ"
      }
    },
    {
      "cell_type": "code",
      "source": [
        "from PIL import Image \n",
        "image_binary = Image.open(\"./number_images/digit8_1.bmp\") # open colour image\n",
        "image_binary.format, image_binary.size, image_binary.mode,  type(image_binary)"
      ],
      "metadata": {
        "colab": {
          "base_uri": "https://localhost:8080/"
        },
        "id": "MsQYHQ5mS8UV",
        "outputId": "6d59ebbd-248e-4331-91ed-3a4a3ed5ea3b"
      },
      "execution_count": 157,
      "outputs": [
        {
          "output_type": "execute_result",
          "data": {
            "text/plain": [
              "('BMP', (16, 20), '1', PIL.BmpImagePlugin.BmpImageFile)"
            ]
          },
          "metadata": {},
          "execution_count": 157
        }
      ]
    },
    {
      "cell_type": "code",
      "source": [
        "import numpy as np\n",
        "image_binary = np.array(image_binary)\n",
        "image_binary.shape, type(image_binary)"
      ],
      "metadata": {
        "colab": {
          "base_uri": "https://localhost:8080/"
        },
        "id": "6HiJClUWi_hI",
        "outputId": "f29ece30-5c1c-4cd3-8d42-8db7e76b8821"
      },
      "execution_count": 158,
      "outputs": [
        {
          "output_type": "execute_result",
          "data": {
            "text/plain": [
              "((20, 16), numpy.ndarray)"
            ]
          },
          "metadata": {},
          "execution_count": 158
        }
      ]
    },
    {
      "cell_type": "code",
      "source": [
        "digit_flat = image_binary.reshape(1,-1)\n",
        "digit_flat.size, digit_flat.shape, #digit_flat"
      ],
      "metadata": {
        "colab": {
          "base_uri": "https://localhost:8080/"
        },
        "id": "dTEhEHZ8jGgf",
        "outputId": "a5f782cb-ad87-4f90-8410-c97138c31d9c"
      },
      "execution_count": 159,
      "outputs": [
        {
          "output_type": "execute_result",
          "data": {
            "text/plain": [
              "(320, (1, 320))"
            ]
          },
          "metadata": {},
          "execution_count": 159
        }
      ]
    },
    {
      "cell_type": "code",
      "source": [
        "import numpy as np    \n",
        "flat_size = digit_flat.size\n",
        "arr = np.empty([0,flat_size], int)\n",
        "print(\"Empty array:\")\n",
        "arr, arr.shape, type(arr)"
      ],
      "metadata": {
        "colab": {
          "base_uri": "https://localhost:8080/"
        },
        "id": "n9C0oosSRFsK",
        "outputId": "a87b4211-daa3-4e7c-8f2e-94f173765eca"
      },
      "execution_count": 160,
      "outputs": [
        {
          "output_type": "stream",
          "name": "stdout",
          "text": [
            "Empty array:\n"
          ]
        },
        {
          "output_type": "execute_result",
          "data": {
            "text/plain": [
              "(array([], shape=(0, 320), dtype=int64), (0, 320), numpy.ndarray)"
            ]
          },
          "metadata": {},
          "execution_count": 160
        }
      ]
    },
    {
      "cell_type": "code",
      "source": [
        "arr = np.append(arr, digit_flat, axis=0)\n",
        "arr, arr.shape "
      ],
      "metadata": {
        "colab": {
          "base_uri": "https://localhost:8080/"
        },
        "id": "sSQbkX-MRJ6M",
        "outputId": "64400011-fe76-4900-d7b3-6979c73c464e"
      },
      "execution_count": 161,
      "outputs": [
        {
          "output_type": "execute_result",
          "data": {
            "text/plain": [
              "(array([[1, 1, 1, 1, 1, 0, 0, 0, 0, 0, 1, 1, 1, 1, 1, 1, 1, 1, 1, 0, 0, 0,\n",
              "         0, 0, 0, 0, 0, 1, 1, 1, 1, 1, 1, 1, 1, 0, 0, 1, 1, 1, 1, 0, 0, 0,\n",
              "         1, 1, 1, 1, 1, 1, 0, 0, 1, 1, 1, 1, 1, 1, 0, 0, 1, 1, 1, 1, 1, 1,\n",
              "         0, 0, 1, 1, 1, 1, 1, 1, 0, 0, 1, 1, 1, 1, 1, 1, 0, 0, 1, 1, 1, 1,\n",
              "         1, 1, 0, 0, 1, 1, 1, 1, 1, 1, 1, 0, 1, 1, 1, 1, 1, 0, 0, 1, 1, 1,\n",
              "         1, 1, 1, 1, 1, 0, 0, 1, 1, 1, 1, 0, 0, 1, 1, 1, 1, 1, 1, 1, 1, 1,\n",
              "         0, 0, 0, 0, 0, 0, 1, 1, 1, 1, 1, 1, 1, 1, 1, 1, 0, 0, 0, 0, 0, 0,\n",
              "         1, 1, 1, 1, 1, 1, 1, 1, 1, 0, 0, 0, 1, 1, 0, 0, 0, 1, 1, 1, 1, 1,\n",
              "         1, 1, 1, 0, 0, 1, 1, 1, 1, 0, 0, 0, 1, 1, 1, 1, 1, 1, 0, 0, 1, 1,\n",
              "         1, 1, 1, 1, 0, 0, 1, 1, 1, 1, 1, 1, 0, 1, 1, 1, 1, 1, 1, 1, 1, 0,\n",
              "         1, 1, 1, 1, 1, 1, 0, 1, 1, 1, 1, 1, 1, 1, 1, 0, 0, 1, 1, 1, 1, 1,\n",
              "         0, 1, 1, 1, 1, 1, 1, 1, 1, 0, 0, 1, 1, 1, 1, 1, 0, 0, 1, 1, 1, 1,\n",
              "         1, 1, 0, 0, 1, 1, 1, 1, 1, 1, 0, 0, 0, 1, 1, 1, 0, 0, 0, 0, 1, 1,\n",
              "         1, 1, 1, 1, 1, 0, 0, 0, 0, 0, 0, 0, 0, 1, 1, 1, 1, 1, 1, 1, 1, 1,\n",
              "         0, 0, 0, 0, 0, 1, 1, 1, 1, 1, 1, 1]]), (1, 320))"
            ]
          },
          "metadata": {},
          "execution_count": 161
        }
      ]
    },
    {
      "cell_type": "markdown",
      "source": [
        "## 이미지 여러개 이진화 및 행렬화"
      ],
      "metadata": {
        "id": "xUsQohULtb75"
      }
    },
    {
      "cell_type": "code",
      "source": [
        "from PIL import Image \n",
        "import numpy as np\n",
        "train_feature, train_label_list = np.empty([0,flat_size]), list()\n",
        "test_feature, test_label_list = np.empty([0,flat_size]), list()\n",
        "for digit in range(10):\n",
        "  for count in range(1,8):\n",
        "    image_path = \"./number_images/digit{}_{}.bmp\".format(digit, count)\n",
        "    image_binary = Image.open(image_path) # open colour image\n",
        "    image_binary = np.array(image_binary)\n",
        "    digit_flat = image_binary.reshape(1,-1)\n",
        "    # print(digit_flat.shape)\n",
        "    if count <= 2:\n",
        "      test_feature = np.append(test_feature,digit_flat, axis=0)\n",
        "      test_label_list.append(digit)\n",
        "    else :\n",
        "      train_feature = np.append(train_feature,digit_flat, axis=0)\n",
        "      train_label_list.append(digit)\n",
        "\n",
        "test_label = np.array(test_label_list).reshape(-1, 1)\n",
        "train_label = np.array(train_label_list).reshape(-1, 1)"
      ],
      "metadata": {
        "id": "jUX70IwgjVJP"
      },
      "execution_count": 182,
      "outputs": []
    },
    {
      "cell_type": "code",
      "source": [
        "train_feature.shape, train_label.shape, test_feature.shape, test_label.shape"
      ],
      "metadata": {
        "colab": {
          "base_uri": "https://localhost:8080/"
        },
        "id": "UlMfprbzwD51",
        "outputId": "d96b1762-ea07-40c6-da76-7ff1693476b8"
      },
      "execution_count": 183,
      "outputs": [
        {
          "output_type": "execute_result",
          "data": {
            "text/plain": [
              "((50, 320), (50, 1), (20, 320), (20, 1))"
            ]
          },
          "metadata": {},
          "execution_count": 183
        }
      ]
    },
    {
      "cell_type": "markdown",
      "source": [
        "# 결정경계 : 각 숫자마다 열에 평균 벡터 구하기"
      ],
      "metadata": {
        "id": "_xsRq8wSa2G3"
      }
    },
    {
      "cell_type": "markdown",
      "source": [
        "## 평균 구해 표시 - 연습"
      ],
      "metadata": {
        "id": "saRgR1FGbFTP"
      }
    },
    {
      "cell_type": "code",
      "source": [
        "train_feature[11], train_label[0:5], #test_feature[17], test_label[17]"
      ],
      "metadata": {
        "colab": {
          "base_uri": "https://localhost:8080/"
        },
        "id": "jcr4xYrpMc-b",
        "outputId": "2391dd0e-c4ac-431b-e24f-0df3ceffab27"
      },
      "execution_count": 164,
      "outputs": [
        {
          "output_type": "execute_result",
          "data": {
            "text/plain": [
              "(array([1., 1., 1., 0., 0., 0., 0., 0., 0., 0., 0., 1., 1., 1., 1., 1., 1.,\n",
              "        1., 0., 0., 0., 0., 0., 0., 0., 0., 0., 0., 0., 1., 1., 1., 0., 0.,\n",
              "        0., 0., 1., 1., 1., 1., 1., 1., 0., 0., 0., 0., 1., 1., 0., 0., 0.,\n",
              "        1., 1., 1., 1., 1., 1., 1., 1., 0., 0., 0., 1., 1., 0., 0., 0., 1.,\n",
              "        1., 1., 1., 1., 1., 1., 1., 1., 0., 0., 1., 1., 0., 0., 0., 1., 1.,\n",
              "        1., 1., 1., 1., 1., 1., 0., 0., 0., 1., 1., 0., 0., 1., 1., 1., 1.,\n",
              "        1., 1., 1., 1., 1., 0., 0., 0., 1., 1., 1., 1., 1., 1., 1., 1., 1.,\n",
              "        1., 1., 1., 0., 0., 0., 0., 1., 1., 1., 1., 1., 1., 1., 1., 1., 1.,\n",
              "        1., 1., 0., 0., 0., 1., 1., 1., 1., 1., 1., 1., 1., 1., 1., 1., 0.,\n",
              "        0., 0., 0., 0., 1., 1., 1., 1., 1., 1., 1., 1., 1., 1., 0., 0., 0.,\n",
              "        0., 0., 1., 1., 1., 1., 1., 1., 1., 1., 1., 1., 0., 0., 0., 0., 1.,\n",
              "        1., 1., 1., 1., 1., 1., 1., 1., 1., 0., 0., 0., 0., 0., 1., 1., 1.,\n",
              "        1., 1., 1., 1., 1., 1., 1., 0., 0., 0., 0., 1., 1., 1., 1., 1., 1.,\n",
              "        1., 1., 1., 1., 1., 0., 0., 0., 0., 1., 1., 1., 1., 1., 1., 1., 0.,\n",
              "        0., 1., 1., 0., 0., 0., 0., 0., 1., 1., 1., 1., 1., 1., 1., 0., 0.,\n",
              "        0., 1., 0., 0., 0., 0., 0., 0., 0., 1., 1., 1., 1., 0., 0., 0., 0.,\n",
              "        0., 0., 0., 0., 1., 1., 0., 0., 0., 0., 0., 0., 0., 0., 0., 1., 0.,\n",
              "        0., 0., 1., 1., 1., 1., 0., 0., 0., 0., 0., 0., 0., 1., 1., 0., 0.,\n",
              "        0., 1., 1., 1., 1., 1., 1., 0., 0., 0., 0., 1., 1., 1.]), array([[0],\n",
              "        [0],\n",
              "        [0],\n",
              "        [0],\n",
              "        [0]]))"
            ]
          },
          "metadata": {},
          "execution_count": 164
        }
      ]
    },
    {
      "cell_type": "code",
      "source": [
        "indices = np.where(train_label == 2)  # 숫자 2\n",
        "indices, type(indices), type(indices[0]), type(indices[0].tolist()), indices[0].tolist()"
      ],
      "metadata": {
        "colab": {
          "base_uri": "https://localhost:8080/"
        },
        "id": "b9F0CvmYW_xm",
        "outputId": "8a48e3c6-1eb3-44f8-a8ca-795c2f90c613"
      },
      "execution_count": 165,
      "outputs": [
        {
          "output_type": "execute_result",
          "data": {
            "text/plain": [
              "((array([10, 11, 12, 13, 14]), array([0, 0, 0, 0, 0])),\n",
              " tuple,\n",
              " numpy.ndarray,\n",
              " list,\n",
              " [10, 11, 12, 13, 14])"
            ]
          },
          "metadata": {},
          "execution_count": 165
        }
      ]
    },
    {
      "cell_type": "code",
      "source": [
        "train_mean = np.mean(train_feature[indices[0].tolist()], axis=0)  # 행 단위 평균\n",
        "train_mean.shape, train_mean"
      ],
      "metadata": {
        "colab": {
          "base_uri": "https://localhost:8080/"
        },
        "id": "umrWcHJMTk8m",
        "outputId": "a79e8375-ad73-40ca-832f-b7506724c074"
      },
      "execution_count": 166,
      "outputs": [
        {
          "output_type": "execute_result",
          "data": {
            "text/plain": [
              "((320,),\n",
              " array([1. , 1. , 1. , 0.8, 0.8, 0.4, 0.4, 0.4, 0.4, 0.4, 0.6, 1. , 1. ,\n",
              "        1. , 1. , 1. , 1. , 1. , 0.8, 0.2, 0.2, 0.2, 0.2, 0.2, 0.2, 0. ,\n",
              "        0. , 0.2, 0.4, 0.8, 1. , 1. , 0.8, 0.8, 0.2, 0.2, 0.4, 0.6, 0.6,\n",
              "        0.4, 0.2, 0.2, 0. , 0. , 0.2, 0.4, 0.8, 0.8, 0.8, 0.4, 0.2, 0.6,\n",
              "        0.6, 1. , 0.8, 0.8, 0.8, 0.8, 0.4, 0.2, 0.2, 0.2, 0.8, 0.8, 0.6,\n",
              "        0.4, 0.6, 0.8, 1. , 1. , 1. , 1. , 1. , 1. , 0.8, 0.4, 0.2, 0.4,\n",
              "        0.8, 0.8, 0.6, 0.6, 0.6, 0.8, 1. , 1. , 1. , 1. , 1. , 1. , 1. ,\n",
              "        0.2, 0.2, 0.2, 0.6, 0.8, 0.6, 0.6, 0.8, 1. , 1. , 1. , 1. , 1. ,\n",
              "        1. , 1. , 1. , 0.2, 0.2, 0.2, 0.4, 0.8, 1. , 1. , 1. , 1. , 1. ,\n",
              "        1. , 1. , 1. , 1. , 1. , 0.6, 0.2, 0.2, 0.2, 0.8, 1. , 1. , 1. ,\n",
              "        1. , 1. , 1. , 1. , 1. , 1. , 1. , 1. , 0.4, 0.2, 0. , 0.2, 1. ,\n",
              "        1. , 1. , 1. , 1. , 1. , 1. , 1. , 1. , 1. , 0.8, 0.4, 0.2, 0.2,\n",
              "        0. , 0.6, 1. , 1. , 1. , 1. , 1. , 1. , 1. , 1. , 1. , 0.8, 0.4,\n",
              "        0.2, 0. , 0. , 0.6, 1. , 1. , 1. , 1. , 1. , 1. , 1. , 1. , 1. ,\n",
              "        0.8, 0.2, 0.2, 0. , 0.2, 0.4, 1. , 1. , 1. , 1. , 1. , 1. , 0.8,\n",
              "        0.8, 0.6, 0.4, 0.2, 0. , 0. , 0.4, 0.6, 1. , 1. , 1. , 1. , 1. ,\n",
              "        1. , 1. , 0.8, 0.6, 0.4, 0.4, 0.2, 0.4, 0.6, 1. , 1. , 1. , 1. ,\n",
              "        1. , 1. , 1. , 1. , 0.8, 0.6, 0.4, 0.4, 0.2, 0.4, 0.6, 1. , 1. ,\n",
              "        1. , 1. , 1. , 0.8, 0.8, 1. , 1. , 0.6, 0.4, 0. , 0.2, 0.2, 0.6,\n",
              "        1. , 1. , 1. , 1. , 1. , 1. , 0.8, 0.8, 0.8, 1. , 0.2, 0. , 0. ,\n",
              "        0.2, 0.4, 0.8, 0.8, 1. , 1. , 1. , 1. , 0.8, 0.8, 0.8, 0.8, 0.6,\n",
              "        0. , 0. , 0.2, 0.4, 0.4, 0.2, 0.2, 0.2, 0.2, 0.2, 0.2, 0.4, 0.4,\n",
              "        0.6, 1. , 0.4, 0. , 0. , 0.2, 0.2, 0.2, 0.2, 0. , 0. , 0.2, 0.2,\n",
              "        0.4, 0.4, 0.4, 0.8, 1. , 0.4, 0.2, 0.2, 0.4, 0.4, 0.4, 0.4, 0.4,\n",
              "        0.4, 0.2, 0.2, 0.4, 0.4, 0.6, 0.8, 1. ]))"
            ]
          },
          "metadata": {},
          "execution_count": 166
        }
      ]
    },
    {
      "cell_type": "code",
      "source": [
        "plt.imshow(train_mean.reshape(20,-1), cmap='gray')"
      ],
      "metadata": {
        "colab": {
          "base_uri": "https://localhost:8080/",
          "height": 283
        },
        "id": "qYWCx_w-Wha-",
        "outputId": "c7f065e7-a230-4d53-a7d0-cc4d8cd1a271"
      },
      "execution_count": 167,
      "outputs": [
        {
          "output_type": "execute_result",
          "data": {
            "text/plain": [
              "<matplotlib.image.AxesImage at 0x7fb20d5eb510>"
            ]
          },
          "metadata": {},
          "execution_count": 167
        },
        {
          "output_type": "display_data",
          "data": {
            "text/plain": [
              "<Figure size 432x288 with 1 Axes>"
            ],
            "image/png": "[encoded data removed]"
          },
          "metadata": {
            "needs_background": "light"
          }
        }
      ]
    },
    {
      "cell_type": "markdown",
      "source": [
        "## 각 숫자 평균 벡터 구해 표시 "
      ],
      "metadata": {
        "id": "QCiuhEK4dFDL"
      }
    },
    {
      "cell_type": "code",
      "source": [
        "train_means = np.empty([0,flat_size])\n",
        "for number in range(10):\n",
        "  indices = np.where(train_label == number)[0].tolist()\n",
        "  train_mean = np.mean(train_feature[indices], axis=0).reshape(1, -1)\n",
        "  train_means = np.append(train_means, train_mean, axis=0)\n",
        "train_means.shape"
      ],
      "metadata": {
        "colab": {
          "base_uri": "https://localhost:8080/"
        },
        "id": "2TAgsZgUYH6d",
        "outputId": "0f4dbece-4a01-4f77-edbc-3cb9f4ed27af"
      },
      "execution_count": 184,
      "outputs": [
        {
          "output_type": "execute_result",
          "data": {
            "text/plain": [
              "(10, 320)"
            ]
          },
          "metadata": {},
          "execution_count": 184
        }
      ]
    },
    {
      "cell_type": "code",
      "source": [
        "fig, axs = plt.subplots(1, 10, figsize=(15, 5))\n",
        "for idx in range(10):\n",
        "    axs[idx].imshow(train_means[idx].reshape(20,-1), cmap='gray')"
      ],
      "metadata": {
        "colab": {
          "base_uri": "https://localhost:8080/",
          "height": 138
        },
        "id": "yfy6E8R4ebiX",
        "outputId": "59c85d0a-bf2a-42b5-f5db-bb87c2080567"
      },
      "execution_count": 186,
      "outputs": [
        {
          "output_type": "display_data",
          "data": {
            "text/plain": [
              "<Figure size 1080x360 with 10 Axes>"
            ],
            "image/png": "[encoded data removed]"
          },
          "metadata": {
            "needs_background": "light"
          }
        }
      ]
    },
    {
      "cell_type": "markdown",
      "source": [
        "# 결정경계"
      ],
      "metadata": {
        "id": "9yqmRMLMiqIp"
      }
    },
    {
      "cell_type": "markdown",
      "source": [
        "## 그래프로 판단"
      ],
      "metadata": {
        "id": "_lq34C9PjyS7"
      }
    },
    {
      "cell_type": "code",
      "source": [
        ""
      ],
      "metadata": {
        "id": "TgmcvnzqgM-x"
      },
      "execution_count": null,
      "outputs": []
    },
    {
      "cell_type": "markdown",
      "source": [
        "## 함수로 판단\n",
        "$\n",
        "y(x) = argmin_i {d(x, m_i)}\n",
        "$\n"
      ],
      "metadata": {
        "id": "t_IpUCx8j5TX"
      }
    },
    {
      "cell_type": "code",
      "source": [
        ""
      ],
      "metadata": {
        "id": "583AW2Y7kJtZ"
      },
      "execution_count": null,
      "outputs": []
    }
  ]
}