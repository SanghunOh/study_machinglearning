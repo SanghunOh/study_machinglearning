{
  "nbformat": 4,
  "nbformat_minor": 0,
  "metadata": {
    "colab": {
      "name": "8-1. PCA and LDA.ipynb의 사본",
      "provenance": [],
      "collapsed_sections": [
        "EVK5GAXuz8vL"
      ]
    },
    "kernelspec": {
      "name": "python3",
      "display_name": "Python 3"
    },
    "language_info": {
      "name": "python"
    }
  },
  "cells": [
    {
      "cell_type": "markdown",
      "source": [
        "##### 데이터생성 예제"
      ],
      "metadata": {
        "id": "EVK5GAXuz8vL"
      }
    },
    {
      "cell_type": "code",
      "execution_count": null,
      "metadata": {
        "id": "V_U4wexqnJsj"
      },
      "outputs": [],
      "source": [
        "# import numpy as np\n",
        "# import numpy.matlib\n",
        "\n",
        "# N = 100\n",
        "# m1 = np.array([0, 0])\n",
        "# s1 = np.array([[9,0],[0,1]])\n",
        "# m2 = np.array([0,4])\n",
        "# s2 = np.array([[9,0],[0,1]])\n",
        "\n",
        "# X1 = np.random.randn(N,2) @ np.sqrt(s1) + np.matlib.repmat(m1, N, 1)\n",
        "# X2 = np.random.randn(N,2) @ np.sqrt(s2) + np.matlib.repmat(m2, N, 1)\n",
        "\n",
        "# X1.shape, X2.shape"
      ]
    },
    {
      "cell_type": "markdown",
      "source": [
        "##### 데이터생성 (load matlab data)"
      ],
      "metadata": {
        "id": "WumeLl7v0B6I"
      }
    },
    {
      "cell_type": "code",
      "source": [
        "import numpy as np\n",
        "import numpy.matlib"
      ],
      "metadata": {
        "id": "ICO-7c6P7rH1"
      },
      "execution_count": null,
      "outputs": []
    },
    {
      "cell_type": "code",
      "source": [
        "from google.colab import drive\n",
        "drive.mount('/content/gdrive', force_remount=True)\n",
        "import os\n",
        "os.chdir(r\"/content/gdrive/MyDrive/Colab Notebooks/knou_study/matlab data\")"
      ],
      "metadata": {
        "id": "Hs2snVSwzx7F"
      },
      "execution_count": null,
      "outputs": []
    },
    {
      "cell_type": "code",
      "source": [
        "from numpy import genfromtxt\n",
        "X1 = genfromtxt('X1.csv', delimiter=',') # skip_header = 1 컬럼값 저장되어있으면 삭제\n",
        "X2 = genfromtxt('X2.csv', delimiter=',')\n",
        "\n",
        "X1.shape, X2.shape"
      ],
      "metadata": {
        "colab": {
          "base_uri": "https://localhost:8080/"
        },
        "id": "elx51haH1g0e",
        "outputId": "833d891c-594a-4b63-d083-93b9e082794a"
      },
      "execution_count": null,
      "outputs": [
        {
          "output_type": "execute_result",
          "data": {
            "text/plain": [
              "((100, 2), (100, 2))"
            ]
          },
          "metadata": {},
          "execution_count": 5
        }
      ]
    },
    {
      "cell_type": "markdown",
      "source": [
        "##### 데이터 산점도 확인"
      ],
      "metadata": {
        "id": "1WmjJ0T61b2q"
      }
    },
    {
      "cell_type": "code",
      "source": [
        "import matplotlib.pyplot as plt\n",
        "\n",
        "plt.scatter(X1[:,0], X1[:,1], marker='d', color ='r', s = 10, label = 'Class1')\n",
        "plt.scatter(X2[:,0], X2[:,1], marker='o', color ='g', s = 10, label = 'Class2')\n",
        "plt.axis([-10, 10, -4, 8])\n",
        "plt.legend()\n",
        "plt.show()"
      ],
      "metadata": {
        "colab": {
          "base_uri": "https://localhost:8080/",
          "height": 269
        },
        "id": "iGbVMCbfp5km",
        "outputId": "462c0b24-68cf-4bda-9125-e6fd99c05fb3"
      },
      "execution_count": null,
      "outputs": [
        {
          "output_type": "display_data",
          "data": {
            "text/plain": [
              "<Figure size 432x288 with 1 Axes>"
            ],
            "image/png": "[encoded data removed]"
          },
          "metadata": {
            "needs_background": "light"
          }
        }
      ]
    },
    {
      "cell_type": "markdown",
      "source": [
        "##### PCA 분석"
      ],
      "metadata": {
        "id": "R32iaHB-sLMk"
      }
    },
    {
      "cell_type": "code",
      "source": [
        "X = np.vstack([X1, X2])\n",
        "M = np.mean(X, axis=0)\n",
        "S = np.cov(X[:,0].reshape(-1), X[:,1].reshape(-1))\n",
        "\n",
        "W, V = np.linalg.eig(S) \n",
        "D = np.diag(np.diag(S)) #실제로는 W값이 octave와 조금다름 대각행렬형태로 출력\n",
        " \n",
        "S, V, W, D"
      ],
      "metadata": {
        "colab": {
          "base_uri": "https://localhost:8080/"
        },
        "id": "5uHx6ezgsJ60",
        "outputId": "115af65a-80d9-41c8-d780-2fc1f7cf897a"
      },
      "execution_count": null,
      "outputs": [
        {
          "output_type": "execute_result",
          "data": {
            "text/plain": [
              "(array([[7.64814823, 0.35780621],\n",
              "        [0.35780621, 4.84862945]]), array([[ 0.9921814 , -0.12480414],\n",
              "        [ 0.12480414,  0.9921814 ]]), array([7.69315582, 4.80362186]), array([[7.64814823, 0.        ],\n",
              "        [0.        , 4.84862945]]))"
            ]
          },
          "metadata": {},
          "execution_count": 7
        }
      ]
    },
    {
      "cell_type": "code",
      "source": [
        "#octave V\n",
        "# 0.1248\t-0.99218 \n",
        "#-0.99218\t-0.1248\n",
        "#octave D\n",
        "# 4.8036\t0\n",
        "# 0     \t7.6932\n",
        "w1 = -V[:,0] #고유백터행렬에 (-) 하여 octave와 매칭한다.\n",
        "w1.shape, w1"
      ],
      "metadata": {
        "colab": {
          "base_uri": "https://localhost:8080/"
        },
        "id": "s13IPwTqGnP8",
        "outputId": "e2e51aa7-08f7-4409-dbda-a0cbde5e8f71"
      },
      "execution_count": null,
      "outputs": [
        {
          "output_type": "execute_result",
          "data": {
            "text/plain": [
              "((2,), array([-0.9921814 , -0.12480414]))"
            ]
          },
          "metadata": {},
          "execution_count": 8
        }
      ]
    },
    {
      "cell_type": "markdown",
      "source": [
        "주성분벡터 그림\n",
        "\n",
        "대각행렬의 요소만큼 곱해서줘서 길이를 늘리고 평균을 더해 위치보정"
      ],
      "metadata": {
        "id": "IOxKO0VHLp9t"
      }
    },
    {
      "cell_type": "code",
      "source": [
        "plt.scatter(X1[:,0], X1[:,1], marker='d', color ='r', s = 10, label = 'Class1')\n",
        "plt.scatter(X2[:,0], X2[:,1], marker='o', color ='g', s = 10, label = 'Class2')\n",
        "plt.axis([-10, 10, -4, 8])\n",
        "plt.plot([0, w1[0] * D[1,1]]+M[0], \n",
        "         [0, w1[1] * D[1,1]]+M[1], label = 'Vector')\n",
        "plt.legend()\n",
        "plt.show()"
      ],
      "metadata": {
        "colab": {
          "base_uri": "https://localhost:8080/",
          "height": 269
        },
        "id": "N0zkL6TZG7qA",
        "outputId": "9ab234df-507a-429e-ffcd-4c5343396116"
      },
      "execution_count": null,
      "outputs": [
        {
          "output_type": "display_data",
          "data": {
            "text/plain": [
              "<Figure size 432x288 with 1 Axes>"
            ],
            "image/png": "[encoded data removed]"
          },
          "metadata": {
            "needs_background": "light"
          }
        }
      ]
    },
    {
      "cell_type": "code",
      "source": [
        "YX1,  YX2   =  w1.T @ X1.T,  w1.T @ X2.T\n",
        "pYX1, pYX2  =  w1.reshape(-1,1)   @ YX1.reshape(1,100) ,  w1.reshape(-1,1)   @ YX2.reshape(1,100)\n",
        "\n",
        "YX1.shape, pYX1.shape"
      ],
      "metadata": {
        "colab": {
          "base_uri": "https://localhost:8080/"
        },
        "id": "7b6jgXOeMKGY",
        "outputId": "2505e17a-222b-4334-9fd7-f42a6e853db6"
      },
      "execution_count": null,
      "outputs": [
        {
          "output_type": "execute_result",
          "data": {
            "text/plain": [
              "((100,), (2, 100))"
            ]
          },
          "metadata": {},
          "execution_count": 10
        }
      ]
    },
    {
      "cell_type": "code",
      "source": [
        "plt.scatter(X1[:,0], X1[:,1], marker='d', color ='r', s = 10, label = 'Class1')\n",
        "plt.scatter(X2[:,0], X2[:,1], marker='o', color ='g', s = 10, label = 'Class2')\n",
        "plt.axis([-10, 10, -4, 8])\n",
        "plt.plot([0, w1[0] * D[1,1]]+M[0], \n",
        "         [0, w1[1] * D[1,1]]+M[1], label = 'Vector')\n",
        "plt.scatter(pYX1[0,:], pYX1[1,:]+M[1], marker='d', color = 'b', s = 11)\n",
        "plt.scatter(pYX2[0,:], pYX2[1,:]+M[1], marker='o', color = 'pink', s= 11)\n",
        "\n",
        "plt.legend()\n",
        "plt.show()"
      ],
      "metadata": {
        "colab": {
          "base_uri": "https://localhost:8080/",
          "height": 269
        },
        "id": "XawhTLrsOvXW",
        "outputId": "2c93ba32-d2c5-4012-b695-6442f1d494d2"
      },
      "execution_count": null,
      "outputs": [
        {
          "output_type": "display_data",
          "data": {
            "text/plain": [
              "<Figure size 432x288 with 1 Axes>"
            ],
            "image/png": "[encoded data removed]"
          },
          "metadata": {
            "needs_background": "light"
          }
        }
      ]
    },
    {
      "cell_type": "markdown",
      "source": [
        "##### LDA 분석"
      ],
      "metadata": {
        "id": "uUPIHNz4SeB5"
      }
    },
    {
      "cell_type": "code",
      "source": [
        "N = 100\n",
        "m1, m2 = np.mean(X1, axis=0), np.mean(X2, axis=0)\n",
        "#within scatter 클래스내 공분산\n",
        "Sw = N * np.cov(X1[:,0].reshape(-1), X1[:,1].reshape(-1)) + \\\n",
        "     N * np.cov(X2[:,0].reshape(-1), X2[:,1].reshape(-1))\n",
        "#between scatter 클래스간 공분산\n",
        "Sb = (m1 - m2).reshape(-1,1) * (m1-m2) #전치가.T로해도 2차원백터는 shape변화는 일어나지 않음.\n",
        "\n",
        "#고유치분석, 행렬간공분산 * 클래스내 공분산역행렬\n",
        "W1, V1 = np.linalg.eig(Sb @ np.linalg.inv(Sw)) # octave와 같은 동일한배열로 출력된다.\n",
        "D1 = np.diag(np.diag(Sb @ np.linalg.inv(Sw))) \n",
        "\n",
        "w = V1[:,1] #주성분 백터"
      ],
      "metadata": {
        "id": "0WK1pA_ISbmq"
      },
      "execution_count": null,
      "outputs": []
    },
    {
      "cell_type": "markdown",
      "source": [
        "주성분 백터 그리기"
      ],
      "metadata": {
        "id": "-AiepOnlYtH4"
      }
    },
    {
      "cell_type": "code",
      "source": [
        "plt.scatter(X1[:,0], X1[:,1], marker='d', color ='r', s = 10, label = 'Class1')\n",
        "plt.scatter(X2[:,0], X2[:,1], marker='o', color ='g', s = 10, label = 'Class2')\n",
        "plt.axis([-10, 10, -4, 8])\n",
        "plt.plot([0, w[0] * -8]+M[0], \n",
        "         [0, w[1] * -8]+M[1], label = 'LDA Vector')\n",
        "plt.legend()\n",
        "plt.show()"
      ],
      "metadata": {
        "colab": {
          "base_uri": "https://localhost:8080/",
          "height": 269
        },
        "id": "VlFPDcB1Yvda",
        "outputId": "567f5153-40a1-4e77-be25-c16207b313ba"
      },
      "execution_count": null,
      "outputs": [
        {
          "output_type": "display_data",
          "data": {
            "text/plain": [
              "<Figure size 432x288 with 1 Axes>"
            ],
            "image/png": "[encoded data removed]"
          },
          "metadata": {
            "needs_background": "light"
          }
        }
      ]
    },
    {
      "cell_type": "code",
      "source": [
        "LYX1, LYX2 = w.T @ X1.T, w.T @ X2.T\n",
        "LpYX1, LpYX2 = w.reshape(-1,1) @ LYX1.reshape(1,-1), w.reshape(-1,1) @ LYX2.reshape(1,-1)\n"
      ],
      "metadata": {
        "id": "9uDQmWueZApO"
      },
      "execution_count": null,
      "outputs": []
    },
    {
      "cell_type": "code",
      "source": [
        "plt.scatter(X1[:,0], X1[:,1], marker='d', color ='r', s = 10, label = 'Class1')\n",
        "plt.scatter(X2[:,0], X2[:,1], marker='o', color ='g', s = 10, label = 'Class2')\n",
        "plt.axis([-10, 10, -4, 8])\n",
        "plt.plot([0, w[0] * -8]+M[0], \n",
        "         [0, w[1] * -8]+M[1], label = 'LDA Vector')\n",
        "plt.scatter(LpYX1[0,:]+M[0], LpYX1[1,:], color = 'b', s = 11)\n",
        "plt.scatter(LpYX2[0,:]+M[0], LpYX2[1,:], color = 'pink', s = 11)\n",
        "plt.legend()\n",
        "plt.show()"
      ],
      "metadata": {
        "colab": {
          "base_uri": "https://localhost:8080/",
          "height": 269
        },
        "id": "QzBM6pa6Z4yV",
        "outputId": "6b8c4f19-e5ec-4b8a-cca3-4bb777820699"
      },
      "execution_count": null,
      "outputs": [
        {
          "output_type": "display_data",
          "data": {
            "text/plain": [
              "<Figure size 432x288 with 1 Axes>"
            ],
            "image/png": "[encoded data removed]"
          },
          "metadata": {
            "needs_background": "light"
          }
        }
      ]
    }
  ]
}