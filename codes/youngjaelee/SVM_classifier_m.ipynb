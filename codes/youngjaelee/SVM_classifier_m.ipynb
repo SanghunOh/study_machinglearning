{
  "nbformat": 4,
  "nbformat_minor": 0,
  "metadata": {
    "colab": {
      "name": "SVM_classifier.m.ipynb",
      "provenance": [],
      "collapsed_sections": []
    },
    "kernelspec": {
      "name": "python3",
      "display_name": "Python 3"
    },
    "language_info": {
      "name": "python"
    }
  },
  "cells": [
    {
      "cell_type": "code",
      "execution_count": 141,
      "metadata": {
        "id": "h-hosnufHOCX",
        "colab": {
          "base_uri": "https://localhost:8080/"
        },
        "outputId": "58d1d2ab-5eb3-45dd-c1e7-e55276dfdacc"
      },
      "outputs": [
        {
          "output_type": "stream",
          "name": "stdout",
          "text": [
            "Mounted at /content/gdrive\n",
            "/content/gdrive/My Drive/Colab Notebooks/knou_study/matlab data\n",
            "data10_2.mat   data_person_trim.mat  HW5Data_2.mat\t      mpieData\n",
            "data12_20.mat  data_test8.mat\t     iris_shuffle.mat\t      X1.csv\n",
            "data12_8.mat   HW4_COIL20.mat\t     iris.zip\t\t      X2.csv\n",
            "dataCh4_7.mat  HW5Data_1.mat\t     matlab_iris_shuffle.mat\n"
          ]
        }
      ],
      "source": [
        "from google.colab import drive\n",
        "drive.mount('/content/gdrive', force_remount=True)\n",
        "import os\n",
        "os.chdir(r\"/content/gdrive/MyDrive/Colab Notebooks/knou_study/matlab data\")\n",
        "!pwd\n",
        "!ls"
      ]
    },
    {
      "cell_type": "code",
      "source": [
        "from scipy import io\n",
        "mat_file = io.loadmat('data12_8.mat')\n",
        "\n",
        "a = list(mat_file.keys())\n",
        "print(a)\n",
        "\n",
        "for i in range(3, len(a)):\n",
        "  globals()[a[i]] = mat_file[a[i]]\n",
        "  print([a[i]], globals()[a[i]].shape, type(globals()[a[i]]))"
      ],
      "metadata": {
        "colab": {
          "base_uri": "https://localhost:8080/"
        },
        "id": "WyHIxXQWIMKy",
        "outputId": "ce566789-de7d-49fb-8951-9d2a2892a9b1"
      },
      "execution_count": 142,
      "outputs": [
        {
          "output_type": "stream",
          "name": "stdout",
          "text": [
            "['__header__', '__version__', '__globals__', 'X', 'posId', 'negId', 'Y']\n",
            "['X'] (30, 2) <class 'numpy.ndarray'>\n",
            "['posId'] (22, 1) <class 'numpy.ndarray'>\n",
            "['negId'] (8, 1) <class 'numpy.ndarray'>\n",
            "['Y'] (30, 1) <class 'numpy.ndarray'>\n"
          ]
        }
      ]
    },
    {
      "cell_type": "code",
      "source": [
        "import numpy as np\n",
        "np.set_printoptions(formatter={'float_kind': lambda x: \"{0:0.4f}\".format(x)})\n",
        "np.set_printoptions()\n",
        "import matplotlib.pyplot as plt\n",
        "import cvxopt"
      ],
      "metadata": {
        "id": "dDs4jxk4JUBB"
      },
      "execution_count": 143,
      "outputs": []
    },
    {
      "cell_type": "code",
      "source": [
        "# 커널함수\n",
        "def SVM_kernel(X1, X2, fmode, hyp):\n",
        "  #fmode 1: Linear Kernel (선형 커널)\n",
        "  #fmode 2: Ploynominal kernel (다항식 커널)\n",
        "  #fmode 3: Gaussian kernel\n",
        "  if fmode == 1:\n",
        "    res = X1 @ X2.T\n",
        "  elif fmode == 2:\n",
        "    res = (X1 @ X2.T + hyp[0]) ** hyp[1]\n",
        "  elif fmode == 3:\n",
        "    res = np.zeros([X1.shape[0], X2.shape[0]])\n",
        "    for i in range(X1.shape[0]):\n",
        "      for j in range(X2.shape[0]):\n",
        "        x = X1[i,:]; y = X2[j,:]\n",
        "        res[i, j] = np.exp(-(x-y) @ (x-y).T / (2*hyp[0] * hyp[1]))\n",
        "  return res"
      ],
      "metadata": {
        "id": "C-7L5pKCIokt"
      },
      "execution_count": 144,
      "outputs": []
    },
    {
      "cell_type": "code",
      "source": [
        "N = Y.shape[0]\n",
        "kmode=2; hyp = np.array([1.0,2.0]) #커널함수 타입 및 파라미터 설정"
      ],
      "metadata": {
        "id": "Ka4Uaw0bIU1C"
      },
      "execution_count": 145,
      "outputs": []
    },
    {
      "cell_type": "code",
      "source": [
        "#######이차 계획법 목적 함수 정의\n",
        "## 최소화 함수: 0.5*a' * H*a - f'*a\n",
        "## 만족조건 1 : Aeq'*a = beq\n",
        "## 만족범위   : lb <= a <= ub\n",
        "\n",
        "KXX = SVM_kernel(X,X,kmode,hyp) #커널 행렬 계산\n",
        "H = np.diag(Y.reshape(-1)) @ KXX @ np.diag(Y.reshape(-1)) + 1e-10*np.eye(N) #최소화 함수의 행렬\n",
        "f = (-1)*np.ones((N,1)) #최소화 함수의 벡터\n",
        "Aeq = Y.T.astype(np.double); beq = 0.; #만족조건 1\n",
        "lb = np.zeros((N,1)); ub = np.zeros((N,1)) + 10**3 #만족 범위"
      ],
      "metadata": {
        "id": "ju2FLeSFNneO"
      },
      "execution_count": 146,
      "outputs": []
    },
    {
      "cell_type": "code",
      "source": [
        "def quadprog(H, f, Aeq=None, beq=None, lb=None, ub=None):\n",
        "    '''\n",
        "    source from github (nolfwin/cvxopt_quadprog)\n",
        "    Imitate the MATLAB \"quadprog\" for solving the quadratic programming problem using cvxopt library in python.\n",
        "    Matlab details of quadprog can be found here: https://www.mathworks.com/help/optim/ug/quadprog.html\n",
        "    '''\n",
        "\n",
        "    \"\"\"\n",
        "    Input: Numpy arrays, the format follows MATLAB quadprog function: https://www.mathworks.com/help/optim/ug/quadprog.html\n",
        "    Output: Numpy array of the solution\n",
        "    \"\"\"\n",
        "    n_var = H.shape[1]\n",
        "\n",
        "    P = cvxopt.matrix(H, tc='d')\n",
        "    q = cvxopt.matrix(f, tc='d')\n",
        "\n",
        "    L = np.vstack([-np.eye(n_var), np.eye(n_var)])\n",
        "    k = np.vstack([-lb, ub])\n",
        "    L = cvxopt.matrix(L, tc='d')\n",
        "    k = cvxopt.matrix(k, tc='d')\n",
        "\n",
        "    Aeq = cvxopt.matrix(Aeq, tc='d')\n",
        "    beq = cvxopt.matrix(beq, tc='d')\n",
        "\n",
        "    sol = cvxopt.solvers.qp(P, q, L, k, Aeq, beq)\n",
        "\n",
        "    return np.array(sol['x'])"
      ],
      "metadata": {
        "id": "TAK4DFuBe2AG"
      },
      "execution_count": 147,
      "outputs": []
    },
    {
      "cell_type": "code",
      "source": [
        "H.shape, f.reshape(-1).shape, Aeq.reshape(-1).shape, np.array([beq]).shape, lb.reshape(-1).shape, ub.shape"
      ],
      "metadata": {
        "colab": {
          "base_uri": "https://localhost:8080/"
        },
        "id": "vzDdNLTGflrO",
        "outputId": "4c27a35c-4cb5-4c4d-ca42-a630fb4b0c62"
      },
      "execution_count": 149,
      "outputs": [
        {
          "output_type": "execute_result",
          "data": {
            "text/plain": [
              "((30, 30), (30,), (30,), (1,), (30,), (30, 1))"
            ]
          },
          "metadata": {},
          "execution_count": 149
        }
      ]
    },
    {
      "cell_type": "code",
      "source": [
        "!pip install qpsolvers"
      ],
      "metadata": {
        "colab": {
          "base_uri": "https://localhost:8080/"
        },
        "id": "He2A7NgT1NnL",
        "outputId": "26f162e9-ded5-4678-8ef8-46184b7b8f19"
      },
      "execution_count": 119,
      "outputs": [
        {
          "output_type": "stream",
          "name": "stdout",
          "text": [
            "Looking in indexes: https://pypi.org/simple, https://us-python.pkg.dev/colab-wheels/public/simple/\n",
            "Collecting qpsolvers\n",
            "  Downloading qpsolvers-1.9.1-py3-none-any.whl (40 kB)\n",
            "\u001b[K     |████████████████████████████████| 40 kB 2.4 MB/s \n",
            "\u001b[?25hCollecting quadprog>=0.1.8\n",
            "  Downloading quadprog-0.1.11.tar.gz (121 kB)\n",
            "\u001b[K     |████████████████████████████████| 121 kB 7.3 MB/s \n",
            "\u001b[?25h  Installing build dependencies ... \u001b[?25l\u001b[?25hdone\n",
            "  Getting requirements to build wheel ... \u001b[?25l\u001b[?25hdone\n",
            "    Preparing wheel metadata ... \u001b[?25l\u001b[?25hdone\n",
            "Requirement already satisfied: scipy>=1.2.0 in /usr/local/lib/python3.7/dist-packages (from qpsolvers) (1.4.1)\n",
            "Requirement already satisfied: numpy in /usr/local/lib/python3.7/dist-packages (from quadprog>=0.1.8->qpsolvers) (1.21.6)\n",
            "Building wheels for collected packages: quadprog\n",
            "  Building wheel for quadprog (PEP 517) ... \u001b[?25l\u001b[?25hdone\n",
            "  Created wheel for quadprog: filename=quadprog-0.1.11-cp37-cp37m-linux_x86_64.whl size=290765 sha256=d2d3b26d7b2679ca5ab2366782b7f1a650c5dc851f723f691cfafb81cb818093\n",
            "  Stored in directory: /root/.cache/pip/wheels/4a/4e/d7/41034ea11aeef1266df3cae546116cb6094e955c41ae3e2589\n",
            "Successfully built quadprog\n",
            "Installing collected packages: quadprog, qpsolvers\n",
            "Successfully installed qpsolvers-1.9.1 quadprog-0.1.11\n"
          ]
        }
      ]
    },
    {
      "cell_type": "code",
      "source": [
        "#####이차 계획법에 의한 최적화 함수 호출 (알파값 및 w0 추정)\n",
        "\n",
        "from qpsolvers import solve_qp\n",
        "\n",
        "x1 = solve_qp(H, f.reshape(-1), None, None, Aeq.reshape(-1), np.array([beq]), lb.reshape(-1), ub.reshape(-1))\n",
        "x2 = quadprog(H, f, Aeq, beq, lb, ub).reshape(-1)\n",
        "\n",
        "print(x1.shape, x2.shape)\n",
        "\n",
        "alpha = x2"
      ],
      "metadata": {
        "colab": {
          "base_uri": "https://localhost:8080/"
        },
        "id": "5OyJA0g7JM_C",
        "outputId": "05f92425-17d3-424c-b8fd-348a0927e02b"
      },
      "execution_count": 206,
      "outputs": [
        {
          "output_type": "stream",
          "name": "stdout",
          "text": [
            "(30,) (30,)\n"
          ]
        }
      ]
    },
    {
      "cell_type": "code",
      "source": [
        "svi = np.argwhere(abs(alpha) > 10**(-3)) #alpha>0 인 서포트 벡터 찾기\n",
        "svx = X[svi.reshape(-1), :] #서포트백터 저장\n",
        "\n",
        "ksvx = SVM_kernel(svx, svx, kmode,hyp)\n",
        "\n",
        "svw = np.arange(svi.shape[0])\n",
        "for i in range(svi.shape[0]):\n",
        "  svw[i] = Y[svi[i]] - sum(alpha[svi] * Y[svi.reshape(-1)] * ksvx[:,1].reshape(svi.shape[0],1))\n",
        "w0 = np.mean(svw)"
      ],
      "metadata": {
        "id": "3cwkWaJYYr8u"
      },
      "execution_count": 207,
      "outputs": []
    },
    {
      "cell_type": "code",
      "source": [
        "######### 분류 결과 계산\n",
        "fx = np.zeros((N,1))\n",
        "for i in range(N):\n",
        "  xt = X[i,:]\n",
        "  ksvxt = SVM_kernel(svx,xt,kmode,hyp)\n",
        "\n",
        "  fx[i,0] = np.sign(sum(alpha[svi] * Y[svi.reshape(-1)] * ksvxt.reshape(svi.shape[0],1)) + w0)\n",
        "Cerr = sum(abs(Y-fx)) / (2*N)\n",
        "\n",
        "print(1, 'number of support vector:  {}\\n'.format(svi.shape[0]));\n",
        "print(1, 'classification error rate: {}\\n'.format(Cerr));"
      ],
      "metadata": {
        "id": "zh1-j_T9bWHg",
        "colab": {
          "base_uri": "https://localhost:8080/"
        },
        "outputId": "b9b44416-b7f3-49a4-ed96-c19cc7379666"
      },
      "execution_count": 208,
      "outputs": [
        {
          "output_type": "stream",
          "name": "stdout",
          "text": [
            "1 number of support vector:  5\n",
            "\n",
            "1 classification error rate: [0.1]\n",
            "\n"
          ]
        }
      ]
    },
    {
      "cell_type": "code",
      "source": [
        "######### 결정 경계 그리기\n",
        "xM = np.max(X, axis=0); xm = np.min(X, axis=0) #결정 경계 그릴 영역 설정\n",
        "S1 = np.arange(np.floor(xm[0]), np.ceil(xM[0]), 0.1)\n",
        "S2 = np.arange(np.floor(xm[1]), np.ceil(xM[1]), 0.1)\n",
        "\n",
        "G, F = np.zeros((S1.shape[0],S2.shape[0])), np.zeros((S1.shape[0],S2.shape[0]))\n",
        "\n",
        "for i in range(S1.shape[0]):\n",
        "  for j in range(S2.shape[0]):\n",
        "    xt = np.array([S1[i], S2[j]])\n",
        "    ksvxt = SVM_kernel(svx, xt, kmode, hyp)\n",
        "    G[i,j] = sum(alpha[svi] * Y[svi.reshape(-1)] * ksvxt.reshape(svi.shape[0],1)) + w0\n",
        "    F[i,j] = np.sign(G[i,j])"
      ],
      "metadata": {
        "id": "Pe9J09ZJccSI"
      },
      "execution_count": 209,
      "outputs": []
    },
    {
      "cell_type": "code",
      "source": [
        "#매쉬그리드 데이터 생성\n",
        "X1, X2 = np.meshgrid(S1, S2)\n",
        "plt.contour(X1.T, X2.T, F)  #결정 경계 그리기\n",
        "plt.contour(X1.T, X2.T, G)  #판별함수의 등고선 그리기\n",
        "posld = np.argwhere(Y.reshape(-1)>0); negld = np.argwhere(Y.reshape(-1)<0)\n",
        "plt.scatter(X[posld,0], X[posld,1], marker='d')\n",
        "plt.scatter(X[negld,0], X[negld,1], marker='X')\n",
        "plt.scatter(X[svi,0], X[svi,1], marker='X', c='r')\n",
        "\n",
        "plt.show()"
      ],
      "metadata": {
        "colab": {
          "base_uri": "https://localhost:8080/",
          "height": 265
        },
        "id": "DJOyJmQAhjao",
        "outputId": "b97de0fc-810b-4479-b1aa-4a65483c134a"
      },
      "execution_count": 210,
      "outputs": [
        {
          "output_type": "display_data",
          "data": {
            "text/plain": [
              "<Figure size 432x288 with 1 Axes>"
            ],
            "image/png": "[encoded data removed]"
          },
          "metadata": {
            "needs_background": "light"
          }
        }
      ]
    }
  ]
}