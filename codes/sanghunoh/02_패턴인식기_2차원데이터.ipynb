{
  "nbformat": 4,
  "nbformat_minor": 0,
  "metadata": {
    "colab": {
      "name": "02_패턴인식기_2차원데이터.ipynb",
      "provenance": [],
      "collapsed_sections": [],
      "authorship_tag": "ABX9TyMmnkodG1KzP+9G4QbBn8LL"
    },
    "kernelspec": {
      "name": "python3",
      "display_name": "Python 3"
    },
    "language_info": {
      "name": "python"
    }
  },
  "cells": [
    {
      "cell_type": "markdown",
      "source": [
        "# 가우시안 분포 따르는 2차원 데이터 생성"
      ],
      "metadata": {
        "id": "D1k3R5N8X-wg"
      }
    },
    {
      "cell_type": "code",
      "execution_count": 1,
      "metadata": {
        "id": "4CYlVg0kRoNw"
      },
      "outputs": [],
      "source": [
        "import numpy as np"
      ]
    },
    {
      "cell_type": "code",
      "source": [
        "np.random.seed(50)  # 동일한 수열 발생 위해 설정\n",
        "row_count = 50\n",
        "# row_count = 1000"
      ],
      "metadata": {
        "id": "OJC3Eu1SeQ3R"
      },
      "execution_count": 2,
      "outputs": []
    },
    {
      "cell_type": "markdown",
      "source": [
        "## 데이터 A 종류"
      ],
      "metadata": {
        "id": "xSjsrz2NkNx5"
      }
    },
    {
      "cell_type": "code",
      "source": [
        "mean_1 = np.array([3,5])\n",
        "mean_1, mean_1.shape, type(mean_1)"
      ],
      "metadata": {
        "colab": {
          "base_uri": "https://localhost:8080/"
        },
        "id": "e9KFZKXrexzU",
        "outputId": "beab818e-974d-433e-bcc5-5238f0619e02"
      },
      "execution_count": 3,
      "outputs": [
        {
          "output_type": "execute_result",
          "data": {
            "text/plain": [
              "(array([3, 5]), (2,), numpy.ndarray)"
            ]
          },
          "metadata": {},
          "execution_count": 3
        }
      ]
    },
    {
      "cell_type": "code",
      "source": [
        "# sigma_1 = np.array([[1,1],[1,2]])\n",
        "sigma_1 = np.array([[3,1],[1,4]])   # 식별 위해 값 분포 임의 폭 증가\n",
        "sigma_1, sigma_1.shape, type(sigma_1)"
      ],
      "metadata": {
        "colab": {
          "base_uri": "https://localhost:8080/"
        },
        "id": "Geb4-Zhafzj5",
        "outputId": "667b8f32-7d9a-448e-cd55-921312be5708"
      },
      "execution_count": 4,
      "outputs": [
        {
          "output_type": "execute_result",
          "data": {
            "text/plain": [
              "(array([[3, 1],\n",
              "        [1, 4]]), (2, 2), numpy.ndarray)"
            ]
          },
          "metadata": {},
          "execution_count": 4
        }
      ]
    },
    {
      "cell_type": "code",
      "source": [
        "rand_std_1 = np.random.randn(row_count, 2)\n",
        "# rand_std_1, \n",
        "rand_std_1.shape, type(rand_std_1)"
      ],
      "metadata": {
        "colab": {
          "base_uri": "https://localhost:8080/"
        },
        "id": "CnPTdkLgYKlP",
        "outputId": "239b4649-5388-442e-abfe-684f93c72081"
      },
      "execution_count": 5,
      "outputs": [
        {
          "output_type": "execute_result",
          "data": {
            "text/plain": [
              "((50, 2), numpy.ndarray)"
            ]
          },
          "metadata": {},
          "execution_count": 5
        }
      ]
    },
    {
      "cell_type": "code",
      "source": [
        "# type(rand_std_1), type(sigma_1), type(mean_1)"
      ],
      "metadata": {
        "id": "owbEvbY4iv8O"
      },
      "execution_count": 6,
      "outputs": []
    },
    {
      "cell_type": "code",
      "source": [
        "# rand_std_1.shape, sigma_1.shape, mean_1.shape"
      ],
      "metadata": {
        "id": "7vlw7mfJeWFw"
      },
      "execution_count": 7,
      "outputs": []
    },
    {
      "cell_type": "code",
      "source": [
        "class_A = rand_std_1 @ np.sqrt(sigma_1) + mean_1 # 공분산 적용 분포 구하기"
      ],
      "metadata": {
        "id": "jtmeUzIshZev"
      },
      "execution_count": 8,
      "outputs": []
    },
    {
      "cell_type": "markdown",
      "source": [
        "## 데이터 \bB 종류"
      ],
      "metadata": {
        "id": "XICimAUclN5-"
      }
    },
    {
      "cell_type": "code",
      "source": [
        "mean_2 = np.array([5,3])\n",
        "# sigma_2 = np.array([[1,1],[1,2]])\n",
        "sigma_2 = np.array([[3,1],[1,4]])   # 식별 위해 값 분포 임의 폭 증가\n",
        "rand_std_2 = np.random.randn(row_count, 2)\n",
        "class_B = rand_std_2 @ np.sqrt(sigma_2) + mean_2\n",
        "class_B.shape"
      ],
      "metadata": {
        "colab": {
          "base_uri": "https://localhost:8080/"
        },
        "id": "O0XIJUdFi687",
        "outputId": "76a76235-4e16-4d9d-8c46-6bd0636a79cc"
      },
      "execution_count": 9,
      "outputs": [
        {
          "output_type": "execute_result",
          "data": {
            "text/plain": [
              "(50, 2)"
            ]
          },
          "metadata": {},
          "execution_count": 9
        }
      ]
    },
    {
      "cell_type": "markdown",
      "source": [
        "## load from excel with above class A/B"
      ],
      "metadata": {
        "id": "eDIJHAiw4vVy"
      }
    },
    {
      "cell_type": "code",
      "source": [
        "# import pandas as pd\n",
        "# class_A_df = pd.DataFrame(class_A)\n",
        "# class_A_df"
      ],
      "metadata": {
        "colab": {
          "base_uri": "https://localhost:8080/",
          "height": 1000
        },
        "id": "T6v7qW375P2u",
        "outputId": "00b24af2-78d4-44fe-f0c1-58b5f178481a"
      },
      "execution_count": 10,
      "outputs": [
        {
          "output_type": "execute_result",
          "data": {
            "text/plain": [
              "           0          1\n",
              "0   0.266413   3.377693\n",
              "1   0.459940   1.449911\n",
              "2   4.968830   5.458482\n",
              "3   2.718455   6.360066\n",
              "4  -0.548475   1.062750\n",
              "5   4.081017   6.850725\n",
              "6   3.872219   5.027607\n",
              "7   2.871142   7.200291\n",
              "8   9.727917  10.289616\n",
              "9   3.957328   6.609437\n",
              "10  2.465764   4.902276\n",
              "11  2.125274   4.266335\n",
              "12  3.527145   5.710470\n",
              "13  4.223747   8.140553\n",
              "14  3.430903   6.230847\n",
              "15  6.235367   8.772027\n",
              "16  1.115282   4.603874\n",
              "17  4.668602   6.480451\n",
              "18  3.828187   7.431852\n",
              "19  2.294232   5.127091\n",
              "20  3.395907   6.285660\n",
              "21  2.978805   2.844983\n",
              "22 -0.105201   2.895658\n",
              "23  2.756967   5.398197\n",
              "24  3.017240   3.348503\n",
              "25  1.587273   4.129113\n",
              "26  6.194251   4.722478\n",
              "27  3.690925   6.145351\n",
              "28  4.464280   5.918677\n",
              "29  2.993181   5.391843\n",
              "30  3.185155   5.155651\n",
              "31  3.349458   3.859294\n",
              "32  3.682423   6.970465\n",
              "33  2.854297   4.612475\n",
              "34  1.186175   3.567753\n",
              "35  3.636751   5.725871\n",
              "36  4.720154   6.695906\n",
              "37  4.965230   5.305763\n",
              "38  7.665938   9.241487\n",
              "39  2.806743   2.629419\n",
              "40  2.758503   1.483979\n",
              "41 -0.863776  -2.650892\n",
              "42  3.005667   5.501812\n",
              "43  2.274698   3.678887\n",
              "44 -0.199535  -0.504771\n",
              "45  2.518886   3.698922\n",
              "46  5.883584   8.972014\n",
              "47  4.328823   3.908115\n",
              "48  1.464144   4.120767\n",
              "49  3.965156   4.795354"
            ],
            "text/html": [
              "\n",
              "  <div id=\"df-d4b6ce02-22d0-45fc-b3b2-e4340dc3b67b\">\n",
              "    <div class=\"colab-df-container\">\n",
              "      <div>\n",
              "<style scoped>\n",
              "    .dataframe tbody tr th:only-of-type {\n",
              "        vertical-align: middle;\n",
              "    }\n",
              "\n",
              "    .dataframe tbody tr th {\n",
              "        vertical-align: top;\n",
              "    }\n",
              "\n",
              "    .dataframe thead th {\n",
              "        text-align: right;\n",
              "    }\n",
              "</style>\n",
              "<table border=\"1\" class=\"dataframe\">\n",
              "  <thead>\n",
              "    <tr style=\"text-align: right;\">\n",
              "      <th></th>\n",
              "      <th>0</th>\n",
              "      <th>1</th>\n",
              "    </tr>\n",
              "  </thead>\n",
              "  <tbody>\n",
              "    <tr>\n",
              "      <th>0</th>\n",
              "      <td>0.266413</td>\n",
              "      <td>3.377693</td>\n",
              "    </tr>\n",
              "    <tr>\n",
              "      <th>1</th>\n",
              "      <td>0.459940</td>\n",
              "      <td>1.449911</td>\n",
              "    </tr>\n",
              "    <tr>\n",
              "      <th>2</th>\n",
              "      <td>4.968830</td>\n",
              "      <td>5.458482</td>\n",
              "    </tr>\n",
              "    <tr>\n",
              "      <th>3</th>\n",
              "      <td>2.718455</td>\n",
              "      <td>6.360066</td>\n",
              "    </tr>\n",
              "    <tr>\n",
              "      <th>4</th>\n",
              "      <td>-0.548475</td>\n",
              "      <td>1.062750</td>\n",
              "    </tr>\n",
              "    <tr>\n",
              "      <th>5</th>\n",
              "      <td>4.081017</td>\n",
              "      <td>6.850725</td>\n",
              "    </tr>\n",
              "    <tr>\n",
              "      <th>6</th>\n",
              "      <td>3.872219</td>\n",
              "      <td>5.027607</td>\n",
              "    </tr>\n",
              "    <tr>\n",
              "      <th>7</th>\n",
              "      <td>2.871142</td>\n",
              "      <td>7.200291</td>\n",
              "    </tr>\n",
              "    <tr>\n",
              "      <th>8</th>\n",
              "      <td>9.727917</td>\n",
              "      <td>10.289616</td>\n",
              "    </tr>\n",
              "    <tr>\n",
              "      <th>9</th>\n",
              "      <td>3.957328</td>\n",
              "      <td>6.609437</td>\n",
              "    </tr>\n",
              "    <tr>\n",
              "      <th>10</th>\n",
              "      <td>2.465764</td>\n",
              "      <td>4.902276</td>\n",
              "    </tr>\n",
              "    <tr>\n",
              "      <th>11</th>\n",
              "      <td>2.125274</td>\n",
              "      <td>4.266335</td>\n",
              "    </tr>\n",
              "    <tr>\n",
              "      <th>12</th>\n",
              "      <td>3.527145</td>\n",
              "      <td>5.710470</td>\n",
              "    </tr>\n",
              "    <tr>\n",
              "      <th>13</th>\n",
              "      <td>4.223747</td>\n",
              "      <td>8.140553</td>\n",
              "    </tr>\n",
              "    <tr>\n",
              "      <th>14</th>\n",
              "      <td>3.430903</td>\n",
              "      <td>6.230847</td>\n",
              "    </tr>\n",
              "    <tr>\n",
              "      <th>15</th>\n",
              "      <td>6.235367</td>\n",
              "      <td>8.772027</td>\n",
              "    </tr>\n",
              "    <tr>\n",
              "      <th>16</th>\n",
              "      <td>1.115282</td>\n",
              "      <td>4.603874</td>\n",
              "    </tr>\n",
              "    <tr>\n",
              "      <th>17</th>\n",
              "      <td>4.668602</td>\n",
              "      <td>6.480451</td>\n",
              "    </tr>\n",
              "    <tr>\n",
              "      <th>18</th>\n",
              "      <td>3.828187</td>\n",
              "      <td>7.431852</td>\n",
              "    </tr>\n",
              "    <tr>\n",
              "      <th>19</th>\n",
              "      <td>2.294232</td>\n",
              "      <td>5.127091</td>\n",
              "    </tr>\n",
              "    <tr>\n",
              "      <th>20</th>\n",
              "      <td>3.395907</td>\n",
              "      <td>6.285660</td>\n",
              "    </tr>\n",
              "    <tr>\n",
              "      <th>21</th>\n",
              "      <td>2.978805</td>\n",
              "      <td>2.844983</td>\n",
              "    </tr>\n",
              "    <tr>\n",
              "      <th>22</th>\n",
              "      <td>-0.105201</td>\n",
              "      <td>2.895658</td>\n",
              "    </tr>\n",
              "    <tr>\n",
              "      <th>23</th>\n",
              "      <td>2.756967</td>\n",
              "      <td>5.398197</td>\n",
              "    </tr>\n",
              "    <tr>\n",
              "      <th>24</th>\n",
              "      <td>3.017240</td>\n",
              "      <td>3.348503</td>\n",
              "    </tr>\n",
              "    <tr>\n",
              "      <th>25</th>\n",
              "      <td>1.587273</td>\n",
              "      <td>4.129113</td>\n",
              "    </tr>\n",
              "    <tr>\n",
              "      <th>26</th>\n",
              "      <td>6.194251</td>\n",
              "      <td>4.722478</td>\n",
              "    </tr>\n",
              "    <tr>\n",
              "      <th>27</th>\n",
              "      <td>3.690925</td>\n",
              "      <td>6.145351</td>\n",
              "    </tr>\n",
              "    <tr>\n",
              "      <th>28</th>\n",
              "      <td>4.464280</td>\n",
              "      <td>5.918677</td>\n",
              "    </tr>\n",
              "    <tr>\n",
              "      <th>29</th>\n",
              "      <td>2.993181</td>\n",
              "      <td>5.391843</td>\n",
              "    </tr>\n",
              "    <tr>\n",
              "      <th>30</th>\n",
              "      <td>3.185155</td>\n",
              "      <td>5.155651</td>\n",
              "    </tr>\n",
              "    <tr>\n",
              "      <th>31</th>\n",
              "      <td>3.349458</td>\n",
              "      <td>3.859294</td>\n",
              "    </tr>\n",
              "    <tr>\n",
              "      <th>32</th>\n",
              "      <td>3.682423</td>\n",
              "      <td>6.970465</td>\n",
              "    </tr>\n",
              "    <tr>\n",
              "      <th>33</th>\n",
              "      <td>2.854297</td>\n",
              "      <td>4.612475</td>\n",
              "    </tr>\n",
              "    <tr>\n",
              "      <th>34</th>\n",
              "      <td>1.186175</td>\n",
              "      <td>3.567753</td>\n",
              "    </tr>\n",
              "    <tr>\n",
              "      <th>35</th>\n",
              "      <td>3.636751</td>\n",
              "      <td>5.725871</td>\n",
              "    </tr>\n",
              "    <tr>\n",
              "      <th>36</th>\n",
              "      <td>4.720154</td>\n",
              "      <td>6.695906</td>\n",
              "    </tr>\n",
              "    <tr>\n",
              "      <th>37</th>\n",
              "      <td>4.965230</td>\n",
              "      <td>5.305763</td>\n",
              "    </tr>\n",
              "    <tr>\n",
              "      <th>38</th>\n",
              "      <td>7.665938</td>\n",
              "      <td>9.241487</td>\n",
              "    </tr>\n",
              "    <tr>\n",
              "      <th>39</th>\n",
              "      <td>2.806743</td>\n",
              "      <td>2.629419</td>\n",
              "    </tr>\n",
              "    <tr>\n",
              "      <th>40</th>\n",
              "      <td>2.758503</td>\n",
              "      <td>1.483979</td>\n",
              "    </tr>\n",
              "    <tr>\n",
              "      <th>41</th>\n",
              "      <td>-0.863776</td>\n",
              "      <td>-2.650892</td>\n",
              "    </tr>\n",
              "    <tr>\n",
              "      <th>42</th>\n",
              "      <td>3.005667</td>\n",
              "      <td>5.501812</td>\n",
              "    </tr>\n",
              "    <tr>\n",
              "      <th>43</th>\n",
              "      <td>2.274698</td>\n",
              "      <td>3.678887</td>\n",
              "    </tr>\n",
              "    <tr>\n",
              "      <th>44</th>\n",
              "      <td>-0.199535</td>\n",
              "      <td>-0.504771</td>\n",
              "    </tr>\n",
              "    <tr>\n",
              "      <th>45</th>\n",
              "      <td>2.518886</td>\n",
              "      <td>3.698922</td>\n",
              "    </tr>\n",
              "    <tr>\n",
              "      <th>46</th>\n",
              "      <td>5.883584</td>\n",
              "      <td>8.972014</td>\n",
              "    </tr>\n",
              "    <tr>\n",
              "      <th>47</th>\n",
              "      <td>4.328823</td>\n",
              "      <td>3.908115</td>\n",
              "    </tr>\n",
              "    <tr>\n",
              "      <th>48</th>\n",
              "      <td>1.464144</td>\n",
              "      <td>4.120767</td>\n",
              "    </tr>\n",
              "    <tr>\n",
              "      <th>49</th>\n",
              "      <td>3.965156</td>\n",
              "      <td>4.795354</td>\n",
              "    </tr>\n",
              "  </tbody>\n",
              "</table>\n",
              "</div>\n",
              "      <button class=\"colab-df-convert\" onclick=\"convertToInteractive('df-d4b6ce02-22d0-45fc-b3b2-e4340dc3b67b')\"\n",
              "              title=\"Convert this dataframe to an interactive table.\"\n",
              "              style=\"display:none;\">\n",
              "        \n",
              "  <svg xmlns=\"http://www.w3.org/2000/svg\" height=\"24px\"viewBox=\"0 0 24 24\"\n",
              "       width=\"24px\">\n",
              "    <path d=\"M0 0h24v24H0V0z\" fill=\"none\"/>\n",
              "    <path d=\"M18.56 5.44l.94 2.06.94-2.06 2.06-.94-2.06-.94-.94-2.06-.94 2.06-2.06.94zm-11 1L8.5 8.5l.94-2.06 2.06-.94-2.06-.94L8.5 2.5l-.94 2.06-2.06.94zm10 10l.94 2.06.94-2.06 2.06-.94-2.06-.94-.94-2.06-.94 2.06-2.06.94z\"/><path d=\"M17.41 7.96l-1.37-1.37c-.4-.4-.92-.59-1.43-.59-.52 0-1.04.2-1.43.59L10.3 9.45l-7.72 7.72c-.78.78-.78 2.05 0 2.83L4 21.41c.39.39.9.59 1.41.59.51 0 1.02-.2 1.41-.59l7.78-7.78 2.81-2.81c.8-.78.8-2.07 0-2.86zM5.41 20L4 18.59l7.72-7.72 1.47 1.35L5.41 20z\"/>\n",
              "  </svg>\n",
              "      </button>\n",
              "      \n",
              "  <style>\n",
              "    .colab-df-container {\n",
              "      display:flex;\n",
              "      flex-wrap:wrap;\n",
              "      gap: 12px;\n",
              "    }\n",
              "\n",
              "    .colab-df-convert {\n",
              "      background-color: #E8F0FE;\n",
              "      border: none;\n",
              "      border-radius: 50%;\n",
              "      cursor: pointer;\n",
              "      display: none;\n",
              "      fill: #1967D2;\n",
              "      height: 32px;\n",
              "      padding: 0 0 0 0;\n",
              "      width: 32px;\n",
              "    }\n",
              "\n",
              "    .colab-df-convert:hover {\n",
              "      background-color: #E2EBFA;\n",
              "      box-shadow: 0px 1px 2px rgba(60, 64, 67, 0.3), 0px 1px 3px 1px rgba(60, 64, 67, 0.15);\n",
              "      fill: #174EA6;\n",
              "    }\n",
              "\n",
              "    [theme=dark] .colab-df-convert {\n",
              "      background-color: #3B4455;\n",
              "      fill: #D2E3FC;\n",
              "    }\n",
              "\n",
              "    [theme=dark] .colab-df-convert:hover {\n",
              "      background-color: #434B5C;\n",
              "      box-shadow: 0px 1px 3px 1px rgba(0, 0, 0, 0.15);\n",
              "      filter: drop-shadow(0px 1px 2px rgba(0, 0, 0, 0.3));\n",
              "      fill: #FFFFFF;\n",
              "    }\n",
              "  </style>\n",
              "\n",
              "      <script>\n",
              "        const buttonEl =\n",
              "          document.querySelector('#df-d4b6ce02-22d0-45fc-b3b2-e4340dc3b67b button.colab-df-convert');\n",
              "        buttonEl.style.display =\n",
              "          google.colab.kernel.accessAllowed ? 'block' : 'none';\n",
              "\n",
              "        async function convertToInteractive(key) {\n",
              "          const element = document.querySelector('#df-d4b6ce02-22d0-45fc-b3b2-e4340dc3b67b');\n",
              "          const dataTable =\n",
              "            await google.colab.kernel.invokeFunction('convertToInteractive',\n",
              "                                                     [key], {});\n",
              "          if (!dataTable) return;\n",
              "\n",
              "          const docLinkHtml = 'Like what you see? Visit the ' +\n",
              "            '<a target=\"_blank\" href=https://colab.research.google.com/notebooks/data_table.ipynb>data table notebook</a>'\n",
              "            + ' to learn more about interactive tables.';\n",
              "          element.innerHTML = '';\n",
              "          dataTable['output_type'] = 'display_data';\n",
              "          await google.colab.output.renderOutput(dataTable, element);\n",
              "          const docLink = document.createElement('div');\n",
              "          docLink.innerHTML = docLinkHtml;\n",
              "          element.appendChild(docLink);\n",
              "        }\n",
              "      </script>\n",
              "    </div>\n",
              "  </div>\n",
              "  "
            ]
          },
          "metadata": {},
          "execution_count": 10
        }
      ]
    },
    {
      "cell_type": "code",
      "source": [
        "# class_B_df = pd.DataFrame(class_B)\n",
        "# class_B_df"
      ],
      "metadata": {
        "colab": {
          "base_uri": "https://localhost:8080/",
          "height": 1000
        },
        "id": "YGCuq9A55Ybq",
        "outputId": "59c623ad-c3b1-48cd-b4c5-eac85cba829d"
      },
      "execution_count": 11,
      "outputs": [
        {
          "output_type": "execute_result",
          "data": {
            "text/plain": [
              "           0         1\n",
              "0   4.600029  2.836163\n",
              "1   4.139068  2.330469\n",
              "2   4.512121  2.439628\n",
              "3   4.961750  3.399917\n",
              "4   1.238501 -2.649677\n",
              "5   4.923428  4.154154\n",
              "6   3.430480  0.267011\n",
              "7   6.195216  4.897190\n",
              "8   0.454792 -1.877184\n",
              "9   1.936638 -0.415005\n",
              "10  7.020447  2.585688\n",
              "11  7.256576  5.368361\n",
              "12  6.545096  4.341831\n",
              "13  3.116132  1.149863\n",
              "14  2.032067 -0.043425\n",
              "15  3.066682  1.843973\n",
              "16  4.314641  3.207839\n",
              "17  9.478510  9.091607\n",
              "18  3.187364 -0.288555\n",
              "19  7.235651  4.064120\n",
              "20  5.141790  1.351825\n",
              "21  4.251115  2.798057\n",
              "22  4.663414  4.602099\n",
              "23  8.164125  5.299431\n",
              "24  3.318225  1.007915\n",
              "25  4.051843  1.907295\n",
              "26  4.425868  3.608110\n",
              "27  3.460235  2.001759\n",
              "28  6.755441  2.765965\n",
              "29  4.447216  1.890509\n",
              "30  5.026459  2.236219\n",
              "31  1.062697 -0.248522\n",
              "32  4.441149  3.936605\n",
              "33  4.602165  2.760621\n",
              "34  4.944789  2.865196\n",
              "35  1.323879 -1.238228\n",
              "36  1.527248 -0.436229\n",
              "37  2.390128  1.714316\n",
              "38  9.038248  4.720375\n",
              "39  0.167793  0.237467\n",
              "40  3.508576  3.198665\n",
              "41  3.695235  0.271858\n",
              "42  6.049154  3.310421\n",
              "43  4.225308  1.804871\n",
              "44  9.619682  5.556364\n",
              "45  5.206524  3.210752\n",
              "46  3.323879  1.940422\n",
              "47  6.623876  6.458036\n",
              "48  4.697937  4.775138\n",
              "49  2.948286  0.294405"
            ],
            "text/html": [
              "\n",
              "  <div id=\"df-13bb6225-62bd-41b4-9b3a-f93fcb5ca309\">\n",
              "    <div class=\"colab-df-container\">\n",
              "      <div>\n",
              "<style scoped>\n",
              "    .dataframe tbody tr th:only-of-type {\n",
              "        vertical-align: middle;\n",
              "    }\n",
              "\n",
              "    .dataframe tbody tr th {\n",
              "        vertical-align: top;\n",
              "    }\n",
              "\n",
              "    .dataframe thead th {\n",
              "        text-align: right;\n",
              "    }\n",
              "</style>\n",
              "<table border=\"1\" class=\"dataframe\">\n",
              "  <thead>\n",
              "    <tr style=\"text-align: right;\">\n",
              "      <th></th>\n",
              "      <th>0</th>\n",
              "      <th>1</th>\n",
              "    </tr>\n",
              "  </thead>\n",
              "  <tbody>\n",
              "    <tr>\n",
              "      <th>0</th>\n",
              "      <td>4.600029</td>\n",
              "      <td>2.836163</td>\n",
              "    </tr>\n",
              "    <tr>\n",
              "      <th>1</th>\n",
              "      <td>4.139068</td>\n",
              "      <td>2.330469</td>\n",
              "    </tr>\n",
              "    <tr>\n",
              "      <th>2</th>\n",
              "      <td>4.512121</td>\n",
              "      <td>2.439628</td>\n",
              "    </tr>\n",
              "    <tr>\n",
              "      <th>3</th>\n",
              "      <td>4.961750</td>\n",
              "      <td>3.399917</td>\n",
              "    </tr>\n",
              "    <tr>\n",
              "      <th>4</th>\n",
              "      <td>1.238501</td>\n",
              "      <td>-2.649677</td>\n",
              "    </tr>\n",
              "    <tr>\n",
              "      <th>5</th>\n",
              "      <td>4.923428</td>\n",
              "      <td>4.154154</td>\n",
              "    </tr>\n",
              "    <tr>\n",
              "      <th>6</th>\n",
              "      <td>3.430480</td>\n",
              "      <td>0.267011</td>\n",
              "    </tr>\n",
              "    <tr>\n",
              "      <th>7</th>\n",
              "      <td>6.195216</td>\n",
              "      <td>4.897190</td>\n",
              "    </tr>\n",
              "    <tr>\n",
              "      <th>8</th>\n",
              "      <td>0.454792</td>\n",
              "      <td>-1.877184</td>\n",
              "    </tr>\n",
              "    <tr>\n",
              "      <th>9</th>\n",
              "      <td>1.936638</td>\n",
              "      <td>-0.415005</td>\n",
              "    </tr>\n",
              "    <tr>\n",
              "      <th>10</th>\n",
              "      <td>7.020447</td>\n",
              "      <td>2.585688</td>\n",
              "    </tr>\n",
              "    <tr>\n",
              "      <th>11</th>\n",
              "      <td>7.256576</td>\n",
              "      <td>5.368361</td>\n",
              "    </tr>\n",
              "    <tr>\n",
              "      <th>12</th>\n",
              "      <td>6.545096</td>\n",
              "      <td>4.341831</td>\n",
              "    </tr>\n",
              "    <tr>\n",
              "      <th>13</th>\n",
              "      <td>3.116132</td>\n",
              "      <td>1.149863</td>\n",
              "    </tr>\n",
              "    <tr>\n",
              "      <th>14</th>\n",
              "      <td>2.032067</td>\n",
              "      <td>-0.043425</td>\n",
              "    </tr>\n",
              "    <tr>\n",
              "      <th>15</th>\n",
              "      <td>3.066682</td>\n",
              "      <td>1.843973</td>\n",
              "    </tr>\n",
              "    <tr>\n",
              "      <th>16</th>\n",
              "      <td>4.314641</td>\n",
              "      <td>3.207839</td>\n",
              "    </tr>\n",
              "    <tr>\n",
              "      <th>17</th>\n",
              "      <td>9.478510</td>\n",
              "      <td>9.091607</td>\n",
              "    </tr>\n",
              "    <tr>\n",
              "      <th>18</th>\n",
              "      <td>3.187364</td>\n",
              "      <td>-0.288555</td>\n",
              "    </tr>\n",
              "    <tr>\n",
              "      <th>19</th>\n",
              "      <td>7.235651</td>\n",
              "      <td>4.064120</td>\n",
              "    </tr>\n",
              "    <tr>\n",
              "      <th>20</th>\n",
              "      <td>5.141790</td>\n",
              "      <td>1.351825</td>\n",
              "    </tr>\n",
              "    <tr>\n",
              "      <th>21</th>\n",
              "      <td>4.251115</td>\n",
              "      <td>2.798057</td>\n",
              "    </tr>\n",
              "    <tr>\n",
              "      <th>22</th>\n",
              "      <td>4.663414</td>\n",
              "      <td>4.602099</td>\n",
              "    </tr>\n",
              "    <tr>\n",
              "      <th>23</th>\n",
              "      <td>8.164125</td>\n",
              "      <td>5.299431</td>\n",
              "    </tr>\n",
              "    <tr>\n",
              "      <th>24</th>\n",
              "      <td>3.318225</td>\n",
              "      <td>1.007915</td>\n",
              "    </tr>\n",
              "    <tr>\n",
              "      <th>25</th>\n",
              "      <td>4.051843</td>\n",
              "      <td>1.907295</td>\n",
              "    </tr>\n",
              "    <tr>\n",
              "      <th>26</th>\n",
              "      <td>4.425868</td>\n",
              "      <td>3.608110</td>\n",
              "    </tr>\n",
              "    <tr>\n",
              "      <th>27</th>\n",
              "      <td>3.460235</td>\n",
              "      <td>2.001759</td>\n",
              "    </tr>\n",
              "    <tr>\n",
              "      <th>28</th>\n",
              "      <td>6.755441</td>\n",
              "      <td>2.765965</td>\n",
              "    </tr>\n",
              "    <tr>\n",
              "      <th>29</th>\n",
              "      <td>4.447216</td>\n",
              "      <td>1.890509</td>\n",
              "    </tr>\n",
              "    <tr>\n",
              "      <th>30</th>\n",
              "      <td>5.026459</td>\n",
              "      <td>2.236219</td>\n",
              "    </tr>\n",
              "    <tr>\n",
              "      <th>31</th>\n",
              "      <td>1.062697</td>\n",
              "      <td>-0.248522</td>\n",
              "    </tr>\n",
              "    <tr>\n",
              "      <th>32</th>\n",
              "      <td>4.441149</td>\n",
              "      <td>3.936605</td>\n",
              "    </tr>\n",
              "    <tr>\n",
              "      <th>33</th>\n",
              "      <td>4.602165</td>\n",
              "      <td>2.760621</td>\n",
              "    </tr>\n",
              "    <tr>\n",
              "      <th>34</th>\n",
              "      <td>4.944789</td>\n",
              "      <td>2.865196</td>\n",
              "    </tr>\n",
              "    <tr>\n",
              "      <th>35</th>\n",
              "      <td>1.323879</td>\n",
              "      <td>-1.238228</td>\n",
              "    </tr>\n",
              "    <tr>\n",
              "      <th>36</th>\n",
              "      <td>1.527248</td>\n",
              "      <td>-0.436229</td>\n",
              "    </tr>\n",
              "    <tr>\n",
              "      <th>37</th>\n",
              "      <td>2.390128</td>\n",
              "      <td>1.714316</td>\n",
              "    </tr>\n",
              "    <tr>\n",
              "      <th>38</th>\n",
              "      <td>9.038248</td>\n",
              "      <td>4.720375</td>\n",
              "    </tr>\n",
              "    <tr>\n",
              "      <th>39</th>\n",
              "      <td>0.167793</td>\n",
              "      <td>0.237467</td>\n",
              "    </tr>\n",
              "    <tr>\n",
              "      <th>40</th>\n",
              "      <td>3.508576</td>\n",
              "      <td>3.198665</td>\n",
              "    </tr>\n",
              "    <tr>\n",
              "      <th>41</th>\n",
              "      <td>3.695235</td>\n",
              "      <td>0.271858</td>\n",
              "    </tr>\n",
              "    <tr>\n",
              "      <th>42</th>\n",
              "      <td>6.049154</td>\n",
              "      <td>3.310421</td>\n",
              "    </tr>\n",
              "    <tr>\n",
              "      <th>43</th>\n",
              "      <td>4.225308</td>\n",
              "      <td>1.804871</td>\n",
              "    </tr>\n",
              "    <tr>\n",
              "      <th>44</th>\n",
              "      <td>9.619682</td>\n",
              "      <td>5.556364</td>\n",
              "    </tr>\n",
              "    <tr>\n",
              "      <th>45</th>\n",
              "      <td>5.206524</td>\n",
              "      <td>3.210752</td>\n",
              "    </tr>\n",
              "    <tr>\n",
              "      <th>46</th>\n",
              "      <td>3.323879</td>\n",
              "      <td>1.940422</td>\n",
              "    </tr>\n",
              "    <tr>\n",
              "      <th>47</th>\n",
              "      <td>6.623876</td>\n",
              "      <td>6.458036</td>\n",
              "    </tr>\n",
              "    <tr>\n",
              "      <th>48</th>\n",
              "      <td>4.697937</td>\n",
              "      <td>4.775138</td>\n",
              "    </tr>\n",
              "    <tr>\n",
              "      <th>49</th>\n",
              "      <td>2.948286</td>\n",
              "      <td>0.294405</td>\n",
              "    </tr>\n",
              "  </tbody>\n",
              "</table>\n",
              "</div>\n",
              "      <button class=\"colab-df-convert\" onclick=\"convertToInteractive('df-13bb6225-62bd-41b4-9b3a-f93fcb5ca309')\"\n",
              "              title=\"Convert this dataframe to an interactive table.\"\n",
              "              style=\"display:none;\">\n",
              "        \n",
              "  <svg xmlns=\"http://www.w3.org/2000/svg\" height=\"24px\"viewBox=\"0 0 24 24\"\n",
              "       width=\"24px\">\n",
              "    <path d=\"M0 0h24v24H0V0z\" fill=\"none\"/>\n",
              "    <path d=\"M18.56 5.44l.94 2.06.94-2.06 2.06-.94-2.06-.94-.94-2.06-.94 2.06-2.06.94zm-11 1L8.5 8.5l.94-2.06 2.06-.94-2.06-.94L8.5 2.5l-.94 2.06-2.06.94zm10 10l.94 2.06.94-2.06 2.06-.94-2.06-.94-.94-2.06-.94 2.06-2.06.94z\"/><path d=\"M17.41 7.96l-1.37-1.37c-.4-.4-.92-.59-1.43-.59-.52 0-1.04.2-1.43.59L10.3 9.45l-7.72 7.72c-.78.78-.78 2.05 0 2.83L4 21.41c.39.39.9.59 1.41.59.51 0 1.02-.2 1.41-.59l7.78-7.78 2.81-2.81c.8-.78.8-2.07 0-2.86zM5.41 20L4 18.59l7.72-7.72 1.47 1.35L5.41 20z\"/>\n",
              "  </svg>\n",
              "      </button>\n",
              "      \n",
              "  <style>\n",
              "    .colab-df-container {\n",
              "      display:flex;\n",
              "      flex-wrap:wrap;\n",
              "      gap: 12px;\n",
              "    }\n",
              "\n",
              "    .colab-df-convert {\n",
              "      background-color: #E8F0FE;\n",
              "      border: none;\n",
              "      border-radius: 50%;\n",
              "      cursor: pointer;\n",
              "      display: none;\n",
              "      fill: #1967D2;\n",
              "      height: 32px;\n",
              "      padding: 0 0 0 0;\n",
              "      width: 32px;\n",
              "    }\n",
              "\n",
              "    .colab-df-convert:hover {\n",
              "      background-color: #E2EBFA;\n",
              "      box-shadow: 0px 1px 2px rgba(60, 64, 67, 0.3), 0px 1px 3px 1px rgba(60, 64, 67, 0.15);\n",
              "      fill: #174EA6;\n",
              "    }\n",
              "\n",
              "    [theme=dark] .colab-df-convert {\n",
              "      background-color: #3B4455;\n",
              "      fill: #D2E3FC;\n",
              "    }\n",
              "\n",
              "    [theme=dark] .colab-df-convert:hover {\n",
              "      background-color: #434B5C;\n",
              "      box-shadow: 0px 1px 3px 1px rgba(0, 0, 0, 0.15);\n",
              "      filter: drop-shadow(0px 1px 2px rgba(0, 0, 0, 0.3));\n",
              "      fill: #FFFFFF;\n",
              "    }\n",
              "  </style>\n",
              "\n",
              "      <script>\n",
              "        const buttonEl =\n",
              "          document.querySelector('#df-13bb6225-62bd-41b4-9b3a-f93fcb5ca309 button.colab-df-convert');\n",
              "        buttonEl.style.display =\n",
              "          google.colab.kernel.accessAllowed ? 'block' : 'none';\n",
              "\n",
              "        async function convertToInteractive(key) {\n",
              "          const element = document.querySelector('#df-13bb6225-62bd-41b4-9b3a-f93fcb5ca309');\n",
              "          const dataTable =\n",
              "            await google.colab.kernel.invokeFunction('convertToInteractive',\n",
              "                                                     [key], {});\n",
              "          if (!dataTable) return;\n",
              "\n",
              "          const docLinkHtml = 'Like what you see? Visit the ' +\n",
              "            '<a target=\"_blank\" href=https://colab.research.google.com/notebooks/data_table.ipynb>data table notebook</a>'\n",
              "            + ' to learn more about interactive tables.';\n",
              "          element.innerHTML = '';\n",
              "          dataTable['output_type'] = 'display_data';\n",
              "          await google.colab.output.renderOutput(dataTable, element);\n",
              "          const docLink = document.createElement('div');\n",
              "          docLink.innerHTML = docLinkHtml;\n",
              "          element.appendChild(docLink);\n",
              "        }\n",
              "      </script>\n",
              "    </div>\n",
              "  </div>\n",
              "  "
            ]
          },
          "metadata": {},
          "execution_count": 11
        }
      ]
    },
    {
      "cell_type": "code",
      "source": [
        "# class_A = class_A_df.values\n",
        "# class_B = class_B_df.values"
      ],
      "metadata": {
        "id": "xF0zeGlhC4cu"
      },
      "execution_count": 12,
      "outputs": []
    },
    {
      "cell_type": "markdown",
      "source": [
        "## Plot 그리기"
      ],
      "metadata": {
        "id": "ZybtYKCAl1In"
      }
    },
    {
      "cell_type": "code",
      "source": [
        "import matplotlib.pyplot as plt"
      ],
      "metadata": {
        "id": "u-76ZhRVlzhJ"
      },
      "execution_count": 13,
      "outputs": []
    },
    {
      "cell_type": "code",
      "source": [
        "# class_B[:,0]\n",
        "# mean_1[0]"
      ],
      "metadata": {
        "id": "vZSLIN3nmT7Y"
      },
      "execution_count": 14,
      "outputs": []
    },
    {
      "cell_type": "code",
      "source": [
        "from matplotlib.markers import MarkerStyle\n",
        "plt.plot(class_A[:,0],class_A[:,1],marker='+',linestyle='None') # 데이터 A\n",
        "plt.plot(mean_1[0],mean_1[1],'o',ls='None', color='red', markersize=12) # 데이터 A 평균\n",
        "plt.plot(class_B[:,0],class_B[:,1],'v')  # 데이터 B\n",
        "plt.plot(mean_2[0],mean_2[1],'o',color='blue', ms=12)  # 데이터 B 평균\n",
        "# plt.plot(range(11)) # 예상할 수 있는 선형 경계"
      ],
      "metadata": {
        "colab": {
          "base_uri": "https://localhost:8080/",
          "height": 283
        },
        "id": "9e3vYG2Al-wD",
        "outputId": "93b178a7-99ca-42f1-a1e1-188ca7d6581f"
      },
      "execution_count": 15,
      "outputs": [
        {
          "output_type": "execute_result",
          "data": {
            "text/plain": [
              "[<matplotlib.lines.Line2D at 0x7fdfa2769210>]"
            ]
          },
          "metadata": {},
          "execution_count": 15
        },
        {
          "output_type": "display_data",
          "data": {
            "text/plain": [
              "<Figure size 432x288 with 1 Axes>"
            ],
            "image/png": "[encoded data removed]"
          },
          "metadata": {
            "needs_background": "light"
          }
        }
      ]
    },
    {
      "cell_type": "markdown",
      "source": [
        "# 결정경계 : 새로운 값 판단 위한 분기선\n",
        "- 여기선 각 데이터 class 평균과 거리 사용 측정 방식"
      ],
      "metadata": {
        "id": "CgLJ97l4sTu3"
      }
    },
    {
      "cell_type": "code",
      "source": [
        "class_A_mean = np.mean(class_A,axis=0)\n",
        "class_A_cov = np.cov(class_A.T)\n",
        "class_A_mean, class_A_cov"
      ],
      "metadata": {
        "colab": {
          "base_uri": "https://localhost:8080/"
        },
        "id": "ZzjZ2H88mZi4",
        "outputId": "12cec2f8-b00c-4f6b-91dd-8bb1f3971ee4"
      },
      "execution_count": 16,
      "outputs": [
        {
          "output_type": "execute_result",
          "data": {
            "text/plain": [
              "(array([3.20902787, 4.98402174]), array([[3.96764102, 3.83332394],\n",
              "        [3.83332394, 5.72462042]]))"
            ]
          },
          "metadata": {},
          "execution_count": 16
        }
      ]
    },
    {
      "cell_type": "code",
      "source": [
        "class_B_mean = np.mean(class_B,axis=0)\n",
        "class_B_cov = np.cov(class_B.T)\n",
        "class_A_mean, class_A_cov"
      ],
      "metadata": {
        "colab": {
          "base_uri": "https://localhost:8080/"
        },
        "id": "Lq0Pk1J51JLM",
        "outputId": "1c948f23-08f1-4cbd-a192-9e26b11bdd5a"
      },
      "execution_count": 17,
      "outputs": [
        {
          "output_type": "execute_result",
          "data": {
            "text/plain": [
              "(array([3.20902787, 4.98402174]), array([[3.96764102, 3.83332394],\n",
              "        [3.83332394, 5.72462042]]))"
            ]
          },
          "metadata": {},
          "execution_count": 17
        }
      ]
    },
    {
      "cell_type": "code",
      "source": [
        "# 예측할려고 하는 새로운 값\n",
        "new_data_02 = np.array([3,1])\n",
        "new_data_02, type(new_data_02), new_data_02.shape, new_data_02[0],new_data_02[1],"
      ],
      "metadata": {
        "colab": {
          "base_uri": "https://localhost:8080/"
        },
        "id": "J3ohafaVMiUd",
        "outputId": "9c89f878-ebef-4fcf-c175-2eb90311dcc6"
      },
      "execution_count": 18,
      "outputs": [
        {
          "output_type": "execute_result",
          "data": {
            "text/plain": [
              "(array([3, 1]), numpy.ndarray, (2,), 3, 1)"
            ]
          },
          "metadata": {},
          "execution_count": 18
        }
      ]
    },
    {
      "cell_type": "code",
      "source": [
        "# 예측할려고 하는 새로운 값\n",
        "new_data_01 = np.array([8,9])\n",
        "new_data_01, type(new_data_01), new_data_01.shape, new_data_01[0],new_data_01[1],"
      ],
      "metadata": {
        "colab": {
          "base_uri": "https://localhost:8080/"
        },
        "id": "hygMVFMFUpTl",
        "outputId": "4ebc503a-44a3-4e6b-a4cd-5dc2dc43a15a"
      },
      "execution_count": 19,
      "outputs": [
        {
          "output_type": "execute_result",
          "data": {
            "text/plain": [
              "(array([8, 9]), numpy.ndarray, (2,), 8, 9)"
            ]
          },
          "metadata": {},
          "execution_count": 19
        }
      ]
    },
    {
      "cell_type": "markdown",
      "source": [
        "## 그래프로 판단\n"
      ],
      "metadata": {
        "id": "V-kdmBOkRars"
      }
    },
    {
      "cell_type": "code",
      "source": [
        "plt.plot(range(11))\n",
        "plt.plot(class_A_mean[0],class_A_mean[1],'o',color='red', ms=12)  # 데이터 A 평균\n",
        "plt.plot(class_B_mean[0],class_B_mean[1],'o',color='blue', ms=12)  # 데이터 B 평균\n",
        "plt.plot(new_data_01[0],new_data_01[1],'p',color='black', ms=12)  # 데이터 A 평균\n",
        "plt.plot(new_data_02[0],new_data_02[1],'v',color='green', ms=12)  # 데이터 B 평균\n",
        "plt.show()"
      ],
      "metadata": {
        "colab": {
          "base_uri": "https://localhost:8080/",
          "height": 265
        },
        "id": "yB8QVp7eOYUD",
        "outputId": "0d9c2495-6894-4ccd-8c45-42efba9e18bd"
      },
      "execution_count": 20,
      "outputs": [
        {
          "output_type": "display_data",
          "data": {
            "text/plain": [
              "<Figure size 432x288 with 1 Axes>"
            ],
            "image/png": "[encoded data removed]"
          },
          "metadata": {
            "needs_background": "light"
          }
        }
      ]
    },
    {
      "cell_type": "markdown",
      "source": [
        "### 판별함수(discriminant function)로 판단\n",
        "$\n",
        "g(x) = d(x, m_2) - d(x, m_1) = 0 \\\\\n",
        "= (x-m_1)^T(x-m_1) - (x-m_2)^T(x-m_2) \\\\\n",
        "= -2(m_1-m_2)^Tx + m_1^Tm_1-m_2^Tm_2 -> 유클리디안 거리의 제곱 방식\n",
        "$\n",
        "### 클래스 라벨\n",
        "$\n",
        "y(x) = \\left\\{\n",
        "        \\begin{array}{cl}\n",
        "        1 & if & g(x) > 0 & >> 데이터 A\\\\\n",
        "        -1 & if & g(x) < 0 & >> 데이터 B \n",
        "        \\end{array}\n",
        "        \\right.\n",
        "$"
      ],
      "metadata": {
        "id": "vypYu9r9RvYN"
      }
    },
    {
      "cell_type": "markdown",
      "source": [
        "#### $𝑔(𝑥)=𝑑(𝑥,𝑚2)−𝑑(𝑥,𝑚1)$"
      ],
      "metadata": {
        "id": "1BR9F_P4Uww_"
      }
    },
    {
      "cell_type": "code",
      "source": [
        "np.linalg.norm(new_data_01-class_B_mean) - np.linalg.norm(new_data_01-class_A_mean) # class A"
      ],
      "metadata": {
        "colab": {
          "base_uri": "https://localhost:8080/"
        },
        "id": "CmilXRAEVru-",
        "outputId": "1cdbb13c-fb8f-434b-c988-02e04cf4d6b0"
      },
      "execution_count": 21,
      "outputs": [
        {
          "output_type": "execute_result",
          "data": {
            "text/plain": [
              "1.2173067711404641"
            ]
          },
          "metadata": {},
          "execution_count": 21
        }
      ]
    },
    {
      "cell_type": "code",
      "source": [
        "np.linalg.norm(new_data_02-class_B_mean) - np.linalg.norm(new_data_02-class_A_mean) # class B"
      ],
      "metadata": {
        "colab": {
          "base_uri": "https://localhost:8080/"
        },
        "id": "fty9nbQrTONW",
        "outputId": "22230d97-b265-4cfb-dcfd-ee9badebed41"
      },
      "execution_count": 22,
      "outputs": [
        {
          "output_type": "execute_result",
          "data": {
            "text/plain": [
              "-1.952180179204856"
            ]
          },
          "metadata": {},
          "execution_count": 22
        }
      ]
    },
    {
      "cell_type": "markdown",
      "source": [
        "#### $g(x) = \\sqrt{(x-m_2)^T(x-m_2)} - \\sqrt{(x-m_1)^T(x-m_1)} $ -> 유클리디안 거리식 방식"
      ],
      "metadata": {
        "id": "46Up2SRzVKtK"
      }
    },
    {
      "cell_type": "code",
      "source": [
        "first = np.sqrt(np.matmul((new_data_01 - class_B_mean).T, (new_data_01 - class_B_mean)))\n",
        "first, type(first), first.shape"
      ],
      "metadata": {
        "id": "QqEDJoO3yaXf",
        "outputId": "27fc4de3-004b-4c91-f2e5-f5979c0102eb",
        "colab": {
          "base_uri": "https://localhost:8080/"
        }
      },
      "execution_count": 23,
      "outputs": [
        {
          "output_type": "execute_result",
          "data": {
            "text/plain": [
              "(7.468826216538792, numpy.float64, ())"
            ]
          },
          "metadata": {},
          "execution_count": 23
        }
      ]
    },
    {
      "cell_type": "code",
      "source": [
        "second = np.sqrt(np.matmul((new_data_01 - class_A_mean).T, (new_data_01 - class_A_mean)))\n",
        "second, type(second), second.shape"
      ],
      "metadata": {
        "id": "6_4l0vrGyf65",
        "outputId": "020f162e-d4fb-4e14-ff70-893bfbfa0fc9",
        "colab": {
          "base_uri": "https://localhost:8080/"
        }
      },
      "execution_count": 24,
      "outputs": [
        {
          "output_type": "execute_result",
          "data": {
            "text/plain": [
              "(6.251519445398328, numpy.float64, ())"
            ]
          },
          "metadata": {},
          "execution_count": 24
        }
      ]
    },
    {
      "cell_type": "code",
      "source": [
        "result = second - first   # class A\n",
        "result"
      ],
      "metadata": {
        "id": "K4Neb6xxykt6",
        "outputId": "51987c7f-5df2-4eff-bdc7-e0f24a6d23c7",
        "colab": {
          "base_uri": "https://localhost:8080/"
        }
      },
      "execution_count": 25,
      "outputs": [
        {
          "output_type": "execute_result",
          "data": {
            "text/plain": [
              "-1.2173067711404641"
            ]
          },
          "metadata": {},
          "execution_count": 25
        }
      ]
    },
    {
      "cell_type": "code",
      "source": [
        "first = np.sqrt(np.matmul((new_data_02 - class_B_mean).T, (new_data_02 - class_B_mean)))\n",
        "first, type(first), first.shape"
      ],
      "metadata": {
        "id": "DUXnn_iYshho",
        "outputId": "de6eb7bc-27fb-49ee-c270-105e1adc7f7e",
        "colab": {
          "base_uri": "https://localhost:8080/"
        }
      },
      "execution_count": 26,
      "outputs": [
        {
          "output_type": "execute_result",
          "data": {
            "text/plain": [
              "(2.037321276064938, numpy.float64, ())"
            ]
          },
          "metadata": {},
          "execution_count": 26
        }
      ]
    },
    {
      "cell_type": "code",
      "source": [
        "second = np.sqrt(np.matmul((new_data_02 - class_A_mean).T, (new_data_02 - class_A_mean)))\n",
        "second, type(second), second.shape"
      ],
      "metadata": {
        "id": "qxnX-HpcI9ND",
        "outputId": "7652d190-f095-4834-80ba-2d03590b178d",
        "colab": {
          "base_uri": "https://localhost:8080/"
        }
      },
      "execution_count": 27,
      "outputs": [
        {
          "output_type": "execute_result",
          "data": {
            "text/plain": [
              "(3.989501455269794, numpy.float64, ())"
            ]
          },
          "metadata": {},
          "execution_count": 27
        }
      ]
    },
    {
      "cell_type": "code",
      "source": [
        "result = second - first   # class B\n",
        "result"
      ],
      "metadata": {
        "id": "9toGdvO5OYLa",
        "outputId": "11a62de5-e870-4cae-d135-7905222542a9",
        "colab": {
          "base_uri": "https://localhost:8080/"
        }
      },
      "execution_count": 28,
      "outputs": [
        {
          "output_type": "execute_result",
          "data": {
            "text/plain": [
              "1.952180179204856"
            ]
          },
          "metadata": {},
          "execution_count": 28
        }
      ]
    },
    {
      "cell_type": "markdown",
      "source": [
        "# 성능평가"
      ],
      "metadata": {
        "id": "JNb05V0a0Qng"
      }
    },
    {
      "cell_type": "markdown",
      "source": [
        "### 평균 거리 이용"
      ],
      "metadata": {
        "id": "YoFXUK9_0Tsp"
      }
    },
    {
      "cell_type": "code",
      "source": [
        "class_A_error_count, class_B_error_count = 0, 0\n",
        "for idx in range(row_count):\n",
        "  distance_A = np.linalg.norm(class_A[idx] - class_A_mean) - np.linalg.norm(class_A[idx] - class_B_mean)\n",
        "  if distance_A > 0 :\n",
        "    class_A_error_count += 1\n",
        "  distance_B = np.linalg.norm(class_B[idx] - class_A_mean) - np.linalg.norm(class_B[idx] - class_B_mean)\n",
        "  if distance_B < 0 :\n",
        "    class_B_error_count += 1    \n",
        "\n",
        "(class_A_error_count + class_B_error_count) / row_count, class_A_error_count, class_B_error_count, "
      ],
      "metadata": {
        "colab": {
          "base_uri": "https://localhost:8080/"
        },
        "id": "NYuGZih4VsX0",
        "outputId": "20f6e1bf-ce9b-4c94-a652-b48f0b667fc3"
      },
      "execution_count": 29,
      "outputs": [
        {
          "output_type": "execute_result",
          "data": {
            "text/plain": [
              "(0.28, 9, 5)"
            ]
          },
          "metadata": {},
          "execution_count": 29
        }
      ]
    },
    {
      "cell_type": "markdown",
      "source": [
        "# try on it\n",
        "샘플 갯수 증가하면, 성능 좋아짐.(row_count=1000 --> 약 0.28)"
      ],
      "metadata": {
        "id": "x3d_f-rC3Abg"
      }
    },
    {
      "cell_type": "code",
      "source": [
        ""
      ],
      "metadata": {
        "id": "nNgipmM62xOh"
      },
      "execution_count": 29,
      "outputs": []
    }
  ]
}