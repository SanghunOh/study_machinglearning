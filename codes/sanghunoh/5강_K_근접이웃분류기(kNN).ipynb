{
  "nbformat": 4,
  "nbformat_minor": 0,
  "metadata": {
    "colab": {
      "name": "5강_K-근접이웃분류기(kNN).ipynb",
      "provenance": [],
      "mount_file_id": "1FzBFf17mgeSdVSMxU_oO_k9y6SA9Rr7B",
      "authorship_tag": "ABX9TyNsbIQmK6X2WDi5dor+OG0P",
      "include_colab_link": true
    },
    "kernelspec": {
      "name": "python3",
      "display_name": "Python 3"
    },
    "language_info": {
      "name": "python"
    }
  },
  "cells": [
    {
      "cell_type": "markdown",
      "metadata": {
        "id": "view-in-github",
        "colab_type": "text"
      },
      "source": [
        "<a href=\"https://colab.research.google.com/github/SanghunOh/study_machinglearning/blob/main/codes/sanghunoh/5%EA%B0%95_K_%EA%B7%BC%EC%A0%91%EC%9D%B4%EC%9B%83%EB%B6%84%EB%A5%98%EA%B8%B0(kNN).ipynb\" target=\"_parent\"><img src=\"https://colab.research.google.com/assets/colab-badge.svg\" alt=\"Open In Colab\"/></a>"
      ]
    },
    {
      "cell_type": "markdown",
      "source": [
        "# load data"
      ],
      "metadata": {
        "id": "4b9sWEIA7f_j"
      }
    },
    {
      "cell_type": "code",
      "source": [
        "# 작업 경로 설정\n",
        "import os\n",
        "os.chdir(r\"/content/drive/MyDrive/Colab Notebooks/00.study/10.knou\")\n",
        "!pwd\n",
        "# !ls"
      ],
      "metadata": {
        "colab": {
          "base_uri": "https://localhost:8080/"
        },
        "id": "K63CveZr7jLW",
        "outputId": "55e32c97-2ac0-4adf-930a-3441a4b4232c"
      },
      "execution_count": 3,
      "outputs": [
        {
          "output_type": "stream",
          "name": "stdout",
          "text": [
            "/content/drive/MyDrive/Colab Notebooks/00.study/10.knou\n"
          ]
        }
      ]
    },
    {
      "cell_type": "code",
      "source": [
        "# !rm -rf ./dataCh4_7.mat\n",
        "!unzip -o ./dataCh4_7.zip\n",
        "!ls *.mat"
      ],
      "metadata": {
        "colab": {
          "base_uri": "https://localhost:8080/"
        },
        "id": "kzJ7b6xU7uuG",
        "outputId": "08e1158d-164f-47b7-e9da-2722c3eecdf1"
      },
      "execution_count": 4,
      "outputs": [
        {
          "output_type": "stream",
          "name": "stdout",
          "text": [
            "Archive:  ./dataCh4_7.zip\n",
            "  inflating: dataCh4_7.mat           \n",
            "dataCh4_7.mat\n"
          ]
        }
      ]
    },
    {
      "cell_type": "code",
      "source": [
        "# read dataset file\n",
        "import scipy.io\n",
        "mat = scipy.io.loadmat('./dataCh4_7.mat')\n",
        "type(mat), mat.keys(),"
      ],
      "metadata": {
        "colab": {
          "base_uri": "https://localhost:8080/"
        },
        "id": "-zGT0Vj47ysG",
        "outputId": "1d114ce1-7a53-43cb-f0b6-7258b6abe010"
      },
      "execution_count": 5,
      "outputs": [
        {
          "output_type": "execute_result",
          "data": {
            "text/plain": [
              "(dict,\n",
              " dict_keys(['__header__', '__version__', '__globals__', 'X1', 'X2', 'X3', 'X1_test', 'X2_test', 'X3_test']))"
            ]
          },
          "metadata": {},
          "execution_count": 5
        }
      ]
    },
    {
      "cell_type": "code",
      "execution_count": 1,
      "metadata": {
        "id": "F-YogUB95fsb"
      },
      "outputs": [],
      "source": [
        "import numpy as np"
      ]
    },
    {
      "cell_type": "code",
      "source": [
        ""
      ],
      "metadata": {
        "id": "pL3wWsk_66AP"
      },
      "execution_count": null,
      "outputs": []
    }
  ]
}