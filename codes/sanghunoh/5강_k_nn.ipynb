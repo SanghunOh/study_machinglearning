{
  "nbformat": 4,
  "nbformat_minor": 0,
  "metadata": {
    "colab": {
      "name": "5강 k-nn.ipynb",
      "provenance": [],
      "authorship_tag": "ABX9TyPZIIfb7X6hVi+yTVs0u3Pt",
      "include_colab_link": true
    },
    "kernelspec": {
      "name": "python3",
      "display_name": "Python 3"
    },
    "language_info": {
      "name": "python"
    }
  },
  "cells": [
    {
      "cell_type": "markdown",
      "metadata": {
        "id": "view-in-github",
        "colab_type": "text"
      },
      "source": [
        "<a href=\"https://colab.research.google.com/github/SanghunOh/study_machinglearning/blob/main/codes/sanghunoh/5%EA%B0%95_k_nn.ipynb\" target=\"_parent\"><img src=\"https://colab.research.google.com/assets/colab-badge.svg\" alt=\"Open In Colab\"/></a>"
      ]
    },
    {
      "cell_type": "markdown",
      "source": [
        "\n",
        "\n",
        "\n",
        "비모수적 확률밀도 추정과 최근접 이웃 분류기\n",
        "\n",
        "부피 V를 x의 함수, 데이터 수 K 고정 \n",
        "$$p(x|C_i) = \\frac{1}{V_i(x)}\\frac{K}{N}$$\n",
        "\n",
        "$$V_i(x)를　d(x,x^i_K)를　반경으로　하는　r_i(x)에　n차원　입력　공간상의 단위구　u_n의　곱으로　변경$$\n",
        "\n",
        "단위구가 뭔지 궁금하시다면 따로 공부 하시는 거 추천...\n",
        "\n",
        "$$p(x|C_i) = \\frac{1}{u_n}\\frac{1}{(r_i(x))^n}\\frac{K}{N}$$\n",
        "\n",
        "베이지안분류기 정의(데이터 x가 각 클래스로부터 생성되었을 확률을 계산하고, 이것들 가장 높은 확률을 가지는 클래스로 할당)에 따라 식을 아래와 같이 변경\n",
        "\n",
        "$$y(x)=argmin_i\\{r_i(x)\\}$$\n",
        "\n",
        "** 가장 가까운 데이터의 클래스에 따라 같이 할당"
      ],
      "metadata": {
        "id": "tD-IqEkBWHC5"
      }
    },
    {
      "cell_type": "markdown",
      "source": [
        "Class a,b,c의 데이터 생성"
      ],
      "metadata": {
        "id": "CeMdVQrRg-Lh"
      }
    },
    {
      "cell_type": "code",
      "source": [
        "import matplotlib.pyplot as plt\n",
        "from matplotlib.markers import MarkerStyle\n",
        "import numpy as np\n",
        "\n",
        "np.random.seed(50)\n",
        "row_count = 50\n",
        "\n",
        "mean_a = np.array([3,5])\n",
        "cov_a = np.array([[6,2],[3,6]])\n",
        "rand_std_a = np.random.randn(row_count, 2)\n",
        "class_a = rand_std_a @ np.sqrt(cov_a) + mean_a\n",
        "\n",
        "\n",
        "mean_b = np.array([7,1])\n",
        "cov_b = np.array([[5,1],[1,5]])\n",
        "rand_std_b = np.random.randn(row_count, 2)\n",
        "class_b = rand_std_b @ np.sqrt(cov_b) + mean_b\n",
        "\n",
        "mean_c = np.array([2,-2])\n",
        "cov_c = np.array([[4,3],[3,0]])\n",
        "rand_std_c = np.random.randn(row_count, 2)\n",
        "class_c = rand_std_c @ np.sqrt(cov_c) + mean_c\n",
        "\n",
        "mean_a,cov_a,class_a.shape\n",
        "mean_b,cov_b,class_b.shape\n",
        "mean_c,cov_c,class_c.shape\n",
        "\n",
        "plt.plot(class_a[:,0], class_a[:,1], marker='+', linestyle='None')\n",
        "plt.plot(class_b[:,0], class_b[:,1], marker='^', linestyle='None')\n",
        "plt.plot(class_c[:,0], class_c[:,1], marker='v', linestyle='None')"
      ],
      "metadata": {
        "colab": {
          "base_uri": "https://localhost:8080/",
          "height": 283
        },
        "id": "ivmyFstKgPGZ",
        "outputId": "05e0e975-f52e-4fbd-eba0-d27bd804efdd"
      },
      "execution_count": 137,
      "outputs": [
        {
          "output_type": "execute_result",
          "data": {
            "text/plain": [
              "[<matplotlib.lines.Line2D at 0x7fd4c5e9ad50>]"
            ]
          },
          "metadata": {},
          "execution_count": 137
        },
        {
          "output_type": "display_data",
          "data": {
            "text/plain": [
              "<Figure size 432x288 with 1 Axes>"
            ],
            "image/png": "[encoded data removed]"
          },
          "metadata": {
            "needs_background": "light"
          }
        }
      ]
    },
    {
      "cell_type": "markdown",
      "source": [
        "Class a,b,c의 데이터 가시화"
      ],
      "metadata": {
        "id": "btZKP9K4krnu"
      }
    },
    {
      "cell_type": "markdown",
      "source": [
        "K_NearestNeighbor"
      ],
      "metadata": {
        "id": "-XaP73fzk0lP"
      }
    },
    {
      "cell_type": "code",
      "source": [
        "k = 5 # 몇 개의 이웃한 데이터를 점검할 지 지정"
      ],
      "metadata": {
        "id": "_xJ0f1kTVr7X"
      },
      "execution_count": 141,
      "outputs": []
    },
    {
      "cell_type": "code",
      "source": [
        "Etrain = 0 #Error train\n",
        "Etrain_list=[] #Error train 으로 분류된 것을 표시하기 위해 선언\n",
        "Error_rate = 0 #오분류율\n",
        "\n",
        "# 근접이웃 분류기를 통해 새롭게 데이터 분류 \n",
        "class_new_a_list=[] \n",
        "class_new_b_list=[] \n",
        "class_new_c_list=[] \n",
        "\n",
        "distance_list = [] # 해당 데이터와 나머지 전체 데이터 사이의 거리\n",
        "class_vstack = np.vstack([class_a,class_b,class_c])\n",
        "\n",
        "for i in range(len(class_vstack)):\n",
        "  id_i = class_vstack[i]\n",
        "\n",
        "  distance_list.clear() #각 데이터 마다 거리 순위를 뽑아야 하므로 거리 리스트는 초기화\n",
        "  \n",
        "  for j in range(1,len(class_vstack)):\n",
        "    distance = np.linalg.norm(id_i-class_vstack[j],2) #거리함수는 2차 norm(유클리디안 거리) 사용\n",
        "    distance_list.append([distance,j])  # j를 함께 리스트에 넣어주는 이유는 라벨링 때문\n",
        "  \n",
        "  distance_list.sort(key=lambda x:x[0]) # 가장 가까운 순으로 정렬\n",
        "\n",
        "  count=[0,0,0] \n",
        "  for j in range(0,k):                  # k개 만큼 이웃한 데이터의 투표 진행\n",
        "    if distance_list[j][1] < row_count*1:\n",
        "      count[0] = count[0]+1\n",
        "    elif distance_list[j][1] >= row_count*1 and distance_list[j][1] < row_count*2:\n",
        "      count[1] = count[1]+1\n",
        "    elif distance_list[j][1] >= row_count*2:\n",
        "      count[2] = count[2]+1\n",
        "  \n",
        "  tmp = max(count)\n",
        "  index = count.index(tmp)              # 투표 결과 공개\n",
        "  \n",
        "  if index == 0:                        # 투표 결과에 따라 분류가 잘못된 것을 뽑음\n",
        "    class_new_a_list.append(id_i)\n",
        "    if id_i not in class_a:\n",
        "      Etrain = Etrain +1\n",
        "      Etrain_list.append(id_i)\n",
        "  elif index == 1:\n",
        "    class_new_b_list.append(id_i)\n",
        "    if id_i not in class_b:\n",
        "      Etrain = Etrain +1\n",
        "      Etrain_list.append(id_i)\n",
        "  else :\n",
        "    class_new_c_list.append(id_i)\n",
        "    if id_i not in class_c:\n",
        "      Etrain = Etrain +1\n",
        "      Etrain_list.append(id_i)\n",
        "\n",
        "Error_rate = Etrain/(class_vstack.shape[0])\n",
        "\n",
        "class_new_a=np.array(class_new_a_list)\n",
        "class_new_b=np.array(class_new_b_list)\n",
        "class_new_c=np.array(class_new_c_list) \n",
        "Etrain_data = np.array(Etrain_list)\n",
        "\n",
        "plt.plot(class_new_a[:,0], class_new_a[:,1], marker='+', linestyle='None')\n",
        "plt.plot(class_new_b[:,0], class_new_b[:,1], marker='^', linestyle='None')\n",
        "plt.plot(class_new_c[:,0], class_new_c[:,1], marker='v', linestyle='None')\n",
        "plt.plot(Etrain_data[:,0], Etrain_data[:,1], marker='*', linestyle='None')\n",
        "print(\"%.3f\" % (Error_rate),\"%\")"
      ],
      "metadata": {
        "colab": {
          "base_uri": "https://localhost:8080/",
          "height": 283
        },
        "id": "3EnaoAjslS88",
        "outputId": "8b4ab778-ae73-45ce-c6e3-4d078013a28b"
      },
      "execution_count": 142,
      "outputs": [
        {
          "output_type": "stream",
          "name": "stdout",
          "text": [
            "0.207 %\n"
          ]
        },
        {
          "output_type": "display_data",
          "data": {
            "text/plain": [
              "<Figure size 432x288 with 1 Axes>"
            ],
            "image/png": "[encoded data removed]"
          },
          "metadata": {
            "needs_background": "light"
          }
        }
      ]
    },
    {
      "cell_type": "markdown",
      "source": [
        "k-NN 분류기와 비모수적 (확률)밀도 추정\n",
        "\n",
        "$$p(x|C_i) =  \\frac{1}{V_k(x)}\\frac{K_i(x)}{N}$$\n",
        "$$K_i(x): K개의　데이터를　포함하는　영역의　부피$$\n",
        "$$K_1, K_2, ..., K_M:　V_K(x)　내에　포함된　각　클래스별　데이터의　개수$$\n",
        "$$N　각　V_K(x)내에　있는　모든　데이터의　수$$\n",
        "$$y(x) = argmax_i\\{K_i(x)\\}$$\n",
        "\n",
        "\n",
        "\n"
      ],
      "metadata": {
        "id": "5VnRatTFOpVb"
      }
    },
    {
      "cell_type": "markdown",
      "source": [
        "아래의 내용은 교재에서 결정경계를 그리는 방법을 차용해서 Python으로 구현한 것입니다.\n",
        "\n",
        "하지만 교재의 방법을 그대로 가져다 쓰기에는 시간과 가용자원이 많이 듦으로 비효율적이라 판단됩니다.\n",
        "\n",
        "그래서.... 도움이 필요합니다.\n",
        "어떻게 하면 간단하게 라인만 따서 결정경계를 그릴 수 있을까요?"
      ],
      "metadata": {
        "id": "Xtd1hu_x1cdu"
      }
    },
    {
      "cell_type": "code",
      "source": [
        "arang = np.arange(-5,12.5,0.1)\n",
        "grid_x,grid_y = np.meshgrid(arang,arang)\n",
        "\n",
        "axis_x = np.reshape(grid_x, (-1,1))\n",
        "axis_y = np.reshape(grid_y, (-1,1))\n",
        "mesh_xy = np.hstack((axis_x,axis_y))\n",
        "\n",
        "# 근접이웃 분류기를 통해 새롭게 데이터 분류 \n",
        "class_new_a_list.clear() \n",
        "class_new_b_list.clear()\n",
        "class_new_c_list.clear()\n",
        "\n",
        "label_list = []\n",
        "\n",
        "for i in range(mesh_xy.shape[0]):\n",
        "  xt = mesh_xy[i]\n",
        "  \n",
        "  distance_list.clear() #각 데이터 마다 거리 순위를 뽑아야 하므로 거리 리스트는 초기화\n",
        "  for j in range(1,len(class_vstack)):   \n",
        "    distance = np.linalg.norm(xt-class_vstack[j],2) #거리함수는 2차 norm(유클리디안 거리) 사용\n",
        "    distance_list.append([distance,j])  # j를 함께 리스트에 넣어주는 이유는 라벨링 때문\n",
        "  \n",
        "  distance_list.sort(key=lambda x:x[0]) # 가장 가까운 순으로 정렬\n",
        "\n",
        "  count=[0,0,0] \n",
        "  for j in range(0,k):                  # k개 만큼 이웃한 데이터의 투표 진행\n",
        "    if distance_list[j][1] < row_count*1:\n",
        "      count[0] = count[0]+1\n",
        "    elif distance_list[j][1] >= row_count*1 and distance_list[j][1] < row_count*2:\n",
        "      count[1] = count[1]+1\n",
        "    elif distance_list[j][1] >= row_count*2:\n",
        "      count[2] = count[2]+1\n",
        "  \n",
        "  tmp = max(count)\n",
        "  index = count.index(tmp)              # 투표 결과 공개\n",
        "  \n",
        "  if index == 0:                        # 투표 결과에 따라 분류가 잘못된 것을 뽑음\n",
        "    class_new_a_list.append(xt)\n",
        "    if xt not in class_a:\n",
        "      Etrain = Etrain +1\n",
        "      Etrain_list.append(xt)\n",
        "  elif index == 1:\n",
        "    class_new_b_list.append(xt)\n",
        "    if xt not in class_b:\n",
        "      Etrain = Etrain +1\n",
        "      Etrain_list.append(xt)\n",
        "  else :\n",
        "    class_new_c_list.append(xt)\n",
        "    if xt not in class_c:\n",
        "      Etrain = Etrain +1\n",
        "      Etrain_list.append(xt)\n",
        "  \n",
        "  label_list.append(index)\n",
        "\n",
        "Error_rate = Etrain/(class_vstack.shape[0])\n",
        "\n",
        "class_new_a=np.array(class_new_a_list)\n",
        "class_new_b=np.array(class_new_b_list)\n",
        "class_new_c=np.array(class_new_c_list) \n",
        "Etrain_data = np.array(Etrain_list)\n",
        "\n",
        "plt.plot(class_new_a[:,0], class_new_a[:,1], marker='+', linestyle='None')\n",
        "plt.plot(class_new_b[:,0], class_new_b[:,1], marker='^', linestyle='None')\n",
        "plt.plot(class_new_c[:,0], class_new_c[:,1], marker='v', linestyle='None')"
      ],
      "metadata": {
        "colab": {
          "base_uri": "https://localhost:8080/",
          "height": 283
        },
        "id": "b1dfIvbIc03y",
        "outputId": "5152a68c-901b-4b9d-a5e6-a782a480a695"
      },
      "execution_count": 183,
      "outputs": [
        {
          "output_type": "execute_result",
          "data": {
            "text/plain": [
              "[<matplotlib.lines.Line2D at 0x7fd4c62f1050>]"
            ]
          },
          "metadata": {},
          "execution_count": 183
        },
        {
          "output_type": "display_data",
          "data": {
            "text/plain": [
              "<Figure size 432x288 with 1 Axes>"
            ],
            "image/png": "[encoded data removed]"
          },
          "metadata": {
            "needs_background": "light"
          }
        }
      ]
    }
  ]
}