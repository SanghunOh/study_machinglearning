{
  "nbformat": 4,
  "nbformat_minor": 0,
  "metadata": {
    "colab": {
      "name": "과제_5_2_\bMLP.ipynb",
      "provenance": [],
      "collapsed_sections": [],
      "include_colab_link": true
    },
    "kernelspec": {
      "name": "python3",
      "display_name": "Python 3"
    },
    "language_info": {
      "name": "python"
    }
  },
  "cells": [
    {
      "cell_type": "markdown",
      "metadata": {
        "id": "view-in-github",
        "colab_type": "text"
      },
      "source": [
        "<a href=\"https://colab.research.google.com/github/SanghunOh/study_machinglearning/blob/main/codes/sanghunoh/reports/%EA%B3%BC%EC%A0%9C_5_2_%08MLP.ipynb\" target=\"_parent\"><img src=\"https://colab.research.google.com/assets/colab-badge.svg\" alt=\"Open In Colab\"/></a>"
      ]
    },
    {
      "cell_type": "markdown",
      "source": [
        "2. (50점) 교재 프로그램 11-1을 참고하여, 주어진 데이터 HW5Data_2.mat에 대한 다층 퍼셉트론 모델을 구현하시오. 데이터의 변수 X는 30개의 2차원 샘플로 구성되었으며, Y는 30개 데이터에 대한 클래스 레이블로 one-hot representation으로 구분되어 있다. One-hot representation은 M개 클래스에 대한 클래스 정보를 M차원의 벡터로 표현하되  해당 되는 클래스는 1, 나머지는 모두 0으로 표현하는 방식으로 과제에서는 3차원 벡터로 표현되어 있으며 1열의 값이 1이고 2,3열의 값이 0이라면 해당 데이터는 1번 클래스이다\n",
        "(단, 종료조건으로 최대 반복횟수는 1,000회 그리고 학습오차 0.05 미만으로 설정하시오)\n"
      ],
      "metadata": {
        "id": "mqzajhMfTcGq"
      }
    },
    {
      "cell_type": "markdown",
      "source": [
        "##load Dataset"
      ],
      "metadata": {
        "id": "Z8yRqEtsW3Eu"
      }
    },
    {
      "cell_type": "code",
      "source": [
        "!pip install mat73"
      ],
      "metadata": {
        "colab": {
          "base_uri": "https://localhost:8080/"
        },
        "id": "g2PGiBk5UgRp",
        "outputId": "8c20908e-0385-4278-f86e-2e6206ff7c03"
      },
      "execution_count": 1,
      "outputs": [
        {
          "output_type": "stream",
          "name": "stdout",
          "text": [
            "Looking in indexes: https://pypi.org/simple, https://us-python.pkg.dev/colab-wheels/public/simple/\n",
            "Requirement already satisfied: mat73 in /usr/local/lib/python3.7/dist-packages (0.59)\n",
            "Requirement already satisfied: h5py in /usr/local/lib/python3.7/dist-packages (from mat73) (3.1.0)\n",
            "Requirement already satisfied: numpy in /usr/local/lib/python3.7/dist-packages (from mat73) (1.21.6)\n",
            "Requirement already satisfied: cached-property in /usr/local/lib/python3.7/dist-packages (from h5py->mat73) (1.5.2)\n"
          ]
        }
      ]
    },
    {
      "cell_type": "code",
      "source": [
        "import mat73\n",
        "mat_contents = mat73.loadmat('./HW5Data_2.mat')\n",
        "mat_contents.keys()"
      ],
      "metadata": {
        "colab": {
          "base_uri": "https://localhost:8080/"
        },
        "id": "Bl6WxaFuUpSF",
        "outputId": "a6eb7ff1-f2bd-4d57-e212-4f733cc8c20c"
      },
      "execution_count": 2,
      "outputs": [
        {
          "output_type": "execute_result",
          "data": {
            "text/plain": [
              "dict_keys(['X', 'Y'])"
            ]
          },
          "metadata": {},
          "execution_count": 2
        }
      ]
    },
    {
      "cell_type": "code",
      "source": [
        "features = mat_contents['X']\n",
        "features.shape, features[2], type(features)"
      ],
      "metadata": {
        "colab": {
          "base_uri": "https://localhost:8080/"
        },
        "id": "Ohr7CVOJVrYH",
        "outputId": "0aab3716-b4b9-4094-dfa8-9dab5dff5acb"
      },
      "execution_count": 3,
      "outputs": [
        {
          "output_type": "execute_result",
          "data": {
            "text/plain": [
              "((30, 2), array([-0.07894997,  0.72328409]), numpy.ndarray)"
            ]
          },
          "metadata": {},
          "execution_count": 3
        }
      ]
    },
    {
      "cell_type": "code",
      "source": [
        "labels_onehot = mat_contents['Y']\n",
        "labels_onehot.shape, labels_onehot[2], type(labels_onehot)"
      ],
      "metadata": {
        "colab": {
          "base_uri": "https://localhost:8080/"
        },
        "id": "_k_Mue3aV_y8",
        "outputId": "2ef2a4ff-ea3c-45a9-85d6-c0a76659730f"
      },
      "execution_count": 4,
      "outputs": [
        {
          "output_type": "execute_result",
          "data": {
            "text/plain": [
              "((30, 3), array([1., 0., 0.]), numpy.ndarray)"
            ]
          },
          "metadata": {},
          "execution_count": 4
        }
      ]
    },
    {
      "cell_type": "markdown",
      "source": [
        "##(1) (10점) 데이터 HW5Data_2.mat을 불러온 다음 클래스가 구분되도록 2차원 평면에 산점도를 그리시오."
      ],
      "metadata": {
        "id": "Jh7guY5VUY8C"
      }
    },
    {
      "cell_type": "code",
      "source": [
        "import numpy as np\n",
        "\n",
        "labels = np.argmax(labels_onehot, axis=1)\n",
        "labels.shape, labels[2], type(labels)"
      ],
      "metadata": {
        "colab": {
          "base_uri": "https://localhost:8080/"
        },
        "id": "T_Bt_EaaXBig",
        "outputId": "c1c1dec0-a5fc-4dac-8952-d738be970b59"
      },
      "execution_count": 5,
      "outputs": [
        {
          "output_type": "execute_result",
          "data": {
            "text/plain": [
              "((30,), 0, numpy.ndarray)"
            ]
          },
          "metadata": {},
          "execution_count": 5
        }
      ]
    },
    {
      "cell_type": "code",
      "source": [
        "labels_count = np.unique(labels)\n",
        "\n",
        "import matplotlib.pyplot as plt\n",
        "for label in np.unique(labels):\n",
        "  label_mask = (labels == label)\n",
        "  plt.scatter(features[label_mask, 0], features[label_mask, 1], label=f'{label}')\n",
        "plt.legend()\n",
        "plt.show()"
      ],
      "metadata": {
        "colab": {
          "base_uri": "https://localhost:8080/",
          "height": 265
        },
        "id": "IhVGQuzYXz_v",
        "outputId": "0a4afac0-cf29-43b5-a97a-c48d489092d1"
      },
      "execution_count": 6,
      "outputs": [
        {
          "output_type": "display_data",
          "data": {
            "text/plain": [
              "<Figure size 432x288 with 1 Axes>"
            ],
            "image/png": "[encoded data removed]"
          },
          "metadata": {
            "needs_background": "light"
          }
        }
      ]
    },
    {
      "cell_type": "markdown",
      "source": [
        "##(2) (20점) 입력 뉴런 2개 - 은닉 뉴런 5개 - 출력 뉴런 3개의 다층 퍼셉트론을 구성하고 학습을 수행한 후 학습된 신경망의 결정경계를 학습 데이터와 함께 2차원 평면에 그리시오.\n",
        "    (※ 결정경계 계산 시 meshgrid 범위:\n",
        "    [x, y] = meshgrid([-1:0.1:7], [-2:0.1:6]);)"
      ],
      "metadata": {
        "id": "MDqatXgRZZLC"
      }
    },
    {
      "cell_type": "markdown",
      "source": [
        "###하이퍼볼릭탄젠트, 시그모이드, MLPtest, classifier 함수"
      ],
      "metadata": {
        "id": "H0H-rm5dz1cg"
      }
    },
    {
      "cell_type": "code",
      "source": [
        "def d_tanh(a):\n",
        "  res = (1-a) * (1+a)\n",
        "  return res\n",
        "def d_sigmoid(a):\n",
        "  res = (1-a) * a\n",
        "  return res"
      ],
      "metadata": {
        "id": "HwnykAXAzsuR"
      },
      "execution_count": 7,
      "outputs": []
    },
    {
      "cell_type": "code",
      "source": [
        "def MLPtest(Xtst, Ttst, w, w0, v, v0, meshset, Mst):\n",
        "  N = Xtst.shape[0]\n",
        "  E = np.zeros([N, 1])\n",
        "  Ytst = np.zeros([N, Ttst.shape[1]]) #Y는 3차원 백터\n",
        "  for i in range(N):\n",
        "    x = Xtst[i,:]; t = Ttst[i,:]\n",
        "    uh = x @ w + w0\n",
        "    z = np.tanh(uh)\n",
        "    uo = z @ v + v0\n",
        "    y = np.tanh(uo)\n",
        "    e = y - t\n",
        "    E[i, 0] = e @ e.T\n",
        "    if y[0,0] > y[0,1] and y[0,0] > y[0,2]:\n",
        "      Ytst[i,:] = np.array([1,0,0])\n",
        "    elif y[0,1] > y[0,0] and y[0,1] > y[0,2]:\n",
        "      Ytst[i,:] = np.array([0,1,0])\n",
        "    else:\n",
        "      Ytst[i,:] = np.array([0,0,1])\n",
        "  SEtst = sum(E**2 ) / N\n",
        "  SEtst01 = sum(E) / N\n",
        "  diffTY = sum(abs(Ttst - Ytst)) / 2\n",
        "  CEtst = diffTY[0] / N\n",
        "  \n",
        "  N_mesh = meshset.shape[0]\n",
        "  Zval_loc = np.zeros([N_mesh,1])\n",
        "  for i in range(N_mesh):\n",
        "      x = meshset[i,:]\n",
        "      uh = x @ w + w0\n",
        "      z = np.tanh(uh)\n",
        "      uo = z @ v + v0\n",
        "      y = np.tanh(uo)\n",
        "      if y[0,0] > y[0,1] and y[0,0] > y[0,2]:\n",
        "        Zval_loc[i,:] = 1\n",
        "      elif y[0,1] > y[0,0] and y[0,1] > y[0,2]:\n",
        "        Zval_loc[i,:] = 2\n",
        "      else:\n",
        "        Zval_loc[i,:] = 3\n",
        "\n",
        "  return SEtst, CEtst, SEtst01, Ytst, Zval_loc"
      ],
      "metadata": {
        "id": "6idgYl31zydY"
      },
      "execution_count": 8,
      "outputs": []
    },
    {
      "cell_type": "markdown",
      "source": [
        "###학습 with MLPtest"
      ],
      "metadata": {
        "id": "aGly3TThbFrW"
      }
    },
    {
      "cell_type": "code",
      "source": [
        "#매쉬그리드 데이터 생성\n",
        "x_m, y_m = np.arange(-1, 7, 0.1), np.arange(-2, 6, 0.1)\n",
        "x_m, y_m = np.meshgrid(x_m, y_m)\n",
        "x1, y1 = np.reshape(x_m, (-1,1), order='F'), np.reshape(y_m, (-1,1), order='F')\n",
        "XY_m = np.hstack([x1,y1])\n",
        "x_m.shape, x1.shape, XY_m.shape"
      ],
      "metadata": {
        "colab": {
          "base_uri": "https://localhost:8080/"
        },
        "id": "dTEMb4YxbEje",
        "outputId": "4f90d646-e62c-4c84-fe9e-68d2ab45bc63"
      },
      "execution_count": 9,
      "outputs": [
        {
          "output_type": "execute_result",
          "data": {
            "text/plain": [
              "((80, 80), (6400, 1), (6400, 2))"
            ]
          },
          "metadata": {},
          "execution_count": 9
        }
      ]
    },
    {
      "cell_type": "code",
      "source": [
        "N = features.shape[0]\n",
        "INP, HID, OUT = 2, 5, 3\n",
        "\n",
        "w = np.random.rand(INP,HID)*0.4 - 0.2\n",
        "w0 = np.random.rand(1, HID)*0.4 - 0.2\n",
        "v = np.random.rand(HID,OUT)*0.4 - 0.2\n",
        "v0 = np.random.rand(1, OUT)*0.4 - 0.2\n",
        "eta = 0.001\n",
        "Mstep = 1000; Elimit = 0.05 #################################################################엠스텝\n",
        "Serr, Cerr, Serr1 = np.zeros([Mstep-1,1]), np.zeros([Mstep-1,1]), np.zeros([Mstep-1,1])\n",
        "\n",
        "for j in range(1, Mstep):\n",
        "  E = np.zeros([N,1])\n",
        "  for i in range(N):\n",
        "    x = features[i,:]; t = labels_onehot[i,:]\n",
        "    uh = x @ w + w0\n",
        "    z = np.tanh(uh)\n",
        "    uo = z @ v + v0\n",
        "    y = np.tanh(uo)\n",
        "    e = y - t\n",
        "    E[i, 0] = e @ e.T\n",
        "    delta_v = d_tanh(y) * e\n",
        "    delta_w = d_tanh(z) * (delta_v @ v.T)\n",
        "    v = v - eta * (z.T @ delta_v)\n",
        "    v0 = v0 - eta * (1 * delta_v)\n",
        "    w = w - eta * (x.reshape(-1,1) @ delta_w)\n",
        "    w0 = w0 - eta * (1 * delta_w)\n",
        "  serr, cerr, serr1, Yres, Zval = MLPtest(features, labels_onehot, w, w0, v, v0, XY_m, j) #Yres 분류된라벨값  #Zval Yres의 컨투어벨류\n",
        "  Serr[j-1,:] = serr; Cerr[j-1,:] = cerr; Serr1[j-1,:] = serr1\n",
        "  if (serr < Elimit): break\n",
        "print(j, 'serr: {} | serr1: {} | cerr: {}'.format(serr, serr1, cerr))\n",
        "print(np.unique(Zval, return_counts=True))"
      ],
      "metadata": {
        "colab": {
          "base_uri": "https://localhost:8080/"
        },
        "id": "9dXlcUPVaGBo",
        "outputId": "bcee6d68-1004-46e7-90b3-db73106bf60b"
      },
      "execution_count": 10,
      "outputs": [
        {
          "output_type": "stream",
          "name": "stdout",
          "text": [
            "140 serr: [0.04999895] | serr1: [0.1866676] | cerr: 0.016666666666666666\n",
            "(array([1., 2., 3.]), array([1093, 2258, 3049]))\n"
          ]
        }
      ]
    },
    {
      "cell_type": "markdown",
      "source": [
        "###결정 경계 그리기"
      ],
      "metadata": {
        "id": "Ht9rCcIceMoM"
      }
    },
    {
      "cell_type": "code",
      "source": [
        "def drawChart(_dataset, a=None, b=None, c=None):\n",
        "  _labels = _dataset[:,1]\n",
        "  for i, j in zip(_dataset, range(_dataset.shape[0])):\n",
        "    if i[2] == 1 and i[3] == 0:\n",
        "      c1 = j\n",
        "    elif i[2] == 0 and i[3] == 1:\n",
        "      c2 = j\n",
        "    else:\n",
        "      c3 = j\n",
        "  plt.scatter(_dataset[0:c1+1,0], _dataset[0:c1+1,1], marker = \"o\", s=20, edgecolors='r', facecolors='none')\n",
        "  plt.scatter(_dataset[c1+1:c2+1,0], _dataset[c1+1:c2+1,1], marker = \"o\", s=20, edgecolors='g', facecolors='none')\n",
        "  plt.scatter(_dataset[c2+1:c3+1,0], _dataset[c2+1:c3+1,1], marker = \"o\", s=20, edgecolors='b', facecolors='none')\n",
        "  if a is not None:\n",
        "    plt.contour(a, b, np.reshape(c, x_m.shape, order='F'))\n",
        "  plt.grid(True); plt.axis([-1, 7, -2, 6]); \n",
        "  plt.xlabel('feature1'); plt.ylabel('feature2')\n",
        "  plt.show()\n"
      ],
      "metadata": {
        "id": "mkVfmMBYeRAs"
      },
      "execution_count": 11,
      "outputs": []
    },
    {
      "cell_type": "code",
      "source": [
        "features.shape, labels.shape, type(labels)"
      ],
      "metadata": {
        "colab": {
          "base_uri": "https://localhost:8080/"
        },
        "id": "eNCu6HHPgh9D",
        "outputId": "5aae4e45-7e89-4965-f3b6-de92afad6630"
      },
      "execution_count": 12,
      "outputs": [
        {
          "output_type": "execute_result",
          "data": {
            "text/plain": [
              "((30, 2), (30,), numpy.ndarray)"
            ]
          },
          "metadata": {},
          "execution_count": 12
        }
      ]
    },
    {
      "cell_type": "code",
      "source": [
        "dataset = np.hstack((features, labels_onehot))\n",
        "\n",
        "drawChart(dataset, x_m, y_m, Zval)"
      ],
      "metadata": {
        "colab": {
          "base_uri": "https://localhost:8080/",
          "height": 283
        },
        "id": "Fr-XL6hodxwc",
        "outputId": "b5215ec3-8d8f-4e14-8ca0-0b93cd86ab53"
      },
      "execution_count": 13,
      "outputs": [
        {
          "output_type": "display_data",
          "data": {
            "text/plain": [
              "<Figure size 432x288 with 1 Axes>"
            ],
            "image/png": "[encoded data removed]"
          },
          "metadata": {
            "needs_background": "light"
          }
        }
      ]
    },
    {
      "cell_type": "markdown",
      "source": [
        "###(3) (20점) 2.(2)에서 학습된 신경망을 이용하여 아래 4개 데이터에 대한 분류를 수행하시오. 단, Matlab 코드를 이용하여 출력 뉴런에서의 출력값을 계산한 후 분류하여야 함. 데이터 1: 입력 (0, 0)  데이터 2: 입력 (3, 0)  데이터 3: 입력 (6, 0)  데이터 4: 입력 (3, 3)"
      ],
      "metadata": {
        "id": "QmWMzazKh2Ah"
      }
    },
    {
      "cell_type": "code",
      "source": [
        "def classifier(testD, w, w0, v, v0,):\n",
        "  N_testD = testD.shape[0]\n",
        "  Zval_loc = np.zeros([N_testD,1])\n",
        "  for i in range(N_testD):\n",
        "      x = testD[i,:]\n",
        "      uh = x @ w + w0\n",
        "      z = np.tanh(uh)\n",
        "      uo = z @ v + v0\n",
        "      y = np.tanh(uo)\n",
        "      if y[0,0] > y[0,1] and y[0,0] > y[0,2]:\n",
        "        Zval_loc[i,:] = 1\n",
        "      elif y[0,1] > y[0,0] and y[0,1] > y[0,2]:\n",
        "        Zval_loc[i,:] = 2\n",
        "      else:\n",
        "        Zval_loc[i,:] = 3\n",
        "  return Zval_loc"
      ],
      "metadata": {
        "id": "8P7KhNy5xkGC"
      },
      "execution_count": 14,
      "outputs": []
    },
    {
      "cell_type": "code",
      "source": [
        "testData = np.array([[0,0], [3,0], [6,0], [3,3]])\n",
        "\n",
        "resultClass = classifier(testData, w, w0, v, v0)\n",
        "\n",
        "for i in range(testData.shape[0]):\n",
        "  print('테스트데이터 {} 의 분류 결과는 클래스 {}'.format(testData[i], int(resultClass[i])))"
      ],
      "metadata": {
        "colab": {
          "base_uri": "https://localhost:8080/"
        },
        "id": "uJkXr6ezh4jU",
        "outputId": "621a8dcb-d009-46ee-9cad-88590e910a34"
      },
      "execution_count": 15,
      "outputs": [
        {
          "output_type": "stream",
          "name": "stdout",
          "text": [
            "테스트데이터 [0 0] 의 분류 결과는 클래스 1\n",
            "테스트데이터 [3 0] 의 분류 결과는 클래스 2\n",
            "테스트데이터 [6 0] 의 분류 결과는 클래스 2\n",
            "테스트데이터 [3 3] 의 분류 결과는 클래스 3\n"
          ]
        }
      ]
    }
  ]
}