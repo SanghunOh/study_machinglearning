{
  "cells": [
    {
      "cell_type": "markdown",
      "metadata": {
        "id": "brb_gNSQ-Tyg"
      },
      "source": [
        "###Connect Drive"
      ]
    },
    {
      "cell_type": "code",
      "execution_count": 18,
      "metadata": {
        "colab": {
          "base_uri": "https://localhost:8080/"
        },
        "id": "2zl8YlT9398C",
        "outputId": "1bb72b08-2739-4391-f0b8-f6d36dddb33e"
      },
      "outputs": [
        {
          "name": "stdout",
          "output_type": "stream",
          "text": [
            "/Users/sanghunoh/Develops/repository/own/study_machinglearning/datas\n"
          ]
        }
      ],
      "source": [
        "# path_root = '/content/drive/MyDrive/datas/'\n",
        "path_root = '/Users/sanghunoh/Develops/repository/own/study_machinglearning/datas/'\n",
        "# 작업 경로 설정\n",
        "import os\n",
        "os.chdir(path_root)\n",
        "!pwd"
      ]
    },
    {
      "cell_type": "code",
      "execution_count": 19,
      "metadata": {
        "id": "q_zK6dD69lx7"
      },
      "outputs": [],
      "source": [
        "# !unzip -o ./mpie_30_shuffle.zip -d ./mpie_30_shuffle"
      ]
    },
    {
      "cell_type": "code",
      "execution_count": 20,
      "metadata": {
        "colab": {
          "base_uri": "https://localhost:8080/"
        },
        "id": "mXG7KRQz-Nax",
        "outputId": "004d5ecb-c4e1-4787-fde3-f633816908d2"
      },
      "outputs": [
        {
          "name": "stdout",
          "output_type": "stream",
          "text": [
            "HW3Data_1.mat                           digitimages_binary.zip\n",
            "HW4_COIL20.mat                          iris.zip\n",
            "HW5Data_1.mat                           \u001b[34mmpie_30_shuffle\u001b[m\u001b[m\n",
            "HW5Data_2.mat                           mpie_30_shuffle.zip\n",
            "README.md                               results_MLP_label_0_202205300952.pickle\n",
            "dataCh4_7.zip                           results_MLP_label_3_202205300952.pickle\n"
          ]
        }
      ],
      "source": [
        "!ls"
      ]
    },
    {
      "cell_type": "markdown",
      "metadata": {
        "id": "qLUE0VPqLewv"
      },
      "source": [
        "###Load Dataset"
      ]
    },
    {
      "cell_type": "code",
      "execution_count": 21,
      "metadata": {
        "id": "wzRrppGEyLWD"
      },
      "outputs": [],
      "source": [
        "path = path_root + 'mpie_30_shuffle/'\n",
        "\n",
        "import pandas as pd\n",
        "\n",
        "def loadDatasetFromCSV(_datafilename, _labelfilename, label_column):\n",
        "  _feature_csv = pd.read_csv(path + _datafilename, dtype=np.float32, header=None) # image features of train data\n",
        "\n",
        "  _label_csv = pd.read_csv(path + _labelfilename, dtype=np.float32, header=None) # labels of train data\n",
        "  _label = _label_csv[label_column] # get label you want\n",
        "\n",
        "  return _feature_csv, _label"
      ]
    },
    {
      "cell_type": "code",
      "execution_count": 22,
      "metadata": {
        "id": "bLAz9qj1LwGC"
      },
      "outputs": [],
      "source": [
        "import numpy as np"
      ]
    },
    {
      "cell_type": "code",
      "execution_count": 23,
      "metadata": {
        "id": "GjUDklviz51u"
      },
      "outputs": [],
      "source": [
        "def preprocessDataset(label_column):\n",
        "  # train\n",
        "  train_feature_reshape, train_label = loadDatasetFromCSV('Traindata.csv', 'Trainlabel.csv', label_column)\n",
        "  # test\n",
        "  validation_feature_reshape, validation_label = loadDatasetFromCSV('Testdata.csv', 'Testlabel.csv', label_column)\n",
        "\n",
        "  return train_feature_reshape, train_label, validation_feature_reshape, validation_label"
      ]
    },
    {
      "cell_type": "code",
      "execution_count": 24,
      "metadata": {
        "colab": {
          "base_uri": "https://localhost:8080/"
        },
        "id": "b0iSCMgGOjCp",
        "outputId": "11c315fe-ae69-4c84-d76f-71de440b14df"
      },
      "outputs": [
        {
          "data": {
            "text/plain": [
              "(pandas.core.frame.DataFrame,\n",
              " (18777, 1024),\n",
              " pandas.core.series.Series,\n",
              " (18777,),\n",
              " (5086, 1024),\n",
              " (5086,))"
            ]
          },
          "execution_count": 24,
          "metadata": {},
          "output_type": "execute_result"
        }
      ],
      "source": [
        "train_feature, train_label, validation_feature, validation_label = preprocessDataset(1)\n",
        "type(train_feature), train_feature.shape, type(train_label), train_label.shape, validation_feature.shape, validation_label.shape"
      ]
    },
    {
      "cell_type": "markdown",
      "metadata": {
        "id": "EakWI3r9aIya"
      },
      "source": [
        "####check model"
      ]
    },
    {
      "cell_type": "code",
      "execution_count": 25,
      "metadata": {
        "colab": {
          "base_uri": "https://localhost:8080/"
        },
        "id": "10nMXv_Ad9Z4",
        "outputId": "9d7995ac-af14-4a25-b79a-2f49f11b3353"
      },
      "outputs": [
        {
          "name": "stderr",
          "output_type": "stream",
          "text": [
            "2022-05-30 10:19:57.650310: I tensorflow/core/grappler/optimizers/custom_graph_optimizer_registry.cc:112] Plugin optimizer for device_type GPU is enabled.\n"
          ]
        },
        {
          "name": "stdout",
          "output_type": "stream",
          "text": [
            "587/587 [==============================] - 4s 7ms/step - loss: 1.1503 - accuracy: 0.5933\n"
          ]
        },
        {
          "data": {
            "text/plain": [
              "<keras.callbacks.History at 0x3371cd6d0>"
            ]
          },
          "execution_count": 25,
          "metadata": {},
          "output_type": "execute_result"
        }
      ],
      "source": [
        "import tensorflow as tf\n",
        "from tensorflow.keras import layers\n",
        "\n",
        "class_cnt = len(np.unique(train_label))\n",
        "# class_cnt\n",
        "\n",
        "model = tf.keras.Sequential()\n",
        "model.add(layers.Dense(256, input_dim=1024, kernel_initializer='glorot_uniform', activation='relu')) \n",
        "model.add(layers.BatchNormalization())\n",
        "model.add(layers.Dense(256, input_dim=1024, kernel_initializer='glorot_uniform', activation='relu')) \n",
        "model.add(layers.BatchNormalization())\n",
        "model.add(layers.Dense(class_cnt, activation='softmax')) \n",
        "\n",
        "model.compile(loss='sparse_categorical_crossentropy', optimizer='SGD', metrics=['accuracy'])\n",
        "\n",
        "_epochs = 10\n",
        "model.fit(train_feature, train_label)"
      ]
    },
    {
      "cell_type": "code",
      "execution_count": 26,
      "metadata": {
        "id": "WvWcJQklaMkY"
      },
      "outputs": [],
      "source": [
        "# input_layer = layers.Input(shape=(1024,))  # input: 1024 nodes\n",
        "# x = tf.keras.layers.Flatten(name='Flatten')(input_layer)\n",
        "# x = layers.Activation('relu')(layers.Dense(256, input_dim=1024)(x))  # hidden: 256 nodes\n",
        "# x = layers.BatchNormalization()(x)\n",
        "# y = layers.Activation('softmax')(layers.Dense(class_cnt)(x))    # number of output nodes : class_no (it changes depend on label you selected)\n",
        "# model = tf.keras.Model(x, y)\n",
        "# model.compile(loss='sparse_categorical_crossentropy', optimizer='SGD', metrics=['accuracy'])\n",
        "\n",
        "# model.fit(train_feature, train_label)"
      ]
    },
    {
      "cell_type": "markdown",
      "metadata": {
        "id": "9MSHrC28O6-g"
      },
      "source": [
        "###MPL CNN with BatchNormalization"
      ]
    },
    {
      "cell_type": "code",
      "execution_count": 27,
      "metadata": {
        "colab": {
          "base_uri": "https://localhost:8080/"
        },
        "id": "lCqCX_FxVWV9",
        "outputId": "cdabd376-11ab-4cf9-c04e-2077dc0a9b0f"
      },
      "outputs": [
        {
          "data": {
            "text/plain": [
              "6"
            ]
          },
          "execution_count": 27,
          "metadata": {},
          "output_type": "execute_result"
        }
      ],
      "source": [
        "import numpy as np\n",
        "\n",
        "class_cnt = len(np.unique(train_label))\n",
        "class_cnt"
      ]
    },
    {
      "cell_type": "code",
      "execution_count": 28,
      "metadata": {
        "id": "yqT3pQgKO92o"
      },
      "outputs": [],
      "source": [
        "import tensorflow as tf\n",
        "from tensorflow.keras import layers\n",
        "\n",
        "def make_model(_class_cnt, _hidden_layers=1, dense_count=256, _kernel_initializer='glorot_uniform', _activation='relu', _optimizer='SGD', batch_normal=False, epochs=2, label_class=0):\n",
        "  _model = tf.keras.Sequential()\n",
        "  _model.add(layers.Dense(dense_count, input_dim=1024, kernel_initializer=_kernel_initializer, activation=_activation)) \n",
        "  if batch_normal:\n",
        "    _model.add(layers.BatchNormalization())\n",
        "  for idx in range(_hidden_layers):\n",
        "    _model.add(layers.Dense(dense_count, kernel_initializer=_kernel_initializer, activation=_activation)) \n",
        "    if batch_normal:\n",
        "      _model.add(layers.BatchNormalization())\n",
        "  _model.add(layers.Dense(_class_cnt, activation='softmax')) \n",
        "\n",
        "  _model.compile(loss='sparse_categorical_crossentropy', optimizer=_optimizer, metrics=['accuracy'])\n",
        "\n",
        "  return _model\n",
        "model = make_model(_class_cnt=6)    \n",
        "# tf.keras.utils.plot_model(model, show_shapes=True, show_dtype=True, expand_nested=True, show_layer_activations=True) #layer_range=?, "
      ]
    },
    {
      "cell_type": "markdown",
      "metadata": {
        "id": "69PhSLjqmI8M"
      },
      "source": [
        "###callback function for fit time"
      ]
    },
    {
      "cell_type": "code",
      "execution_count": 29,
      "metadata": {
        "colab": {
          "base_uri": "https://localhost:8080/"
        },
        "id": "-r_M426PmP5P",
        "outputId": "a08d62fe-f7f1-4ad4-fdc7-0cd518a896e4"
      },
      "outputs": [
        {
          "data": {
            "text/plain": [
              "<__main__.TimeHistory at 0x1768c1fd0>"
            ]
          },
          "execution_count": 29,
          "metadata": {},
          "output_type": "execute_result"
        }
      ],
      "source": [
        "import time\n",
        "\n",
        "class TimeHistory(tf.keras.callbacks.Callback):\n",
        "    def on_train_begin(self, logs={}):\n",
        "        self.times = []\n",
        "\n",
        "    def on_epoch_begin(self, epoch, logs={}):\n",
        "        self.epoch_time_start = time.time()\n",
        "\n",
        "    def on_epoch_end(self, epoch, logs={}):\n",
        "        self.times.append(time.time() - self.epoch_time_start)\n",
        "TimeHistory()"
      ]
    },
    {
      "cell_type": "markdown",
      "metadata": {
        "id": "1E1Fdq6pnRAe"
      },
      "source": [
        "### fit model"
      ]
    },
    {
      "cell_type": "code",
      "execution_count": 30,
      "metadata": {
        "colab": {
          "base_uri": "https://localhost:8080/"
        },
        "id": "QYn7Q8f311Bi",
        "outputId": "1ff5b9e5-0784-4e29-bbf1-b979a8b8e13a"
      },
      "outputs": [
        {
          "name": "stdout",
          "output_type": "stream",
          "text": [
            "2 6\n",
            "Epoch 1/2\n",
            "   5/1024 [..............................] - ETA: 13s - loss: 1.6758 - accuracy: 0.5053 WARNING:tensorflow:Callback method `on_train_batch_end` is slow compared to the batch time (batch time: 0.0059s vs `on_train_batch_end` time: 0.0115s). Check your callbacks.\n"
          ]
        },
        {
          "name": "stderr",
          "output_type": "stream",
          "text": [
            "2022-05-30 10:20:03.164644: I tensorflow/core/grappler/optimizers/custom_graph_optimizer_registry.cc:112] Plugin optimizer for device_type GPU is enabled.\n"
          ]
        },
        {
          "name": "stdout",
          "output_type": "stream",
          "text": [
            "1014/1024 [============================>.] - ETA: 0s - loss: 1.1241 - accuracy: 0.6320"
          ]
        },
        {
          "name": "stderr",
          "output_type": "stream",
          "text": [
            "2022-05-30 10:20:08.218731: I tensorflow/core/grappler/optimizers/custom_graph_optimizer_registry.cc:112] Plugin optimizer for device_type GPU is enabled.\n"
          ]
        },
        {
          "name": "stdout",
          "output_type": "stream",
          "text": [
            "1024/1024 [==============================] - 6s 5ms/step - loss: 1.1225 - accuracy: 0.6323 - val_loss: 1.0109 - val_accuracy: 0.6516\n",
            "Epoch 2/2\n",
            " 946/1024 [==========================>...] - ETA: 0s - loss: 0.9572 - accuracy: 0.6719WARNING:tensorflow:Your input ran out of data; interrupting training. Make sure that your dataset or generator can generate at least `steps_per_epoch * epochs` batches (in this case, 2048 batches). You may need to use the repeat() function when building your dataset.\n",
            "1024/1024 [==============================] - 5s 5ms/step - loss: 0.9586 - accuracy: 0.6713 - val_loss: 0.9794 - val_accuracy: 0.6422\n"
          ]
        },
        {
          "data": {
            "text/plain": [
              "(<keras.engine.sequential.Sequential at 0x1768c1460>,\n",
              " <keras.callbacks.History at 0x1768e0d30>,\n",
              " 10.829020261764526,\n",
              " {'_hidden_layers': 1,\n",
              "  'dense_count': 256,\n",
              "  '_kernel_initializer': 'glorot_uniform',\n",
              "  '_activation': 'relu',\n",
              "  '_optimizer': 'Adam',\n",
              "  'batch_normal': False,\n",
              "  'epochs': 2,\n",
              "  '_class_cnt': 6})"
            ]
          },
          "execution_count": 30,
          "metadata": {},
          "output_type": "execute_result"
        }
      ],
      "source": [
        "rows = train_feature\n",
        "# _batch_size = int(len(list(rows)) / (len(list(rows))/2))   # Just Check Model params quickly\n",
        "_batch_size = len(list(rows))\n",
        "\n",
        "def model_fit(_param, _dataset):\n",
        "  tf.keras.backend.clear_session()\n",
        "\n",
        "  (_train_feature, _train_label, _validation_feature, _validation_label) = _dataset\n",
        "  _param['_class_cnt'] = len(np.unique(_train_label))\n",
        "  print(_param['epochs'], _param['_class_cnt'])\n",
        "\n",
        "  model = make_model(**_param)\n",
        "  time_callback = TimeHistory()\n",
        "  history = model.fit(_train_feature, _train_label, epochs=_param['epochs'], validation_data=(_validation_feature, _validation_label), callbacks=[time_callback], steps_per_epoch=_batch_size)\n",
        "  # history = model.fit(_train_feature, _train_label, epochs=_epochs, callbacks=[time_callback])\n",
        "  execution_time = sum(time_callback.times)\n",
        "  return model, history, execution_time, _param\n",
        "dataset = preprocessDataset(1)  \n",
        "param = {'_hidden_layers':1, 'dense_count':256, '_kernel_initializer':'glorot_uniform', '_activation':'relu', '_optimizer':'Adam', 'batch_normal':False, 'epochs':2}\n",
        "model_fit(param, dataset)  "
      ]
    },
    {
      "cell_type": "markdown",
      "metadata": {
        "id": "6NzJoF7tx9Jv"
      },
      "source": [
        "### fit with multi params"
      ]
    },
    {
      "cell_type": "code",
      "execution_count": 31,
      "metadata": {
        "id": "XXtedM988zpn"
      },
      "outputs": [],
      "source": [
        "# params = [\n",
        "#           {'_hidden_layers':0, 'dense_count':64, '_kernel_initializer':None, '_activation':'relu', 'batch_normal':False, 'epochs':5},\n",
        "#           {'_hidden_layers':0, 'dense_count':64, '_kernel_initializer':None, '_activation':'relu', 'batch_normal':False, 'epochs':50},\n",
        "#           {'_hidden_layers':0, 'dense_count':64, '_kernel_initializer':None, '_activation':'relu', 'batch_normal':False, 'epochs':100},\n",
        "#           {'_hidden_layers':0, 'dense_count':256, '_kernel_initializer':None, '_activation':'relu', 'batch_normal':False, 'epochs':5},\n",
        "#           {'_hidden_layers':0, 'dense_count':256, '_kernel_initializer':None, '_activation':'relu', 'batch_normal':False, 'epochs':50},\n",
        "#           {'_hidden_layers':0, 'dense_count':256, '_kernel_initializer':None, '_activation':'relu', 'batch_normal':False, 'epochs':100},\n",
        "#           {'_hidden_layers':0, 'dense_count':64, '_kernel_initializer':None, '_activation':'relu', 'batch_normal':False, 'epochs':5},\n",
        "#           {'_hidden_layers':0, 'dense_count':64, '_kernel_initializer':None, '_activation':'relu', 'batch_normal':False, 'epochs':50},\n",
        "#           {'_hidden_layers':0, 'dense_count':64, '_kernel_initializer':None, '_activation':'relu', 'batch_normal':False, 'epochs':100},\n",
        "#           ]"
      ]
    },
    {
      "cell_type": "code",
      "execution_count": 7,
      "metadata": {
        "colab": {
          "base_uri": "https://localhost:8080/"
        },
        "id": "qSHV1HA58Mw1",
        "outputId": "d2441bf1-96f5-4701-e226-f1fec60ff8f4"
      },
      "outputs": [
        {
          "name": "stdout",
          "output_type": "stream",
          "text": [
            "{'_hidden_layers': 3, 'dense_count': 8, '_kernel_initializer': 'glorot_uniform', '_activation': 'sigmoid', '_optimizer': 'SGD', 'batch_normal': False, 'epochs': 5}\n",
            "{'_hidden_layers': 3, 'dense_count': 8, '_kernel_initializer': 'glorot_uniform', '_activation': 'sigmoid', '_optimizer': 'Adam', 'batch_normal': False, 'epochs': 5}\n",
            "{'_hidden_layers': 3, 'dense_count': 8, '_kernel_initializer': 'glorot_uniform', '_activation': 'relu', '_optimizer': 'SGD', 'batch_normal': False, 'epochs': 5}\n",
            "{'_hidden_layers': 3, 'dense_count': 8, '_kernel_initializer': 'glorot_uniform', '_activation': 'relu', '_optimizer': 'Adam', 'batch_normal': False, 'epochs': 5}\n",
            "{'_hidden_layers': 3, 'dense_count': 16, '_kernel_initializer': 'glorot_uniform', '_activation': 'sigmoid', '_optimizer': 'SGD', 'batch_normal': False, 'epochs': 5}\n",
            "{'_hidden_layers': 3, 'dense_count': 16, '_kernel_initializer': 'glorot_uniform', '_activation': 'sigmoid', '_optimizer': 'Adam', 'batch_normal': False, 'epochs': 5}\n",
            "{'_hidden_layers': 3, 'dense_count': 16, '_kernel_initializer': 'glorot_uniform', '_activation': 'relu', '_optimizer': 'SGD', 'batch_normal': False, 'epochs': 5}\n",
            "{'_hidden_layers': 3, 'dense_count': 16, '_kernel_initializer': 'glorot_uniform', '_activation': 'relu', '_optimizer': 'Adam', 'batch_normal': False, 'epochs': 5}\n"
          ]
        }
      ],
      "source": [
        "# param 6\n",
        "params = list()\n",
        "# param_key_list = list(param.keys())\n",
        "# _hidden_layers_list = [0, 5]\n",
        "# dense_count_list = [64, 256]\n",
        "# _kernel_initializer_list = [None, 'glorot_uniform']\n",
        "# _activation_list = ['sigmoid', 'relu']\n",
        "# _optimizer_list= ['SGD', 'Adam']\n",
        "# batch_normal_list = [False, True]\n",
        "# epochs_list = [10, 40]\n",
        "_hidden_layers_list = [3]\n",
        "dense_count_list = [8, 16]\n",
        "_kernel_initializer_list = ['glorot_uniform']\n",
        "_activation_list = ['sigmoid', 'relu']\n",
        "_optimizer_list= ['SGD', 'Adam']\n",
        "batch_normal_list = [False, True]\n",
        "epochs_list = [5, 10]\n",
        "\n",
        "for _hidden_layers in _hidden_layers_list:\n",
        "  for dense_count in dense_count_list:\n",
        "    for _kernel_initializer in _kernel_initializer_list:\n",
        "      for _activation in _activation_list:\n",
        "        for _optimizer in _optimizer_list:\n",
        "          for batch_normal in batch_normal_list:\n",
        "            for epochs in epochs_list:\n",
        "              param_dict = dict()\n",
        "              param_dict['_hidden_layers'] = _hidden_layers\n",
        "              param_dict['dense_count'] = dense_count\n",
        "              param_dict['_kernel_initializer'] = _kernel_initializer\n",
        "              param_dict['_activation'] = _activation\n",
        "              param_dict['_optimizer'] = _optimizer\n",
        "              param_dict['batch_normal'] = batch_normal\n",
        "              param_dict['epochs'] = epochs\n",
        "              # print(param_dict)\n",
        "              params.append(param_dict)\n",
        "len(params), \n",
        "for param in params[::4]:\n",
        "  print(param)"
      ]
    },
    {
      "cell_type": "code",
      "execution_count": 33,
      "metadata": {
        "colab": {
          "base_uri": "https://localhost:8080/"
        },
        "id": "2zddVNYT-Ckz",
        "outputId": "9e3c5170-a958-4a22-d46d-f12a72240596"
      },
      "outputs": [
        {
          "name": "stdout",
          "output_type": "stream",
          "text": [
            "now = 2022-05-30 10:20:13.998830\n",
            "date and time = 202205301020\n"
          ]
        }
      ],
      "source": [
        "from datetime import datetime\n",
        "\n",
        "# datetime object containing current date and time\n",
        "now = datetime.now()\n",
        " \n",
        "print(\"now =\", now)\n",
        "\n",
        "# dd/mm/YY H:M:S\n",
        "dt_string = now.strftime(\"%Y%m%d%H%M\")\n",
        "print(\"date and time =\", dt_string)\n",
        "\n",
        "import pickle"
      ]
    },
    {
      "cell_type": "code",
      "execution_count": 34,
      "metadata": {
        "colab": {
          "base_uri": "https://localhost:8080/"
        },
        "id": "i1Tnuhc2x5eH",
        "outputId": "2e82bcca-5a69-474a-cf5a-6f80ee4cb970"
      },
      "outputs": [
        {
          "name": "stdout",
          "output_type": "stream",
          "text": [
            "-----[ 0 ]-----{'_hidden_layers': 3, 'dense_count': 8, '_kernel_initializer': 'glorot_uniform', '_activation': 'sigmoid', '_optimizer': 'SGD', 'batch_normal': False, 'epochs': 5, 'label_class': 0}\n",
            "5 30\n",
            "Epoch 1/5\n",
            "   6/1024 [..............................] - ETA: 10s - loss: 3.4829 - accuracy: 0.0175 "
          ]
        },
        {
          "name": "stderr",
          "output_type": "stream",
          "text": [
            "2022-05-30 10:20:15.302445: I tensorflow/core/grappler/optimizers/custom_graph_optimizer_registry.cc:112] Plugin optimizer for device_type GPU is enabled.\n"
          ]
        },
        {
          "name": "stdout",
          "output_type": "stream",
          "text": [
            "1016/1024 [============================>.] - ETA: 0s - loss: 3.4098 - accuracy: 0.0334"
          ]
        },
        {
          "name": "stderr",
          "output_type": "stream",
          "text": [
            "2022-05-30 10:20:20.257353: I tensorflow/core/grappler/optimizers/custom_graph_optimizer_registry.cc:112] Plugin optimizer for device_type GPU is enabled.\n"
          ]
        },
        {
          "name": "stdout",
          "output_type": "stream",
          "text": [
            "1024/1024 [==============================] - 6s 5ms/step - loss: 3.4097 - accuracy: 0.0335 - val_loss: 3.3929 - val_accuracy: 0.0385\n",
            "Epoch 2/5\n",
            "1024/1024 [==============================] - 5s 5ms/step - loss: 3.3865 - accuracy: 0.0393 - val_loss: 3.3857 - val_accuracy: 0.0407\n",
            "Epoch 3/5\n",
            "1024/1024 [==============================] - 5s 5ms/step - loss: 3.3825 - accuracy: 0.0402 - val_loss: 3.3846 - val_accuracy: 0.0409\n",
            "Epoch 4/5\n",
            "1024/1024 [==============================] - 5s 5ms/step - loss: 3.3813 - accuracy: 0.0406 - val_loss: 3.3843 - val_accuracy: 0.0409\n",
            "Epoch 5/5\n",
            " 843/1024 [=======================>......] - ETA: 0s - loss: 3.3819 - accuracy: 0.0391WARNING:tensorflow:Your input ran out of data; interrupting training. Make sure that your dataset or generator can generate at least `steps_per_epoch * epochs` batches (in this case, 5120 batches). You may need to use the repeat() function when building your dataset.\n",
            "1024/1024 [==============================] - 4s 4ms/step - loss: 3.3820 - accuracy: 0.0390 - val_loss: 3.3842 - val_accuracy: 0.0405\n",
            "-----[ 1 ]-----{'_hidden_layers': 3, 'dense_count': 8, '_kernel_initializer': 'glorot_uniform', '_activation': 'sigmoid', '_optimizer': 'SGD', 'batch_normal': False, 'epochs': 10, 'label_class': 0}\n",
            "10 30\n",
            "Epoch 1/10\n",
            "   9/1024 [..............................] - ETA: 6s - loss: 3.4734 - accuracy: 0.0058      "
          ]
        },
        {
          "name": "stderr",
          "output_type": "stream",
          "text": [
            "2022-05-30 10:20:40.310684: I tensorflow/core/grappler/optimizers/custom_graph_optimizer_registry.cc:112] Plugin optimizer for device_type GPU is enabled.\n"
          ]
        },
        {
          "name": "stdout",
          "output_type": "stream",
          "text": [
            "1013/1024 [============================>.] - ETA: 0s - loss: 3.4082 - accuracy: 0.0381"
          ]
        },
        {
          "name": "stderr",
          "output_type": "stream",
          "text": [
            "2022-05-30 10:20:44.977533: I tensorflow/core/grappler/optimizers/custom_graph_optimizer_registry.cc:112] Plugin optimizer for device_type GPU is enabled.\n"
          ]
        },
        {
          "name": "stdout",
          "output_type": "stream",
          "text": [
            "1024/1024 [==============================] - 5s 5ms/step - loss: 3.4081 - accuracy: 0.0381 - val_loss: 3.3940 - val_accuracy: 0.0389\n",
            "Epoch 2/10\n",
            "1024/1024 [==============================] - 5s 5ms/step - loss: 3.3870 - accuracy: 0.0404 - val_loss: 3.3864 - val_accuracy: 0.0389\n",
            "Epoch 3/10\n",
            "1024/1024 [==============================] - 5s 5ms/step - loss: 3.3833 - accuracy: 0.0402 - val_loss: 3.3847 - val_accuracy: 0.0409\n",
            "Epoch 4/10\n",
            "1024/1024 [==============================] - 5s 5ms/step - loss: 3.3814 - accuracy: 0.0400 - val_loss: 3.3844 - val_accuracy: 0.0409\n",
            "Epoch 5/10\n",
            "1024/1024 [==============================] - 5s 5ms/step - loss: 3.3824 - accuracy: 0.0391 - val_loss: 3.3843 - val_accuracy: 0.0409\n",
            "Epoch 6/10\n",
            "1024/1024 [==============================] - 5s 5ms/step - loss: 3.3816 - accuracy: 0.0398 - val_loss: 3.3843 - val_accuracy: 0.0409\n",
            "Epoch 7/10\n",
            "1024/1024 [==============================] - 5s 5ms/step - loss: 3.3809 - accuracy: 0.0405 - val_loss: 3.3843 - val_accuracy: 0.0389\n",
            "Epoch 8/10\n",
            "1024/1024 [==============================] - 5s 5ms/step - loss: 3.3814 - accuracy: 0.0388 - val_loss: 3.3842 - val_accuracy: 0.0322\n",
            "Epoch 9/10\n",
            "1024/1024 [==============================] - 5s 5ms/step - loss: 3.3810 - accuracy: 0.0398 - val_loss: 3.3843 - val_accuracy: 0.0407\n",
            "Epoch 10/10\n",
            " 672/1024 [==================>...........] - ETA: 1s - loss: 3.3820 - accuracy: 0.0406WARNING:tensorflow:Your input ran out of data; interrupting training. Make sure that your dataset or generator can generate at least `steps_per_epoch * epochs` batches (in this case, 10240 batches). You may need to use the repeat() function when building your dataset.\n",
            "1024/1024 [==============================] - 3s 3ms/step - loss: 3.3820 - accuracy: 0.0405 - val_loss: 3.3842 - val_accuracy: 0.0407\n",
            "-----[ 2 ]-----{'_hidden_layers': 3, 'dense_count': 8, '_kernel_initializer': 'glorot_uniform', '_activation': 'sigmoid', '_optimizer': 'SGD', 'batch_normal': True, 'epochs': 5, 'label_class': 0}\n",
            "5 30\n",
            "Epoch 1/5\n"
          ]
        },
        {
          "name": "stderr",
          "output_type": "stream",
          "text": [
            "2022-05-30 10:21:29.069957: I tensorflow/core/grappler/optimizers/custom_graph_optimizer_registry.cc:112] Plugin optimizer for device_type GPU is enabled.\n"
          ]
        },
        {
          "name": "stdout",
          "output_type": "stream",
          "text": [
            "1024/1024 [==============================] - ETA: 0s - loss: 2.7013 - accuracy: 0.2279"
          ]
        },
        {
          "name": "stderr",
          "output_type": "stream",
          "text": [
            "2022-05-30 10:21:39.304705: I tensorflow/core/grappler/optimizers/custom_graph_optimizer_registry.cc:112] Plugin optimizer for device_type GPU is enabled.\n"
          ]
        },
        {
          "name": "stdout",
          "output_type": "stream",
          "text": [
            "1024/1024 [==============================] - 11s 10ms/step - loss: 2.7013 - accuracy: 0.2279 - val_loss: 2.0921 - val_accuracy: 0.3940\n",
            "Epoch 2/5\n",
            "1024/1024 [==============================] - 10s 10ms/step - loss: 1.7523 - accuracy: 0.4934 - val_loss: 1.7278 - val_accuracy: 0.4792\n",
            "Epoch 3/5\n",
            "1024/1024 [==============================] - 10s 10ms/step - loss: 1.2271 - accuracy: 0.6481 - val_loss: 1.3319 - val_accuracy: 0.5786\n",
            "Epoch 4/5\n",
            "1024/1024 [==============================] - 10s 10ms/step - loss: 0.9565 - accuracy: 0.7197 - val_loss: 1.1960 - val_accuracy: 0.6182\n",
            "Epoch 5/5\n",
            " 845/1024 [=======================>......] - ETA: 1s - loss: 0.8322 - accuracy: 0.7489WARNING:tensorflow:Your input ran out of data; interrupting training. Make sure that your dataset or generator can generate at least `steps_per_epoch * epochs` batches (in this case, 5120 batches). You may need to use the repeat() function when building your dataset.\n",
            "1024/1024 [==============================] - 8s 8ms/step - loss: 0.8316 - accuracy: 0.7490 - val_loss: 1.5759 - val_accuracy: 0.5145\n",
            "-----[ 3 ]-----{'_hidden_layers': 3, 'dense_count': 8, '_kernel_initializer': 'glorot_uniform', '_activation': 'sigmoid', '_optimizer': 'SGD', 'batch_normal': True, 'epochs': 10, 'label_class': 0}\n",
            "10 30\n",
            "Epoch 1/10\n"
          ]
        },
        {
          "name": "stderr",
          "output_type": "stream",
          "text": [
            "2022-05-30 10:22:18.544675: I tensorflow/core/grappler/optimizers/custom_graph_optimizer_registry.cc:112] Plugin optimizer for device_type GPU is enabled.\n"
          ]
        },
        {
          "name": "stdout",
          "output_type": "stream",
          "text": [
            "1022/1024 [============================>.] - ETA: 0s - loss: 2.6511 - accuracy: 0.2436"
          ]
        },
        {
          "name": "stderr",
          "output_type": "stream",
          "text": [
            "2022-05-30 10:22:29.545511: I tensorflow/core/grappler/optimizers/custom_graph_optimizer_registry.cc:112] Plugin optimizer for device_type GPU is enabled.\n"
          ]
        },
        {
          "name": "stdout",
          "output_type": "stream",
          "text": [
            "1024/1024 [==============================] - 12s 11ms/step - loss: 2.6499 - accuracy: 0.2440 - val_loss: 2.1940 - val_accuracy: 0.3405\n",
            "Epoch 2/10\n",
            "1024/1024 [==============================] - 10s 9ms/step - loss: 1.7549 - accuracy: 0.5013 - val_loss: 1.8599 - val_accuracy: 0.4041\n",
            "Epoch 3/10\n",
            "1024/1024 [==============================] - 10s 10ms/step - loss: 1.3008 - accuracy: 0.6134 - val_loss: 1.0715 - val_accuracy: 0.6852\n",
            "Epoch 4/10\n",
            "1024/1024 [==============================] - 10s 9ms/step - loss: 1.0223 - accuracy: 0.6950 - val_loss: 1.3539 - val_accuracy: 0.5806\n",
            "Epoch 5/10\n",
            "1024/1024 [==============================] - 10s 9ms/step - loss: 0.8633 - accuracy: 0.7408 - val_loss: 1.6873 - val_accuracy: 0.4978\n",
            "Epoch 6/10\n",
            "1024/1024 [==============================] - 10s 9ms/step - loss: 0.7620 - accuracy: 0.7690 - val_loss: 0.8245 - val_accuracy: 0.7377\n",
            "Epoch 7/10\n",
            "1024/1024 [==============================] - 10s 10ms/step - loss: 0.6942 - accuracy: 0.7839 - val_loss: 0.9489 - val_accuracy: 0.6931\n",
            "Epoch 8/10\n",
            "1024/1024 [==============================] - 10s 10ms/step - loss: 0.6349 - accuracy: 0.8048 - val_loss: 0.9540 - val_accuracy: 0.7017\n",
            "Epoch 9/10\n",
            "1024/1024 [==============================] - 10s 9ms/step - loss: 0.6054 - accuracy: 0.8096 - val_loss: 0.8932 - val_accuracy: 0.7226\n",
            "Epoch 10/10\n",
            " 670/1024 [==================>...........] - ETA: 3s - loss: 0.5768 - accuracy: 0.8226WARNING:tensorflow:Your input ran out of data; interrupting training. Make sure that your dataset or generator can generate at least `steps_per_epoch * epochs` batches (in this case, 10240 batches). You may need to use the repeat() function when building your dataset.\n",
            "1024/1024 [==============================] - 7s 6ms/step - loss: 0.5779 - accuracy: 0.8225 - val_loss: 4.7523 - val_accuracy: 0.2703\n",
            "-----[ 4 ]-----{'_hidden_layers': 3, 'dense_count': 8, '_kernel_initializer': 'glorot_uniform', '_activation': 'sigmoid', '_optimizer': 'Adam', 'batch_normal': False, 'epochs': 5, 'label_class': 0}\n",
            "5 30\n",
            "Epoch 1/5\n",
            "   6/1024 [..............................] - ETA: 10s - loss: 3.4257 - accuracy: 0.0526  "
          ]
        },
        {
          "name": "stderr",
          "output_type": "stream",
          "text": [
            "2022-05-30 10:23:55.067496: I tensorflow/core/grappler/optimizers/custom_graph_optimizer_registry.cc:112] Plugin optimizer for device_type GPU is enabled.\n"
          ]
        },
        {
          "name": "stdout",
          "output_type": "stream",
          "text": [
            "1022/1024 [============================>.] - ETA: 0s - loss: 3.3834 - accuracy: 0.0519"
          ]
        },
        {
          "name": "stderr",
          "output_type": "stream",
          "text": [
            "2022-05-30 10:24:00.446087: I tensorflow/core/grappler/optimizers/custom_graph_optimizer_registry.cc:112] Plugin optimizer for device_type GPU is enabled.\n"
          ]
        },
        {
          "name": "stdout",
          "output_type": "stream",
          "text": [
            "1024/1024 [==============================] - 6s 6ms/step - loss: 3.3833 - accuracy: 0.0520 - val_loss: 3.3607 - val_accuracy: 0.0771\n",
            "Epoch 2/5\n",
            "1024/1024 [==============================] - 6s 5ms/step - loss: 3.2038 - accuracy: 0.0847 - val_loss: 3.1066 - val_accuracy: 0.0743\n",
            "Epoch 3/5\n",
            "1024/1024 [==============================] - 6s 6ms/step - loss: 2.9514 - accuracy: 0.0875 - val_loss: 2.9156 - val_accuracy: 0.0981\n",
            "Epoch 4/5\n",
            "1024/1024 [==============================] - 6s 6ms/step - loss: 2.8352 - accuracy: 0.1039 - val_loss: 2.7904 - val_accuracy: 0.0999\n",
            "Epoch 5/5\n",
            " 849/1024 [=======================>......] - ETA: 0s - loss: 2.7456 - accuracy: 0.1179WARNING:tensorflow:Your input ran out of data; interrupting training. Make sure that your dataset or generator can generate at least `steps_per_epoch * epochs` batches (in this case, 5120 batches). You may need to use the repeat() function when building your dataset.\n",
            "1024/1024 [==============================] - 5s 5ms/step - loss: 2.7456 - accuracy: 0.1179 - val_loss: 2.7162 - val_accuracy: 0.1300\n",
            "-----[ 5 ]-----{'_hidden_layers': 3, 'dense_count': 8, '_kernel_initializer': 'glorot_uniform', '_activation': 'sigmoid', '_optimizer': 'Adam', 'batch_normal': False, 'epochs': 10, 'label_class': 0}\n",
            "10 30\n",
            "Epoch 1/10\n",
            "   6/1024 [..............................] - ETA: 10s - loss: 3.4390 - accuracy: 0.0263 "
          ]
        },
        {
          "name": "stderr",
          "output_type": "stream",
          "text": [
            "2022-05-30 10:24:22.847004: I tensorflow/core/grappler/optimizers/custom_graph_optimizer_registry.cc:112] Plugin optimizer for device_type GPU is enabled.\n"
          ]
        },
        {
          "name": "stdout",
          "output_type": "stream",
          "text": [
            "1018/1024 [============================>.] - ETA: 0s - loss: 3.3836 - accuracy: 0.0451"
          ]
        },
        {
          "name": "stderr",
          "output_type": "stream",
          "text": [
            "2022-05-30 10:24:28.214832: I tensorflow/core/grappler/optimizers/custom_graph_optimizer_registry.cc:112] Plugin optimizer for device_type GPU is enabled.\n"
          ]
        },
        {
          "name": "stdout",
          "output_type": "stream",
          "text": [
            "1024/1024 [==============================] - 6s 6ms/step - loss: 3.3833 - accuracy: 0.0451 - val_loss: 3.3263 - val_accuracy: 0.0779\n",
            "Epoch 2/10\n",
            "1024/1024 [==============================] - 6s 5ms/step - loss: 3.1424 - accuracy: 0.0798 - val_loss: 2.9831 - val_accuracy: 0.0838\n",
            "Epoch 3/10\n",
            "1024/1024 [==============================] - 6s 5ms/step - loss: 2.9101 - accuracy: 0.0904 - val_loss: 2.8492 - val_accuracy: 0.1058\n",
            "Epoch 4/10\n",
            "1024/1024 [==============================] - 6s 5ms/step - loss: 2.7878 - accuracy: 0.1125 - val_loss: 2.7397 - val_accuracy: 0.1077\n",
            "Epoch 5/10\n",
            "1024/1024 [==============================] - 6s 5ms/step - loss: 2.6786 - accuracy: 0.1365 - val_loss: 2.6226 - val_accuracy: 0.1353\n",
            "Epoch 6/10\n",
            "1024/1024 [==============================] - 6s 5ms/step - loss: 2.5710 - accuracy: 0.1439 - val_loss: 2.5256 - val_accuracy: 0.1447\n",
            "Epoch 7/10\n",
            "1024/1024 [==============================] - 6s 5ms/step - loss: 2.4915 - accuracy: 0.1464 - val_loss: 2.4659 - val_accuracy: 0.1526\n",
            "Epoch 8/10\n",
            "1024/1024 [==============================] - 6s 6ms/step - loss: 2.4228 - accuracy: 0.1644 - val_loss: 2.3910 - val_accuracy: 0.1764\n",
            "Epoch 9/10\n",
            "1024/1024 [==============================] - 6s 5ms/step - loss: 2.3659 - accuracy: 0.1788 - val_loss: 2.3356 - val_accuracy: 0.1838\n",
            "Epoch 10/10\n",
            " 674/1024 [==================>...........] - ETA: 1s - loss: 2.3096 - accuracy: 0.2034WARNING:tensorflow:Your input ran out of data; interrupting training. Make sure that your dataset or generator can generate at least `steps_per_epoch * epochs` batches (in this case, 10240 batches). You may need to use the repeat() function when building your dataset.\n",
            "1024/1024 [==============================] - 4s 4ms/step - loss: 2.3096 - accuracy: 0.2034 - val_loss: 2.2916 - val_accuracy: 0.2122\n",
            "-----[ 6 ]-----{'_hidden_layers': 3, 'dense_count': 8, '_kernel_initializer': 'glorot_uniform', '_activation': 'sigmoid', '_optimizer': 'Adam', 'batch_normal': True, 'epochs': 5, 'label_class': 0}\n",
            "5 30\n",
            "Epoch 1/5\n"
          ]
        },
        {
          "name": "stderr",
          "output_type": "stream",
          "text": [
            "2022-05-30 10:25:17.705093: I tensorflow/core/grappler/optimizers/custom_graph_optimizer_registry.cc:112] Plugin optimizer for device_type GPU is enabled.\n"
          ]
        },
        {
          "name": "stdout",
          "output_type": "stream",
          "text": [
            "1024/1024 [==============================] - ETA: 0s - loss: 2.2005 - accuracy: 0.3773"
          ]
        },
        {
          "name": "stderr",
          "output_type": "stream",
          "text": [
            "2022-05-30 10:25:28.510295: I tensorflow/core/grappler/optimizers/custom_graph_optimizer_registry.cc:112] Plugin optimizer for device_type GPU is enabled.\n"
          ]
        },
        {
          "name": "stdout",
          "output_type": "stream",
          "text": [
            "1024/1024 [==============================] - 12s 11ms/step - loss: 2.2005 - accuracy: 0.3773 - val_loss: 1.7011 - val_accuracy: 0.4735\n",
            "Epoch 2/5\n",
            "1024/1024 [==============================] - 11s 11ms/step - loss: 1.2056 - accuracy: 0.6504 - val_loss: 0.9981 - val_accuracy: 0.7011\n",
            "Epoch 3/5\n",
            "1024/1024 [==============================] - 11s 11ms/step - loss: 0.8440 - accuracy: 0.7497 - val_loss: 0.6911 - val_accuracy: 0.7991\n",
            "Epoch 4/5\n",
            "1024/1024 [==============================] - 11s 11ms/step - loss: 0.6722 - accuracy: 0.7951 - val_loss: 0.6290 - val_accuracy: 0.8036\n",
            "Epoch 5/5\n",
            " 849/1024 [=======================>......] - ETA: 1s - loss: 0.5941 - accuracy: 0.8134WARNING:tensorflow:Your input ran out of data; interrupting training. Make sure that your dataset or generator can generate at least `steps_per_epoch * epochs` batches (in this case, 5120 batches). You may need to use the repeat() function when building your dataset.\n",
            "1024/1024 [==============================] - 9s 9ms/step - loss: 0.5941 - accuracy: 0.8134 - val_loss: 0.4124 - val_accuracy: 0.8812\n",
            "-----[ 7 ]-----{'_hidden_layers': 3, 'dense_count': 8, '_kernel_initializer': 'glorot_uniform', '_activation': 'sigmoid', '_optimizer': 'Adam', 'batch_normal': True, 'epochs': 10, 'label_class': 0}\n",
            "10 30\n",
            "Epoch 1/10\n"
          ]
        },
        {
          "name": "stderr",
          "output_type": "stream",
          "text": [
            "2022-05-30 10:26:11.097360: I tensorflow/core/grappler/optimizers/custom_graph_optimizer_registry.cc:112] Plugin optimizer for device_type GPU is enabled.\n"
          ]
        },
        {
          "name": "stdout",
          "output_type": "stream",
          "text": [
            "1022/1024 [============================>.] - ETA: 0s - loss: 2.2780 - accuracy: 0.3898"
          ]
        },
        {
          "name": "stderr",
          "output_type": "stream",
          "text": [
            "2022-05-30 10:26:22.745631: I tensorflow/core/grappler/optimizers/custom_graph_optimizer_registry.cc:112] Plugin optimizer for device_type GPU is enabled.\n"
          ]
        },
        {
          "name": "stdout",
          "output_type": "stream",
          "text": [
            "1024/1024 [==============================] - 13s 12ms/step - loss: 2.2762 - accuracy: 0.3903 - val_loss: 1.3299 - val_accuracy: 0.6435\n",
            "Epoch 2/10\n",
            "1024/1024 [==============================] - 11s 11ms/step - loss: 1.0819 - accuracy: 0.6987 - val_loss: 0.9654 - val_accuracy: 0.6870\n",
            "Epoch 3/10\n",
            "1024/1024 [==============================] - 11s 11ms/step - loss: 0.7609 - accuracy: 0.7693 - val_loss: 0.8511 - val_accuracy: 0.7369\n",
            "Epoch 4/10\n",
            "1024/1024 [==============================] - 11s 11ms/step - loss: 0.6348 - accuracy: 0.8019 - val_loss: 1.2421 - val_accuracy: 0.6231\n",
            "Epoch 5/10\n",
            "1024/1024 [==============================] - 11s 11ms/step - loss: 0.5499 - accuracy: 0.8263 - val_loss: 0.5589 - val_accuracy: 0.8075\n",
            "Epoch 6/10\n",
            "1024/1024 [==============================] - 11s 11ms/step - loss: 0.5179 - accuracy: 0.8364 - val_loss: 0.2785 - val_accuracy: 0.9278\n",
            "Epoch 7/10\n",
            "1024/1024 [==============================] - 11s 10ms/step - loss: 0.4729 - accuracy: 0.8472 - val_loss: 0.6877 - val_accuracy: 0.7666\n",
            "Epoch 8/10\n",
            "1024/1024 [==============================] - 11s 11ms/step - loss: 0.4509 - accuracy: 0.8536 - val_loss: 0.2821 - val_accuracy: 0.9149\n",
            "Epoch 9/10\n",
            "1024/1024 [==============================] - 11s 11ms/step - loss: 0.4154 - accuracy: 0.8664 - val_loss: 0.4464 - val_accuracy: 0.8510\n",
            "Epoch 10/10\n",
            " 670/1024 [==================>...........] - ETA: 3s - loss: 0.4104 - accuracy: 0.8634WARNING:tensorflow:Your input ran out of data; interrupting training. Make sure that your dataset or generator can generate at least `steps_per_epoch * epochs` batches (in this case, 10240 batches). You may need to use the repeat() function when building your dataset.\n",
            "1024/1024 [==============================] - 7s 7ms/step - loss: 0.4106 - accuracy: 0.8636 - val_loss: 0.4593 - val_accuracy: 0.8455\n",
            "-----[ 8 ]-----{'_hidden_layers': 3, 'dense_count': 8, '_kernel_initializer': 'glorot_uniform', '_activation': 'relu', '_optimizer': 'SGD', 'batch_normal': False, 'epochs': 5, 'label_class': 0}\n",
            "5 30\n",
            "Epoch 1/5\n",
            "   8/1024 [..............................] - ETA: 9s - loss: 3.4031 - accuracy: 0.0132      "
          ]
        },
        {
          "name": "stderr",
          "output_type": "stream",
          "text": [
            "2022-05-30 10:27:57.780711: I tensorflow/core/grappler/optimizers/custom_graph_optimizer_registry.cc:112] Plugin optimizer for device_type GPU is enabled.\n"
          ]
        },
        {
          "name": "stdout",
          "output_type": "stream",
          "text": [
            "1024/1024 [==============================] - ETA: 0s - loss: 3.3865 - accuracy: 0.0437"
          ]
        },
        {
          "name": "stderr",
          "output_type": "stream",
          "text": [
            "2022-05-30 10:28:02.535700: I tensorflow/core/grappler/optimizers/custom_graph_optimizer_registry.cc:112] Plugin optimizer for device_type GPU is enabled.\n"
          ]
        },
        {
          "name": "stdout",
          "output_type": "stream",
          "text": [
            "1024/1024 [==============================] - 5s 5ms/step - loss: 3.3865 - accuracy: 0.0437 - val_loss: 3.3617 - val_accuracy: 0.0468\n",
            "Epoch 2/5\n",
            "1024/1024 [==============================] - 5s 5ms/step - loss: 3.2801 - accuracy: 0.0687 - val_loss: 3.1547 - val_accuracy: 0.0735\n",
            "Epoch 3/5\n",
            "1024/1024 [==============================] - 5s 5ms/step - loss: 2.9981 - accuracy: 0.1029 - val_loss: 2.7950 - val_accuracy: 0.1422\n",
            "Epoch 4/5\n",
            "1024/1024 [==============================] - 5s 5ms/step - loss: 2.6168 - accuracy: 0.1718 - val_loss: 2.2876 - val_accuracy: 0.2460\n",
            "Epoch 5/5\n",
            " 847/1024 [=======================>......] - ETA: 0s - loss: 2.2299 - accuracy: 0.2515WARNING:tensorflow:Your input ran out of data; interrupting training. Make sure that your dataset or generator can generate at least `steps_per_epoch * epochs` batches (in this case, 5120 batches). You may need to use the repeat() function when building your dataset.\n",
            "1024/1024 [==============================] - 4s 4ms/step - loss: 2.2294 - accuracy: 0.2517 - val_loss: 2.5731 - val_accuracy: 0.1948\n",
            "-----[ 9 ]-----{'_hidden_layers': 3, 'dense_count': 8, '_kernel_initializer': 'glorot_uniform', '_activation': 'relu', '_optimizer': 'SGD', 'batch_normal': False, 'epochs': 10, 'label_class': 0}\n",
            "10 30\n",
            "Epoch 1/10\n",
            "   7/1024 [..............................] - ETA: 8s - loss: 3.4010 - accuracy: 0.0301      "
          ]
        },
        {
          "name": "stderr",
          "output_type": "stream",
          "text": [
            "2022-05-30 10:28:22.389389: I tensorflow/core/grappler/optimizers/custom_graph_optimizer_registry.cc:112] Plugin optimizer for device_type GPU is enabled.\n"
          ]
        },
        {
          "name": "stdout",
          "output_type": "stream",
          "text": [
            "1013/1024 [============================>.] - ETA: 0s - loss: 3.3869 - accuracy: 0.0454"
          ]
        },
        {
          "name": "stderr",
          "output_type": "stream",
          "text": [
            "2022-05-30 10:28:27.163040: I tensorflow/core/grappler/optimizers/custom_graph_optimizer_registry.cc:112] Plugin optimizer for device_type GPU is enabled.\n"
          ]
        },
        {
          "name": "stdout",
          "output_type": "stream",
          "text": [
            "1024/1024 [==============================] - 5s 5ms/step - loss: 3.3865 - accuracy: 0.0456 - val_loss: 3.3548 - val_accuracy: 0.0674\n",
            "Epoch 2/10\n",
            "1024/1024 [==============================] - 5s 5ms/step - loss: 3.2388 - accuracy: 0.0849 - val_loss: 3.0390 - val_accuracy: 0.0843\n",
            "Epoch 3/10\n",
            "1024/1024 [==============================] - 5s 5ms/step - loss: 2.8954 - accuracy: 0.1023 - val_loss: 2.7020 - val_accuracy: 0.1292\n",
            "Epoch 4/10\n",
            "1024/1024 [==============================] - 5s 5ms/step - loss: 2.6556 - accuracy: 0.1260 - val_loss: 2.5477 - val_accuracy: 0.1339\n",
            "Epoch 5/10\n",
            "1024/1024 [==============================] - 5s 5ms/step - loss: 2.5464 - accuracy: 0.1428 - val_loss: 2.7600 - val_accuracy: 0.1115\n",
            "Epoch 6/10\n",
            "1024/1024 [==============================] - 5s 5ms/step - loss: 2.4397 - accuracy: 0.1657 - val_loss: 2.3205 - val_accuracy: 0.2063\n",
            "Epoch 7/10\n",
            "1024/1024 [==============================] - 5s 5ms/step - loss: 2.2389 - accuracy: 0.2296 - val_loss: 2.0314 - val_accuracy: 0.3075\n",
            "Epoch 8/10\n",
            "1024/1024 [==============================] - 5s 5ms/step - loss: 1.8913 - accuracy: 0.3220 - val_loss: 1.9051 - val_accuracy: 0.3221\n",
            "Epoch 9/10\n",
            "1024/1024 [==============================] - 5s 5ms/step - loss: 1.7189 - accuracy: 0.3710 - val_loss: 1.6176 - val_accuracy: 0.4041\n",
            "Epoch 10/10\n",
            " 673/1024 [==================>...........] - ETA: 1s - loss: 1.6404 - accuracy: 0.4031WARNING:tensorflow:Your input ran out of data; interrupting training. Make sure that your dataset or generator can generate at least `steps_per_epoch * epochs` batches (in this case, 10240 batches). You may need to use the repeat() function when building your dataset.\n",
            "1024/1024 [==============================] - 3s 3ms/step - loss: 1.6405 - accuracy: 0.4031 - val_loss: 1.4957 - val_accuracy: 0.4310\n",
            "-----[ 10 ]-----{'_hidden_layers': 3, 'dense_count': 8, '_kernel_initializer': 'glorot_uniform', '_activation': 'relu', '_optimizer': 'SGD', 'batch_normal': True, 'epochs': 5, 'label_class': 0}\n",
            "5 30\n",
            "Epoch 1/5\n"
          ]
        },
        {
          "name": "stderr",
          "output_type": "stream",
          "text": [
            "2022-05-30 10:29:11.616909: I tensorflow/core/grappler/optimizers/custom_graph_optimizer_registry.cc:112] Plugin optimizer for device_type GPU is enabled.\n"
          ]
        },
        {
          "name": "stdout",
          "output_type": "stream",
          "text": [
            "1019/1024 [============================>.] - ETA: 0s - loss: 3.1679 - accuracy: 0.0922"
          ]
        },
        {
          "name": "stderr",
          "output_type": "stream",
          "text": [
            "2022-05-30 10:29:21.988593: I tensorflow/core/grappler/optimizers/custom_graph_optimizer_registry.cc:112] Plugin optimizer for device_type GPU is enabled.\n"
          ]
        },
        {
          "name": "stdout",
          "output_type": "stream",
          "text": [
            "1024/1024 [==============================] - 11s 10ms/step - loss: 3.1662 - accuracy: 0.0925 - val_loss: 2.8941 - val_accuracy: 0.1227\n",
            "Epoch 2/5\n",
            "1024/1024 [==============================] - 10s 10ms/step - loss: 2.6509 - accuracy: 0.1780 - val_loss: 2.3284 - val_accuracy: 0.2519\n",
            "Epoch 3/5\n",
            "1024/1024 [==============================] - 10s 10ms/step - loss: 2.3174 - accuracy: 0.2374 - val_loss: 2.1365 - val_accuracy: 0.2572\n",
            "Epoch 4/5\n",
            "1024/1024 [==============================] - 10s 10ms/step - loss: 2.1130 - accuracy: 0.2783 - val_loss: 2.0670 - val_accuracy: 0.2558\n",
            "Epoch 5/5\n",
            " 846/1024 [=======================>......] - ETA: 1s - loss: 2.0212 - accuracy: 0.2950WARNING:tensorflow:Your input ran out of data; interrupting training. Make sure that your dataset or generator can generate at least `steps_per_epoch * epochs` batches (in this case, 5120 batches). You may need to use the repeat() function when building your dataset.\n",
            "1024/1024 [==============================] - 8s 8ms/step - loss: 2.0213 - accuracy: 0.2950 - val_loss: 1.8473 - val_accuracy: 0.3346\n",
            "-----[ 11 ]-----{'_hidden_layers': 3, 'dense_count': 8, '_kernel_initializer': 'glorot_uniform', '_activation': 'relu', '_optimizer': 'SGD', 'batch_normal': True, 'epochs': 10, 'label_class': 0}\n",
            "10 30\n",
            "Epoch 1/10\n"
          ]
        },
        {
          "name": "stderr",
          "output_type": "stream",
          "text": [
            "2022-05-30 10:30:01.114297: I tensorflow/core/grappler/optimizers/custom_graph_optimizer_registry.cc:112] Plugin optimizer for device_type GPU is enabled.\n"
          ]
        },
        {
          "name": "stdout",
          "output_type": "stream",
          "text": [
            "1021/1024 [============================>.] - ETA: 0s - loss: 3.0400 - accuracy: 0.1194"
          ]
        },
        {
          "name": "stderr",
          "output_type": "stream",
          "text": [
            "2022-05-30 10:30:11.812159: I tensorflow/core/grappler/optimizers/custom_graph_optimizer_registry.cc:112] Plugin optimizer for device_type GPU is enabled.\n"
          ]
        },
        {
          "name": "stdout",
          "output_type": "stream",
          "text": [
            "1024/1024 [==============================] - 12s 11ms/step - loss: 3.0388 - accuracy: 0.1195 - val_loss: 2.7103 - val_accuracy: 0.1600\n",
            "Epoch 2/10\n",
            "1024/1024 [==============================] - 10s 10ms/step - loss: 2.5051 - accuracy: 0.1950 - val_loss: 2.6079 - val_accuracy: 0.1681\n",
            "Epoch 3/10\n",
            "1024/1024 [==============================] - 10s 10ms/step - loss: 2.2753 - accuracy: 0.2325 - val_loss: 2.0145 - val_accuracy: 0.2955\n",
            "Epoch 4/10\n",
            "1024/1024 [==============================] - 10s 10ms/step - loss: 2.1230 - accuracy: 0.2632 - val_loss: 2.0311 - val_accuracy: 0.2672\n",
            "Epoch 5/10\n",
            "1024/1024 [==============================] - 10s 10ms/step - loss: 2.0340 - accuracy: 0.2858 - val_loss: 1.7656 - val_accuracy: 0.3663\n",
            "Epoch 6/10\n",
            "1024/1024 [==============================] - 10s 10ms/step - loss: 1.9665 - accuracy: 0.3025 - val_loss: 1.7877 - val_accuracy: 0.3478\n",
            "Epoch 7/10\n",
            "1024/1024 [==============================] - 10s 10ms/step - loss: 1.9413 - accuracy: 0.3057 - val_loss: 1.9587 - val_accuracy: 0.2892\n",
            "Epoch 8/10\n",
            "1024/1024 [==============================] - 10s 10ms/step - loss: 1.8987 - accuracy: 0.3169 - val_loss: 1.7559 - val_accuracy: 0.3551\n",
            "Epoch 9/10\n",
            "1024/1024 [==============================] - 10s 10ms/step - loss: 1.8844 - accuracy: 0.3223 - val_loss: 1.6758 - val_accuracy: 0.3765\n",
            "Epoch 10/10\n",
            " 673/1024 [==================>...........] - ETA: 3s - loss: 1.8618 - accuracy: 0.3278WARNING:tensorflow:Your input ran out of data; interrupting training. Make sure that your dataset or generator can generate at least `steps_per_epoch * epochs` batches (in this case, 10240 batches). You may need to use the repeat() function when building your dataset.\n",
            "1024/1024 [==============================] - 7s 6ms/step - loss: 1.8618 - accuracy: 0.3277 - val_loss: 1.6954 - val_accuracy: 0.3803\n",
            "-----[ 12 ]-----{'_hidden_layers': 3, 'dense_count': 8, '_kernel_initializer': 'glorot_uniform', '_activation': 'relu', '_optimizer': 'Adam', 'batch_normal': False, 'epochs': 5, 'label_class': 0}\n",
            "5 30\n",
            "Epoch 1/5\n",
            "   7/1024 [..............................] - ETA: 9s - loss: 3.4106 - accuracy: 0.0150  "
          ]
        },
        {
          "name": "stderr",
          "output_type": "stream",
          "text": [
            "2022-05-30 10:31:38.243504: I tensorflow/core/grappler/optimizers/custom_graph_optimizer_registry.cc:112] Plugin optimizer for device_type GPU is enabled.\n"
          ]
        },
        {
          "name": "stdout",
          "output_type": "stream",
          "text": [
            "1020/1024 [============================>.] - ETA: 0s - loss: 3.0883 - accuracy: 0.0817"
          ]
        },
        {
          "name": "stderr",
          "output_type": "stream",
          "text": [
            "2022-05-30 10:31:43.632035: I tensorflow/core/grappler/optimizers/custom_graph_optimizer_registry.cc:112] Plugin optimizer for device_type GPU is enabled.\n"
          ]
        },
        {
          "name": "stdout",
          "output_type": "stream",
          "text": [
            "1024/1024 [==============================] - 6s 6ms/step - loss: 3.0872 - accuracy: 0.0818 - val_loss: 2.7115 - val_accuracy: 0.1372\n",
            "Epoch 2/5\n",
            "1024/1024 [==============================] - 6s 5ms/step - loss: 2.6104 - accuracy: 0.1363 - val_loss: 2.5677 - val_accuracy: 0.1418\n",
            "Epoch 3/5\n",
            "1024/1024 [==============================] - 6s 5ms/step - loss: 2.5150 - accuracy: 0.1485 - val_loss: 2.4898 - val_accuracy: 0.1565\n",
            "Epoch 4/5\n",
            "1024/1024 [==============================] - 6s 5ms/step - loss: 2.4689 - accuracy: 0.1550 - val_loss: 2.4667 - val_accuracy: 0.1587\n",
            "Epoch 5/5\n",
            " 845/1024 [=======================>......] - ETA: 0s - loss: 2.4548 - accuracy: 0.1566WARNING:tensorflow:Your input ran out of data; interrupting training. Make sure that your dataset or generator can generate at least `steps_per_epoch * epochs` batches (in this case, 5120 batches). You may need to use the repeat() function when building your dataset.\n",
            "1024/1024 [==============================] - 5s 5ms/step - loss: 2.4545 - accuracy: 0.1567 - val_loss: 2.4172 - val_accuracy: 0.1555\n",
            "-----[ 13 ]-----{'_hidden_layers': 3, 'dense_count': 8, '_kernel_initializer': 'glorot_uniform', '_activation': 'relu', '_optimizer': 'Adam', 'batch_normal': False, 'epochs': 10, 'label_class': 0}\n",
            "10 30\n",
            "Epoch 1/10\n",
            "   6/1024 [..............................] - ETA: 10s - loss: 3.4026 - accuracy: 0.0614 "
          ]
        },
        {
          "name": "stderr",
          "output_type": "stream",
          "text": [
            "2022-05-30 10:32:05.718811: I tensorflow/core/grappler/optimizers/custom_graph_optimizer_registry.cc:112] Plugin optimizer for device_type GPU is enabled.\n"
          ]
        },
        {
          "name": "stdout",
          "output_type": "stream",
          "text": [
            "1020/1024 [============================>.] - ETA: 0s - loss: 3.0089 - accuracy: 0.0885"
          ]
        },
        {
          "name": "stderr",
          "output_type": "stream",
          "text": [
            "2022-05-30 10:32:11.401996: I tensorflow/core/grappler/optimizers/custom_graph_optimizer_registry.cc:112] Plugin optimizer for device_type GPU is enabled.\n"
          ]
        },
        {
          "name": "stdout",
          "output_type": "stream",
          "text": [
            "1024/1024 [==============================] - 6s 6ms/step - loss: 3.0072 - accuracy: 0.0886 - val_loss: 2.5361 - val_accuracy: 0.1424\n",
            "Epoch 2/10\n",
            "1024/1024 [==============================] - 6s 5ms/step - loss: 2.4445 - accuracy: 0.1742 - val_loss: 2.3830 - val_accuracy: 0.1962\n",
            "Epoch 3/10\n",
            "1024/1024 [==============================] - 6s 5ms/step - loss: 2.3176 - accuracy: 0.2114 - val_loss: 2.2625 - val_accuracy: 0.2261\n",
            "Epoch 4/10\n",
            "1024/1024 [==============================] - 6s 5ms/step - loss: 2.2359 - accuracy: 0.2372 - val_loss: 2.2182 - val_accuracy: 0.2605\n",
            "Epoch 5/10\n",
            "1024/1024 [==============================] - 6s 5ms/step - loss: 2.1896 - accuracy: 0.2463 - val_loss: 2.1710 - val_accuracy: 0.2611\n",
            "Epoch 6/10\n",
            "1024/1024 [==============================] - 5s 5ms/step - loss: 2.1377 - accuracy: 0.2681 - val_loss: 2.1252 - val_accuracy: 0.2853\n",
            "Epoch 7/10\n",
            "1024/1024 [==============================] - 6s 5ms/step - loss: 2.1003 - accuracy: 0.2806 - val_loss: 2.0624 - val_accuracy: 0.3030\n",
            "Epoch 8/10\n",
            "1024/1024 [==============================] - 6s 5ms/step - loss: 2.0462 - accuracy: 0.2963 - val_loss: 2.0369 - val_accuracy: 0.3152\n",
            "Epoch 9/10\n",
            "1024/1024 [==============================] - 6s 5ms/step - loss: 1.9997 - accuracy: 0.3127 - val_loss: 1.9643 - val_accuracy: 0.3331\n",
            "Epoch 10/10\n",
            " 674/1024 [==================>...........] - ETA: 1s - loss: 1.9632 - accuracy: 0.3236WARNING:tensorflow:Your input ran out of data; interrupting training. Make sure that your dataset or generator can generate at least `steps_per_epoch * epochs` batches (in this case, 10240 batches). You may need to use the repeat() function when building your dataset.\n",
            "1024/1024 [==============================] - 4s 4ms/step - loss: 1.9632 - accuracy: 0.3236 - val_loss: 1.9478 - val_accuracy: 0.3260\n",
            "-----[ 14 ]-----{'_hidden_layers': 3, 'dense_count': 8, '_kernel_initializer': 'glorot_uniform', '_activation': 'relu', '_optimizer': 'Adam', 'batch_normal': True, 'epochs': 5, 'label_class': 0}\n",
            "5 30\n",
            "Epoch 1/5\n"
          ]
        },
        {
          "name": "stderr",
          "output_type": "stream",
          "text": [
            "2022-05-30 10:33:00.400047: I tensorflow/core/grappler/optimizers/custom_graph_optimizer_registry.cc:112] Plugin optimizer for device_type GPU is enabled.\n"
          ]
        },
        {
          "name": "stdout",
          "output_type": "stream",
          "text": [
            "1024/1024 [==============================] - ETA: 0s - loss: 2.8644 - accuracy: 0.1612"
          ]
        },
        {
          "name": "stderr",
          "output_type": "stream",
          "text": [
            "2022-05-30 10:33:11.716332: I tensorflow/core/grappler/optimizers/custom_graph_optimizer_registry.cc:112] Plugin optimizer for device_type GPU is enabled.\n"
          ]
        },
        {
          "name": "stdout",
          "output_type": "stream",
          "text": [
            "1024/1024 [==============================] - 12s 11ms/step - loss: 2.8644 - accuracy: 0.1612 - val_loss: 2.1413 - val_accuracy: 0.3177\n",
            "Epoch 2/5\n",
            "1024/1024 [==============================] - 10s 10ms/step - loss: 1.9641 - accuracy: 0.3484 - val_loss: 1.8549 - val_accuracy: 0.3691\n",
            "Epoch 3/5\n",
            "1024/1024 [==============================] - 10s 10ms/step - loss: 1.6243 - accuracy: 0.4442 - val_loss: 1.7921 - val_accuracy: 0.3742\n",
            "Epoch 4/5\n",
            "1024/1024 [==============================] - 11s 10ms/step - loss: 1.4451 - accuracy: 0.5029 - val_loss: 1.1334 - val_accuracy: 0.6164\n",
            "Epoch 5/5\n",
            " 846/1024 [=======================>......] - ETA: 1s - loss: 1.3025 - accuracy: 0.5592WARNING:tensorflow:Your input ran out of data; interrupting training. Make sure that your dataset or generator can generate at least `steps_per_epoch * epochs` batches (in this case, 5120 batches). You may need to use the repeat() function when building your dataset.\n",
            "1024/1024 [==============================] - 9s 9ms/step - loss: 1.3034 - accuracy: 0.5591 - val_loss: 1.6023 - val_accuracy: 0.4459\n",
            "-----[ 15 ]-----{'_hidden_layers': 3, 'dense_count': 8, '_kernel_initializer': 'glorot_uniform', '_activation': 'relu', '_optimizer': 'Adam', 'batch_normal': True, 'epochs': 10, 'label_class': 0}\n",
            "10 30\n",
            "Epoch 1/10\n"
          ]
        },
        {
          "name": "stderr",
          "output_type": "stream",
          "text": [
            "2022-05-30 10:33:53.082958: I tensorflow/core/grappler/optimizers/custom_graph_optimizer_registry.cc:112] Plugin optimizer for device_type GPU is enabled.\n"
          ]
        },
        {
          "name": "stdout",
          "output_type": "stream",
          "text": [
            "1024/1024 [==============================] - ETA: 0s - loss: 2.8426 - accuracy: 0.1801"
          ]
        },
        {
          "name": "stderr",
          "output_type": "stream",
          "text": [
            "2022-05-30 10:34:03.830328: I tensorflow/core/grappler/optimizers/custom_graph_optimizer_registry.cc:112] Plugin optimizer for device_type GPU is enabled.\n"
          ]
        },
        {
          "name": "stdout",
          "output_type": "stream",
          "text": [
            "1024/1024 [==============================] - 12s 11ms/step - loss: 2.8426 - accuracy: 0.1801 - val_loss: 2.0748 - val_accuracy: 0.3685\n",
            "Epoch 2/10\n",
            "1024/1024 [==============================] - 10s 10ms/step - loss: 1.8292 - accuracy: 0.4215 - val_loss: 1.5398 - val_accuracy: 0.4902\n",
            "Epoch 3/10\n",
            "1024/1024 [==============================] - 11s 10ms/step - loss: 1.4431 - accuracy: 0.5262 - val_loss: 1.6016 - val_accuracy: 0.4601\n",
            "Epoch 4/10\n",
            "1024/1024 [==============================] - 11s 10ms/step - loss: 1.2494 - accuracy: 0.5836 - val_loss: 1.0469 - val_accuracy: 0.6532\n",
            "Epoch 5/10\n",
            "1024/1024 [==============================] - 10s 10ms/step - loss: 1.1552 - accuracy: 0.6158 - val_loss: 0.9308 - val_accuracy: 0.6797\n",
            "Epoch 6/10\n",
            "1024/1024 [==============================] - 11s 10ms/step - loss: 1.0840 - accuracy: 0.6370 - val_loss: 1.1760 - val_accuracy: 0.5842\n",
            "Epoch 7/10\n",
            "1024/1024 [==============================] - 10s 10ms/step - loss: 1.0445 - accuracy: 0.6514 - val_loss: 1.2235 - val_accuracy: 0.5755\n",
            "Epoch 8/10\n",
            "1024/1024 [==============================] - 11s 10ms/step - loss: 0.9725 - accuracy: 0.6757 - val_loss: 0.8287 - val_accuracy: 0.7352\n",
            "Epoch 9/10\n",
            "1024/1024 [==============================] - 11s 10ms/step - loss: 0.9617 - accuracy: 0.6765 - val_loss: 0.7097 - val_accuracy: 0.7794\n",
            "Epoch 10/10\n",
            " 670/1024 [==================>...........] - ETA: 3s - loss: 0.9259 - accuracy: 0.6914WARNING:tensorflow:Your input ran out of data; interrupting training. Make sure that your dataset or generator can generate at least `steps_per_epoch * epochs` batches (in this case, 10240 batches). You may need to use the repeat() function when building your dataset.\n",
            "1024/1024 [==============================] - 7s 7ms/step - loss: 0.9277 - accuracy: 0.6904 - val_loss: 0.7438 - val_accuracy: 0.7576\n",
            "-----[ 16 ]-----{'_hidden_layers': 3, 'dense_count': 16, '_kernel_initializer': 'glorot_uniform', '_activation': 'sigmoid', '_optimizer': 'SGD', 'batch_normal': False, 'epochs': 5, 'label_class': 0}\n",
            "5 30\n",
            "Epoch 1/5\n",
            "   8/1024 [..............................] - ETA: 7s - loss: 3.5130 - accuracy: 0.0461  "
          ]
        },
        {
          "name": "stderr",
          "output_type": "stream",
          "text": [
            "2022-05-30 10:35:36.082077: I tensorflow/core/grappler/optimizers/custom_graph_optimizer_registry.cc:112] Plugin optimizer for device_type GPU is enabled.\n"
          ]
        },
        {
          "name": "stdout",
          "output_type": "stream",
          "text": [
            "1024/1024 [==============================] - ETA: 0s - loss: 3.4147 - accuracy: 0.0365"
          ]
        },
        {
          "name": "stderr",
          "output_type": "stream",
          "text": [
            "2022-05-30 10:35:40.643178: I tensorflow/core/grappler/optimizers/custom_graph_optimizer_registry.cc:112] Plugin optimizer for device_type GPU is enabled.\n"
          ]
        },
        {
          "name": "stdout",
          "output_type": "stream",
          "text": [
            "1024/1024 [==============================] - 5s 5ms/step - loss: 3.4147 - accuracy: 0.0365 - val_loss: 3.3870 - val_accuracy: 0.0395\n",
            "Epoch 2/5\n",
            "1024/1024 [==============================] - 5s 5ms/step - loss: 3.3828 - accuracy: 0.0386 - val_loss: 3.3844 - val_accuracy: 0.0409\n",
            "Epoch 3/5\n",
            "1024/1024 [==============================] - 5s 5ms/step - loss: 3.3826 - accuracy: 0.0407 - val_loss: 3.3845 - val_accuracy: 0.0409\n",
            "Epoch 4/5\n",
            "1024/1024 [==============================] - 5s 5ms/step - loss: 3.3827 - accuracy: 0.0401 - val_loss: 3.3850 - val_accuracy: 0.0391\n",
            "Epoch 5/5\n",
            " 849/1024 [=======================>......] - ETA: 0s - loss: 3.3811 - accuracy: 0.0398WARNING:tensorflow:Your input ran out of data; interrupting training. Make sure that your dataset or generator can generate at least `steps_per_epoch * epochs` batches (in this case, 5120 batches). You may need to use the repeat() function when building your dataset.\n",
            "1024/1024 [==============================] - 4s 4ms/step - loss: 3.3811 - accuracy: 0.0398 - val_loss: 3.3845 - val_accuracy: 0.0409\n",
            "-----[ 17 ]-----{'_hidden_layers': 3, 'dense_count': 16, '_kernel_initializer': 'glorot_uniform', '_activation': 'sigmoid', '_optimizer': 'SGD', 'batch_normal': False, 'epochs': 10, 'label_class': 0}\n",
            "10 30\n",
            "Epoch 1/10\n",
            "   8/1024 [..............................] - ETA: 7s - loss: 3.4014 - accuracy: 0.0461  "
          ]
        },
        {
          "name": "stderr",
          "output_type": "stream",
          "text": [
            "2022-05-30 10:35:59.929577: I tensorflow/core/grappler/optimizers/custom_graph_optimizer_registry.cc:112] Plugin optimizer for device_type GPU is enabled.\n"
          ]
        },
        {
          "name": "stdout",
          "output_type": "stream",
          "text": [
            "1013/1024 [============================>.] - ETA: 0s - loss: 3.4024 - accuracy: 0.0362"
          ]
        },
        {
          "name": "stderr",
          "output_type": "stream",
          "text": [
            "2022-05-30 10:36:04.560502: I tensorflow/core/grappler/optimizers/custom_graph_optimizer_registry.cc:112] Plugin optimizer for device_type GPU is enabled.\n"
          ]
        },
        {
          "name": "stdout",
          "output_type": "stream",
          "text": [
            "1024/1024 [==============================] - 5s 5ms/step - loss: 3.4023 - accuracy: 0.0364 - val_loss: 3.3858 - val_accuracy: 0.0395\n",
            "Epoch 2/10\n",
            "1024/1024 [==============================] - 5s 5ms/step - loss: 3.3829 - accuracy: 0.0378 - val_loss: 3.3844 - val_accuracy: 0.0395\n",
            "Epoch 3/10\n",
            "1024/1024 [==============================] - 5s 5ms/step - loss: 3.3816 - accuracy: 0.0384 - val_loss: 3.3845 - val_accuracy: 0.0409\n",
            "Epoch 4/10\n",
            "1024/1024 [==============================] - 5s 5ms/step - loss: 3.3814 - accuracy: 0.0393 - val_loss: 3.3849 - val_accuracy: 0.0407\n",
            "Epoch 5/10\n",
            "1024/1024 [==============================] - 5s 5ms/step - loss: 3.3828 - accuracy: 0.0413 - val_loss: 3.3846 - val_accuracy: 0.0409\n",
            "Epoch 6/10\n",
            "1024/1024 [==============================] - 5s 5ms/step - loss: 3.3827 - accuracy: 0.0396 - val_loss: 3.3844 - val_accuracy: 0.0407\n",
            "Epoch 7/10\n",
            "1024/1024 [==============================] - 5s 5ms/step - loss: 3.3812 - accuracy: 0.0426 - val_loss: 3.3847 - val_accuracy: 0.0395\n",
            "Epoch 8/10\n",
            "1024/1024 [==============================] - 5s 5ms/step - loss: 3.3831 - accuracy: 0.0391 - val_loss: 3.3847 - val_accuracy: 0.0391\n",
            "Epoch 9/10\n",
            "1024/1024 [==============================] - 5s 5ms/step - loss: 3.3804 - accuracy: 0.0391 - val_loss: 3.3848 - val_accuracy: 0.0391\n",
            "Epoch 10/10\n",
            " 670/1024 [==================>...........] - ETA: 1s - loss: 3.3834 - accuracy: 0.0403WARNING:tensorflow:Your input ran out of data; interrupting training. Make sure that your dataset or generator can generate at least `steps_per_epoch * epochs` batches (in this case, 10240 batches). You may need to use the repeat() function when building your dataset.\n",
            "1024/1024 [==============================] - 3s 3ms/step - loss: 3.3833 - accuracy: 0.0404 - val_loss: 3.3843 - val_accuracy: 0.0409\n",
            "-----[ 18 ]-----{'_hidden_layers': 3, 'dense_count': 16, '_kernel_initializer': 'glorot_uniform', '_activation': 'sigmoid', '_optimizer': 'SGD', 'batch_normal': True, 'epochs': 5, 'label_class': 0}\n",
            "5 30\n",
            "Epoch 1/5\n"
          ]
        },
        {
          "name": "stderr",
          "output_type": "stream",
          "text": [
            "2022-05-30 10:36:47.741030: I tensorflow/core/grappler/optimizers/custom_graph_optimizer_registry.cc:112] Plugin optimizer for device_type GPU is enabled.\n"
          ]
        },
        {
          "name": "stdout",
          "output_type": "stream",
          "text": [
            "1024/1024 [==============================] - ETA: 0s - loss: 2.2609 - accuracy: 0.3981"
          ]
        },
        {
          "name": "stderr",
          "output_type": "stream",
          "text": [
            "2022-05-30 10:36:57.686021: I tensorflow/core/grappler/optimizers/custom_graph_optimizer_registry.cc:112] Plugin optimizer for device_type GPU is enabled.\n"
          ]
        },
        {
          "name": "stdout",
          "output_type": "stream",
          "text": [
            "1024/1024 [==============================] - 11s 10ms/step - loss: 2.2609 - accuracy: 0.3981 - val_loss: 1.5766 - val_accuracy: 0.5564\n",
            "Epoch 2/5\n",
            "1024/1024 [==============================] - 10s 9ms/step - loss: 1.0643 - accuracy: 0.7350 - val_loss: 1.3136 - val_accuracy: 0.5993\n",
            "Epoch 3/5\n",
            "1024/1024 [==============================] - 10s 10ms/step - loss: 0.6840 - accuracy: 0.8226 - val_loss: 0.8547 - val_accuracy: 0.7373\n",
            "Epoch 4/5\n",
            "1024/1024 [==============================] - 10s 10ms/step - loss: 0.5008 - accuracy: 0.8661 - val_loss: 0.7450 - val_accuracy: 0.7855\n",
            "Epoch 5/5\n",
            " 847/1024 [=======================>......] - ETA: 1s - loss: 0.4117 - accuracy: 0.8853WARNING:tensorflow:Your input ran out of data; interrupting training. Make sure that your dataset or generator can generate at least `steps_per_epoch * epochs` batches (in this case, 5120 batches). You may need to use the repeat() function when building your dataset.\n",
            "1024/1024 [==============================] - 8s 8ms/step - loss: 0.4118 - accuracy: 0.8852 - val_loss: 2.5728 - val_accuracy: 0.4060\n",
            "-----[ 19 ]-----{'_hidden_layers': 3, 'dense_count': 16, '_kernel_initializer': 'glorot_uniform', '_activation': 'sigmoid', '_optimizer': 'SGD', 'batch_normal': True, 'epochs': 10, 'label_class': 0}\n",
            "10 30\n",
            "Epoch 1/10\n"
          ]
        },
        {
          "name": "stderr",
          "output_type": "stream",
          "text": [
            "2022-05-30 10:37:36.030664: I tensorflow/core/grappler/optimizers/custom_graph_optimizer_registry.cc:112] Plugin optimizer for device_type GPU is enabled.\n"
          ]
        },
        {
          "name": "stdout",
          "output_type": "stream",
          "text": [
            "1019/1024 [============================>.] - ETA: 0s - loss: 2.1781 - accuracy: 0.4398"
          ]
        },
        {
          "name": "stderr",
          "output_type": "stream",
          "text": [
            "2022-05-30 10:37:45.863311: I tensorflow/core/grappler/optimizers/custom_graph_optimizer_registry.cc:112] Plugin optimizer for device_type GPU is enabled.\n"
          ]
        },
        {
          "name": "stdout",
          "output_type": "stream",
          "text": [
            "1024/1024 [==============================] - 11s 10ms/step - loss: 2.1743 - accuracy: 0.4409 - val_loss: 1.5741 - val_accuracy: 0.5836\n",
            "Epoch 2/10\n",
            "1024/1024 [==============================] - 10s 9ms/step - loss: 0.9758 - accuracy: 0.7669 - val_loss: 1.1534 - val_accuracy: 0.6420\n",
            "Epoch 3/10\n",
            "1024/1024 [==============================] - 10s 9ms/step - loss: 0.5974 - accuracy: 0.8501 - val_loss: 0.6240 - val_accuracy: 0.8173\n",
            "Epoch 4/10\n",
            "1024/1024 [==============================] - 10s 9ms/step - loss: 0.4482 - accuracy: 0.8828 - val_loss: 0.4119 - val_accuracy: 0.8852\n",
            "Epoch 5/10\n",
            "1024/1024 [==============================] - 10s 9ms/step - loss: 0.3675 - accuracy: 0.8996 - val_loss: 0.3613 - val_accuracy: 0.8917\n",
            "Epoch 6/10\n",
            "1024/1024 [==============================] - 10s 9ms/step - loss: 0.3168 - accuracy: 0.9122 - val_loss: 0.3529 - val_accuracy: 0.8930\n",
            "Epoch 7/10\n",
            "1024/1024 [==============================] - 10s 9ms/step - loss: 0.2837 - accuracy: 0.9176 - val_loss: 0.2829 - val_accuracy: 0.9176\n",
            "Epoch 8/10\n",
            "1024/1024 [==============================] - 10s 9ms/step - loss: 0.2485 - accuracy: 0.9283 - val_loss: 0.2367 - val_accuracy: 0.9310\n",
            "Epoch 9/10\n",
            "1024/1024 [==============================] - 9s 9ms/step - loss: 0.2297 - accuracy: 0.9355 - val_loss: 0.4111 - val_accuracy: 0.8864\n",
            "Epoch 10/10\n",
            " 673/1024 [==================>...........] - ETA: 3s - loss: 0.2179 - accuracy: 0.9368WARNING:tensorflow:Your input ran out of data; interrupting training. Make sure that your dataset or generator can generate at least `steps_per_epoch * epochs` batches (in this case, 10240 batches). You may need to use the repeat() function when building your dataset.\n",
            "1024/1024 [==============================] - 6s 6ms/step - loss: 0.2179 - accuracy: 0.9368 - val_loss: 0.7970 - val_accuracy: 0.7749\n",
            "-----[ 20 ]-----{'_hidden_layers': 3, 'dense_count': 16, '_kernel_initializer': 'glorot_uniform', '_activation': 'sigmoid', '_optimizer': 'Adam', 'batch_normal': False, 'epochs': 5, 'label_class': 0}\n",
            "5 30\n",
            "Epoch 1/5\n",
            "   8/1024 [..............................] - ETA: 7s - loss: 3.5300 - accuracy: 0.0329  "
          ]
        },
        {
          "name": "stderr",
          "output_type": "stream",
          "text": [
            "2022-05-30 10:39:10.008585: I tensorflow/core/grappler/optimizers/custom_graph_optimizer_registry.cc:112] Plugin optimizer for device_type GPU is enabled.\n"
          ]
        },
        {
          "name": "stdout",
          "output_type": "stream",
          "text": [
            "1019/1024 [============================>.] - ETA: 0s - loss: 3.3070 - accuracy: 0.0561"
          ]
        },
        {
          "name": "stderr",
          "output_type": "stream",
          "text": [
            "2022-05-30 10:39:15.257368: I tensorflow/core/grappler/optimizers/custom_graph_optimizer_registry.cc:112] Plugin optimizer for device_type GPU is enabled.\n"
          ]
        },
        {
          "name": "stdout",
          "output_type": "stream",
          "text": [
            "1024/1024 [==============================] - 6s 6ms/step - loss: 3.3058 - accuracy: 0.0560 - val_loss: 3.0583 - val_accuracy: 0.0757\n",
            "Epoch 2/5\n",
            "1024/1024 [==============================] - 5s 5ms/step - loss: 2.8856 - accuracy: 0.1080 - val_loss: 2.7661 - val_accuracy: 0.1359\n",
            "Epoch 3/5\n",
            "1024/1024 [==============================] - 5s 5ms/step - loss: 2.6353 - accuracy: 0.1573 - val_loss: 2.5132 - val_accuracy: 0.1770\n",
            "Epoch 4/5\n",
            "1024/1024 [==============================] - 5s 5ms/step - loss: 2.4023 - accuracy: 0.1973 - val_loss: 2.2990 - val_accuracy: 0.2145\n",
            "Epoch 5/5\n",
            " 845/1024 [=======================>......] - ETA: 0s - loss: 2.1946 - accuracy: 0.2329WARNING:tensorflow:Your input ran out of data; interrupting training. Make sure that your dataset or generator can generate at least `steps_per_epoch * epochs` batches (in this case, 5120 batches). You may need to use the repeat() function when building your dataset.\n",
            "1024/1024 [==============================] - 5s 4ms/step - loss: 2.1946 - accuracy: 0.2329 - val_loss: 2.1179 - val_accuracy: 0.2576\n",
            "-----[ 21 ]-----{'_hidden_layers': 3, 'dense_count': 16, '_kernel_initializer': 'glorot_uniform', '_activation': 'sigmoid', '_optimizer': 'Adam', 'batch_normal': False, 'epochs': 10, 'label_class': 0}\n",
            "10 30\n",
            "Epoch 1/10\n",
            "   6/1024 [..............................] - ETA: 10s - loss: 3.4797 - accuracy: 0.0175 "
          ]
        },
        {
          "name": "stderr",
          "output_type": "stream",
          "text": [
            "2022-05-30 10:39:36.780455: I tensorflow/core/grappler/optimizers/custom_graph_optimizer_registry.cc:112] Plugin optimizer for device_type GPU is enabled.\n"
          ]
        },
        {
          "name": "stdout",
          "output_type": "stream",
          "text": [
            "1021/1024 [============================>.] - ETA: 0s - loss: 3.3490 - accuracy: 0.0571"
          ]
        },
        {
          "name": "stderr",
          "output_type": "stream",
          "text": [
            "2022-05-30 10:39:42.020586: I tensorflow/core/grappler/optimizers/custom_graph_optimizer_registry.cc:112] Plugin optimizer for device_type GPU is enabled.\n"
          ]
        },
        {
          "name": "stdout",
          "output_type": "stream",
          "text": [
            "1024/1024 [==============================] - 6s 6ms/step - loss: 3.3484 - accuracy: 0.0572 - val_loss: 3.1528 - val_accuracy: 0.0912\n",
            "Epoch 2/10\n",
            "1024/1024 [==============================] - 5s 5ms/step - loss: 2.8431 - accuracy: 0.1304 - val_loss: 2.5726 - val_accuracy: 0.1929\n",
            "Epoch 3/10\n",
            "1024/1024 [==============================] - 5s 5ms/step - loss: 2.3749 - accuracy: 0.2167 - val_loss: 2.2107 - val_accuracy: 0.2281\n",
            "Epoch 4/10\n",
            "1024/1024 [==============================] - 5s 5ms/step - loss: 2.1055 - accuracy: 0.2686 - val_loss: 2.0192 - val_accuracy: 0.2798\n",
            "Epoch 5/10\n",
            "1024/1024 [==============================] - 5s 5ms/step - loss: 1.9192 - accuracy: 0.3328 - val_loss: 1.8433 - val_accuracy: 0.3468\n",
            "Epoch 6/10\n",
            "1024/1024 [==============================] - 5s 5ms/step - loss: 1.7705 - accuracy: 0.3778 - val_loss: 1.7343 - val_accuracy: 0.3873\n",
            "Epoch 7/10\n",
            "1024/1024 [==============================] - 5s 5ms/step - loss: 1.6384 - accuracy: 0.4226 - val_loss: 1.5791 - val_accuracy: 0.4284\n",
            "Epoch 8/10\n",
            "1024/1024 [==============================] - 5s 5ms/step - loss: 1.5246 - accuracy: 0.4509 - val_loss: 1.4740 - val_accuracy: 0.4772\n",
            "Epoch 9/10\n",
            "1024/1024 [==============================] - 5s 5ms/step - loss: 1.4275 - accuracy: 0.4910 - val_loss: 1.3944 - val_accuracy: 0.4971\n",
            "Epoch 10/10\n",
            " 671/1024 [==================>...........] - ETA: 1s - loss: 1.3712 - accuracy: 0.5108WARNING:tensorflow:Your input ran out of data; interrupting training. Make sure that your dataset or generator can generate at least `steps_per_epoch * epochs` batches (in this case, 10240 batches). You may need to use the repeat() function when building your dataset.\n",
            "1024/1024 [==============================] - 4s 4ms/step - loss: 1.3709 - accuracy: 0.5106 - val_loss: 1.3557 - val_accuracy: 0.5248\n",
            "-----[ 22 ]-----{'_hidden_layers': 3, 'dense_count': 16, '_kernel_initializer': 'glorot_uniform', '_activation': 'sigmoid', '_optimizer': 'Adam', 'batch_normal': True, 'epochs': 5, 'label_class': 0}\n",
            "5 30\n",
            "Epoch 1/5\n"
          ]
        },
        {
          "name": "stderr",
          "output_type": "stream",
          "text": [
            "2022-05-30 10:40:30.024757: I tensorflow/core/grappler/optimizers/custom_graph_optimizer_registry.cc:112] Plugin optimizer for device_type GPU is enabled.\n"
          ]
        },
        {
          "name": "stdout",
          "output_type": "stream",
          "text": [
            "1024/1024 [==============================] - ETA: 0s - loss: 1.6502 - accuracy: 0.5602"
          ]
        },
        {
          "name": "stderr",
          "output_type": "stream",
          "text": [
            "2022-05-30 10:40:41.142640: I tensorflow/core/grappler/optimizers/custom_graph_optimizer_registry.cc:112] Plugin optimizer for device_type GPU is enabled.\n"
          ]
        },
        {
          "name": "stdout",
          "output_type": "stream",
          "text": [
            "1024/1024 [==============================] - 12s 11ms/step - loss: 1.6502 - accuracy: 0.5602 - val_loss: 1.4739 - val_accuracy: 0.5712\n",
            "Epoch 2/5\n",
            "1024/1024 [==============================] - 10s 10ms/step - loss: 0.6498 - accuracy: 0.8167 - val_loss: 0.4799 - val_accuracy: 0.8563\n",
            "Epoch 3/5\n",
            "1024/1024 [==============================] - 10s 10ms/step - loss: 0.4443 - accuracy: 0.8684 - val_loss: 0.3399 - val_accuracy: 0.8938\n",
            "Epoch 4/5\n",
            "1024/1024 [==============================] - 10s 10ms/step - loss: 0.3543 - accuracy: 0.8921 - val_loss: 0.3300 - val_accuracy: 0.9019\n",
            "Epoch 5/5\n",
            " 847/1024 [=======================>......] - ETA: 1s - loss: 0.3162 - accuracy: 0.9034WARNING:tensorflow:Your input ran out of data; interrupting training. Make sure that your dataset or generator can generate at least `steps_per_epoch * epochs` batches (in this case, 5120 batches). You may need to use the repeat() function when building your dataset.\n",
            "1024/1024 [==============================] - 9s 9ms/step - loss: 0.3166 - accuracy: 0.9035 - val_loss: 0.9125 - val_accuracy: 0.7397\n",
            "-----[ 23 ]-----{'_hidden_layers': 3, 'dense_count': 16, '_kernel_initializer': 'glorot_uniform', '_activation': 'sigmoid', '_optimizer': 'Adam', 'batch_normal': True, 'epochs': 10, 'label_class': 0}\n",
            "10 30\n",
            "Epoch 1/10\n"
          ]
        },
        {
          "name": "stderr",
          "output_type": "stream",
          "text": [
            "2022-05-30 10:41:22.216740: I tensorflow/core/grappler/optimizers/custom_graph_optimizer_registry.cc:112] Plugin optimizer for device_type GPU is enabled.\n"
          ]
        },
        {
          "name": "stdout",
          "output_type": "stream",
          "text": [
            "1024/1024 [==============================] - ETA: 0s - loss: 1.6395 - accuracy: 0.5651"
          ]
        },
        {
          "name": "stderr",
          "output_type": "stream",
          "text": [
            "2022-05-30 10:41:32.958431: I tensorflow/core/grappler/optimizers/custom_graph_optimizer_registry.cc:112] Plugin optimizer for device_type GPU is enabled.\n"
          ]
        },
        {
          "name": "stdout",
          "output_type": "stream",
          "text": [
            "1024/1024 [==============================] - 12s 11ms/step - loss: 1.6395 - accuracy: 0.5651 - val_loss: 1.4466 - val_accuracy: 0.5476\n",
            "Epoch 2/10\n",
            "1024/1024 [==============================] - 11s 10ms/step - loss: 0.6439 - accuracy: 0.8191 - val_loss: 0.4928 - val_accuracy: 0.8523\n",
            "Epoch 3/10\n",
            "1024/1024 [==============================] - 11s 10ms/step - loss: 0.4486 - accuracy: 0.8678 - val_loss: 0.5393 - val_accuracy: 0.8278\n",
            "Epoch 4/10\n",
            "1024/1024 [==============================] - 11s 10ms/step - loss: 0.3545 - accuracy: 0.8948 - val_loss: 0.2083 - val_accuracy: 0.9404\n",
            "Epoch 5/10\n",
            "1024/1024 [==============================] - 10s 10ms/step - loss: 0.2879 - accuracy: 0.9098 - val_loss: 0.6211 - val_accuracy: 0.8128\n",
            "Epoch 6/10\n",
            "1024/1024 [==============================] - 11s 11ms/step - loss: 0.2656 - accuracy: 0.9185 - val_loss: 0.2873 - val_accuracy: 0.9157\n",
            "Epoch 7/10\n",
            "1024/1024 [==============================] - 10s 10ms/step - loss: 0.2560 - accuracy: 0.9214 - val_loss: 0.2442 - val_accuracy: 0.9261\n",
            "Epoch 8/10\n",
            "1024/1024 [==============================] - 11s 10ms/step - loss: 0.2447 - accuracy: 0.9249 - val_loss: 0.2469 - val_accuracy: 0.9245\n",
            "Epoch 9/10\n",
            "1024/1024 [==============================] - 11s 10ms/step - loss: 0.2114 - accuracy: 0.9344 - val_loss: 0.1235 - val_accuracy: 0.9640\n",
            "Epoch 10/10\n",
            " 673/1024 [==================>...........] - ETA: 3s - loss: 0.2007 - accuracy: 0.9386WARNING:tensorflow:Your input ran out of data; interrupting training. Make sure that your dataset or generator can generate at least `steps_per_epoch * epochs` batches (in this case, 10240 batches). You may need to use the repeat() function when building your dataset.\n",
            "1024/1024 [==============================] - 7s 7ms/step - loss: 0.2011 - accuracy: 0.9385 - val_loss: 0.2397 - val_accuracy: 0.9255\n",
            "-----[ 24 ]-----{'_hidden_layers': 3, 'dense_count': 16, '_kernel_initializer': 'glorot_uniform', '_activation': 'relu', '_optimizer': 'SGD', 'batch_normal': False, 'epochs': 5, 'label_class': 0}\n",
            "5 30\n",
            "Epoch 1/5\n",
            "   8/1024 [..............................] - ETA: 8s - loss: 3.4010 - accuracy: 0.0329  "
          ]
        },
        {
          "name": "stderr",
          "output_type": "stream",
          "text": [
            "2022-05-30 10:43:05.410163: I tensorflow/core/grappler/optimizers/custom_graph_optimizer_registry.cc:112] Plugin optimizer for device_type GPU is enabled.\n"
          ]
        },
        {
          "name": "stdout",
          "output_type": "stream",
          "text": [
            "1013/1024 [============================>.] - ETA: 0s - loss: 3.3749 - accuracy: 0.0511"
          ]
        },
        {
          "name": "stderr",
          "output_type": "stream",
          "text": [
            "2022-05-30 10:43:10.043499: I tensorflow/core/grappler/optimizers/custom_graph_optimizer_registry.cc:112] Plugin optimizer for device_type GPU is enabled.\n"
          ]
        },
        {
          "name": "stdout",
          "output_type": "stream",
          "text": [
            "1024/1024 [==============================] - 5s 5ms/step - loss: 3.3741 - accuracy: 0.0511 - val_loss: 3.3303 - val_accuracy: 0.0771\n",
            "Epoch 2/5\n",
            "1024/1024 [==============================] - 5s 5ms/step - loss: 3.1304 - accuracy: 0.1130 - val_loss: 2.8266 - val_accuracy: 0.1392\n",
            "Epoch 3/5\n",
            "1024/1024 [==============================] - 5s 5ms/step - loss: 2.4376 - accuracy: 0.2140 - val_loss: 2.0924 - val_accuracy: 0.2711\n",
            "Epoch 4/5\n",
            "1024/1024 [==============================] - 5s 5ms/step - loss: 2.0049 - accuracy: 0.3130 - val_loss: 1.6963 - val_accuracy: 0.4078\n",
            "Epoch 5/5\n",
            " 849/1024 [=======================>......] - ETA: 0s - loss: 1.7236 - accuracy: 0.3925WARNING:tensorflow:Your input ran out of data; interrupting training. Make sure that your dataset or generator can generate at least `steps_per_epoch * epochs` batches (in this case, 5120 batches). You may need to use the repeat() function when building your dataset.\n",
            "1024/1024 [==============================] - 4s 4ms/step - loss: 1.7236 - accuracy: 0.3925 - val_loss: 1.7071 - val_accuracy: 0.3856\n",
            "-----[ 25 ]-----{'_hidden_layers': 3, 'dense_count': 16, '_kernel_initializer': 'glorot_uniform', '_activation': 'relu', '_optimizer': 'SGD', 'batch_normal': False, 'epochs': 10, 'label_class': 0}\n",
            "10 30\n",
            "Epoch 1/10\n",
            "   8/1024 [..............................] - ETA: 7s - loss: 3.4047 - accuracy: 0.0461  "
          ]
        },
        {
          "name": "stderr",
          "output_type": "stream",
          "text": [
            "2022-05-30 10:43:29.316151: I tensorflow/core/grappler/optimizers/custom_graph_optimizer_registry.cc:112] Plugin optimizer for device_type GPU is enabled.\n"
          ]
        },
        {
          "name": "stdout",
          "output_type": "stream",
          "text": [
            "1013/1024 [============================>.] - ETA: 0s - loss: 3.3668 - accuracy: 0.0505"
          ]
        },
        {
          "name": "stderr",
          "output_type": "stream",
          "text": [
            "2022-05-30 10:43:34.037413: I tensorflow/core/grappler/optimizers/custom_graph_optimizer_registry.cc:112] Plugin optimizer for device_type GPU is enabled.\n"
          ]
        },
        {
          "name": "stdout",
          "output_type": "stream",
          "text": [
            "1024/1024 [==============================] - 5s 5ms/step - loss: 3.3660 - accuracy: 0.0506 - val_loss: 3.3043 - val_accuracy: 0.0745\n",
            "Epoch 2/10\n",
            "1024/1024 [==============================] - 5s 5ms/step - loss: 3.0729 - accuracy: 0.0939 - val_loss: 2.7306 - val_accuracy: 0.1250\n",
            "Epoch 3/10\n",
            "1024/1024 [==============================] - 5s 5ms/step - loss: 2.4950 - accuracy: 0.1855 - val_loss: 2.1778 - val_accuracy: 0.2611\n",
            "Epoch 4/10\n",
            "1024/1024 [==============================] - 5s 5ms/step - loss: 1.9886 - accuracy: 0.3161 - val_loss: 1.6413 - val_accuracy: 0.4202\n",
            "Epoch 5/10\n",
            "1024/1024 [==============================] - 5s 5ms/step - loss: 1.5890 - accuracy: 0.4429 - val_loss: 1.4109 - val_accuracy: 0.4849\n",
            "Epoch 6/10\n",
            "1024/1024 [==============================] - 5s 5ms/step - loss: 1.3541 - accuracy: 0.5156 - val_loss: 1.4207 - val_accuracy: 0.4678\n",
            "Epoch 7/10\n",
            "1024/1024 [==============================] - 5s 5ms/step - loss: 1.2204 - accuracy: 0.5681 - val_loss: 1.2482 - val_accuracy: 0.5427\n",
            "Epoch 8/10\n",
            "1024/1024 [==============================] - 5s 5ms/step - loss: 1.1133 - accuracy: 0.6042 - val_loss: 0.9481 - val_accuracy: 0.6591\n",
            "Epoch 9/10\n",
            "1024/1024 [==============================] - 5s 5ms/step - loss: 1.0415 - accuracy: 0.6285 - val_loss: 1.0400 - val_accuracy: 0.6349\n",
            "Epoch 10/10\n",
            " 673/1024 [==================>...........] - ETA: 1s - loss: 0.9932 - accuracy: 0.6534WARNING:tensorflow:Your input ran out of data; interrupting training. Make sure that your dataset or generator can generate at least `steps_per_epoch * epochs` batches (in this case, 10240 batches). You may need to use the repeat() function when building your dataset.\n",
            "1024/1024 [==============================] - 3s 3ms/step - loss: 0.9933 - accuracy: 0.6534 - val_loss: 1.3532 - val_accuracy: 0.5271\n",
            "-----[ 26 ]-----{'_hidden_layers': 3, 'dense_count': 16, '_kernel_initializer': 'glorot_uniform', '_activation': 'relu', '_optimizer': 'SGD', 'batch_normal': True, 'epochs': 5, 'label_class': 0}\n",
            "5 30\n",
            "Epoch 1/5\n"
          ]
        },
        {
          "name": "stderr",
          "output_type": "stream",
          "text": [
            "2022-05-30 10:44:17.114238: I tensorflow/core/grappler/optimizers/custom_graph_optimizer_registry.cc:112] Plugin optimizer for device_type GPU is enabled.\n"
          ]
        },
        {
          "name": "stdout",
          "output_type": "stream",
          "text": [
            "1019/1024 [============================>.] - ETA: 0s - loss: 2.8703 - accuracy: 0.1929"
          ]
        },
        {
          "name": "stderr",
          "output_type": "stream",
          "text": [
            "2022-05-30 10:44:26.687101: I tensorflow/core/grappler/optimizers/custom_graph_optimizer_registry.cc:112] Plugin optimizer for device_type GPU is enabled.\n"
          ]
        },
        {
          "name": "stdout",
          "output_type": "stream",
          "text": [
            "1024/1024 [==============================] - 10s 10ms/step - loss: 2.8674 - accuracy: 0.1937 - val_loss: 2.3379 - val_accuracy: 0.2831\n",
            "Epoch 2/5\n",
            "1024/1024 [==============================] - 10s 9ms/step - loss: 1.8419 - accuracy: 0.4312 - val_loss: 1.3869 - val_accuracy: 0.5560\n",
            "Epoch 3/5\n",
            "1024/1024 [==============================] - 10s 9ms/step - loss: 1.3825 - accuracy: 0.5628 - val_loss: 0.9666 - val_accuracy: 0.7009\n",
            "Epoch 4/5\n",
            "1024/1024 [==============================] - 10s 9ms/step - loss: 1.1446 - accuracy: 0.6328 - val_loss: 2.5470 - val_accuracy: 0.3419\n",
            "Epoch 5/5\n",
            " 849/1024 [=======================>......] - ETA: 1s - loss: 1.2585 - accuracy: 0.5838WARNING:tensorflow:Your input ran out of data; interrupting training. Make sure that your dataset or generator can generate at least `steps_per_epoch * epochs` batches (in this case, 5120 batches). You may need to use the repeat() function when building your dataset.\n",
            "1024/1024 [==============================] - 8s 8ms/step - loss: 1.2585 - accuracy: 0.5838 - val_loss: 1.0305 - val_accuracy: 0.6506\n",
            "-----[ 27 ]-----{'_hidden_layers': 3, 'dense_count': 16, '_kernel_initializer': 'glorot_uniform', '_activation': 'relu', '_optimizer': 'SGD', 'batch_normal': True, 'epochs': 10, 'label_class': 0}\n",
            "10 30\n",
            "Epoch 1/10\n"
          ]
        },
        {
          "name": "stderr",
          "output_type": "stream",
          "text": [
            "2022-05-30 10:45:04.490409: I tensorflow/core/grappler/optimizers/custom_graph_optimizer_registry.cc:112] Plugin optimizer for device_type GPU is enabled.\n"
          ]
        },
        {
          "name": "stdout",
          "output_type": "stream",
          "text": [
            "1024/1024 [==============================] - ETA: 0s - loss: 2.8482 - accuracy: 0.1912"
          ]
        },
        {
          "name": "stderr",
          "output_type": "stream",
          "text": [
            "2022-05-30 10:45:14.619496: I tensorflow/core/grappler/optimizers/custom_graph_optimizer_registry.cc:112] Plugin optimizer for device_type GPU is enabled.\n"
          ]
        },
        {
          "name": "stdout",
          "output_type": "stream",
          "text": [
            "1024/1024 [==============================] - 11s 10ms/step - loss: 2.8482 - accuracy: 0.1912 - val_loss: 2.1820 - val_accuracy: 0.3439\n",
            "Epoch 2/10\n",
            "1024/1024 [==============================] - 10s 9ms/step - loss: 1.8243 - accuracy: 0.4556 - val_loss: 1.5315 - val_accuracy: 0.5242\n",
            "Epoch 3/10\n",
            "1024/1024 [==============================] - 10s 9ms/step - loss: 1.3118 - accuracy: 0.5883 - val_loss: 0.8837 - val_accuracy: 0.7523\n",
            "Epoch 4/10\n",
            "1024/1024 [==============================] - 10s 9ms/step - loss: 1.0577 - accuracy: 0.6689 - val_loss: 1.2096 - val_accuracy: 0.6009\n",
            "Epoch 5/10\n",
            "1024/1024 [==============================] - 10s 9ms/step - loss: 0.9626 - accuracy: 0.6976 - val_loss: 0.9763 - val_accuracy: 0.6783\n",
            "Epoch 6/10\n",
            "1024/1024 [==============================] - 10s 9ms/step - loss: 0.9352 - accuracy: 0.7000 - val_loss: 2.1096 - val_accuracy: 0.4155\n",
            "Epoch 7/10\n",
            "1024/1024 [==============================] - 10s 9ms/step - loss: 0.8320 - accuracy: 0.7262 - val_loss: 0.6988 - val_accuracy: 0.7705\n",
            "Epoch 8/10\n",
            "1024/1024 [==============================] - 10s 9ms/step - loss: 0.7902 - accuracy: 0.7414 - val_loss: 1.0182 - val_accuracy: 0.6687\n",
            "Epoch 9/10\n",
            "1024/1024 [==============================] - 10s 9ms/step - loss: 0.7372 - accuracy: 0.7603 - val_loss: 2.5361 - val_accuracy: 0.4086\n",
            "Epoch 10/10\n",
            " 673/1024 [==================>...........] - ETA: 3s - loss: 0.7118 - accuracy: 0.7664WARNING:tensorflow:Your input ran out of data; interrupting training. Make sure that your dataset or generator can generate at least `steps_per_epoch * epochs` batches (in this case, 10240 batches). You may need to use the repeat() function when building your dataset.\n",
            "1024/1024 [==============================] - 6s 6ms/step - loss: 0.7132 - accuracy: 0.7662 - val_loss: 2.2473 - val_accuracy: 0.4387\n",
            "-----[ 28 ]-----{'_hidden_layers': 3, 'dense_count': 16, '_kernel_initializer': 'glorot_uniform', '_activation': 'relu', '_optimizer': 'Adam', 'batch_normal': False, 'epochs': 5, 'label_class': 0}\n",
            "5 30\n",
            "Epoch 1/5\n",
            "   6/1024 [..............................] - ETA: 11s - loss: 3.3940 - accuracy: 0.0614 "
          ]
        },
        {
          "name": "stderr",
          "output_type": "stream",
          "text": [
            "2022-05-30 10:46:38.942411: I tensorflow/core/grappler/optimizers/custom_graph_optimizer_registry.cc:112] Plugin optimizer for device_type GPU is enabled.\n"
          ]
        },
        {
          "name": "stdout",
          "output_type": "stream",
          "text": [
            "1022/1024 [============================>.] - ETA: 0s - loss: 2.6440 - accuracy: 0.1854"
          ]
        },
        {
          "name": "stderr",
          "output_type": "stream",
          "text": [
            "2022-05-30 10:46:44.208140: I tensorflow/core/grappler/optimizers/custom_graph_optimizer_registry.cc:112] Plugin optimizer for device_type GPU is enabled.\n"
          ]
        },
        {
          "name": "stdout",
          "output_type": "stream",
          "text": [
            "1024/1024 [==============================] - 6s 6ms/step - loss: 2.6429 - accuracy: 0.1856 - val_loss: 2.0025 - val_accuracy: 0.3160\n",
            "Epoch 2/5\n",
            "1024/1024 [==============================] - 5s 5ms/step - loss: 1.7498 - accuracy: 0.3799 - val_loss: 1.5892 - val_accuracy: 0.4392\n",
            "Epoch 3/5\n",
            "1024/1024 [==============================] - 5s 5ms/step - loss: 1.5506 - accuracy: 0.4422 - val_loss: 1.5283 - val_accuracy: 0.4611\n",
            "Epoch 4/5\n",
            "1024/1024 [==============================] - 5s 5ms/step - loss: 1.4461 - accuracy: 0.4793 - val_loss: 1.4295 - val_accuracy: 0.4912\n",
            "Epoch 5/5\n",
            " 848/1024 [=======================>......] - ETA: 0s - loss: 1.3703 - accuracy: 0.5111WARNING:tensorflow:Your input ran out of data; interrupting training. Make sure that your dataset or generator can generate at least `steps_per_epoch * epochs` batches (in this case, 5120 batches). You may need to use the repeat() function when building your dataset.\n",
            "1024/1024 [==============================] - 5s 5ms/step - loss: 1.3705 - accuracy: 0.5111 - val_loss: 1.3753 - val_accuracy: 0.5149\n",
            "-----[ 29 ]-----{'_hidden_layers': 3, 'dense_count': 16, '_kernel_initializer': 'glorot_uniform', '_activation': 'relu', '_optimizer': 'Adam', 'batch_normal': False, 'epochs': 10, 'label_class': 0}\n",
            "10 30\n",
            "Epoch 1/10\n",
            "   1/1024 [..............................] - ETA: 4:01 - loss: 3.4129 - accuracy: 0.1053"
          ]
        },
        {
          "name": "stderr",
          "output_type": "stream",
          "text": [
            "2022-05-30 10:47:05.946190: I tensorflow/core/grappler/optimizers/custom_graph_optimizer_registry.cc:112] Plugin optimizer for device_type GPU is enabled.\n"
          ]
        },
        {
          "name": "stdout",
          "output_type": "stream",
          "text": [
            "1021/1024 [============================>.] - ETA: 0s - loss: 2.4562 - accuracy: 0.2242"
          ]
        },
        {
          "name": "stderr",
          "output_type": "stream",
          "text": [
            "2022-05-30 10:47:11.330722: I tensorflow/core/grappler/optimizers/custom_graph_optimizer_registry.cc:112] Plugin optimizer for device_type GPU is enabled.\n"
          ]
        },
        {
          "name": "stdout",
          "output_type": "stream",
          "text": [
            "1024/1024 [==============================] - 6s 6ms/step - loss: 2.4536 - accuracy: 0.2249 - val_loss: 1.7470 - val_accuracy: 0.4021\n",
            "Epoch 2/10\n",
            "1024/1024 [==============================] - 5s 5ms/step - loss: 1.3424 - accuracy: 0.5350 - val_loss: 1.1857 - val_accuracy: 0.5840\n",
            "Epoch 3/10\n",
            "1024/1024 [==============================] - 5s 5ms/step - loss: 0.9638 - accuracy: 0.6605 - val_loss: 0.8545 - val_accuracy: 0.6976\n",
            "Epoch 4/10\n",
            "1024/1024 [==============================] - 6s 5ms/step - loss: 0.7669 - accuracy: 0.7327 - val_loss: 0.7924 - val_accuracy: 0.7277\n",
            "Epoch 5/10\n",
            "1024/1024 [==============================] - 5s 5ms/step - loss: 0.6662 - accuracy: 0.7736 - val_loss: 0.7154 - val_accuracy: 0.7529\n",
            "Epoch 6/10\n",
            "1024/1024 [==============================] - 5s 5ms/step - loss: 0.5682 - accuracy: 0.8031 - val_loss: 0.5402 - val_accuracy: 0.8124\n",
            "Epoch 7/10\n",
            "1024/1024 [==============================] - 5s 5ms/step - loss: 0.5202 - accuracy: 0.8211 - val_loss: 0.5794 - val_accuracy: 0.8032\n",
            "Epoch 8/10\n",
            "1024/1024 [==============================] - 5s 5ms/step - loss: 0.4917 - accuracy: 0.8339 - val_loss: 0.5500 - val_accuracy: 0.8130\n",
            "Epoch 9/10\n",
            "1024/1024 [==============================] - 5s 5ms/step - loss: 0.4670 - accuracy: 0.8437 - val_loss: 0.4238 - val_accuracy: 0.8632\n",
            "Epoch 10/10\n",
            " 667/1024 [==================>...........] - ETA: 1s - loss: 0.4081 - accuracy: 0.8588WARNING:tensorflow:Your input ran out of data; interrupting training. Make sure that your dataset or generator can generate at least `steps_per_epoch * epochs` batches (in this case, 10240 batches). You may need to use the repeat() function when building your dataset.\n",
            "1024/1024 [==============================] - 4s 4ms/step - loss: 0.4080 - accuracy: 0.8591 - val_loss: 0.5405 - val_accuracy: 0.8293\n",
            "-----[ 30 ]-----{'_hidden_layers': 3, 'dense_count': 16, '_kernel_initializer': 'glorot_uniform', '_activation': 'relu', '_optimizer': 'Adam', 'batch_normal': True, 'epochs': 5, 'label_class': 0}\n",
            "5 30\n",
            "Epoch 1/5\n"
          ]
        },
        {
          "name": "stderr",
          "output_type": "stream",
          "text": [
            "2022-05-30 10:47:59.598990: I tensorflow/core/grappler/optimizers/custom_graph_optimizer_registry.cc:112] Plugin optimizer for device_type GPU is enabled.\n"
          ]
        },
        {
          "name": "stdout",
          "output_type": "stream",
          "text": [
            "1024/1024 [==============================] - ETA: 0s - loss: 2.6222 - accuracy: 0.2381"
          ]
        },
        {
          "name": "stderr",
          "output_type": "stream",
          "text": [
            "2022-05-30 10:48:10.735736: I tensorflow/core/grappler/optimizers/custom_graph_optimizer_registry.cc:112] Plugin optimizer for device_type GPU is enabled.\n"
          ]
        },
        {
          "name": "stdout",
          "output_type": "stream",
          "text": [
            "1024/1024 [==============================] - 12s 11ms/step - loss: 2.6222 - accuracy: 0.2381 - val_loss: 1.8150 - val_accuracy: 0.4196\n",
            "Epoch 2/5\n",
            "1024/1024 [==============================] - 11s 10ms/step - loss: 1.3853 - accuracy: 0.5626 - val_loss: 1.7039 - val_accuracy: 0.4506\n",
            "Epoch 3/5\n",
            "1024/1024 [==============================] - 11s 11ms/step - loss: 0.9425 - accuracy: 0.6949 - val_loss: 0.8197 - val_accuracy: 0.7334\n",
            "Epoch 4/5\n",
            "1024/1024 [==============================] - 11s 10ms/step - loss: 0.7127 - accuracy: 0.7694 - val_loss: 0.9077 - val_accuracy: 0.6958\n",
            "Epoch 5/5\n",
            " 844/1024 [=======================>......] - ETA: 1s - loss: 0.5914 - accuracy: 0.8119WARNING:tensorflow:Your input ran out of data; interrupting training. Make sure that your dataset or generator can generate at least `steps_per_epoch * epochs` batches (in this case, 5120 batches). You may need to use the repeat() function when building your dataset.\n",
            "1024/1024 [==============================] - 9s 8ms/step - loss: 0.5912 - accuracy: 0.8118 - val_loss: 0.4263 - val_accuracy: 0.8632\n",
            "-----[ 31 ]-----{'_hidden_layers': 3, 'dense_count': 16, '_kernel_initializer': 'glorot_uniform', '_activation': 'relu', '_optimizer': 'Adam', 'batch_normal': True, 'epochs': 10, 'label_class': 0}\n",
            "10 30\n",
            "Epoch 1/10\n"
          ]
        },
        {
          "name": "stderr",
          "output_type": "stream",
          "text": [
            "2022-05-30 10:48:52.615128: I tensorflow/core/grappler/optimizers/custom_graph_optimizer_registry.cc:112] Plugin optimizer for device_type GPU is enabled.\n"
          ]
        },
        {
          "name": "stdout",
          "output_type": "stream",
          "text": [
            "1024/1024 [==============================] - ETA: 0s - loss: 2.5608 - accuracy: 0.2546"
          ]
        },
        {
          "name": "stderr",
          "output_type": "stream",
          "text": [
            "2022-05-30 10:49:04.247167: I tensorflow/core/grappler/optimizers/custom_graph_optimizer_registry.cc:112] Plugin optimizer for device_type GPU is enabled.\n"
          ]
        },
        {
          "name": "stdout",
          "output_type": "stream",
          "text": [
            "1024/1024 [==============================] - 13s 12ms/step - loss: 2.5608 - accuracy: 0.2546 - val_loss: 2.0816 - val_accuracy: 0.3378\n",
            "Epoch 2/10\n",
            "1024/1024 [==============================] - 10s 10ms/step - loss: 1.3655 - accuracy: 0.5613 - val_loss: 1.1518 - val_accuracy: 0.5963\n",
            "Epoch 3/10\n",
            "1024/1024 [==============================] - 10s 10ms/step - loss: 0.9528 - accuracy: 0.6884 - val_loss: 1.3871 - val_accuracy: 0.5256\n",
            "Epoch 4/10\n",
            "1024/1024 [==============================] - 10s 10ms/step - loss: 0.7742 - accuracy: 0.7541 - val_loss: 0.8174 - val_accuracy: 0.7281\n",
            "Epoch 5/10\n",
            "1024/1024 [==============================] - 10s 10ms/step - loss: 0.6866 - accuracy: 0.7775 - val_loss: 0.8518 - val_accuracy: 0.7186\n",
            "Epoch 6/10\n",
            "1024/1024 [==============================] - 10s 10ms/step - loss: 0.6168 - accuracy: 0.8012 - val_loss: 0.8014 - val_accuracy: 0.7389\n",
            "Epoch 7/10\n",
            "1024/1024 [==============================] - 10s 10ms/step - loss: 0.5748 - accuracy: 0.8143 - val_loss: 0.7422 - val_accuracy: 0.7521\n",
            "Epoch 8/10\n",
            "1024/1024 [==============================] - 11s 10ms/step - loss: 0.5736 - accuracy: 0.8136 - val_loss: 1.1609 - val_accuracy: 0.6549\n",
            "Epoch 9/10\n",
            "1024/1024 [==============================] - 10s 10ms/step - loss: 0.5227 - accuracy: 0.8309 - val_loss: 0.3874 - val_accuracy: 0.8757\n",
            "Epoch 10/10\n",
            " 671/1024 [==================>...........] - ETA: 3s - loss: 0.5080 - accuracy: 0.8365WARNING:tensorflow:Your input ran out of data; interrupting training. Make sure that your dataset or generator can generate at least `steps_per_epoch * epochs` batches (in this case, 10240 batches). You may need to use the repeat() function when building your dataset.\n",
            "1024/1024 [==============================] - 7s 7ms/step - loss: 0.5078 - accuracy: 0.8365 - val_loss: 0.3337 - val_accuracy: 0.8944\n",
            "INFO:tensorflow:Assets written to: ram://98b33c9a-362a-4117-8b86-4f78eb7b5225/assets\n",
            "INFO:tensorflow:Assets written to: ram://7204d6c7-ede5-47fe-af74-c9e3f3cfd793/assets\n",
            "INFO:tensorflow:Assets written to: ram://70a0b673-83ff-4818-9c3b-354822a2a825/assets\n",
            "INFO:tensorflow:Assets written to: ram://3be9bac7-825d-489a-a8fa-e23fb084afff/assets\n",
            "INFO:tensorflow:Assets written to: ram://44882023-274b-4e04-be28-1cb71b2dd7b2/assets\n",
            "INFO:tensorflow:Assets written to: ram://33b9ba57-9028-4ed0-a4c1-68c7fccff67d/assets\n",
            "INFO:tensorflow:Assets written to: ram://2a9025ae-ffab-43fc-b371-5b97a04107bd/assets\n",
            "INFO:tensorflow:Assets written to: ram://0b469d30-45ac-4856-9e86-82da9ba01bf6/assets\n",
            "INFO:tensorflow:Assets written to: ram://d0b1372c-a50b-443f-8a49-15f79a61291a/assets\n",
            "INFO:tensorflow:Assets written to: ram://04998176-3dde-463f-923e-9d3a9b0cde27/assets\n",
            "INFO:tensorflow:Assets written to: ram://c1c0de22-08d0-4586-80eb-f9694cb994ea/assets\n",
            "INFO:tensorflow:Assets written to: ram://6913dccd-9bd6-464b-b628-b8253ecb7ac8/assets\n",
            "INFO:tensorflow:Assets written to: ram://200d31d5-4b81-40be-a3f0-b5a9dcd36a4d/assets\n",
            "INFO:tensorflow:Assets written to: ram://260ada47-2df1-4c0f-9235-1bd8ee17d27c/assets\n",
            "INFO:tensorflow:Assets written to: ram://5e374bfd-6a8c-44d7-a0c5-588fdf325d02/assets\n",
            "INFO:tensorflow:Assets written to: ram://c8f49cd1-7240-4f08-a69c-b4483946dec6/assets\n",
            "INFO:tensorflow:Assets written to: ram://8abd36a6-f2b5-4083-bda8-6329dae5b5fc/assets\n",
            "INFO:tensorflow:Assets written to: ram://3b7d99b1-7fc0-4762-a8d7-8d353aa9764e/assets\n",
            "INFO:tensorflow:Assets written to: ram://ca882682-dc4a-49e9-8b8e-8fabb91f62d3/assets\n",
            "INFO:tensorflow:Assets written to: ram://24ff1fcf-b381-4104-a8f5-407c83eb2510/assets\n",
            "INFO:tensorflow:Assets written to: ram://66f60cca-9771-4891-9bfa-e7e3636a9a98/assets\n",
            "INFO:tensorflow:Assets written to: ram://3aac29d2-7681-4120-82ee-73bbbefcaaad/assets\n",
            "INFO:tensorflow:Assets written to: ram://4996f6dd-a09b-4706-8df4-849142bcde18/assets\n",
            "INFO:tensorflow:Assets written to: ram://887e3c18-ecd0-444a-b87b-34be6d6d3893/assets\n",
            "INFO:tensorflow:Assets written to: ram://e1ce6dc6-b3e7-4397-bb92-e4875aa06545/assets\n",
            "INFO:tensorflow:Assets written to: ram://e034165a-b1e8-4051-8424-02dbc299917c/assets\n",
            "INFO:tensorflow:Assets written to: ram://0ccfdaa7-4d52-41cc-a7f1-bb09c40bf194/assets\n",
            "INFO:tensorflow:Assets written to: ram://292e9ec4-b15b-4e2d-ac59-3d9b668b5833/assets\n",
            "INFO:tensorflow:Assets written to: ram://c2c01ca7-ac49-4308-a181-dc5e1f1ff01e/assets\n",
            "INFO:tensorflow:Assets written to: ram://6b6c7b28-7239-4154-894c-ef6cd6c811f0/assets\n",
            "INFO:tensorflow:Assets written to: ram://7e0fd2c1-22ca-47a8-9ca9-5475fe9ef4eb/assets\n",
            "INFO:tensorflow:Assets written to: ram://97677c38-08b9-42ca-9ad5-aba00a8af02f/assets\n",
            "-----[ 0 ]-----{'_hidden_layers': 3, 'dense_count': 8, '_kernel_initializer': 'glorot_uniform', '_activation': 'sigmoid', '_optimizer': 'SGD', 'batch_normal': False, 'epochs': 5, 'label_class': 3, '_class_cnt': 30}\n",
            "5 2\n",
            "Epoch 1/5\n",
            "   6/1024 [..............................] - ETA: 10s - loss: 0.6921 - accuracy: 0.5263 "
          ]
        },
        {
          "name": "stderr",
          "output_type": "stream",
          "text": [
            "2022-05-30 10:50:48.410325: I tensorflow/core/grappler/optimizers/custom_graph_optimizer_registry.cc:112] Plugin optimizer for device_type GPU is enabled.\n"
          ]
        },
        {
          "name": "stdout",
          "output_type": "stream",
          "text": [
            "1013/1024 [============================>.] - ETA: 0s - loss: 0.6926 - accuracy: 0.5196"
          ]
        },
        {
          "name": "stderr",
          "output_type": "stream",
          "text": [
            "2022-05-30 10:50:53.205685: I tensorflow/core/grappler/optimizers/custom_graph_optimizer_registry.cc:112] Plugin optimizer for device_type GPU is enabled.\n"
          ]
        },
        {
          "name": "stdout",
          "output_type": "stream",
          "text": [
            "1024/1024 [==============================] - 5s 5ms/step - loss: 0.6926 - accuracy: 0.5192 - val_loss: 0.6928 - val_accuracy: 0.5153\n",
            "Epoch 2/5\n",
            "1024/1024 [==============================] - 5s 5ms/step - loss: 0.6923 - accuracy: 0.5203 - val_loss: 0.6925 - val_accuracy: 0.5153\n",
            "Epoch 3/5\n",
            "1024/1024 [==============================] - 5s 5ms/step - loss: 0.6922 - accuracy: 0.5202 - val_loss: 0.6925 - val_accuracy: 0.5153\n",
            "Epoch 4/5\n",
            "1024/1024 [==============================] - 5s 5ms/step - loss: 0.6919 - accuracy: 0.5228 - val_loss: 0.6923 - val_accuracy: 0.5153\n",
            "Epoch 5/5\n",
            " 848/1024 [=======================>......] - ETA: 0s - loss: 0.6921 - accuracy: 0.5199WARNING:tensorflow:Your input ran out of data; interrupting training. Make sure that your dataset or generator can generate at least `steps_per_epoch * epochs` batches (in this case, 5120 batches). You may need to use the repeat() function when building your dataset.\n",
            "1024/1024 [==============================] - 4s 4ms/step - loss: 0.6921 - accuracy: 0.5200 - val_loss: 0.6920 - val_accuracy: 0.5153\n",
            "-----[ 1 ]-----{'_hidden_layers': 3, 'dense_count': 8, '_kernel_initializer': 'glorot_uniform', '_activation': 'sigmoid', '_optimizer': 'SGD', 'batch_normal': False, 'epochs': 10, 'label_class': 3, '_class_cnt': 30}\n",
            "10 2\n",
            "Epoch 1/10\n",
            "   7/1024 [..............................] - ETA: 9s - loss: 0.6888 - accuracy: 0.5714  "
          ]
        },
        {
          "name": "stderr",
          "output_type": "stream",
          "text": [
            "2022-05-30 10:51:12.823945: I tensorflow/core/grappler/optimizers/custom_graph_optimizer_registry.cc:112] Plugin optimizer for device_type GPU is enabled.\n"
          ]
        },
        {
          "name": "stdout",
          "output_type": "stream",
          "text": [
            "1022/1024 [============================>.] - ETA: 0s - loss: 0.6925 - accuracy: 0.5208"
          ]
        },
        {
          "name": "stderr",
          "output_type": "stream",
          "text": [
            "2022-05-30 10:51:17.930149: I tensorflow/core/grappler/optimizers/custom_graph_optimizer_registry.cc:112] Plugin optimizer for device_type GPU is enabled.\n"
          ]
        },
        {
          "name": "stdout",
          "output_type": "stream",
          "text": [
            "1024/1024 [==============================] - 6s 5ms/step - loss: 0.6926 - accuracy: 0.5207 - val_loss: 0.6928 - val_accuracy: 0.5153\n",
            "Epoch 2/10\n",
            "1024/1024 [==============================] - 5s 5ms/step - loss: 0.6925 - accuracy: 0.5200 - val_loss: 0.6930 - val_accuracy: 0.5153\n",
            "Epoch 3/10\n",
            "1024/1024 [==============================] - 5s 5ms/step - loss: 0.6927 - accuracy: 0.5188 - val_loss: 0.6927 - val_accuracy: 0.5153\n",
            "Epoch 4/10\n",
            "1024/1024 [==============================] - 5s 5ms/step - loss: 0.6924 - accuracy: 0.5225 - val_loss: 0.6934 - val_accuracy: 0.5153\n",
            "Epoch 5/10\n",
            "1024/1024 [==============================] - 5s 5ms/step - loss: 0.6927 - accuracy: 0.5203 - val_loss: 0.6927 - val_accuracy: 0.5153\n",
            "Epoch 6/10\n",
            "1024/1024 [==============================] - 5s 5ms/step - loss: 0.6925 - accuracy: 0.5209 - val_loss: 0.6929 - val_accuracy: 0.5153\n",
            "Epoch 7/10\n",
            "1024/1024 [==============================] - 5s 5ms/step - loss: 0.6925 - accuracy: 0.5204 - val_loss: 0.6927 - val_accuracy: 0.5153\n",
            "Epoch 8/10\n",
            "1024/1024 [==============================] - 5s 5ms/step - loss: 0.6927 - accuracy: 0.5165 - val_loss: 0.6927 - val_accuracy: 0.5153\n",
            "Epoch 9/10\n",
            "1024/1024 [==============================] - 5s 5ms/step - loss: 0.6923 - accuracy: 0.5238 - val_loss: 0.6928 - val_accuracy: 0.5153\n",
            "Epoch 10/10\n",
            " 673/1024 [==================>...........] - ETA: 1s - loss: 0.6927 - accuracy: 0.5176WARNING:tensorflow:Your input ran out of data; interrupting training. Make sure that your dataset or generator can generate at least `steps_per_epoch * epochs` batches (in this case, 10240 batches). You may need to use the repeat() function when building your dataset.\n",
            "1024/1024 [==============================] - 3s 3ms/step - loss: 0.6927 - accuracy: 0.5176 - val_loss: 0.6928 - val_accuracy: 0.5153\n",
            "-----[ 2 ]-----{'_hidden_layers': 3, 'dense_count': 8, '_kernel_initializer': 'glorot_uniform', '_activation': 'sigmoid', '_optimizer': 'SGD', 'batch_normal': True, 'epochs': 5, 'label_class': 3, '_class_cnt': 30}\n",
            "5 2\n",
            "Epoch 1/5\n"
          ]
        },
        {
          "name": "stderr",
          "output_type": "stream",
          "text": [
            "2022-05-30 10:52:01.693204: I tensorflow/core/grappler/optimizers/custom_graph_optimizer_registry.cc:112] Plugin optimizer for device_type GPU is enabled.\n"
          ]
        },
        {
          "name": "stdout",
          "output_type": "stream",
          "text": [
            "1024/1024 [==============================] - ETA: 0s - loss: 0.2570 - accuracy: 0.8934"
          ]
        },
        {
          "name": "stderr",
          "output_type": "stream",
          "text": [
            "2022-05-30 10:52:11.589832: I tensorflow/core/grappler/optimizers/custom_graph_optimizer_registry.cc:112] Plugin optimizer for device_type GPU is enabled.\n"
          ]
        },
        {
          "name": "stdout",
          "output_type": "stream",
          "text": [
            "1024/1024 [==============================] - 11s 10ms/step - loss: 0.2570 - accuracy: 0.8934 - val_loss: 0.1522 - val_accuracy: 0.9418\n",
            "Epoch 2/5\n",
            "1024/1024 [==============================] - 10s 9ms/step - loss: 0.1730 - accuracy: 0.9313 - val_loss: 0.0943 - val_accuracy: 0.9699\n",
            "Epoch 3/5\n",
            "1024/1024 [==============================] - 10s 9ms/step - loss: 0.1560 - accuracy: 0.9383 - val_loss: 0.2549 - val_accuracy: 0.8905\n",
            "Epoch 4/5\n",
            "1024/1024 [==============================] - 10s 9ms/step - loss: 0.1366 - accuracy: 0.9479 - val_loss: 0.0763 - val_accuracy: 0.9742\n",
            "Epoch 5/5\n",
            " 845/1024 [=======================>......] - ETA: 1s - loss: 0.1283 - accuracy: 0.9489WARNING:tensorflow:Your input ran out of data; interrupting training. Make sure that your dataset or generator can generate at least `steps_per_epoch * epochs` batches (in this case, 5120 batches). You may need to use the repeat() function when building your dataset.\n",
            "1024/1024 [==============================] - 8s 8ms/step - loss: 0.1281 - accuracy: 0.9489 - val_loss: 0.1452 - val_accuracy: 0.9404\n",
            "-----[ 3 ]-----{'_hidden_layers': 3, 'dense_count': 8, '_kernel_initializer': 'glorot_uniform', '_activation': 'sigmoid', '_optimizer': 'SGD', 'batch_normal': True, 'epochs': 10, 'label_class': 3, '_class_cnt': 30}\n",
            "10 2\n",
            "Epoch 1/10\n"
          ]
        },
        {
          "name": "stderr",
          "output_type": "stream",
          "text": [
            "2022-05-30 10:52:49.675985: I tensorflow/core/grappler/optimizers/custom_graph_optimizer_registry.cc:112] Plugin optimizer for device_type GPU is enabled.\n"
          ]
        },
        {
          "name": "stdout",
          "output_type": "stream",
          "text": [
            "1024/1024 [==============================] - ETA: 0s - loss: 0.2653 - accuracy: 0.8864"
          ]
        },
        {
          "name": "stderr",
          "output_type": "stream",
          "text": [
            "2022-05-30 10:53:00.091077: I tensorflow/core/grappler/optimizers/custom_graph_optimizer_registry.cc:112] Plugin optimizer for device_type GPU is enabled.\n"
          ]
        },
        {
          "name": "stdout",
          "output_type": "stream",
          "text": [
            "1024/1024 [==============================] - 11s 10ms/step - loss: 0.2653 - accuracy: 0.8864 - val_loss: 0.1823 - val_accuracy: 0.9267\n",
            "Epoch 2/10\n",
            "1024/1024 [==============================] - 10s 9ms/step - loss: 0.1802 - accuracy: 0.9299 - val_loss: 0.2445 - val_accuracy: 0.8952\n",
            "Epoch 3/10\n",
            "1024/1024 [==============================] - 10s 10ms/step - loss: 0.1599 - accuracy: 0.9371 - val_loss: 0.1010 - val_accuracy: 0.9630\n",
            "Epoch 4/10\n",
            "1024/1024 [==============================] - 10s 9ms/step - loss: 0.1458 - accuracy: 0.9432 - val_loss: 0.1378 - val_accuracy: 0.9479\n",
            "Epoch 5/10\n",
            "1024/1024 [==============================] - 10s 9ms/step - loss: 0.1337 - accuracy: 0.9478 - val_loss: 0.1208 - val_accuracy: 0.9503\n",
            "Epoch 6/10\n",
            "1024/1024 [==============================] - 10s 9ms/step - loss: 0.1276 - accuracy: 0.9508 - val_loss: 0.0817 - val_accuracy: 0.9737\n",
            "Epoch 7/10\n",
            "1024/1024 [==============================] - 10s 9ms/step - loss: 0.1172 - accuracy: 0.9538 - val_loss: 0.1080 - val_accuracy: 0.9548\n",
            "Epoch 8/10\n",
            "1024/1024 [==============================] - 10s 9ms/step - loss: 0.1132 - accuracy: 0.9564 - val_loss: 0.3080 - val_accuracy: 0.8755\n",
            "Epoch 9/10\n",
            "1024/1024 [==============================] - 10s 9ms/step - loss: 0.1114 - accuracy: 0.9581 - val_loss: 0.0543 - val_accuracy: 0.9839\n",
            "Epoch 10/10\n",
            " 673/1024 [==================>...........] - ETA: 3s - loss: 0.1003 - accuracy: 0.9625WARNING:tensorflow:Your input ran out of data; interrupting training. Make sure that your dataset or generator can generate at least `steps_per_epoch * epochs` batches (in this case, 10240 batches). You may need to use the repeat() function when building your dataset.\n",
            "1024/1024 [==============================] - 6s 6ms/step - loss: 0.1005 - accuracy: 0.9623 - val_loss: 0.3308 - val_accuracy: 0.8828\n",
            "-----[ 4 ]-----{'_hidden_layers': 3, 'dense_count': 8, '_kernel_initializer': 'glorot_uniform', '_activation': 'sigmoid', '_optimizer': 'Adam', 'batch_normal': False, 'epochs': 5, 'label_class': 3, '_class_cnt': 30}\n",
            "5 2\n",
            "Epoch 1/5\n",
            "   1/1024 [..............................] - ETA: 4:02 - loss: 0.6736 - accuracy: 0.6316"
          ]
        },
        {
          "name": "stderr",
          "output_type": "stream",
          "text": [
            "2022-05-30 10:54:25.230530: I tensorflow/core/grappler/optimizers/custom_graph_optimizer_registry.cc:112] Plugin optimizer for device_type GPU is enabled.\n"
          ]
        },
        {
          "name": "stdout",
          "output_type": "stream",
          "text": [
            "1022/1024 [============================>.] - ETA: 0s - loss: 0.5210 - accuracy: 0.7611"
          ]
        },
        {
          "name": "stderr",
          "output_type": "stream",
          "text": [
            "2022-05-30 10:54:30.690718: I tensorflow/core/grappler/optimizers/custom_graph_optimizer_registry.cc:112] Plugin optimizer for device_type GPU is enabled.\n"
          ]
        },
        {
          "name": "stdout",
          "output_type": "stream",
          "text": [
            "1024/1024 [==============================] - 6s 6ms/step - loss: 0.5209 - accuracy: 0.7611 - val_loss: 0.2774 - val_accuracy: 0.8980\n",
            "Epoch 2/5\n",
            "1024/1024 [==============================] - 5s 5ms/step - loss: 0.1968 - accuracy: 0.9269 - val_loss: 0.1670 - val_accuracy: 0.9377\n",
            "Epoch 3/5\n",
            "1024/1024 [==============================] - 6s 5ms/step - loss: 0.1235 - accuracy: 0.9536 - val_loss: 0.0995 - val_accuracy: 0.9650\n",
            "Epoch 4/5\n",
            "1024/1024 [==============================] - 6s 5ms/step - loss: 0.0947 - accuracy: 0.9663 - val_loss: 0.0792 - val_accuracy: 0.9727\n",
            "Epoch 5/5\n",
            " 844/1024 [=======================>......] - ETA: 0s - loss: 0.0778 - accuracy: 0.9721WARNING:tensorflow:Your input ran out of data; interrupting training. Make sure that your dataset or generator can generate at least `steps_per_epoch * epochs` batches (in this case, 5120 batches). You may need to use the repeat() function when building your dataset.\n",
            "1024/1024 [==============================] - 5s 5ms/step - loss: 0.0775 - accuracy: 0.9722 - val_loss: 0.0922 - val_accuracy: 0.9664\n",
            "-----[ 5 ]-----{'_hidden_layers': 3, 'dense_count': 8, '_kernel_initializer': 'glorot_uniform', '_activation': 'sigmoid', '_optimizer': 'Adam', 'batch_normal': False, 'epochs': 10, 'label_class': 3, '_class_cnt': 30}\n",
            "10 2\n",
            "Epoch 1/10\n",
            "   1/1024 [..............................] - ETA: 3:59 - loss: 0.7172 - accuracy: 0.5263"
          ]
        },
        {
          "name": "stderr",
          "output_type": "stream",
          "text": [
            "2022-05-30 10:54:52.617785: I tensorflow/core/grappler/optimizers/custom_graph_optimizer_registry.cc:112] Plugin optimizer for device_type GPU is enabled.\n"
          ]
        },
        {
          "name": "stdout",
          "output_type": "stream",
          "text": [
            "1019/1024 [============================>.] - ETA: 0s - loss: 0.5255 - accuracy: 0.7505"
          ]
        },
        {
          "name": "stderr",
          "output_type": "stream",
          "text": [
            "2022-05-30 10:54:58.398061: I tensorflow/core/grappler/optimizers/custom_graph_optimizer_registry.cc:112] Plugin optimizer for device_type GPU is enabled.\n"
          ]
        },
        {
          "name": "stdout",
          "output_type": "stream",
          "text": [
            "1024/1024 [==============================] - 6s 6ms/step - loss: 0.5246 - accuracy: 0.7510 - val_loss: 0.2571 - val_accuracy: 0.9054\n",
            "Epoch 2/10\n",
            "1024/1024 [==============================] - 6s 5ms/step - loss: 0.1879 - accuracy: 0.9307 - val_loss: 0.1861 - val_accuracy: 0.9247\n",
            "Epoch 3/10\n",
            "1024/1024 [==============================] - 6s 5ms/step - loss: 0.1257 - accuracy: 0.9557 - val_loss: 0.0973 - val_accuracy: 0.9674\n",
            "Epoch 4/10\n",
            "1024/1024 [==============================] - 6s 6ms/step - loss: 0.0993 - accuracy: 0.9643 - val_loss: 0.1060 - val_accuracy: 0.9607\n",
            "Epoch 5/10\n",
            "1024/1024 [==============================] - 6s 5ms/step - loss: 0.0796 - accuracy: 0.9715 - val_loss: 0.0647 - val_accuracy: 0.9782\n",
            "Epoch 6/10\n",
            "1024/1024 [==============================] - 6s 5ms/step - loss: 0.0732 - accuracy: 0.9738 - val_loss: 0.0762 - val_accuracy: 0.9733\n",
            "Epoch 7/10\n",
            "1024/1024 [==============================] - 6s 5ms/step - loss: 0.0671 - accuracy: 0.9755 - val_loss: 0.0960 - val_accuracy: 0.9662\n",
            "Epoch 8/10\n",
            "1024/1024 [==============================] - 6s 5ms/step - loss: 0.0533 - accuracy: 0.9809 - val_loss: 0.0586 - val_accuracy: 0.9792\n",
            "Epoch 9/10\n",
            "1024/1024 [==============================] - 6s 5ms/step - loss: 0.0566 - accuracy: 0.9782 - val_loss: 0.0457 - val_accuracy: 0.9853\n",
            "Epoch 10/10\n",
            " 667/1024 [==================>...........] - ETA: 1s - loss: 0.0445 - accuracy: 0.9845WARNING:tensorflow:Your input ran out of data; interrupting training. Make sure that your dataset or generator can generate at least `steps_per_epoch * epochs` batches (in this case, 10240 batches). You may need to use the repeat() function when building your dataset.\n",
            "1024/1024 [==============================] - 4s 4ms/step - loss: 0.0442 - accuracy: 0.9846 - val_loss: 0.0426 - val_accuracy: 0.9847\n",
            "-----[ 6 ]-----{'_hidden_layers': 3, 'dense_count': 8, '_kernel_initializer': 'glorot_uniform', '_activation': 'sigmoid', '_optimizer': 'Adam', 'batch_normal': True, 'epochs': 5, 'label_class': 3, '_class_cnt': 30}\n",
            "5 2\n",
            "Epoch 1/5\n"
          ]
        },
        {
          "name": "stderr",
          "output_type": "stream",
          "text": [
            "2022-05-30 10:55:47.522246: I tensorflow/core/grappler/optimizers/custom_graph_optimizer_registry.cc:112] Plugin optimizer for device_type GPU is enabled.\n"
          ]
        },
        {
          "name": "stdout",
          "output_type": "stream",
          "text": [
            "1024/1024 [==============================] - ETA: 0s - loss: 0.2500 - accuracy: 0.8954"
          ]
        },
        {
          "name": "stderr",
          "output_type": "stream",
          "text": [
            "2022-05-30 10:55:58.583694: I tensorflow/core/grappler/optimizers/custom_graph_optimizer_registry.cc:112] Plugin optimizer for device_type GPU is enabled.\n"
          ]
        },
        {
          "name": "stdout",
          "output_type": "stream",
          "text": [
            "1024/1024 [==============================] - 12s 11ms/step - loss: 0.2500 - accuracy: 0.8954 - val_loss: 0.3188 - val_accuracy: 0.8602\n",
            "Epoch 2/5\n",
            "1024/1024 [==============================] - 10s 10ms/step - loss: 0.1498 - accuracy: 0.9413 - val_loss: 0.0749 - val_accuracy: 0.9752\n",
            "Epoch 3/5\n",
            "1024/1024 [==============================] - 11s 10ms/step - loss: 0.1238 - accuracy: 0.9513 - val_loss: 0.0891 - val_accuracy: 0.9632\n",
            "Epoch 4/5\n",
            "1024/1024 [==============================] - 10s 10ms/step - loss: 0.1107 - accuracy: 0.9568 - val_loss: 0.0518 - val_accuracy: 0.9870\n",
            "Epoch 5/5\n",
            " 846/1024 [=======================>......] - ETA: 1s - loss: 0.0942 - accuracy: 0.9641WARNING:tensorflow:Your input ran out of data; interrupting training. Make sure that your dataset or generator can generate at least `steps_per_epoch * epochs` batches (in this case, 5120 batches). You may need to use the repeat() function when building your dataset.\n",
            "1024/1024 [==============================] - 9s 9ms/step - loss: 0.0940 - accuracy: 0.9642 - val_loss: 0.2426 - val_accuracy: 0.8970\n",
            "-----[ 7 ]-----{'_hidden_layers': 3, 'dense_count': 8, '_kernel_initializer': 'glorot_uniform', '_activation': 'sigmoid', '_optimizer': 'Adam', 'batch_normal': True, 'epochs': 10, 'label_class': 3, '_class_cnt': 30}\n",
            "10 2\n",
            "Epoch 1/10\n"
          ]
        },
        {
          "name": "stderr",
          "output_type": "stream",
          "text": [
            "2022-05-30 10:56:40.161961: I tensorflow/core/grappler/optimizers/custom_graph_optimizer_registry.cc:112] Plugin optimizer for device_type GPU is enabled.\n"
          ]
        },
        {
          "name": "stdout",
          "output_type": "stream",
          "text": [
            "1024/1024 [==============================] - ETA: 0s - loss: 0.2428 - accuracy: 0.8973"
          ]
        },
        {
          "name": "stderr",
          "output_type": "stream",
          "text": [
            "2022-05-30 10:56:51.250408: I tensorflow/core/grappler/optimizers/custom_graph_optimizer_registry.cc:112] Plugin optimizer for device_type GPU is enabled.\n"
          ]
        },
        {
          "name": "stdout",
          "output_type": "stream",
          "text": [
            "1024/1024 [==============================] - 12s 11ms/step - loss: 0.2428 - accuracy: 0.8973 - val_loss: 0.2537 - val_accuracy: 0.8926\n",
            "Epoch 2/10\n",
            "1024/1024 [==============================] - 11s 10ms/step - loss: 0.1517 - accuracy: 0.9403 - val_loss: 0.2468 - val_accuracy: 0.8972\n",
            "Epoch 3/10\n",
            "1024/1024 [==============================] - 11s 10ms/step - loss: 0.1293 - accuracy: 0.9507 - val_loss: 0.1180 - val_accuracy: 0.9538\n",
            "Epoch 4/10\n",
            "1024/1024 [==============================] - 11s 10ms/step - loss: 0.1149 - accuracy: 0.9559 - val_loss: 0.1347 - val_accuracy: 0.9416\n",
            "Epoch 5/10\n",
            "1024/1024 [==============================] - 11s 11ms/step - loss: 0.0931 - accuracy: 0.9636 - val_loss: 0.2370 - val_accuracy: 0.9035\n",
            "Epoch 6/10\n",
            "1024/1024 [==============================] - 11s 10ms/step - loss: 0.0943 - accuracy: 0.9640 - val_loss: 0.2088 - val_accuracy: 0.9219\n",
            "Epoch 7/10\n",
            "1024/1024 [==============================] - 11s 10ms/step - loss: 0.0876 - accuracy: 0.9668 - val_loss: 0.0572 - val_accuracy: 0.9809\n",
            "Epoch 8/10\n",
            "1024/1024 [==============================] - 11s 10ms/step - loss: 0.0863 - accuracy: 0.9685 - val_loss: 0.0601 - val_accuracy: 0.9792\n",
            "Epoch 9/10\n",
            "1024/1024 [==============================] - 11s 10ms/step - loss: 0.0752 - accuracy: 0.9717 - val_loss: 0.1155 - val_accuracy: 0.9538\n",
            "Epoch 10/10\n",
            " 672/1024 [==================>...........] - ETA: 3s - loss: 0.0765 - accuracy: 0.9724WARNING:tensorflow:Your input ran out of data; interrupting training. Make sure that your dataset or generator can generate at least `steps_per_epoch * epochs` batches (in this case, 10240 batches). You may need to use the repeat() function when building your dataset.\n",
            "1024/1024 [==============================] - 7s 7ms/step - loss: 0.0766 - accuracy: 0.9723 - val_loss: 0.1859 - val_accuracy: 0.9394\n",
            "-----[ 8 ]-----{'_hidden_layers': 3, 'dense_count': 8, '_kernel_initializer': 'glorot_uniform', '_activation': 'relu', '_optimizer': 'SGD', 'batch_normal': False, 'epochs': 5, 'label_class': 3, '_class_cnt': 30}\n",
            "5 2\n",
            "Epoch 1/5\n",
            "   7/1024 [..............................] - ETA: 9s - loss: 0.6814 - accuracy: 0.5263  "
          ]
        },
        {
          "name": "stderr",
          "output_type": "stream",
          "text": [
            "2022-05-30 10:58:24.645330: I tensorflow/core/grappler/optimizers/custom_graph_optimizer_registry.cc:112] Plugin optimizer for device_type GPU is enabled.\n"
          ]
        },
        {
          "name": "stdout",
          "output_type": "stream",
          "text": [
            "1013/1024 [============================>.] - ETA: 0s - loss: 0.4600 - accuracy: 0.7947"
          ]
        },
        {
          "name": "stderr",
          "output_type": "stream",
          "text": [
            "2022-05-30 10:58:29.403295: I tensorflow/core/grappler/optimizers/custom_graph_optimizer_registry.cc:112] Plugin optimizer for device_type GPU is enabled.\n"
          ]
        },
        {
          "name": "stdout",
          "output_type": "stream",
          "text": [
            "1024/1024 [==============================] - 5s 5ms/step - loss: 0.4583 - accuracy: 0.7956 - val_loss: 0.2571 - val_accuracy: 0.9009\n",
            "Epoch 2/5\n",
            "1024/1024 [==============================] - 5s 5ms/step - loss: 0.2670 - accuracy: 0.8920 - val_loss: 0.2116 - val_accuracy: 0.9096\n",
            "Epoch 3/5\n",
            "1024/1024 [==============================] - 5s 5ms/step - loss: 0.2005 - accuracy: 0.9220 - val_loss: 0.1884 - val_accuracy: 0.9253\n",
            "Epoch 4/5\n",
            "1024/1024 [==============================] - 5s 5ms/step - loss: 0.1655 - accuracy: 0.9381 - val_loss: 0.1035 - val_accuracy: 0.9662\n",
            "Epoch 5/5\n",
            " 838/1024 [=======================>......] - ETA: 0s - loss: 0.1415 - accuracy: 0.9469WARNING:tensorflow:Your input ran out of data; interrupting training. Make sure that your dataset or generator can generate at least `steps_per_epoch * epochs` batches (in this case, 5120 batches). You may need to use the repeat() function when building your dataset.\n",
            "1024/1024 [==============================] - 4s 4ms/step - loss: 0.1407 - accuracy: 0.9473 - val_loss: 0.2127 - val_accuracy: 0.9096\n",
            "-----[ 9 ]-----{'_hidden_layers': 3, 'dense_count': 8, '_kernel_initializer': 'glorot_uniform', '_activation': 'relu', '_optimizer': 'SGD', 'batch_normal': False, 'epochs': 10, 'label_class': 3, '_class_cnt': 30}\n",
            "10 2\n",
            "Epoch 1/10\n",
            "   6/1024 [..............................] - ETA: 10s - loss: 0.6940 - accuracy: 0.4035 "
          ]
        },
        {
          "name": "stderr",
          "output_type": "stream",
          "text": [
            "2022-05-30 10:58:49.051117: I tensorflow/core/grappler/optimizers/custom_graph_optimizer_registry.cc:112] Plugin optimizer for device_type GPU is enabled.\n"
          ]
        },
        {
          "name": "stdout",
          "output_type": "stream",
          "text": [
            "1013/1024 [============================>.] - ETA: 0s - loss: 0.5987 - accuracy: 0.7070"
          ]
        },
        {
          "name": "stderr",
          "output_type": "stream",
          "text": [
            "2022-05-30 10:58:53.964536: I tensorflow/core/grappler/optimizers/custom_graph_optimizer_registry.cc:112] Plugin optimizer for device_type GPU is enabled.\n"
          ]
        },
        {
          "name": "stdout",
          "output_type": "stream",
          "text": [
            "1024/1024 [==============================] - 6s 5ms/step - loss: 0.5966 - accuracy: 0.7080 - val_loss: 0.3781 - val_accuracy: 0.8539\n",
            "Epoch 2/10\n",
            "1024/1024 [==============================] - 5s 5ms/step - loss: 0.3400 - accuracy: 0.8595 - val_loss: 0.2802 - val_accuracy: 0.8852\n",
            "Epoch 3/10\n",
            "1024/1024 [==============================] - 5s 5ms/step - loss: 0.2499 - accuracy: 0.9021 - val_loss: 0.1696 - val_accuracy: 0.9375\n",
            "Epoch 4/10\n",
            "1024/1024 [==============================] - 5s 5ms/step - loss: 0.2100 - accuracy: 0.9189 - val_loss: 0.1809 - val_accuracy: 0.9261\n",
            "Epoch 5/10\n",
            "1024/1024 [==============================] - 5s 5ms/step - loss: 0.1858 - accuracy: 0.9284 - val_loss: 0.2396 - val_accuracy: 0.9041\n",
            "Epoch 6/10\n",
            "1024/1024 [==============================] - 5s 5ms/step - loss: 0.1588 - accuracy: 0.9415 - val_loss: 0.1149 - val_accuracy: 0.9597\n",
            "Epoch 7/10\n",
            "1024/1024 [==============================] - 5s 5ms/step - loss: 0.1306 - accuracy: 0.9513 - val_loss: 0.1131 - val_accuracy: 0.9605\n",
            "Epoch 8/10\n",
            "1024/1024 [==============================] - 5s 5ms/step - loss: 0.1195 - accuracy: 0.9559 - val_loss: 0.0930 - val_accuracy: 0.9685\n",
            "Epoch 9/10\n",
            "1024/1024 [==============================] - 5s 5ms/step - loss: 0.0993 - accuracy: 0.9612 - val_loss: 0.1107 - val_accuracy: 0.9581\n",
            "Epoch 10/10\n",
            " 670/1024 [==================>...........] - ETA: 1s - loss: 0.0938 - accuracy: 0.9645WARNING:tensorflow:Your input ran out of data; interrupting training. Make sure that your dataset or generator can generate at least `steps_per_epoch * epochs` batches (in this case, 10240 batches). You may need to use the repeat() function when building your dataset.\n",
            "1024/1024 [==============================] - 3s 3ms/step - loss: 0.0936 - accuracy: 0.9646 - val_loss: 0.2971 - val_accuracy: 0.8881\n",
            "-----[ 10 ]-----{'_hidden_layers': 3, 'dense_count': 8, '_kernel_initializer': 'glorot_uniform', '_activation': 'relu', '_optimizer': 'SGD', 'batch_normal': True, 'epochs': 5, 'label_class': 3, '_class_cnt': 30}\n",
            "5 2\n",
            "Epoch 1/5\n"
          ]
        },
        {
          "name": "stderr",
          "output_type": "stream",
          "text": [
            "2022-05-30 10:59:38.195747: I tensorflow/core/grappler/optimizers/custom_graph_optimizer_registry.cc:112] Plugin optimizer for device_type GPU is enabled.\n"
          ]
        },
        {
          "name": "stdout",
          "output_type": "stream",
          "text": [
            "1019/1024 [============================>.] - ETA: 0s - loss: 0.3761 - accuracy: 0.8302"
          ]
        },
        {
          "name": "stderr",
          "output_type": "stream",
          "text": [
            "2022-05-30 10:59:48.536580: I tensorflow/core/grappler/optimizers/custom_graph_optimizer_registry.cc:112] Plugin optimizer for device_type GPU is enabled.\n"
          ]
        },
        {
          "name": "stdout",
          "output_type": "stream",
          "text": [
            "1024/1024 [==============================] - 11s 10ms/step - loss: 0.3752 - accuracy: 0.8307 - val_loss: 0.1852 - val_accuracy: 0.9363\n",
            "Epoch 2/5\n",
            "1024/1024 [==============================] - 10s 9ms/step - loss: 0.2273 - accuracy: 0.9095 - val_loss: 0.2451 - val_accuracy: 0.8934\n",
            "Epoch 3/5\n",
            "1024/1024 [==============================] - 10s 9ms/step - loss: 0.2508 - accuracy: 0.8986 - val_loss: 1.7620 - val_accuracy: 0.4900\n",
            "Epoch 4/5\n",
            "1024/1024 [==============================] - 10s 9ms/step - loss: 0.4235 - accuracy: 0.7802 - val_loss: 1.1749 - val_accuracy: 0.4847\n",
            "Epoch 5/5\n",
            " 846/1024 [=======================>......] - ETA: 1s - loss: 0.4398 - accuracy: 0.7917WARNING:tensorflow:Your input ran out of data; interrupting training. Make sure that your dataset or generator can generate at least `steps_per_epoch * epochs` batches (in this case, 5120 batches). You may need to use the repeat() function when building your dataset.\n",
            "1024/1024 [==============================] - 8s 8ms/step - loss: 0.4395 - accuracy: 0.7918 - val_loss: 0.3184 - val_accuracy: 0.8692\n",
            "-----[ 11 ]-----{'_hidden_layers': 3, 'dense_count': 8, '_kernel_initializer': 'glorot_uniform', '_activation': 'relu', '_optimizer': 'SGD', 'batch_normal': True, 'epochs': 10, 'label_class': 3, '_class_cnt': 30}\n",
            "10 2\n",
            "Epoch 1/10\n"
          ]
        },
        {
          "name": "stderr",
          "output_type": "stream",
          "text": [
            "2022-05-30 11:00:26.375055: I tensorflow/core/grappler/optimizers/custom_graph_optimizer_registry.cc:112] Plugin optimizer for device_type GPU is enabled.\n"
          ]
        },
        {
          "name": "stdout",
          "output_type": "stream",
          "text": [
            "1019/1024 [============================>.] - ETA: 0s - loss: 0.3476 - accuracy: 0.8472"
          ]
        },
        {
          "name": "stderr",
          "output_type": "stream",
          "text": [
            "2022-05-30 11:00:36.460512: I tensorflow/core/grappler/optimizers/custom_graph_optimizer_registry.cc:112] Plugin optimizer for device_type GPU is enabled.\n"
          ]
        },
        {
          "name": "stdout",
          "output_type": "stream",
          "text": [
            "1024/1024 [==============================] - 11s 10ms/step - loss: 0.3473 - accuracy: 0.8474 - val_loss: 0.5917 - val_accuracy: 0.7552\n",
            "Epoch 2/10\n",
            "1024/1024 [==============================] - 10s 10ms/step - loss: 0.2047 - accuracy: 0.9187 - val_loss: 0.3831 - val_accuracy: 0.8305\n",
            "Epoch 3/10\n",
            "1024/1024 [==============================] - 10s 10ms/step - loss: 0.2494 - accuracy: 0.8930 - val_loss: 0.7440 - val_accuracy: 0.4931\n",
            "Epoch 4/10\n",
            "1024/1024 [==============================] - 10s 10ms/step - loss: 0.6859 - accuracy: 0.5318 - val_loss: 1.0532 - val_accuracy: 0.4847\n",
            "Epoch 5/10\n",
            "1024/1024 [==============================] - 10s 10ms/step - loss: 0.6930 - accuracy: 0.5182 - val_loss: 3.9025 - val_accuracy: 0.4847\n",
            "Epoch 6/10\n",
            "1024/1024 [==============================] - 10s 9ms/step - loss: 0.6924 - accuracy: 0.5227 - val_loss: 6.3146 - val_accuracy: 0.4847\n",
            "Epoch 7/10\n",
            "1024/1024 [==============================] - 10s 10ms/step - loss: 0.6924 - accuracy: 0.5205 - val_loss: 0.9666 - val_accuracy: 0.4847\n",
            "Epoch 8/10\n",
            "1024/1024 [==============================] - 10s 9ms/step - loss: 0.6924 - accuracy: 0.5192 - val_loss: 2.8384 - val_accuracy: 0.4847\n",
            "Epoch 9/10\n",
            "1024/1024 [==============================] - 10s 10ms/step - loss: 0.6926 - accuracy: 0.5200 - val_loss: 3.7426 - val_accuracy: 0.5155\n",
            "Epoch 10/10\n",
            " 672/1024 [==================>...........] - ETA: 3s - loss: 0.6926 - accuracy: 0.5203WARNING:tensorflow:Your input ran out of data; interrupting training. Make sure that your dataset or generator can generate at least `steps_per_epoch * epochs` batches (in this case, 10240 batches). You may need to use the repeat() function when building your dataset.\n",
            "1024/1024 [==============================] - 7s 6ms/step - loss: 0.6926 - accuracy: 0.5202 - val_loss: 0.9870 - val_accuracy: 0.5155\n",
            "-----[ 12 ]-----{'_hidden_layers': 3, 'dense_count': 8, '_kernel_initializer': 'glorot_uniform', '_activation': 'relu', '_optimizer': 'Adam', 'batch_normal': False, 'epochs': 5, 'label_class': 3, '_class_cnt': 30}\n",
            "5 2\n",
            "Epoch 1/5\n",
            "   1/1024 [..............................] - ETA: 4:03 - loss: 3.2342 - accuracy: 0.2632"
          ]
        },
        {
          "name": "stderr",
          "output_type": "stream",
          "text": [
            "2022-05-30 11:02:01.844028: I tensorflow/core/grappler/optimizers/custom_graph_optimizer_registry.cc:112] Plugin optimizer for device_type GPU is enabled.\n"
          ]
        },
        {
          "name": "stdout",
          "output_type": "stream",
          "text": [
            "1021/1024 [============================>.] - ETA: 0s - loss: 0.3487 - accuracy: 0.8527"
          ]
        },
        {
          "name": "stderr",
          "output_type": "stream",
          "text": [
            "2022-05-30 11:02:07.270621: I tensorflow/core/grappler/optimizers/custom_graph_optimizer_registry.cc:112] Plugin optimizer for device_type GPU is enabled.\n"
          ]
        },
        {
          "name": "stdout",
          "output_type": "stream",
          "text": [
            "1024/1024 [==============================] - 6s 6ms/step - loss: 0.3484 - accuracy: 0.8527 - val_loss: 0.2217 - val_accuracy: 0.9086\n",
            "Epoch 2/5\n",
            "1024/1024 [==============================] - 6s 5ms/step - loss: 0.1829 - accuracy: 0.9281 - val_loss: 0.1939 - val_accuracy: 0.9194\n",
            "Epoch 3/5\n",
            "1024/1024 [==============================] - 6s 5ms/step - loss: 0.1547 - accuracy: 0.9407 - val_loss: 0.1468 - val_accuracy: 0.9442\n",
            "Epoch 4/5\n",
            "1024/1024 [==============================] - 6s 5ms/step - loss: 0.1452 - accuracy: 0.9436 - val_loss: 0.1258 - val_accuracy: 0.9508\n",
            "Epoch 5/5\n",
            " 844/1024 [=======================>......] - ETA: 0s - loss: 0.1344 - accuracy: 0.9519WARNING:tensorflow:Your input ran out of data; interrupting training. Make sure that your dataset or generator can generate at least `steps_per_epoch * epochs` batches (in this case, 5120 batches). You may need to use the repeat() function when building your dataset.\n",
            "1024/1024 [==============================] - 5s 5ms/step - loss: 0.1343 - accuracy: 0.9520 - val_loss: 0.1711 - val_accuracy: 0.9294\n",
            "-----[ 13 ]-----{'_hidden_layers': 3, 'dense_count': 8, '_kernel_initializer': 'glorot_uniform', '_activation': 'relu', '_optimizer': 'Adam', 'batch_normal': False, 'epochs': 10, 'label_class': 3, '_class_cnt': 30}\n",
            "10 2\n",
            "Epoch 1/10\n",
            "   1/1024 [..............................] - ETA: 4:03 - loss: 0.6944 - accuracy: 0.5263"
          ]
        },
        {
          "name": "stderr",
          "output_type": "stream",
          "text": [
            "2022-05-30 11:02:29.331233: I tensorflow/core/grappler/optimizers/custom_graph_optimizer_registry.cc:112] Plugin optimizer for device_type GPU is enabled.\n"
          ]
        },
        {
          "name": "stdout",
          "output_type": "stream",
          "text": [
            "1020/1024 [============================>.] - ETA: 0s - loss: 0.4144 - accuracy: 0.7910"
          ]
        },
        {
          "name": "stderr",
          "output_type": "stream",
          "text": [
            "2022-05-30 11:02:34.992347: I tensorflow/core/grappler/optimizers/custom_graph_optimizer_registry.cc:112] Plugin optimizer for device_type GPU is enabled.\n"
          ]
        },
        {
          "name": "stdout",
          "output_type": "stream",
          "text": [
            "1024/1024 [==============================] - 6s 6ms/step - loss: 0.4137 - accuracy: 0.7916 - val_loss: 0.2753 - val_accuracy: 0.8828\n",
            "Epoch 2/10\n",
            "1024/1024 [==============================] - 5s 5ms/step - loss: 0.1903 - accuracy: 0.9256 - val_loss: 0.1748 - val_accuracy: 0.9318\n",
            "Epoch 3/10\n",
            "1024/1024 [==============================] - 6s 5ms/step - loss: 0.1568 - accuracy: 0.9393 - val_loss: 0.1383 - val_accuracy: 0.9457\n",
            "Epoch 4/10\n",
            "1024/1024 [==============================] - 5s 5ms/step - loss: 0.1446 - accuracy: 0.9429 - val_loss: 0.1259 - val_accuracy: 0.9512\n",
            "Epoch 5/10\n",
            "1024/1024 [==============================] - 6s 5ms/step - loss: 0.1367 - accuracy: 0.9493 - val_loss: 0.1194 - val_accuracy: 0.9558\n",
            "Epoch 6/10\n",
            "1024/1024 [==============================] - 6s 5ms/step - loss: 0.1269 - accuracy: 0.9532 - val_loss: 0.1197 - val_accuracy: 0.9558\n",
            "Epoch 7/10\n",
            "1024/1024 [==============================] - 5s 5ms/step - loss: 0.1209 - accuracy: 0.9556 - val_loss: 0.1273 - val_accuracy: 0.9510\n",
            "Epoch 8/10\n",
            "1024/1024 [==============================] - 5s 5ms/step - loss: 0.1143 - accuracy: 0.9565 - val_loss: 0.1174 - val_accuracy: 0.9579\n",
            "Epoch 9/10\n",
            "1024/1024 [==============================] - 5s 5ms/step - loss: 0.1174 - accuracy: 0.9553 - val_loss: 0.1483 - val_accuracy: 0.9434\n",
            "Epoch 10/10\n",
            " 673/1024 [==================>...........] - ETA: 1s - loss: 0.1158 - accuracy: 0.9571WARNING:tensorflow:Your input ran out of data; interrupting training. Make sure that your dataset or generator can generate at least `steps_per_epoch * epochs` batches (in this case, 10240 batches). You may need to use the repeat() function when building your dataset.\n",
            "1024/1024 [==============================] - 4s 4ms/step - loss: 0.1158 - accuracy: 0.9571 - val_loss: 0.1168 - val_accuracy: 0.9556\n",
            "-----[ 14 ]-----{'_hidden_layers': 3, 'dense_count': 8, '_kernel_initializer': 'glorot_uniform', '_activation': 'relu', '_optimizer': 'Adam', 'batch_normal': True, 'epochs': 5, 'label_class': 3, '_class_cnt': 30}\n",
            "5 2\n",
            "Epoch 1/5\n"
          ]
        },
        {
          "name": "stderr",
          "output_type": "stream",
          "text": [
            "2022-05-30 11:03:23.604458: I tensorflow/core/grappler/optimizers/custom_graph_optimizer_registry.cc:112] Plugin optimizer for device_type GPU is enabled.\n"
          ]
        },
        {
          "name": "stdout",
          "output_type": "stream",
          "text": [
            "1024/1024 [==============================] - ETA: 0s - loss: 0.3672 - accuracy: 0.8394"
          ]
        },
        {
          "name": "stderr",
          "output_type": "stream",
          "text": [
            "2022-05-30 11:03:34.986552: I tensorflow/core/grappler/optimizers/custom_graph_optimizer_registry.cc:112] Plugin optimizer for device_type GPU is enabled.\n"
          ]
        },
        {
          "name": "stdout",
          "output_type": "stream",
          "text": [
            "1024/1024 [==============================] - 12s 11ms/step - loss: 0.3672 - accuracy: 0.8394 - val_loss: 0.3303 - val_accuracy: 0.8677\n",
            "Epoch 2/5\n",
            "1024/1024 [==============================] - 10s 10ms/step - loss: 0.1972 - accuracy: 0.9261 - val_loss: 0.2921 - val_accuracy: 0.8757\n",
            "Epoch 3/5\n",
            "1024/1024 [==============================] - 10s 10ms/step - loss: 0.6856 - accuracy: 0.5256 - val_loss: 17.2553 - val_accuracy: 0.4847\n",
            "Epoch 4/5\n",
            "1024/1024 [==============================] - 10s 10ms/step - loss: 0.6923 - accuracy: 0.5224 - val_loss: 21.5294 - val_accuracy: 0.5153\n",
            "Epoch 5/5\n",
            " 847/1024 [=======================>......] - ETA: 1s - loss: 0.6925 - accuracy: 0.5204WARNING:tensorflow:Your input ran out of data; interrupting training. Make sure that your dataset or generator can generate at least `steps_per_epoch * epochs` batches (in this case, 5120 batches). You may need to use the repeat() function when building your dataset.\n",
            "1024/1024 [==============================] - 9s 9ms/step - loss: 0.6926 - accuracy: 0.5201 - val_loss: 35.6969 - val_accuracy: 0.5153\n",
            "-----[ 15 ]-----{'_hidden_layers': 3, 'dense_count': 8, '_kernel_initializer': 'glorot_uniform', '_activation': 'relu', '_optimizer': 'Adam', 'batch_normal': True, 'epochs': 10, 'label_class': 3, '_class_cnt': 30}\n",
            "10 2\n",
            "Epoch 1/10\n"
          ]
        },
        {
          "name": "stderr",
          "output_type": "stream",
          "text": [
            "2022-05-30 11:04:16.195455: I tensorflow/core/grappler/optimizers/custom_graph_optimizer_registry.cc:112] Plugin optimizer for device_type GPU is enabled.\n"
          ]
        },
        {
          "name": "stdout",
          "output_type": "stream",
          "text": [
            "1024/1024 [==============================] - ETA: 0s - loss: 0.5135 - accuracy: 0.7479"
          ]
        },
        {
          "name": "stderr",
          "output_type": "stream",
          "text": [
            "2022-05-30 11:04:27.070819: I tensorflow/core/grappler/optimizers/custom_graph_optimizer_registry.cc:112] Plugin optimizer for device_type GPU is enabled.\n"
          ]
        },
        {
          "name": "stdout",
          "output_type": "stream",
          "text": [
            "1024/1024 [==============================] - 12s 11ms/step - loss: 0.5135 - accuracy: 0.7479 - val_loss: 1.5446 - val_accuracy: 0.4974\n",
            "Epoch 2/10\n",
            "1024/1024 [==============================] - 11s 10ms/step - loss: 0.4350 - accuracy: 0.7534 - val_loss: 45.3238 - val_accuracy: 0.4847\n",
            "Epoch 3/10\n",
            "1024/1024 [==============================] - 11s 11ms/step - loss: 0.6925 - accuracy: 0.5208 - val_loss: 2.4315 - val_accuracy: 0.4847\n",
            "Epoch 4/10\n",
            "1024/1024 [==============================] - 11s 10ms/step - loss: 0.6925 - accuracy: 0.5212 - val_loss: 9.1837 - val_accuracy: 0.5153\n",
            "Epoch 5/10\n",
            "1024/1024 [==============================] - 11s 11ms/step - loss: 0.6924 - accuracy: 0.5210 - val_loss: 17.1899 - val_accuracy: 0.4847\n",
            "Epoch 6/10\n",
            "1024/1024 [==============================] - 10s 10ms/step - loss: 0.6926 - accuracy: 0.5183 - val_loss: 17.9485 - val_accuracy: 0.5153\n",
            "Epoch 7/10\n",
            "1024/1024 [==============================] - 10s 10ms/step - loss: 0.6923 - accuracy: 0.5231 - val_loss: 9.6209 - val_accuracy: 0.4847\n",
            "Epoch 8/10\n",
            "1024/1024 [==============================] - 11s 10ms/step - loss: 0.6923 - accuracy: 0.5207 - val_loss: 52.4194 - val_accuracy: 0.4847\n",
            "Epoch 9/10\n",
            "1024/1024 [==============================] - 11s 10ms/step - loss: 0.6928 - accuracy: 0.5163 - val_loss: 20.5881 - val_accuracy: 0.5153\n",
            "Epoch 10/10\n",
            " 672/1024 [==================>...........] - ETA: 3s - loss: 0.6923 - accuracy: 0.5235WARNING:tensorflow:Your input ran out of data; interrupting training. Make sure that your dataset or generator can generate at least `steps_per_epoch * epochs` batches (in this case, 10240 batches). You may need to use the repeat() function when building your dataset.\n",
            "1024/1024 [==============================] - 7s 7ms/step - loss: 0.6923 - accuracy: 0.5235 - val_loss: 36.6520 - val_accuracy: 0.5153\n",
            "-----[ 16 ]-----{'_hidden_layers': 3, 'dense_count': 16, '_kernel_initializer': 'glorot_uniform', '_activation': 'sigmoid', '_optimizer': 'SGD', 'batch_normal': False, 'epochs': 5, 'label_class': 3, '_class_cnt': 30}\n",
            "5 2\n",
            "Epoch 1/5\n",
            "   6/1024 [..............................] - ETA: 11s - loss: 1.0861 - accuracy: 0.5175 "
          ]
        },
        {
          "name": "stderr",
          "output_type": "stream",
          "text": [
            "2022-05-30 11:06:00.151268: I tensorflow/core/grappler/optimizers/custom_graph_optimizer_registry.cc:112] Plugin optimizer for device_type GPU is enabled.\n"
          ]
        },
        {
          "name": "stdout",
          "output_type": "stream",
          "text": [
            "1013/1024 [============================>.] - ETA: 0s - loss: 0.7039 - accuracy: 0.5143"
          ]
        },
        {
          "name": "stderr",
          "output_type": "stream",
          "text": [
            "2022-05-30 11:06:04.886331: I tensorflow/core/grappler/optimizers/custom_graph_optimizer_registry.cc:112] Plugin optimizer for device_type GPU is enabled.\n"
          ]
        },
        {
          "name": "stdout",
          "output_type": "stream",
          "text": [
            "1024/1024 [==============================] - 5s 5ms/step - loss: 0.7038 - accuracy: 0.5142 - val_loss: 0.6927 - val_accuracy: 0.5153\n",
            "Epoch 2/5\n",
            "1024/1024 [==============================] - 5s 5ms/step - loss: 0.6924 - accuracy: 0.5207 - val_loss: 0.6935 - val_accuracy: 0.5153\n",
            "Epoch 3/5\n",
            "1024/1024 [==============================] - 5s 5ms/step - loss: 0.6925 - accuracy: 0.5187 - val_loss: 0.6923 - val_accuracy: 0.5153\n",
            "Epoch 4/5\n",
            "1024/1024 [==============================] - 5s 5ms/step - loss: 0.6921 - accuracy: 0.5205 - val_loss: 0.6921 - val_accuracy: 0.5153\n",
            "Epoch 5/5\n",
            " 841/1024 [=======================>......] - ETA: 0s - loss: 0.6921 - accuracy: 0.5207WARNING:tensorflow:Your input ran out of data; interrupting training. Make sure that your dataset or generator can generate at least `steps_per_epoch * epochs` batches (in this case, 5120 batches). You may need to use the repeat() function when building your dataset.\n",
            "1024/1024 [==============================] - 4s 4ms/step - loss: 0.6922 - accuracy: 0.5206 - val_loss: 0.6921 - val_accuracy: 0.5153\n",
            "-----[ 17 ]-----{'_hidden_layers': 3, 'dense_count': 16, '_kernel_initializer': 'glorot_uniform', '_activation': 'sigmoid', '_optimizer': 'SGD', 'batch_normal': False, 'epochs': 10, 'label_class': 3, '_class_cnt': 30}\n",
            "10 2\n",
            "Epoch 1/10\n",
            "   7/1024 [..............................] - ETA: 8s - loss: 0.7079 - accuracy: 0.5113  "
          ]
        },
        {
          "name": "stderr",
          "output_type": "stream",
          "text": [
            "2022-05-30 11:06:24.173847: I tensorflow/core/grappler/optimizers/custom_graph_optimizer_registry.cc:112] Plugin optimizer for device_type GPU is enabled.\n"
          ]
        },
        {
          "name": "stdout",
          "output_type": "stream",
          "text": [
            "1013/1024 [============================>.] - ETA: 0s - loss: 0.6931 - accuracy: 0.5174"
          ]
        },
        {
          "name": "stderr",
          "output_type": "stream",
          "text": [
            "2022-05-30 11:06:28.962591: I tensorflow/core/grappler/optimizers/custom_graph_optimizer_registry.cc:112] Plugin optimizer for device_type GPU is enabled.\n"
          ]
        },
        {
          "name": "stdout",
          "output_type": "stream",
          "text": [
            "1024/1024 [==============================] - 5s 5ms/step - loss: 0.6931 - accuracy: 0.5173 - val_loss: 0.6927 - val_accuracy: 0.5153\n",
            "Epoch 2/10\n",
            "1024/1024 [==============================] - 5s 5ms/step - loss: 0.6926 - accuracy: 0.5175 - val_loss: 0.6931 - val_accuracy: 0.5179\n",
            "Epoch 3/10\n",
            "1024/1024 [==============================] - 5s 5ms/step - loss: 0.6927 - accuracy: 0.5182 - val_loss: 0.6930 - val_accuracy: 0.5153\n",
            "Epoch 4/10\n",
            "1024/1024 [==============================] - 5s 5ms/step - loss: 0.6926 - accuracy: 0.5170 - val_loss: 0.6926 - val_accuracy: 0.5153\n",
            "Epoch 5/10\n",
            "1024/1024 [==============================] - 5s 5ms/step - loss: 0.6925 - accuracy: 0.5204 - val_loss: 0.6926 - val_accuracy: 0.5153\n",
            "Epoch 6/10\n",
            "1024/1024 [==============================] - 5s 5ms/step - loss: 0.6926 - accuracy: 0.5198 - val_loss: 0.6927 - val_accuracy: 0.5153\n",
            "Epoch 7/10\n",
            "1024/1024 [==============================] - 5s 5ms/step - loss: 0.6927 - accuracy: 0.5195 - val_loss: 0.6927 - val_accuracy: 0.5153\n",
            "Epoch 8/10\n",
            "1024/1024 [==============================] - 5s 5ms/step - loss: 0.6926 - accuracy: 0.5163 - val_loss: 0.6926 - val_accuracy: 0.5153\n",
            "Epoch 9/10\n",
            "1024/1024 [==============================] - 5s 5ms/step - loss: 0.6921 - accuracy: 0.5236 - val_loss: 0.6923 - val_accuracy: 0.5153\n",
            "Epoch 10/10\n",
            " 674/1024 [==================>...........] - ETA: 1s - loss: 0.6923 - accuracy: 0.5217WARNING:tensorflow:Your input ran out of data; interrupting training. Make sure that your dataset or generator can generate at least `steps_per_epoch * epochs` batches (in this case, 10240 batches). You may need to use the repeat() function when building your dataset.\n",
            "1024/1024 [==============================] - 3s 3ms/step - loss: 0.6923 - accuracy: 0.5217 - val_loss: 0.6925 - val_accuracy: 0.5153\n",
            "-----[ 18 ]-----{'_hidden_layers': 3, 'dense_count': 16, '_kernel_initializer': 'glorot_uniform', '_activation': 'sigmoid', '_optimizer': 'SGD', 'batch_normal': True, 'epochs': 5, 'label_class': 3, '_class_cnt': 30}\n",
            "5 2\n",
            "Epoch 1/5\n"
          ]
        },
        {
          "name": "stderr",
          "output_type": "stream",
          "text": [
            "2022-05-30 11:07:12.180360: I tensorflow/core/grappler/optimizers/custom_graph_optimizer_registry.cc:112] Plugin optimizer for device_type GPU is enabled.\n"
          ]
        },
        {
          "name": "stdout",
          "output_type": "stream",
          "text": [
            "1019/1024 [============================>.] - ETA: 0s - loss: 0.2632 - accuracy: 0.8854"
          ]
        },
        {
          "name": "stderr",
          "output_type": "stream",
          "text": [
            "2022-05-30 11:07:22.902777: I tensorflow/core/grappler/optimizers/custom_graph_optimizer_registry.cc:112] Plugin optimizer for device_type GPU is enabled.\n"
          ]
        },
        {
          "name": "stdout",
          "output_type": "stream",
          "text": [
            "1024/1024 [==============================] - 12s 11ms/step - loss: 0.2627 - accuracy: 0.8857 - val_loss: 0.4333 - val_accuracy: 0.8166\n",
            "Epoch 2/5\n",
            "1024/1024 [==============================] - 9s 9ms/step - loss: 0.1732 - accuracy: 0.9300 - val_loss: 0.1001 - val_accuracy: 0.9670\n",
            "Epoch 3/5\n",
            "1024/1024 [==============================] - 10s 9ms/step - loss: 0.1561 - accuracy: 0.9388 - val_loss: 0.1753 - val_accuracy: 0.9284\n",
            "Epoch 4/5\n",
            "1024/1024 [==============================] - 10s 9ms/step - loss: 0.1393 - accuracy: 0.9442 - val_loss: 0.0999 - val_accuracy: 0.9630\n",
            "Epoch 5/5\n",
            " 845/1024 [=======================>......] - ETA: 1s - loss: 0.1356 - accuracy: 0.9487WARNING:tensorflow:Your input ran out of data; interrupting training. Make sure that your dataset or generator can generate at least `steps_per_epoch * epochs` batches (in this case, 5120 batches). You may need to use the repeat() function when building your dataset.\n",
            "1024/1024 [==============================] - 8s 8ms/step - loss: 0.1362 - accuracy: 0.9483 - val_loss: 5.3607 - val_accuracy: 0.4849\n",
            "-----[ 19 ]-----{'_hidden_layers': 3, 'dense_count': 16, '_kernel_initializer': 'glorot_uniform', '_activation': 'sigmoid', '_optimizer': 'SGD', 'batch_normal': True, 'epochs': 10, 'label_class': 3, '_class_cnt': 30}\n",
            "10 2\n",
            "Epoch 1/10\n"
          ]
        },
        {
          "name": "stderr",
          "output_type": "stream",
          "text": [
            "2022-05-30 11:08:00.464693: I tensorflow/core/grappler/optimizers/custom_graph_optimizer_registry.cc:112] Plugin optimizer for device_type GPU is enabled.\n"
          ]
        },
        {
          "name": "stdout",
          "output_type": "stream",
          "text": [
            "1019/1024 [============================>.] - ETA: 0s - loss: 0.2518 - accuracy: 0.8942"
          ]
        },
        {
          "name": "stderr",
          "output_type": "stream",
          "text": [
            "2022-05-30 11:08:10.353776: I tensorflow/core/grappler/optimizers/custom_graph_optimizer_registry.cc:112] Plugin optimizer for device_type GPU is enabled.\n"
          ]
        },
        {
          "name": "stdout",
          "output_type": "stream",
          "text": [
            "1024/1024 [==============================] - 11s 10ms/step - loss: 0.2512 - accuracy: 0.8946 - val_loss: 0.2322 - val_accuracy: 0.8983\n",
            "Epoch 2/10\n",
            "1024/1024 [==============================] - 10s 9ms/step - loss: 0.1804 - accuracy: 0.9264 - val_loss: 0.1027 - val_accuracy: 0.9654\n",
            "Epoch 3/10\n",
            "1024/1024 [==============================] - 10s 9ms/step - loss: 0.1588 - accuracy: 0.9368 - val_loss: 0.1667 - val_accuracy: 0.9341\n",
            "Epoch 4/10\n",
            "1024/1024 [==============================] - 10s 9ms/step - loss: 0.1347 - accuracy: 0.9471 - val_loss: 0.0878 - val_accuracy: 0.9721\n",
            "Epoch 5/10\n",
            "1024/1024 [==============================] - 10s 9ms/step - loss: 0.1265 - accuracy: 0.9505 - val_loss: 0.2503 - val_accuracy: 0.8972\n",
            "Epoch 6/10\n",
            "1024/1024 [==============================] - 10s 10ms/step - loss: 0.1225 - accuracy: 0.9511 - val_loss: 0.1004 - val_accuracy: 0.9622\n",
            "Epoch 7/10\n",
            "1024/1024 [==============================] - 10s 9ms/step - loss: 0.1117 - accuracy: 0.9552 - val_loss: 0.0627 - val_accuracy: 0.9817\n",
            "Epoch 8/10\n",
            "1024/1024 [==============================] - 10s 9ms/step - loss: 0.1003 - accuracy: 0.9617 - val_loss: 0.0627 - val_accuracy: 0.9794\n",
            "Epoch 9/10\n",
            "1024/1024 [==============================] - 10s 9ms/step - loss: 0.1017 - accuracy: 0.9617 - val_loss: 0.0690 - val_accuracy: 0.9772\n",
            "Epoch 10/10\n",
            " 671/1024 [==================>...........] - ETA: 3s - loss: 0.0889 - accuracy: 0.9654WARNING:tensorflow:Your input ran out of data; interrupting training. Make sure that your dataset or generator can generate at least `steps_per_epoch * epochs` batches (in this case, 10240 batches). You may need to use the repeat() function when building your dataset.\n",
            "1024/1024 [==============================] - 6s 6ms/step - loss: 0.0891 - accuracy: 0.9654 - val_loss: 0.0683 - val_accuracy: 0.9752\n",
            "-----[ 20 ]-----{'_hidden_layers': 3, 'dense_count': 16, '_kernel_initializer': 'glorot_uniform', '_activation': 'sigmoid', '_optimizer': 'Adam', 'batch_normal': False, 'epochs': 5, 'label_class': 3, '_class_cnt': 30}\n",
            "5 2\n",
            "Epoch 1/5\n",
            "   1/1024 [..............................] - ETA: 4:13 - loss: 1.4012 - accuracy: 0.3684"
          ]
        },
        {
          "name": "stderr",
          "output_type": "stream",
          "text": [
            "2022-05-30 11:09:34.750929: I tensorflow/core/grappler/optimizers/custom_graph_optimizer_registry.cc:112] Plugin optimizer for device_type GPU is enabled.\n"
          ]
        },
        {
          "name": "stdout",
          "output_type": "stream",
          "text": [
            "1021/1024 [============================>.] - ETA: 0s - loss: 0.5358 - accuracy: 0.7186"
          ]
        },
        {
          "name": "stderr",
          "output_type": "stream",
          "text": [
            "2022-05-30 11:09:40.079384: I tensorflow/core/grappler/optimizers/custom_graph_optimizer_registry.cc:112] Plugin optimizer for device_type GPU is enabled.\n"
          ]
        },
        {
          "name": "stdout",
          "output_type": "stream",
          "text": [
            "1024/1024 [==============================] - 6s 6ms/step - loss: 0.5354 - accuracy: 0.7189 - val_loss: 0.2409 - val_accuracy: 0.9092\n",
            "Epoch 2/5\n",
            "1024/1024 [==============================] - 5s 5ms/step - loss: 0.1676 - accuracy: 0.9360 - val_loss: 0.1136 - val_accuracy: 0.9589\n",
            "Epoch 3/5\n",
            "1024/1024 [==============================] - 5s 5ms/step - loss: 0.1013 - accuracy: 0.9610 - val_loss: 0.0946 - val_accuracy: 0.9621\n",
            "Epoch 4/5\n",
            "1024/1024 [==============================] - 5s 5ms/step - loss: 0.0819 - accuracy: 0.9691 - val_loss: 0.0684 - val_accuracy: 0.9750\n",
            "Epoch 5/5\n",
            " 846/1024 [=======================>......] - ETA: 0s - loss: 0.0705 - accuracy: 0.9734WARNING:tensorflow:Your input ran out of data; interrupting training. Make sure that your dataset or generator can generate at least `steps_per_epoch * epochs` batches (in this case, 5120 batches). You may need to use the repeat() function when building your dataset.\n",
            "1024/1024 [==============================] - 5s 4ms/step - loss: 0.0706 - accuracy: 0.9733 - val_loss: 0.0539 - val_accuracy: 0.9807\n",
            "-----[ 21 ]-----{'_hidden_layers': 3, 'dense_count': 16, '_kernel_initializer': 'glorot_uniform', '_activation': 'sigmoid', '_optimizer': 'Adam', 'batch_normal': False, 'epochs': 10, 'label_class': 3, '_class_cnt': 30}\n",
            "10 2\n",
            "Epoch 1/10\n",
            "   1/1024 [..............................] - ETA: 4:13 - loss: 0.7037 - accuracy: 0.4211"
          ]
        },
        {
          "name": "stderr",
          "output_type": "stream",
          "text": [
            "2022-05-30 11:10:01.695619: I tensorflow/core/grappler/optimizers/custom_graph_optimizer_registry.cc:112] Plugin optimizer for device_type GPU is enabled.\n"
          ]
        },
        {
          "name": "stdout",
          "output_type": "stream",
          "text": [
            "1022/1024 [============================>.] - ETA: 0s - loss: 0.4094 - accuracy: 0.8133"
          ]
        },
        {
          "name": "stderr",
          "output_type": "stream",
          "text": [
            "2022-05-30 11:10:07.108551: I tensorflow/core/grappler/optimizers/custom_graph_optimizer_registry.cc:112] Plugin optimizer for device_type GPU is enabled.\n"
          ]
        },
        {
          "name": "stdout",
          "output_type": "stream",
          "text": [
            "1024/1024 [==============================] - 6s 6ms/step - loss: 0.4089 - accuracy: 0.8137 - val_loss: 0.2152 - val_accuracy: 0.9139\n",
            "Epoch 2/10\n",
            "1024/1024 [==============================] - 5s 5ms/step - loss: 0.1494 - accuracy: 0.9432 - val_loss: 0.1118 - val_accuracy: 0.9575\n",
            "Epoch 3/10\n",
            "1024/1024 [==============================] - 5s 5ms/step - loss: 0.1085 - accuracy: 0.9593 - val_loss: 0.1274 - val_accuracy: 0.9491\n",
            "Epoch 4/10\n",
            "1024/1024 [==============================] - 5s 5ms/step - loss: 0.0858 - accuracy: 0.9683 - val_loss: 0.1576 - val_accuracy: 0.9324\n",
            "Epoch 5/10\n",
            "1024/1024 [==============================] - 5s 5ms/step - loss: 0.0722 - accuracy: 0.9726 - val_loss: 0.0833 - val_accuracy: 0.9695\n",
            "Epoch 6/10\n",
            "1024/1024 [==============================] - 5s 5ms/step - loss: 0.0664 - accuracy: 0.9743 - val_loss: 0.0512 - val_accuracy: 0.9829\n",
            "Epoch 7/10\n",
            "1024/1024 [==============================] - 5s 5ms/step - loss: 0.0559 - accuracy: 0.9798 - val_loss: 0.0519 - val_accuracy: 0.9809\n",
            "Epoch 8/10\n",
            "1024/1024 [==============================] - 6s 5ms/step - loss: 0.0508 - accuracy: 0.9808 - val_loss: 0.0503 - val_accuracy: 0.9815\n",
            "Epoch 9/10\n",
            "1024/1024 [==============================] - 6s 5ms/step - loss: 0.0437 - accuracy: 0.9836 - val_loss: 0.0528 - val_accuracy: 0.9821\n",
            "Epoch 10/10\n",
            " 668/1024 [==================>...........] - ETA: 1s - loss: 0.0388 - accuracy: 0.9853WARNING:tensorflow:Your input ran out of data; interrupting training. Make sure that your dataset or generator can generate at least `steps_per_epoch * epochs` batches (in this case, 10240 batches). You may need to use the repeat() function when building your dataset.\n",
            "1024/1024 [==============================] - 4s 4ms/step - loss: 0.0388 - accuracy: 0.9853 - val_loss: 0.0568 - val_accuracy: 0.9780\n",
            "-----[ 22 ]-----{'_hidden_layers': 3, 'dense_count': 16, '_kernel_initializer': 'glorot_uniform', '_activation': 'sigmoid', '_optimizer': 'Adam', 'batch_normal': True, 'epochs': 5, 'label_class': 3, '_class_cnt': 30}\n",
            "5 2\n",
            "Epoch 1/5\n"
          ]
        },
        {
          "name": "stderr",
          "output_type": "stream",
          "text": [
            "2022-05-30 11:10:55.518672: I tensorflow/core/grappler/optimizers/custom_graph_optimizer_registry.cc:112] Plugin optimizer for device_type GPU is enabled.\n"
          ]
        },
        {
          "name": "stdout",
          "output_type": "stream",
          "text": [
            "1020/1024 [============================>.] - ETA: 0s - loss: 0.2281 - accuracy: 0.9040"
          ]
        },
        {
          "name": "stderr",
          "output_type": "stream",
          "text": [
            "2022-05-30 11:11:06.286810: I tensorflow/core/grappler/optimizers/custom_graph_optimizer_registry.cc:112] Plugin optimizer for device_type GPU is enabled.\n"
          ]
        },
        {
          "name": "stdout",
          "output_type": "stream",
          "text": [
            "1024/1024 [==============================] - 12s 11ms/step - loss: 0.2277 - accuracy: 0.9040 - val_loss: 0.1196 - val_accuracy: 0.9552\n",
            "Epoch 2/5\n",
            "1024/1024 [==============================] - 10s 10ms/step - loss: 0.1488 - accuracy: 0.9411 - val_loss: 0.2736 - val_accuracy: 0.8736\n",
            "Epoch 3/5\n",
            "1024/1024 [==============================] - 10s 10ms/step - loss: 0.1213 - accuracy: 0.9519 - val_loss: 0.1606 - val_accuracy: 0.9290\n",
            "Epoch 4/5\n",
            "1024/1024 [==============================] - 10s 10ms/step - loss: 0.1004 - accuracy: 0.9621 - val_loss: 0.0585 - val_accuracy: 0.9799\n",
            "Epoch 5/5\n",
            " 849/1024 [=======================>......] - ETA: 1s - loss: 0.0897 - accuracy: 0.9654WARNING:tensorflow:Your input ran out of data; interrupting training. Make sure that your dataset or generator can generate at least `steps_per_epoch * epochs` batches (in this case, 5120 batches). You may need to use the repeat() function when building your dataset.\n",
            "1024/1024 [==============================] - 9s 8ms/step - loss: 0.0897 - accuracy: 0.9654 - val_loss: 0.3591 - val_accuracy: 0.8738\n",
            "-----[ 23 ]-----{'_hidden_layers': 3, 'dense_count': 16, '_kernel_initializer': 'glorot_uniform', '_activation': 'sigmoid', '_optimizer': 'Adam', 'batch_normal': True, 'epochs': 10, 'label_class': 3, '_class_cnt': 30}\n",
            "10 2\n",
            "Epoch 1/10\n"
          ]
        },
        {
          "name": "stderr",
          "output_type": "stream",
          "text": [
            "2022-05-30 11:11:47.661370: I tensorflow/core/grappler/optimizers/custom_graph_optimizer_registry.cc:112] Plugin optimizer for device_type GPU is enabled.\n"
          ]
        },
        {
          "name": "stdout",
          "output_type": "stream",
          "text": [
            "1024/1024 [==============================] - ETA: 0s - loss: 0.2276 - accuracy: 0.9042"
          ]
        },
        {
          "name": "stderr",
          "output_type": "stream",
          "text": [
            "2022-05-30 11:11:58.461898: I tensorflow/core/grappler/optimizers/custom_graph_optimizer_registry.cc:112] Plugin optimizer for device_type GPU is enabled.\n"
          ]
        },
        {
          "name": "stdout",
          "output_type": "stream",
          "text": [
            "1024/1024 [==============================] - 12s 11ms/step - loss: 0.2276 - accuracy: 0.9042 - val_loss: 0.1831 - val_accuracy: 0.9233\n",
            "Epoch 2/10\n",
            "1024/1024 [==============================] - 10s 10ms/step - loss: 0.1459 - accuracy: 0.9431 - val_loss: 0.3189 - val_accuracy: 0.8504\n",
            "Epoch 3/10\n",
            "1024/1024 [==============================] - 11s 10ms/step - loss: 0.1169 - accuracy: 0.9559 - val_loss: 0.2997 - val_accuracy: 0.8771\n",
            "Epoch 4/10\n",
            "1024/1024 [==============================] - 11s 10ms/step - loss: 0.1023 - accuracy: 0.9616 - val_loss: 0.2454 - val_accuracy: 0.8970\n",
            "Epoch 5/10\n",
            "1024/1024 [==============================] - 10s 10ms/step - loss: 0.0887 - accuracy: 0.9665 - val_loss: 0.0527 - val_accuracy: 0.9841\n",
            "Epoch 6/10\n",
            "1024/1024 [==============================] - 10s 10ms/step - loss: 0.0832 - accuracy: 0.9696 - val_loss: 0.0737 - val_accuracy: 0.9737\n",
            "Epoch 7/10\n",
            "1024/1024 [==============================] - 10s 10ms/step - loss: 0.0735 - accuracy: 0.9733 - val_loss: 0.1383 - val_accuracy: 0.9371\n",
            "Epoch 8/10\n",
            "1024/1024 [==============================] - 10s 10ms/step - loss: 0.0703 - accuracy: 0.9742 - val_loss: 0.3481 - val_accuracy: 0.8793\n",
            "Epoch 9/10\n",
            "1024/1024 [==============================] - 11s 10ms/step - loss: 0.0667 - accuracy: 0.9757 - val_loss: 0.1627 - val_accuracy: 0.9339\n",
            "Epoch 10/10\n",
            " 669/1024 [==================>...........] - ETA: 3s - loss: 0.0553 - accuracy: 0.9804WARNING:tensorflow:Your input ran out of data; interrupting training. Make sure that your dataset or generator can generate at least `steps_per_epoch * epochs` batches (in this case, 10240 batches). You may need to use the repeat() function when building your dataset.\n",
            "1024/1024 [==============================] - 7s 7ms/step - loss: 0.0552 - accuracy: 0.9805 - val_loss: 0.0321 - val_accuracy: 0.9904\n",
            "-----[ 24 ]-----{'_hidden_layers': 3, 'dense_count': 16, '_kernel_initializer': 'glorot_uniform', '_activation': 'relu', '_optimizer': 'SGD', 'batch_normal': False, 'epochs': 5, 'label_class': 3, '_class_cnt': 30}\n",
            "5 2\n",
            "Epoch 1/5\n",
            "   5/1024 [..............................] - ETA: 13s - loss: 0.6880 - accuracy: 0.5474 "
          ]
        },
        {
          "name": "stderr",
          "output_type": "stream",
          "text": [
            "2022-05-30 11:13:30.248633: I tensorflow/core/grappler/optimizers/custom_graph_optimizer_registry.cc:112] Plugin optimizer for device_type GPU is enabled.\n"
          ]
        },
        {
          "name": "stdout",
          "output_type": "stream",
          "text": [
            "1013/1024 [============================>.] - ETA: 0s - loss: 0.5112 - accuracy: 0.7546"
          ]
        },
        {
          "name": "stderr",
          "output_type": "stream",
          "text": [
            "2022-05-30 11:13:34.963076: I tensorflow/core/grappler/optimizers/custom_graph_optimizer_registry.cc:112] Plugin optimizer for device_type GPU is enabled.\n"
          ]
        },
        {
          "name": "stdout",
          "output_type": "stream",
          "text": [
            "1024/1024 [==============================] - 5s 5ms/step - loss: 0.5092 - accuracy: 0.7560 - val_loss: 0.3071 - val_accuracy: 0.8714\n",
            "Epoch 2/5\n",
            "1024/1024 [==============================] - 5s 5ms/step - loss: 0.2607 - accuracy: 0.8942 - val_loss: 0.1857 - val_accuracy: 0.9308\n",
            "Epoch 3/5\n",
            "1024/1024 [==============================] - 5s 5ms/step - loss: 0.1759 - accuracy: 0.9343 - val_loss: 0.1234 - val_accuracy: 0.9556\n",
            "Epoch 4/5\n",
            "1024/1024 [==============================] - 5s 5ms/step - loss: 0.1371 - accuracy: 0.9467 - val_loss: 0.1576 - val_accuracy: 0.9331\n",
            "Epoch 5/5\n",
            " 849/1024 [=======================>......] - ETA: 0s - loss: 0.1154 - accuracy: 0.9571WARNING:tensorflow:Your input ran out of data; interrupting training. Make sure that your dataset or generator can generate at least `steps_per_epoch * epochs` batches (in this case, 5120 batches). You may need to use the repeat() function when building your dataset.\n",
            "1024/1024 [==============================] - 4s 4ms/step - loss: 0.1154 - accuracy: 0.9571 - val_loss: 0.0820 - val_accuracy: 0.9742\n",
            "-----[ 25 ]-----{'_hidden_layers': 3, 'dense_count': 16, '_kernel_initializer': 'glorot_uniform', '_activation': 'relu', '_optimizer': 'SGD', 'batch_normal': False, 'epochs': 10, 'label_class': 3, '_class_cnt': 30}\n",
            "10 2\n",
            "Epoch 1/10\n",
            "   7/1024 [..............................] - ETA: 9s - loss: 0.6899 - accuracy: 0.5338  "
          ]
        },
        {
          "name": "stderr",
          "output_type": "stream",
          "text": [
            "2022-05-30 11:13:54.349399: I tensorflow/core/grappler/optimizers/custom_graph_optimizer_registry.cc:112] Plugin optimizer for device_type GPU is enabled.\n"
          ]
        },
        {
          "name": "stdout",
          "output_type": "stream",
          "text": [
            "1013/1024 [============================>.] - ETA: 0s - loss: 0.4774 - accuracy: 0.7890"
          ]
        },
        {
          "name": "stderr",
          "output_type": "stream",
          "text": [
            "2022-05-30 11:13:59.135682: I tensorflow/core/grappler/optimizers/custom_graph_optimizer_registry.cc:112] Plugin optimizer for device_type GPU is enabled.\n"
          ]
        },
        {
          "name": "stdout",
          "output_type": "stream",
          "text": [
            "1024/1024 [==============================] - 5s 5ms/step - loss: 0.4753 - accuracy: 0.7902 - val_loss: 0.2940 - val_accuracy: 0.8812\n",
            "Epoch 2/10\n",
            "1024/1024 [==============================] - 5s 5ms/step - loss: 0.2754 - accuracy: 0.8895 - val_loss: 0.1728 - val_accuracy: 0.9316\n",
            "Epoch 3/10\n",
            "1024/1024 [==============================] - 5s 5ms/step - loss: 0.2114 - accuracy: 0.9195 - val_loss: 0.1414 - val_accuracy: 0.9432\n",
            "Epoch 4/10\n",
            "1024/1024 [==============================] - 5s 5ms/step - loss: 0.1514 - accuracy: 0.9405 - val_loss: 0.1721 - val_accuracy: 0.9328\n",
            "Epoch 5/10\n",
            "1024/1024 [==============================] - 5s 5ms/step - loss: 0.1264 - accuracy: 0.9538 - val_loss: 0.1251 - val_accuracy: 0.9524\n",
            "Epoch 6/10\n",
            "1024/1024 [==============================] - 5s 5ms/step - loss: 0.1084 - accuracy: 0.9603 - val_loss: 0.0839 - val_accuracy: 0.9685\n",
            "Epoch 7/10\n",
            "1024/1024 [==============================] - 5s 5ms/step - loss: 0.0895 - accuracy: 0.9663 - val_loss: 0.0709 - val_accuracy: 0.9760\n",
            "Epoch 8/10\n",
            "1024/1024 [==============================] - 5s 5ms/step - loss: 0.0778 - accuracy: 0.9718 - val_loss: 0.0854 - val_accuracy: 0.9680\n",
            "Epoch 9/10\n",
            "1024/1024 [==============================] - 5s 5ms/step - loss: 0.0655 - accuracy: 0.9767 - val_loss: 0.0552 - val_accuracy: 0.9829\n",
            "Epoch 10/10\n",
            " 667/1024 [==================>...........] - ETA: 1s - loss: 0.0694 - accuracy: 0.9752WARNING:tensorflow:Your input ran out of data; interrupting training. Make sure that your dataset or generator can generate at least `steps_per_epoch * epochs` batches (in this case, 10240 batches). You may need to use the repeat() function when building your dataset.\n",
            "1024/1024 [==============================] - 3s 3ms/step - loss: 0.0694 - accuracy: 0.9752 - val_loss: 0.3870 - val_accuracy: 0.8624\n",
            "-----[ 26 ]-----{'_hidden_layers': 3, 'dense_count': 16, '_kernel_initializer': 'glorot_uniform', '_activation': 'relu', '_optimizer': 'SGD', 'batch_normal': True, 'epochs': 5, 'label_class': 3, '_class_cnt': 30}\n",
            "5 2\n",
            "Epoch 1/5\n"
          ]
        },
        {
          "name": "stderr",
          "output_type": "stream",
          "text": [
            "2022-05-30 11:14:42.695548: I tensorflow/core/grappler/optimizers/custom_graph_optimizer_registry.cc:112] Plugin optimizer for device_type GPU is enabled.\n"
          ]
        },
        {
          "name": "stdout",
          "output_type": "stream",
          "text": [
            "1024/1024 [==============================] - ETA: 0s - loss: 0.3091 - accuracy: 0.8636"
          ]
        },
        {
          "name": "stderr",
          "output_type": "stream",
          "text": [
            "2022-05-30 11:14:53.102277: I tensorflow/core/grappler/optimizers/custom_graph_optimizer_registry.cc:112] Plugin optimizer for device_type GPU is enabled.\n"
          ]
        },
        {
          "name": "stdout",
          "output_type": "stream",
          "text": [
            "1024/1024 [==============================] - 11s 10ms/step - loss: 0.3091 - accuracy: 0.8636 - val_loss: 0.1567 - val_accuracy: 0.9385\n",
            "Epoch 2/5\n",
            "1024/1024 [==============================] - 10s 9ms/step - loss: 0.1947 - accuracy: 0.9219 - val_loss: 0.2830 - val_accuracy: 0.8757\n",
            "Epoch 3/5\n",
            "1024/1024 [==============================] - 10s 9ms/step - loss: 0.1760 - accuracy: 0.9281 - val_loss: 0.2364 - val_accuracy: 0.9011\n",
            "Epoch 4/5\n",
            "1024/1024 [==============================] - 10s 9ms/step - loss: 0.1657 - accuracy: 0.9320 - val_loss: 0.4729 - val_accuracy: 0.7778\n",
            "Epoch 5/5\n",
            " 849/1024 [=======================>......] - ETA: 1s - loss: 0.1816 - accuracy: 0.9277WARNING:tensorflow:Your input ran out of data; interrupting training. Make sure that your dataset or generator can generate at least `steps_per_epoch * epochs` batches (in this case, 5120 batches). You may need to use the repeat() function when building your dataset.\n",
            "1024/1024 [==============================] - 8s 8ms/step - loss: 0.1816 - accuracy: 0.9277 - val_loss: 0.0951 - val_accuracy: 0.9660\n",
            "-----[ 27 ]-----{'_hidden_layers': 3, 'dense_count': 16, '_kernel_initializer': 'glorot_uniform', '_activation': 'relu', '_optimizer': 'SGD', 'batch_normal': True, 'epochs': 10, 'label_class': 3, '_class_cnt': 30}\n",
            "10 2\n",
            "Epoch 1/10\n"
          ]
        },
        {
          "name": "stderr",
          "output_type": "stream",
          "text": [
            "2022-05-30 11:15:31.542071: I tensorflow/core/grappler/optimizers/custom_graph_optimizer_registry.cc:112] Plugin optimizer for device_type GPU is enabled.\n"
          ]
        },
        {
          "name": "stdout",
          "output_type": "stream",
          "text": [
            "1019/1024 [============================>.] - ETA: 0s - loss: 0.3611 - accuracy: 0.8363"
          ]
        },
        {
          "name": "stderr",
          "output_type": "stream",
          "text": [
            "2022-05-30 11:15:42.078956: I tensorflow/core/grappler/optimizers/custom_graph_optimizer_registry.cc:112] Plugin optimizer for device_type GPU is enabled.\n"
          ]
        },
        {
          "name": "stdout",
          "output_type": "stream",
          "text": [
            "1024/1024 [==============================] - 11s 11ms/step - loss: 0.3599 - accuracy: 0.8369 - val_loss: 0.2777 - val_accuracy: 0.8907\n",
            "Epoch 2/10\n",
            "1024/1024 [==============================] - 11s 11ms/step - loss: 0.2385 - accuracy: 0.9043 - val_loss: 0.8144 - val_accuracy: 0.7017\n",
            "Epoch 3/10\n",
            "1024/1024 [==============================] - 10s 10ms/step - loss: 0.2058 - accuracy: 0.9200 - val_loss: 0.1050 - val_accuracy: 0.9652\n",
            "Epoch 4/10\n",
            "1024/1024 [==============================] - 10s 10ms/step - loss: 0.1572 - accuracy: 0.9393 - val_loss: 0.1108 - val_accuracy: 0.9558\n",
            "Epoch 5/10\n",
            "1024/1024 [==============================] - 10s 10ms/step - loss: 0.1506 - accuracy: 0.9422 - val_loss: 0.3278 - val_accuracy: 0.8516\n",
            "Epoch 6/10\n",
            "1024/1024 [==============================] - 10s 10ms/step - loss: 0.2085 - accuracy: 0.9131 - val_loss: 1.6825 - val_accuracy: 0.5761\n",
            "Epoch 7/10\n",
            "1024/1024 [==============================] - 10s 10ms/step - loss: 0.2073 - accuracy: 0.9178 - val_loss: 0.1209 - val_accuracy: 0.9587\n",
            "Epoch 8/10\n",
            "1024/1024 [==============================] - 10s 10ms/step - loss: 0.4135 - accuracy: 0.7774 - val_loss: 0.8959 - val_accuracy: 0.4949\n",
            "Epoch 9/10\n",
            "1024/1024 [==============================] - 10s 10ms/step - loss: 0.6783 - accuracy: 0.5361 - val_loss: 11.5581 - val_accuracy: 0.4847\n",
            "Epoch 10/10\n",
            " 671/1024 [==================>...........] - ETA: 3s - loss: 0.6924 - accuracy: 0.5222WARNING:tensorflow:Your input ran out of data; interrupting training. Make sure that your dataset or generator can generate at least `steps_per_epoch * epochs` batches (in this case, 10240 batches). You may need to use the repeat() function when building your dataset.\n",
            "1024/1024 [==============================] - 7s 7ms/step - loss: 0.6925 - accuracy: 0.5222 - val_loss: 2.1511 - val_accuracy: 0.4847\n",
            "-----[ 28 ]-----{'_hidden_layers': 3, 'dense_count': 16, '_kernel_initializer': 'glorot_uniform', '_activation': 'relu', '_optimizer': 'Adam', 'batch_normal': False, 'epochs': 5, 'label_class': 3, '_class_cnt': 30}\n",
            "5 2\n",
            "Epoch 1/5\n",
            "   1/1024 [..............................] - ETA: 4:05 - loss: 0.6873 - accuracy: 0.6842"
          ]
        },
        {
          "name": "stderr",
          "output_type": "stream",
          "text": [
            "2022-05-30 11:17:10.674431: I tensorflow/core/grappler/optimizers/custom_graph_optimizer_registry.cc:112] Plugin optimizer for device_type GPU is enabled.\n"
          ]
        },
        {
          "name": "stdout",
          "output_type": "stream",
          "text": [
            "1019/1024 [============================>.] - ETA: 0s - loss: 0.3089 - accuracy: 0.8660"
          ]
        },
        {
          "name": "stderr",
          "output_type": "stream",
          "text": [
            "2022-05-30 11:17:16.102163: I tensorflow/core/grappler/optimizers/custom_graph_optimizer_registry.cc:112] Plugin optimizer for device_type GPU is enabled.\n"
          ]
        },
        {
          "name": "stdout",
          "output_type": "stream",
          "text": [
            "1024/1024 [==============================] - 6s 6ms/step - loss: 0.3081 - accuracy: 0.8664 - val_loss: 0.2344 - val_accuracy: 0.9021\n",
            "Epoch 2/5\n",
            "1024/1024 [==============================] - 6s 5ms/step - loss: 0.1762 - accuracy: 0.9300 - val_loss: 0.1666 - val_accuracy: 0.9363\n",
            "Epoch 3/5\n",
            "1024/1024 [==============================] - 6s 6ms/step - loss: 0.1577 - accuracy: 0.9375 - val_loss: 0.2285 - val_accuracy: 0.9125\n",
            "Epoch 4/5\n",
            "1024/1024 [==============================] - 6s 5ms/step - loss: 0.1382 - accuracy: 0.9486 - val_loss: 0.1237 - val_accuracy: 0.9528\n",
            "Epoch 5/5\n",
            " 845/1024 [=======================>......] - ETA: 0s - loss: 0.1281 - accuracy: 0.9508WARNING:tensorflow:Your input ran out of data; interrupting training. Make sure that your dataset or generator can generate at least `steps_per_epoch * epochs` batches (in this case, 5120 batches). You may need to use the repeat() function when building your dataset.\n",
            "1024/1024 [==============================] - 5s 5ms/step - loss: 0.1279 - accuracy: 0.9509 - val_loss: 0.1259 - val_accuracy: 0.9540\n",
            "-----[ 29 ]-----{'_hidden_layers': 3, 'dense_count': 16, '_kernel_initializer': 'glorot_uniform', '_activation': 'relu', '_optimizer': 'Adam', 'batch_normal': False, 'epochs': 10, 'label_class': 3, '_class_cnt': 30}\n",
            "10 2\n",
            "Epoch 1/10\n",
            "   1/1024 [..............................] - ETA: 4:03 - loss: 0.6796 - accuracy: 0.5263"
          ]
        },
        {
          "name": "stderr",
          "output_type": "stream",
          "text": [
            "2022-05-30 11:17:38.485635: I tensorflow/core/grappler/optimizers/custom_graph_optimizer_registry.cc:112] Plugin optimizer for device_type GPU is enabled.\n"
          ]
        },
        {
          "name": "stdout",
          "output_type": "stream",
          "text": [
            "1020/1024 [============================>.] - ETA: 0s - loss: 0.2683 - accuracy: 0.8814"
          ]
        },
        {
          "name": "stderr",
          "output_type": "stream",
          "text": [
            "2022-05-30 11:17:44.155597: I tensorflow/core/grappler/optimizers/custom_graph_optimizer_registry.cc:112] Plugin optimizer for device_type GPU is enabled.\n"
          ]
        },
        {
          "name": "stdout",
          "output_type": "stream",
          "text": [
            "1024/1024 [==============================] - 6s 6ms/step - loss: 0.2677 - accuracy: 0.8817 - val_loss: 0.1188 - val_accuracy: 0.9552\n",
            "Epoch 2/10\n",
            "1024/1024 [==============================] - 6s 6ms/step - loss: 0.1350 - accuracy: 0.9483 - val_loss: 0.1469 - val_accuracy: 0.9459\n",
            "Epoch 3/10\n",
            "1024/1024 [==============================] - 7s 6ms/step - loss: 0.1091 - accuracy: 0.9584 - val_loss: 0.0880 - val_accuracy: 0.9683\n",
            "Epoch 4/10\n",
            "1024/1024 [==============================] - 6s 6ms/step - loss: 0.0961 - accuracy: 0.9622 - val_loss: 0.0697 - val_accuracy: 0.9768\n",
            "Epoch 5/10\n",
            "1024/1024 [==============================] - 6s 6ms/step - loss: 0.0907 - accuracy: 0.9641 - val_loss: 0.2004 - val_accuracy: 0.9294\n",
            "Epoch 6/10\n",
            "1024/1024 [==============================] - 6s 6ms/step - loss: 0.0759 - accuracy: 0.9718 - val_loss: 0.0700 - val_accuracy: 0.9725\n",
            "Epoch 7/10\n",
            "1024/1024 [==============================] - 6s 6ms/step - loss: 0.0748 - accuracy: 0.9706 - val_loss: 0.0702 - val_accuracy: 0.9778\n",
            "Epoch 8/10\n",
            "1024/1024 [==============================] - 6s 6ms/step - loss: 0.0722 - accuracy: 0.9737 - val_loss: 0.0624 - val_accuracy: 0.9766\n",
            "Epoch 9/10\n",
            "1024/1024 [==============================] - 6s 6ms/step - loss: 0.0582 - accuracy: 0.9766 - val_loss: 0.0862 - val_accuracy: 0.9636\n",
            "Epoch 10/10\n",
            " 666/1024 [==================>...........] - ETA: 1s - loss: 0.0663 - accuracy: 0.9742WARNING:tensorflow:Your input ran out of data; interrupting training. Make sure that your dataset or generator can generate at least `steps_per_epoch * epochs` batches (in this case, 10240 batches). You may need to use the repeat() function when building your dataset.\n",
            "1024/1024 [==============================] - 4s 4ms/step - loss: 0.0662 - accuracy: 0.9743 - val_loss: 0.0399 - val_accuracy: 0.9862\n",
            "-----[ 30 ]-----{'_hidden_layers': 3, 'dense_count': 16, '_kernel_initializer': 'glorot_uniform', '_activation': 'relu', '_optimizer': 'Adam', 'batch_normal': True, 'epochs': 5, 'label_class': 3, '_class_cnt': 30}\n",
            "5 2\n",
            "Epoch 1/5\n"
          ]
        },
        {
          "name": "stderr",
          "output_type": "stream",
          "text": [
            "2022-05-30 11:18:36.280355: I tensorflow/core/grappler/optimizers/custom_graph_optimizer_registry.cc:112] Plugin optimizer for device_type GPU is enabled.\n"
          ]
        },
        {
          "name": "stdout",
          "output_type": "stream",
          "text": [
            "1024/1024 [==============================] - ETA: 0s - loss: 0.3253 - accuracy: 0.8486"
          ]
        },
        {
          "name": "stderr",
          "output_type": "stream",
          "text": [
            "2022-05-30 11:18:47.760412: I tensorflow/core/grappler/optimizers/custom_graph_optimizer_registry.cc:112] Plugin optimizer for device_type GPU is enabled.\n"
          ]
        },
        {
          "name": "stdout",
          "output_type": "stream",
          "text": [
            "1024/1024 [==============================] - 12s 12ms/step - loss: 0.3253 - accuracy: 0.8486 - val_loss: 0.2577 - val_accuracy: 0.8795\n",
            "Epoch 2/5\n",
            "1024/1024 [==============================] - 11s 11ms/step - loss: 0.1965 - accuracy: 0.9204 - val_loss: 0.1320 - val_accuracy: 0.9479\n",
            "Epoch 3/5\n",
            "1024/1024 [==============================] - 11s 11ms/step - loss: 0.1517 - accuracy: 0.9403 - val_loss: 0.3545 - val_accuracy: 0.8584\n",
            "Epoch 4/5\n",
            "1024/1024 [==============================] - 11s 11ms/step - loss: 0.1510 - accuracy: 0.9436 - val_loss: 0.1002 - val_accuracy: 0.9597\n",
            "Epoch 5/5\n",
            " 847/1024 [=======================>......] - ETA: 1s - loss: 0.1299 - accuracy: 0.9503WARNING:tensorflow:Your input ran out of data; interrupting training. Make sure that your dataset or generator can generate at least `steps_per_epoch * epochs` batches (in this case, 5120 batches). You may need to use the repeat() function when building your dataset.\n",
            "1024/1024 [==============================] - 10s 10ms/step - loss: 0.1298 - accuracy: 0.9503 - val_loss: 0.1143 - val_accuracy: 0.9546\n",
            "-----[ 31 ]-----{'_hidden_layers': 3, 'dense_count': 16, '_kernel_initializer': 'glorot_uniform', '_activation': 'relu', '_optimizer': 'Adam', 'batch_normal': True, 'epochs': 10, 'label_class': 3, '_class_cnt': 30}\n",
            "10 2\n",
            "Epoch 1/10\n"
          ]
        },
        {
          "name": "stderr",
          "output_type": "stream",
          "text": [
            "2022-05-30 11:19:31.606310: I tensorflow/core/grappler/optimizers/custom_graph_optimizer_registry.cc:112] Plugin optimizer for device_type GPU is enabled.\n"
          ]
        },
        {
          "name": "stdout",
          "output_type": "stream",
          "text": [
            "1024/1024 [==============================] - ETA: 0s - loss: 0.3083 - accuracy: 0.8594"
          ]
        },
        {
          "name": "stderr",
          "output_type": "stream",
          "text": [
            "2022-05-30 11:19:42.636682: I tensorflow/core/grappler/optimizers/custom_graph_optimizer_registry.cc:112] Plugin optimizer for device_type GPU is enabled.\n"
          ]
        },
        {
          "name": "stdout",
          "output_type": "stream",
          "text": [
            "1024/1024 [==============================] - 12s 11ms/step - loss: 0.3083 - accuracy: 0.8594 - val_loss: 0.3951 - val_accuracy: 0.8116\n",
            "Epoch 2/10\n",
            "1024/1024 [==============================] - 11s 10ms/step - loss: 0.2020 - accuracy: 0.9190 - val_loss: 0.2376 - val_accuracy: 0.9013\n",
            "Epoch 3/10\n",
            "1024/1024 [==============================] - 11s 11ms/step - loss: 0.4075 - accuracy: 0.7497 - val_loss: 1.1189 - val_accuracy: 0.4847\n",
            "Epoch 4/10\n",
            "1024/1024 [==============================] - 11s 11ms/step - loss: 0.6793 - accuracy: 0.5563 - val_loss: 0.6147 - val_accuracy: 0.6429\n",
            "Epoch 5/10\n",
            "1024/1024 [==============================] - 11s 10ms/step - loss: 0.4970 - accuracy: 0.7523 - val_loss: 0.3249 - val_accuracy: 0.8600\n",
            "Epoch 6/10\n",
            "1024/1024 [==============================] - 11s 11ms/step - loss: 0.2996 - accuracy: 0.8703 - val_loss: 0.2643 - val_accuracy: 0.8797\n",
            "Epoch 7/10\n",
            "1024/1024 [==============================] - 11s 11ms/step - loss: 0.2338 - accuracy: 0.9085 - val_loss: 0.1762 - val_accuracy: 0.9249\n",
            "Epoch 8/10\n",
            "1024/1024 [==============================] - 11s 11ms/step - loss: 0.6715 - accuracy: 0.5406 - val_loss: 79.4878 - val_accuracy: 0.4847\n",
            "Epoch 9/10\n",
            "1024/1024 [==============================] - 11s 11ms/step - loss: 0.6926 - accuracy: 0.5200 - val_loss: 22.1704 - val_accuracy: 0.5153\n",
            "Epoch 10/10\n",
            " 671/1024 [==================>...........] - ETA: 3s - loss: 0.6925 - accuracy: 0.5207WARNING:tensorflow:Your input ran out of data; interrupting training. Make sure that your dataset or generator can generate at least `steps_per_epoch * epochs` batches (in this case, 10240 batches). You may need to use the repeat() function when building your dataset.\n",
            "1024/1024 [==============================] - 7s 7ms/step - loss: 0.6925 - accuracy: 0.5210 - val_loss: 46.5013 - val_accuracy: 0.5153\n",
            "INFO:tensorflow:Assets written to: ram://188ddbfc-fc91-4d65-86a8-7eba92eb4134/assets\n",
            "INFO:tensorflow:Assets written to: ram://4e4c091a-7385-409d-a46c-d3dbb4eb48db/assets\n",
            "INFO:tensorflow:Assets written to: ram://76677856-0cd0-4206-b92f-57057782a39d/assets\n",
            "INFO:tensorflow:Assets written to: ram://faa79acb-a226-4418-a1ad-422b6b040368/assets\n",
            "INFO:tensorflow:Assets written to: ram://d1730327-1c87-4fb9-b387-3724f292716d/assets\n",
            "INFO:tensorflow:Assets written to: ram://dba9c613-7c47-4ed4-8623-081f6bde2c39/assets\n",
            "INFO:tensorflow:Assets written to: ram://4467c710-2c9f-401a-be8f-f208aa841e0b/assets\n",
            "INFO:tensorflow:Assets written to: ram://03358804-f111-4cf4-8a6b-58235cab7646/assets\n",
            "INFO:tensorflow:Assets written to: ram://fc3886f0-d2b9-4fbe-a43c-90608dddc659/assets\n",
            "INFO:tensorflow:Assets written to: ram://dbbc511a-9c44-4fea-b5ec-f81f919ad41c/assets\n",
            "INFO:tensorflow:Assets written to: ram://1942b01f-1c37-49fa-92da-3c2ab7b3e9d5/assets\n",
            "INFO:tensorflow:Assets written to: ram://37669215-8137-4726-a57a-1809e74faad0/assets\n",
            "INFO:tensorflow:Assets written to: ram://3bcbb621-de00-449d-a4d8-67c18286391c/assets\n",
            "INFO:tensorflow:Assets written to: ram://439263c6-81a3-4dca-b392-3a280d84c40a/assets\n",
            "INFO:tensorflow:Assets written to: ram://4e331b4b-29b0-4aea-a95e-5af8fed2ab8e/assets\n",
            "INFO:tensorflow:Assets written to: ram://8a4fcd83-669e-49a6-9871-57e56fc2c75f/assets\n",
            "INFO:tensorflow:Assets written to: ram://3ec5f501-fa63-4590-96d9-f251c353be4a/assets\n",
            "INFO:tensorflow:Assets written to: ram://d8304496-b89e-4cd5-a141-54ecd9bc98e8/assets\n",
            "INFO:tensorflow:Assets written to: ram://8fd9fe90-a6d4-475f-b7f3-71c7e9bbaa09/assets\n",
            "INFO:tensorflow:Assets written to: ram://c9c84226-316d-4743-b0cd-d6cf149949ff/assets\n",
            "INFO:tensorflow:Assets written to: ram://2139eaa6-1986-496f-992d-ff249ad2aa80/assets\n",
            "INFO:tensorflow:Assets written to: ram://d564c128-c97c-4be0-b8a9-a9f63e8e00c3/assets\n",
            "INFO:tensorflow:Assets written to: ram://adbf252c-9c18-4959-88a0-b8263e5b6fa3/assets\n",
            "INFO:tensorflow:Assets written to: ram://5d1997d1-195e-49ab-9c3a-f9f37984d8e6/assets\n",
            "INFO:tensorflow:Assets written to: ram://a4b1f64e-6aa9-4ff4-8ba1-208e23e0088b/assets\n",
            "INFO:tensorflow:Assets written to: ram://0c9637d9-f669-47db-824f-81c9976117f9/assets\n",
            "INFO:tensorflow:Assets written to: ram://fc7d3f6b-d881-42be-a99c-84ab408b0e37/assets\n",
            "INFO:tensorflow:Assets written to: ram://b40397c4-08f3-4c4c-b1e7-d7994fcfd8d1/assets\n",
            "INFO:tensorflow:Assets written to: ram://07d6a15a-870b-4187-b20c-2fc09052a31a/assets\n",
            "INFO:tensorflow:Assets written to: ram://6fa16fa6-0295-4a1c-b43a-cd7ec09a4812/assets\n",
            "INFO:tensorflow:Assets written to: ram://cb7c47ee-1030-4465-951b-ca933f143a77/assets\n",
            "INFO:tensorflow:Assets written to: ram://85b43cbd-0089-47f1-8421-f878ed4d5fbe/assets\n",
            "-----[ 0 ]-----{'_hidden_layers': 3, 'dense_count': 8, '_kernel_initializer': 'glorot_uniform', '_activation': 'sigmoid', '_optimizer': 'SGD', 'batch_normal': False, 'epochs': 5, 'label_class': 5, '_class_cnt': 2}\n",
            "5 4\n",
            "Epoch 1/5\n",
            "   5/1024 [..............................] - ETA: 13s - loss: 1.3690 - accuracy: 0.3158 "
          ]
        },
        {
          "name": "stderr",
          "output_type": "stream",
          "text": [
            "2022-05-30 11:21:30.525688: I tensorflow/core/grappler/optimizers/custom_graph_optimizer_registry.cc:112] Plugin optimizer for device_type GPU is enabled.\n"
          ]
        },
        {
          "name": "stdout",
          "output_type": "stream",
          "text": [
            "1013/1024 [============================>.] - ETA: 0s - loss: 1.3166 - accuracy: 0.3019"
          ]
        },
        {
          "name": "stderr",
          "output_type": "stream",
          "text": [
            "2022-05-30 11:21:35.377633: I tensorflow/core/grappler/optimizers/custom_graph_optimizer_registry.cc:112] Plugin optimizer for device_type GPU is enabled.\n"
          ]
        },
        {
          "name": "stdout",
          "output_type": "stream",
          "text": [
            "1024/1024 [==============================] - 5s 5ms/step - loss: 1.3166 - accuracy: 0.3019 - val_loss: 1.3106 - val_accuracy: 0.3071\n",
            "Epoch 2/5\n",
            "1024/1024 [==============================] - 5s 5ms/step - loss: 1.3057 - accuracy: 0.3069 - val_loss: 1.3103 - val_accuracy: 0.3099\n",
            "Epoch 3/5\n",
            "1024/1024 [==============================] - 5s 5ms/step - loss: 1.3074 - accuracy: 0.3121 - val_loss: 1.3105 - val_accuracy: 0.3071\n",
            "Epoch 4/5\n",
            "1024/1024 [==============================] - 5s 5ms/step - loss: 1.3055 - accuracy: 0.3141 - val_loss: 1.3101 - val_accuracy: 0.3720\n",
            "Epoch 5/5\n",
            " 840/1024 [=======================>......] - ETA: 0s - loss: 1.3078 - accuracy: 0.3112WARNING:tensorflow:Your input ran out of data; interrupting training. Make sure that your dataset or generator can generate at least `steps_per_epoch * epochs` batches (in this case, 5120 batches). You may need to use the repeat() function when building your dataset.\n",
            "1024/1024 [==============================] - 4s 4ms/step - loss: 1.3080 - accuracy: 0.3114 - val_loss: 1.3097 - val_accuracy: 0.3099\n",
            "-----[ 1 ]-----{'_hidden_layers': 3, 'dense_count': 8, '_kernel_initializer': 'glorot_uniform', '_activation': 'sigmoid', '_optimizer': 'SGD', 'batch_normal': False, 'epochs': 10, 'label_class': 5, '_class_cnt': 2}\n",
            "10 4\n",
            "Epoch 1/10\n",
            "   7/1024 [..............................] - ETA: 9s - loss: 1.4642 - accuracy: 0.3308  "
          ]
        },
        {
          "name": "stderr",
          "output_type": "stream",
          "text": [
            "2022-05-30 11:21:55.299506: I tensorflow/core/grappler/optimizers/custom_graph_optimizer_registry.cc:112] Plugin optimizer for device_type GPU is enabled.\n"
          ]
        },
        {
          "name": "stdout",
          "output_type": "stream",
          "text": [
            "1013/1024 [============================>.] - ETA: 0s - loss: 1.3203 - accuracy: 0.3028"
          ]
        },
        {
          "name": "stderr",
          "output_type": "stream",
          "text": [
            "2022-05-30 11:22:00.267245: I tensorflow/core/grappler/optimizers/custom_graph_optimizer_registry.cc:112] Plugin optimizer for device_type GPU is enabled.\n"
          ]
        },
        {
          "name": "stdout",
          "output_type": "stream",
          "text": [
            "1024/1024 [==============================] - 6s 5ms/step - loss: 1.3201 - accuracy: 0.3033 - val_loss: 1.3112 - val_accuracy: 0.3099\n",
            "Epoch 2/10\n",
            "1024/1024 [==============================] - 5s 5ms/step - loss: 1.3076 - accuracy: 0.3052 - val_loss: 1.3109 - val_accuracy: 0.3099\n",
            "Epoch 3/10\n",
            "1024/1024 [==============================] - 5s 5ms/step - loss: 1.3063 - accuracy: 0.3062 - val_loss: 1.3106 - val_accuracy: 0.3099\n",
            "Epoch 4/10\n",
            "1024/1024 [==============================] - 5s 5ms/step - loss: 1.3098 - accuracy: 0.3041 - val_loss: 1.3105 - val_accuracy: 0.3099\n",
            "Epoch 5/10\n",
            "1024/1024 [==============================] - 5s 5ms/step - loss: 1.3050 - accuracy: 0.3109 - val_loss: 1.3111 - val_accuracy: 0.3099\n",
            "Epoch 6/10\n",
            "1024/1024 [==============================] - 5s 5ms/step - loss: 1.3082 - accuracy: 0.3029 - val_loss: 1.3105 - val_accuracy: 0.2945\n",
            "Epoch 7/10\n",
            "1024/1024 [==============================] - 5s 5ms/step - loss: 1.3061 - accuracy: 0.3027 - val_loss: 1.3102 - val_accuracy: 0.2920\n",
            "Epoch 8/10\n",
            "1024/1024 [==============================] - 5s 5ms/step - loss: 1.3080 - accuracy: 0.3063 - val_loss: 1.3105 - val_accuracy: 0.3099\n",
            "Epoch 9/10\n",
            "1024/1024 [==============================] - 5s 5ms/step - loss: 1.3070 - accuracy: 0.3084 - val_loss: 1.3099 - val_accuracy: 0.3099\n",
            "Epoch 10/10\n",
            " 671/1024 [==================>...........] - ETA: 1s - loss: 1.3055 - accuracy: 0.2999WARNING:tensorflow:Your input ran out of data; interrupting training. Make sure that your dataset or generator can generate at least `steps_per_epoch * epochs` batches (in this case, 10240 batches). You may need to use the repeat() function when building your dataset.\n",
            "1024/1024 [==============================] - 3s 3ms/step - loss: 1.3056 - accuracy: 0.2998 - val_loss: 1.3102 - val_accuracy: 0.3081\n",
            "-----[ 2 ]-----{'_hidden_layers': 3, 'dense_count': 8, '_kernel_initializer': 'glorot_uniform', '_activation': 'sigmoid', '_optimizer': 'SGD', 'batch_normal': True, 'epochs': 5, 'label_class': 5, '_class_cnt': 2}\n",
            "5 4\n",
            "Epoch 1/5\n"
          ]
        },
        {
          "name": "stderr",
          "output_type": "stream",
          "text": [
            "2022-05-30 11:22:44.848735: I tensorflow/core/grappler/optimizers/custom_graph_optimizer_registry.cc:112] Plugin optimizer for device_type GPU is enabled.\n"
          ]
        },
        {
          "name": "stdout",
          "output_type": "stream",
          "text": [
            "1023/1024 [============================>.] - ETA: 0s - loss: 0.5292 - accuracy: 0.8046"
          ]
        },
        {
          "name": "stderr",
          "output_type": "stream",
          "text": [
            "2022-05-30 11:22:55.392675: I tensorflow/core/grappler/optimizers/custom_graph_optimizer_registry.cc:112] Plugin optimizer for device_type GPU is enabled.\n"
          ]
        },
        {
          "name": "stdout",
          "output_type": "stream",
          "text": [
            "1024/1024 [==============================] - 11s 11ms/step - loss: 0.5290 - accuracy: 0.8046 - val_loss: 0.3834 - val_accuracy: 0.8573\n",
            "Epoch 2/5\n",
            "1024/1024 [==============================] - 10s 10ms/step - loss: 0.3186 - accuracy: 0.8871 - val_loss: 0.2319 - val_accuracy: 0.9288\n",
            "Epoch 3/5\n",
            "1024/1024 [==============================] - 10s 10ms/step - loss: 0.2726 - accuracy: 0.9039 - val_loss: 0.2594 - val_accuracy: 0.9068\n",
            "Epoch 4/5\n",
            "1024/1024 [==============================] - 10s 10ms/step - loss: 0.2477 - accuracy: 0.9121 - val_loss: 0.1617 - val_accuracy: 0.9467\n",
            "Epoch 5/5\n",
            " 849/1024 [=======================>......] - ETA: 1s - loss: 0.2301 - accuracy: 0.9213WARNING:tensorflow:Your input ran out of data; interrupting training. Make sure that your dataset or generator can generate at least `steps_per_epoch * epochs` batches (in this case, 5120 batches). You may need to use the repeat() function when building your dataset.\n",
            "1024/1024 [==============================] - 9s 8ms/step - loss: 0.2301 - accuracy: 0.9213 - val_loss: 0.3485 - val_accuracy: 0.8677\n",
            "-----[ 3 ]-----{'_hidden_layers': 3, 'dense_count': 8, '_kernel_initializer': 'glorot_uniform', '_activation': 'sigmoid', '_optimizer': 'SGD', 'batch_normal': True, 'epochs': 10, 'label_class': 5, '_class_cnt': 2}\n",
            "10 4\n",
            "Epoch 1/10\n"
          ]
        },
        {
          "name": "stderr",
          "output_type": "stream",
          "text": [
            "2022-05-30 11:23:35.834380: I tensorflow/core/grappler/optimizers/custom_graph_optimizer_registry.cc:112] Plugin optimizer for device_type GPU is enabled.\n"
          ]
        },
        {
          "name": "stdout",
          "output_type": "stream",
          "text": [
            "1019/1024 [============================>.] - ETA: 0s - loss: 0.5503 - accuracy: 0.8003"
          ]
        },
        {
          "name": "stderr",
          "output_type": "stream",
          "text": [
            "2022-05-30 11:23:47.591940: I tensorflow/core/grappler/optimizers/custom_graph_optimizer_registry.cc:112] Plugin optimizer for device_type GPU is enabled.\n"
          ]
        },
        {
          "name": "stdout",
          "output_type": "stream",
          "text": [
            "1024/1024 [==============================] - 13s 12ms/step - loss: 0.5497 - accuracy: 0.8005 - val_loss: 0.6813 - val_accuracy: 0.7481\n",
            "Epoch 2/10\n",
            "1024/1024 [==============================] - 10s 10ms/step - loss: 0.3091 - accuracy: 0.8906 - val_loss: 0.4075 - val_accuracy: 0.8443\n",
            "Epoch 3/10\n",
            "1024/1024 [==============================] - 10s 10ms/step - loss: 0.2646 - accuracy: 0.9082 - val_loss: 0.1710 - val_accuracy: 0.9444\n",
            "Epoch 4/10\n",
            "1024/1024 [==============================] - 10s 10ms/step - loss: 0.2382 - accuracy: 0.9183 - val_loss: 0.1854 - val_accuracy: 0.9375\n",
            "Epoch 5/10\n",
            "1024/1024 [==============================] - 10s 10ms/step - loss: 0.2130 - accuracy: 0.9258 - val_loss: 0.2618 - val_accuracy: 0.9098\n",
            "Epoch 6/10\n",
            "1024/1024 [==============================] - 10s 10ms/step - loss: 0.1947 - accuracy: 0.9324 - val_loss: 1.4106 - val_accuracy: 0.5649\n",
            "Epoch 7/10\n",
            "1024/1024 [==============================] - 10s 10ms/step - loss: 0.1958 - accuracy: 0.9318 - val_loss: 0.1821 - val_accuracy: 0.9385\n",
            "Epoch 8/10\n",
            "1024/1024 [==============================] - 10s 10ms/step - loss: 0.1784 - accuracy: 0.9376 - val_loss: 0.1105 - val_accuracy: 0.9652\n",
            "Epoch 9/10\n",
            "1024/1024 [==============================] - 10s 10ms/step - loss: 0.1598 - accuracy: 0.9446 - val_loss: 0.1441 - val_accuracy: 0.9501\n",
            "Epoch 10/10\n",
            " 671/1024 [==================>...........] - ETA: 3s - loss: 0.1655 - accuracy: 0.9432WARNING:tensorflow:Your input ran out of data; interrupting training. Make sure that your dataset or generator can generate at least `steps_per_epoch * epochs` batches (in this case, 10240 batches). You may need to use the repeat() function when building your dataset.\n",
            "1024/1024 [==============================] - 7s 7ms/step - loss: 0.1655 - accuracy: 0.9431 - val_loss: 0.7739 - val_accuracy: 0.7413\n",
            "-----[ 4 ]-----{'_hidden_layers': 3, 'dense_count': 8, '_kernel_initializer': 'glorot_uniform', '_activation': 'sigmoid', '_optimizer': 'Adam', 'batch_normal': False, 'epochs': 5, 'label_class': 5, '_class_cnt': 2}\n",
            "5 4\n",
            "Epoch 1/5\n",
            "   1/1024 [..............................] - ETA: 4:01 - loss: 1.4086 - accuracy: 0.3684"
          ]
        },
        {
          "name": "stderr",
          "output_type": "stream",
          "text": [
            "2022-05-30 11:25:15.781909: I tensorflow/core/grappler/optimizers/custom_graph_optimizer_registry.cc:112] Plugin optimizer for device_type GPU is enabled.\n"
          ]
        },
        {
          "name": "stdout",
          "output_type": "stream",
          "text": [
            "1019/1024 [============================>.] - ETA: 0s - loss: 1.3080 - accuracy: 0.3527"
          ]
        },
        {
          "name": "stderr",
          "output_type": "stream",
          "text": [
            "2022-05-30 11:25:21.422865: I tensorflow/core/grappler/optimizers/custom_graph_optimizer_registry.cc:112] Plugin optimizer for device_type GPU is enabled.\n"
          ]
        },
        {
          "name": "stdout",
          "output_type": "stream",
          "text": [
            "1024/1024 [==============================] - 6s 6ms/step - loss: 1.3077 - accuracy: 0.3538 - val_loss: 1.2349 - val_accuracy: 0.5680\n",
            "Epoch 2/5\n",
            "1024/1024 [==============================] - 6s 6ms/step - loss: 0.9972 - accuracy: 0.5882 - val_loss: 0.8516 - val_accuracy: 0.6581\n",
            "Epoch 3/5\n",
            "1024/1024 [==============================] - 6s 6ms/step - loss: 0.7843 - accuracy: 0.6824 - val_loss: 0.7087 - val_accuracy: 0.7293\n",
            "Epoch 4/5\n",
            "1024/1024 [==============================] - 6s 6ms/step - loss: 0.6542 - accuracy: 0.7501 - val_loss: 0.6097 - val_accuracy: 0.7576\n",
            "Epoch 5/5\n",
            " 849/1024 [=======================>......] - ETA: 0s - loss: 0.5638 - accuracy: 0.7801WARNING:tensorflow:Your input ran out of data; interrupting training. Make sure that your dataset or generator can generate at least `steps_per_epoch * epochs` batches (in this case, 5120 batches). You may need to use the repeat() function when building your dataset.\n",
            "1024/1024 [==============================] - 5s 5ms/step - loss: 0.5638 - accuracy: 0.7801 - val_loss: 0.5168 - val_accuracy: 0.8002\n",
            "-----[ 5 ]-----{'_hidden_layers': 3, 'dense_count': 8, '_kernel_initializer': 'glorot_uniform', '_activation': 'sigmoid', '_optimizer': 'Adam', 'batch_normal': False, 'epochs': 10, 'label_class': 5, '_class_cnt': 2}\n",
            "10 4\n",
            "Epoch 1/10\n",
            "   1/1024 [..............................] - ETA: 4:01 - loss: 1.3361 - accuracy: 0.3684"
          ]
        },
        {
          "name": "stderr",
          "output_type": "stream",
          "text": [
            "2022-05-30 11:25:43.944763: I tensorflow/core/grappler/optimizers/custom_graph_optimizer_registry.cc:112] Plugin optimizer for device_type GPU is enabled.\n"
          ]
        },
        {
          "name": "stdout",
          "output_type": "stream",
          "text": [
            "1020/1024 [============================>.] - ETA: 0s - loss: 1.2332 - accuracy: 0.4109"
          ]
        },
        {
          "name": "stderr",
          "output_type": "stream",
          "text": [
            "2022-05-30 11:25:49.641626: I tensorflow/core/grappler/optimizers/custom_graph_optimizer_registry.cc:112] Plugin optimizer for device_type GPU is enabled.\n"
          ]
        },
        {
          "name": "stdout",
          "output_type": "stream",
          "text": [
            "1024/1024 [==============================] - 6s 6ms/step - loss: 1.2324 - accuracy: 0.4111 - val_loss: 1.0411 - val_accuracy: 0.5354\n",
            "Epoch 2/10\n",
            "1024/1024 [==============================] - 6s 5ms/step - loss: 0.9445 - accuracy: 0.5900 - val_loss: 0.8528 - val_accuracy: 0.6473\n",
            "Epoch 3/10\n",
            "1024/1024 [==============================] - 6s 6ms/step - loss: 0.7946 - accuracy: 0.7006 - val_loss: 0.7653 - val_accuracy: 0.7045\n",
            "Epoch 4/10\n",
            "1024/1024 [==============================] - 6s 6ms/step - loss: 0.6623 - accuracy: 0.7631 - val_loss: 0.6089 - val_accuracy: 0.7886\n",
            "Epoch 5/10\n",
            "1024/1024 [==============================] - 6s 6ms/step - loss: 0.5636 - accuracy: 0.7909 - val_loss: 0.5265 - val_accuracy: 0.7928\n",
            "Epoch 6/10\n",
            "1024/1024 [==============================] - 6s 5ms/step - loss: 0.4871 - accuracy: 0.8193 - val_loss: 0.4287 - val_accuracy: 0.8606\n",
            "Epoch 7/10\n",
            "1024/1024 [==============================] - 6s 6ms/step - loss: 0.3935 - accuracy: 0.8818 - val_loss: 0.3557 - val_accuracy: 0.9017\n",
            "Epoch 8/10\n",
            "1024/1024 [==============================] - 6s 6ms/step - loss: 0.3154 - accuracy: 0.9093 - val_loss: 0.2776 - val_accuracy: 0.9210\n",
            "Epoch 9/10\n",
            "1024/1024 [==============================] - 6s 6ms/step - loss: 0.2523 - accuracy: 0.9277 - val_loss: 0.2508 - val_accuracy: 0.9269\n",
            "Epoch 10/10\n",
            " 666/1024 [==================>...........] - ETA: 1s - loss: 0.2101 - accuracy: 0.9384WARNING:tensorflow:Your input ran out of data; interrupting training. Make sure that your dataset or generator can generate at least `steps_per_epoch * epochs` batches (in this case, 10240 batches). You may need to use the repeat() function when building your dataset.\n",
            "1024/1024 [==============================] - 4s 4ms/step - loss: 0.2112 - accuracy: 0.9378 - val_loss: 0.2080 - val_accuracy: 0.9385\n",
            "-----[ 6 ]-----{'_hidden_layers': 3, 'dense_count': 8, '_kernel_initializer': 'glorot_uniform', '_activation': 'sigmoid', '_optimizer': 'Adam', 'batch_normal': True, 'epochs': 5, 'label_class': 5, '_class_cnt': 2}\n",
            "5 4\n",
            "Epoch 1/5\n"
          ]
        },
        {
          "name": "stderr",
          "output_type": "stream",
          "text": [
            "2022-05-30 11:26:39.690042: I tensorflow/core/grappler/optimizers/custom_graph_optimizer_registry.cc:112] Plugin optimizer for device_type GPU is enabled.\n"
          ]
        },
        {
          "name": "stdout",
          "output_type": "stream",
          "text": [
            "1024/1024 [==============================] - ETA: 0s - loss: 0.4680 - accuracy: 0.8297"
          ]
        },
        {
          "name": "stderr",
          "output_type": "stream",
          "text": [
            "2022-05-30 11:26:51.022360: I tensorflow/core/grappler/optimizers/custom_graph_optimizer_registry.cc:112] Plugin optimizer for device_type GPU is enabled.\n"
          ]
        },
        {
          "name": "stdout",
          "output_type": "stream",
          "text": [
            "1024/1024 [==============================] - 12s 11ms/step - loss: 0.4680 - accuracy: 0.8297 - val_loss: 0.6112 - val_accuracy: 0.7900\n",
            "Epoch 2/5\n",
            "1024/1024 [==============================] - 11s 11ms/step - loss: 0.2838 - accuracy: 0.8997 - val_loss: 0.1909 - val_accuracy: 0.9339\n",
            "Epoch 3/5\n",
            "1024/1024 [==============================] - 11s 11ms/step - loss: 0.2471 - accuracy: 0.9115 - val_loss: 0.3467 - val_accuracy: 0.8852\n",
            "Epoch 4/5\n",
            "1024/1024 [==============================] - 11s 11ms/step - loss: 0.2272 - accuracy: 0.9202 - val_loss: 0.3136 - val_accuracy: 0.8848\n",
            "Epoch 5/5\n",
            " 849/1024 [=======================>......] - ETA: 1s - loss: 0.2085 - accuracy: 0.9260WARNING:tensorflow:Your input ran out of data; interrupting training. Make sure that your dataset or generator can generate at least `steps_per_epoch * epochs` batches (in this case, 5120 batches). You may need to use the repeat() function when building your dataset.\n",
            "1024/1024 [==============================] - 9s 9ms/step - loss: 0.2085 - accuracy: 0.9260 - val_loss: 0.1832 - val_accuracy: 0.9322\n",
            "-----[ 7 ]-----{'_hidden_layers': 3, 'dense_count': 8, '_kernel_initializer': 'glorot_uniform', '_activation': 'sigmoid', '_optimizer': 'Adam', 'batch_normal': True, 'epochs': 10, 'label_class': 5, '_class_cnt': 2}\n",
            "10 4\n",
            "Epoch 1/10\n"
          ]
        },
        {
          "name": "stderr",
          "output_type": "stream",
          "text": [
            "2022-05-30 11:27:34.442978: I tensorflow/core/grappler/optimizers/custom_graph_optimizer_registry.cc:112] Plugin optimizer for device_type GPU is enabled.\n"
          ]
        },
        {
          "name": "stdout",
          "output_type": "stream",
          "text": [
            "1024/1024 [==============================] - ETA: 0s - loss: 0.4934 - accuracy: 0.8215"
          ]
        },
        {
          "name": "stderr",
          "output_type": "stream",
          "text": [
            "2022-05-30 11:27:46.982705: I tensorflow/core/grappler/optimizers/custom_graph_optimizer_registry.cc:112] Plugin optimizer for device_type GPU is enabled.\n"
          ]
        },
        {
          "name": "stdout",
          "output_type": "stream",
          "text": [
            "1024/1024 [==============================] - 13s 13ms/step - loss: 0.4934 - accuracy: 0.8215 - val_loss: 0.2307 - val_accuracy: 0.9304\n",
            "Epoch 2/10\n",
            "1024/1024 [==============================] - 11s 11ms/step - loss: 0.2733 - accuracy: 0.9038 - val_loss: 0.1688 - val_accuracy: 0.9390\n",
            "Epoch 3/10\n",
            "1024/1024 [==============================] - 11s 11ms/step - loss: 0.2339 - accuracy: 0.9158 - val_loss: 0.3932 - val_accuracy: 0.8506\n",
            "Epoch 4/10\n",
            "1024/1024 [==============================] - 11s 11ms/step - loss: 0.2020 - accuracy: 0.9281 - val_loss: 0.1286 - val_accuracy: 0.9589\n",
            "Epoch 5/10\n",
            "1024/1024 [==============================] - 11s 11ms/step - loss: 0.1782 - accuracy: 0.9371 - val_loss: 0.1831 - val_accuracy: 0.9365\n",
            "Epoch 6/10\n",
            "1024/1024 [==============================] - 11s 11ms/step - loss: 0.1658 - accuracy: 0.9417 - val_loss: 0.1218 - val_accuracy: 0.9595\n",
            "Epoch 7/10\n",
            "1024/1024 [==============================] - 11s 11ms/step - loss: 0.1689 - accuracy: 0.9397 - val_loss: 0.1140 - val_accuracy: 0.9636\n",
            "Epoch 8/10\n",
            "1024/1024 [==============================] - 11s 11ms/step - loss: 0.1454 - accuracy: 0.9493 - val_loss: 0.0870 - val_accuracy: 0.9729\n",
            "Epoch 9/10\n",
            "1024/1024 [==============================] - 11s 11ms/step - loss: 0.1423 - accuracy: 0.9502 - val_loss: 0.1306 - val_accuracy: 0.9593\n",
            "Epoch 10/10\n",
            " 674/1024 [==================>...........] - ETA: 3s - loss: 0.1380 - accuracy: 0.9527WARNING:tensorflow:Your input ran out of data; interrupting training. Make sure that your dataset or generator can generate at least `steps_per_epoch * epochs` batches (in this case, 10240 batches). You may need to use the repeat() function when building your dataset.\n",
            "1024/1024 [==============================] - 7s 7ms/step - loss: 0.1380 - accuracy: 0.9527 - val_loss: 0.1387 - val_accuracy: 0.9567\n",
            "-----[ 8 ]-----{'_hidden_layers': 3, 'dense_count': 8, '_kernel_initializer': 'glorot_uniform', '_activation': 'relu', '_optimizer': 'SGD', 'batch_normal': False, 'epochs': 5, 'label_class': 5, '_class_cnt': 2}\n",
            "5 4\n",
            "Epoch 1/5\n",
            "   7/1024 [..............................] - ETA: 9s - loss: 1.3804 - accuracy: 0.3308  "
          ]
        },
        {
          "name": "stderr",
          "output_type": "stream",
          "text": [
            "2022-05-30 11:29:24.056646: I tensorflow/core/grappler/optimizers/custom_graph_optimizer_registry.cc:112] Plugin optimizer for device_type GPU is enabled.\n"
          ]
        },
        {
          "name": "stdout",
          "output_type": "stream",
          "text": [
            "1024/1024 [==============================] - ETA: 0s - loss: 1.2217 - accuracy: 0.3879"
          ]
        },
        {
          "name": "stderr",
          "output_type": "stream",
          "text": [
            "2022-05-30 11:29:29.071430: I tensorflow/core/grappler/optimizers/custom_graph_optimizer_registry.cc:112] Plugin optimizer for device_type GPU is enabled.\n"
          ]
        },
        {
          "name": "stdout",
          "output_type": "stream",
          "text": [
            "1024/1024 [==============================] - 6s 5ms/step - loss: 1.2217 - accuracy: 0.3879 - val_loss: 1.1222 - val_accuracy: 0.4796\n",
            "Epoch 2/5\n",
            "1024/1024 [==============================] - 5s 5ms/step - loss: 1.0021 - accuracy: 0.5491 - val_loss: 0.8698 - val_accuracy: 0.6268\n",
            "Epoch 3/5\n",
            "1024/1024 [==============================] - 6s 6ms/step - loss: 0.8435 - accuracy: 0.6420 - val_loss: 0.7180 - val_accuracy: 0.7019\n",
            "Epoch 4/5\n",
            "1024/1024 [==============================] - 5s 5ms/step - loss: 0.6852 - accuracy: 0.7141 - val_loss: 0.5474 - val_accuracy: 0.7700\n",
            "Epoch 5/5\n",
            " 847/1024 [=======================>......] - ETA: 0s - loss: 0.5617 - accuracy: 0.7700WARNING:tensorflow:Your input ran out of data; interrupting training. Make sure that your dataset or generator can generate at least `steps_per_epoch * epochs` batches (in this case, 5120 batches). You may need to use the repeat() function when building your dataset.\n",
            "1024/1024 [==============================] - 4s 4ms/step - loss: 0.5616 - accuracy: 0.7700 - val_loss: 0.8036 - val_accuracy: 0.6823\n",
            "-----[ 9 ]-----{'_hidden_layers': 3, 'dense_count': 8, '_kernel_initializer': 'glorot_uniform', '_activation': 'relu', '_optimizer': 'SGD', 'batch_normal': False, 'epochs': 10, 'label_class': 5, '_class_cnt': 2}\n",
            "10 4\n",
            "Epoch 1/10\n",
            "   5/1024 [..............................] - ETA: 13s - loss: 1.4057 - accuracy: 0.1053 "
          ]
        },
        {
          "name": "stderr",
          "output_type": "stream",
          "text": [
            "2022-05-30 11:29:50.570471: I tensorflow/core/grappler/optimizers/custom_graph_optimizer_registry.cc:112] Plugin optimizer for device_type GPU is enabled.\n"
          ]
        },
        {
          "name": "stdout",
          "output_type": "stream",
          "text": [
            "1013/1024 [============================>.] - ETA: 0s - loss: 1.2553 - accuracy: 0.4031"
          ]
        },
        {
          "name": "stderr",
          "output_type": "stream",
          "text": [
            "2022-05-30 11:29:55.618640: I tensorflow/core/grappler/optimizers/custom_graph_optimizer_registry.cc:112] Plugin optimizer for device_type GPU is enabled.\n"
          ]
        },
        {
          "name": "stdout",
          "output_type": "stream",
          "text": [
            "1024/1024 [==============================] - 6s 5ms/step - loss: 1.2536 - accuracy: 0.4038 - val_loss: 1.0878 - val_accuracy: 0.5167\n",
            "Epoch 2/10\n",
            "1024/1024 [==============================] - 6s 6ms/step - loss: 0.9329 - accuracy: 0.5981 - val_loss: 0.7607 - val_accuracy: 0.6620\n",
            "Epoch 3/10\n",
            "1024/1024 [==============================] - 5s 5ms/step - loss: 0.6575 - accuracy: 0.7364 - val_loss: 0.5550 - val_accuracy: 0.7792\n",
            "Epoch 4/10\n",
            "1024/1024 [==============================] - 5s 5ms/step - loss: 0.5179 - accuracy: 0.8003 - val_loss: 0.3670 - val_accuracy: 0.8576\n",
            "Epoch 5/10\n",
            "1024/1024 [==============================] - 5s 5ms/step - loss: 0.4049 - accuracy: 0.8487 - val_loss: 0.2443 - val_accuracy: 0.9186\n",
            "Epoch 6/10\n",
            "1024/1024 [==============================] - 5s 5ms/step - loss: 0.2729 - accuracy: 0.9052 - val_loss: 0.2216 - val_accuracy: 0.9186\n",
            "Epoch 7/10\n",
            "1024/1024 [==============================] - 6s 6ms/step - loss: 0.2321 - accuracy: 0.9187 - val_loss: 0.2218 - val_accuracy: 0.9192\n",
            "Epoch 8/10\n",
            "1024/1024 [==============================] - 5s 5ms/step - loss: 0.1962 - accuracy: 0.9310 - val_loss: 0.1864 - val_accuracy: 0.9351\n",
            "Epoch 9/10\n",
            "1024/1024 [==============================] - 5s 5ms/step - loss: 0.1816 - accuracy: 0.9384 - val_loss: 0.1323 - val_accuracy: 0.9562\n",
            "Epoch 10/10\n",
            " 672/1024 [==================>...........] - ETA: 1s - loss: 0.1642 - accuracy: 0.9420WARNING:tensorflow:Your input ran out of data; interrupting training. Make sure that your dataset or generator can generate at least `steps_per_epoch * epochs` batches (in this case, 10240 batches). You may need to use the repeat() function when building your dataset.\n",
            "1024/1024 [==============================] - 3s 3ms/step - loss: 0.1639 - accuracy: 0.9422 - val_loss: 0.1645 - val_accuracy: 0.9400\n",
            "-----[ 10 ]-----{'_hidden_layers': 3, 'dense_count': 8, '_kernel_initializer': 'glorot_uniform', '_activation': 'relu', '_optimizer': 'SGD', 'batch_normal': True, 'epochs': 5, 'label_class': 5, '_class_cnt': 2}\n",
            "5 4\n",
            "Epoch 1/5\n"
          ]
        },
        {
          "name": "stderr",
          "output_type": "stream",
          "text": [
            "2022-05-30 11:30:43.500222: I tensorflow/core/grappler/optimizers/custom_graph_optimizer_registry.cc:112] Plugin optimizer for device_type GPU is enabled.\n"
          ]
        },
        {
          "name": "stdout",
          "output_type": "stream",
          "text": [
            "1023/1024 [============================>.] - ETA: 0s - loss: 0.8867 - accuracy: 0.6464"
          ]
        },
        {
          "name": "stderr",
          "output_type": "stream",
          "text": [
            "2022-05-30 11:30:54.371475: I tensorflow/core/grappler/optimizers/custom_graph_optimizer_registry.cc:112] Plugin optimizer for device_type GPU is enabled.\n"
          ]
        },
        {
          "name": "stdout",
          "output_type": "stream",
          "text": [
            "1024/1024 [==============================] - 12s 11ms/step - loss: 0.8862 - accuracy: 0.6466 - val_loss: 0.4289 - val_accuracy: 0.8512\n",
            "Epoch 2/5\n",
            "1024/1024 [==============================] - 10s 10ms/step - loss: 0.5807 - accuracy: 0.7810 - val_loss: 0.4171 - val_accuracy: 0.8425\n",
            "Epoch 3/5\n",
            "1024/1024 [==============================] - 10s 10ms/step - loss: 0.4946 - accuracy: 0.8127 - val_loss: 0.7568 - val_accuracy: 0.6984\n",
            "Epoch 4/5\n",
            "1024/1024 [==============================] - 10s 10ms/step - loss: 0.6765 - accuracy: 0.7218 - val_loss: 1.4040 - val_accuracy: 0.4178\n",
            "Epoch 5/5\n",
            " 848/1024 [=======================>......] - ETA: 1s - loss: 0.8837 - accuracy: 0.6205WARNING:tensorflow:Your input ran out of data; interrupting training. Make sure that your dataset or generator can generate at least `steps_per_epoch * epochs` batches (in this case, 5120 batches). You may need to use the repeat() function when building your dataset.\n",
            "1024/1024 [==============================] - 9s 8ms/step - loss: 0.8839 - accuracy: 0.6204 - val_loss: 0.7899 - val_accuracy: 0.6557\n",
            "-----[ 11 ]-----{'_hidden_layers': 3, 'dense_count': 8, '_kernel_initializer': 'glorot_uniform', '_activation': 'relu', '_optimizer': 'SGD', 'batch_normal': True, 'epochs': 10, 'label_class': 5, '_class_cnt': 2}\n",
            "10 4\n",
            "Epoch 1/10\n"
          ]
        },
        {
          "name": "stderr",
          "output_type": "stream",
          "text": [
            "2022-05-30 11:31:34.444773: I tensorflow/core/grappler/optimizers/custom_graph_optimizer_registry.cc:112] Plugin optimizer for device_type GPU is enabled.\n"
          ]
        },
        {
          "name": "stdout",
          "output_type": "stream",
          "text": [
            "1022/1024 [============================>.] - ETA: 0s - loss: 0.8446 - accuracy: 0.6600"
          ]
        },
        {
          "name": "stderr",
          "output_type": "stream",
          "text": [
            "2022-05-30 11:31:46.555001: I tensorflow/core/grappler/optimizers/custom_graph_optimizer_registry.cc:112] Plugin optimizer for device_type GPU is enabled.\n"
          ]
        },
        {
          "name": "stdout",
          "output_type": "stream",
          "text": [
            "1024/1024 [==============================] - 13s 12ms/step - loss: 0.8438 - accuracy: 0.6604 - val_loss: 0.6846 - val_accuracy: 0.7481\n",
            "Epoch 2/10\n",
            "1024/1024 [==============================] - 10s 10ms/step - loss: 0.4230 - accuracy: 0.8521 - val_loss: 0.4471 - val_accuracy: 0.8382\n",
            "Epoch 3/10\n",
            "1024/1024 [==============================] - 10s 10ms/step - loss: 0.4252 - accuracy: 0.8470 - val_loss: 1.4641 - val_accuracy: 0.5507\n",
            "Epoch 4/10\n",
            "1024/1024 [==============================] - 11s 11ms/step - loss: 0.4012 - accuracy: 0.8514 - val_loss: 0.2484 - val_accuracy: 0.9149\n",
            "Epoch 5/10\n",
            "1024/1024 [==============================] - 11s 11ms/step - loss: 0.4755 - accuracy: 0.8214 - val_loss: 0.7680 - val_accuracy: 0.7175\n",
            "Epoch 6/10\n",
            "1024/1024 [==============================] - 11s 11ms/step - loss: 0.4173 - accuracy: 0.8446 - val_loss: 1.7741 - val_accuracy: 0.4674\n",
            "Epoch 7/10\n",
            "1024/1024 [==============================] - 12s 12ms/step - loss: 0.3782 - accuracy: 0.8588 - val_loss: 0.8389 - val_accuracy: 0.6465\n",
            "Epoch 8/10\n",
            "1024/1024 [==============================] - 11s 11ms/step - loss: 0.3489 - accuracy: 0.8743 - val_loss: 0.3528 - val_accuracy: 0.8742\n",
            "Epoch 9/10\n",
            "1024/1024 [==============================] - 10s 10ms/step - loss: 0.3569 - accuracy: 0.8694 - val_loss: 1.4956 - val_accuracy: 0.5562\n",
            "Epoch 10/10\n",
            " 670/1024 [==================>...........] - ETA: 3s - loss: 0.3277 - accuracy: 0.8807WARNING:tensorflow:Your input ran out of data; interrupting training. Make sure that your dataset or generator can generate at least `steps_per_epoch * epochs` batches (in this case, 10240 batches). You may need to use the repeat() function when building your dataset.\n",
            "1024/1024 [==============================] - 7s 7ms/step - loss: 0.3277 - accuracy: 0.8807 - val_loss: 0.5447 - val_accuracy: 0.7971\n",
            "-----[ 12 ]-----{'_hidden_layers': 3, 'dense_count': 8, '_kernel_initializer': 'glorot_uniform', '_activation': 'relu', '_optimizer': 'Adam', 'batch_normal': False, 'epochs': 5, 'label_class': 5, '_class_cnt': 2}\n",
            "5 4\n",
            "Epoch 1/5\n",
            "   1/1024 [..............................] - ETA: 4:09 - loss: 1.3831 - accuracy: 0.2105"
          ]
        },
        {
          "name": "stderr",
          "output_type": "stream",
          "text": [
            "2022-05-30 11:33:20.754179: I tensorflow/core/grappler/optimizers/custom_graph_optimizer_registry.cc:112] Plugin optimizer for device_type GPU is enabled.\n"
          ]
        },
        {
          "name": "stdout",
          "output_type": "stream",
          "text": [
            "1019/1024 [============================>.] - ETA: 0s - loss: 0.9084 - accuracy: 0.5909"
          ]
        },
        {
          "name": "stderr",
          "output_type": "stream",
          "text": [
            "2022-05-30 11:33:26.483461: I tensorflow/core/grappler/optimizers/custom_graph_optimizer_registry.cc:112] Plugin optimizer for device_type GPU is enabled.\n"
          ]
        },
        {
          "name": "stdout",
          "output_type": "stream",
          "text": [
            "1024/1024 [==============================] - 6s 6ms/step - loss: 0.9069 - accuracy: 0.5916 - val_loss: 0.6064 - val_accuracy: 0.7479\n",
            "Epoch 2/5\n",
            "1024/1024 [==============================] - 6s 6ms/step - loss: 0.5204 - accuracy: 0.8003 - val_loss: 0.4036 - val_accuracy: 0.8525\n",
            "Epoch 3/5\n",
            "1024/1024 [==============================] - 6s 6ms/step - loss: 0.4007 - accuracy: 0.8527 - val_loss: 0.3293 - val_accuracy: 0.8828\n",
            "Epoch 4/5\n",
            "1024/1024 [==============================] - 6s 6ms/step - loss: 0.3430 - accuracy: 0.8752 - val_loss: 0.2884 - val_accuracy: 0.9003\n",
            "Epoch 5/5\n",
            " 840/1024 [=======================>......] - ETA: 0s - loss: 0.3096 - accuracy: 0.8875WARNING:tensorflow:Your input ran out of data; interrupting training. Make sure that your dataset or generator can generate at least `steps_per_epoch * epochs` batches (in this case, 5120 batches). You may need to use the repeat() function when building your dataset.\n",
            "1024/1024 [==============================] - 5s 5ms/step - loss: 0.3099 - accuracy: 0.8876 - val_loss: 0.4920 - val_accuracy: 0.8120\n",
            "-----[ 13 ]-----{'_hidden_layers': 3, 'dense_count': 8, '_kernel_initializer': 'glorot_uniform', '_activation': 'relu', '_optimizer': 'Adam', 'batch_normal': False, 'epochs': 10, 'label_class': 5, '_class_cnt': 2}\n",
            "10 4\n",
            "Epoch 1/10\n",
            "   1/1024 [..............................] - ETA: 3:59 - loss: 1.3878 - accuracy: 0.2632"
          ]
        },
        {
          "name": "stderr",
          "output_type": "stream",
          "text": [
            "2022-05-30 11:33:49.366972: I tensorflow/core/grappler/optimizers/custom_graph_optimizer_registry.cc:112] Plugin optimizer for device_type GPU is enabled.\n"
          ]
        },
        {
          "name": "stdout",
          "output_type": "stream",
          "text": [
            "1019/1024 [============================>.] - ETA: 0s - loss: 0.9478 - accuracy: 0.5626"
          ]
        },
        {
          "name": "stderr",
          "output_type": "stream",
          "text": [
            "2022-05-30 11:33:55.104554: I tensorflow/core/grappler/optimizers/custom_graph_optimizer_registry.cc:112] Plugin optimizer for device_type GPU is enabled.\n"
          ]
        },
        {
          "name": "stdout",
          "output_type": "stream",
          "text": [
            "1024/1024 [==============================] - 6s 6ms/step - loss: 0.9463 - accuracy: 0.5636 - val_loss: 0.6704 - val_accuracy: 0.7234\n",
            "Epoch 2/10\n",
            "1024/1024 [==============================] - 6s 6ms/step - loss: 0.6158 - accuracy: 0.7467 - val_loss: 0.5196 - val_accuracy: 0.7865\n",
            "Epoch 3/10\n",
            "1024/1024 [==============================] - 6s 6ms/step - loss: 0.4630 - accuracy: 0.8196 - val_loss: 0.3734 - val_accuracy: 0.8551\n",
            "Epoch 4/10\n",
            "1024/1024 [==============================] - 6s 6ms/step - loss: 0.3832 - accuracy: 0.8535 - val_loss: 0.3670 - val_accuracy: 0.8655\n",
            "Epoch 5/10\n",
            "1024/1024 [==============================] - 6s 6ms/step - loss: 0.3410 - accuracy: 0.8720 - val_loss: 0.2872 - val_accuracy: 0.8966\n",
            "Epoch 6/10\n",
            "1024/1024 [==============================] - 6s 6ms/step - loss: 0.3084 - accuracy: 0.8868 - val_loss: 0.2874 - val_accuracy: 0.8962\n",
            "Epoch 7/10\n",
            "1024/1024 [==============================] - 6s 6ms/step - loss: 0.2783 - accuracy: 0.8999 - val_loss: 0.2324 - val_accuracy: 0.9186\n",
            "Epoch 8/10\n",
            "1024/1024 [==============================] - 6s 6ms/step - loss: 0.2439 - accuracy: 0.9126 - val_loss: 0.2463 - val_accuracy: 0.9101\n",
            "Epoch 9/10\n",
            "1024/1024 [==============================] - 6s 6ms/step - loss: 0.2207 - accuracy: 0.9189 - val_loss: 0.1781 - val_accuracy: 0.9398\n",
            "Epoch 10/10\n",
            " 671/1024 [==================>...........] - ETA: 1s - loss: 0.1860 - accuracy: 0.9329WARNING:tensorflow:Your input ran out of data; interrupting training. Make sure that your dataset or generator can generate at least `steps_per_epoch * epochs` batches (in this case, 10240 batches). You may need to use the repeat() function when building your dataset.\n",
            "1024/1024 [==============================] - 4s 4ms/step - loss: 0.1859 - accuracy: 0.9328 - val_loss: 0.1916 - val_accuracy: 0.9355\n",
            "-----[ 14 ]-----{'_hidden_layers': 3, 'dense_count': 8, '_kernel_initializer': 'glorot_uniform', '_activation': 'relu', '_optimizer': 'Adam', 'batch_normal': True, 'epochs': 5, 'label_class': 5, '_class_cnt': 2}\n",
            "5 4\n",
            "Epoch 1/5\n"
          ]
        },
        {
          "name": "stderr",
          "output_type": "stream",
          "text": [
            "2022-05-30 11:34:46.088464: I tensorflow/core/grappler/optimizers/custom_graph_optimizer_registry.cc:112] Plugin optimizer for device_type GPU is enabled.\n"
          ]
        },
        {
          "name": "stdout",
          "output_type": "stream",
          "text": [
            "1024/1024 [==============================] - ETA: 0s - loss: 0.8138 - accuracy: 0.6693"
          ]
        },
        {
          "name": "stderr",
          "output_type": "stream",
          "text": [
            "2022-05-30 11:34:57.694064: I tensorflow/core/grappler/optimizers/custom_graph_optimizer_registry.cc:112] Plugin optimizer for device_type GPU is enabled.\n"
          ]
        },
        {
          "name": "stdout",
          "output_type": "stream",
          "text": [
            "1024/1024 [==============================] - 13s 12ms/step - loss: 0.8138 - accuracy: 0.6693 - val_loss: 0.5410 - val_accuracy: 0.8014\n",
            "Epoch 2/5\n",
            "1024/1024 [==============================] - 11s 11ms/step - loss: 0.4462 - accuracy: 0.8397 - val_loss: 0.6569 - val_accuracy: 0.7584\n",
            "Epoch 3/5\n",
            "1024/1024 [==============================] - 12s 11ms/step - loss: 0.3355 - accuracy: 0.8813 - val_loss: 0.2323 - val_accuracy: 0.9170\n",
            "Epoch 4/5\n",
            "1024/1024 [==============================] - 11s 11ms/step - loss: 0.3147 - accuracy: 0.8885 - val_loss: 1.8191 - val_accuracy: 0.6229\n",
            "Epoch 5/5\n",
            " 849/1024 [=======================>......] - ETA: 1s - loss: 0.5557 - accuracy: 0.7806WARNING:tensorflow:Your input ran out of data; interrupting training. Make sure that your dataset or generator can generate at least `steps_per_epoch * epochs` batches (in this case, 5120 batches). You may need to use the repeat() function when building your dataset.\n",
            "1024/1024 [==============================] - 9s 9ms/step - loss: 0.5557 - accuracy: 0.7806 - val_loss: 0.5460 - val_accuracy: 0.7707\n",
            "-----[ 15 ]-----{'_hidden_layers': 3, 'dense_count': 8, '_kernel_initializer': 'glorot_uniform', '_activation': 'relu', '_optimizer': 'Adam', 'batch_normal': True, 'epochs': 10, 'label_class': 5, '_class_cnt': 2}\n",
            "10 4\n",
            "Epoch 1/10\n"
          ]
        },
        {
          "name": "stderr",
          "output_type": "stream",
          "text": [
            "2022-05-30 11:35:42.099485: I tensorflow/core/grappler/optimizers/custom_graph_optimizer_registry.cc:112] Plugin optimizer for device_type GPU is enabled.\n"
          ]
        },
        {
          "name": "stdout",
          "output_type": "stream",
          "text": [
            "1023/1024 [============================>.] - ETA: 0s - loss: 0.7411 - accuracy: 0.7013"
          ]
        },
        {
          "name": "stderr",
          "output_type": "stream",
          "text": [
            "2022-05-30 11:35:55.046991: I tensorflow/core/grappler/optimizers/custom_graph_optimizer_registry.cc:112] Plugin optimizer for device_type GPU is enabled.\n"
          ]
        },
        {
          "name": "stdout",
          "output_type": "stream",
          "text": [
            "1024/1024 [==============================] - 14s 13ms/step - loss: 0.7408 - accuracy: 0.7015 - val_loss: 0.7608 - val_accuracy: 0.7350\n",
            "Epoch 2/10\n",
            "1024/1024 [==============================] - 11s 11ms/step - loss: 0.3553 - accuracy: 0.8720 - val_loss: 0.2903 - val_accuracy: 0.9054\n",
            "Epoch 3/10\n",
            "1024/1024 [==============================] - 12s 11ms/step - loss: 0.3031 - accuracy: 0.8899 - val_loss: 0.2515 - val_accuracy: 0.9068\n",
            "Epoch 4/10\n",
            "1024/1024 [==============================] - 11s 11ms/step - loss: 0.2775 - accuracy: 0.8993 - val_loss: 0.1777 - val_accuracy: 0.9410\n",
            "Epoch 5/10\n",
            "1024/1024 [==============================] - 11s 11ms/step - loss: 0.2579 - accuracy: 0.9084 - val_loss: 0.1371 - val_accuracy: 0.9569\n",
            "Epoch 6/10\n",
            "1024/1024 [==============================] - 12s 12ms/step - loss: 0.2643 - accuracy: 0.9060 - val_loss: 0.2320 - val_accuracy: 0.9149\n",
            "Epoch 7/10\n",
            "1024/1024 [==============================] - 11s 11ms/step - loss: 0.2318 - accuracy: 0.9167 - val_loss: 0.2253 - val_accuracy: 0.9180\n",
            "Epoch 8/10\n",
            "1024/1024 [==============================] - 11s 11ms/step - loss: 0.2213 - accuracy: 0.9216 - val_loss: 0.2246 - val_accuracy: 0.9241\n",
            "Epoch 9/10\n",
            "1024/1024 [==============================] - 11s 11ms/step - loss: 0.2037 - accuracy: 0.9267 - val_loss: 0.1547 - val_accuracy: 0.9469\n",
            "Epoch 10/10\n",
            " 671/1024 [==================>...........] - ETA: 3s - loss: 0.2123 - accuracy: 0.9238WARNING:tensorflow:Your input ran out of data; interrupting training. Make sure that your dataset or generator can generate at least `steps_per_epoch * epochs` batches (in this case, 10240 batches). You may need to use the repeat() function when building your dataset.\n",
            "1024/1024 [==============================] - 8s 8ms/step - loss: 0.2128 - accuracy: 0.9235 - val_loss: 0.1563 - val_accuracy: 0.9512\n",
            "-----[ 16 ]-----{'_hidden_layers': 3, 'dense_count': 16, '_kernel_initializer': 'glorot_uniform', '_activation': 'sigmoid', '_optimizer': 'SGD', 'batch_normal': False, 'epochs': 5, 'label_class': 5, '_class_cnt': 2}\n",
            "5 4\n",
            "Epoch 1/5\n",
            "   1/1024 [..............................] - ETA: 3:51 - loss: 1.3764 - accuracy: 0.3158"
          ]
        },
        {
          "name": "stderr",
          "output_type": "stream",
          "text": [
            "2022-05-30 11:37:34.158468: I tensorflow/core/grappler/optimizers/custom_graph_optimizer_registry.cc:112] Plugin optimizer for device_type GPU is enabled.\n"
          ]
        },
        {
          "name": "stdout",
          "output_type": "stream",
          "text": [
            "1024/1024 [==============================] - ETA: 0s - loss: 1.3180 - accuracy: 0.3074"
          ]
        },
        {
          "name": "stderr",
          "output_type": "stream",
          "text": [
            "2022-05-30 11:37:39.184956: I tensorflow/core/grappler/optimizers/custom_graph_optimizer_registry.cc:112] Plugin optimizer for device_type GPU is enabled.\n"
          ]
        },
        {
          "name": "stdout",
          "output_type": "stream",
          "text": [
            "1024/1024 [==============================] - 6s 5ms/step - loss: 1.3180 - accuracy: 0.3074 - val_loss: 1.3105 - val_accuracy: 0.3099\n",
            "Epoch 2/5\n",
            "1024/1024 [==============================] - 6s 5ms/step - loss: 1.3061 - accuracy: 0.3108 - val_loss: 1.3109 - val_accuracy: 0.3099\n",
            "Epoch 3/5\n",
            "1024/1024 [==============================] - 5s 5ms/step - loss: 1.3071 - accuracy: 0.3157 - val_loss: 1.3103 - val_accuracy: 0.3099\n",
            "Epoch 4/5\n",
            "1024/1024 [==============================] - 5s 5ms/step - loss: 1.3063 - accuracy: 0.3183 - val_loss: 1.3099 - val_accuracy: 0.3071\n",
            "Epoch 5/5\n",
            " 842/1024 [=======================>......] - ETA: 0s - loss: 1.3055 - accuracy: 0.3176WARNING:tensorflow:Your input ran out of data; interrupting training. Make sure that your dataset or generator can generate at least `steps_per_epoch * epochs` batches (in this case, 5120 batches). You may need to use the repeat() function when building your dataset.\n",
            "1024/1024 [==============================] - 4s 4ms/step - loss: 1.3056 - accuracy: 0.3176 - val_loss: 1.3090 - val_accuracy: 0.3099\n",
            "-----[ 17 ]-----{'_hidden_layers': 3, 'dense_count': 16, '_kernel_initializer': 'glorot_uniform', '_activation': 'sigmoid', '_optimizer': 'SGD', 'batch_normal': False, 'epochs': 10, 'label_class': 5, '_class_cnt': 2}\n",
            "10 4\n",
            "Epoch 1/10\n",
            "   7/1024 [..............................] - ETA: 9s - loss: 1.3677 - accuracy: 0.3383  "
          ]
        },
        {
          "name": "stderr",
          "output_type": "stream",
          "text": [
            "2022-05-30 11:38:00.232325: I tensorflow/core/grappler/optimizers/custom_graph_optimizer_registry.cc:112] Plugin optimizer for device_type GPU is enabled.\n"
          ]
        },
        {
          "name": "stdout",
          "output_type": "stream",
          "text": [
            "1019/1024 [============================>.] - ETA: 0s - loss: 1.3106 - accuracy: 0.3050"
          ]
        },
        {
          "name": "stderr",
          "output_type": "stream",
          "text": [
            "2022-05-30 11:38:05.393647: I tensorflow/core/grappler/optimizers/custom_graph_optimizer_registry.cc:112] Plugin optimizer for device_type GPU is enabled.\n"
          ]
        },
        {
          "name": "stdout",
          "output_type": "stream",
          "text": [
            "1024/1024 [==============================] - 6s 6ms/step - loss: 1.3108 - accuracy: 0.3051 - val_loss: 1.3113 - val_accuracy: 0.3099\n",
            "Epoch 2/10\n",
            "1024/1024 [==============================] - 5s 5ms/step - loss: 1.3083 - accuracy: 0.3108 - val_loss: 1.3110 - val_accuracy: 0.3099\n",
            "Epoch 3/10\n",
            "1024/1024 [==============================] - 5s 5ms/step - loss: 1.3071 - accuracy: 0.3108 - val_loss: 1.3133 - val_accuracy: 0.3099\n",
            "Epoch 4/10\n",
            "1024/1024 [==============================] - 5s 5ms/step - loss: 1.3079 - accuracy: 0.3061 - val_loss: 1.3105 - val_accuracy: 0.3099\n",
            "Epoch 5/10\n",
            "1024/1024 [==============================] - 5s 5ms/step - loss: 1.3066 - accuracy: 0.3050 - val_loss: 1.3107 - val_accuracy: 0.3099\n",
            "Epoch 6/10\n",
            "1024/1024 [==============================] - 5s 5ms/step - loss: 1.3074 - accuracy: 0.3089 - val_loss: 1.3105 - val_accuracy: 0.3099\n",
            "Epoch 7/10\n",
            "1024/1024 [==============================] - 6s 6ms/step - loss: 1.3067 - accuracy: 0.3141 - val_loss: 1.3111 - val_accuracy: 0.3071\n",
            "Epoch 8/10\n",
            "1024/1024 [==============================] - 5s 5ms/step - loss: 1.3096 - accuracy: 0.3051 - val_loss: 1.3107 - val_accuracy: 0.3081\n",
            "Epoch 9/10\n",
            "1024/1024 [==============================] - 5s 5ms/step - loss: 1.3070 - accuracy: 0.3108 - val_loss: 1.3107 - val_accuracy: 0.3099\n",
            "Epoch 10/10\n",
            " 669/1024 [==================>...........] - ETA: 1s - loss: 1.3044 - accuracy: 0.3116WARNING:tensorflow:Your input ran out of data; interrupting training. Make sure that your dataset or generator can generate at least `steps_per_epoch * epochs` batches (in this case, 10240 batches). You may need to use the repeat() function when building your dataset.\n",
            "1024/1024 [==============================] - 3s 3ms/step - loss: 1.3044 - accuracy: 0.3121 - val_loss: 1.3100 - val_accuracy: 0.3099\n",
            "-----[ 18 ]-----{'_hidden_layers': 3, 'dense_count': 16, '_kernel_initializer': 'glorot_uniform', '_activation': 'sigmoid', '_optimizer': 'SGD', 'batch_normal': True, 'epochs': 5, 'label_class': 5, '_class_cnt': 2}\n",
            "5 4\n",
            "Epoch 1/5\n"
          ]
        },
        {
          "name": "stderr",
          "output_type": "stream",
          "text": [
            "2022-05-30 11:38:52.219174: I tensorflow/core/grappler/optimizers/custom_graph_optimizer_registry.cc:112] Plugin optimizer for device_type GPU is enabled.\n"
          ]
        },
        {
          "name": "stdout",
          "output_type": "stream",
          "text": [
            "1021/1024 [============================>.] - ETA: 0s - loss: 0.4711 - accuracy: 0.8286"
          ]
        },
        {
          "name": "stderr",
          "output_type": "stream",
          "text": [
            "2022-05-30 11:39:03.347211: I tensorflow/core/grappler/optimizers/custom_graph_optimizer_registry.cc:112] Plugin optimizer for device_type GPU is enabled.\n"
          ]
        },
        {
          "name": "stdout",
          "output_type": "stream",
          "text": [
            "1024/1024 [==============================] - 12s 11ms/step - loss: 0.4703 - accuracy: 0.8290 - val_loss: 0.8214 - val_accuracy: 0.7336\n",
            "Epoch 2/5\n",
            "1024/1024 [==============================] - 10s 10ms/step - loss: 0.2868 - accuracy: 0.8997 - val_loss: 0.3844 - val_accuracy: 0.8653\n",
            "Epoch 3/5\n",
            "1024/1024 [==============================] - 11s 10ms/step - loss: 0.2410 - accuracy: 0.9133 - val_loss: 0.2861 - val_accuracy: 0.8991\n",
            "Epoch 4/5\n",
            "1024/1024 [==============================] - 10s 10ms/step - loss: 0.2173 - accuracy: 0.9230 - val_loss: 0.1286 - val_accuracy: 0.9621\n",
            "Epoch 5/5\n",
            " 847/1024 [=======================>......] - ETA: 1s - loss: 0.2001 - accuracy: 0.9300WARNING:tensorflow:Your input ran out of data; interrupting training. Make sure that your dataset or generator can generate at least `steps_per_epoch * epochs` batches (in this case, 5120 batches). You may need to use the repeat() function when building your dataset.\n",
            "1024/1024 [==============================] - 8s 8ms/step - loss: 0.2000 - accuracy: 0.9301 - val_loss: 0.3285 - val_accuracy: 0.8759\n",
            "-----[ 19 ]-----{'_hidden_layers': 3, 'dense_count': 16, '_kernel_initializer': 'glorot_uniform', '_activation': 'sigmoid', '_optimizer': 'SGD', 'batch_normal': True, 'epochs': 10, 'label_class': 5, '_class_cnt': 2}\n",
            "10 4\n",
            "Epoch 1/10\n"
          ]
        },
        {
          "name": "stderr",
          "output_type": "stream",
          "text": [
            "2022-05-30 11:39:44.915353: I tensorflow/core/grappler/optimizers/custom_graph_optimizer_registry.cc:112] Plugin optimizer for device_type GPU is enabled.\n"
          ]
        },
        {
          "name": "stdout",
          "output_type": "stream",
          "text": [
            "1019/1024 [============================>.] - ETA: 0s - loss: 0.4965 - accuracy: 0.8134"
          ]
        },
        {
          "name": "stderr",
          "output_type": "stream",
          "text": [
            "2022-05-30 11:39:56.720115: I tensorflow/core/grappler/optimizers/custom_graph_optimizer_registry.cc:112] Plugin optimizer for device_type GPU is enabled.\n"
          ]
        },
        {
          "name": "stdout",
          "output_type": "stream",
          "text": [
            "1024/1024 [==============================] - 14s 12ms/step - loss: 0.4959 - accuracy: 0.8137 - val_loss: 0.2352 - val_accuracy: 0.9267\n",
            "Epoch 2/10\n",
            "1024/1024 [==============================] - 10s 10ms/step - loss: 0.2958 - accuracy: 0.8952 - val_loss: 0.2911 - val_accuracy: 0.9031\n",
            "Epoch 3/10\n",
            "1024/1024 [==============================] - 10s 10ms/step - loss: 0.2442 - accuracy: 0.9132 - val_loss: 0.1772 - val_accuracy: 0.9434\n",
            "Epoch 4/10\n",
            "1024/1024 [==============================] - 10s 10ms/step - loss: 0.2208 - accuracy: 0.9238 - val_loss: 0.1420 - val_accuracy: 0.9544\n",
            "Epoch 5/10\n",
            "1024/1024 [==============================] - 10s 10ms/step - loss: 0.2058 - accuracy: 0.9280 - val_loss: 0.1682 - val_accuracy: 0.9418\n",
            "Epoch 6/10\n",
            "1024/1024 [==============================] - 10s 10ms/step - loss: 0.1860 - accuracy: 0.9351 - val_loss: 0.2171 - val_accuracy: 0.9204\n",
            "Epoch 7/10\n",
            "1024/1024 [==============================] - 10s 10ms/step - loss: 0.1692 - accuracy: 0.9415 - val_loss: 0.0980 - val_accuracy: 0.9693\n",
            "Epoch 8/10\n",
            "1024/1024 [==============================] - 10s 10ms/step - loss: 0.1633 - accuracy: 0.9430 - val_loss: 0.1255 - val_accuracy: 0.9589\n",
            "Epoch 9/10\n",
            "1024/1024 [==============================] - 10s 10ms/step - loss: 0.1547 - accuracy: 0.9448 - val_loss: 0.3264 - val_accuracy: 0.8773\n",
            "Epoch 10/10\n",
            " 671/1024 [==================>...........] - ETA: 3s - loss: 0.1362 - accuracy: 0.9533WARNING:tensorflow:Your input ran out of data; interrupting training. Make sure that your dataset or generator can generate at least `steps_per_epoch * epochs` batches (in this case, 10240 batches). You may need to use the repeat() function when building your dataset.\n",
            "1024/1024 [==============================] - 7s 7ms/step - loss: 0.1366 - accuracy: 0.9532 - val_loss: 0.3766 - val_accuracy: 0.8824\n",
            "-----[ 20 ]-----{'_hidden_layers': 3, 'dense_count': 16, '_kernel_initializer': 'glorot_uniform', '_activation': 'sigmoid', '_optimizer': 'Adam', 'batch_normal': False, 'epochs': 5, 'label_class': 5, '_class_cnt': 2}\n",
            "5 4\n",
            "Epoch 1/5\n",
            "   1/1024 [..............................] - ETA: 4:52 - loss: 1.5098 - accuracy: 0.1053"
          ]
        },
        {
          "name": "stderr",
          "output_type": "stream",
          "text": [
            "2022-05-30 11:41:24.163178: I tensorflow/core/grappler/optimizers/custom_graph_optimizer_registry.cc:112] Plugin optimizer for device_type GPU is enabled.\n"
          ]
        },
        {
          "name": "stdout",
          "output_type": "stream",
          "text": [
            "1016/1024 [============================>.] - ETA: 0s - loss: 1.1297 - accuracy: 0.4782"
          ]
        },
        {
          "name": "stderr",
          "output_type": "stream",
          "text": [
            "2022-05-30 11:41:29.831326: I tensorflow/core/grappler/optimizers/custom_graph_optimizer_registry.cc:112] Plugin optimizer for device_type GPU is enabled.\n"
          ]
        },
        {
          "name": "stdout",
          "output_type": "stream",
          "text": [
            "1024/1024 [==============================] - 6s 6ms/step - loss: 1.1273 - accuracy: 0.4797 - val_loss: 0.8794 - val_accuracy: 0.6355\n",
            "Epoch 2/5\n",
            "1024/1024 [==============================] - 6s 6ms/step - loss: 0.8146 - accuracy: 0.6259 - val_loss: 0.7747 - val_accuracy: 0.6630\n",
            "Epoch 3/5\n",
            "1024/1024 [==============================] - 6s 6ms/step - loss: 0.6755 - accuracy: 0.7241 - val_loss: 0.5418 - val_accuracy: 0.8136\n",
            "Epoch 4/5\n",
            "1024/1024 [==============================] - 6s 6ms/step - loss: 0.4513 - accuracy: 0.8415 - val_loss: 0.3385 - val_accuracy: 0.8887\n",
            "Epoch 5/5\n",
            " 842/1024 [=======================>......] - ETA: 0s - loss: 0.3167 - accuracy: 0.8918WARNING:tensorflow:Your input ran out of data; interrupting training. Make sure that your dataset or generator can generate at least `steps_per_epoch * epochs` batches (in this case, 5120 batches). You may need to use the repeat() function when building your dataset.\n",
            "1024/1024 [==============================] - 5s 5ms/step - loss: 0.3160 - accuracy: 0.8920 - val_loss: 0.2706 - val_accuracy: 0.9113\n",
            "-----[ 21 ]-----{'_hidden_layers': 3, 'dense_count': 16, '_kernel_initializer': 'glorot_uniform', '_activation': 'sigmoid', '_optimizer': 'Adam', 'batch_normal': False, 'epochs': 10, 'label_class': 5, '_class_cnt': 2}\n",
            "10 4\n",
            "Epoch 1/10\n",
            "   5/1024 [..............................] - ETA: 14s - loss: 1.4726 - accuracy: 0.2316     "
          ]
        },
        {
          "name": "stderr",
          "output_type": "stream",
          "text": [
            "2022-05-30 11:41:52.445663: I tensorflow/core/grappler/optimizers/custom_graph_optimizer_registry.cc:112] Plugin optimizer for device_type GPU is enabled.\n"
          ]
        },
        {
          "name": "stdout",
          "output_type": "stream",
          "text": [
            "1019/1024 [============================>.] - ETA: 0s - loss: 1.1423 - accuracy: 0.5014"
          ]
        },
        {
          "name": "stderr",
          "output_type": "stream",
          "text": [
            "2022-05-30 11:41:58.144692: I tensorflow/core/grappler/optimizers/custom_graph_optimizer_registry.cc:112] Plugin optimizer for device_type GPU is enabled.\n"
          ]
        },
        {
          "name": "stdout",
          "output_type": "stream",
          "text": [
            "1024/1024 [==============================] - 6s 6ms/step - loss: 1.1404 - accuracy: 0.5027 - val_loss: 0.7742 - val_accuracy: 0.7493\n",
            "Epoch 2/10\n",
            "1024/1024 [==============================] - 6s 6ms/step - loss: 0.5869 - accuracy: 0.7970 - val_loss: 0.4355 - val_accuracy: 0.8398\n",
            "Epoch 3/10\n",
            "1024/1024 [==============================] - 6s 6ms/step - loss: 0.4078 - accuracy: 0.8465 - val_loss: 0.3609 - val_accuracy: 0.8561\n",
            "Epoch 4/10\n",
            "1024/1024 [==============================] - 6s 6ms/step - loss: 0.3386 - accuracy: 0.8714 - val_loss: 0.2927 - val_accuracy: 0.8895\n",
            "Epoch 5/10\n",
            "1024/1024 [==============================] - 6s 6ms/step - loss: 0.2951 - accuracy: 0.8945 - val_loss: 0.2602 - val_accuracy: 0.9052\n",
            "Epoch 6/10\n",
            "1024/1024 [==============================] - 6s 6ms/step - loss: 0.2517 - accuracy: 0.9109 - val_loss: 0.2293 - val_accuracy: 0.9243\n",
            "Epoch 7/10\n",
            "1024/1024 [==============================] - 6s 6ms/step - loss: 0.2199 - accuracy: 0.9257 - val_loss: 0.2778 - val_accuracy: 0.9050\n",
            "Epoch 8/10\n",
            "1024/1024 [==============================] - 6s 5ms/step - loss: 0.1845 - accuracy: 0.9400 - val_loss: 0.1677 - val_accuracy: 0.9487\n",
            "Epoch 9/10\n",
            "1024/1024 [==============================] - 6s 6ms/step - loss: 0.1526 - accuracy: 0.9517 - val_loss: 0.1570 - val_accuracy: 0.9528\n",
            "Epoch 10/10\n",
            " 674/1024 [==================>...........] - ETA: 1s - loss: 0.1355 - accuracy: 0.9577WARNING:tensorflow:Your input ran out of data; interrupting training. Make sure that your dataset or generator can generate at least `steps_per_epoch * epochs` batches (in this case, 10240 batches). You may need to use the repeat() function when building your dataset.\n",
            "1024/1024 [==============================] - 4s 4ms/step - loss: 0.1355 - accuracy: 0.9577 - val_loss: 0.1439 - val_accuracy: 0.9552\n",
            "-----[ 22 ]-----{'_hidden_layers': 3, 'dense_count': 16, '_kernel_initializer': 'glorot_uniform', '_activation': 'sigmoid', '_optimizer': 'Adam', 'batch_normal': True, 'epochs': 5, 'label_class': 5, '_class_cnt': 2}\n",
            "5 4\n",
            "Epoch 1/5\n"
          ]
        },
        {
          "name": "stderr",
          "output_type": "stream",
          "text": [
            "2022-05-30 11:42:48.475113: I tensorflow/core/grappler/optimizers/custom_graph_optimizer_registry.cc:112] Plugin optimizer for device_type GPU is enabled.\n"
          ]
        },
        {
          "name": "stdout",
          "output_type": "stream",
          "text": [
            "1024/1024 [==============================] - ETA: 0s - loss: 0.4438 - accuracy: 0.8338"
          ]
        },
        {
          "name": "stderr",
          "output_type": "stream",
          "text": [
            "2022-05-30 11:42:59.997590: I tensorflow/core/grappler/optimizers/custom_graph_optimizer_registry.cc:112] Plugin optimizer for device_type GPU is enabled.\n"
          ]
        },
        {
          "name": "stdout",
          "output_type": "stream",
          "text": [
            "1024/1024 [==============================] - 13s 12ms/step - loss: 0.4438 - accuracy: 0.8338 - val_loss: 0.8802 - val_accuracy: 0.6787\n",
            "Epoch 2/5\n",
            "1024/1024 [==============================] - 11s 11ms/step - loss: 0.2528 - accuracy: 0.9094 - val_loss: 0.1441 - val_accuracy: 0.9532\n",
            "Epoch 3/5\n",
            "1024/1024 [==============================] - 11s 11ms/step - loss: 0.2016 - accuracy: 0.9296 - val_loss: 0.2521 - val_accuracy: 0.9072\n",
            "Epoch 4/5\n",
            "1024/1024 [==============================] - 11s 11ms/step - loss: 0.1717 - accuracy: 0.9403 - val_loss: 0.0993 - val_accuracy: 0.9685\n",
            "Epoch 5/5\n",
            " 846/1024 [=======================>......] - ETA: 1s - loss: 0.1571 - accuracy: 0.9464WARNING:tensorflow:Your input ran out of data; interrupting training. Make sure that your dataset or generator can generate at least `steps_per_epoch * epochs` batches (in this case, 5120 batches). You may need to use the repeat() function when building your dataset.\n",
            "1024/1024 [==============================] - 9s 9ms/step - loss: 0.1572 - accuracy: 0.9464 - val_loss: 0.2662 - val_accuracy: 0.9019\n",
            "-----[ 23 ]-----{'_hidden_layers': 3, 'dense_count': 16, '_kernel_initializer': 'glorot_uniform', '_activation': 'sigmoid', '_optimizer': 'Adam', 'batch_normal': True, 'epochs': 10, 'label_class': 5, '_class_cnt': 2}\n",
            "10 4\n",
            "Epoch 1/10\n"
          ]
        },
        {
          "name": "stderr",
          "output_type": "stream",
          "text": [
            "2022-05-30 11:43:43.333124: I tensorflow/core/grappler/optimizers/custom_graph_optimizer_registry.cc:112] Plugin optimizer for device_type GPU is enabled.\n"
          ]
        },
        {
          "name": "stdout",
          "output_type": "stream",
          "text": [
            "1023/1024 [============================>.] - ETA: 0s - loss: 0.4286 - accuracy: 0.8418"
          ]
        },
        {
          "name": "stderr",
          "output_type": "stream",
          "text": [
            "2022-05-30 11:43:55.832571: I tensorflow/core/grappler/optimizers/custom_graph_optimizer_registry.cc:112] Plugin optimizer for device_type GPU is enabled.\n"
          ]
        },
        {
          "name": "stdout",
          "output_type": "stream",
          "text": [
            "1024/1024 [==============================] - 14s 13ms/step - loss: 0.4286 - accuracy: 0.8418 - val_loss: 0.5488 - val_accuracy: 0.8276\n",
            "Epoch 2/10\n",
            "1024/1024 [==============================] - 11s 11ms/step - loss: 0.2426 - accuracy: 0.9143 - val_loss: 0.5300 - val_accuracy: 0.8101\n",
            "Epoch 3/10\n",
            "1024/1024 [==============================] - 11s 11ms/step - loss: 0.1998 - accuracy: 0.9295 - val_loss: 0.2533 - val_accuracy: 0.9037\n",
            "Epoch 4/10\n",
            "1024/1024 [==============================] - 11s 11ms/step - loss: 0.1689 - accuracy: 0.9397 - val_loss: 0.0907 - val_accuracy: 0.9748\n",
            "Epoch 5/10\n",
            "1024/1024 [==============================] - 11s 11ms/step - loss: 0.1430 - accuracy: 0.9491 - val_loss: 0.0819 - val_accuracy: 0.9740\n",
            "Epoch 6/10\n",
            "1024/1024 [==============================] - 11s 11ms/step - loss: 0.1300 - accuracy: 0.9547 - val_loss: 0.1035 - val_accuracy: 0.9681\n",
            "Epoch 7/10\n",
            "1024/1024 [==============================] - 11s 11ms/step - loss: 0.1185 - accuracy: 0.9578 - val_loss: 0.1062 - val_accuracy: 0.9619\n",
            "Epoch 8/10\n",
            "1024/1024 [==============================] - 11s 11ms/step - loss: 0.1160 - accuracy: 0.9609 - val_loss: 0.1667 - val_accuracy: 0.9396\n",
            "Epoch 9/10\n",
            "1024/1024 [==============================] - 11s 11ms/step - loss: 0.0946 - accuracy: 0.9672 - val_loss: 0.2889 - val_accuracy: 0.8948\n",
            "Epoch 10/10\n",
            " 672/1024 [==================>...........] - ETA: 3s - loss: 0.1003 - accuracy: 0.9639WARNING:tensorflow:Your input ran out of data; interrupting training. Make sure that your dataset or generator can generate at least `steps_per_epoch * epochs` batches (in this case, 10240 batches). You may need to use the repeat() function when building your dataset.\n",
            "1024/1024 [==============================] - 7s 7ms/step - loss: 0.1003 - accuracy: 0.9639 - val_loss: 0.0746 - val_accuracy: 0.9738\n",
            "-----[ 24 ]-----{'_hidden_layers': 3, 'dense_count': 16, '_kernel_initializer': 'glorot_uniform', '_activation': 'relu', '_optimizer': 'SGD', 'batch_normal': False, 'epochs': 5, 'label_class': 5, '_class_cnt': 2}\n",
            "5 4\n",
            "Epoch 1/5\n",
            "   1/1024 [..............................] - ETA: 4:23 - loss: 1.3142 - accuracy: 0.3684"
          ]
        },
        {
          "name": "stderr",
          "output_type": "stream",
          "text": [
            "2022-05-30 11:45:31.096676: I tensorflow/core/grappler/optimizers/custom_graph_optimizer_registry.cc:112] Plugin optimizer for device_type GPU is enabled.\n"
          ]
        },
        {
          "name": "stdout",
          "output_type": "stream",
          "text": [
            "1023/1024 [============================>.] - ETA: 0s - loss: 1.0169 - accuracy: 0.5538"
          ]
        },
        {
          "name": "stderr",
          "output_type": "stream",
          "text": [
            "2022-05-30 11:45:36.057287: I tensorflow/core/grappler/optimizers/custom_graph_optimizer_registry.cc:112] Plugin optimizer for device_type GPU is enabled.\n"
          ]
        },
        {
          "name": "stdout",
          "output_type": "stream",
          "text": [
            "1024/1024 [==============================] - 6s 5ms/step - loss: 1.0165 - accuracy: 0.5540 - val_loss: 0.6489 - val_accuracy: 0.7458\n",
            "Epoch 2/5\n",
            "1024/1024 [==============================] - 5s 5ms/step - loss: 0.5985 - accuracy: 0.7604 - val_loss: 0.4090 - val_accuracy: 0.8258\n",
            "Epoch 3/5\n",
            "1024/1024 [==============================] - 5s 5ms/step - loss: 0.4132 - accuracy: 0.8516 - val_loss: 0.3233 - val_accuracy: 0.8846\n",
            "Epoch 4/5\n",
            "1024/1024 [==============================] - 5s 5ms/step - loss: 0.3073 - accuracy: 0.9019 - val_loss: 0.2384 - val_accuracy: 0.9235\n",
            "Epoch 5/5\n",
            " 844/1024 [=======================>......] - ETA: 0s - loss: 0.2616 - accuracy: 0.9171WARNING:tensorflow:Your input ran out of data; interrupting training. Make sure that your dataset or generator can generate at least `steps_per_epoch * epochs` batches (in this case, 5120 batches). You may need to use the repeat() function when building your dataset.\n",
            "1024/1024 [==============================] - 4s 4ms/step - loss: 0.2610 - accuracy: 0.9173 - val_loss: 0.2253 - val_accuracy: 0.9225\n",
            "-----[ 25 ]-----{'_hidden_layers': 3, 'dense_count': 16, '_kernel_initializer': 'glorot_uniform', '_activation': 'relu', '_optimizer': 'SGD', 'batch_normal': False, 'epochs': 10, 'label_class': 5, '_class_cnt': 2}\n",
            "10 4\n",
            "Epoch 1/10\n",
            "   4/1024 [..............................] - ETA: 20s - loss: 1.3540 - accuracy: 0.2368 "
          ]
        },
        {
          "name": "stderr",
          "output_type": "stream",
          "text": [
            "2022-05-30 11:45:56.203509: I tensorflow/core/grappler/optimizers/custom_graph_optimizer_registry.cc:112] Plugin optimizer for device_type GPU is enabled.\n"
          ]
        },
        {
          "name": "stdout",
          "output_type": "stream",
          "text": [
            "1024/1024 [==============================] - ETA: 0s - loss: 1.0253 - accuracy: 0.5579"
          ]
        },
        {
          "name": "stderr",
          "output_type": "stream",
          "text": [
            "2022-05-30 11:46:01.345338: I tensorflow/core/grappler/optimizers/custom_graph_optimizer_registry.cc:112] Plugin optimizer for device_type GPU is enabled.\n"
          ]
        },
        {
          "name": "stdout",
          "output_type": "stream",
          "text": [
            "1024/1024 [==============================] - 6s 5ms/step - loss: 1.0253 - accuracy: 0.5579 - val_loss: 0.6892 - val_accuracy: 0.7426\n",
            "Epoch 2/10\n",
            "1024/1024 [==============================] - 5s 5ms/step - loss: 0.6333 - accuracy: 0.7503 - val_loss: 0.4238 - val_accuracy: 0.8400\n",
            "Epoch 3/10\n",
            "1024/1024 [==============================] - 5s 5ms/step - loss: 0.3958 - accuracy: 0.8600 - val_loss: 0.2501 - val_accuracy: 0.9184\n",
            "Epoch 4/10\n",
            "1024/1024 [==============================] - 5s 5ms/step - loss: 0.2810 - accuracy: 0.9042 - val_loss: 0.1839 - val_accuracy: 0.9373\n",
            "Epoch 5/10\n",
            "1024/1024 [==============================] - 5s 5ms/step - loss: 0.2350 - accuracy: 0.9210 - val_loss: 0.1784 - val_accuracy: 0.9355\n",
            "Epoch 6/10\n",
            "1024/1024 [==============================] - 5s 5ms/step - loss: 0.1927 - accuracy: 0.9336 - val_loss: 0.3078 - val_accuracy: 0.8950\n",
            "Epoch 7/10\n",
            "1024/1024 [==============================] - 5s 5ms/step - loss: 0.1673 - accuracy: 0.9428 - val_loss: 0.1192 - val_accuracy: 0.9617\n",
            "Epoch 8/10\n",
            "1024/1024 [==============================] - 5s 5ms/step - loss: 0.1606 - accuracy: 0.9472 - val_loss: 0.1171 - val_accuracy: 0.9617\n",
            "Epoch 9/10\n",
            "1024/1024 [==============================] - 5s 5ms/step - loss: 0.1426 - accuracy: 0.9517 - val_loss: 0.1047 - val_accuracy: 0.9685\n",
            "Epoch 10/10\n",
            " 663/1024 [==================>...........] - ETA: 1s - loss: 0.1298 - accuracy: 0.9567WARNING:tensorflow:Your input ran out of data; interrupting training. Make sure that your dataset or generator can generate at least `steps_per_epoch * epochs` batches (in this case, 10240 batches). You may need to use the repeat() function when building your dataset.\n",
            "1024/1024 [==============================] - 3s 3ms/step - loss: 0.1299 - accuracy: 0.9566 - val_loss: 0.1003 - val_accuracy: 0.9707\n",
            "-----[ 26 ]-----{'_hidden_layers': 3, 'dense_count': 16, '_kernel_initializer': 'glorot_uniform', '_activation': 'relu', '_optimizer': 'SGD', 'batch_normal': True, 'epochs': 5, 'label_class': 5, '_class_cnt': 2}\n",
            "5 4\n",
            "Epoch 1/5\n"
          ]
        },
        {
          "name": "stderr",
          "output_type": "stream",
          "text": [
            "2022-05-30 11:46:46.363479: I tensorflow/core/grappler/optimizers/custom_graph_optimizer_registry.cc:112] Plugin optimizer for device_type GPU is enabled.\n"
          ]
        },
        {
          "name": "stdout",
          "output_type": "stream",
          "text": [
            "1022/1024 [============================>.] - ETA: 0s - loss: 0.6496 - accuracy: 0.7566"
          ]
        },
        {
          "name": "stderr",
          "output_type": "stream",
          "text": [
            "2022-05-30 11:46:57.531356: I tensorflow/core/grappler/optimizers/custom_graph_optimizer_registry.cc:112] Plugin optimizer for device_type GPU is enabled.\n"
          ]
        },
        {
          "name": "stdout",
          "output_type": "stream",
          "text": [
            "1024/1024 [==============================] - 12s 11ms/step - loss: 0.6492 - accuracy: 0.7568 - val_loss: 0.6008 - val_accuracy: 0.8040\n",
            "Epoch 2/5\n",
            "1024/1024 [==============================] - 10s 10ms/step - loss: 0.3827 - accuracy: 0.8625 - val_loss: 11.3534 - val_accuracy: 0.3313\n",
            "Epoch 3/5\n",
            "1024/1024 [==============================] - 10s 10ms/step - loss: 0.3515 - accuracy: 0.8722 - val_loss: 0.3414 - val_accuracy: 0.8724\n",
            "Epoch 4/5\n",
            "1024/1024 [==============================] - 10s 10ms/step - loss: 0.3090 - accuracy: 0.8877 - val_loss: 0.2318 - val_accuracy: 0.9180\n",
            "Epoch 5/5\n",
            " 846/1024 [=======================>......] - ETA: 1s - loss: 0.2881 - accuracy: 0.8997WARNING:tensorflow:Your input ran out of data; interrupting training. Make sure that your dataset or generator can generate at least `steps_per_epoch * epochs` batches (in this case, 5120 batches). You may need to use the repeat() function when building your dataset.\n",
            "1024/1024 [==============================] - 8s 8ms/step - loss: 0.2883 - accuracy: 0.8996 - val_loss: 0.8827 - val_accuracy: 0.6956\n",
            "-----[ 27 ]-----{'_hidden_layers': 3, 'dense_count': 16, '_kernel_initializer': 'glorot_uniform', '_activation': 'relu', '_optimizer': 'SGD', 'batch_normal': True, 'epochs': 10, 'label_class': 5, '_class_cnt': 2}\n",
            "10 4\n",
            "Epoch 1/10\n"
          ]
        },
        {
          "name": "stderr",
          "output_type": "stream",
          "text": [
            "2022-05-30 11:47:37.571288: I tensorflow/core/grappler/optimizers/custom_graph_optimizer_registry.cc:112] Plugin optimizer for device_type GPU is enabled.\n"
          ]
        },
        {
          "name": "stdout",
          "output_type": "stream",
          "text": [
            "1019/1024 [============================>.] - ETA: 0s - loss: 0.6722 - accuracy: 0.7475"
          ]
        },
        {
          "name": "stderr",
          "output_type": "stream",
          "text": [
            "2022-05-30 11:47:49.492844: I tensorflow/core/grappler/optimizers/custom_graph_optimizer_registry.cc:112] Plugin optimizer for device_type GPU is enabled.\n"
          ]
        },
        {
          "name": "stdout",
          "output_type": "stream",
          "text": [
            "1024/1024 [==============================] - 13s 12ms/step - loss: 0.6704 - accuracy: 0.7482 - val_loss: 0.4458 - val_accuracy: 0.8264\n",
            "Epoch 2/10\n",
            "1024/1024 [==============================] - 10s 10ms/step - loss: 0.4391 - accuracy: 0.8381 - val_loss: 0.2248 - val_accuracy: 0.9227\n",
            "Epoch 3/10\n",
            "1024/1024 [==============================] - 10s 10ms/step - loss: 0.7035 - accuracy: 0.7104 - val_loss: 1.1504 - val_accuracy: 0.5389\n",
            "Epoch 4/10\n",
            "1024/1024 [==============================] - 10s 10ms/step - loss: 0.5854 - accuracy: 0.7779 - val_loss: 0.4505 - val_accuracy: 0.8278\n",
            "Epoch 5/10\n",
            "1024/1024 [==============================] - 10s 10ms/step - loss: 0.4952 - accuracy: 0.8091 - val_loss: 0.3907 - val_accuracy: 0.8398\n",
            "Epoch 6/10\n",
            "1024/1024 [==============================] - 10s 10ms/step - loss: 0.7232 - accuracy: 0.7083 - val_loss: 0.9597 - val_accuracy: 0.5804\n",
            "Epoch 7/10\n",
            "1024/1024 [==============================] - 10s 10ms/step - loss: 1.2613 - accuracy: 0.3473 - val_loss: 35.0544 - val_accuracy: 0.2853\n",
            "Epoch 8/10\n",
            "1024/1024 [==============================] - 10s 10ms/step - loss: 1.3081 - accuracy: 0.3106 - val_loss: 1.5027 - val_accuracy: 0.2853\n",
            "Epoch 9/10\n",
            "1024/1024 [==============================] - 10s 10ms/step - loss: 1.3080 - accuracy: 0.3074 - val_loss: 1.3783 - val_accuracy: 0.3099\n",
            "Epoch 10/10\n",
            " 670/1024 [==================>...........] - ETA: 3s - loss: 1.3061 - accuracy: 0.3091WARNING:tensorflow:Your input ran out of data; interrupting training. Make sure that your dataset or generator can generate at least `steps_per_epoch * epochs` batches (in this case, 10240 batches). You may need to use the repeat() function when building your dataset.\n",
            "1024/1024 [==============================] - 7s 7ms/step - loss: 1.3061 - accuracy: 0.3092 - val_loss: 1.7884 - val_accuracy: 0.2853\n",
            "-----[ 28 ]-----{'_hidden_layers': 3, 'dense_count': 16, '_kernel_initializer': 'glorot_uniform', '_activation': 'relu', '_optimizer': 'Adam', 'batch_normal': False, 'epochs': 5, 'label_class': 5, '_class_cnt': 2}\n",
            "5 4\n",
            "Epoch 1/5\n",
            "   3/1024 [..............................] - ETA: 25s - loss: 1.3674 - accuracy: 0.3333 "
          ]
        },
        {
          "name": "stderr",
          "output_type": "stream",
          "text": [
            "2022-05-30 11:49:17.689157: I tensorflow/core/grappler/optimizers/custom_graph_optimizer_registry.cc:112] Plugin optimizer for device_type GPU is enabled.\n"
          ]
        },
        {
          "name": "stdout",
          "output_type": "stream",
          "text": [
            "1019/1024 [============================>.] - ETA: 0s - loss: 0.7677 - accuracy: 0.6674"
          ]
        },
        {
          "name": "stderr",
          "output_type": "stream",
          "text": [
            "2022-05-30 11:49:23.373892: I tensorflow/core/grappler/optimizers/custom_graph_optimizer_registry.cc:112] Plugin optimizer for device_type GPU is enabled.\n"
          ]
        },
        {
          "name": "stdout",
          "output_type": "stream",
          "text": [
            "1024/1024 [==============================] - 6s 6ms/step - loss: 0.7663 - accuracy: 0.6682 - val_loss: 0.4311 - val_accuracy: 0.8468\n",
            "Epoch 2/5\n",
            "1024/1024 [==============================] - 6s 6ms/step - loss: 0.3619 - accuracy: 0.8705 - val_loss: 0.2930 - val_accuracy: 0.8966\n",
            "Epoch 3/5\n",
            "1024/1024 [==============================] - 6s 6ms/step - loss: 0.2656 - accuracy: 0.9057 - val_loss: 0.2740 - val_accuracy: 0.8980\n",
            "Epoch 4/5\n",
            "1024/1024 [==============================] - 6s 6ms/step - loss: 0.2170 - accuracy: 0.9221 - val_loss: 0.1761 - val_accuracy: 0.9379\n",
            "Epoch 5/5\n",
            " 844/1024 [=======================>......] - ETA: 0s - loss: 0.2010 - accuracy: 0.9276WARNING:tensorflow:Your input ran out of data; interrupting training. Make sure that your dataset or generator can generate at least `steps_per_epoch * epochs` batches (in this case, 5120 batches). You may need to use the repeat() function when building your dataset.\n",
            "1024/1024 [==============================] - 5s 5ms/step - loss: 0.2006 - accuracy: 0.9276 - val_loss: 0.2734 - val_accuracy: 0.8964\n",
            "-----[ 29 ]-----{'_hidden_layers': 3, 'dense_count': 16, '_kernel_initializer': 'glorot_uniform', '_activation': 'relu', '_optimizer': 'Adam', 'batch_normal': False, 'epochs': 10, 'label_class': 5, '_class_cnt': 2}\n",
            "10 4\n",
            "Epoch 1/10\n",
            "   1/1024 [..............................] - ETA: 4:22 - loss: 1.3630 - accuracy: 0.4211"
          ]
        },
        {
          "name": "stderr",
          "output_type": "stream",
          "text": [
            "2022-05-30 11:49:46.010136: I tensorflow/core/grappler/optimizers/custom_graph_optimizer_registry.cc:112] Plugin optimizer for device_type GPU is enabled.\n"
          ]
        },
        {
          "name": "stdout",
          "output_type": "stream",
          "text": [
            "1019/1024 [============================>.] - ETA: 0s - loss: 0.7782 - accuracy: 0.6644"
          ]
        },
        {
          "name": "stderr",
          "output_type": "stream",
          "text": [
            "2022-05-30 11:49:51.811316: I tensorflow/core/grappler/optimizers/custom_graph_optimizer_registry.cc:112] Plugin optimizer for device_type GPU is enabled.\n"
          ]
        },
        {
          "name": "stdout",
          "output_type": "stream",
          "text": [
            "1024/1024 [==============================] - 7s 6ms/step - loss: 0.7765 - accuracy: 0.6654 - val_loss: 0.3724 - val_accuracy: 0.8614\n",
            "Epoch 2/10\n",
            "1024/1024 [==============================] - 6s 6ms/step - loss: 0.3153 - accuracy: 0.8885 - val_loss: 0.3569 - val_accuracy: 0.8630\n",
            "Epoch 3/10\n",
            "1024/1024 [==============================] - 6s 6ms/step - loss: 0.2374 - accuracy: 0.9155 - val_loss: 0.1813 - val_accuracy: 0.9359\n",
            "Epoch 4/10\n",
            "1024/1024 [==============================] - 6s 6ms/step - loss: 0.2101 - accuracy: 0.9241 - val_loss: 0.1620 - val_accuracy: 0.9422\n",
            "Epoch 5/10\n",
            "1024/1024 [==============================] - 6s 6ms/step - loss: 0.1968 - accuracy: 0.9284 - val_loss: 0.1614 - val_accuracy: 0.9438\n",
            "Epoch 6/10\n",
            "1024/1024 [==============================] - 6s 6ms/step - loss: 0.1743 - accuracy: 0.9375 - val_loss: 0.1710 - val_accuracy: 0.9422\n",
            "Epoch 7/10\n",
            "1024/1024 [==============================] - 6s 6ms/step - loss: 0.1679 - accuracy: 0.9414 - val_loss: 0.2899 - val_accuracy: 0.9105\n",
            "Epoch 8/10\n",
            "1024/1024 [==============================] - 6s 6ms/step - loss: 0.1486 - accuracy: 0.9469 - val_loss: 0.1625 - val_accuracy: 0.9449\n",
            "Epoch 9/10\n",
            "1024/1024 [==============================] - 6s 6ms/step - loss: 0.1601 - accuracy: 0.9438 - val_loss: 0.1149 - val_accuracy: 0.9613\n",
            "Epoch 10/10\n",
            " 670/1024 [==================>...........] - ETA: 1s - loss: 0.1365 - accuracy: 0.9520WARNING:tensorflow:Your input ran out of data; interrupting training. Make sure that your dataset or generator can generate at least `steps_per_epoch * epochs` batches (in this case, 10240 batches). You may need to use the repeat() function when building your dataset.\n",
            "1024/1024 [==============================] - 4s 4ms/step - loss: 0.1366 - accuracy: 0.9520 - val_loss: 0.1450 - val_accuracy: 0.9485\n",
            "-----[ 30 ]-----{'_hidden_layers': 3, 'dense_count': 16, '_kernel_initializer': 'glorot_uniform', '_activation': 'relu', '_optimizer': 'Adam', 'batch_normal': True, 'epochs': 5, 'label_class': 5, '_class_cnt': 2}\n",
            "5 4\n",
            "Epoch 1/5\n"
          ]
        },
        {
          "name": "stderr",
          "output_type": "stream",
          "text": [
            "2022-05-30 11:50:42.128933: I tensorflow/core/grappler/optimizers/custom_graph_optimizer_registry.cc:112] Plugin optimizer for device_type GPU is enabled.\n"
          ]
        },
        {
          "name": "stdout",
          "output_type": "stream",
          "text": [
            "1024/1024 [==============================] - ETA: 0s - loss: 0.6337 - accuracy: 0.7503"
          ]
        },
        {
          "name": "stderr",
          "output_type": "stream",
          "text": [
            "2022-05-30 11:50:53.699103: I tensorflow/core/grappler/optimizers/custom_graph_optimizer_registry.cc:112] Plugin optimizer for device_type GPU is enabled.\n"
          ]
        },
        {
          "name": "stdout",
          "output_type": "stream",
          "text": [
            "1024/1024 [==============================] - 13s 12ms/step - loss: 0.6337 - accuracy: 0.7503 - val_loss: 0.4811 - val_accuracy: 0.8134\n",
            "Epoch 2/5\n",
            "1024/1024 [==============================] - 11s 11ms/step - loss: 0.3357 - accuracy: 0.8796 - val_loss: 0.1834 - val_accuracy: 0.9434\n",
            "Epoch 3/5\n",
            "1024/1024 [==============================] - 11s 11ms/step - loss: 0.2855 - accuracy: 0.8993 - val_loss: 0.2701 - val_accuracy: 0.8991\n",
            "Epoch 4/5\n",
            "1024/1024 [==============================] - 11s 11ms/step - loss: 0.2886 - accuracy: 0.8951 - val_loss: 0.2316 - val_accuracy: 0.9202\n",
            "Epoch 5/5\n",
            " 847/1024 [=======================>......] - ETA: 1s - loss: 0.2435 - accuracy: 0.9122WARNING:tensorflow:Your input ran out of data; interrupting training. Make sure that your dataset or generator can generate at least `steps_per_epoch * epochs` batches (in this case, 5120 batches). You may need to use the repeat() function when building your dataset.\n",
            "1024/1024 [==============================] - 10s 9ms/step - loss: 0.2439 - accuracy: 0.9121 - val_loss: 0.2854 - val_accuracy: 0.8958\n",
            "-----[ 31 ]-----{'_hidden_layers': 3, 'dense_count': 16, '_kernel_initializer': 'glorot_uniform', '_activation': 'relu', '_optimizer': 'Adam', 'batch_normal': True, 'epochs': 10, 'label_class': 5, '_class_cnt': 2}\n",
            "10 4\n",
            "Epoch 1/10\n"
          ]
        },
        {
          "name": "stderr",
          "output_type": "stream",
          "text": [
            "2022-05-30 11:51:37.931391: I tensorflow/core/grappler/optimizers/custom_graph_optimizer_registry.cc:112] Plugin optimizer for device_type GPU is enabled.\n"
          ]
        },
        {
          "name": "stdout",
          "output_type": "stream",
          "text": [
            "1023/1024 [============================>.] - ETA: 0s - loss: 0.6381 - accuracy: 0.7522"
          ]
        },
        {
          "name": "stderr",
          "output_type": "stream",
          "text": [
            "2022-05-30 11:51:50.242608: I tensorflow/core/grappler/optimizers/custom_graph_optimizer_registry.cc:112] Plugin optimizer for device_type GPU is enabled.\n"
          ]
        },
        {
          "name": "stdout",
          "output_type": "stream",
          "text": [
            "1024/1024 [==============================] - 13s 12ms/step - loss: 0.6379 - accuracy: 0.7523 - val_loss: 0.3938 - val_accuracy: 0.8539\n",
            "Epoch 2/10\n",
            "1024/1024 [==============================] - 11s 11ms/step - loss: 0.3310 - accuracy: 0.8799 - val_loss: 0.5248 - val_accuracy: 0.8124\n",
            "Epoch 3/10\n",
            "1024/1024 [==============================] - 11s 11ms/step - loss: 0.2638 - accuracy: 0.9071 - val_loss: 0.3408 - val_accuracy: 0.8757\n",
            "Epoch 4/10\n",
            "1024/1024 [==============================] - 11s 11ms/step - loss: 0.2525 - accuracy: 0.9101 - val_loss: 0.2688 - val_accuracy: 0.8976\n",
            "Epoch 5/10\n",
            "1024/1024 [==============================] - 11s 11ms/step - loss: 0.2225 - accuracy: 0.9222 - val_loss: 0.2566 - val_accuracy: 0.9029\n",
            "Epoch 6/10\n",
            "1024/1024 [==============================] - 11s 11ms/step - loss: 0.2095 - accuracy: 0.9251 - val_loss: 0.1912 - val_accuracy: 0.9304\n",
            "Epoch 7/10\n",
            "1024/1024 [==============================] - 11s 11ms/step - loss: 0.2113 - accuracy: 0.9249 - val_loss: 0.5207 - val_accuracy: 0.8105\n",
            "Epoch 8/10\n",
            "1024/1024 [==============================] - 11s 11ms/step - loss: 0.1918 - accuracy: 0.9337 - val_loss: 1.1973 - val_accuracy: 0.6644\n",
            "Epoch 9/10\n",
            "1024/1024 [==============================] - 11s 11ms/step - loss: 0.1715 - accuracy: 0.9418 - val_loss: 3.9230 - val_accuracy: 0.3405\n",
            "Epoch 10/10\n",
            " 671/1024 [==================>...........] - ETA: 3s - loss: 0.1794 - accuracy: 0.9369WARNING:tensorflow:Your input ran out of data; interrupting training. Make sure that your dataset or generator can generate at least `steps_per_epoch * epochs` batches (in this case, 10240 batches). You may need to use the repeat() function when building your dataset.\n",
            "1024/1024 [==============================] - 7s 7ms/step - loss: 0.1800 - accuracy: 0.9365 - val_loss: 0.1509 - val_accuracy: 0.9469\n",
            "INFO:tensorflow:Assets written to: ram://a44aea5f-770a-40cf-a8e5-c663d9fb9033/assets\n",
            "INFO:tensorflow:Assets written to: ram://fbc7d64f-e5d0-4c68-a88b-e00848f288fe/assets\n",
            "INFO:tensorflow:Assets written to: ram://3c64d6d0-8dc4-42ad-87dc-db386ea11d9e/assets\n",
            "INFO:tensorflow:Assets written to: ram://b45e06ee-90f0-4430-9188-dddfb6de4dd4/assets\n",
            "INFO:tensorflow:Assets written to: ram://7f30f7c3-f41c-4dab-89b9-5931a082bd5a/assets\n",
            "INFO:tensorflow:Assets written to: ram://d7f0ff22-4501-4298-a8e5-bad5a93a6560/assets\n",
            "INFO:tensorflow:Assets written to: ram://8840fc08-af5a-499d-b713-326d0f203aac/assets\n",
            "INFO:tensorflow:Assets written to: ram://0664737e-e485-4f9b-8c67-3f931b08ccf2/assets\n",
            "INFO:tensorflow:Assets written to: ram://124d79b9-64c7-4dcf-b956-264a844a4492/assets\n",
            "INFO:tensorflow:Assets written to: ram://57a1d7f2-be42-42fe-a2a6-9eb3b9ebea34/assets\n",
            "INFO:tensorflow:Assets written to: ram://d52101af-9306-400c-9bc3-28981097d365/assets\n",
            "INFO:tensorflow:Assets written to: ram://251afd48-ced7-47f6-8fc9-5ff09a119098/assets\n",
            "INFO:tensorflow:Assets written to: ram://8c3f1ac5-c8ea-4771-abbc-642977cc641e/assets\n",
            "INFO:tensorflow:Assets written to: ram://318e2be0-57a0-44c4-b652-cb47fa2073cf/assets\n",
            "INFO:tensorflow:Assets written to: ram://4162ca5a-0ade-42e1-ad1c-2cfd84ef7353/assets\n",
            "INFO:tensorflow:Assets written to: ram://b1976e49-602d-4fd5-9175-c83921428c33/assets\n",
            "INFO:tensorflow:Assets written to: ram://29c2497a-3f9d-4835-a836-69cd02c17d2b/assets\n",
            "INFO:tensorflow:Assets written to: ram://c67c1b89-b2a0-4fb2-b297-3d228b14b33a/assets\n",
            "INFO:tensorflow:Assets written to: ram://7320b9c9-0e8c-468b-ba44-e84e67e68742/assets\n",
            "INFO:tensorflow:Assets written to: ram://c339cfb6-88e4-4224-9c7a-98ae3fb55020/assets\n",
            "INFO:tensorflow:Assets written to: ram://9ca45489-1dc2-4eb1-8858-64132bb42956/assets\n",
            "INFO:tensorflow:Assets written to: ram://e11393cd-2d07-44bf-b614-ac9aac67a4a5/assets\n",
            "INFO:tensorflow:Assets written to: ram://66458cc7-b232-4eb4-9f3c-79200d86423a/assets\n",
            "INFO:tensorflow:Assets written to: ram://6cb9f84b-c6ca-4187-8fcc-1d2f53819b91/assets\n",
            "INFO:tensorflow:Assets written to: ram://dca4b46c-f5d4-4632-91a5-c245067ea19d/assets\n",
            "INFO:tensorflow:Assets written to: ram://cc70ad72-bde5-4155-b791-5ca6221d53bb/assets\n",
            "INFO:tensorflow:Assets written to: ram://9973394c-79a2-4c00-a8a3-a68d7c08f10d/assets\n",
            "INFO:tensorflow:Assets written to: ram://0e89b0fb-1418-4d58-a181-2f6548cdbc89/assets\n",
            "INFO:tensorflow:Assets written to: ram://16e34ee4-c382-44d7-b655-bed9e7e282e2/assets\n",
            "INFO:tensorflow:Assets written to: ram://5060f430-4e71-4d0b-a4e8-45bfd3944829/assets\n",
            "INFO:tensorflow:Assets written to: ram://64cee109-6be6-48e4-bc93-73fa904677d7/assets\n",
            "INFO:tensorflow:Assets written to: ram://c50c7673-c364-4cc4-8060-286b1888462d/assets\n"
          ]
        }
      ],
      "source": [
        "# params = params[6:11]\n",
        "label_classes = [0, 3, 5]\n",
        "\n",
        "results_list = list()\n",
        "for label_class in label_classes:\n",
        "  dataset = preprocessDataset(label_class)\n",
        "  results = list()          \n",
        "  for idx, param in enumerate(params):\n",
        "    param['label_class'] = label_class\n",
        "    print('-'*5 +'[ '+ str(idx) + ' ]'+ '-'*5 + str(param))\n",
        "    results.append(model_fit(param, dataset))\n",
        "  # save\n",
        "  with open(f'results_MLP_label_{label_class}_{dt_string}.pickle', 'wb') as f:\n",
        "    pickle.dump(results, f, pickle.HIGHEST_PROTOCOL)\n",
        "  results_list = results_list + results\n"
      ]
    },
    {
      "cell_type": "code",
      "execution_count": 35,
      "metadata": {
        "id": "_ySzO_Ob9lQW"
      },
      "outputs": [
        {
          "name": "stdout",
          "output_type": "stream",
          "text": [
            "INFO:tensorflow:Assets written to: ram://7f75eb2f-3196-466c-a0f1-9d575b5a58c2/assets\n",
            "INFO:tensorflow:Assets written to: ram://2e010c6e-36f5-4931-b276-2c80fb83444b/assets\n",
            "INFO:tensorflow:Assets written to: ram://af5043a6-273b-450c-bfe5-c9a1b18af329/assets\n",
            "INFO:tensorflow:Assets written to: ram://86f833c3-eb42-4b77-b28a-f7ac6710caf6/assets\n",
            "INFO:tensorflow:Assets written to: ram://f411e6ce-5f20-41e3-bafa-0722b8eb3e73/assets\n",
            "INFO:tensorflow:Assets written to: ram://6c66bd65-51c6-4c67-85c2-f8fda692e321/assets\n",
            "INFO:tensorflow:Assets written to: ram://d9141d17-fafa-46e7-8515-f43790a49ec1/assets\n",
            "INFO:tensorflow:Assets written to: ram://a1222991-1028-4d85-9297-b1ed1a58224c/assets\n",
            "INFO:tensorflow:Assets written to: ram://fa632e71-9dc0-420f-a44f-76e0a4420cbb/assets\n",
            "INFO:tensorflow:Assets written to: ram://2cd333e8-8694-49d1-aeb1-90de2fe7b55f/assets\n",
            "INFO:tensorflow:Assets written to: ram://1718fc52-94e4-4d31-9ea9-5ab2a9a31fee/assets\n",
            "INFO:tensorflow:Assets written to: ram://d3969bf1-a7a1-4f7d-8cad-176fb2461702/assets\n",
            "INFO:tensorflow:Assets written to: ram://6ede0c4b-0b13-4070-9ef1-4ed60e6d23ce/assets\n",
            "INFO:tensorflow:Assets written to: ram://6b44b982-2c34-4296-932b-1c7960f79e9e/assets\n",
            "INFO:tensorflow:Assets written to: ram://432f6a7a-0c26-44fc-848f-9347658bcb6e/assets\n",
            "INFO:tensorflow:Assets written to: ram://11bddeb7-58ee-4561-8648-b0e07ea67edd/assets\n",
            "INFO:tensorflow:Assets written to: ram://4d2f3ecd-aa4d-471d-85b8-1bb5c490aa78/assets\n",
            "INFO:tensorflow:Assets written to: ram://8fbd0c02-6827-428a-9c1e-096d80674c40/assets\n",
            "INFO:tensorflow:Assets written to: ram://f5228b45-438d-46bd-bdbe-4d802ee1405e/assets\n",
            "INFO:tensorflow:Assets written to: ram://7be6a422-c60f-4a53-a383-097ad766e363/assets\n",
            "INFO:tensorflow:Assets written to: ram://6f46d1d5-071f-4f71-a1cf-b64b2a0883cf/assets\n",
            "INFO:tensorflow:Assets written to: ram://765456eb-e4d9-4ec7-9f68-1e88e0a696cd/assets\n",
            "INFO:tensorflow:Assets written to: ram://b58e9094-3e87-4ce1-904a-1f8c8ebf01da/assets\n",
            "INFO:tensorflow:Assets written to: ram://06775e63-e299-4ba3-aeb9-ff7c98f265ae/assets\n",
            "INFO:tensorflow:Assets written to: ram://74147927-7cd7-4efd-ad08-0d3ca35ca200/assets\n",
            "INFO:tensorflow:Assets written to: ram://50561e40-8b6e-4b38-abbd-b5a97f05a8e7/assets\n",
            "INFO:tensorflow:Assets written to: ram://03eac268-a5af-4722-8389-a27e6857ef6d/assets\n",
            "INFO:tensorflow:Assets written to: ram://75b1f6c3-b177-47f7-ab8d-9a4ffeda739b/assets\n",
            "INFO:tensorflow:Assets written to: ram://4cf89e2e-9545-4495-95e9-e95b8a58928d/assets\n",
            "INFO:tensorflow:Assets written to: ram://4b1ac125-cb63-401b-94ed-254b537b896b/assets\n",
            "INFO:tensorflow:Assets written to: ram://fa17d192-8e7f-4389-9799-3759c3bac500/assets\n",
            "INFO:tensorflow:Assets written to: ram://0e73e47e-ed9a-4707-9478-b15ae7d57053/assets\n",
            "INFO:tensorflow:Assets written to: ram://180e6fc2-0e35-4925-99a9-e37bd229d07c/assets\n",
            "INFO:tensorflow:Assets written to: ram://dcc1743a-8cee-488a-bb4c-6d02b7ad540f/assets\n",
            "INFO:tensorflow:Assets written to: ram://1bd2e410-ddc9-43d1-8558-b1503ccf5531/assets\n",
            "INFO:tensorflow:Assets written to: ram://f2f2656b-7044-454b-91fa-31b52011440b/assets\n",
            "INFO:tensorflow:Assets written to: ram://61414ce8-3cac-45bb-9c13-7e78a0e3af25/assets\n",
            "INFO:tensorflow:Assets written to: ram://cfbd48b7-896d-42e9-88fd-a3aeb38ca7e5/assets\n",
            "INFO:tensorflow:Assets written to: ram://dcd9c8c4-536b-4afd-beb4-0e6740a96ce3/assets\n",
            "INFO:tensorflow:Assets written to: ram://af2d7c77-b37f-4f5f-80e2-7e1cc2cfea08/assets\n",
            "INFO:tensorflow:Assets written to: ram://2e18101f-04fe-4d5f-8907-3e6a069affcc/assets\n",
            "INFO:tensorflow:Assets written to: ram://9742f343-c65d-4b06-bec9-55af7fa0c73f/assets\n",
            "INFO:tensorflow:Assets written to: ram://789b9a2e-8e9a-419a-8c6b-2e9e01cc2ab9/assets\n",
            "INFO:tensorflow:Assets written to: ram://cc15a586-f7d1-4544-8c2d-d026c6d2d234/assets\n",
            "INFO:tensorflow:Assets written to: ram://08e01e07-43da-4a7d-b9c8-d2cd3c782e1a/assets\n",
            "INFO:tensorflow:Assets written to: ram://b7180edc-13f8-425c-93b3-9196d8e10141/assets\n",
            "INFO:tensorflow:Assets written to: ram://bb6f7a2a-354d-4cdd-9f5f-3ae801450ea1/assets\n",
            "INFO:tensorflow:Assets written to: ram://0622f0b3-cba2-467c-bc66-fca803e3880a/assets\n",
            "INFO:tensorflow:Assets written to: ram://dee1d280-6603-40f0-9c96-7d4ebd3a0614/assets\n",
            "INFO:tensorflow:Assets written to: ram://c5746f68-b0b3-427d-a252-a22fce4947a0/assets\n",
            "INFO:tensorflow:Assets written to: ram://eaa62b4e-aa47-49de-a512-cb2e1ff52c31/assets\n",
            "INFO:tensorflow:Assets written to: ram://cb47822c-8da9-4ffc-ad21-82ac7f11ce36/assets\n",
            "INFO:tensorflow:Assets written to: ram://d8b9229a-163b-473b-995c-feca5189d01c/assets\n",
            "INFO:tensorflow:Assets written to: ram://c37e76e4-d6c4-4980-b7ff-2c5a92c507d1/assets\n",
            "INFO:tensorflow:Assets written to: ram://d10a458b-8187-4674-ad8f-ddfd5f3fb365/assets\n",
            "INFO:tensorflow:Assets written to: ram://7898e236-224b-4f9d-b52f-f5dfbc45a2c8/assets\n",
            "INFO:tensorflow:Assets written to: ram://153c11c8-d35d-46e0-a3fa-8221b1577651/assets\n",
            "INFO:tensorflow:Assets written to: ram://a55da3ee-16ca-47bf-95d1-ca7e2096aad6/assets\n",
            "INFO:tensorflow:Assets written to: ram://6ef7c5dd-95df-4102-a945-5dd6cdc9c002/assets\n",
            "INFO:tensorflow:Assets written to: ram://456e1f3a-4140-4770-8e82-b75b2a89d559/assets\n",
            "INFO:tensorflow:Assets written to: ram://15bc26c8-6fb4-4838-a6c4-0bc4f09ca138/assets\n",
            "INFO:tensorflow:Assets written to: ram://16420498-71ad-4ce5-ab0e-bda459c3dfaa/assets\n",
            "INFO:tensorflow:Assets written to: ram://39507113-3041-472e-9bd3-a8bceae847aa/assets\n",
            "INFO:tensorflow:Assets written to: ram://7f417099-7130-4944-b02b-822ab50d5cd6/assets\n",
            "INFO:tensorflow:Assets written to: ram://e15712f8-a32c-4ea9-a504-e2f4ff047376/assets\n",
            "INFO:tensorflow:Assets written to: ram://8d3e483d-c5b9-4a9e-918f-1add1ffb51f1/assets\n",
            "INFO:tensorflow:Assets written to: ram://501b2f20-abc0-457e-85b4-e7441f09adc0/assets\n",
            "INFO:tensorflow:Assets written to: ram://156d5dd9-5852-4ac7-b059-3ca8c5f45e62/assets\n",
            "INFO:tensorflow:Assets written to: ram://ee7d9fbd-b12b-4811-a57e-ab0e9082b41a/assets\n",
            "INFO:tensorflow:Assets written to: ram://f4b952d0-beec-4f16-a3be-37f1eb0c3f33/assets\n",
            "INFO:tensorflow:Assets written to: ram://9029f776-5db5-4aad-9a25-6fcf536a0f5f/assets\n",
            "INFO:tensorflow:Assets written to: ram://027686d5-068a-4fe3-8aa3-95c627e5ea76/assets\n",
            "INFO:tensorflow:Assets written to: ram://b8a0f0ca-110f-4e85-a850-6f56f0a66ae7/assets\n",
            "INFO:tensorflow:Assets written to: ram://41c7e96c-5028-405c-8d96-290461756857/assets\n",
            "INFO:tensorflow:Assets written to: ram://736219d5-68af-4966-a428-9e35554a8e82/assets\n",
            "INFO:tensorflow:Assets written to: ram://fa576f11-8efa-4ca9-966c-6f8a981bd067/assets\n",
            "INFO:tensorflow:Assets written to: ram://d4737888-b42a-48d0-9249-a11f7b072ca6/assets\n",
            "INFO:tensorflow:Assets written to: ram://6bfbc3eb-2870-47b7-9867-c4d7f83837ce/assets\n",
            "INFO:tensorflow:Assets written to: ram://3ced9b3a-1e0f-478d-b6ce-ba361729b995/assets\n",
            "INFO:tensorflow:Assets written to: ram://a2b4bb55-ce6d-47d2-aebd-e8ee58fe3cdc/assets\n",
            "INFO:tensorflow:Assets written to: ram://ae5438aa-9a58-4b61-a34c-162743f73ae4/assets\n",
            "INFO:tensorflow:Assets written to: ram://a1b32138-9ddf-4435-9769-a4997b6400a4/assets\n",
            "INFO:tensorflow:Assets written to: ram://38623bcc-84a8-4b1a-97af-447ef0dacc05/assets\n",
            "INFO:tensorflow:Assets written to: ram://46fa7667-7fbd-414a-a5d6-b4a5a3fc1381/assets\n",
            "INFO:tensorflow:Assets written to: ram://69d6251d-13ef-44db-9832-9e312f961de3/assets\n",
            "INFO:tensorflow:Assets written to: ram://99aa7de8-c60d-4c39-bf8c-0cfb66b09c0c/assets\n",
            "INFO:tensorflow:Assets written to: ram://458f9bbf-a0ef-4bd0-962e-bb516a72fdff/assets\n",
            "INFO:tensorflow:Assets written to: ram://6e8a815d-de1f-4794-aeff-17135f03b0a3/assets\n",
            "INFO:tensorflow:Assets written to: ram://87d672d2-5634-42f1-916b-16dafc23eb3b/assets\n",
            "INFO:tensorflow:Assets written to: ram://6ed037d0-5291-4829-847d-8d02174100de/assets\n",
            "INFO:tensorflow:Assets written to: ram://cbbc3b06-d858-4904-9e5f-08321eab938e/assets\n",
            "INFO:tensorflow:Assets written to: ram://2b8d4141-32e2-4d4a-b19e-edf42d128ff0/assets\n",
            "INFO:tensorflow:Assets written to: ram://24e40d42-14ed-4e92-82a2-2bacb367e8da/assets\n",
            "INFO:tensorflow:Assets written to: ram://84026ca1-ee3c-4892-838e-beddb10f46a4/assets\n",
            "INFO:tensorflow:Assets written to: ram://764fef15-4f22-48b9-b541-76e4e10bfb7f/assets\n",
            "INFO:tensorflow:Assets written to: ram://0830a9a9-979e-41a2-8f73-571ec5408d47/assets\n"
          ]
        }
      ],
      "source": [
        "\n",
        "# save all\n",
        "with open(f'results_MLP_{dt_string}.pickle', 'wb') as f:\n",
        "    pickle.dump(results_list, f, pickle.HIGHEST_PROTOCOL)"
      ]
    }
  ],
  "metadata": {
    "colab": {
      "collapsed_sections": [],
      "name": "Term_2_MLP_MPIE.ipynb",
      "provenance": []
    },
    "interpreter": {
      "hash": "9d678cab9b7a043e54e81542b76e40731b9865bd9de5537630354fdeb60158c9"
    },
    "kernelspec": {
      "display_name": "Python 3.9.9 ('ml_p3.9_tf2.7')",
      "language": "python",
      "name": "python3"
    },
    "language_info": {
      "codemirror_mode": {
        "name": "ipython",
        "version": 3
      },
      "file_extension": ".py",
      "mimetype": "text/x-python",
      "name": "python",
      "nbconvert_exporter": "python",
      "pygments_lexer": "ipython3",
      "version": "3.9.9"
    }
  },
  "nbformat": 4,
  "nbformat_minor": 0
}
