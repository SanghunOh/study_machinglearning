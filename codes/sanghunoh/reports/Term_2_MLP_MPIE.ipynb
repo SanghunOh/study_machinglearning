{
  "nbformat": 4,
  "nbformat_minor": 0,
  "metadata": {
    "colab": {
      "name": "Term_2_MLP_MPIE.ipynb",
      "provenance": [],
      "collapsed_sections": [],
      "mount_file_id": "1dC0iB_quoTflpUwBm8SRQWMbxouaG5U1",
      "authorship_tag": "ABX9TyN9Z9GhDMpwGlWpJJJhATvC",
      "include_colab_link": true
    },
    "kernelspec": {
      "name": "python3",
      "display_name": "Python 3"
    },
    "language_info": {
      "name": "python"
    }
  },
  "cells": [
    {
      "cell_type": "markdown",
      "metadata": {
        "id": "view-in-github",
        "colab_type": "text"
      },
      "source": [
        "<a href=\"https://colab.research.google.com/github/SanghunOh/study_machinglearning/blob/main/codes/sanghunoh/reports/Term_2_MLP_MPIE.ipynb\" target=\"_parent\"><img src=\"https://colab.research.google.com/assets/colab-badge.svg\" alt=\"Open In Colab\"/></a>"
      ]
    },
    {
      "cell_type": "markdown",
      "source": [
        "###Connect Drive"
      ],
      "metadata": {
        "id": "brb_gNSQ-Tyg"
      }
    },
    {
      "cell_type": "code",
      "execution_count": 1,
      "metadata": {
        "colab": {
          "base_uri": "https://localhost:8080/"
        },
        "id": "2zl8YlT9398C",
        "outputId": "62c0bb60-7bbf-4f61-ba03-4febe4c767a5"
      },
      "outputs": [
        {
          "output_type": "stream",
          "name": "stdout",
          "text": [
            "/content/drive/.shortcut-targets-by-id/1tHYgEz3lQF-LmtFPXRgMBDh4UN54qeAs/datas\n"
          ]
        }
      ],
      "source": [
        "path_root = '/content/drive/MyDrive/datas/'\n",
        "\n",
        "# 작업 경로 설정\n",
        "import os\n",
        "os.chdir(path_root)\n",
        "!pwd"
      ]
    },
    {
      "cell_type": "code",
      "source": [
        "# !unzip -o ./mpie_30_shuffle.zip -d ./mpie_30_shuffle"
      ],
      "metadata": {
        "id": "q_zK6dD69lx7"
      },
      "execution_count": 2,
      "outputs": []
    },
    {
      "cell_type": "code",
      "source": [
        "!ls"
      ],
      "metadata": {
        "colab": {
          "base_uri": "https://localhost:8080/"
        },
        "id": "mXG7KRQz-Nax",
        "outputId": "a86dec45-664f-4994-fb15-23eae52596bb"
      },
      "execution_count": 3,
      "outputs": [
        {
          "output_type": "stream",
          "name": "stdout",
          "text": [
            "dataCh4_7.mat\t\t model_0.png\n",
            "dataCh4_7.zip\t\t model_None.png\n",
            "digitimages_binary.zip\t model.png\n",
            "history_0.png\t\t mpie_30_shuffle\n",
            "history_1.png\t\t mpie_30_shuffle.zip\n",
            "history_2.png\t\t number_images\n",
            "history_3.png\t\t results_20222205052715.pickle\n",
            "history_4.png\t\t results_20222205135214.pickle\n",
            "history_5.png\t\t results_20222205144206.pickle\n",
            "history_6.png\t\t results_MLP_20222805072718.pickle\n",
            "history_None.png\t results_MLP_20222805072816.pickle\n",
            "iris_shuffle.mat\t results_MLP_20222805075221.pickle\n",
            "iris.zip\t\t results.pickle\n",
            "matlab_iris_shuffle.mat\n"
          ]
        }
      ]
    },
    {
      "cell_type": "markdown",
      "source": [
        "###Load Dataset"
      ],
      "metadata": {
        "id": "qLUE0VPqLewv"
      }
    },
    {
      "cell_type": "code",
      "source": [
        "path = path_root + 'mpie_30_shuffle/'\n",
        "\n",
        "import pandas as pd\n",
        "\n",
        "def loadDatasetFromCSV(_datafilename, _labelfilename, label_column):\n",
        "  _feature_csv = pd.read_csv(path + _datafilename, dtype=np.float32, header=None) # image features of train data\n",
        "\n",
        "  _label_csv = pd.read_csv(path + _labelfilename, dtype=np.float32, header=None) # labels of train data\n",
        "  _label = _label_csv[label_column] # get label you want\n",
        "\n",
        "  return _feature_csv, _label"
      ],
      "metadata": {
        "id": "wzRrppGEyLWD"
      },
      "execution_count": 4,
      "outputs": []
    },
    {
      "cell_type": "code",
      "source": [
        "import numpy as np"
      ],
      "metadata": {
        "id": "bLAz9qj1LwGC"
      },
      "execution_count": 5,
      "outputs": []
    },
    {
      "cell_type": "code",
      "execution_count": 6,
      "metadata": {
        "id": "GjUDklviz51u"
      },
      "outputs": [],
      "source": [
        "def preprocessDataset(label_column):\n",
        "  # train\n",
        "  train_feature_reshape, train_label = loadDatasetFromCSV('Traindata.csv', 'Trainlabel.csv', label_column)\n",
        "  # test\n",
        "  validation_feature_reshape, validation_label = loadDatasetFromCSV('Testdata.csv', 'Testlabel.csv', label_column)\n",
        "\n",
        "  return train_feature_reshape, train_label, validation_feature_reshape, validation_label"
      ]
    },
    {
      "cell_type": "code",
      "source": [
        "train_feature, train_label, validation_feature, validation_label = preprocessDataset(1)\n",
        "type(train_feature), train_feature.shape, type(train_label), train_label.shape, validation_feature.shape, validation_label.shape"
      ],
      "metadata": {
        "id": "b0iSCMgGOjCp",
        "colab": {
          "base_uri": "https://localhost:8080/"
        },
        "outputId": "2aaca0c4-e80f-4b68-c1c6-4c1321fc1d78"
      },
      "execution_count": 7,
      "outputs": [
        {
          "output_type": "execute_result",
          "data": {
            "text/plain": [
              "(pandas.core.frame.DataFrame,\n",
              " (18777, 1024),\n",
              " pandas.core.series.Series,\n",
              " (18777,),\n",
              " (5086, 1024),\n",
              " (5086,))"
            ]
          },
          "metadata": {},
          "execution_count": 7
        }
      ]
    },
    {
      "cell_type": "markdown",
      "source": [
        "####check model"
      ],
      "metadata": {
        "id": "EakWI3r9aIya"
      }
    },
    {
      "cell_type": "code",
      "source": [
        "import tensorflow as tf\n",
        "from tensorflow.keras import layers\n",
        "\n",
        "class_cnt = len(np.unique(train_label))\n",
        "# class_cnt\n",
        "\n",
        "model = tf.keras.Sequential()\n",
        "model.add(layers.Dense(256, input_dim=1024, kernel_initializer='glorot_uniform', activation='relu')) \n",
        "model.add(layers.BatchNormalization())\n",
        "model.add(layers.Dense(256, input_dim=1024, kernel_initializer='glorot_uniform', activation='relu')) \n",
        "model.add(layers.BatchNormalization())\n",
        "model.add(layers.Dense(class_cnt, activation='softmax')) \n",
        "\n",
        "model.compile(loss='sparse_categorical_crossentropy', optimizer='SGD', metrics=['accuracy'])\n",
        "\n",
        "_epochs = 10\n",
        "model.fit(train_feature, train_label)"
      ],
      "metadata": {
        "colab": {
          "base_uri": "https://localhost:8080/"
        },
        "id": "10nMXv_Ad9Z4",
        "outputId": "a25991af-ae18-40e7-bd5b-1aa1847ad0d7"
      },
      "execution_count": 8,
      "outputs": [
        {
          "output_type": "stream",
          "name": "stdout",
          "text": [
            "587/587 [==============================] - 6s 7ms/step - loss: 1.1214 - accuracy: 0.5999\n"
          ]
        },
        {
          "output_type": "execute_result",
          "data": {
            "text/plain": [
              "<keras.callbacks.History at 0x7f090eb36990>"
            ]
          },
          "metadata": {},
          "execution_count": 8
        }
      ]
    },
    {
      "cell_type": "code",
      "source": [
        "# input_layer = layers.Input(shape=(1024,))  # input: 1024 nodes\n",
        "# x = tf.keras.layers.Flatten(name='Flatten')(input_layer)\n",
        "# x = layers.Activation('relu')(layers.Dense(256, input_dim=1024)(x))  # hidden: 256 nodes\n",
        "# x = layers.BatchNormalization()(x)\n",
        "# y = layers.Activation('softmax')(layers.Dense(class_cnt)(x))    # number of output nodes : class_no (it changes depend on label you selected)\n",
        "# model = tf.keras.Model(x, y)\n",
        "# model.compile(loss='sparse_categorical_crossentropy', optimizer='SGD', metrics=['accuracy'])\n",
        "\n",
        "# model.fit(train_feature, train_label)"
      ],
      "metadata": {
        "id": "WvWcJQklaMkY"
      },
      "execution_count": 9,
      "outputs": []
    },
    {
      "cell_type": "markdown",
      "source": [
        "###MPL CNN with BatchNormalization"
      ],
      "metadata": {
        "id": "9MSHrC28O6-g"
      }
    },
    {
      "cell_type": "code",
      "source": [
        "import numpy as np\n",
        "\n",
        "class_cnt = len(np.unique(train_label))\n",
        "class_cnt"
      ],
      "metadata": {
        "colab": {
          "base_uri": "https://localhost:8080/"
        },
        "id": "lCqCX_FxVWV9",
        "outputId": "4df9c222-8f03-4c3e-c28c-b6ea33683f45"
      },
      "execution_count": 10,
      "outputs": [
        {
          "output_type": "execute_result",
          "data": {
            "text/plain": [
              "6"
            ]
          },
          "metadata": {},
          "execution_count": 10
        }
      ]
    },
    {
      "cell_type": "code",
      "source": [
        "import tensorflow as tf\n",
        "from tensorflow.keras import layers\n",
        "\n",
        "def make_model(_class_cnt, _hidden_layers=1, dense_count=256, _kernel_initializer='glorot_uniform', _activation='relu', batch_normal=False, epochs=2, label_class=0):\n",
        "  _model = tf.keras.Sequential()\n",
        "  _model.add(layers.Dense(dense_count, input_dim=1024, kernel_initializer=_kernel_initializer, activation=_activation)) \n",
        "  if batch_normal:\n",
        "    _model.add(layers.BatchNormalization())\n",
        "  for idx in range(_hidden_layers):\n",
        "    _model.add(layers.Dense(dense_count, kernel_initializer=_kernel_initializer, activation=_activation)) \n",
        "    if batch_normal:\n",
        "      _model.add(layers.BatchNormalization())\n",
        "  _model.add(layers.Dense(_class_cnt, activation='softmax')) \n",
        "\n",
        "  _model.compile(loss='sparse_categorical_crossentropy', optimizer='SGD', metrics=['accuracy'])\n",
        "\n",
        "  return _model\n",
        "model = make_model(_class_cnt=6)    \n",
        "# tf.keras.utils.plot_model(model, show_shapes=True, show_dtype=True, expand_nested=True, show_layer_activations=True) #layer_range=?, "
      ],
      "metadata": {
        "id": "yqT3pQgKO92o"
      },
      "execution_count": 11,
      "outputs": []
    },
    {
      "cell_type": "markdown",
      "source": [
        "###callback function for fit time"
      ],
      "metadata": {
        "id": "69PhSLjqmI8M"
      }
    },
    {
      "cell_type": "code",
      "source": [
        "import time\n",
        "\n",
        "class TimeHistory(tf.keras.callbacks.Callback):\n",
        "    def on_train_begin(self, logs={}):\n",
        "        self.times = []\n",
        "\n",
        "    def on_epoch_begin(self, epoch, logs={}):\n",
        "        self.epoch_time_start = time.time()\n",
        "\n",
        "    def on_epoch_end(self, epoch, logs={}):\n",
        "        self.times.append(time.time() - self.epoch_time_start)\n",
        "TimeHistory()"
      ],
      "metadata": {
        "id": "-r_M426PmP5P",
        "colab": {
          "base_uri": "https://localhost:8080/"
        },
        "outputId": "e963a78d-4c10-4ac7-8546-685d82f78e40"
      },
      "execution_count": 12,
      "outputs": [
        {
          "output_type": "execute_result",
          "data": {
            "text/plain": [
              "<__main__.TimeHistory at 0x7f090d072590>"
            ]
          },
          "metadata": {},
          "execution_count": 12
        }
      ]
    },
    {
      "cell_type": "markdown",
      "source": [
        "### fit model"
      ],
      "metadata": {
        "id": "1E1Fdq6pnRAe"
      }
    },
    {
      "cell_type": "code",
      "source": [
        "rows = train_feature\n",
        "_batch_size = int(len(list(rows)) / (len(list(rows))/5))   # Just Check Model params quickly\n",
        "# _batch_size = len(list(rows))\n",
        "\n",
        "def model_fit(_param, _dataset):\n",
        "  tf.keras.backend.clear_session()\n",
        "\n",
        "  (_train_feature, _train_label, _validation_feature, _validation_label) = _dataset\n",
        "  _param['_class_cnt'] = len(np.unique(_train_label))\n",
        "  print(_param['epochs'], _param['_class_cnt'])\n",
        "\n",
        "  model = make_model(**_param)\n",
        "  time_callback = TimeHistory()\n",
        "  history = model.fit(_train_feature, _train_label, epochs=_param['epochs'], validation_data=(_validation_feature, _validation_label), callbacks=[time_callback], steps_per_epoch=_batch_size)\n",
        "  # history = model.fit(_train_feature, _train_label, epochs=_epochs, callbacks=[time_callback])\n",
        "  execution_time = sum(time_callback.times)\n",
        "  return model, history, execution_time, _param\n",
        "dataset = preprocessDataset(1)  \n",
        "param = {'_hidden_layers':1, 'dense_count':256, '_kernel_initializer':'glorot_uniform', '_activation':'relu', 'batch_normal':False, 'epochs':2}\n",
        "model_fit(param, dataset)  "
      ],
      "metadata": {
        "id": "QYn7Q8f311Bi",
        "colab": {
          "base_uri": "https://localhost:8080/"
        },
        "outputId": "41755ab9-c2f5-44d8-b646-4cca27acadf9"
      },
      "execution_count": 16,
      "outputs": [
        {
          "output_type": "stream",
          "name": "stdout",
          "text": [
            "2 6\n",
            "Epoch 1/2\n",
            "5/5 [==============================] - 1s 245ms/step - loss: 1.7378 - accuracy: 0.3391 - val_loss: 1.5062 - val_accuracy: 0.5387\n",
            "Epoch 2/2\n",
            "5/5 [==============================] - 1s 187ms/step - loss: 1.4434 - accuracy: 0.5674 - val_loss: 1.4548 - val_accuracy: 0.5387\n"
          ]
        },
        {
          "output_type": "execute_result",
          "data": {
            "text/plain": [
              "(<keras.engine.sequential.Sequential at 0x7f090bc5c9d0>,\n",
              " <keras.callbacks.History at 0x7f090bc14650>,\n",
              " 2.25327467918396,\n",
              " {'_activation': 'relu',\n",
              "  '_class_cnt': 6,\n",
              "  '_hidden_layers': 1,\n",
              "  '_kernel_initializer': 'glorot_uniform',\n",
              "  'batch_normal': False,\n",
              "  'dense_count': 256,\n",
              "  'epochs': 2})"
            ]
          },
          "metadata": {},
          "execution_count": 16
        }
      ]
    },
    {
      "cell_type": "markdown",
      "source": [
        "### fit with multi params"
      ],
      "metadata": {
        "id": "6NzJoF7tx9Jv"
      }
    },
    {
      "cell_type": "code",
      "source": [
        "params = [\n",
        "          {'_hidden_layers':0, 'dense_count':64, '_kernel_initializer':None, '_activation':'relu', 'batch_normal':False, 'epochs':5},\n",
        "          {'_hidden_layers':0, 'dense_count':64, '_kernel_initializer':None, '_activation':'relu', 'batch_normal':False, 'epochs':15},\n",
        "          {'_hidden_layers':0, 'dense_count':64, '_kernel_initializer':None, '_activation':'relu', 'batch_normal':False, 'epochs':45},\n",
        "          # {'_hidden_layers':5, 'dense_count':64, '_kernel_initializer':None, '_activation':'relu', 'batch_normal':False, 'epochs':5},\n",
        "          # {'_hidden_layers':5, 'dense_count':64, '_kernel_initializer':None, '_activation':'relu', 'batch_normal':False, 'epochs':15},\n",
        "          # {'_hidden_layers':5, 'dense_count':64, '_kernel_initializer':None, '_activation':'relu', 'batch_normal':False, 'epochs':45},\n",
        "          ]\n",
        "\n",
        "label_classes = [0, 3, 5]\n",
        "for label in label_classes:\n",
        "  dataset = preprocessDataset(label)\n",
        "  results = list()          \n",
        "  for idx, param in enumerate(params):\n",
        "    param['label_class'] = label\n",
        "    print('-'*5 +'[ '+ str(idx) + ' ]'+ '-'*5 + str(param))\n",
        "    results.append(model_fit(param, dataset))\n"
      ],
      "metadata": {
        "colab": {
          "base_uri": "https://localhost:8080/"
        },
        "id": "i1Tnuhc2x5eH",
        "outputId": "236142d8-0489-4ff4-cb71-402a8d5fbe28"
      },
      "execution_count": 17,
      "outputs": [
        {
          "output_type": "stream",
          "name": "stdout",
          "text": [
            "-----[ 0 ]-----{'_hidden_layers': 0, 'dense_count': 64, '_kernel_initializer': None, '_activation': 'relu', 'batch_normal': False, 'epochs': 5, 'label_class': 0}\n",
            "5 30\n",
            "Epoch 1/5\n",
            "5/5 [==============================] - 1s 167ms/step - loss: 3.4730 - accuracy: 0.0373 - val_loss: 3.4444 - val_accuracy: 0.0401\n",
            "Epoch 2/5\n",
            "5/5 [==============================] - 0s 98ms/step - loss: 3.4316 - accuracy: 0.0409 - val_loss: 3.4135 - val_accuracy: 0.0427\n",
            "Epoch 3/5\n",
            "5/5 [==============================] - 1s 126ms/step - loss: 3.4048 - accuracy: 0.0415 - val_loss: 3.3924 - val_accuracy: 0.0395\n",
            "Epoch 4/5\n",
            "5/5 [==============================] - 0s 93ms/step - loss: 3.3859 - accuracy: 0.0414 - val_loss: 3.3768 - val_accuracy: 0.0409\n",
            "Epoch 5/5\n",
            "5/5 [==============================] - 0s 94ms/step - loss: 3.3718 - accuracy: 0.0433 - val_loss: 3.3648 - val_accuracy: 0.0440\n",
            "-----[ 1 ]-----{'_hidden_layers': 0, 'dense_count': 64, '_kernel_initializer': None, '_activation': 'relu', 'batch_normal': False, 'epochs': 15, 'label_class': 0}\n",
            "15 30\n",
            "Epoch 1/15\n",
            "5/5 [==============================] - 1s 171ms/step - loss: 3.4867 - accuracy: 0.0339 - val_loss: 3.4637 - val_accuracy: 0.0344\n",
            "Epoch 2/15\n",
            "5/5 [==============================] - 1s 123ms/step - loss: 3.4475 - accuracy: 0.0332 - val_loss: 3.4349 - val_accuracy: 0.0315\n",
            "Epoch 3/15\n",
            "5/5 [==============================] - 1s 127ms/step - loss: 3.4237 - accuracy: 0.0331 - val_loss: 3.4161 - val_accuracy: 0.0336\n",
            "Epoch 4/15\n",
            "5/5 [==============================] - 1s 123ms/step - loss: 3.4077 - accuracy: 0.0338 - val_loss: 3.4033 - val_accuracy: 0.0383\n",
            "Epoch 5/15\n",
            "5/5 [==============================] - 1s 129ms/step - loss: 3.3966 - accuracy: 0.0375 - val_loss: 3.3939 - val_accuracy: 0.0452\n",
            "Epoch 6/15\n",
            "5/5 [==============================] - 1s 122ms/step - loss: 3.3881 - accuracy: 0.0412 - val_loss: 3.3865 - val_accuracy: 0.0513\n",
            "Epoch 7/15\n",
            "5/5 [==============================] - 1s 123ms/step - loss: 3.3811 - accuracy: 0.0477 - val_loss: 3.3800 - val_accuracy: 0.0529\n",
            "Epoch 8/15\n",
            "5/5 [==============================] - 1s 118ms/step - loss: 3.3749 - accuracy: 0.0490 - val_loss: 3.3741 - val_accuracy: 0.0537\n",
            "Epoch 9/15\n",
            "5/5 [==============================] - 0s 89ms/step - loss: 3.3693 - accuracy: 0.0494 - val_loss: 3.3689 - val_accuracy: 0.0517\n",
            "Epoch 10/15\n",
            "5/5 [==============================] - 1s 123ms/step - loss: 3.3643 - accuracy: 0.0503 - val_loss: 3.3642 - val_accuracy: 0.0499\n",
            "Epoch 11/15\n",
            "5/5 [==============================] - 0s 96ms/step - loss: 3.3597 - accuracy: 0.0503 - val_loss: 3.3600 - val_accuracy: 0.0501\n",
            "Epoch 12/15\n",
            "5/5 [==============================] - 0s 98ms/step - loss: 3.3555 - accuracy: 0.0502 - val_loss: 3.3561 - val_accuracy: 0.0495\n",
            "Epoch 13/15\n",
            "5/5 [==============================] - 0s 101ms/step - loss: 3.3516 - accuracy: 0.0502 - val_loss: 3.3524 - val_accuracy: 0.0505\n",
            "Epoch 14/15\n",
            "5/5 [==============================] - 0s 97ms/step - loss: 3.3480 - accuracy: 0.0505 - val_loss: 3.3489 - val_accuracy: 0.0523\n",
            "Epoch 15/15\n",
            "5/5 [==============================] - 0s 89ms/step - loss: 3.3443 - accuracy: 0.0522 - val_loss: 3.3455 - val_accuracy: 0.0533\n",
            "-----[ 2 ]-----{'_hidden_layers': 0, 'dense_count': 64, '_kernel_initializer': None, '_activation': 'relu', 'batch_normal': False, 'epochs': 45, 'label_class': 0}\n",
            "45 30\n",
            "Epoch 1/45\n",
            "5/5 [==============================] - 1s 166ms/step - loss: 3.4732 - accuracy: 0.0290 - val_loss: 3.4473 - val_accuracy: 0.0328\n",
            "Epoch 2/45\n",
            "5/5 [==============================] - 0s 99ms/step - loss: 3.4384 - accuracy: 0.0309 - val_loss: 3.4205 - val_accuracy: 0.0330\n",
            "Epoch 3/45\n",
            "5/5 [==============================] - 0s 93ms/step - loss: 3.4151 - accuracy: 0.0337 - val_loss: 3.4016 - val_accuracy: 0.0356\n",
            "Epoch 4/45\n",
            "5/5 [==============================] - 1s 122ms/step - loss: 3.3982 - accuracy: 0.0353 - val_loss: 3.3872 - val_accuracy: 0.0378\n",
            "Epoch 5/45\n",
            "5/5 [==============================] - 0s 98ms/step - loss: 3.3848 - accuracy: 0.0378 - val_loss: 3.3756 - val_accuracy: 0.0407\n",
            "Epoch 6/45\n",
            "5/5 [==============================] - 0s 101ms/step - loss: 3.3740 - accuracy: 0.0414 - val_loss: 3.3661 - val_accuracy: 0.0431\n",
            "Epoch 7/45\n",
            "5/5 [==============================] - 0s 95ms/step - loss: 3.3651 - accuracy: 0.0459 - val_loss: 3.3582 - val_accuracy: 0.0474\n",
            "Epoch 8/45\n",
            "5/5 [==============================] - 0s 95ms/step - loss: 3.3575 - accuracy: 0.0507 - val_loss: 3.3513 - val_accuracy: 0.0525\n",
            "Epoch 9/45\n",
            "5/5 [==============================] - 0s 104ms/step - loss: 3.3508 - accuracy: 0.0563 - val_loss: 3.3452 - val_accuracy: 0.0572\n",
            "Epoch 10/45\n",
            "5/5 [==============================] - 0s 97ms/step - loss: 3.3448 - accuracy: 0.0609 - val_loss: 3.3398 - val_accuracy: 0.0613\n",
            "Epoch 11/45\n",
            "5/5 [==============================] - 1s 124ms/step - loss: 3.3395 - accuracy: 0.0657 - val_loss: 3.3348 - val_accuracy: 0.0645\n",
            "Epoch 12/45\n",
            "5/5 [==============================] - 1s 122ms/step - loss: 3.3347 - accuracy: 0.0682 - val_loss: 3.3303 - val_accuracy: 0.0676\n",
            "Epoch 13/45\n",
            "5/5 [==============================] - 1s 127ms/step - loss: 3.3302 - accuracy: 0.0724 - val_loss: 3.3261 - val_accuracy: 0.0710\n",
            "Epoch 14/45\n",
            "5/5 [==============================] - 0s 97ms/step - loss: 3.3260 - accuracy: 0.0762 - val_loss: 3.3220 - val_accuracy: 0.0751\n",
            "Epoch 15/45\n",
            "5/5 [==============================] - 0s 99ms/step - loss: 3.3220 - accuracy: 0.0796 - val_loss: 3.3181 - val_accuracy: 0.0792\n",
            "Epoch 16/45\n",
            "5/5 [==============================] - 0s 96ms/step - loss: 3.3181 - accuracy: 0.0827 - val_loss: 3.3143 - val_accuracy: 0.0814\n",
            "Epoch 17/45\n",
            "5/5 [==============================] - 0s 94ms/step - loss: 3.3144 - accuracy: 0.0840 - val_loss: 3.3107 - val_accuracy: 0.0836\n",
            "Epoch 18/45\n",
            "5/5 [==============================] - 0s 90ms/step - loss: 3.3108 - accuracy: 0.0873 - val_loss: 3.3071 - val_accuracy: 0.0865\n",
            "Epoch 19/45\n",
            "5/5 [==============================] - 1s 119ms/step - loss: 3.3072 - accuracy: 0.0884 - val_loss: 3.3035 - val_accuracy: 0.0887\n",
            "Epoch 20/45\n",
            "5/5 [==============================] - 1s 126ms/step - loss: 3.3036 - accuracy: 0.0902 - val_loss: 3.3000 - val_accuracy: 0.0906\n",
            "Epoch 21/45\n",
            "5/5 [==============================] - 1s 122ms/step - loss: 3.3001 - accuracy: 0.0918 - val_loss: 3.2965 - val_accuracy: 0.0920\n",
            "Epoch 22/45\n",
            "5/5 [==============================] - 1s 119ms/step - loss: 3.2967 - accuracy: 0.0943 - val_loss: 3.2931 - val_accuracy: 0.0942\n",
            "Epoch 23/45\n",
            "5/5 [==============================] - 1s 124ms/step - loss: 3.2932 - accuracy: 0.0959 - val_loss: 3.2896 - val_accuracy: 0.0954\n",
            "Epoch 24/45\n",
            "5/5 [==============================] - 1s 124ms/step - loss: 3.2897 - accuracy: 0.0968 - val_loss: 3.2862 - val_accuracy: 0.0967\n",
            "Epoch 25/45\n",
            "5/5 [==============================] - 1s 119ms/step - loss: 3.2863 - accuracy: 0.0981 - val_loss: 3.2827 - val_accuracy: 0.0969\n",
            "Epoch 26/45\n",
            "5/5 [==============================] - 0s 87ms/step - loss: 3.2829 - accuracy: 0.0991 - val_loss: 3.2793 - val_accuracy: 0.0983\n",
            "Epoch 27/45\n",
            "5/5 [==============================] - 0s 95ms/step - loss: 3.2794 - accuracy: 0.1007 - val_loss: 3.2759 - val_accuracy: 0.0985\n",
            "Epoch 28/45\n",
            "5/5 [==============================] - 0s 96ms/step - loss: 3.2761 - accuracy: 0.1014 - val_loss: 3.2725 - val_accuracy: 0.1009\n",
            "Epoch 29/45\n",
            "5/5 [==============================] - 1s 122ms/step - loss: 3.2726 - accuracy: 0.1030 - val_loss: 3.2691 - val_accuracy: 0.1022\n",
            "Epoch 30/45\n",
            "5/5 [==============================] - 0s 99ms/step - loss: 3.2693 - accuracy: 0.1039 - val_loss: 3.2658 - val_accuracy: 0.1034\n",
            "Epoch 31/45\n",
            "5/5 [==============================] - 1s 123ms/step - loss: 3.2659 - accuracy: 0.1053 - val_loss: 3.2624 - val_accuracy: 0.1040\n",
            "Epoch 32/45\n",
            "5/5 [==============================] - 0s 100ms/step - loss: 3.2626 - accuracy: 0.1070 - val_loss: 3.2591 - val_accuracy: 0.1046\n",
            "Epoch 33/45\n",
            "5/5 [==============================] - 0s 93ms/step - loss: 3.2593 - accuracy: 0.1075 - val_loss: 3.2558 - val_accuracy: 0.1052\n",
            "Epoch 34/45\n",
            "5/5 [==============================] - 0s 97ms/step - loss: 3.2560 - accuracy: 0.1092 - val_loss: 3.2525 - val_accuracy: 0.1056\n",
            "Epoch 35/45\n",
            "5/5 [==============================] - 0s 94ms/step - loss: 3.2527 - accuracy: 0.1104 - val_loss: 3.2491 - val_accuracy: 0.1070\n",
            "Epoch 36/45\n",
            "5/5 [==============================] - 1s 124ms/step - loss: 3.2494 - accuracy: 0.1118 - val_loss: 3.2458 - val_accuracy: 0.1083\n",
            "Epoch 37/45\n",
            "5/5 [==============================] - 1s 122ms/step - loss: 3.2461 - accuracy: 0.1128 - val_loss: 3.2425 - val_accuracy: 0.1097\n",
            "Epoch 38/45\n",
            "5/5 [==============================] - 0s 91ms/step - loss: 3.2428 - accuracy: 0.1142 - val_loss: 3.2392 - val_accuracy: 0.1123\n",
            "Epoch 39/45\n",
            "5/5 [==============================] - 0s 93ms/step - loss: 3.2394 - accuracy: 0.1151 - val_loss: 3.2359 - val_accuracy: 0.1140\n",
            "Epoch 40/45\n",
            "5/5 [==============================] - 0s 91ms/step - loss: 3.2361 - accuracy: 0.1153 - val_loss: 3.2326 - val_accuracy: 0.1172\n",
            "Epoch 41/45\n",
            "5/5 [==============================] - 0s 97ms/step - loss: 3.2329 - accuracy: 0.1161 - val_loss: 3.2293 - val_accuracy: 0.1176\n",
            "Epoch 42/45\n",
            "5/5 [==============================] - 1s 123ms/step - loss: 3.2295 - accuracy: 0.1176 - val_loss: 3.2260 - val_accuracy: 0.1186\n",
            "Epoch 43/45\n",
            "5/5 [==============================] - 0s 104ms/step - loss: 3.2262 - accuracy: 0.1193 - val_loss: 3.2226 - val_accuracy: 0.1190\n",
            "Epoch 44/45\n",
            "5/5 [==============================] - 0s 92ms/step - loss: 3.2228 - accuracy: 0.1201 - val_loss: 3.2193 - val_accuracy: 0.1197\n",
            "Epoch 45/45\n",
            "5/5 [==============================] - 0s 92ms/step - loss: 3.2195 - accuracy: 0.1207 - val_loss: 3.2159 - val_accuracy: 0.1193\n",
            "-----[ 0 ]-----{'_hidden_layers': 0, 'dense_count': 64, '_kernel_initializer': None, '_activation': 'relu', 'batch_normal': False, 'epochs': 5, 'label_class': 3, '_class_cnt': 30}\n",
            "5 2\n",
            "Epoch 1/5\n",
            "5/5 [==============================] - 1s 136ms/step - loss: 0.7152 - accuracy: 0.4778 - val_loss: 0.6904 - val_accuracy: 0.5446\n",
            "Epoch 2/5\n",
            "5/5 [==============================] - 1s 124ms/step - loss: 0.6816 - accuracy: 0.5762 - val_loss: 0.6740 - val_accuracy: 0.6168\n",
            "Epoch 3/5\n",
            "5/5 [==============================] - 0s 94ms/step - loss: 0.6659 - accuracy: 0.6338 - val_loss: 0.6609 - val_accuracy: 0.6488\n",
            "Epoch 4/5\n",
            "5/5 [==============================] - 0s 96ms/step - loss: 0.6534 - accuracy: 0.6643 - val_loss: 0.6502 - val_accuracy: 0.6636\n",
            "Epoch 5/5\n",
            "5/5 [==============================] - 0s 88ms/step - loss: 0.6431 - accuracy: 0.6781 - val_loss: 0.6413 - val_accuracy: 0.6785\n",
            "-----[ 1 ]-----{'_hidden_layers': 0, 'dense_count': 64, '_kernel_initializer': None, '_activation': 'relu', 'batch_normal': False, 'epochs': 15, 'label_class': 3, '_class_cnt': 30}\n",
            "15 2\n",
            "Epoch 1/15\n",
            "5/5 [==============================] - 1s 141ms/step - loss: 0.6972 - accuracy: 0.5212 - val_loss: 0.6794 - val_accuracy: 0.5661\n",
            "Epoch 2/15\n",
            "5/5 [==============================] - 0s 115ms/step - loss: 0.6732 - accuracy: 0.5871 - val_loss: 0.6671 - val_accuracy: 0.6103\n",
            "Epoch 3/15\n",
            "5/5 [==============================] - 1s 117ms/step - loss: 0.6616 - accuracy: 0.6229 - val_loss: 0.6570 - val_accuracy: 0.6333\n",
            "Epoch 4/15\n",
            "5/5 [==============================] - 0s 95ms/step - loss: 0.6516 - accuracy: 0.6474 - val_loss: 0.6480 - val_accuracy: 0.6526\n",
            "Epoch 5/15\n",
            "5/5 [==============================] - 0s 91ms/step - loss: 0.6428 - accuracy: 0.6637 - val_loss: 0.6399 - val_accuracy: 0.6648\n",
            "Epoch 6/15\n",
            "5/5 [==============================] - 0s 92ms/step - loss: 0.6348 - accuracy: 0.6772 - val_loss: 0.6330 - val_accuracy: 0.6736\n",
            "Epoch 7/15\n",
            "5/5 [==============================] - 0s 96ms/step - loss: 0.6281 - accuracy: 0.6839 - val_loss: 0.6270 - val_accuracy: 0.6773\n",
            "Epoch 8/15\n",
            "5/5 [==============================] - 0s 93ms/step - loss: 0.6222 - accuracy: 0.6905 - val_loss: 0.6216 - val_accuracy: 0.6832\n",
            "Epoch 9/15\n",
            "5/5 [==============================] - 1s 122ms/step - loss: 0.6168 - accuracy: 0.6964 - val_loss: 0.6167 - val_accuracy: 0.6884\n",
            "Epoch 10/15\n",
            "5/5 [==============================] - 0s 89ms/step - loss: 0.6118 - accuracy: 0.7009 - val_loss: 0.6120 - val_accuracy: 0.6945\n",
            "Epoch 11/15\n",
            "5/5 [==============================] - 0s 93ms/step - loss: 0.6070 - accuracy: 0.7051 - val_loss: 0.6075 - val_accuracy: 0.6974\n",
            "Epoch 12/15\n",
            "5/5 [==============================] - 1s 122ms/step - loss: 0.6025 - accuracy: 0.7087 - val_loss: 0.6033 - val_accuracy: 0.6996\n",
            "Epoch 13/15\n",
            "5/5 [==============================] - 0s 85ms/step - loss: 0.5982 - accuracy: 0.7127 - val_loss: 0.5992 - val_accuracy: 0.7055\n",
            "Epoch 14/15\n",
            "5/5 [==============================] - 0s 89ms/step - loss: 0.5940 - accuracy: 0.7163 - val_loss: 0.5952 - val_accuracy: 0.7061\n",
            "Epoch 15/15\n",
            "5/5 [==============================] - 0s 115ms/step - loss: 0.5900 - accuracy: 0.7196 - val_loss: 0.5912 - val_accuracy: 0.7108\n",
            "-----[ 2 ]-----{'_hidden_layers': 0, 'dense_count': 64, '_kernel_initializer': None, '_activation': 'relu', 'batch_normal': False, 'epochs': 45, 'label_class': 3, '_class_cnt': 30}\n",
            "45 2\n",
            "Epoch 1/45\n",
            "5/5 [==============================] - 1s 136ms/step - loss: 0.7237 - accuracy: 0.4108 - val_loss: 0.7084 - val_accuracy: 0.4638\n",
            "Epoch 2/45\n",
            "5/5 [==============================] - 0s 101ms/step - loss: 0.7028 - accuracy: 0.4888 - val_loss: 0.6956 - val_accuracy: 0.5252\n",
            "Epoch 3/45\n",
            "5/5 [==============================] - 1s 121ms/step - loss: 0.6905 - accuracy: 0.5469 - val_loss: 0.6849 - val_accuracy: 0.5761\n",
            "Epoch 4/45\n",
            "5/5 [==============================] - 1s 119ms/step - loss: 0.6801 - accuracy: 0.5886 - val_loss: 0.6757 - val_accuracy: 0.6097\n",
            "Epoch 5/45\n",
            "5/5 [==============================] - 1s 116ms/step - loss: 0.6709 - accuracy: 0.6185 - val_loss: 0.6673 - val_accuracy: 0.6309\n",
            "Epoch 6/45\n",
            "5/5 [==============================] - 1s 116ms/step - loss: 0.6627 - accuracy: 0.6387 - val_loss: 0.6598 - val_accuracy: 0.6479\n",
            "Epoch 7/45\n",
            "5/5 [==============================] - 0s 94ms/step - loss: 0.6552 - accuracy: 0.6543 - val_loss: 0.6530 - val_accuracy: 0.6589\n",
            "Epoch 8/45\n",
            "5/5 [==============================] - 1s 122ms/step - loss: 0.6483 - accuracy: 0.6638 - val_loss: 0.6466 - val_accuracy: 0.6675\n",
            "Epoch 9/45\n",
            "5/5 [==============================] - 1s 122ms/step - loss: 0.6419 - accuracy: 0.6725 - val_loss: 0.6407 - val_accuracy: 0.6754\n",
            "Epoch 10/45\n",
            "5/5 [==============================] - 0s 93ms/step - loss: 0.6360 - accuracy: 0.6797 - val_loss: 0.6352 - val_accuracy: 0.6805\n",
            "Epoch 11/45\n",
            "5/5 [==============================] - 1s 121ms/step - loss: 0.6306 - accuracy: 0.6848 - val_loss: 0.6300 - val_accuracy: 0.6850\n",
            "Epoch 12/45\n",
            "5/5 [==============================] - 1s 119ms/step - loss: 0.6252 - accuracy: 0.6885 - val_loss: 0.6251 - val_accuracy: 0.6891\n",
            "Epoch 13/45\n",
            "5/5 [==============================] - 0s 91ms/step - loss: 0.6202 - accuracy: 0.6948 - val_loss: 0.6204 - val_accuracy: 0.6925\n",
            "Epoch 14/45\n",
            "5/5 [==============================] - 1s 126ms/step - loss: 0.6155 - accuracy: 0.6974 - val_loss: 0.6159 - val_accuracy: 0.6958\n",
            "Epoch 15/45\n",
            "5/5 [==============================] - 0s 92ms/step - loss: 0.6110 - accuracy: 0.7003 - val_loss: 0.6116 - val_accuracy: 0.7013\n",
            "Epoch 16/45\n",
            "5/5 [==============================] - 0s 99ms/step - loss: 0.6066 - accuracy: 0.7054 - val_loss: 0.6075 - val_accuracy: 0.7035\n",
            "Epoch 17/45\n",
            "5/5 [==============================] - 0s 91ms/step - loss: 0.6024 - accuracy: 0.7093 - val_loss: 0.6035 - val_accuracy: 0.7061\n",
            "Epoch 18/45\n",
            "5/5 [==============================] - 0s 96ms/step - loss: 0.5983 - accuracy: 0.7122 - val_loss: 0.5997 - val_accuracy: 0.7090\n",
            "Epoch 19/45\n",
            "5/5 [==============================] - 0s 95ms/step - loss: 0.5945 - accuracy: 0.7154 - val_loss: 0.5960 - val_accuracy: 0.7112\n",
            "Epoch 20/45\n",
            "5/5 [==============================] - 0s 91ms/step - loss: 0.5908 - accuracy: 0.7201 - val_loss: 0.5923 - val_accuracy: 0.7131\n",
            "Epoch 21/45\n",
            "5/5 [==============================] - 0s 95ms/step - loss: 0.5871 - accuracy: 0.7230 - val_loss: 0.5889 - val_accuracy: 0.7177\n",
            "Epoch 22/45\n",
            "5/5 [==============================] - 1s 121ms/step - loss: 0.5835 - accuracy: 0.7256 - val_loss: 0.5854 - val_accuracy: 0.7218\n",
            "Epoch 23/45\n",
            "5/5 [==============================] - 1s 123ms/step - loss: 0.5802 - accuracy: 0.7284 - val_loss: 0.5821 - val_accuracy: 0.7247\n",
            "Epoch 24/45\n",
            "5/5 [==============================] - 1s 122ms/step - loss: 0.5768 - accuracy: 0.7311 - val_loss: 0.5788 - val_accuracy: 0.7259\n",
            "Epoch 25/45\n",
            "5/5 [==============================] - 1s 125ms/step - loss: 0.5735 - accuracy: 0.7336 - val_loss: 0.5757 - val_accuracy: 0.7298\n",
            "Epoch 26/45\n",
            "5/5 [==============================] - 1s 122ms/step - loss: 0.5704 - accuracy: 0.7348 - val_loss: 0.5726 - val_accuracy: 0.7314\n",
            "Epoch 27/45\n",
            "5/5 [==============================] - 1s 121ms/step - loss: 0.5673 - accuracy: 0.7388 - val_loss: 0.5695 - val_accuracy: 0.7338\n",
            "Epoch 28/45\n",
            "5/5 [==============================] - 1s 120ms/step - loss: 0.5641 - accuracy: 0.7412 - val_loss: 0.5665 - val_accuracy: 0.7355\n",
            "Epoch 29/45\n",
            "5/5 [==============================] - 1s 122ms/step - loss: 0.5611 - accuracy: 0.7435 - val_loss: 0.5635 - val_accuracy: 0.7407\n",
            "Epoch 30/45\n",
            "5/5 [==============================] - 0s 91ms/step - loss: 0.5581 - accuracy: 0.7453 - val_loss: 0.5604 - val_accuracy: 0.7428\n",
            "Epoch 31/45\n",
            "5/5 [==============================] - 1s 208ms/step - loss: 0.5550 - accuracy: 0.7474 - val_loss: 0.5574 - val_accuracy: 0.7454\n",
            "Epoch 32/45\n",
            "5/5 [==============================] - 0s 94ms/step - loss: 0.5519 - accuracy: 0.7484 - val_loss: 0.5544 - val_accuracy: 0.7497\n",
            "Epoch 33/45\n",
            "5/5 [==============================] - 0s 92ms/step - loss: 0.5488 - accuracy: 0.7530 - val_loss: 0.5513 - val_accuracy: 0.7517\n",
            "Epoch 34/45\n",
            "5/5 [==============================] - 0s 95ms/step - loss: 0.5457 - accuracy: 0.7551 - val_loss: 0.5483 - val_accuracy: 0.7532\n",
            "Epoch 35/45\n",
            "5/5 [==============================] - 1s 122ms/step - loss: 0.5427 - accuracy: 0.7574 - val_loss: 0.5454 - val_accuracy: 0.7566\n",
            "Epoch 36/45\n",
            "5/5 [==============================] - 0s 86ms/step - loss: 0.5399 - accuracy: 0.7593 - val_loss: 0.5428 - val_accuracy: 0.7593\n",
            "Epoch 37/45\n",
            "5/5 [==============================] - 0s 85ms/step - loss: 0.5371 - accuracy: 0.7607 - val_loss: 0.5400 - val_accuracy: 0.7617\n",
            "Epoch 38/45\n",
            "5/5 [==============================] - 0s 91ms/step - loss: 0.5343 - accuracy: 0.7633 - val_loss: 0.5371 - val_accuracy: 0.7625\n",
            "Epoch 39/45\n",
            "5/5 [==============================] - 1s 124ms/step - loss: 0.5314 - accuracy: 0.7656 - val_loss: 0.5346 - val_accuracy: 0.7660\n",
            "Epoch 40/45\n",
            "5/5 [==============================] - 0s 95ms/step - loss: 0.5288 - accuracy: 0.7687 - val_loss: 0.5318 - val_accuracy: 0.7680\n",
            "Epoch 41/45\n",
            "5/5 [==============================] - 0s 97ms/step - loss: 0.5260 - accuracy: 0.7708 - val_loss: 0.5292 - val_accuracy: 0.7717\n",
            "Epoch 42/45\n",
            "5/5 [==============================] - 0s 92ms/step - loss: 0.5234 - accuracy: 0.7731 - val_loss: 0.5266 - val_accuracy: 0.7743\n",
            "Epoch 43/45\n",
            "5/5 [==============================] - 0s 87ms/step - loss: 0.5209 - accuracy: 0.7741 - val_loss: 0.5242 - val_accuracy: 0.7776\n",
            "Epoch 44/45\n",
            "5/5 [==============================] - 1s 121ms/step - loss: 0.5183 - accuracy: 0.7762 - val_loss: 0.5217 - val_accuracy: 0.7798\n",
            "Epoch 45/45\n",
            "5/5 [==============================] - 0s 92ms/step - loss: 0.5159 - accuracy: 0.7779 - val_loss: 0.5192 - val_accuracy: 0.7820\n",
            "-----[ 0 ]-----{'_hidden_layers': 0, 'dense_count': 64, '_kernel_initializer': None, '_activation': 'relu', 'batch_normal': False, 'epochs': 5, 'label_class': 5, '_class_cnt': 2}\n",
            "5 4\n",
            "Epoch 1/5\n",
            "5/5 [==============================] - 1s 133ms/step - loss: 1.3470 - accuracy: 0.3187 - val_loss: 1.2867 - val_accuracy: 0.3354\n",
            "Epoch 2/5\n",
            "5/5 [==============================] - 0s 92ms/step - loss: 1.2744 - accuracy: 0.3457 - val_loss: 1.2590 - val_accuracy: 0.3547\n",
            "Epoch 3/5\n",
            "5/5 [==============================] - 0s 96ms/step - loss: 1.2523 - accuracy: 0.3567 - val_loss: 1.2434 - val_accuracy: 0.3671\n",
            "Epoch 4/5\n",
            "5/5 [==============================] - 0s 92ms/step - loss: 1.2382 - accuracy: 0.3695 - val_loss: 1.2318 - val_accuracy: 0.3779\n",
            "Epoch 5/5\n",
            "5/5 [==============================] - 0s 93ms/step - loss: 1.2269 - accuracy: 0.3798 - val_loss: 1.2219 - val_accuracy: 0.3867\n",
            "-----[ 1 ]-----{'_hidden_layers': 0, 'dense_count': 64, '_kernel_initializer': None, '_activation': 'relu', 'batch_normal': False, 'epochs': 15, 'label_class': 5, '_class_cnt': 2}\n",
            "15 4\n",
            "Epoch 1/15\n",
            "5/5 [==============================] - 1s 164ms/step - loss: 1.3494 - accuracy: 0.2869 - val_loss: 1.2746 - val_accuracy: 0.3626\n",
            "Epoch 2/15\n",
            "5/5 [==============================] - 1s 125ms/step - loss: 1.2632 - accuracy: 0.3664 - val_loss: 1.2546 - val_accuracy: 0.3763\n",
            "Epoch 3/15\n",
            "5/5 [==============================] - 0s 97ms/step - loss: 1.2482 - accuracy: 0.3802 - val_loss: 1.2445 - val_accuracy: 0.3866\n",
            "Epoch 4/15\n",
            "5/5 [==============================] - 1s 120ms/step - loss: 1.2388 - accuracy: 0.3922 - val_loss: 1.2363 - val_accuracy: 0.3923\n",
            "Epoch 5/15\n",
            "5/5 [==============================] - 0s 94ms/step - loss: 1.2309 - accuracy: 0.3976 - val_loss: 1.2290 - val_accuracy: 0.4037\n",
            "Epoch 6/15\n",
            "5/5 [==============================] - 0s 94ms/step - loss: 1.2237 - accuracy: 0.4138 - val_loss: 1.2221 - val_accuracy: 0.4131\n",
            "Epoch 7/15\n",
            "5/5 [==============================] - 0s 96ms/step - loss: 1.2169 - accuracy: 0.4238 - val_loss: 1.2155 - val_accuracy: 0.4324\n",
            "Epoch 8/15\n",
            "5/5 [==============================] - 0s 93ms/step - loss: 1.2104 - accuracy: 0.4408 - val_loss: 1.2090 - val_accuracy: 0.4394\n",
            "Epoch 9/15\n",
            "5/5 [==============================] - 0s 95ms/step - loss: 1.2040 - accuracy: 0.4514 - val_loss: 1.2027 - val_accuracy: 0.4503\n",
            "Epoch 10/15\n",
            "5/5 [==============================] - 1s 125ms/step - loss: 1.1977 - accuracy: 0.4593 - val_loss: 1.1965 - val_accuracy: 0.4624\n",
            "Epoch 11/15\n",
            "5/5 [==============================] - 0s 91ms/step - loss: 1.1917 - accuracy: 0.4752 - val_loss: 1.1905 - val_accuracy: 0.4701\n",
            "Epoch 12/15\n",
            "5/5 [==============================] - 0s 90ms/step - loss: 1.1858 - accuracy: 0.4844 - val_loss: 1.1847 - val_accuracy: 0.4784\n",
            "Epoch 13/15\n",
            "5/5 [==============================] - 1s 118ms/step - loss: 1.1802 - accuracy: 0.4904 - val_loss: 1.1791 - val_accuracy: 0.4872\n",
            "Epoch 14/15\n",
            "5/5 [==============================] - 0s 94ms/step - loss: 1.1746 - accuracy: 0.4983 - val_loss: 1.1737 - val_accuracy: 0.4988\n",
            "Epoch 15/15\n",
            "5/5 [==============================] - 1s 120ms/step - loss: 1.1693 - accuracy: 0.5090 - val_loss: 1.1683 - val_accuracy: 0.4998\n",
            "-----[ 2 ]-----{'_hidden_layers': 0, 'dense_count': 64, '_kernel_initializer': None, '_activation': 'relu', 'batch_normal': False, 'epochs': 45, 'label_class': 5, '_class_cnt': 2}\n",
            "45 4\n",
            "Epoch 1/45\n",
            "5/5 [==============================] - 1s 135ms/step - loss: 1.4052 - accuracy: 0.2687 - val_loss: 1.3390 - val_accuracy: 0.2975\n",
            "Epoch 2/45\n",
            "5/5 [==============================] - 0s 94ms/step - loss: 1.3139 - accuracy: 0.3279 - val_loss: 1.2866 - val_accuracy: 0.3736\n",
            "Epoch 3/45\n",
            "5/5 [==============================] - 0s 93ms/step - loss: 1.2753 - accuracy: 0.3991 - val_loss: 1.2621 - val_accuracy: 0.4166\n",
            "Epoch 4/45\n",
            "5/5 [==============================] - 0s 94ms/step - loss: 1.2544 - accuracy: 0.4253 - val_loss: 1.2458 - val_accuracy: 0.4314\n",
            "Epoch 5/45\n",
            "5/5 [==============================] - 0s 95ms/step - loss: 1.2396 - accuracy: 0.4354 - val_loss: 1.2333 - val_accuracy: 0.4389\n",
            "Epoch 6/45\n",
            "5/5 [==============================] - 1s 122ms/step - loss: 1.2284 - accuracy: 0.4397 - val_loss: 1.2237 - val_accuracy: 0.4438\n",
            "Epoch 7/45\n",
            "5/5 [==============================] - 1s 124ms/step - loss: 1.2194 - accuracy: 0.4468 - val_loss: 1.2157 - val_accuracy: 0.4499\n",
            "Epoch 8/45\n",
            "5/5 [==============================] - 1s 124ms/step - loss: 1.2120 - accuracy: 0.4498 - val_loss: 1.2088 - val_accuracy: 0.4569\n",
            "Epoch 9/45\n",
            "5/5 [==============================] - 1s 123ms/step - loss: 1.2053 - accuracy: 0.4549 - val_loss: 1.2028 - val_accuracy: 0.4609\n",
            "Epoch 10/45\n",
            "5/5 [==============================] - 0s 100ms/step - loss: 1.1994 - accuracy: 0.4617 - val_loss: 1.1972 - val_accuracy: 0.4668\n",
            "Epoch 11/45\n",
            "5/5 [==============================] - 0s 98ms/step - loss: 1.1940 - accuracy: 0.4653 - val_loss: 1.1920 - val_accuracy: 0.4693\n",
            "Epoch 12/45\n",
            "5/5 [==============================] - 1s 123ms/step - loss: 1.1889 - accuracy: 0.4701 - val_loss: 1.1870 - val_accuracy: 0.4737\n",
            "Epoch 13/45\n",
            "5/5 [==============================] - 0s 97ms/step - loss: 1.1839 - accuracy: 0.4765 - val_loss: 1.1822 - val_accuracy: 0.4752\n",
            "Epoch 14/45\n",
            "5/5 [==============================] - 0s 95ms/step - loss: 1.1791 - accuracy: 0.4808 - val_loss: 1.1774 - val_accuracy: 0.4809\n",
            "Epoch 15/45\n",
            "5/5 [==============================] - 0s 98ms/step - loss: 1.1744 - accuracy: 0.4845 - val_loss: 1.1728 - val_accuracy: 0.4841\n",
            "Epoch 16/45\n",
            "5/5 [==============================] - 0s 95ms/step - loss: 1.1698 - accuracy: 0.4901 - val_loss: 1.1681 - val_accuracy: 0.4902\n",
            "Epoch 17/45\n",
            "5/5 [==============================] - 1s 121ms/step - loss: 1.1653 - accuracy: 0.4939 - val_loss: 1.1636 - val_accuracy: 0.4967\n",
            "Epoch 18/45\n",
            "5/5 [==============================] - 1s 123ms/step - loss: 1.1608 - accuracy: 0.5008 - val_loss: 1.1591 - val_accuracy: 0.4992\n",
            "Epoch 19/45\n",
            "5/5 [==============================] - 1s 121ms/step - loss: 1.1564 - accuracy: 0.5050 - val_loss: 1.1548 - val_accuracy: 0.4998\n",
            "Epoch 20/45\n",
            "5/5 [==============================] - 0s 93ms/step - loss: 1.1523 - accuracy: 0.5056 - val_loss: 1.1505 - val_accuracy: 0.5077\n",
            "Epoch 21/45\n",
            "5/5 [==============================] - 0s 95ms/step - loss: 1.1479 - accuracy: 0.5128 - val_loss: 1.1463 - val_accuracy: 0.5088\n",
            "Epoch 22/45\n",
            "5/5 [==============================] - 1s 126ms/step - loss: 1.1438 - accuracy: 0.5154 - val_loss: 1.1421 - val_accuracy: 0.5122\n",
            "Epoch 23/45\n",
            "5/5 [==============================] - 1s 124ms/step - loss: 1.1397 - accuracy: 0.5184 - val_loss: 1.1381 - val_accuracy: 0.5155\n",
            "Epoch 24/45\n",
            "5/5 [==============================] - 0s 95ms/step - loss: 1.1357 - accuracy: 0.5225 - val_loss: 1.1340 - val_accuracy: 0.5181\n",
            "Epoch 25/45\n",
            "5/5 [==============================] - 0s 87ms/step - loss: 1.1317 - accuracy: 0.5245 - val_loss: 1.1300 - val_accuracy: 0.5230\n",
            "Epoch 26/45\n",
            "5/5 [==============================] - 1s 116ms/step - loss: 1.1278 - accuracy: 0.5310 - val_loss: 1.1261 - val_accuracy: 0.5236\n",
            "Epoch 27/45\n",
            "5/5 [==============================] - 0s 93ms/step - loss: 1.1239 - accuracy: 0.5328 - val_loss: 1.1221 - val_accuracy: 0.5260\n",
            "Epoch 28/45\n",
            "5/5 [==============================] - 0s 98ms/step - loss: 1.1201 - accuracy: 0.5359 - val_loss: 1.1182 - val_accuracy: 0.5279\n",
            "Epoch 29/45\n",
            "5/5 [==============================] - 1s 123ms/step - loss: 1.1162 - accuracy: 0.5387 - val_loss: 1.1144 - val_accuracy: 0.5301\n",
            "Epoch 30/45\n",
            "5/5 [==============================] - 0s 93ms/step - loss: 1.1125 - accuracy: 0.5405 - val_loss: 1.1106 - val_accuracy: 0.5338\n",
            "Epoch 31/45\n",
            "5/5 [==============================] - 1s 115ms/step - loss: 1.1087 - accuracy: 0.5427 - val_loss: 1.1068 - val_accuracy: 0.5368\n",
            "Epoch 32/45\n",
            "5/5 [==============================] - 1s 123ms/step - loss: 1.1050 - accuracy: 0.5461 - val_loss: 1.1031 - val_accuracy: 0.5378\n",
            "Epoch 33/45\n",
            "5/5 [==============================] - 0s 91ms/step - loss: 1.1014 - accuracy: 0.5488 - val_loss: 1.0994 - val_accuracy: 0.5393\n",
            "Epoch 34/45\n",
            "5/5 [==============================] - 0s 88ms/step - loss: 1.0977 - accuracy: 0.5485 - val_loss: 1.0957 - val_accuracy: 0.5446\n",
            "Epoch 35/45\n",
            "5/5 [==============================] - 0s 88ms/step - loss: 1.0942 - accuracy: 0.5524 - val_loss: 1.0921 - val_accuracy: 0.5480\n",
            "Epoch 36/45\n",
            "5/5 [==============================] - 0s 86ms/step - loss: 1.0905 - accuracy: 0.5564 - val_loss: 1.0885 - val_accuracy: 0.5501\n",
            "Epoch 37/45\n",
            "5/5 [==============================] - 0s 90ms/step - loss: 1.0869 - accuracy: 0.5567 - val_loss: 1.0849 - val_accuracy: 0.5564\n",
            "Epoch 38/45\n",
            "5/5 [==============================] - 0s 85ms/step - loss: 1.0834 - accuracy: 0.5602 - val_loss: 1.0813 - val_accuracy: 0.5584\n",
            "Epoch 39/45\n",
            "5/5 [==============================] - 1s 116ms/step - loss: 1.0800 - accuracy: 0.5619 - val_loss: 1.0778 - val_accuracy: 0.5627\n",
            "Epoch 40/45\n",
            "5/5 [==============================] - 1s 120ms/step - loss: 1.0764 - accuracy: 0.5661 - val_loss: 1.0743 - val_accuracy: 0.5649\n",
            "Epoch 41/45\n",
            "5/5 [==============================] - 1s 124ms/step - loss: 1.0729 - accuracy: 0.5665 - val_loss: 1.0708 - val_accuracy: 0.5674\n",
            "Epoch 42/45\n",
            "5/5 [==============================] - 0s 92ms/step - loss: 1.0694 - accuracy: 0.5684 - val_loss: 1.0672 - val_accuracy: 0.5690\n",
            "Epoch 43/45\n",
            "5/5 [==============================] - 1s 119ms/step - loss: 1.0659 - accuracy: 0.5716 - val_loss: 1.0637 - val_accuracy: 0.5710\n",
            "Epoch 44/45\n",
            "5/5 [==============================] - 1s 119ms/step - loss: 1.0624 - accuracy: 0.5739 - val_loss: 1.0602 - val_accuracy: 0.5729\n",
            "Epoch 45/45\n",
            "5/5 [==============================] - 0s 93ms/step - loss: 1.0590 - accuracy: 0.5751 - val_loss: 1.0567 - val_accuracy: 0.5763\n"
          ]
        }
      ]
    },
    {
      "cell_type": "code",
      "source": [
        "from datetime import datetime\n",
        "\n",
        "# datetime object containing current date and time\n",
        "now = datetime.now()\n",
        " \n",
        "print(\"now =\", now)\n",
        "\n",
        "# dd/mm/YY H:M:S\n",
        "dt_string = now.strftime(\"%Y%d%m%H%M%S\")\n",
        "print(\"date and time =\", dt_string)\n",
        "\n",
        "import pickle\n",
        "# save\n",
        "with open(f'results_MLP_{dt_string}.pickle', 'wb') as f:\n",
        "    pickle.dump(results, f, pickle.HIGHEST_PROTOCOL)"
      ],
      "metadata": {
        "colab": {
          "base_uri": "https://localhost:8080/"
        },
        "id": "9TTq4ChAI015",
        "outputId": "c9542e82-ff81-43a2-c0ed-0b95a1a13bb6"
      },
      "execution_count": 18,
      "outputs": [
        {
          "output_type": "stream",
          "name": "stdout",
          "text": [
            "now = 2022-05-28 08:00:15.934979\n",
            "date and time = 20222805080015\n",
            "INFO:tensorflow:Assets written to: ram://88d1d9ab-61b8-4f2f-958b-e624094025aa/assets\n",
            "INFO:tensorflow:Assets written to: ram://78d7c402-3f8c-4829-95f5-1703acbc9b7e/assets\n",
            "INFO:tensorflow:Assets written to: ram://5b6483c6-7d32-4152-9a24-9183c3d06782/assets\n"
          ]
        }
      ]
    },
    {
      "cell_type": "code",
      "source": [
        ""
      ],
      "metadata": {
        "id": "ltcLwdhWj_Om"
      },
      "execution_count": 15,
      "outputs": []
    }
  ]
}