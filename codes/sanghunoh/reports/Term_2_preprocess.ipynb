{
  "nbformat": 4,
  "nbformat_minor": 0,
  "metadata": {
    "colab": {
      "name": "Term_2_preprocess.ipynb",
      "provenance": [],
      "collapsed_sections": [],
      "mount_file_id": "https://github.com/SanghunOh/study_machinglearning/blob/main/codes/sanghunoh/reports/Term_2_preprocess.ipynb",
      "authorship_tag": "ABX9TyPIftjYyEoMNGiHxJpIvumy",
      "include_colab_link": true
    },
    "kernelspec": {
      "name": "python3",
      "display_name": "Python 3"
    },
    "language_info": {
      "name": "python"
    }
  },
  "cells": [
    {
      "cell_type": "markdown",
      "metadata": {
        "id": "view-in-github",
        "colab_type": "text"
      },
      "source": [
        "<a href=\"https://colab.research.google.com/github/SanghunOh/study_machinglearning/blob/main/codes/sanghunoh/reports/Term_2_preprocess.ipynb\" target=\"_parent\"><img src=\"https://colab.research.google.com/assets/colab-badge.svg\" alt=\"Open In Colab\"/></a>"
      ]
    },
    {
      "cell_type": "markdown",
      "source": [
        "### refer : http://www.cs.cmu.edu/afs/cs/project/PIE/MultiPie/Multi-Pie/Home.html"
      ],
      "metadata": {
        "id": "YCYwxouM4ASm"
      }
    },
    {
      "cell_type": "markdown",
      "source": [
        "##Connect Drive"
      ],
      "metadata": {
        "id": "brb_gNSQ-Tyg"
      }
    },
    {
      "cell_type": "code",
      "execution_count": 1,
      "metadata": {
        "colab": {
          "base_uri": "https://localhost:8080/"
        },
        "id": "2zl8YlT9398C",
        "outputId": "f89a49bd-0449-4481-88c5-599bedaea8ee"
      },
      "outputs": [
        {
          "output_type": "stream",
          "name": "stdout",
          "text": [
            "/content/drive/.shortcut-targets-by-id/1tHYgEz3lQF-LmtFPXRgMBDh4UN54qeAs/datas\n"
          ]
        }
      ],
      "source": [
        "path_root = '/content/drive/MyDrive/datas/'\n",
        "\n",
        "# 작업 경로 설정\n",
        "import os\n",
        "os.chdir(path_root)\n",
        "!pwd"
      ]
    },
    {
      "cell_type": "code",
      "source": [
        "# !unzip -o ./mpie_30_shuffle.zip -d ./mpie_30_shuffle"
      ],
      "metadata": {
        "id": "q_zK6dD69lx7"
      },
      "execution_count": 2,
      "outputs": []
    },
    {
      "cell_type": "code",
      "source": [
        "!ls"
      ],
      "metadata": {
        "colab": {
          "base_uri": "https://localhost:8080/"
        },
        "id": "mXG7KRQz-Nax",
        "outputId": "5af620c1-1188-4beb-ac59-c7235fbebe99"
      },
      "execution_count": 3,
      "outputs": [
        {
          "output_type": "stream",
          "name": "stdout",
          "text": [
            "mpie_30_shuffle\n"
          ]
        }
      ]
    },
    {
      "cell_type": "markdown",
      "source": [
        "##EDA"
      ],
      "metadata": {
        "id": "tsfDsfP1-iBX"
      }
    },
    {
      "cell_type": "code",
      "source": [
        "path = path_root + 'mpie_30_shuffle/'\n",
        "import pandas as pd\n",
        "import numpy as np\n",
        "\n",
        "# train\n",
        "train_feature = pd.read_csv(path + 'Traindata.csv', dtype=np.float32, header=None) # image features of train data\n",
        "train_label_csv = pd.read_csv(path + 'Trainlabel.csv', dtype=np.float32, header=None) # labels of train data\n"
      ],
      "metadata": {
        "id": "mo03KeG_-ZTW"
      },
      "execution_count": 4,
      "outputs": []
    },
    {
      "cell_type": "code",
      "source": [
        "train_feature.shape, train_label_csv.shape"
      ],
      "metadata": {
        "colab": {
          "base_uri": "https://localhost:8080/"
        },
        "id": "2zaRZ7iG-svF",
        "outputId": "9f419a9d-57d2-426e-fb55-f7fff33ff866"
      },
      "execution_count": 5,
      "outputs": [
        {
          "output_type": "execute_result",
          "data": {
            "text/plain": [
              "((18777, 1024), (18777, 6))"
            ]
          },
          "metadata": {},
          "execution_count": 5
        }
      ]
    },
    {
      "cell_type": "markdown",
      "source": [
        "###check train label"
      ],
      "metadata": {
        "id": "MsZYLxQFHxYN"
      }
    },
    {
      "cell_type": "code",
      "source": [
        "# train_label_csv.info()\n",
        "train_label_csv"
      ],
      "metadata": {
        "colab": {
          "base_uri": "https://localhost:8080/",
          "height": 424
        },
        "id": "_IyECbxH_Nx0",
        "outputId": "531dc8bd-ef89-4d2b-bdbf-558b3bdd0413"
      },
      "execution_count": 6,
      "outputs": [
        {
          "output_type": "execute_result",
          "data": {
            "text/plain": [
              "          0    1    2    3    4    5\n",
              "0      12.0  2.0  3.0  0.0  0.0  3.0\n",
              "1       1.0  1.0  4.0  1.0  2.0  1.0\n",
              "2      12.0  2.0  0.0  0.0  0.0  3.0\n",
              "3       3.0  1.0  4.0  0.0  1.0  0.0\n",
              "4       0.0  0.0  0.0  1.0  1.0  0.0\n",
              "...     ...  ...  ...  ...  ...  ...\n",
              "18772  25.0  0.0  2.0  0.0  0.0  2.0\n",
              "18773  12.0  0.0  0.0  0.0  0.0  3.0\n",
              "18774  20.0  0.0  0.0  0.0  1.0  3.0\n",
              "18775  11.0  0.0  3.0  0.0  3.0  3.0\n",
              "18776  27.0  4.0  2.0  1.0  1.0  1.0\n",
              "\n",
              "[18777 rows x 6 columns]"
            ],
            "text/html": [
              "\n",
              "  <div id=\"df-43b59ad7-9882-4024-a0b6-cfd947bb8497\">\n",
              "    <div class=\"colab-df-container\">\n",
              "      <div>\n",
              "<style scoped>\n",
              "    .dataframe tbody tr th:only-of-type {\n",
              "        vertical-align: middle;\n",
              "    }\n",
              "\n",
              "    .dataframe tbody tr th {\n",
              "        vertical-align: top;\n",
              "    }\n",
              "\n",
              "    .dataframe thead th {\n",
              "        text-align: right;\n",
              "    }\n",
              "</style>\n",
              "<table border=\"1\" class=\"dataframe\">\n",
              "  <thead>\n",
              "    <tr style=\"text-align: right;\">\n",
              "      <th></th>\n",
              "      <th>0</th>\n",
              "      <th>1</th>\n",
              "      <th>2</th>\n",
              "      <th>3</th>\n",
              "      <th>4</th>\n",
              "      <th>5</th>\n",
              "    </tr>\n",
              "  </thead>\n",
              "  <tbody>\n",
              "    <tr>\n",
              "      <th>0</th>\n",
              "      <td>12.0</td>\n",
              "      <td>2.0</td>\n",
              "      <td>3.0</td>\n",
              "      <td>0.0</td>\n",
              "      <td>0.0</td>\n",
              "      <td>3.0</td>\n",
              "    </tr>\n",
              "    <tr>\n",
              "      <th>1</th>\n",
              "      <td>1.0</td>\n",
              "      <td>1.0</td>\n",
              "      <td>4.0</td>\n",
              "      <td>1.0</td>\n",
              "      <td>2.0</td>\n",
              "      <td>1.0</td>\n",
              "    </tr>\n",
              "    <tr>\n",
              "      <th>2</th>\n",
              "      <td>12.0</td>\n",
              "      <td>2.0</td>\n",
              "      <td>0.0</td>\n",
              "      <td>0.0</td>\n",
              "      <td>0.0</td>\n",
              "      <td>3.0</td>\n",
              "    </tr>\n",
              "    <tr>\n",
              "      <th>3</th>\n",
              "      <td>3.0</td>\n",
              "      <td>1.0</td>\n",
              "      <td>4.0</td>\n",
              "      <td>0.0</td>\n",
              "      <td>1.0</td>\n",
              "      <td>0.0</td>\n",
              "    </tr>\n",
              "    <tr>\n",
              "      <th>4</th>\n",
              "      <td>0.0</td>\n",
              "      <td>0.0</td>\n",
              "      <td>0.0</td>\n",
              "      <td>1.0</td>\n",
              "      <td>1.0</td>\n",
              "      <td>0.0</td>\n",
              "    </tr>\n",
              "    <tr>\n",
              "      <th>...</th>\n",
              "      <td>...</td>\n",
              "      <td>...</td>\n",
              "      <td>...</td>\n",
              "      <td>...</td>\n",
              "      <td>...</td>\n",
              "      <td>...</td>\n",
              "    </tr>\n",
              "    <tr>\n",
              "      <th>18772</th>\n",
              "      <td>25.0</td>\n",
              "      <td>0.0</td>\n",
              "      <td>2.0</td>\n",
              "      <td>0.0</td>\n",
              "      <td>0.0</td>\n",
              "      <td>2.0</td>\n",
              "    </tr>\n",
              "    <tr>\n",
              "      <th>18773</th>\n",
              "      <td>12.0</td>\n",
              "      <td>0.0</td>\n",
              "      <td>0.0</td>\n",
              "      <td>0.0</td>\n",
              "      <td>0.0</td>\n",
              "      <td>3.0</td>\n",
              "    </tr>\n",
              "    <tr>\n",
              "      <th>18774</th>\n",
              "      <td>20.0</td>\n",
              "      <td>0.0</td>\n",
              "      <td>0.0</td>\n",
              "      <td>0.0</td>\n",
              "      <td>1.0</td>\n",
              "      <td>3.0</td>\n",
              "    </tr>\n",
              "    <tr>\n",
              "      <th>18775</th>\n",
              "      <td>11.0</td>\n",
              "      <td>0.0</td>\n",
              "      <td>3.0</td>\n",
              "      <td>0.0</td>\n",
              "      <td>3.0</td>\n",
              "      <td>3.0</td>\n",
              "    </tr>\n",
              "    <tr>\n",
              "      <th>18776</th>\n",
              "      <td>27.0</td>\n",
              "      <td>4.0</td>\n",
              "      <td>2.0</td>\n",
              "      <td>1.0</td>\n",
              "      <td>1.0</td>\n",
              "      <td>1.0</td>\n",
              "    </tr>\n",
              "  </tbody>\n",
              "</table>\n",
              "<p>18777 rows × 6 columns</p>\n",
              "</div>\n",
              "      <button class=\"colab-df-convert\" onclick=\"convertToInteractive('df-43b59ad7-9882-4024-a0b6-cfd947bb8497')\"\n",
              "              title=\"Convert this dataframe to an interactive table.\"\n",
              "              style=\"display:none;\">\n",
              "        \n",
              "  <svg xmlns=\"http://www.w3.org/2000/svg\" height=\"24px\"viewBox=\"0 0 24 24\"\n",
              "       width=\"24px\">\n",
              "    <path d=\"M0 0h24v24H0V0z\" fill=\"none\"/>\n",
              "    <path d=\"M18.56 5.44l.94 2.06.94-2.06 2.06-.94-2.06-.94-.94-2.06-.94 2.06-2.06.94zm-11 1L8.5 8.5l.94-2.06 2.06-.94-2.06-.94L8.5 2.5l-.94 2.06-2.06.94zm10 10l.94 2.06.94-2.06 2.06-.94-2.06-.94-.94-2.06-.94 2.06-2.06.94z\"/><path d=\"M17.41 7.96l-1.37-1.37c-.4-.4-.92-.59-1.43-.59-.52 0-1.04.2-1.43.59L10.3 9.45l-7.72 7.72c-.78.78-.78 2.05 0 2.83L4 21.41c.39.39.9.59 1.41.59.51 0 1.02-.2 1.41-.59l7.78-7.78 2.81-2.81c.8-.78.8-2.07 0-2.86zM5.41 20L4 18.59l7.72-7.72 1.47 1.35L5.41 20z\"/>\n",
              "  </svg>\n",
              "      </button>\n",
              "      \n",
              "  <style>\n",
              "    .colab-df-container {\n",
              "      display:flex;\n",
              "      flex-wrap:wrap;\n",
              "      gap: 12px;\n",
              "    }\n",
              "\n",
              "    .colab-df-convert {\n",
              "      background-color: #E8F0FE;\n",
              "      border: none;\n",
              "      border-radius: 50%;\n",
              "      cursor: pointer;\n",
              "      display: none;\n",
              "      fill: #1967D2;\n",
              "      height: 32px;\n",
              "      padding: 0 0 0 0;\n",
              "      width: 32px;\n",
              "    }\n",
              "\n",
              "    .colab-df-convert:hover {\n",
              "      background-color: #E2EBFA;\n",
              "      box-shadow: 0px 1px 2px rgba(60, 64, 67, 0.3), 0px 1px 3px 1px rgba(60, 64, 67, 0.15);\n",
              "      fill: #174EA6;\n",
              "    }\n",
              "\n",
              "    [theme=dark] .colab-df-convert {\n",
              "      background-color: #3B4455;\n",
              "      fill: #D2E3FC;\n",
              "    }\n",
              "\n",
              "    [theme=dark] .colab-df-convert:hover {\n",
              "      background-color: #434B5C;\n",
              "      box-shadow: 0px 1px 3px 1px rgba(0, 0, 0, 0.15);\n",
              "      filter: drop-shadow(0px 1px 2px rgba(0, 0, 0, 0.3));\n",
              "      fill: #FFFFFF;\n",
              "    }\n",
              "  </style>\n",
              "\n",
              "      <script>\n",
              "        const buttonEl =\n",
              "          document.querySelector('#df-43b59ad7-9882-4024-a0b6-cfd947bb8497 button.colab-df-convert');\n",
              "        buttonEl.style.display =\n",
              "          google.colab.kernel.accessAllowed ? 'block' : 'none';\n",
              "\n",
              "        async function convertToInteractive(key) {\n",
              "          const element = document.querySelector('#df-43b59ad7-9882-4024-a0b6-cfd947bb8497');\n",
              "          const dataTable =\n",
              "            await google.colab.kernel.invokeFunction('convertToInteractive',\n",
              "                                                     [key], {});\n",
              "          if (!dataTable) return;\n",
              "\n",
              "          const docLinkHtml = 'Like what you see? Visit the ' +\n",
              "            '<a target=\"_blank\" href=https://colab.research.google.com/notebooks/data_table.ipynb>data table notebook</a>'\n",
              "            + ' to learn more about interactive tables.';\n",
              "          element.innerHTML = '';\n",
              "          dataTable['output_type'] = 'display_data';\n",
              "          await google.colab.output.renderOutput(dataTable, element);\n",
              "          const docLink = document.createElement('div');\n",
              "          docLink.innerHTML = docLinkHtml;\n",
              "          element.appendChild(docLink);\n",
              "        }\n",
              "      </script>\n",
              "    </div>\n",
              "  </div>\n",
              "  "
            ]
          },
          "metadata": {},
          "execution_count": 6
        }
      ]
    },
    {
      "cell_type": "code",
      "source": [
        "for column_name in list(train_label_csv.columns):\n",
        "  print(f'{column_name} : {train_label_csv[column_name].nunique()}')"
      ],
      "metadata": {
        "colab": {
          "base_uri": "https://localhost:8080/"
        },
        "id": "uEH8gdpVDQps",
        "outputId": "1524da1d-1b47-44e0-ff58-b143f8afb055"
      },
      "execution_count": 7,
      "outputs": [
        {
          "output_type": "stream",
          "name": "stdout",
          "text": [
            "0 : 30\n",
            "1 : 6\n",
            "2 : 5\n",
            "3 : 2\n",
            "4 : 5\n",
            "5 : 4\n"
          ]
        }
      ]
    },
    {
      "cell_type": "code",
      "source": [
        "num_train = train_label_csv.shape[0] # number of train data\n",
        "# num_train\n",
        "# train_label = train_label_csv[0][0:num_train] # get label you want\n",
        "train_label = train_label_csv.loc[:,0]  # get label you want\n",
        "print(f'train_label.shape : {train_label.shape}')\n",
        "\n",
        "import tensorflow.keras as kas\n",
        "train_label_onehot = np.array(kas.utils.to_categorical(train_label)) # convert '1-dimensional int type label' to 'one-hot vector'\n",
        "train_label_onehot.shape, train_label_onehot[2], train_label_onehot[2].ndim, train_label_onehot[2].size"
      ],
      "metadata": {
        "colab": {
          "base_uri": "https://localhost:8080/"
        },
        "id": "H6a_o4ft_VTR",
        "outputId": "1a6a0200-099c-40e5-aa3d-d2e913e79ee9"
      },
      "execution_count": 8,
      "outputs": [
        {
          "output_type": "stream",
          "name": "stdout",
          "text": [
            "train_label.shape : (18777,)\n"
          ]
        },
        {
          "output_type": "execute_result",
          "data": {
            "text/plain": [
              "((18777, 30),\n",
              " array([0., 0., 0., 0., 0., 0., 0., 0., 0., 0., 0., 0., 1., 0., 0., 0., 0.,\n",
              "        0., 0., 0., 0., 0., 0., 0., 0., 0., 0., 0., 0., 0.], dtype=float32),\n",
              " 1,\n",
              " 30)"
            ]
          },
          "metadata": {},
          "execution_count": 8
        }
      ]
    },
    {
      "cell_type": "markdown",
      "source": [
        "###check train feature"
      ],
      "metadata": {
        "id": "VHbT2KMhH1nU"
      }
    },
    {
      "cell_type": "code",
      "source": [
        "train_feature.shape, train_feature.iloc[3].shape, train_label.iloc[3]"
      ],
      "metadata": {
        "colab": {
          "base_uri": "https://localhost:8080/"
        },
        "id": "_KBWuIlPH6_2",
        "outputId": "d8bacad6-dbc4-4b23-eacb-925963e63477"
      },
      "execution_count": 9,
      "outputs": [
        {
          "output_type": "execute_result",
          "data": {
            "text/plain": [
              "((18777, 1024), (1024,), 3.0)"
            ]
          },
          "metadata": {},
          "execution_count": 9
        }
      ]
    },
    {
      "cell_type": "code",
      "source": [
        "import matplotlib.pyplot as plt"
      ],
      "metadata": {
        "id": "ABqep77yHuwA"
      },
      "execution_count": 10,
      "outputs": []
    },
    {
      "cell_type": "code",
      "source": [
        "type(train_feature.iloc[3]), type(train_feature.iloc[3].values), type(train_feature.iloc[3].to_numpy())"
      ],
      "metadata": {
        "colab": {
          "base_uri": "https://localhost:8080/"
        },
        "id": "6fdSEP9MPl2q",
        "outputId": "b6446352-7eef-4184-edf6-8e1a95b152da"
      },
      "execution_count": 11,
      "outputs": [
        {
          "output_type": "execute_result",
          "data": {
            "text/plain": [
              "(pandas.core.series.Series, numpy.ndarray, numpy.ndarray)"
            ]
          },
          "metadata": {},
          "execution_count": 11
        }
      ]
    },
    {
      "cell_type": "code",
      "source": [
        "train_feature_reshape = np.reshape(train_feature.iloc[10].values, (32,-1))\n",
        "print(train_feature_reshape.shape)\n",
        "# plt.imshow(train_feature_reshape, cmap='gray')\n",
        "plt.imshow(np.reshape(train_feature.iloc[10].values, (32,-1)), cmap='gray')\n",
        "\n",
        "plt.show()"
      ],
      "metadata": {
        "colab": {
          "base_uri": "https://localhost:8080/",
          "height": 284
        },
        "id": "-cg_fOc0KK3j",
        "outputId": "d37c3cc7-f57b-47d5-ffae-a6f21580e592"
      },
      "execution_count": 12,
      "outputs": [
        {
          "output_type": "stream",
          "name": "stdout",
          "text": [
            "(32, 32)\n"
          ]
        },
        {
          "output_type": "display_data",
          "data": {
            "text/plain": [
              "<Figure size 432x288 with 1 Axes>"
            ],
            "image/png": "[encoded data removed]"
          },
          "metadata": {
            "needs_background": "light"
          }
        }
      ]
    },
    {
      "cell_type": "code",
      "source": [
        "plt.figure(figsize=(20,10))\n",
        "\n",
        "train_feature_rows = train_feature.shape[0]\n",
        "train_feature_cols = train_feature.shape[1]\n",
        "train_feature_rows = 4\n",
        "train_feature_cols = 5\n",
        "# for idx in range(train_feature.shape[0]):\n",
        "for idx in range(20):\n",
        "  plt.subplot(train_feature_rows, train_feature_cols, idx+1)\n",
        "  plt.imshow(np.reshape(train_feature.iloc[idx].values, (32,-1)), cmap='gray')\n",
        "  plt.title(train_label.iloc[idx])\n",
        "\n",
        "# plt.tight_layout()"
      ],
      "metadata": {
        "colab": {
          "base_uri": "https://localhost:8080/",
          "height": 608
        },
        "id": "wFONCoosBQH2",
        "outputId": "55c84034-b769-49d4-fd34-d246f00892cc"
      },
      "execution_count": 13,
      "outputs": [
        {
          "output_type": "display_data",
          "data": {
            "text/plain": [
              "<Figure size 1440x720 with 20 Axes>"
            ],
            "image/png": "[encoded data removed]"
          },
          "metadata": {
            "needs_background": "light"
          }
        }
      ]
    },
    {
      "cell_type": "markdown",
      "source": [
        "##check test dataset"
      ],
      "metadata": {
        "id": "pyyquiMFbeac"
      }
    },
    {
      "cell_type": "code",
      "source": [
        "# test\n",
        "validation_feature = pd.read_csv(path + 'Testdata.csv', dtype=np.float32, header=None) # image feature of test data\n",
        "validation_label_csv = pd.read_csv(path + 'Testlabel.csv', dtype=np.float32, header=None) # labels of test data\n",
        "validation_label = validation_label_csv[0] # get label you want\n",
        "validation_label_onehot = np.array(kas.utils.to_categorical(validation_label)) # convert '1-dimensional int type label' to 'one-hot vector'\n",
        "validation_feature.shape, validation_label_csv.shape, validation_label.shape, validation_label_onehot.shape"
      ],
      "metadata": {
        "colab": {
          "base_uri": "https://localhost:8080/"
        },
        "id": "jNnS9Pc0XfjJ",
        "outputId": "3100ec91-554a-47d9-8312-3e4bc2bacdc0"
      },
      "execution_count": 14,
      "outputs": [
        {
          "output_type": "execute_result",
          "data": {
            "text/plain": [
              "((5086, 1024), (5086, 6), (5086,), (5086, 30))"
            ]
          },
          "metadata": {},
          "execution_count": 14
        }
      ]
    },
    {
      "cell_type": "code",
      "source": [
        "validation_feature_reshape = np.reshape(validation_feature.iloc[10].values, (32,-1))\n",
        "plt.imshow(validation_feature_reshape, cmap='gray')\n",
        "plt.show()"
      ],
      "metadata": {
        "colab": {
          "base_uri": "https://localhost:8080/",
          "height": 266
        },
        "id": "jk_2KhYccIRu",
        "outputId": "f7ba4ebf-10b9-4552-b4e3-db76493a65fc"
      },
      "execution_count": 15,
      "outputs": [
        {
          "output_type": "display_data",
          "data": {
            "text/plain": [
              "<Figure size 432x288 with 1 Axes>"
            ],
            "image/png": "[encoded data removed]"
          },
          "metadata": {
            "needs_background": "light"
          }
        }
      ]
    },
    {
      "cell_type": "markdown",
      "source": [
        "##Transform flatten numpy to Tensors"
      ],
      "metadata": {
        "id": "EN32h2v031PG"
      }
    },
    {
      "cell_type": "code",
      "source": [
        "train_feature.shape, train_label.shape, np.unique(train_label.values, return_counts=True)"
      ],
      "metadata": {
        "colab": {
          "base_uri": "https://localhost:8080/"
        },
        "id": "Zui89p8h6fb4",
        "outputId": "813b2b02-9803-4453-892e-204ea621301f"
      },
      "execution_count": 16,
      "outputs": [
        {
          "output_type": "execute_result",
          "data": {
            "text/plain": [
              "((18777, 1024),\n",
              " (18777,),\n",
              " (array([ 0.,  1.,  2.,  3.,  4.,  5.,  6.,  7.,  8.,  9., 10., 11., 12.,\n",
              "         13., 14., 15., 16., 17., 18., 19., 20., 21., 22., 23., 24., 25.,\n",
              "         26., 27., 28., 29.], dtype=float32),\n",
              "  array([756, 762, 673, 508, 732, 765, 384, 775, 721, 545, 703, 669, 609,\n",
              "         743, 621, 510, 693, 679, 705, 401, 642, 592, 524, 571, 473, 355,\n",
              "         637, 779, 492, 758])))"
            ]
          },
          "metadata": {},
          "execution_count": 16
        }
      ]
    },
    {
      "cell_type": "code",
      "source": [
        "train_feature_flatten = train_feature.values.flatten()\n",
        "train_feature_reshape = np.reshape(train_feature_flatten, (train_feature.shape[0], 32,-1))\n",
        "train_feature_reshape.shape, type(train_feature_reshape)"
      ],
      "metadata": {
        "colab": {
          "base_uri": "https://localhost:8080/"
        },
        "id": "WYIFXkBp-jsO",
        "outputId": "5c59ea0e-0b77-4097-8001-ea21d64708a6"
      },
      "execution_count": 17,
      "outputs": [
        {
          "output_type": "execute_result",
          "data": {
            "text/plain": [
              "((18777, 32, 32), numpy.ndarray)"
            ]
          },
          "metadata": {},
          "execution_count": 17
        }
      ]
    },
    {
      "cell_type": "code",
      "source": [
        "plt.imshow(train_feature_reshape[33], cmap='gray')\n",
        "plt.show()"
      ],
      "metadata": {
        "colab": {
          "base_uri": "https://localhost:8080/",
          "height": 266
        },
        "id": "J10OIVccBj2k",
        "outputId": "dcf260fe-584e-45a2-e2c2-4ab7d57719eb"
      },
      "execution_count": 18,
      "outputs": [
        {
          "output_type": "display_data",
          "data": {
            "text/plain": [
              "<Figure size 432x288 with 1 Axes>"
            ],
            "image/png": "[encoded data removed]"
          },
          "metadata": {
            "needs_background": "light"
          }
        }
      ]
    },
    {
      "cell_type": "code",
      "source": [
        "validation_feature_flatten = validation_feature.values.flatten()\n",
        "validation_feature_reshape = np.reshape(validation_feature_flatten, (validation_feature.shape[0], 32,-1))\n",
        "validation_feature_reshape.shape, type(validation_feature_reshape)"
      ],
      "metadata": {
        "colab": {
          "base_uri": "https://localhost:8080/"
        },
        "id": "G818cKNVDEvw",
        "outputId": "7f93cada-ef11-466d-b861-a5dfa8f8a247"
      },
      "execution_count": 19,
      "outputs": [
        {
          "output_type": "execute_result",
          "data": {
            "text/plain": [
              "((5086, 32, 32), numpy.ndarray)"
            ]
          },
          "metadata": {},
          "execution_count": 19
        }
      ]
    },
    {
      "cell_type": "code",
      "source": [
        "import tensorflow as tf\n",
        "\n",
        "train_dataset = tf.data.Dataset.from_tensor_slices((train_feature_reshape, train_label))\n",
        "validation_dataset = tf.data.Dataset.from_tensor_slices((validation_feature_reshape, validation_label))"
      ],
      "metadata": {
        "id": "cfnux2JS4AIy"
      },
      "execution_count": 20,
      "outputs": []
    },
    {
      "cell_type": "markdown",
      "source": [
        "###Shuffle and batch the datasets"
      ],
      "metadata": {
        "id": "9Gi145vzEZxE"
      }
    },
    {
      "cell_type": "code",
      "source": [
        "BATCH_SIZE = 64\n",
        "SHUFFLE_BUFFER_SIZE = 100\n",
        "\n",
        "# train_dataset = train_dataset.shuffle(SHUFFLE_BUFFER_SIZE).batch(BATCH_SIZE, drop_remainder=True).repeat()\n",
        "# validation_dataset = validation_dataset.batch(BATCH_SIZE, drop_remainder=True).repeat()\n",
        "# train_dataset = train_dataset.shuffle(SHUFFLE_BUFFER_SIZE).batch(BATCH_SIZE, drop_remainder=True)\n",
        "# validation_dataset = validation_dataset.batch(BATCH_SIZE, drop_remainder=True)\n",
        "train_dataset = train_dataset.shuffle(SHUFFLE_BUFFER_SIZE).batch(BATCH_SIZE)\n",
        "validation_dataset = validation_dataset.batch(BATCH_SIZE)\n"
      ],
      "metadata": {
        "id": "daP6HANtENze"
      },
      "execution_count": 21,
      "outputs": []
    },
    {
      "cell_type": "code",
      "source": [
        "# for element in validation_dataset:\n",
        "#   print(element)"
      ],
      "metadata": {
        "id": "EXt95NZ9G4zD"
      },
      "execution_count": 22,
      "outputs": []
    },
    {
      "cell_type": "markdown",
      "source": [
        "### Build and train a model"
      ],
      "metadata": {
        "id": "d2a4pCYdEwI7"
      }
    },
    {
      "cell_type": "code",
      "execution_count": 23,
      "metadata": {
        "id": "Uhxr8py4DkDN"
      },
      "outputs": [],
      "source": [
        "model = tf.keras.Sequential([\n",
        "    tf.keras.layers.Flatten(input_shape=(32, 32)),\n",
        "    tf.keras.layers.Dense(128, activation='relu'),\n",
        "    tf.keras.layers.Dense(30)\n",
        "])\n",
        "\n",
        "model.compile(optimizer=tf.keras.optimizers.RMSprop(),\n",
        "              loss=tf.keras.losses.SparseCategoricalCrossentropy(from_logits=True),\n",
        "              metrics=['sparse_categorical_accuracy'])"
      ]
    },
    {
      "cell_type": "code",
      "execution_count": 24,
      "metadata": {
        "id": "XLDzlPGgOHBx",
        "colab": {
          "base_uri": "https://localhost:8080/"
        },
        "outputId": "c41d6082-ce59-42d3-bfb1-b561474bb1f8"
      },
      "outputs": [
        {
          "output_type": "stream",
          "name": "stdout",
          "text": [
            "Epoch 1/10\n",
            "294/294 [==============================] - 4s 10ms/step - loss: 2.4143 - sparse_categorical_accuracy: 0.3411\n",
            "Epoch 2/10\n",
            "294/294 [==============================] - 2s 8ms/step - loss: 1.3052 - sparse_categorical_accuracy: 0.6837\n",
            "Epoch 3/10\n",
            "294/294 [==============================] - 1s 5ms/step - loss: 0.7960 - sparse_categorical_accuracy: 0.8210\n",
            "Epoch 4/10\n",
            "294/294 [==============================] - 1s 5ms/step - loss: 0.5328 - sparse_categorical_accuracy: 0.8850\n",
            "Epoch 5/10\n",
            "294/294 [==============================] - 1s 4ms/step - loss: 0.3888 - sparse_categorical_accuracy: 0.9156\n",
            "Epoch 6/10\n",
            "294/294 [==============================] - 1s 4ms/step - loss: 0.2937 - sparse_categorical_accuracy: 0.9363\n",
            "Epoch 7/10\n",
            "294/294 [==============================] - 1s 4ms/step - loss: 0.2344 - sparse_categorical_accuracy: 0.9503\n",
            "Epoch 8/10\n",
            "294/294 [==============================] - 1s 5ms/step - loss: 0.1892 - sparse_categorical_accuracy: 0.9592\n",
            "Epoch 9/10\n",
            "294/294 [==============================] - 1s 5ms/step - loss: 0.1571 - sparse_categorical_accuracy: 0.9667\n",
            "Epoch 10/10\n",
            "294/294 [==============================] - 1s 5ms/step - loss: 0.1339 - sparse_categorical_accuracy: 0.9723\n"
          ]
        },
        {
          "output_type": "execute_result",
          "data": {
            "text/plain": [
              "<keras.callbacks.History at 0x7fdc6e28f290>"
            ]
          },
          "metadata": {},
          "execution_count": 24
        }
      ],
      "source": [
        "model.fit(train_dataset, epochs=10)"
      ]
    },
    {
      "cell_type": "code",
      "execution_count": 25,
      "metadata": {
        "id": "2q82yN8mmKIE",
        "colab": {
          "base_uri": "https://localhost:8080/"
        },
        "outputId": "9602409d-3c55-4585-ab68-bba61507682e"
      },
      "outputs": [
        {
          "output_type": "stream",
          "name": "stdout",
          "text": [
            "80/80 [==============================] - 0s 2ms/step - loss: 0.2971 - sparse_categorical_accuracy: 0.9119\n"
          ]
        },
        {
          "output_type": "execute_result",
          "data": {
            "text/plain": [
              "[0.29705873131752014, 0.9119150638580322]"
            ]
          },
          "metadata": {},
          "execution_count": 25
        }
      ],
      "source": [
        "model.evaluate(validation_dataset)"
      ]
    }
  ]
}