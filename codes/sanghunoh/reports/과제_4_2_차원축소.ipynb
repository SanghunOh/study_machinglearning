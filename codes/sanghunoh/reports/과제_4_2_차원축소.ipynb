{
  "nbformat": 4,
  "nbformat_minor": 0,
  "metadata": {
    "colab": {
      "name": "과제_4_2_차원축소.ipynb",
      "provenance": [],
      "authorship_tag": "ABX9TyN4Zjc+fUoAnHVbDotP7vBw",
      "include_colab_link": true
    },
    "kernelspec": {
      "name": "python3",
      "display_name": "Python 3"
    },
    "language_info": {
      "name": "python"
    }
  },
  "cells": [
    {
      "cell_type": "markdown",
      "metadata": {
        "id": "view-in-github",
        "colab_type": "text"
      },
      "source": [
        "<a href=\"https://colab.research.google.com/github/SanghunOh/study_machinglearning/blob/main/codes/sanghunoh/reports/%EA%B3%BC%EC%A0%9C_4_2_%EC%B0%A8%EC%9B%90%EC%B6%95%EC%86%8C.ipynb\" target=\"_parent\"><img src=\"https://colab.research.google.com/assets/colab-badge.svg\" alt=\"Open In Colab\"/></a>"
      ]
    },
    {
      "cell_type": "markdown",
      "source": [
        "##2. (60점) 첨부된 COIL20 데이터(Columbia Object Image Library, HW4_COIL20.mat)에 대한 특징 추출 및 2차원 출력을 수행하기 위한 시스템을 구성하시오."
      ],
      "metadata": {
        "id": "QCElfXa5ymDz"
      }
    },
    {
      "cell_type": "code",
      "execution_count": 2,
      "metadata": {
        "colab": {
          "base_uri": "https://localhost:8080/"
        },
        "id": "4Pol2WyEv6l_",
        "outputId": "456620af-282f-47fb-847b-395dea87ab47"
      },
      "outputs": [
        {
          "output_type": "stream",
          "name": "stdout",
          "text": [
            "HW4_COIL20.mat\tsample_data\n"
          ]
        }
      ],
      "source": [
        "# !wget https://github.com/SanghunOh/study_machinglearning/blob/main/datas/HW4_COIL20.mat\n",
        "!ls"
      ]
    },
    {
      "cell_type": "code",
      "source": [
        "!pip install mat73"
      ],
      "metadata": {
        "colab": {
          "base_uri": "https://localhost:8080/"
        },
        "id": "It5D6na-yzHc",
        "outputId": "2610e03b-ba2c-451c-f271-13671d59feee"
      },
      "execution_count": 3,
      "outputs": [
        {
          "output_type": "stream",
          "name": "stdout",
          "text": [
            "Requirement already satisfied: mat73 in /usr/local/lib/python3.7/dist-packages (0.59)\n",
            "Requirement already satisfied: numpy in /usr/local/lib/python3.7/dist-packages (from mat73) (1.21.6)\n",
            "Requirement already satisfied: h5py in /usr/local/lib/python3.7/dist-packages (from mat73) (3.1.0)\n",
            "Requirement already satisfied: cached-property in /usr/local/lib/python3.7/dist-packages (from h5py->mat73) (1.5.2)\n"
          ]
        }
      ]
    },
    {
      "cell_type": "code",
      "source": [
        "# read features and labels from dataset file(mat)\n",
        "import mat73\n",
        "mat_contents = mat73.loadmat('./HW4_COIL20.mat')\n",
        "type(mat_contents), mat_contents.keys(),\n",
        "features = mat_contents['X']\n",
        "labels = mat_contents['Y']\n",
        "\n",
        "import numpy as np\n",
        "features.shape, labels.shape, np.unique(labels)"
      ],
      "metadata": {
        "colab": {
          "base_uri": "https://localhost:8080/"
        },
        "id": "AdrvddXVyhP2",
        "outputId": "4b1ce4de-bc1e-40c6-f2c9-b492e377a941"
      },
      "execution_count": 4,
      "outputs": [
        {
          "output_type": "execute_result",
          "data": {
            "text/plain": [
              "((280, 1024),\n",
              " (280,),\n",
              " array([ 1.,  2.,  3.,  4.,  5.,  6.,  7.,  8.,  9., 10., 11., 12., 13.,\n",
              "        14., 15., 16., 17., 18., 19., 20.]))"
            ]
          },
          "metadata": {},
          "execution_count": 4
        }
      ]
    },
    {
      "cell_type": "markdown",
      "source": [
        "##PCA(Principal Component Analysis)"
      ],
      "metadata": {
        "id": "R5Pw3cch2Vc-"
      }
    },
    {
      "cell_type": "markdown",
      "source": [
        "###Centering Data"
      ],
      "metadata": {
        "id": "i0j8_Fxy2cr_"
      }
    },
    {
      "cell_type": "code",
      "source": [
        "# Normalizing X\n",
        "norm_class_all = features - features.mean(axis=0)\n",
        "class_all_std = norm_class_all/norm_class_all.std(axis=0)\n",
        "class_all_std.shape"
      ],
      "metadata": {
        "colab": {
          "base_uri": "https://localhost:8080/"
        },
        "id": "pmdLrXuSyuVF",
        "outputId": "43be900c-c398-4c7a-be40-c3f50aff094f"
      },
      "execution_count": 5,
      "outputs": [
        {
          "output_type": "execute_result",
          "data": {
            "text/plain": [
              "(280, 1024)"
            ]
          },
          "metadata": {},
          "execution_count": 5
        }
      ]
    },
    {
      "cell_type": "markdown",
      "source": [
        "###Computing the Eigenvectors and Eigenvalues"
      ],
      "metadata": {
        "id": "GNS0VU8j25NM"
      }
    },
    {
      "cell_type": "code",
      "source": [
        "class_all_std_sigma = np.cov(class_all_std.T)\n",
        "eigen_values_pca, eigen_vectors_pca = np.linalg.eig(class_all_std_sigma)\n",
        "eigen_values_pca.shape, eigen_vectors_pca.shape"
      ],
      "metadata": {
        "colab": {
          "base_uri": "https://localhost:8080/"
        },
        "id": "9GNORRuo21wc",
        "outputId": "7382b4d6-4f2c-48a8-c2b5-6bc0ad0baa4e"
      },
      "execution_count": 6,
      "outputs": [
        {
          "output_type": "execute_result",
          "data": {
            "text/plain": [
              "((1024,), (1024, 1024))"
            ]
          },
          "metadata": {},
          "execution_count": 6
        }
      ]
    },
    {
      "cell_type": "code",
      "source": [
        "# 벡터별 정보 보유율 확인\n",
        "eigen_values_pca_sum = sum(eigen_values_pca)\n",
        "for idx, eigen_value in enumerate(eigen_values_pca):\n",
        "  projected_rate = eigen_value/eigen_values_pca_sum*100\n",
        "  print('index {}, rate:{:.2f}'.format(idx, eigen_value/eigen_values_pca_sum*100))\n",
        "  if idx >= 1: break # 2차원 표시 위해 확당 값만 확인 "
      ],
      "metadata": {
        "id": "8EeANkhp3Xuh",
        "outputId": "69f729b8-f931-4b66-fc24-e84e5faec0f5",
        "colab": {
          "base_uri": "https://localhost:8080/"
        }
      },
      "execution_count": 7,
      "outputs": [
        {
          "output_type": "stream",
          "name": "stdout",
          "text": [
            "index 0, rate:22.18+0.00j\n",
            "index 1, rate:13.04+0.00j\n"
          ]
        }
      ]
    },
    {
      "cell_type": "markdown",
      "source": [
        "###2 dimenstion projection"
      ],
      "metadata": {
        "id": "g1EeXPycceVB"
      }
    },
    {
      "cell_type": "code",
      "source": [
        "projection_matrix = eigen_vectors_pca.T[0:2]\n",
        "projection_matrix.shape, projection_matrix,"
      ],
      "metadata": {
        "id": "5FeQs_ZnBo37",
        "outputId": "21bab849-6647-4c9b-c9ae-89073b6d4d57",
        "colab": {
          "base_uri": "https://localhost:8080/"
        }
      },
      "execution_count": 9,
      "outputs": [
        {
          "output_type": "execute_result",
          "data": {
            "text/plain": [
              "((2, 1024), array([[-0.01628648+0.j, -0.01628983+0.j, -0.00942615+0.j, ...,\n",
              "         -0.01618301+0.j, -0.01628648+0.j, -0.01628648+0.j],\n",
              "        [ 0.02156345+0.j,  0.02254824+0.j,  0.01789977+0.j, ...,\n",
              "          0.02273808+0.j,  0.02156345+0.j,  0.02156345+0.j]]))"
            ]
          },
          "metadata": {},
          "execution_count": 9
        }
      ]
    },
    {
      "cell_type": "code",
      "source": [
        "projection_matrix.shape, class_all_std.shape"
      ],
      "metadata": {
        "id": "JEVHExE1YORp",
        "outputId": "15db19a7-5d7b-4621-d9e1-302322bd3465",
        "colab": {
          "base_uri": "https://localhost:8080/"
        }
      },
      "execution_count": 10,
      "outputs": [
        {
          "output_type": "execute_result",
          "data": {
            "text/plain": [
              "((2, 1024), (280, 1024))"
            ]
          },
          "metadata": {},
          "execution_count": 10
        }
      ]
    },
    {
      "cell_type": "code",
      "source": [
        "projected_matrix = class_all_std @ projection_matrix.T\n",
        "projected_matrix.shape\n",
        "# class_all_std[:5], projected_matrix[:5]"
      ],
      "metadata": {
        "id": "RLWPRQVX05Gm",
        "outputId": "1304689e-e86a-4a4c-af66-434ba8b158e9",
        "colab": {
          "base_uri": "https://localhost:8080/"
        }
      },
      "execution_count": 11,
      "outputs": [
        {
          "output_type": "execute_result",
          "data": {
            "text/plain": [
              "(280, 2)"
            ]
          },
          "metadata": {},
          "execution_count": 11
        }
      ]
    },
    {
      "cell_type": "code",
      "source": [
        "lable_unique = np.unique(labels).astype(np.int16)\n",
        "lable_unique\n",
        "# label = labels == 1.\n",
        "# label"
      ],
      "metadata": {
        "id": "d9_QO9mge4Es",
        "outputId": "8b73bd75-3f43-4894-a93e-939e7c3c5618",
        "colab": {
          "base_uri": "https://localhost:8080/"
        }
      },
      "execution_count": 27,
      "outputs": [
        {
          "output_type": "execute_result",
          "data": {
            "text/plain": [
              "array([ 1,  2,  3,  4,  5,  6,  7,  8,  9, 10, 11, 12, 13, 14, 15, 16, 17,\n",
              "       18, 19, 20], dtype=int16)"
            ]
          },
          "metadata": {},
          "execution_count": 27
        }
      ]
    },
    {
      "cell_type": "code",
      "source": [
        "# 분포 확인 \n",
        "import matplotlib.pyplot as plt\n",
        "plt.figure(figsize=(15,10))\n",
        "for label in lable_unique:\n",
        "  label_list = labels == label\n",
        "  plt.scatter(projected_matrix[label_list,0], projected_matrix[label_list,1], label=f'class {label}')\n",
        "# plt.scatter(eigen_vectors_pca[:,0], eigen_vectors_pca[:,1])\n",
        "\n",
        "# 표시 위해 사이즈 증가\n",
        "scala_size = 20\n",
        "start_point = np.zeros((2))\n",
        "# eigen_vector_pca = np.vstack([start_point,eigen_vectors_pca.T[0] * scala_size])\n",
        "# plt.plot(eigen_vector_pca[:,0], eigen_vector_pca[:,1], label='PCA 1 vector')\n",
        "plt.legend()\n",
        "plt.show()"
      ],
      "metadata": {
        "id": "qBvNJMy9C-FP",
        "outputId": "28ab1339-1fcc-4d73-9255-d0ef5dffa7dd",
        "colab": {
          "base_uri": "https://localhost:8080/",
          "height": 647
        }
      },
      "execution_count": 28,
      "outputs": [
        {
          "output_type": "stream",
          "name": "stderr",
          "text": [
            "/usr/local/lib/python3.7/dist-packages/matplotlib/collections.py:153: ComplexWarning: Casting complex values to real discards the imaginary part\n",
            "  offsets = np.asanyarray(offsets, float)\n"
          ]
        },
        {
          "output_type": "display_data",
          "data": {
            "text/plain": [
              "<Figure size 1080x720 with 1 Axes>"
            ],
            "image/png": "[encoded data removed]"
          },
          "metadata": {
            "needs_background": "light"
          }
        }
      ]
    },
    {
      "cell_type": "markdown",
      "source": [
        "##LDA"
      ],
      "metadata": {
        "id": "Hlk28HDf061B"
      }
    },
    {
      "cell_type": "code",
      "source": [
        "# 벡터별 정보 보유율 - 2차원 표시 위해 \n",
        "eigen_values_pca_sum = sum(eigen_values_pca)\n",
        "threshold = 95\n",
        "for idx, eigen_value in enumerate(eigen_values_pca):\n",
        "  projected_rate = eigen_value/eigen_values_pca_sum*100\n",
        "  print('index {}, rate:{:.2f}'.format(idx, eigen_value/eigen_values_pca_sum*100))\n",
        "  if idx >= 1: break\n",
        "\n",
        "  # if projected_rate >= threshold:\n",
        "  #   print('index {}, rate:{:.2f}'.format(idx, eigen_value/eigen_values_pca_sum*100))"
      ],
      "metadata": {
        "id": "GYxrhkmy3yYE",
        "outputId": "c507c910-8fb0-483d-8abe-9ee9669c0c1d",
        "colab": {
          "base_uri": "https://localhost:8080/"
        }
      },
      "execution_count": 10,
      "outputs": [
        {
          "output_type": "stream",
          "name": "stdout",
          "text": [
            "index 0, rate:22.18+0.00j\n",
            "index 1, rate:13.04+0.00j\n"
          ]
        }
      ]
    }
  ]
}