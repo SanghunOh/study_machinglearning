{
  "nbformat": 4,
  "nbformat_minor": 0,
  "metadata": {
    "colab": {
      "name": "과제_4_2_차원축소.ipynb",
      "provenance": [],
      "authorship_tag": "ABX9TyOaH7OWg189LNrjK0wgankL",
      "include_colab_link": true
    },
    "kernelspec": {
      "name": "python3",
      "display_name": "Python 3"
    },
    "language_info": {
      "name": "python"
    }
  },
  "cells": [
    {
      "cell_type": "markdown",
      "metadata": {
        "id": "view-in-github",
        "colab_type": "text"
      },
      "source": [
        "<a href=\"https://colab.research.google.com/github/SanghunOh/study_machinglearning/blob/main/codes/sanghunoh/reports/%EA%B3%BC%EC%A0%9C_4_2_%EC%B0%A8%EC%9B%90%EC%B6%95%EC%86%8C.ipynb\" target=\"_parent\"><img src=\"https://colab.research.google.com/assets/colab-badge.svg\" alt=\"Open In Colab\"/></a>"
      ]
    },
    {
      "cell_type": "markdown",
      "source": [
        "##2. (60점) 첨부된 COIL20 데이터(Columbia Object Image Library, HW4_COIL20.mat)에 대한 특징 추출 및 2차원 출력을 수행하기 위한 시스템을 구성하시오."
      ],
      "metadata": {
        "id": "QCElfXa5ymDz"
      }
    },
    {
      "cell_type": "code",
      "execution_count": 7,
      "metadata": {
        "colab": {
          "base_uri": "https://localhost:8080/"
        },
        "id": "4Pol2WyEv6l_",
        "outputId": "36c12df5-3312-4173-d5c6-d5903c81a438"
      },
      "outputs": [
        {
          "output_type": "stream",
          "name": "stdout",
          "text": [
            "HW4_COIL20.mat\tsample_data\n"
          ]
        }
      ],
      "source": [
        "# !wget https://github.com/SanghunOh/study_machinglearning/blob/main/datas/HW4_COIL20.mat\n",
        "!ls"
      ]
    },
    {
      "cell_type": "code",
      "source": [
        "!pip install mat73"
      ],
      "metadata": {
        "colab": {
          "base_uri": "https://localhost:8080/"
        },
        "id": "It5D6na-yzHc",
        "outputId": "cf30b823-0437-48a0-db59-b21cf6dd4f71"
      },
      "execution_count": 3,
      "outputs": [
        {
          "output_type": "stream",
          "name": "stdout",
          "text": [
            "Collecting mat73\n",
            "  Downloading mat73-0.59-py3-none-any.whl (19 kB)\n",
            "Requirement already satisfied: h5py in /usr/local/lib/python3.7/dist-packages (from mat73) (3.1.0)\n",
            "Requirement already satisfied: numpy in /usr/local/lib/python3.7/dist-packages (from mat73) (1.21.6)\n",
            "Requirement already satisfied: cached-property in /usr/local/lib/python3.7/dist-packages (from h5py->mat73) (1.5.2)\n",
            "Installing collected packages: mat73\n",
            "Successfully installed mat73-0.59\n"
          ]
        }
      ]
    },
    {
      "cell_type": "code",
      "source": [
        "# read features and labels from dataset file(mat)\n",
        "import mat73\n",
        "mat_contents = mat73.loadmat('./HW4_COIL20.mat')\n",
        "type(mat_contents), mat_contents.keys(),\n",
        "features = mat_contents['X']\n",
        "labels = mat_contents['Y']\n",
        "\n",
        "import numpy as np\n",
        "features.shape, labels.shape, np.unique(labels)"
      ],
      "metadata": {
        "colab": {
          "base_uri": "https://localhost:8080/"
        },
        "id": "AdrvddXVyhP2",
        "outputId": "ad0e6d56-6a05-4c9f-d55c-52d27386848a"
      },
      "execution_count": 11,
      "outputs": [
        {
          "output_type": "execute_result",
          "data": {
            "text/plain": [
              "((280, 1024),\n",
              " (280,),\n",
              " array([ 1.,  2.,  3.,  4.,  5.,  6.,  7.,  8.,  9., 10., 11., 12., 13.,\n",
              "        14., 15., 16., 17., 18., 19., 20.]))"
            ]
          },
          "metadata": {},
          "execution_count": 11
        }
      ]
    },
    {
      "cell_type": "markdown",
      "source": [
        "##PCA(Principal Component Analysis)"
      ],
      "metadata": {
        "id": "R5Pw3cch2Vc-"
      }
    },
    {
      "cell_type": "markdown",
      "source": [
        "###Centering Data"
      ],
      "metadata": {
        "id": "i0j8_Fxy2cr_"
      }
    },
    {
      "cell_type": "code",
      "source": [
        "norm_features = features - features.mean(axis=0)\n",
        "features_std = norm_features/norm_features.std(axis=0)\n",
        "features_std.shape"
      ],
      "metadata": {
        "colab": {
          "base_uri": "https://localhost:8080/"
        },
        "id": "pmdLrXuSyuVF",
        "outputId": "b4fb1c88-f358-47a0-f485-39e5f8f8cdd4"
      },
      "execution_count": 13,
      "outputs": [
        {
          "output_type": "execute_result",
          "data": {
            "text/plain": [
              "(280, 1024)"
            ]
          },
          "metadata": {},
          "execution_count": 13
        }
      ]
    },
    {
      "cell_type": "markdown",
      "source": [
        "###Computing the Eigenvectors and Eigenvalues"
      ],
      "metadata": {
        "id": "GNS0VU8j25NM"
      }
    },
    {
      "cell_type": "code",
      "source": [
        "features_std_sigma = np.cov(features_std.T)\n",
        "eigen_values_pca, eigen_vectors_pca = np.linalg.eig(features_std_sigma)\n",
        "eigen_values_pca.shape, eigen_vectors_pca.shape\n",
        "# features_std_sigma, eigen_values_pca, eigen_vectors_pca"
      ],
      "metadata": {
        "colab": {
          "base_uri": "https://localhost:8080/"
        },
        "id": "9GNORRuo21wc",
        "outputId": "2a245447-7441-4de6-ece9-e5228174fd12"
      },
      "execution_count": 15,
      "outputs": [
        {
          "output_type": "execute_result",
          "data": {
            "text/plain": [
              "((1024,), (1024, 1024))"
            ]
          },
          "metadata": {},
          "execution_count": 15
        }
      ]
    },
    {
      "cell_type": "code",
      "source": [
        "# 벡터별 정보 보유율\n",
        "eigen_values_pca_sum = sum(eigen_values_pca)\n",
        "threshold = 95\n",
        "for idx, eigen_value in enumerate(eigen_values_pca):\n",
        "  projected_rate = eigen_value/eigen_values_pca_sum*100\n",
        "  if projected_rate >= threshold:\n",
        "    print('index {}, rate:{:.2f}'.format(idx, eigen_value/eigen_values_pca_sum*100))"
      ],
      "metadata": {
        "id": "8EeANkhp3Xuh"
      },
      "execution_count": 18,
      "outputs": []
    },
    {
      "cell_type": "code",
      "source": [
        ""
      ],
      "metadata": {
        "id": "GYxrhkmy3yYE"
      },
      "execution_count": null,
      "outputs": []
    }
  ]
}