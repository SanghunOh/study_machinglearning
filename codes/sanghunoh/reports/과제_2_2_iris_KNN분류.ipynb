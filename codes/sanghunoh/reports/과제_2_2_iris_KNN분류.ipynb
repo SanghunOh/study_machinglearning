{
  "nbformat": 4,
  "nbformat_minor": 0,
  "metadata": {
    "colab": {
      "name": "과제_2_2_iris_KNN분류.ipynb",
      "provenance": [],
      "include_colab_link": true
    },
    "kernelspec": {
      "name": "python3",
      "display_name": "Python 3"
    },
    "language_info": {
      "name": "python"
    }
  },
  "cells": [
    {
      "cell_type": "markdown",
      "metadata": {
        "id": "view-in-github",
        "colab_type": "text"
      },
      "source": [
        "<a href=\"https://colab.research.google.com/github/SanghunOh/study_machinglearning/blob/main/codes/sanghunoh/reports/%EA%B3%BC%EC%A0%9C_2_2_iris_KNN%EB%B6%84%EB%A5%98.ipynb\" target=\"_parent\"><img src=\"https://colab.research.google.com/assets/colab-badge.svg\" alt=\"Open In Colab\"/></a>"
      ]
    },
    {
      "cell_type": "markdown",
      "source": [
        " 2. (50점) 각 클래스당 데이터 50개씩 총 3개의 클래스로 이루어진 iris 데이터를 LMS 과제 게시판에서 다운로드 받고, K-근접이웃 분류기를 이용하여 iris 데이터를 분류하시오. 데이터의 거리 계산은 유클리디안 거리(euclidean distance)를 사용할 것, K값을 1, 5, 10, 15, 20, 25, 30으로 변화시키면서 수행하고, 그 결과를 표로 정리하여 비교하시오"
      ],
      "metadata": {
        "id": "gB0yzfHzL8r1"
      }
    },
    {
      "cell_type": "code",
      "source": [
        "from google.colab import drive\n",
        "drive.mount('/content/drive')"
      ],
      "metadata": {
        "colab": {
          "base_uri": "https://localhost:8080/"
        },
        "id": "rVbcsh8o66Dg",
        "outputId": "8ed8525b-6784-4d48-8576-08379eb5cff2"
      },
      "execution_count": 1,
      "outputs": [
        {
          "output_type": "stream",
          "name": "stdout",
          "text": [
            "Drive already mounted at /content/drive; to attempt to forcibly remount, call drive.mount(\"/content/drive\", force_remount=True).\n"
          ]
        }
      ]
    },
    {
      "cell_type": "markdown",
      "source": [
        "# load data\n",
        "refer iris : https://archive.ics.uci.edu/ml/datasets/iris"
      ],
      "metadata": {
        "id": "-DJ-pjC_MrTS"
      }
    },
    {
      "cell_type": "code",
      "execution_count": 2,
      "metadata": {
        "colab": {
          "base_uri": "https://localhost:8080/"
        },
        "id": "3XVQovAOLzO6",
        "outputId": "d86f32da-677e-4535-9e33-7e3122fcb73a"
      },
      "outputs": [
        {
          "output_type": "stream",
          "name": "stdout",
          "text": [
            "/content/drive/MyDrive/Colab Notebooks/00.study/10.knou\n"
          ]
        }
      ],
      "source": [
        "# 작업 경로 설정\n",
        "import os\n",
        "os.chdir(r\"/content/drive/MyDrive/Colab Notebooks/00.study/10.knou\")\n",
        "!pwd\n",
        "# !ls"
      ]
    },
    {
      "cell_type": "code",
      "source": [
        "!unzip -o ./datas/iris.zip -d ./datas\n",
        "!ls ./datas/*.mat"
      ],
      "metadata": {
        "colab": {
          "base_uri": "https://localhost:8080/"
        },
        "id": "LkAuxxBgMzaC",
        "outputId": "21a7be74-265b-424f-e6ca-a4f373322d3a"
      },
      "execution_count": 3,
      "outputs": [
        {
          "output_type": "stream",
          "name": "stdout",
          "text": [
            "Archive:  ./datas/iris.zip\n",
            "  inflating: ./datas/iris_shuffle.mat  \n",
            "  inflating: ./datas/matlab_iris_shuffle.mat  \n",
            "./datas/dataCh4_7.mat\t  ./datas/matlab_iris_shuffle.mat\n",
            "./datas/iris_shuffle.mat\n"
          ]
        }
      ]
    },
    {
      "cell_type": "markdown",
      "source": [
        "## EDA (Exploratory Data Analysis) 탐색적 데이터 분석"
      ],
      "metadata": {
        "id": "oMnBV3KRRJyE"
      }
    },
    {
      "cell_type": "code",
      "source": [
        "# read dataset file\n",
        "import scipy.io\n",
        "mat = scipy.io.loadmat('./datas/matlab_iris_shuffle.mat')\n",
        "# mat = scipy.io.loadmat('./datas/iris_shuffle.mat')\n",
        "\n",
        "type(mat), mat.keys(), "
      ],
      "metadata": {
        "colab": {
          "base_uri": "https://localhost:8080/"
        },
        "id": "8F--_CPmM9ga",
        "outputId": "e0fea26d-85db-435f-98f1-3ab4f8f0844c"
      },
      "execution_count": 4,
      "outputs": [
        {
          "output_type": "execute_result",
          "data": {
            "text/plain": [
              "(dict,\n",
              " dict_keys(['__header__', '__version__', '__globals__', 'iris_class', 'iris_data']))"
            ]
          },
          "metadata": {},
          "execution_count": 4
        }
      ]
    },
    {
      "cell_type": "code",
      "source": [
        "import numpy as np"
      ],
      "metadata": {
        "id": "BGazX-UyO2N5"
      },
      "execution_count": 5,
      "outputs": []
    },
    {
      "cell_type": "code",
      "source": [
        "for key in list(mat.keys()):\n",
        "  result = None\n",
        "  if isinstance(mat[key], np.ndarray):\n",
        "    result = mat[key].shape\n",
        "  else :\n",
        "    result = mat[key]\n",
        "  print('key name:{}, result:{}, data type:{}'.format(key ,result, type(mat[key])))"
      ],
      "metadata": {
        "colab": {
          "base_uri": "https://localhost:8080/"
        },
        "id": "hHTD3YaENSZa",
        "outputId": "967a9702-2a45-4aa6-cbe2-f4f50a6b06d9"
      },
      "execution_count": 6,
      "outputs": [
        {
          "output_type": "stream",
          "name": "stdout",
          "text": [
            "key name:__header__, result:b'MATLAB 5.0 MAT-file, written by Octave 5.2.0, 2020-03-26 12:54:05 UTC', data type:<class 'bytes'>\n",
            "key name:__version__, result:1.0, data type:<class 'str'>\n",
            "key name:__globals__, result:[], data type:<class 'list'>\n",
            "key name:iris_class, result:(150, 1), data type:<class 'numpy.ndarray'>\n",
            "key name:iris_data, result:(150, 4), data type:<class 'numpy.ndarray'>\n"
          ]
        }
      ]
    },
    {
      "cell_type": "code",
      "source": [
        "class_type, class_count = np.unique(mat['iris_class'],return_counts=True)\n",
        "class_type, class_count"
      ],
      "metadata": {
        "colab": {
          "base_uri": "https://localhost:8080/"
        },
        "id": "jLeBwZXOSR-K",
        "outputId": "fd0dca5a-7b69-460c-b20d-c918f80f50c6"
      },
      "execution_count": 7,
      "outputs": [
        {
          "output_type": "execute_result",
          "data": {
            "text/plain": [
              "(array([array([[1.]]), array([[2.]]), array([[3.]])], dtype=object),\n",
              " array([50, 50, 50]))"
            ]
          },
          "metadata": {},
          "execution_count": 7
        }
      ]
    },
    {
      "cell_type": "code",
      "source": [
        "import pandas as pd"
      ],
      "metadata": {
        "id": "A6cNMwTiO44V"
      },
      "execution_count": 8,
      "outputs": []
    },
    {
      "cell_type": "code",
      "source": [
        "iris_pd = pd.DataFrame(mat['iris_data'])\n",
        "iris_pd.info()\n",
        "# iris_pd.describe()"
      ],
      "metadata": {
        "colab": {
          "base_uri": "https://localhost:8080/"
        },
        "id": "nEUZwupsRzRd",
        "outputId": "2bf55f4b-7b38-4a1f-bdef-fcd928972462"
      },
      "execution_count": 9,
      "outputs": [
        {
          "output_type": "stream",
          "name": "stdout",
          "text": [
            "<class 'pandas.core.frame.DataFrame'>\n",
            "RangeIndex: 150 entries, 0 to 149\n",
            "Data columns (total 4 columns):\n",
            " #   Column  Non-Null Count  Dtype \n",
            "---  ------  --------------  ----- \n",
            " 0   0       150 non-null    object\n",
            " 1   1       150 non-null    object\n",
            " 2   2       150 non-null    object\n",
            " 3   3       150 non-null    object\n",
            "dtypes: object(4)\n",
            "memory usage: 4.8+ KB\n"
          ]
        }
      ]
    },
    {
      "cell_type": "markdown",
      "source": [
        "### 추론 : 3개 Class이며, 각 데이터 row는 50개, 입력변수 갯수는 4개, mat['iris_data']와 mat['iris_class']는 각 row가 매칭"
      ],
      "metadata": {
        "id": "prUbuZlVUGjx"
      }
    },
    {
      "cell_type": "code",
      "source": [
        "# dtype 일치 위해 변환\n",
        "iris_data = mat['iris_data'].astype('float64')\n",
        "iris_class = mat['iris_class'].astype('int32')"
      ],
      "metadata": {
        "id": "dpGgnFzreTLb"
      },
      "execution_count": 10,
      "outputs": []
    },
    {
      "cell_type": "code",
      "source": [
        "# iris = np.hstack([mat['iris_data'], mat['iris_class']])\n",
        "iris = np.concatenate([iris_data, iris_class],axis=1)\n",
        "iris.shape"
      ],
      "metadata": {
        "colab": {
          "base_uri": "https://localhost:8080/"
        },
        "id": "2x9AC8A6SBsP",
        "outputId": "f62edba5-3476-4614-86bf-d345755133b5"
      },
      "execution_count": 11,
      "outputs": [
        {
          "output_type": "execute_result",
          "data": {
            "text/plain": [
              "(150, 5)"
            ]
          },
          "metadata": {},
          "execution_count": 11
        }
      ]
    },
    {
      "cell_type": "markdown",
      "source": [
        "## K-근접이웃 분류기"
      ],
      "metadata": {
        "id": "4Z13oLECWxzm"
      }
    },
    {
      "cell_type": "markdown",
      "source": [
        "### kernel=5 로 실험"
      ],
      "metadata": {
        "id": "Jb_4Lx47ohT8"
      }
    },
    {
      "cell_type": "code",
      "source": [
        "iris[3,0:5], np.linalg.norm(iris[2:4,0:4] - iris[3:5,0:4], axis=1)"
      ],
      "metadata": {
        "colab": {
          "base_uri": "https://localhost:8080/"
        },
        "id": "nTVm63oecFWo",
        "outputId": "bcf68cb3-7508-40c0-fbaa-8112e860e4ea"
      },
      "execution_count": 12,
      "outputs": [
        {
          "output_type": "execute_result",
          "data": {
            "text/plain": [
              "(array([5.9, 3.2, 4.8, 1.8, 2. ]), array([1.19582607, 2.71477439]))"
            ]
          },
          "metadata": {},
          "execution_count": 12
        }
      ]
    },
    {
      "cell_type": "code",
      "source": [
        "from pandas._libs.algos import ensure_uint8\n",
        "kernel_count = 20\n",
        "error_count = np.full((3),0,dtype=np.int64) # class A,B,C\n",
        "for item in iris:\n",
        "  # 유클리디안 거리(euclidean distance) 사용해 모든 값과 거리 계산\n",
        "  distance_norm = np.linalg.norm(iris[:,0:4] - item[0:4], axis=1)\n",
        "  # 거리 계산과 결과 변수(class type)를 merge\n",
        "  kernel_stack = np.stack((distance_norm, iris[:,4]), axis=1)\n",
        "  kernel_items = kernel_stack[kernel_stack[:,0].argsort()]  # 거리 계산 column 기준 가까운 거리로 정렬\n",
        "  class_types = np.full((3),0)\n",
        "  for kernel_item in kernel_items[1:kernel_count+1,:]:  # 비교 item 거리는 제외 위해 [0] 제외\n",
        "    class_type = int(kernel_item[1] - 1) # class_types 에 담기 위해 -1\n",
        "    # print(class_type,kernel_item[1])\n",
        "    class_types[class_type] = class_types[class_type] + 1\n",
        "  # 오류 데이터 측정\n",
        "  max_idx = np.argmax(class_types) + 1\n",
        "  if item[4] != max_idx:\n",
        "    item_target = int(item[1]-1)\n",
        "    # print(item[4], item_target)\n",
        "    error_count[item_target] = error_count[item_target] + 1\n",
        "  pass\n",
        "\n",
        "kernel_stack[0:10,:]\n",
        "# distance_norm.shape, item[0:4]\n",
        "# kernel_items[0:10,:]\n",
        "# print('error rate : {}'.format(error_count/class_count[0]))\n",
        "# print('error rate : {}'.format(np.mean(error_count)))"
      ],
      "metadata": {
        "colab": {
          "base_uri": "https://localhost:8080/"
        },
        "id": "35f7qdtgY8uV",
        "outputId": "b8a57d72-a97d-49cc-b5ed-c70ebc69adb9"
      },
      "execution_count": 13,
      "outputs": [
        {
          "output_type": "execute_result",
          "data": {
            "text/plain": [
              "array([[1.56843871, 2.        ],\n",
              "       [4.90509939, 1.        ],\n",
              "       [0.34641016, 3.        ],\n",
              "       [1.28452326, 2.        ],\n",
              "       [1.65529454, 3.        ],\n",
              "       [2.54165301, 2.        ],\n",
              "       [4.62817459, 1.        ],\n",
              "       [2.41246762, 2.        ],\n",
              "       [2.24944438, 2.        ],\n",
              "       [4.55411901, 1.        ]])"
            ]
          },
          "metadata": {},
          "execution_count": 13
        }
      ]
    },
    {
      "cell_type": "code",
      "source": [
        "kernel_items[0:10,:]"
      ],
      "metadata": {
        "colab": {
          "base_uri": "https://localhost:8080/"
        },
        "id": "pZrX2DmytzBP",
        "outputId": "8ff1b709-532b-45f0-ef7d-c1fec2b033db"
      },
      "execution_count": 14,
      "outputs": [
        {
          "output_type": "execute_result",
          "data": {
            "text/plain": [
              "array([[0.        , 3.        ],\n",
              "       [0.24494897, 3.        ],\n",
              "       [0.26457513, 3.        ],\n",
              "       [0.34641016, 3.        ],\n",
              "       [0.34641016, 3.        ],\n",
              "       [0.36055513, 3.        ],\n",
              "       [0.37416574, 3.        ],\n",
              "       [0.41231056, 3.        ],\n",
              "       [0.42426407, 3.        ],\n",
              "       [0.4472136 , 3.        ]])"
            ]
          },
          "metadata": {},
          "execution_count": 14
        }
      ]
    },
    {
      "cell_type": "code",
      "source": [
        "np.sum(error_count) / class_count.shape[0]"
      ],
      "metadata": {
        "colab": {
          "base_uri": "https://localhost:8080/"
        },
        "id": "Q0YK_JUpb3NB",
        "outputId": "6c246a8d-928b-4b90-d63a-87b5fc442f0c"
      },
      "execution_count": 15,
      "outputs": [
        {
          "output_type": "execute_result",
          "data": {
            "text/plain": [
              "1.0"
            ]
          },
          "metadata": {},
          "execution_count": 15
        }
      ]
    },
    {
      "cell_type": "markdown",
      "source": [
        "### 여러 Kernel 변화 적용해 비교"
      ],
      "metadata": {
        "id": "eEOqyQa2pqNq"
      }
    },
    {
      "cell_type": "code",
      "source": [
        "def knn_classtify(kernel_count):\n",
        "  _kernel_count = kernel_count\n",
        "  error_count = np.full((3),0,dtype=np.int64) # class A,B,C\n",
        "  for item in iris:\n",
        "    # 유클리디안 거리(euclidean distance) 사용해 모든 값과 거리 계산\n",
        "    distance_norm = np.linalg.norm(iris[:,0:4] - item[0:4], axis=1)\n",
        "    # 거리 계산과 결과 변수(class type)를 merge\n",
        "    kernel_stack = np.stack((distance_norm, iris[:,4]), axis=1)\n",
        "    kernel_items = kernel_stack[kernel_stack[:,0].argsort()]  # 거리 계산 column 기준 가까운 거리로 정렬\n",
        "    class_types = np.full((3),0)\n",
        "    for kernel_item in kernel_items[1:_kernel_count+1,:]:  # 비교 item 거리는 제외 위해 [0] 제외\n",
        "      class_type = int(kernel_item[1] - 1) # class_types 에 담기 위해 -1\n",
        "      class_types[class_type] = class_types[class_type] + 1\n",
        "    # 오류 데이터 측정\n",
        "    max_idx = np.argmax(class_types) + 1\n",
        "    if item[4] != max_idx:\n",
        "      item_target = int(item[1]-1)\n",
        "      error_count[item_target] = error_count[item_target] + 1\n",
        "  return np.mean(error_count)"
      ],
      "metadata": {
        "id": "1oC_rHY7pYtk"
      },
      "execution_count": 16,
      "outputs": []
    },
    {
      "cell_type": "markdown",
      "source": [
        "####K값을 1, 5, 10, 15, 20, 25, 30으로 변화"
      ],
      "metadata": {
        "id": "pFkfLXOJqlfI"
      }
    },
    {
      "cell_type": "code",
      "source": [
        "loop_list = [1, 5, 10, 15, 20, 25, 30]\n",
        "for knl in loop_list:\n",
        "  print('kernel:{}, knn_classtify:{}'.format(knl,knn_classtify(knl)))"
      ],
      "metadata": {
        "colab": {
          "base_uri": "https://localhost:8080/"
        },
        "id": "jNA50IRzqZH5",
        "outputId": "7ae856ab-7bec-4d37-fdf2-8a6c29a36438"
      },
      "execution_count": 17,
      "outputs": [
        {
          "output_type": "stream",
          "name": "stdout",
          "text": [
            "kernel:1, knn_classtify:2.0\n",
            "kernel:5, knn_classtify:1.6666666666666667\n",
            "kernel:10, knn_classtify:1.6666666666666667\n",
            "kernel:15, knn_classtify:1.3333333333333333\n",
            "kernel:20, knn_classtify:1.0\n",
            "kernel:25, knn_classtify:1.6666666666666667\n",
            "kernel:30, knn_classtify:2.6666666666666665\n"
          ]
        }
      ]
    },
    {
      "cell_type": "markdown",
      "source": [
        "#### 결과 비교 : Train dataset 으로 확인 시 kernel count를 20을 선택하는 것이 좋음.\n",
        "|kernel count|1|5|10|15|20|25|30|\n",
        "|:--:|:--:|:--:|:--:|:--:|:--:|:--:|:--:|\n",
        "|측정치|2.0|1.67|1.67|1.34|1.0|1.67|2.67|"
      ],
      "metadata": {
        "id": "5eqbA-b8xPG2"
      }
    },
    {
      "cell_type": "code",
      "source": [
        ""
      ],
      "metadata": {
        "id": "OOmg-VPJCax6"
      },
      "execution_count": 17,
      "outputs": []
    }
  ]
}