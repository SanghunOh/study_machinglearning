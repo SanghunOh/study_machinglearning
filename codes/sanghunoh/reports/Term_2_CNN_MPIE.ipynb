{
  "nbformat": 4,
  "nbformat_minor": 0,
  "metadata": {
    "colab": {
      "name": "Term_2_CNN_MPIE.ipynb",
      "provenance": [],
      "collapsed_sections": [],
      "mount_file_id": "https://github.com/SanghunOh/study_machinglearning/blob/main/codes/sanghunoh/reports/Term_2_CNN_MPIE.ipynb",
      "authorship_tag": "ABX9TyMQTPl0M5xbYGAYHYhs81fk",
      "include_colab_link": true
    },
    "kernelspec": {
      "name": "python3",
      "display_name": "Python 3"
    },
    "language_info": {
      "name": "python"
    }
  },
  "cells": [
    {
      "cell_type": "markdown",
      "metadata": {
        "id": "view-in-github",
        "colab_type": "text"
      },
      "source": [
        "<a href=\"https://colab.research.google.com/github/SanghunOh/study_machinglearning/blob/main/codes/sanghunoh/reports/Term_2_CNN_MPIE.ipynb\" target=\"_parent\"><img src=\"https://colab.research.google.com/assets/colab-badge.svg\" alt=\"Open In Colab\"/></a>"
      ]
    },
    {
      "cell_type": "markdown",
      "source": [
        "##Connect Drive"
      ],
      "metadata": {
        "id": "brb_gNSQ-Tyg"
      }
    },
    {
      "cell_type": "code",
      "execution_count": 1,
      "metadata": {
        "colab": {
          "base_uri": "https://localhost:8080/"
        },
        "id": "2zl8YlT9398C",
        "outputId": "56287ecd-9317-4ab5-fae3-402a055c417a"
      },
      "outputs": [
        {
          "output_type": "stream",
          "name": "stdout",
          "text": [
            "/content/drive/.shortcut-targets-by-id/1tHYgEz3lQF-LmtFPXRgMBDh4UN54qeAs/datas\n"
          ]
        }
      ],
      "source": [
        "path_root = '/content/drive/MyDrive/datas/'\n",
        "\n",
        "# 작업 경로 설정\n",
        "import os\n",
        "os.chdir(path_root)\n",
        "!pwd"
      ]
    },
    {
      "cell_type": "code",
      "source": [
        "# !unzip -o ./mpie_30_shuffle.zip -d ./mpie_30_shuffle"
      ],
      "metadata": {
        "id": "q_zK6dD69lx7"
      },
      "execution_count": 2,
      "outputs": []
    },
    {
      "cell_type": "code",
      "source": [
        "!ls"
      ],
      "metadata": {
        "colab": {
          "base_uri": "https://localhost:8080/"
        },
        "id": "mXG7KRQz-Nax",
        "outputId": "fb67f72d-4cd6-4e28-d855-9f4b51441e81"
      },
      "execution_count": 3,
      "outputs": [
        {
          "output_type": "stream",
          "name": "stdout",
          "text": [
            "dataCh4_7.mat\t\tiris_shuffle.mat\t mpie_30_shuffle\n",
            "dataCh4_7.zip\t\tiris.zip\t\t mpie_30_shuffle.zip\n",
            "digitimages_binary.zip\tmatlab_iris_shuffle.mat  number_images\n"
          ]
        }
      ]
    },
    {
      "cell_type": "markdown",
      "source": [
        "##Load Dataset"
      ],
      "metadata": {
        "id": "qLUE0VPqLewv"
      }
    },
    {
      "cell_type": "code",
      "source": [
        "path = path_root + 'mpie_30_shuffle/'\n",
        "\n",
        "def loadDatasetFromCSV(_datafilename, _labelfilename, label_column):\n",
        "  _train_feature_csv = pd.read_csv(path + _datafilename, dtype=np.float32, header=None) # image features of train data\n",
        "  _train_feature_flatten = _train_feature_csv.values.flatten()\n",
        "  _train_feature_reshape = np.reshape(_train_feature_flatten, (_train_feature_csv.shape[0], 32,-1))\n",
        "\n",
        "  _train_label_csv = pd.read_csv(path + _labelfilename, dtype=np.float32, header=None) # labels of train data\n",
        "  _train_label = _train_label_csv[label_column] # get label you want\n",
        "\n",
        "  return _train_feature_reshape, _train_label"
      ],
      "metadata": {
        "id": "wzRrppGEyLWD"
      },
      "execution_count": 4,
      "outputs": []
    },
    {
      "cell_type": "code",
      "source": [
        "import pandas as pd\n",
        "import numpy as np\n",
        "\n",
        "# train\n",
        "train_feature_reshape, train_label = loadDatasetFromCSV('Traindata.csv', 'Trainlabel.csv', 0)\n",
        "# test\n",
        "validation_feature_reshape, validation_label = loadDatasetFromCSV('Testdata.csv', 'Testlabel.csv', 0)\n",
        "\n",
        "train_feature_reshape.shape, train_label.shape, validation_feature_reshape.shape, validation_label.shape"
      ],
      "metadata": {
        "id": "bLAz9qj1LwGC",
        "outputId": "c3f6c82d-8a57-483b-e68d-f5b023deb117",
        "colab": {
          "base_uri": "https://localhost:8080/"
        }
      },
      "execution_count": 5,
      "outputs": [
        {
          "output_type": "execute_result",
          "data": {
            "text/plain": [
              "((18777, 32, 32), (18777,), (5086, 32, 32), (5086,))"
            ]
          },
          "metadata": {},
          "execution_count": 5
        }
      ]
    },
    {
      "cell_type": "code",
      "execution_count": 6,
      "metadata": {
        "id": "GjUDklviz51u"
      },
      "outputs": [],
      "source": [
        "import tensorflow as tf\n",
        "\n",
        "def preprocessDataset(features_reshape, labels, batch_size=64, shuffle_buffer_size=100):\n",
        "  _batch_size = batch_size\n",
        "  _shuffle_buffer_size = shuffle_buffer_size\n",
        "\n",
        "  _features = features_reshape\n",
        "  _labels = labels\n",
        "  _dataset_tensors = tf.data.Dataset.from_tensor_slices((_features, _labels))\n",
        "\n",
        "  if _shuffle_buffer_size == None:\n",
        "    _dataset_tensors = _dataset_tensors.batch(_batch_size)\n",
        "  else :\n",
        "    _dataset_tensors = _dataset_tensors.shuffle(_shuffle_buffer_size).batch(_batch_size)\n",
        "\n",
        "  return _dataset_tensors"
      ]
    },
    {
      "cell_type": "code",
      "source": [
        "train_dataset = preprocessDataset(train_feature_reshape, train_label)"
      ],
      "metadata": {
        "id": "b0iSCMgGOjCp"
      },
      "execution_count": 7,
      "outputs": []
    },
    {
      "cell_type": "code",
      "source": [
        "# train_dataset?"
      ],
      "metadata": {
        "id": "7CJbD5hHSYCU"
      },
      "execution_count": 8,
      "outputs": []
    },
    {
      "cell_type": "code",
      "source": [
        "validation_dataset = preprocessDataset(validation_feature_reshape, validation_label, shuffle_buffer_size=None)"
      ],
      "metadata": {
        "id": "zrUhEcp4PEk0"
      },
      "execution_count": 9,
      "outputs": []
    },
    {
      "cell_type": "markdown",
      "source": [
        "###Deep CNN with BatchNormalization"
      ],
      "metadata": {
        "id": "Ibx9ZbXzwthu"
      }
    },
    {
      "cell_type": "code",
      "source": [
        "from tensorflow.keras import layers\n",
        "\n",
        "category = train_label.unique().shape[0]\n",
        "def make_cnn(category_count, input_data_shape=(32, 32, 1)):\n",
        "    model = tf.keras.Sequential()\n",
        "\n",
        "    model.add(layers.Conv2D(input_shape = input_data_shape, filters = 64, kernel_size = (3,3), strides = (1,1), padding = 'same', kernel_initializer='he_normal'))\n",
        "    model.add(layers.Activation('relu'))\n",
        "    model.add(layers.BatchNormalization())\n",
        "    model.add(layers.MaxPooling2D(pool_size = (2,2)))\n",
        "\n",
        "    model.add(layers.Conv2D(filters = 32, kernel_size = (3,3), strides = (1,1), padding = 'same', kernel_initializer='he_normal'))\n",
        "    model.add(layers.Activation('relu'))\n",
        "    model.add(layers.BatchNormalization())\n",
        "    model.add(layers.MaxPooling2D(pool_size = (2,2)))\n",
        "\n",
        "    # prior layer should be flattend to be connected to dense layers\n",
        "    model.add(layers.Flatten())\n",
        "    # dense layer with 50 neurons\n",
        "    model.add(layers.Dense(128, activation = 'relu', kernel_initializer='he_normal'))\n",
        "    model.add(layers.Dropout(0.5))\n",
        "    # final layer with 10 neurons to classify the instances\n",
        "    model.add(layers.Dense(category_count, activation = 'softmax', kernel_initializer='he_normal'))\n",
        "\n",
        "    # adam = optimizers.Adam(lr = 0.001)\n",
        "    model.compile(loss = 'sparse_categorical_crossentropy', optimizer = 'adam', metrics = ['accuracy'])\n",
        "\n",
        "    return model"
      ],
      "metadata": {
        "id": "2OdDqPX6UWZr"
      },
      "execution_count": 10,
      "outputs": []
    },
    {
      "cell_type": "code",
      "source": [
        "len(list(train_dataset)) / 128"
      ],
      "metadata": {
        "id": "jhkqYUVkKBtq",
        "outputId": "71574063-b5d6-4596-9bb6-f1dc077b37fb",
        "colab": {
          "base_uri": "https://localhost:8080/"
        }
      },
      "execution_count": 11,
      "outputs": [
        {
          "output_type": "execute_result",
          "data": {
            "text/plain": [
              "2.296875"
            ]
          },
          "metadata": {},
          "execution_count": 11
        }
      ]
    },
    {
      "cell_type": "code",
      "source": [
        "tf.keras.backend.clear_session()\n",
        "\n",
        "_epochs = 10\n",
        "_batch_size = len(list(train_dataset)) / 128\n",
        "model = make_cnn(category)\n",
        "history = model.fit(train_dataset, epochs=_epochs, validation_data=validation_dataset, batch_size=_batch_size)"
      ],
      "metadata": {
        "id": "QYn7Q8f311Bi",
        "outputId": "aa81bc31-7ae2-40b3-b938-89b8692cdd0c",
        "colab": {
          "base_uri": "https://localhost:8080/"
        }
      },
      "execution_count": 12,
      "outputs": [
        {
          "output_type": "stream",
          "name": "stdout",
          "text": [
            "Epoch 1/10\n",
            "294/294 [==============================] - 77s 254ms/step - loss: 1.6592 - accuracy: 0.5113 - val_loss: 1.7463 - val_accuracy: 0.4880\n",
            "Epoch 2/10\n",
            "294/294 [==============================] - 59s 202ms/step - loss: 0.4089 - accuracy: 0.8680 - val_loss: 0.0521 - val_accuracy: 0.9894\n",
            "Epoch 3/10\n",
            "294/294 [==============================] - 55s 188ms/step - loss: 0.2009 - accuracy: 0.9313 - val_loss: 0.0107 - val_accuracy: 0.9986\n",
            "Epoch 4/10\n",
            "294/294 [==============================] - 55s 188ms/step - loss: 0.1421 - accuracy: 0.9530 - val_loss: 0.0080 - val_accuracy: 0.9976\n",
            "Epoch 5/10\n",
            "294/294 [==============================] - 55s 188ms/step - loss: 0.1118 - accuracy: 0.9618 - val_loss: 0.0072 - val_accuracy: 0.9986\n",
            "Epoch 6/10\n",
            "294/294 [==============================] - 55s 188ms/step - loss: 0.0861 - accuracy: 0.9715 - val_loss: 0.0042 - val_accuracy: 0.9988\n",
            "Epoch 7/10\n",
            "294/294 [==============================] - 55s 186ms/step - loss: 0.0754 - accuracy: 0.9739 - val_loss: 0.0027 - val_accuracy: 0.9992\n",
            "Epoch 8/10\n",
            "294/294 [==============================] - 55s 188ms/step - loss: 0.0640 - accuracy: 0.9785 - val_loss: 0.0028 - val_accuracy: 0.9992\n",
            "Epoch 9/10\n",
            "294/294 [==============================] - 55s 188ms/step - loss: 0.0580 - accuracy: 0.9800 - val_loss: 0.0028 - val_accuracy: 0.9990\n",
            "Epoch 10/10\n",
            "294/294 [==============================] - 55s 187ms/step - loss: 0.0609 - accuracy: 0.9800 - val_loss: 0.0042 - val_accuracy: 0.9986\n"
          ]
        }
      ]
    },
    {
      "cell_type": "markdown",
      "source": [
        "###drawing graph"
      ],
      "metadata": {
        "id": "ZmJw88aRF63i"
      }
    },
    {
      "cell_type": "code",
      "source": [
        "acc = history.history['accuracy']\n",
        "val_acc = history.history['val_accuracy']\n",
        "\n",
        "loss = history.history['loss']\n",
        "val_loss = history.history['val_loss']\n",
        "\n",
        "epochs_range = range(_epochs)\n",
        "# acc, list(epochs_range)"
      ],
      "metadata": {
        "id": "m4jMOV3EF--3"
      },
      "execution_count": 16,
      "outputs": []
    },
    {
      "cell_type": "code",
      "source": [
        "import matplotlib.pyplot as plt\n",
        "\n",
        "plt.figure(figsize=(20, 6))\n",
        "plt.subplot(1, 2, 1)\n",
        "plt.plot(epochs_range, acc, label='Training Accuracy')\n",
        "plt.plot(epochs_range, val_acc, label='Validation Accuracy')\n",
        "plt.legend(loc='lower right')\n",
        "plt.title('Training and Validation Accuracy')\n",
        "\n",
        "plt.subplot(1, 2, 2)\n",
        "plt.plot(epochs_range, loss, label='Training Loss')\n",
        "plt.plot(epochs_range, val_loss, label='Validation Loss')\n",
        "plt.legend(loc='upper right')\n",
        "plt.title('Training and Validation Loss')\n",
        "plt.show()\n"
      ],
      "metadata": {
        "id": "bg1qb-PPGASa",
        "outputId": "91241ac5-164e-4f4d-b96a-ff9f6ae8bb97",
        "colab": {
          "base_uri": "https://localhost:8080/",
          "height": 390
        }
      },
      "execution_count": 14,
      "outputs": [
        {
          "output_type": "display_data",
          "data": {
            "text/plain": [
              "<Figure size 1440x432 with 2 Axes>"
            ],
            "image/png": "[encoded data removed]"
          },
          "metadata": {
            "needs_background": "light"
          }
        }
      ]
    },
    {
      "cell_type": "markdown",
      "source": [
        "### evaluate"
      ],
      "metadata": {
        "id": "d2a4pCYdEwI7"
      }
    },
    {
      "cell_type": "code",
      "execution_count": 15,
      "metadata": {
        "id": "2q82yN8mmKIE",
        "colab": {
          "base_uri": "https://localhost:8080/"
        },
        "outputId": "7df0e604-27c3-48be-c4db-4ec286a7f329"
      },
      "outputs": [
        {
          "output_type": "stream",
          "name": "stdout",
          "text": [
            "80/80 [==============================] - 3s 39ms/step - loss: 0.0042 - accuracy: 0.9986\n"
          ]
        },
        {
          "output_type": "execute_result",
          "data": {
            "text/plain": [
              "[0.0042350576259195805, 0.9986236691474915]"
            ]
          },
          "metadata": {},
          "execution_count": 15
        }
      ],
      "source": [
        "model.evaluate(validation_dataset)"
      ]
    },
    {
      "cell_type": "code",
      "source": [
        "predict_val = model.predict(validation_dataset).argmax(axis=1)\n",
        "predict_val.shape, validation_label.shape"
      ],
      "metadata": {
        "id": "f5h1v6O7FtAa",
        "outputId": "29b3dd48-41ca-4aae-d0d8-c2041f5e1907",
        "colab": {
          "base_uri": "https://localhost:8080/"
        }
      },
      "execution_count": 23,
      "outputs": [
        {
          "output_type": "execute_result",
          "data": {
            "text/plain": [
              "((5086,), (5086,))"
            ]
          },
          "metadata": {},
          "execution_count": 23
        }
      ]
    },
    {
      "cell_type": "code",
      "source": [
        "predict_val[40:46], validation_label[40:46]"
      ],
      "metadata": {
        "id": "ODj0dMrzQcHM",
        "outputId": "1f658bf0-c9db-4b6f-a7ad-540ae0aeaaa0",
        "colab": {
          "base_uri": "https://localhost:8080/"
        }
      },
      "execution_count": 25,
      "outputs": [
        {
          "output_type": "execute_result",
          "data": {
            "text/plain": [
              "(array([10,  0,  7, 10, 29,  7]), 40    10.0\n",
              " 41     0.0\n",
              " 42     7.0\n",
              " 43    10.0\n",
              " 44    29.0\n",
              " 45     7.0\n",
              " Name: 0, dtype: float32)"
            ]
          },
          "metadata": {},
          "execution_count": 25
        }
      ]
    },
    {
      "cell_type": "code",
      "source": [
        ""
      ],
      "metadata": {
        "id": "_4fAZ2iqRRVD"
      },
      "execution_count": null,
      "outputs": []
    }
  ]
}