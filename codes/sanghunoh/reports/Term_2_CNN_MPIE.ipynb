{
  "nbformat": 4,
  "nbformat_minor": 0,
  "metadata": {
    "colab": {
      "name": "Term_2_CNN_MPIE.ipynb",
      "provenance": [],
      "collapsed_sections": [],
      "mount_file_id": "https://github.com/SanghunOh/study_machinglearning/blob/main/codes/sanghunoh/reports/Term_2_CNN_MPIE.ipynb",
      "authorship_tag": "ABX9TyPhI1DtwezHiS4OLsnwymOk",
      "include_colab_link": true
    },
    "kernelspec": {
      "name": "python3",
      "display_name": "Python 3"
    },
    "language_info": {
      "name": "python"
    }
  },
  "cells": [
    {
      "cell_type": "markdown",
      "metadata": {
        "id": "view-in-github",
        "colab_type": "text"
      },
      "source": [
        "<a href=\"https://colab.research.google.com/github/SanghunOh/study_machinglearning/blob/main/codes/sanghunoh/reports/Term_2_CNN_MPIE.ipynb\" target=\"_parent\"><img src=\"https://colab.research.google.com/assets/colab-badge.svg\" alt=\"Open In Colab\"/></a>"
      ]
    },
    {
      "cell_type": "markdown",
      "source": [
        "##Connect Drive"
      ],
      "metadata": {
        "id": "brb_gNSQ-Tyg"
      }
    },
    {
      "cell_type": "code",
      "execution_count": 1,
      "metadata": {
        "colab": {
          "base_uri": "https://localhost:8080/"
        },
        "id": "2zl8YlT9398C",
        "outputId": "65ddc75e-a8ac-4d89-c9d5-a8a931f584bb"
      },
      "outputs": [
        {
          "output_type": "stream",
          "name": "stdout",
          "text": [
            "/content/drive/MyDrive/Colab Notebooks/00.study/10.knou/datas\n"
          ]
        }
      ],
      "source": [
        "path_root = '/content/drive/MyDrive/datas/'\n",
        "\n",
        "# 작업 경로 설정\n",
        "import os\n",
        "os.chdir(path_root)\n",
        "!pwd"
      ]
    },
    {
      "cell_type": "code",
      "source": [
        "# !unzip -o ./mpie_30_shuffle.zip -d ./mpie_30_shuffle"
      ],
      "metadata": {
        "id": "q_zK6dD69lx7"
      },
      "execution_count": 2,
      "outputs": []
    },
    {
      "cell_type": "code",
      "source": [
        "!ls"
      ],
      "metadata": {
        "colab": {
          "base_uri": "https://localhost:8080/"
        },
        "id": "mXG7KRQz-Nax",
        "outputId": "fab2e76a-d843-414d-ca90-200a5f25218e"
      },
      "execution_count": 3,
      "outputs": [
        {
          "output_type": "stream",
          "name": "stdout",
          "text": [
            "dataCh4_7.mat\t\tiris.zip\t\t mpie_30_shuffle.zip\n",
            "dataCh4_7.zip\t\tmatlab_iris_shuffle.mat  number_images\n",
            "digitimages_binary.zip\tmodel.png\t\t results_20222205052458.pickle\n",
            "iris_shuffle.mat\tmpie_30_shuffle\t\t results_20222205052715.pickle\n"
          ]
        }
      ]
    },
    {
      "cell_type": "markdown",
      "source": [
        "###Load Dataset"
      ],
      "metadata": {
        "id": "qLUE0VPqLewv"
      }
    },
    {
      "cell_type": "code",
      "source": [
        "path = path_root + 'mpie_30_shuffle/'\n",
        "\n",
        "def loadDatasetFromCSV(_datafilename, _labelfilename, label_column):\n",
        "  _train_feature_csv = pd.read_csv(path + _datafilename, dtype=np.float32, header=None) # image features of train data\n",
        "  _train_feature_flatten = _train_feature_csv.values.flatten()\n",
        "  _train_feature_reshape = np.reshape(_train_feature_flatten, (_train_feature_csv.shape[0], 32,-1))\n",
        "\n",
        "  _train_label_csv = pd.read_csv(path + _labelfilename, dtype=np.float32, header=None) # labels of train data\n",
        "  _train_label = _train_label_csv[label_column] # get label you want\n",
        "\n",
        "  return _train_feature_reshape, _train_label"
      ],
      "metadata": {
        "id": "wzRrppGEyLWD"
      },
      "execution_count": 4,
      "outputs": []
    },
    {
      "cell_type": "code",
      "source": [
        "import pandas as pd\n",
        "import numpy as np\n",
        "\n",
        "# train\n",
        "train_feature_reshape, train_label = loadDatasetFromCSV('Traindata.csv', 'Trainlabel.csv', 0)\n",
        "# test\n",
        "validation_feature_reshape, validation_label = loadDatasetFromCSV('Testdata.csv', 'Testlabel.csv', 0)\n",
        "\n",
        "train_feature_reshape.shape, train_label.shape, validation_feature_reshape.shape, validation_label.shape"
      ],
      "metadata": {
        "id": "bLAz9qj1LwGC",
        "colab": {
          "base_uri": "https://localhost:8080/"
        },
        "outputId": "85358431-3d4f-4f2d-e569-28291d1c98d9"
      },
      "execution_count": 5,
      "outputs": [
        {
          "output_type": "execute_result",
          "data": {
            "text/plain": [
              "((18777, 32, 32), (18777,), (5086, 32, 32), (5086,))"
            ]
          },
          "metadata": {},
          "execution_count": 5
        }
      ]
    },
    {
      "cell_type": "code",
      "execution_count": 6,
      "metadata": {
        "id": "GjUDklviz51u"
      },
      "outputs": [],
      "source": [
        "import tensorflow as tf\n",
        "\n",
        "def preprocessDataset(features_reshape, labels, batch_size=64, shuffle_buffer_size=100):\n",
        "  _batch_size = batch_size\n",
        "  _shuffle_buffer_size = shuffle_buffer_size\n",
        "\n",
        "  _features = features_reshape\n",
        "  _labels = labels\n",
        "  _dataset_tensors = tf.data.Dataset.from_tensor_slices((_features, _labels))\n",
        "\n",
        "  if _shuffle_buffer_size == None:\n",
        "    _dataset_tensors = _dataset_tensors.batch(_batch_size)\n",
        "  else :\n",
        "    _dataset_tensors = _dataset_tensors.shuffle(_shuffle_buffer_size).batch(_batch_size)\n",
        "\n",
        "  return _dataset_tensors"
      ]
    },
    {
      "cell_type": "code",
      "source": [
        "train_dataset = preprocessDataset(train_feature_reshape, train_label)"
      ],
      "metadata": {
        "id": "b0iSCMgGOjCp"
      },
      "execution_count": 7,
      "outputs": []
    },
    {
      "cell_type": "code",
      "source": [
        "# train_dataset?"
      ],
      "metadata": {
        "id": "7CJbD5hHSYCU"
      },
      "execution_count": 8,
      "outputs": []
    },
    {
      "cell_type": "code",
      "source": [
        "validation_dataset = preprocessDataset(validation_feature_reshape, validation_label, shuffle_buffer_size=None)"
      ],
      "metadata": {
        "id": "zrUhEcp4PEk0"
      },
      "execution_count": 9,
      "outputs": []
    },
    {
      "cell_type": "markdown",
      "source": [
        "###Deep CNN with BatchNormalization"
      ],
      "metadata": {
        "id": "Ibx9ZbXzwthu"
      }
    },
    {
      "cell_type": "code",
      "source": [
        "filters = 32\n",
        "_filters = filters\n",
        "_min_filters = 16\n",
        "_hidden_layers = int(_filters / _min_filters)\n",
        "for layer in range(_hidden_layers):\n",
        "  print(f'decrease : {_filters}')\n",
        "  _filters = int(_filters/2)\n",
        "  if _filters < _min_filters:\n",
        "    break\n",
        "\n",
        "for layer in range(_hidden_layers):\n",
        "  _filters = int(_filters*2)\n",
        "  if _filters > filters:\n",
        "    break\n",
        "  print(f'increase : {_filters}')\n"
      ],
      "metadata": {
        "colab": {
          "base_uri": "https://localhost:8080/"
        },
        "id": "h6RjrIKspMHq",
        "outputId": "6883dcde-86e0-46b8-dd04-de52d45449eb"
      },
      "execution_count": 10,
      "outputs": [
        {
          "output_type": "stream",
          "name": "stdout",
          "text": [
            "decrease : 32\n",
            "decrease : 16\n",
            "increase : 16\n",
            "increase : 32\n"
          ]
        }
      ]
    },
    {
      "cell_type": "code",
      "source": [
        "from tensorflow.keras import layers\n",
        "\n",
        "category_count = train_label.unique().shape[0]\n",
        "def make_cnn(filters=16, _padding='same', _kernel_initializer='he_normal', _activation='relu', _kernel_size = (3,3), _strides = (1,1), BatchNormal=True, _pool_size = (2,2)):\n",
        "    model = tf.keras.Sequential()\n",
        "\n",
        "    _filters = filters\n",
        "    _min_filters = 16\n",
        "    _hidden_layers = int(_filters / _min_filters)\n",
        "\n",
        "    for layer in range(_hidden_layers):\n",
        "      model.add(layers.Conv2D(input_shape = (32, 32, 1), filters = _filters, kernel_size = _kernel_size, strides = _strides, padding = _padding, kernel_initializer=_kernel_initializer))\n",
        "      model.add(layers.Activation(_activation))\n",
        "      if BatchNormal:\n",
        "        model.add(layers.BatchNormalization())\n",
        "      model.add(layers.MaxPooling2D(pool_size = _pool_size))\n",
        "\n",
        "      _filters = int(_filters/2)\n",
        "      if _filters < _min_filters:\n",
        "        break\n",
        "\n",
        "    # ?전 Layer에서 filter size 작아져 실행 않됨\n",
        "    # for layer in range(_hidden_layers):\n",
        "    #   _filters = int(_filters*2)\n",
        "    #   if _filters > filters:\n",
        "    #     break\n",
        "    #   model.add(layers.Conv2D(input_shape = (32, 32, 1), filters = _filters, kernel_size = _kernel_size, strides = _strides, padding = _padding, kernel_initializer=_kernel_initializer))\n",
        "    #   model.add(layers.Activation(_activation))\n",
        "    #   if BatchNormal:\n",
        "    #     model.add(layers.BatchNormalization())\n",
        "    #   model.add(layers.MaxPooling2D(pool_size = _pool_size))\n",
        "\n",
        "    # prior layer should be flattend to be connected to dense layers\n",
        "    model.add(layers.Flatten())\n",
        "    # dense layer with 50 neurons\n",
        "    model.add(layers.Dense(128, activation = _activation, kernel_initializer=_kernel_initializer))\n",
        "    model.add(layers.Dropout(0.5))\n",
        "    # final layer with 10 neurons to classify the instances\n",
        "    model.add(layers.Dense(category_count, activation = 'softmax', kernel_initializer=_kernel_initializer))\n",
        "\n",
        "    # adam = optimizers.Adam(lr = 0.001)\n",
        "    model.compile(loss = 'sparse_categorical_crossentropy', optimizer = 'adam', metrics = ['accuracy'])\n",
        "\n",
        "    return model"
      ],
      "metadata": {
        "id": "2OdDqPX6UWZr"
      },
      "execution_count": 11,
      "outputs": []
    },
    {
      "cell_type": "code",
      "source": [
        "len(list(train_dataset)) / 128"
      ],
      "metadata": {
        "colab": {
          "base_uri": "https://localhost:8080/"
        },
        "id": "jhkqYUVkKBtq",
        "outputId": "57c4677f-1451-4233-a4d6-5de4fbca19de"
      },
      "execution_count": 12,
      "outputs": [
        {
          "output_type": "execute_result",
          "data": {
            "text/plain": [
              "2.296875"
            ]
          },
          "metadata": {},
          "execution_count": 12
        }
      ]
    },
    {
      "cell_type": "markdown",
      "source": [
        "###callback function for fit time"
      ],
      "metadata": {
        "id": "69PhSLjqmI8M"
      }
    },
    {
      "cell_type": "code",
      "source": [
        "import time\n",
        "\n",
        "class TimeHistory(tf.keras.callbacks.Callback):\n",
        "    def on_train_begin(self, logs={}):\n",
        "        self.times = []\n",
        "\n",
        "    def on_epoch_begin(self, epoch, logs={}):\n",
        "        self.epoch_time_start = time.time()\n",
        "\n",
        "    def on_epoch_end(self, epoch, logs={}):\n",
        "        self.times.append(time.time() - self.epoch_time_start)\n",
        "time_callback = TimeHistory()"
      ],
      "metadata": {
        "id": "-r_M426PmP5P"
      },
      "execution_count": 13,
      "outputs": []
    },
    {
      "cell_type": "markdown",
      "source": [
        "### fit model"
      ],
      "metadata": {
        "id": "1E1Fdq6pnRAe"
      }
    },
    {
      "cell_type": "code",
      "source": [
        "_epochs = 10\n",
        "# _batch_size = len(list(train_dataset)) / len(list(train_dataset))   # Just Check Model params quickly\n",
        "_batch_size = len(list(train_dataset))\n",
        "\n",
        "def model_fit(_param):\n",
        "  tf.keras.backend.clear_session()\n",
        "\n",
        "  model = make_cnn(**_param)\n",
        "  history = model.fit(train_dataset, epochs=_epochs, validation_data=validation_dataset, callbacks=[time_callback], steps_per_epoch=_batch_size)\n",
        "  execution_time = sum(time_callback.times)\n",
        "  return model, history, execution_time, _param"
      ],
      "metadata": {
        "id": "QYn7Q8f311Bi"
      },
      "execution_count": 14,
      "outputs": []
    },
    {
      "cell_type": "markdown",
      "source": [
        "### fit with multi params\n",
        "filters : larger than 16"
      ],
      "metadata": {
        "id": "6NzJoF7tx9Jv"
      }
    },
    {
      "cell_type": "code",
      "source": [
        "params = [\n",
        "          {'filters':16 , '_padding':'same', '_kernel_size': (3,3), '_strides': (1,1), '_pool_size': (2,2)},\n",
        "          {'filters':16 , '_padding':'valid', '_kernel_size': (3,3), '_strides': (1,1), '_pool_size': (2,2)},\n",
        "          {'filters':16 , '_padding':'same', '_kernel_size': (5,5), '_strides': (1,1), '_pool_size': (2,2)},\n",
        "          {'filters':16 , '_padding':'same', '_kernel_size': (3,3), '_strides': (3,3), '_pool_size': (2,2)},\n",
        "          {'filters':16 , '_padding':'same', '_kernel_size': (3,3), '_strides': (3,3), '_pool_size': (4,4)},\n",
        "          {'filters':16 , '_padding':'valid', '_kernel_size': (5,5), '_strides': (3,3), '_pool_size': (4,4)},\n",
        "          {'filters':128 , '_padding':'same', '_kernel_size': (3,3), '_strides': (1,1), '_pool_size': (2,2)},\n",
        "          ]\n",
        "results = list()          \n",
        "for idx, param in enumerate(params):\n",
        "  print('-'*5 +'[ '+ str(idx) + ' ]'+ '-'*5 + str(param))\n",
        "  results.append(model_fit(param))\n"
      ],
      "metadata": {
        "colab": {
          "base_uri": "https://localhost:8080/"
        },
        "id": "i1Tnuhc2x5eH",
        "outputId": "cf754b50-e407-4c55-9d89-24dc2cfd0dc3"
      },
      "execution_count": 15,
      "outputs": [
        {
          "output_type": "stream",
          "name": "stdout",
          "text": [
            "-----[ 0 ]-----{'filters': 16, '_padding': 'same', '_kernel_size': (3, 3), '_strides': (1, 1), '_pool_size': (2, 2)}\n",
            "Epoch 1/10\n",
            "294/294 [==============================] - 30s 97ms/step - loss: 1.3434 - accuracy: 0.6089 - val_loss: 0.6898 - val_accuracy: 0.9546\n",
            "Epoch 2/10\n",
            "294/294 [==============================] - 15s 53ms/step - loss: 0.3226 - accuracy: 0.8951 - val_loss: 0.0444 - val_accuracy: 0.9923\n",
            "Epoch 3/10\n",
            "294/294 [==============================] - 16s 53ms/step - loss: 0.1708 - accuracy: 0.9439 - val_loss: 0.0111 - val_accuracy: 0.9980\n",
            "Epoch 4/10\n",
            "294/294 [==============================] - 15s 53ms/step - loss: 0.1217 - accuracy: 0.9597 - val_loss: 0.0118 - val_accuracy: 0.9963\n",
            "Epoch 5/10\n",
            "294/294 [==============================] - 15s 52ms/step - loss: 0.1143 - accuracy: 0.9610 - val_loss: 0.0068 - val_accuracy: 0.9982\n",
            "Epoch 6/10\n",
            "294/294 [==============================] - 17s 57ms/step - loss: 0.0907 - accuracy: 0.9689 - val_loss: 0.0046 - val_accuracy: 0.9990\n",
            "Epoch 7/10\n",
            "294/294 [==============================] - 15s 52ms/step - loss: 0.0660 - accuracy: 0.9783 - val_loss: 0.0063 - val_accuracy: 0.9978\n",
            "Epoch 8/10\n",
            "294/294 [==============================] - 15s 52ms/step - loss: 0.0740 - accuracy: 0.9754 - val_loss: 0.0074 - val_accuracy: 0.9978\n",
            "Epoch 9/10\n",
            "294/294 [==============================] - 15s 53ms/step - loss: 0.0621 - accuracy: 0.9795 - val_loss: 0.0038 - val_accuracy: 0.9988\n",
            "Epoch 10/10\n",
            "294/294 [==============================] - 15s 52ms/step - loss: 0.0638 - accuracy: 0.9775 - val_loss: 0.0039 - val_accuracy: 0.9988\n",
            "-----[ 1 ]-----{'filters': 16, '_padding': 'valid', '_kernel_size': (3, 3), '_strides': (1, 1), '_pool_size': (2, 2)}\n",
            "Epoch 1/10\n",
            "294/294 [==============================] - 14s 45ms/step - loss: 1.0555 - accuracy: 0.6947 - val_loss: 0.8112 - val_accuracy: 0.8919\n",
            "Epoch 2/10\n",
            "294/294 [==============================] - 13s 46ms/step - loss: 0.1883 - accuracy: 0.9405 - val_loss: 0.0366 - val_accuracy: 0.9921\n",
            "Epoch 3/10\n",
            "294/294 [==============================] - 13s 46ms/step - loss: 0.1016 - accuracy: 0.9672 - val_loss: 0.0096 - val_accuracy: 0.9969\n",
            "Epoch 4/10\n",
            "294/294 [==============================] - 13s 46ms/step - loss: 0.0784 - accuracy: 0.9746 - val_loss: 0.0075 - val_accuracy: 0.9980\n",
            "Epoch 5/10\n",
            "294/294 [==============================] - 13s 45ms/step - loss: 0.0570 - accuracy: 0.9811 - val_loss: 0.0057 - val_accuracy: 0.9984\n",
            "Epoch 6/10\n",
            "294/294 [==============================] - 13s 45ms/step - loss: 0.0552 - accuracy: 0.9823 - val_loss: 0.0068 - val_accuracy: 0.9980\n",
            "Epoch 7/10\n",
            "294/294 [==============================] - 14s 48ms/step - loss: 0.0468 - accuracy: 0.9835 - val_loss: 0.0061 - val_accuracy: 0.9980\n",
            "Epoch 8/10\n",
            "294/294 [==============================] - 13s 45ms/step - loss: 0.0499 - accuracy: 0.9841 - val_loss: 0.0055 - val_accuracy: 0.9986\n",
            "Epoch 9/10\n",
            "294/294 [==============================] - 13s 45ms/step - loss: 0.0521 - accuracy: 0.9829 - val_loss: 0.0057 - val_accuracy: 0.9982\n",
            "Epoch 10/10\n",
            "294/294 [==============================] - 13s 45ms/step - loss: 0.0377 - accuracy: 0.9875 - val_loss: 0.0045 - val_accuracy: 0.9990\n",
            "-----[ 2 ]-----{'filters': 16, '_padding': 'same', '_kernel_size': (5, 5), '_strides': (1, 1), '_pool_size': (2, 2)}\n",
            "Epoch 1/10\n",
            "294/294 [==============================] - 20s 67ms/step - loss: 1.5847 - accuracy: 0.5348 - val_loss: 0.8742 - val_accuracy: 0.9505\n",
            "Epoch 2/10\n",
            "294/294 [==============================] - 19s 66ms/step - loss: 0.4000 - accuracy: 0.8662 - val_loss: 0.0586 - val_accuracy: 0.9912\n",
            "Epoch 3/10\n",
            "294/294 [==============================] - 20s 67ms/step - loss: 0.2251 - accuracy: 0.9271 - val_loss: 0.0183 - val_accuracy: 0.9953\n",
            "Epoch 4/10\n",
            "294/294 [==============================] - 19s 65ms/step - loss: 0.1594 - accuracy: 0.9468 - val_loss: 0.0116 - val_accuracy: 0.9959\n",
            "Epoch 5/10\n",
            "294/294 [==============================] - 19s 66ms/step - loss: 0.1358 - accuracy: 0.9548 - val_loss: 0.0103 - val_accuracy: 0.9976\n",
            "Epoch 6/10\n",
            "294/294 [==============================] - 19s 66ms/step - loss: 0.1140 - accuracy: 0.9609 - val_loss: 0.0073 - val_accuracy: 0.9982\n",
            "Epoch 7/10\n",
            "294/294 [==============================] - 19s 66ms/step - loss: 0.0958 - accuracy: 0.9668 - val_loss: 0.0090 - val_accuracy: 0.9971\n",
            "Epoch 8/10\n",
            "294/294 [==============================] - 19s 66ms/step - loss: 0.0869 - accuracy: 0.9723 - val_loss: 0.0054 - val_accuracy: 0.9988\n",
            "Epoch 9/10\n",
            "294/294 [==============================] - 20s 67ms/step - loss: 0.0752 - accuracy: 0.9736 - val_loss: 0.0087 - val_accuracy: 0.9972\n",
            "Epoch 10/10\n",
            "294/294 [==============================] - 21s 73ms/step - loss: 0.0750 - accuracy: 0.9746 - val_loss: 0.0058 - val_accuracy: 0.9982\n",
            "-----[ 3 ]-----{'filters': 16, '_padding': 'same', '_kernel_size': (3, 3), '_strides': (3, 3), '_pool_size': (2, 2)}\n",
            "Epoch 1/10\n",
            "294/294 [==============================] - 4s 12ms/step - loss: 2.3452 - accuracy: 0.3304 - val_loss: 1.8206 - val_accuracy: 0.5979\n",
            "Epoch 2/10\n",
            "294/294 [==============================] - 3s 12ms/step - loss: 0.9441 - accuracy: 0.7049 - val_loss: 0.4331 - val_accuracy: 0.9149\n",
            "Epoch 3/10\n",
            "294/294 [==============================] - 3s 12ms/step - loss: 0.5759 - accuracy: 0.8162 - val_loss: 0.2111 - val_accuracy: 0.9516\n",
            "Epoch 4/10\n",
            "294/294 [==============================] - 4s 13ms/step - loss: 0.4027 - accuracy: 0.8695 - val_loss: 0.1528 - val_accuracy: 0.9634\n",
            "Epoch 5/10\n",
            "294/294 [==============================] - 3s 12ms/step - loss: 0.3224 - accuracy: 0.8956 - val_loss: 0.1149 - val_accuracy: 0.9717\n",
            "Epoch 6/10\n",
            "294/294 [==============================] - 4s 13ms/step - loss: 0.2680 - accuracy: 0.9132 - val_loss: 0.0949 - val_accuracy: 0.9738\n",
            "Epoch 7/10\n",
            "294/294 [==============================] - 4s 13ms/step - loss: 0.2276 - accuracy: 0.9273 - val_loss: 0.0798 - val_accuracy: 0.9776\n",
            "Epoch 8/10\n",
            "294/294 [==============================] - 4s 13ms/step - loss: 0.1885 - accuracy: 0.9382 - val_loss: 0.0673 - val_accuracy: 0.9809\n",
            "Epoch 9/10\n",
            "294/294 [==============================] - 3s 11ms/step - loss: 0.1793 - accuracy: 0.9409 - val_loss: 0.0655 - val_accuracy: 0.9845\n",
            "Epoch 10/10\n",
            "294/294 [==============================] - 4s 12ms/step - loss: 0.1601 - accuracy: 0.9479 - val_loss: 0.0540 - val_accuracy: 0.9853\n",
            "-----[ 4 ]-----{'filters': 16, '_padding': 'same', '_kernel_size': (3, 3), '_strides': (3, 3), '_pool_size': (4, 4)}\n",
            "Epoch 1/10\n",
            "294/294 [==============================] - 4s 12ms/step - loss: 3.3092 - accuracy: 0.1010 - val_loss: 2.9124 - val_accuracy: 0.1720\n",
            "Epoch 2/10\n",
            "294/294 [==============================] - 3s 11ms/step - loss: 2.6065 - accuracy: 0.2302 - val_loss: 2.2511 - val_accuracy: 0.3710\n",
            "Epoch 3/10\n",
            "294/294 [==============================] - 4s 12ms/step - loss: 2.2044 - accuracy: 0.3325 - val_loss: 1.8089 - val_accuracy: 0.4613\n",
            "Epoch 4/10\n",
            "294/294 [==============================] - 3s 11ms/step - loss: 1.9644 - accuracy: 0.3941 - val_loss: 1.6098 - val_accuracy: 0.5145\n",
            "Epoch 5/10\n",
            "294/294 [==============================] - 3s 12ms/step - loss: 1.8099 - accuracy: 0.4387 - val_loss: 1.4836 - val_accuracy: 0.5511\n",
            "Epoch 6/10\n",
            "294/294 [==============================] - 3s 11ms/step - loss: 1.6892 - accuracy: 0.4732 - val_loss: 1.3628 - val_accuracy: 0.5800\n",
            "Epoch 7/10\n",
            "294/294 [==============================] - 3s 10ms/step - loss: 1.5870 - accuracy: 0.5029 - val_loss: 1.2815 - val_accuracy: 0.6074\n",
            "Epoch 8/10\n",
            "294/294 [==============================] - 3s 11ms/step - loss: 1.5110 - accuracy: 0.5230 - val_loss: 1.2163 - val_accuracy: 0.6262\n",
            "Epoch 9/10\n",
            "294/294 [==============================] - 3s 11ms/step - loss: 1.4369 - accuracy: 0.5479 - val_loss: 1.1674 - val_accuracy: 0.6341\n",
            "Epoch 10/10\n",
            "294/294 [==============================] - 3s 12ms/step - loss: 1.3953 - accuracy: 0.5563 - val_loss: 1.0930 - val_accuracy: 0.6656\n",
            "-----[ 5 ]-----{'filters': 16, '_padding': 'valid', '_kernel_size': (5, 5), '_strides': (3, 3), '_pool_size': (4, 4)}\n",
            "Epoch 1/10\n",
            "294/294 [==============================] - 4s 11ms/step - loss: 3.4166 - accuracy: 0.1135 - val_loss: 3.0492 - val_accuracy: 0.1477\n",
            "Epoch 2/10\n",
            "294/294 [==============================] - 3s 11ms/step - loss: 2.4665 - accuracy: 0.2671 - val_loss: 2.0418 - val_accuracy: 0.4503\n",
            "Epoch 3/10\n",
            "294/294 [==============================] - 3s 11ms/step - loss: 1.9790 - accuracy: 0.3910 - val_loss: 1.4750 - val_accuracy: 0.5688\n",
            "Epoch 4/10\n",
            "294/294 [==============================] - 3s 11ms/step - loss: 1.6668 - accuracy: 0.4794 - val_loss: 1.2225 - val_accuracy: 0.6197\n",
            "Epoch 5/10\n",
            "294/294 [==============================] - 4s 13ms/step - loss: 1.4497 - accuracy: 0.5429 - val_loss: 1.0123 - val_accuracy: 0.6962\n",
            "Epoch 6/10\n",
            "294/294 [==============================] - 3s 12ms/step - loss: 1.2948 - accuracy: 0.5896 - val_loss: 0.8739 - val_accuracy: 0.7405\n",
            "Epoch 7/10\n",
            "294/294 [==============================] - 3s 11ms/step - loss: 1.1793 - accuracy: 0.6261 - val_loss: 0.7800 - val_accuracy: 0.7723\n",
            "Epoch 8/10\n",
            "294/294 [==============================] - 3s 11ms/step - loss: 1.0717 - accuracy: 0.6548 - val_loss: 0.7054 - val_accuracy: 0.7945\n",
            "Epoch 9/10\n",
            "294/294 [==============================] - 3s 11ms/step - loss: 0.9896 - accuracy: 0.6824 - val_loss: 0.6506 - val_accuracy: 0.8073\n",
            "Epoch 10/10\n",
            "294/294 [==============================] - 3s 11ms/step - loss: 0.9328 - accuracy: 0.6972 - val_loss: 0.5896 - val_accuracy: 0.8323\n",
            "-----[ 6 ]-----{'filters': 128, '_padding': 'same', '_kernel_size': (3, 3), '_strides': (1, 1), '_pool_size': (2, 2)}\n",
            "Epoch 1/10\n",
            "294/294 [==============================] - 139s 470ms/step - loss: 2.3592 - accuracy: 0.3441 - val_loss: 2.8048 - val_accuracy: 0.1728\n",
            "Epoch 2/10\n",
            "294/294 [==============================] - 139s 474ms/step - loss: 0.5462 - accuracy: 0.8213 - val_loss: 0.2315 - val_accuracy: 0.9359\n",
            "Epoch 3/10\n",
            "294/294 [==============================] - 140s 477ms/step - loss: 0.2050 - accuracy: 0.9358 - val_loss: 0.0442 - val_accuracy: 0.9900\n",
            "Epoch 4/10\n",
            "294/294 [==============================] - 139s 473ms/step - loss: 0.1103 - accuracy: 0.9656 - val_loss: 0.0242 - val_accuracy: 0.9941\n",
            "Epoch 5/10\n",
            "294/294 [==============================] - 140s 477ms/step - loss: 0.0753 - accuracy: 0.9772 - val_loss: 0.0184 - val_accuracy: 0.9943\n",
            "Epoch 6/10\n",
            "294/294 [==============================] - 142s 482ms/step - loss: 0.0564 - accuracy: 0.9824 - val_loss: 0.0135 - val_accuracy: 0.9971\n",
            "Epoch 7/10\n",
            "294/294 [==============================] - 142s 483ms/step - loss: 0.0461 - accuracy: 0.9859 - val_loss: 0.0172 - val_accuracy: 0.9945\n",
            "Epoch 8/10\n",
            "294/294 [==============================] - 150s 510ms/step - loss: 0.0422 - accuracy: 0.9864 - val_loss: 0.0220 - val_accuracy: 0.9923\n",
            "Epoch 9/10\n",
            "294/294 [==============================] - 143s 488ms/step - loss: 0.0307 - accuracy: 0.9905 - val_loss: 0.0090 - val_accuracy: 0.9963\n",
            "Epoch 10/10\n",
            "294/294 [==============================] - 144s 488ms/step - loss: 0.0275 - accuracy: 0.9910 - val_loss: 0.0121 - val_accuracy: 0.9963\n"
          ]
        }
      ]
    },
    {
      "cell_type": "code",
      "source": [
        "from datetime import datetime\n",
        "\n",
        "# datetime object containing current date and time\n",
        "now = datetime.now()\n",
        " \n",
        "print(\"now =\", now)\n",
        "\n",
        "# dd/mm/YY H:M:S\n",
        "dt_string = now.strftime(\"%Y%d%m%H%M%S\")\n",
        "print(\"date and time =\", dt_string)\n",
        "\n",
        "import pickle\n",
        "# save\n",
        "with open(f'results_{dt_string}.pickle', 'wb') as f:\n",
        "    pickle.dump(results, f, pickle.HIGHEST_PROTOCOL)"
      ],
      "metadata": {
        "colab": {
          "base_uri": "https://localhost:8080/"
        },
        "id": "9TTq4ChAI015",
        "outputId": "ec4bd3a9-91c4-4283-aeab-e04386eed38b"
      },
      "execution_count": 16,
      "outputs": [
        {
          "output_type": "stream",
          "name": "stdout",
          "text": [
            "now = 2022-05-22 06:10:00.542251\n",
            "date and time = 20222205061000\n",
            "INFO:tensorflow:Assets written to: ram://5f5978d9-f31c-494b-9993-9957de989d4c/assets\n",
            "INFO:tensorflow:Assets written to: ram://b974713c-208b-4ade-ac36-cc23cba57e07/assets\n",
            "INFO:tensorflow:Assets written to: ram://68bd79e6-dfb7-421b-a6e2-45236fe31b58/assets\n",
            "INFO:tensorflow:Assets written to: ram://ca19397d-bec2-4bae-b4ca-0cde13eae228/assets\n",
            "INFO:tensorflow:Assets written to: ram://58bdb640-69de-4ab6-92f5-d802b11093fe/assets\n",
            "INFO:tensorflow:Assets written to: ram://236ecc7d-9e90-485c-ac67-e95b5551ce05/assets\n",
            "INFO:tensorflow:Assets written to: ram://ada23fd4-20ca-497b-b7a4-4b56ed24b693/assets\n"
          ]
        }
      ]
    },
    {
      "cell_type": "markdown",
      "source": [
        "###describe model"
      ],
      "metadata": {
        "id": "hzrF4A-v5tQR"
      }
    },
    {
      "cell_type": "code",
      "source": [
        "model = results[0][0]"
      ],
      "metadata": {
        "id": "k2C41njJ50HN"
      },
      "execution_count": 17,
      "outputs": []
    },
    {
      "cell_type": "code",
      "source": [
        "tf.keras.utils.plot_model(model, show_shapes=True, show_dtype=True, expand_nested=True, show_layer_activations=True) #layer_range=?, "
      ],
      "metadata": {
        "colab": {
          "base_uri": "https://localhost:8080/",
          "height": 1000
        },
        "id": "u2i7I3_354Lg",
        "outputId": "337320db-9dd5-4fee-bf89-f15101e96dd6"
      },
      "execution_count": 18,
      "outputs": [
        {
          "output_type": "execute_result",
          "data": {
            "text/plain": [
              "<IPython.core.display.Image object>"
            ],
            "image/png": "[encoded data removed]"
          },
          "metadata": {},
          "execution_count": 18
        }
      ]
    },
    {
      "cell_type": "markdown",
      "source": [
        "###drawing history model"
      ],
      "metadata": {
        "id": "ZmJw88aRF63i"
      }
    },
    {
      "cell_type": "code",
      "source": [
        "history = results[0][1]"
      ],
      "metadata": {
        "id": "mzlMqaVi3YD4"
      },
      "execution_count": 19,
      "outputs": []
    },
    {
      "cell_type": "code",
      "source": [
        "history.history.keys(), history.params.keys()"
      ],
      "metadata": {
        "colab": {
          "base_uri": "https://localhost:8080/"
        },
        "id": "jHt3GTIwfMKB",
        "outputId": "9b82ae1d-0e10-40ff-9847-e511424d33e4"
      },
      "execution_count": 20,
      "outputs": [
        {
          "output_type": "execute_result",
          "data": {
            "text/plain": [
              "(dict_keys(['loss', 'accuracy', 'val_loss', 'val_accuracy']),\n",
              " dict_keys(['verbose', 'epochs', 'steps']))"
            ]
          },
          "metadata": {},
          "execution_count": 20
        }
      ]
    },
    {
      "cell_type": "code",
      "source": [
        "history.history['accuracy'][-1]"
      ],
      "metadata": {
        "colab": {
          "base_uri": "https://localhost:8080/"
        },
        "id": "9sZZevuaHq1r",
        "outputId": "3e688404-ff37-4807-9fd3-1491c310ac33"
      },
      "execution_count": 21,
      "outputs": [
        {
          "output_type": "execute_result",
          "data": {
            "text/plain": [
              "0.9775257110595703"
            ]
          },
          "metadata": {},
          "execution_count": 21
        }
      ]
    },
    {
      "cell_type": "code",
      "source": [
        "acc = history.history['accuracy']\n",
        "val_acc = history.history['val_accuracy']\n",
        "\n",
        "loss = history.history['loss']\n",
        "val_loss = history.history['val_loss']\n",
        "\n",
        "epochs_range = range(_epochs)\n",
        "# acc, list(epochs_range)"
      ],
      "metadata": {
        "id": "m4jMOV3EF--3"
      },
      "execution_count": 22,
      "outputs": []
    },
    {
      "cell_type": "code",
      "source": [
        "import matplotlib.pyplot as plt\n",
        "\n",
        "plt.figure(figsize=(20, 6))\n",
        "plt.subplot(1, 2, 1)\n",
        "plt.plot(epochs_range, acc, label='Training Accuracy')\n",
        "plt.plot(epochs_range, val_acc, label='Validation Accuracy')\n",
        "plt.legend(loc='lower right')\n",
        "plt.title('Training and Validation Accuracy')\n",
        "\n",
        "plt.subplot(1, 2, 2)\n",
        "plt.plot(epochs_range, loss, label='Training Loss')\n",
        "plt.plot(epochs_range, val_loss, label='Validation Loss')\n",
        "plt.legend(loc='upper right')\n",
        "plt.title('Training and Validation Loss')\n",
        "plt.show()\n"
      ],
      "metadata": {
        "colab": {
          "base_uri": "https://localhost:8080/",
          "height": 390
        },
        "id": "bg1qb-PPGASa",
        "outputId": "121cb93e-639b-45c5-a26d-ffd0f243ea5d"
      },
      "execution_count": 23,
      "outputs": [
        {
          "output_type": "display_data",
          "data": {
            "text/plain": [
              "<Figure size 1440x432 with 2 Axes>"
            ],
            "image/png": "[encoded data removed]"
          },
          "metadata": {
            "needs_background": "light"
          }
        }
      ]
    },
    {
      "cell_type": "markdown",
      "source": [
        "### evaluate"
      ],
      "metadata": {
        "id": "d2a4pCYdEwI7"
      }
    },
    {
      "cell_type": "code",
      "source": [
        "model = results[0][0]"
      ],
      "metadata": {
        "id": "g8eamLPW32sF"
      },
      "execution_count": 24,
      "outputs": []
    },
    {
      "cell_type": "code",
      "execution_count": 25,
      "metadata": {
        "id": "2q82yN8mmKIE",
        "colab": {
          "base_uri": "https://localhost:8080/"
        },
        "outputId": "e4c85a23-367a-4a10-9e08-0ee67f4fc889"
      },
      "outputs": [
        {
          "output_type": "stream",
          "name": "stdout",
          "text": [
            "80/80 [==============================] - 1s 16ms/step - loss: 0.0039 - accuracy: 0.9988\n"
          ]
        },
        {
          "output_type": "execute_result",
          "data": {
            "text/plain": [
              "[0.003857767442241311, 0.9988203048706055]"
            ]
          },
          "metadata": {},
          "execution_count": 25
        }
      ],
      "source": [
        "model.evaluate(validation_dataset)"
      ]
    },
    {
      "cell_type": "code",
      "source": [
        "predict_val = model.predict(validation_dataset).argmax(axis=1)\n",
        "predict_val.shape, validation_label.shape"
      ],
      "metadata": {
        "colab": {
          "base_uri": "https://localhost:8080/"
        },
        "id": "f5h1v6O7FtAa",
        "outputId": "4699ccf5-1836-4f6f-e2cf-4948520bbb4a"
      },
      "execution_count": 26,
      "outputs": [
        {
          "output_type": "execute_result",
          "data": {
            "text/plain": [
              "((5086,), (5086,))"
            ]
          },
          "metadata": {},
          "execution_count": 26
        }
      ]
    },
    {
      "cell_type": "code",
      "source": [
        "predict_val[40:46], validation_label[40:46]"
      ],
      "metadata": {
        "colab": {
          "base_uri": "https://localhost:8080/"
        },
        "id": "ODj0dMrzQcHM",
        "outputId": "2b0f06f0-0ea3-46fd-f2eb-7287a633ab32"
      },
      "execution_count": 27,
      "outputs": [
        {
          "output_type": "execute_result",
          "data": {
            "text/plain": [
              "(array([10,  0,  7, 10, 29,  7]), 40    10.0\n",
              " 41     0.0\n",
              " 42     7.0\n",
              " 43    10.0\n",
              " 44    29.0\n",
              " 45     7.0\n",
              " Name: 0, dtype: float32)"
            ]
          },
          "metadata": {},
          "execution_count": 27
        }
      ]
    },
    {
      "cell_type": "code",
      "source": [
        "from sklearn.metrics import classification_report, confusion_matrix"
      ],
      "metadata": {
        "id": "_4fAZ2iqRRVD"
      },
      "execution_count": 28,
      "outputs": []
    },
    {
      "cell_type": "code",
      "source": [
        "# import seaborn as sns\n",
        "# sns.heatmap(confusion_matrix(validation_label, predict_val), annot=True)"
      ],
      "metadata": {
        "id": "OxmgzrBjbZRq"
      },
      "execution_count": 29,
      "outputs": []
    },
    {
      "cell_type": "code",
      "source": [
        "#Accuracy of the predicted values\n",
        "print(classification_report(validation_label, predict_val)) "
      ],
      "metadata": {
        "colab": {
          "base_uri": "https://localhost:8080/"
        },
        "id": "02KqSWUObjDO",
        "outputId": "4819008a-ba18-48f2-da0c-7a51652dff64"
      },
      "execution_count": 30,
      "outputs": [
        {
          "output_type": "stream",
          "name": "stdout",
          "text": [
            "              precision    recall  f1-score   support\n",
            "\n",
            "         0.0       1.00      1.00      1.00       201\n",
            "         1.0       1.00      1.00      1.00       201\n",
            "         2.0       1.00      1.00      1.00       182\n",
            "         3.0       1.00      1.00      1.00       140\n",
            "         4.0       1.00      1.00      1.00       193\n",
            "         5.0       1.00      0.99      1.00       198\n",
            "         6.0       1.00      1.00      1.00       103\n",
            "         7.0       1.00      1.00      1.00       207\n",
            "         8.0       1.00      0.99      0.99       199\n",
            "         9.0       0.99      1.00      1.00       151\n",
            "        10.0       1.00      1.00      1.00       190\n",
            "        11.0       1.00      1.00      1.00       182\n",
            "        12.0       1.00      1.00      1.00       165\n",
            "        13.0       1.00      1.00      1.00       196\n",
            "        14.0       1.00      1.00      1.00       170\n",
            "        15.0       1.00      1.00      1.00       142\n",
            "        16.0       0.99      1.00      1.00       188\n",
            "        17.0       1.00      1.00      1.00       182\n",
            "        18.0       0.99      1.00      1.00       191\n",
            "        19.0       0.99      1.00      1.00       109\n",
            "        20.0       0.99      1.00      1.00       174\n",
            "        21.0       1.00      1.00      1.00       164\n",
            "        22.0       1.00      1.00      1.00       147\n",
            "        23.0       1.00      1.00      1.00       158\n",
            "        24.0       1.00      0.99      1.00       134\n",
            "        25.0       1.00      1.00      1.00       103\n",
            "        26.0       1.00      1.00      1.00       172\n",
            "        27.0       1.00      1.00      1.00       208\n",
            "        28.0       1.00      1.00      1.00       137\n",
            "        29.0       1.00      1.00      1.00       199\n",
            "\n",
            "    accuracy                           1.00      5086\n",
            "   macro avg       1.00      1.00      1.00      5086\n",
            "weighted avg       1.00      1.00      1.00      5086\n",
            "\n"
          ]
        }
      ]
    }
  ]
}