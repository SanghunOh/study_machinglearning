{
  "nbformat": 4,
  "nbformat_minor": 0,
  "metadata": {
    "colab": {
      "name": "Term_2_CNN_MPIE.ipynb",
      "provenance": [],
      "collapsed_sections": [],
      "mount_file_id": "https://github.com/SanghunOh/study_machinglearning/blob/main/codes/sanghunoh/reports/Term_2_CNN_MPIE.ipynb",
      "authorship_tag": "ABX9TyP1D1gIg0qQO5Eceik8FU48",
      "include_colab_link": true
    },
    "kernelspec": {
      "name": "python3",
      "display_name": "Python 3"
    },
    "language_info": {
      "name": "python"
    }
  },
  "cells": [
    {
      "cell_type": "markdown",
      "metadata": {
        "id": "view-in-github",
        "colab_type": "text"
      },
      "source": [
        "<a href=\"https://colab.research.google.com/github/SanghunOh/study_machinglearning/blob/main/codes/sanghunoh/reports/Term_2_CNN_MPIE.ipynb\" target=\"_parent\"><img src=\"https://colab.research.google.com/assets/colab-badge.svg\" alt=\"Open In Colab\"/></a>"
      ]
    },
    {
      "cell_type": "markdown",
      "source": [
        "##Connect Drive"
      ],
      "metadata": {
        "id": "brb_gNSQ-Tyg"
      }
    },
    {
      "cell_type": "code",
      "execution_count": 1,
      "metadata": {
        "colab": {
          "base_uri": "https://localhost:8080/"
        },
        "id": "2zl8YlT9398C",
        "outputId": "efe2d6b4-87ed-4fd3-a10a-c0fe3a842786"
      },
      "outputs": [
        {
          "output_type": "stream",
          "name": "stdout",
          "text": [
            "/content/drive/.shortcut-targets-by-id/1tHYgEz3lQF-LmtFPXRgMBDh4UN54qeAs/datas\n"
          ]
        }
      ],
      "source": [
        "path_root = '/content/drive/MyDrive/datas/'\n",
        "\n",
        "# 작업 경로 설정\n",
        "import os\n",
        "os.chdir(path_root)\n",
        "!pwd"
      ]
    },
    {
      "cell_type": "code",
      "source": [
        "# !unzip -o ./mpie_30_shuffle.zip -d ./mpie_30_shuffle"
      ],
      "metadata": {
        "id": "q_zK6dD69lx7"
      },
      "execution_count": 2,
      "outputs": []
    },
    {
      "cell_type": "code",
      "source": [
        "!ls"
      ],
      "metadata": {
        "colab": {
          "base_uri": "https://localhost:8080/"
        },
        "id": "mXG7KRQz-Nax",
        "outputId": "79825118-d924-4c1c-d9f8-e22d0ae5274f"
      },
      "execution_count": 3,
      "outputs": [
        {
          "output_type": "stream",
          "name": "stdout",
          "text": [
            "dataCh4_7.mat\t\thistory_5.png\t\t model.png\n",
            "dataCh4_7.zip\t\thistory_6.png\t\t mpie_30_shuffle\n",
            "digitimages_binary.zip\thistory_None.png\t mpie_30_shuffle.zip\n",
            "history_0.png\t\tiris_shuffle.mat\t number_images\n",
            "history_1.png\t\tiris.zip\t\t results_20222205052715.pickle\n",
            "history_2.png\t\tmatlab_iris_shuffle.mat  results_20222205135214.pickle\n",
            "history_3.png\t\tmodel_0.png\t\t results.pickle\n",
            "history_4.png\t\tmodel_None.png\n"
          ]
        }
      ]
    },
    {
      "cell_type": "markdown",
      "source": [
        "###Load Dataset"
      ],
      "metadata": {
        "id": "qLUE0VPqLewv"
      }
    },
    {
      "cell_type": "code",
      "source": [
        "path = path_root + 'mpie_30_shuffle/'\n",
        "\n",
        "def loadDatasetFromCSV(_datafilename, _labelfilename, label_column):\n",
        "  _train_feature_csv = pd.read_csv(path + _datafilename, dtype=np.float32, header=None) # image features of train data\n",
        "  _train_feature_flatten = _train_feature_csv.values.flatten()\n",
        "  _train_feature_reshape = np.reshape(_train_feature_flatten, (_train_feature_csv.shape[0], 32,-1))\n",
        "\n",
        "  _train_label_csv = pd.read_csv(path + _labelfilename, dtype=np.float32, header=None) # labels of train data\n",
        "  _train_label = _train_label_csv[label_column] # get label you want\n",
        "\n",
        "  return _train_feature_reshape, _train_label"
      ],
      "metadata": {
        "id": "wzRrppGEyLWD"
      },
      "execution_count": 4,
      "outputs": []
    },
    {
      "cell_type": "code",
      "source": [
        "import pandas as pd\n",
        "import numpy as np\n",
        "\n",
        "# train\n",
        "train_feature_reshape, train_label = loadDatasetFromCSV('Traindata.csv', 'Trainlabel.csv', 0)\n",
        "# test\n",
        "validation_feature_reshape, validation_label = loadDatasetFromCSV('Testdata.csv', 'Testlabel.csv', 0)\n",
        "\n",
        "train_feature_reshape.shape, train_label.shape, validation_feature_reshape.shape, validation_label.shape"
      ],
      "metadata": {
        "id": "bLAz9qj1LwGC",
        "colab": {
          "base_uri": "https://localhost:8080/"
        },
        "outputId": "7d862f5c-41eb-4c50-f84b-ccdb6753c1db"
      },
      "execution_count": 5,
      "outputs": [
        {
          "output_type": "execute_result",
          "data": {
            "text/plain": [
              "((18777, 32, 32), (18777,), (5086, 32, 32), (5086,))"
            ]
          },
          "metadata": {},
          "execution_count": 5
        }
      ]
    },
    {
      "cell_type": "code",
      "execution_count": 6,
      "metadata": {
        "id": "GjUDklviz51u"
      },
      "outputs": [],
      "source": [
        "import tensorflow as tf\n",
        "\n",
        "def preprocessDataset(features_reshape, labels, batch_size=64, shuffle_buffer_size=100):\n",
        "  _batch_size = batch_size\n",
        "  _shuffle_buffer_size = shuffle_buffer_size\n",
        "\n",
        "  _features = features_reshape\n",
        "  _labels = labels\n",
        "  _dataset_tensors = tf.data.Dataset.from_tensor_slices((_features, _labels))\n",
        "\n",
        "  if _shuffle_buffer_size == None:\n",
        "    _dataset_tensors = _dataset_tensors.batch(_batch_size)\n",
        "  else :\n",
        "    _dataset_tensors = _dataset_tensors.shuffle(_shuffle_buffer_size).batch(_batch_size)\n",
        "\n",
        "  return _dataset_tensors"
      ]
    },
    {
      "cell_type": "code",
      "source": [
        "train_dataset = preprocessDataset(train_feature_reshape, train_label)"
      ],
      "metadata": {
        "id": "b0iSCMgGOjCp"
      },
      "execution_count": 7,
      "outputs": []
    },
    {
      "cell_type": "code",
      "source": [
        "# train_dataset?"
      ],
      "metadata": {
        "id": "7CJbD5hHSYCU"
      },
      "execution_count": 8,
      "outputs": []
    },
    {
      "cell_type": "code",
      "source": [
        "validation_dataset = preprocessDataset(validation_feature_reshape, validation_label, shuffle_buffer_size=None)"
      ],
      "metadata": {
        "id": "zrUhEcp4PEk0"
      },
      "execution_count": 9,
      "outputs": []
    },
    {
      "cell_type": "markdown",
      "source": [
        "###Deep CNN with BatchNormalization"
      ],
      "metadata": {
        "id": "Ibx9ZbXzwthu"
      }
    },
    {
      "cell_type": "code",
      "source": [
        "filters = 32\n",
        "_filters = filters\n",
        "_min_filters = 16\n",
        "_hidden_layers = int(_filters / _min_filters)\n",
        "for layer in range(_hidden_layers):\n",
        "  print(f'decrease : {_filters}')\n",
        "  _filters = int(_filters/2)\n",
        "  if _filters < _min_filters:\n",
        "    break\n",
        "\n",
        "for layer in range(_hidden_layers):\n",
        "  _filters = int(_filters*2)\n",
        "  if _filters > filters:\n",
        "    break\n",
        "  print(f'increase : {_filters}')\n"
      ],
      "metadata": {
        "colab": {
          "base_uri": "https://localhost:8080/"
        },
        "id": "h6RjrIKspMHq",
        "outputId": "cdd4a2ae-036a-400f-ef71-193df641cf4e"
      },
      "execution_count": 10,
      "outputs": [
        {
          "output_type": "stream",
          "name": "stdout",
          "text": [
            "decrease : 32\n",
            "decrease : 16\n",
            "increase : 16\n",
            "increase : 32\n"
          ]
        }
      ]
    },
    {
      "cell_type": "code",
      "source": [
        "from tensorflow.keras import layers\n",
        "\n",
        "category_count = train_label.unique().shape[0]\n",
        "def make_cnn(filters=16, _padding='same', _kernel_initializer='he_normal', _activation='relu', _kernel_size = (3,3), _strides = (1,1), BatchNormal=True, _pool_size = (2,2)):\n",
        "    model = tf.keras.Sequential()\n",
        "\n",
        "    _filters = filters\n",
        "    _min_filters = 16\n",
        "    _hidden_layers = int(_filters / _min_filters)\n",
        "\n",
        "    for layer in range(_hidden_layers):\n",
        "      model.add(layers.Conv2D(input_shape = (32, 32, 1), filters = _filters, kernel_size = _kernel_size, strides = _strides, padding = _padding, kernel_initializer=_kernel_initializer))\n",
        "      model.add(layers.Activation(_activation))\n",
        "      if BatchNormal:\n",
        "        model.add(layers.BatchNormalization())\n",
        "      model.add(layers.MaxPooling2D(pool_size = _pool_size))\n",
        "\n",
        "      _filters = int(_filters/2)\n",
        "      if _filters < _min_filters:\n",
        "        break\n",
        "\n",
        "    # ?전 Layer에서 filter size 작아져 실행 않됨\n",
        "    # for layer in range(_hidden_layers):\n",
        "    #   _filters = int(_filters*2)\n",
        "    #   if _filters > filters:\n",
        "    #     break\n",
        "    #   model.add(layers.Conv2D(input_shape = (32, 32, 1), filters = _filters, kernel_size = _kernel_size, strides = _strides, padding = _padding, kernel_initializer=_kernel_initializer))\n",
        "    #   model.add(layers.Activation(_activation))\n",
        "    #   if BatchNormal:\n",
        "    #     model.add(layers.BatchNormalization())\n",
        "    #   model.add(layers.MaxPooling2D(pool_size = _pool_size))\n",
        "\n",
        "    # prior layer should be flattend to be connected to dense layers\n",
        "    model.add(layers.Flatten())\n",
        "    # dense layer with 50 neurons\n",
        "    model.add(layers.Dense(128, activation = _activation, kernel_initializer=_kernel_initializer))\n",
        "    model.add(layers.Dropout(0.5))\n",
        "    # final layer with 10 neurons to classify the instances\n",
        "    model.add(layers.Dense(category_count, activation = 'softmax', kernel_initializer=_kernel_initializer))\n",
        "\n",
        "    # adam = optimizers.Adam(lr = 0.001)\n",
        "    model.compile(loss = 'sparse_categorical_crossentropy', optimizer = 'adam', metrics = ['accuracy'])\n",
        "\n",
        "    return model"
      ],
      "metadata": {
        "id": "2OdDqPX6UWZr"
      },
      "execution_count": 11,
      "outputs": []
    },
    {
      "cell_type": "code",
      "source": [
        "len(list(train_dataset)) / 128"
      ],
      "metadata": {
        "colab": {
          "base_uri": "https://localhost:8080/"
        },
        "id": "jhkqYUVkKBtq",
        "outputId": "e8a463c0-bd61-40bf-a485-4e8900ff2423"
      },
      "execution_count": 12,
      "outputs": [
        {
          "output_type": "execute_result",
          "data": {
            "text/plain": [
              "2.296875"
            ]
          },
          "metadata": {},
          "execution_count": 12
        }
      ]
    },
    {
      "cell_type": "markdown",
      "source": [
        "###callback function for fit time"
      ],
      "metadata": {
        "id": "69PhSLjqmI8M"
      }
    },
    {
      "cell_type": "code",
      "source": [
        "import time\n",
        "\n",
        "class TimeHistory(tf.keras.callbacks.Callback):\n",
        "    def on_train_begin(self, logs={}):\n",
        "        self.times = []\n",
        "\n",
        "    def on_epoch_begin(self, epoch, logs={}):\n",
        "        self.epoch_time_start = time.time()\n",
        "\n",
        "    def on_epoch_end(self, epoch, logs={}):\n",
        "        self.times.append(time.time() - self.epoch_time_start)\n",
        "time_callback = TimeHistory()"
      ],
      "metadata": {
        "id": "-r_M426PmP5P"
      },
      "execution_count": 13,
      "outputs": []
    },
    {
      "cell_type": "markdown",
      "source": [
        "### fit model"
      ],
      "metadata": {
        "id": "1E1Fdq6pnRAe"
      }
    },
    {
      "cell_type": "code",
      "source": [
        "_epochs = 10\n",
        "# _batch_size = int(len(list(train_dataset)) / (len(list(train_dataset))/2))   # Just Check Model params quickly\n",
        "_batch_size = len(list(train_dataset))\n",
        "\n",
        "def model_fit(_param):\n",
        "  tf.keras.backend.clear_session()\n",
        "\n",
        "  model = make_cnn(**_param)\n",
        "  history = model.fit(train_dataset, epochs=_epochs, validation_data=validation_dataset, callbacks=[time_callback], steps_per_epoch=_batch_size)\n",
        "  execution_time = sum(time_callback.times)\n",
        "  return model, history, execution_time, _param"
      ],
      "metadata": {
        "id": "QYn7Q8f311Bi"
      },
      "execution_count": 14,
      "outputs": []
    },
    {
      "cell_type": "markdown",
      "source": [
        "### fit with multi params\n",
        "filters : larger than 16"
      ],
      "metadata": {
        "id": "6NzJoF7tx9Jv"
      }
    },
    {
      "cell_type": "code",
      "source": [
        "params = [\n",
        "          {'filters':16 , '_padding':'same', '_kernel_size': (3,3), '_strides': (1,1), '_pool_size': (2,2)},\n",
        "          {'filters':16 , '_padding':'valid', '_kernel_size': (3,3), '_strides': (1,1), '_pool_size': (2,2)},\n",
        "          {'filters':16 , '_padding':'same', '_kernel_size': (5,5), '_strides': (1,1), '_pool_size': (2,2)},\n",
        "          {'filters':16 , '_padding':'same', '_kernel_size': (3,3), '_strides': (3,3), '_pool_size': (2,2)},\n",
        "          {'filters':16 , '_padding':'same', '_kernel_size': (3,3), '_strides': (3,3), '_pool_size': (4,4)},\n",
        "          {'filters':16 , '_padding':'valid', '_kernel_size': (5,5), '_strides': (3,3), '_pool_size': (4,4)},\n",
        "          {'filters':128 , '_padding':'same', '_kernel_size': (3,3), '_strides': (1,1), '_pool_size': (2,2)},\n",
        "          # Error dimenstion {'filters':128 , '_padding':'valid', '_kernel_size': (3,3), '_strides': (1,1), '_pool_size': (2,2)},\n",
        "          ]\n",
        "results = list()          \n",
        "for idx, param in enumerate(params):\n",
        "  print('-'*5 +'[ '+ str(idx) + ' ]'+ '-'*5 + str(param))\n",
        "  results.append(model_fit(param))\n"
      ],
      "metadata": {
        "colab": {
          "base_uri": "https://localhost:8080/"
        },
        "id": "i1Tnuhc2x5eH",
        "outputId": "9acc454f-fd62-455f-a9cb-96dc60561e26"
      },
      "execution_count": 15,
      "outputs": [
        {
          "output_type": "stream",
          "name": "stdout",
          "text": [
            "-----[ 0 ]-----{'filters': 16, '_padding': 'same', '_kernel_size': (3, 3), '_strides': (1, 1), '_pool_size': (2, 2)}\n",
            "Epoch 1/10\n",
            "294/294 [==============================] - 23s 76ms/step - loss: 1.4042 - accuracy: 0.5900 - val_loss: 0.9063 - val_accuracy: 0.9194\n",
            "Epoch 2/10\n",
            "294/294 [==============================] - 14s 47ms/step - loss: 0.3005 - accuracy: 0.9014 - val_loss: 0.0435 - val_accuracy: 0.9939\n",
            "Epoch 3/10\n",
            "294/294 [==============================] - 14s 47ms/step - loss: 0.1725 - accuracy: 0.9435 - val_loss: 0.0187 - val_accuracy: 0.9961\n",
            "Epoch 4/10\n",
            "294/294 [==============================] - 14s 47ms/step - loss: 0.1256 - accuracy: 0.9574 - val_loss: 0.0109 - val_accuracy: 0.9976\n",
            "Epoch 5/10\n",
            "294/294 [==============================] - 14s 47ms/step - loss: 0.0972 - accuracy: 0.9677 - val_loss: 0.0076 - val_accuracy: 0.9976\n",
            "Epoch 6/10\n",
            "294/294 [==============================] - 15s 51ms/step - loss: 0.0816 - accuracy: 0.9734 - val_loss: 0.0094 - val_accuracy: 0.9972\n",
            "Epoch 7/10\n",
            "294/294 [==============================] - 14s 47ms/step - loss: 0.0707 - accuracy: 0.9761 - val_loss: 0.0092 - val_accuracy: 0.9980\n",
            "Epoch 8/10\n",
            "294/294 [==============================] - 14s 47ms/step - loss: 0.0717 - accuracy: 0.9762 - val_loss: 0.0074 - val_accuracy: 0.9984\n",
            "Epoch 9/10\n",
            "294/294 [==============================] - 14s 48ms/step - loss: 0.0679 - accuracy: 0.9771 - val_loss: 0.0119 - val_accuracy: 0.9969\n",
            "Epoch 10/10\n",
            "294/294 [==============================] - 14s 47ms/step - loss: 0.0671 - accuracy: 0.9779 - val_loss: 0.0087 - val_accuracy: 0.9974\n",
            "-----[ 1 ]-----{'filters': 16, '_padding': 'valid', '_kernel_size': (3, 3), '_strides': (1, 1), '_pool_size': (2, 2)}\n",
            "Epoch 1/10\n",
            "294/294 [==============================] - 13s 41ms/step - loss: 0.8335 - accuracy: 0.7608 - val_loss: 0.7381 - val_accuracy: 0.9611\n",
            "Epoch 2/10\n",
            "294/294 [==============================] - 12s 41ms/step - loss: 0.1169 - accuracy: 0.9628 - val_loss: 0.0246 - val_accuracy: 0.9976\n",
            "Epoch 3/10\n",
            "294/294 [==============================] - 12s 41ms/step - loss: 0.0750 - accuracy: 0.9774 - val_loss: 0.0071 - val_accuracy: 0.9986\n",
            "Epoch 4/10\n",
            "294/294 [==============================] - 12s 41ms/step - loss: 0.0500 - accuracy: 0.9848 - val_loss: 0.0065 - val_accuracy: 0.9986\n",
            "Epoch 5/10\n",
            "294/294 [==============================] - 12s 41ms/step - loss: 0.0437 - accuracy: 0.9855 - val_loss: 0.0050 - val_accuracy: 0.9990\n",
            "Epoch 6/10\n",
            "294/294 [==============================] - 12s 41ms/step - loss: 0.0394 - accuracy: 0.9859 - val_loss: 0.0047 - val_accuracy: 0.9982\n",
            "Epoch 7/10\n",
            "294/294 [==============================] - 12s 41ms/step - loss: 0.0376 - accuracy: 0.9875 - val_loss: 0.0038 - val_accuracy: 0.9988\n",
            "Epoch 8/10\n",
            "294/294 [==============================] - 12s 42ms/step - loss: 0.0384 - accuracy: 0.9870 - val_loss: 0.0060 - val_accuracy: 0.9988\n",
            "Epoch 9/10\n",
            "294/294 [==============================] - 12s 41ms/step - loss: 0.0452 - accuracy: 0.9856 - val_loss: 0.0037 - val_accuracy: 0.9988\n",
            "Epoch 10/10\n",
            "294/294 [==============================] - 12s 41ms/step - loss: 0.0342 - accuracy: 0.9892 - val_loss: 0.0069 - val_accuracy: 0.9976\n",
            "-----[ 2 ]-----{'filters': 16, '_padding': 'same', '_kernel_size': (5, 5), '_strides': (1, 1), '_pool_size': (2, 2)}\n",
            "Epoch 1/10\n",
            "294/294 [==============================] - 18s 61ms/step - loss: 1.7753 - accuracy: 0.4741 - val_loss: 0.8063 - val_accuracy: 0.9369\n",
            "Epoch 2/10\n",
            "294/294 [==============================] - 18s 61ms/step - loss: 0.5214 - accuracy: 0.8279 - val_loss: 0.0768 - val_accuracy: 0.9880\n",
            "Epoch 3/10\n",
            "294/294 [==============================] - 18s 61ms/step - loss: 0.2896 - accuracy: 0.9047 - val_loss: 0.0255 - val_accuracy: 0.9947\n",
            "Epoch 4/10\n",
            "294/294 [==============================] - 18s 61ms/step - loss: 0.1909 - accuracy: 0.9350 - val_loss: 0.0150 - val_accuracy: 0.9959\n",
            "Epoch 5/10\n",
            "294/294 [==============================] - 18s 60ms/step - loss: 0.1554 - accuracy: 0.9466 - val_loss: 0.0132 - val_accuracy: 0.9961\n",
            "Epoch 6/10\n",
            "294/294 [==============================] - 18s 60ms/step - loss: 0.1398 - accuracy: 0.9530 - val_loss: 0.0102 - val_accuracy: 0.9967\n",
            "Epoch 7/10\n",
            "294/294 [==============================] - 18s 61ms/step - loss: 0.1186 - accuracy: 0.9588 - val_loss: 0.0097 - val_accuracy: 0.9974\n",
            "Epoch 8/10\n",
            "294/294 [==============================] - 18s 61ms/step - loss: 0.1132 - accuracy: 0.9605 - val_loss: 0.0096 - val_accuracy: 0.9972\n",
            "Epoch 9/10\n",
            "294/294 [==============================] - 18s 61ms/step - loss: 0.0988 - accuracy: 0.9668 - val_loss: 0.0178 - val_accuracy: 0.9943\n",
            "Epoch 10/10\n",
            "294/294 [==============================] - 18s 61ms/step - loss: 0.0914 - accuracy: 0.9674 - val_loss: 0.0144 - val_accuracy: 0.9963\n",
            "-----[ 3 ]-----{'filters': 16, '_padding': 'same', '_kernel_size': (3, 3), '_strides': (3, 3), '_pool_size': (2, 2)}\n",
            "Epoch 1/10\n",
            "294/294 [==============================] - 4s 10ms/step - loss: 2.3687 - accuracy: 0.3227 - val_loss: 1.6881 - val_accuracy: 0.6858\n",
            "Epoch 2/10\n",
            "294/294 [==============================] - 3s 10ms/step - loss: 0.9909 - accuracy: 0.6951 - val_loss: 0.4425 - val_accuracy: 0.9072\n",
            "Epoch 3/10\n",
            "294/294 [==============================] - 3s 10ms/step - loss: 0.5833 - accuracy: 0.8158 - val_loss: 0.2360 - val_accuracy: 0.9385\n",
            "Epoch 4/10\n",
            "294/294 [==============================] - 3s 10ms/step - loss: 0.4193 - accuracy: 0.8698 - val_loss: 0.1606 - val_accuracy: 0.9601\n",
            "Epoch 5/10\n",
            "294/294 [==============================] - 3s 10ms/step - loss: 0.3337 - accuracy: 0.8927 - val_loss: 0.1419 - val_accuracy: 0.9605\n",
            "Epoch 6/10\n",
            "294/294 [==============================] - 3s 10ms/step - loss: 0.2737 - accuracy: 0.9123 - val_loss: 0.1105 - val_accuracy: 0.9697\n",
            "Epoch 7/10\n",
            "294/294 [==============================] - 3s 10ms/step - loss: 0.2403 - accuracy: 0.9207 - val_loss: 0.0926 - val_accuracy: 0.9746\n",
            "Epoch 8/10\n",
            "294/294 [==============================] - 3s 10ms/step - loss: 0.2116 - accuracy: 0.9310 - val_loss: 0.0825 - val_accuracy: 0.9768\n",
            "Epoch 9/10\n",
            "294/294 [==============================] - 3s 10ms/step - loss: 0.1968 - accuracy: 0.9341 - val_loss: 0.0716 - val_accuracy: 0.9801\n",
            "Epoch 10/10\n",
            "294/294 [==============================] - 3s 10ms/step - loss: 0.1704 - accuracy: 0.9452 - val_loss: 0.0655 - val_accuracy: 0.9813\n",
            "-----[ 4 ]-----{'filters': 16, '_padding': 'same', '_kernel_size': (3, 3), '_strides': (3, 3), '_pool_size': (4, 4)}\n",
            "Epoch 1/10\n",
            "294/294 [==============================] - 3s 9ms/step - loss: 3.4063 - accuracy: 0.0979 - val_loss: 3.0838 - val_accuracy: 0.1400\n",
            "Epoch 2/10\n",
            "294/294 [==============================] - 3s 9ms/step - loss: 2.5561 - accuracy: 0.2503 - val_loss: 2.1446 - val_accuracy: 0.4330\n",
            "Epoch 3/10\n",
            "294/294 [==============================] - 3s 9ms/step - loss: 2.0430 - accuracy: 0.3809 - val_loss: 1.5647 - val_accuracy: 0.5617\n",
            "Epoch 4/10\n",
            "294/294 [==============================] - 3s 9ms/step - loss: 1.7484 - accuracy: 0.4624 - val_loss: 1.3462 - val_accuracy: 0.6125\n",
            "Epoch 5/10\n",
            "294/294 [==============================] - 3s 9ms/step - loss: 1.5734 - accuracy: 0.5160 - val_loss: 1.2005 - val_accuracy: 0.6541\n",
            "Epoch 6/10\n",
            "294/294 [==============================] - 3s 9ms/step - loss: 1.4549 - accuracy: 0.5432 - val_loss: 1.1117 - val_accuracy: 0.6750\n",
            "Epoch 7/10\n",
            "294/294 [==============================] - 3s 9ms/step - loss: 1.3664 - accuracy: 0.5691 - val_loss: 1.0399 - val_accuracy: 0.6972\n",
            "Epoch 8/10\n",
            "294/294 [==============================] - 3s 9ms/step - loss: 1.2936 - accuracy: 0.5930 - val_loss: 0.9736 - val_accuracy: 0.7129\n",
            "Epoch 9/10\n",
            "294/294 [==============================] - 3s 9ms/step - loss: 1.2299 - accuracy: 0.6105 - val_loss: 0.9368 - val_accuracy: 0.7249\n",
            "Epoch 10/10\n",
            "294/294 [==============================] - 3s 9ms/step - loss: 1.1827 - accuracy: 0.6305 - val_loss: 0.8860 - val_accuracy: 0.7373\n",
            "-----[ 5 ]-----{'filters': 16, '_padding': 'valid', '_kernel_size': (5, 5), '_strides': (3, 3), '_pool_size': (4, 4)}\n",
            "Epoch 1/10\n",
            "294/294 [==============================] - 3s 10ms/step - loss: 3.3813 - accuracy: 0.0896 - val_loss: 3.0865 - val_accuracy: 0.1054\n",
            "Epoch 2/10\n",
            "294/294 [==============================] - 3s 10ms/step - loss: 2.5776 - accuracy: 0.2357 - val_loss: 2.2557 - val_accuracy: 0.3679\n",
            "Epoch 3/10\n",
            "294/294 [==============================] - 3s 10ms/step - loss: 2.0252 - accuracy: 0.3726 - val_loss: 1.5919 - val_accuracy: 0.5216\n",
            "Epoch 4/10\n",
            "294/294 [==============================] - 3s 10ms/step - loss: 1.6847 - accuracy: 0.4691 - val_loss: 1.2596 - val_accuracy: 0.6288\n",
            "Epoch 5/10\n",
            "294/294 [==============================] - 3s 10ms/step - loss: 1.4702 - accuracy: 0.5306 - val_loss: 1.0932 - val_accuracy: 0.6773\n",
            "Epoch 6/10\n",
            "294/294 [==============================] - 3s 9ms/step - loss: 1.3346 - accuracy: 0.5730 - val_loss: 0.9659 - val_accuracy: 0.7173\n",
            "Epoch 7/10\n",
            "294/294 [==============================] - 3s 9ms/step - loss: 1.1986 - accuracy: 0.6126 - val_loss: 0.8528 - val_accuracy: 0.7403\n",
            "Epoch 8/10\n",
            "294/294 [==============================] - 3s 9ms/step - loss: 1.1063 - accuracy: 0.6396 - val_loss: 0.7863 - val_accuracy: 0.7625\n",
            "Epoch 9/10\n",
            "294/294 [==============================] - 3s 9ms/step - loss: 1.0311 - accuracy: 0.6707 - val_loss: 0.7375 - val_accuracy: 0.7676\n",
            "Epoch 10/10\n",
            "294/294 [==============================] - 3s 9ms/step - loss: 0.9788 - accuracy: 0.6803 - val_loss: 0.6940 - val_accuracy: 0.7820\n",
            "-----[ 6 ]-----{'filters': 128, '_padding': 'same', '_kernel_size': (3, 3), '_strides': (1, 1), '_pool_size': (2, 2)}\n",
            "Epoch 1/10\n",
            "294/294 [==============================] - 128s 431ms/step - loss: 2.4223 - accuracy: 0.3210 - val_loss: 2.6213 - val_accuracy: 0.1982\n",
            "Epoch 2/10\n",
            "294/294 [==============================] - 127s 433ms/step - loss: 0.6029 - accuracy: 0.8070 - val_loss: 0.2244 - val_accuracy: 0.9408\n",
            "Epoch 3/10\n",
            "294/294 [==============================] - 127s 432ms/step - loss: 0.2131 - accuracy: 0.9306 - val_loss: 0.0501 - val_accuracy: 0.9866\n",
            "Epoch 4/10\n",
            "294/294 [==============================] - 127s 432ms/step - loss: 0.1284 - accuracy: 0.9585 - val_loss: 0.0218 - val_accuracy: 0.9943\n",
            "Epoch 5/10\n",
            "294/294 [==============================] - 127s 433ms/step - loss: 0.0828 - accuracy: 0.9732 - val_loss: 0.0397 - val_accuracy: 0.9876\n",
            "Epoch 6/10\n",
            "294/294 [==============================] - 127s 433ms/step - loss: 0.0606 - accuracy: 0.9816 - val_loss: 0.0131 - val_accuracy: 0.9967\n",
            "Epoch 7/10\n",
            "294/294 [==============================] - 127s 434ms/step - loss: 0.0512 - accuracy: 0.9836 - val_loss: 0.0419 - val_accuracy: 0.9862\n",
            "Epoch 8/10\n",
            "294/294 [==============================] - 127s 433ms/step - loss: 0.0499 - accuracy: 0.9837 - val_loss: 0.0142 - val_accuracy: 0.9943\n",
            "Epoch 9/10\n",
            "294/294 [==============================] - 128s 435ms/step - loss: 0.0315 - accuracy: 0.9895 - val_loss: 0.0240 - val_accuracy: 0.9929\n",
            "Epoch 10/10\n",
            "294/294 [==============================] - 127s 433ms/step - loss: 0.0284 - accuracy: 0.9908 - val_loss: 0.0106 - val_accuracy: 0.9965\n"
          ]
        }
      ]
    },
    {
      "cell_type": "code",
      "source": [
        "from datetime import datetime\n",
        "\n",
        "# datetime object containing current date and time\n",
        "now = datetime.now()\n",
        " \n",
        "print(\"now =\", now)\n",
        "\n",
        "# dd/mm/YY H:M:S\n",
        "dt_string = now.strftime(\"%Y%d%m%H%M%S\")\n",
        "print(\"date and time =\", dt_string)\n",
        "\n",
        "import pickle\n",
        "# save\n",
        "with open(f'results_{dt_string}.pickle', 'wb') as f:\n",
        "    pickle.dump(results, f, pickle.HIGHEST_PROTOCOL)"
      ],
      "metadata": {
        "colab": {
          "base_uri": "https://localhost:8080/"
        },
        "id": "9TTq4ChAI015",
        "outputId": "a580b02b-d229-4469-c074-442bc08431fe"
      },
      "execution_count": 16,
      "outputs": [
        {
          "output_type": "stream",
          "name": "stdout",
          "text": [
            "now = 2022-05-22 14:42:06.027637\n",
            "date and time = 20222205144206\n",
            "INFO:tensorflow:Assets written to: ram://ee4c18ca-7a55-4788-83dd-c75257362967/assets\n",
            "INFO:tensorflow:Assets written to: ram://fe2059bd-ca5d-4581-8b0d-67cf0c9cad43/assets\n",
            "INFO:tensorflow:Assets written to: ram://f51cd23e-0d29-474b-adee-4e908602b7f5/assets\n",
            "INFO:tensorflow:Assets written to: ram://a3be0b05-fd6a-4dd3-a8f1-c0491d505345/assets\n",
            "INFO:tensorflow:Assets written to: ram://6b1d766e-8cd3-475b-b260-04498bb58a68/assets\n",
            "INFO:tensorflow:Assets written to: ram://2d0a6ba9-d605-41f4-a635-d4263ede7c36/assets\n",
            "INFO:tensorflow:Assets written to: ram://ec9c53ca-1bb9-4bd6-8aea-1896851a2ada/assets\n"
          ]
        }
      ]
    },
    {
      "cell_type": "markdown",
      "source": [
        "###describe model"
      ],
      "metadata": {
        "id": "hzrF4A-v5tQR"
      }
    },
    {
      "cell_type": "code",
      "source": [
        "choose_index = 5\n",
        "model = results[choose_index][0]"
      ],
      "metadata": {
        "id": "k2C41njJ50HN"
      },
      "execution_count": 17,
      "outputs": []
    },
    {
      "cell_type": "code",
      "source": [
        "tf.keras.utils.plot_model(model, show_shapes=True, show_dtype=True, expand_nested=True, show_layer_activations=True) #layer_range=?, "
      ],
      "metadata": {
        "colab": {
          "base_uri": "https://localhost:8080/",
          "height": 1000
        },
        "id": "u2i7I3_354Lg",
        "outputId": "40e46bd5-578d-4ec7-d495-50150f0049ab"
      },
      "execution_count": 18,
      "outputs": [
        {
          "output_type": "execute_result",
          "data": {
            "text/plain": [
              "<IPython.core.display.Image object>"
            ],
            "image/png": "[encoded data removed]"
          },
          "metadata": {},
          "execution_count": 18
        }
      ]
    },
    {
      "cell_type": "markdown",
      "source": [
        "###drawing history model"
      ],
      "metadata": {
        "id": "ZmJw88aRF63i"
      }
    },
    {
      "cell_type": "code",
      "source": [
        "history = results[choose_index][1]"
      ],
      "metadata": {
        "id": "mzlMqaVi3YD4"
      },
      "execution_count": 19,
      "outputs": []
    },
    {
      "cell_type": "code",
      "source": [
        "history.history.keys(), history.params.keys()"
      ],
      "metadata": {
        "colab": {
          "base_uri": "https://localhost:8080/"
        },
        "id": "jHt3GTIwfMKB",
        "outputId": "4a9e996c-1f6a-428c-be28-7e44e61c2caf"
      },
      "execution_count": 20,
      "outputs": [
        {
          "output_type": "execute_result",
          "data": {
            "text/plain": [
              "(dict_keys(['loss', 'accuracy', 'val_loss', 'val_accuracy']),\n",
              " dict_keys(['verbose', 'epochs', 'steps']))"
            ]
          },
          "metadata": {},
          "execution_count": 20
        }
      ]
    },
    {
      "cell_type": "code",
      "source": [
        "history.history['accuracy'][-1]"
      ],
      "metadata": {
        "colab": {
          "base_uri": "https://localhost:8080/"
        },
        "id": "9sZZevuaHq1r",
        "outputId": "6ce0199d-710e-4ead-ff2d-d3f4dc7bab5f"
      },
      "execution_count": 21,
      "outputs": [
        {
          "output_type": "execute_result",
          "data": {
            "text/plain": [
              "0.6803003549575806"
            ]
          },
          "metadata": {},
          "execution_count": 21
        }
      ]
    },
    {
      "cell_type": "code",
      "source": [
        "acc = history.history['accuracy']\n",
        "val_acc = history.history['val_accuracy']\n",
        "\n",
        "loss = history.history['loss']\n",
        "val_loss = history.history['val_loss']\n",
        "\n",
        "epochs_range = range(_epochs)\n",
        "# acc, list(epochs_range)"
      ],
      "metadata": {
        "id": "m4jMOV3EF--3"
      },
      "execution_count": 22,
      "outputs": []
    },
    {
      "cell_type": "code",
      "source": [
        "import matplotlib.pyplot as plt\n",
        "\n",
        "plt.figure(figsize=(20, 6))\n",
        "plt.subplot(1, 2, 1)\n",
        "plt.plot(epochs_range, acc, label='Training Accuracy')\n",
        "plt.plot(epochs_range, val_acc, label='Validation Accuracy')\n",
        "plt.legend(loc='lower right')\n",
        "plt.title('Training and Validation Accuracy')\n",
        "\n",
        "plt.subplot(1, 2, 2)\n",
        "plt.plot(epochs_range, loss, label='Training Loss')\n",
        "plt.plot(epochs_range, val_loss, label='Validation Loss')\n",
        "plt.legend(loc='upper right')\n",
        "plt.title('Training and Validation Loss')\n",
        "plt.show()\n"
      ],
      "metadata": {
        "colab": {
          "base_uri": "https://localhost:8080/",
          "height": 390
        },
        "id": "bg1qb-PPGASa",
        "outputId": "aea4d580-f44f-4c2f-c152-4112f5839a9e"
      },
      "execution_count": 23,
      "outputs": [
        {
          "output_type": "display_data",
          "data": {
            "text/plain": [
              "<Figure size 1440x432 with 2 Axes>"
            ],
            "image/png": "[encoded data removed]"
          },
          "metadata": {
            "needs_background": "light"
          }
        }
      ]
    },
    {
      "cell_type": "markdown",
      "source": [
        "### evaluate"
      ],
      "metadata": {
        "id": "d2a4pCYdEwI7"
      }
    },
    {
      "cell_type": "code",
      "source": [
        "model = results[choose_index][0]"
      ],
      "metadata": {
        "id": "g8eamLPW32sF"
      },
      "execution_count": 24,
      "outputs": []
    },
    {
      "cell_type": "code",
      "execution_count": 25,
      "metadata": {
        "id": "2q82yN8mmKIE",
        "colab": {
          "base_uri": "https://localhost:8080/"
        },
        "outputId": "d22164f7-a2fa-4a35-8766-203292ffdced"
      },
      "outputs": [
        {
          "output_type": "stream",
          "name": "stdout",
          "text": [
            "80/80 [==============================] - 0s 4ms/step - loss: 0.6940 - accuracy: 0.7820\n"
          ]
        },
        {
          "output_type": "execute_result",
          "data": {
            "text/plain": [
              "[0.6940137147903442, 0.7819504737854004]"
            ]
          },
          "metadata": {},
          "execution_count": 25
        }
      ],
      "source": [
        "model.evaluate(validation_dataset)"
      ]
    },
    {
      "cell_type": "code",
      "source": [
        "predict_val = model.predict(validation_dataset).argmax(axis=1)\n",
        "predict_val.shape, validation_label.shape"
      ],
      "metadata": {
        "colab": {
          "base_uri": "https://localhost:8080/"
        },
        "id": "f5h1v6O7FtAa",
        "outputId": "ef2c9e4e-596c-4c48-956f-a6956524dc99"
      },
      "execution_count": 26,
      "outputs": [
        {
          "output_type": "execute_result",
          "data": {
            "text/plain": [
              "((5086,), (5086,))"
            ]
          },
          "metadata": {},
          "execution_count": 26
        }
      ]
    },
    {
      "cell_type": "code",
      "source": [
        "predict_val[40:46], validation_label[40:46]"
      ],
      "metadata": {
        "colab": {
          "base_uri": "https://localhost:8080/"
        },
        "id": "ODj0dMrzQcHM",
        "outputId": "5445f9cd-35ab-4504-dba6-74902f999843"
      },
      "execution_count": 27,
      "outputs": [
        {
          "output_type": "execute_result",
          "data": {
            "text/plain": [
              "(array([14,  0,  7, 10, 29,  7]), 40    10.0\n",
              " 41     0.0\n",
              " 42     7.0\n",
              " 43    10.0\n",
              " 44    29.0\n",
              " 45     7.0\n",
              " Name: 0, dtype: float32)"
            ]
          },
          "metadata": {},
          "execution_count": 27
        }
      ]
    },
    {
      "cell_type": "code",
      "source": [
        "from sklearn.metrics import classification_report, confusion_matrix"
      ],
      "metadata": {
        "id": "_4fAZ2iqRRVD"
      },
      "execution_count": 28,
      "outputs": []
    },
    {
      "cell_type": "code",
      "source": [
        "# import seaborn as sns\n",
        "# sns.heatmap(confusion_matrix(validation_label, predict_val), annot=True)"
      ],
      "metadata": {
        "id": "OxmgzrBjbZRq"
      },
      "execution_count": 29,
      "outputs": []
    },
    {
      "cell_type": "code",
      "source": [
        "#Accuracy of the predicted values\n",
        "print(classification_report(validation_label, predict_val)) "
      ],
      "metadata": {
        "colab": {
          "base_uri": "https://localhost:8080/"
        },
        "id": "02KqSWUObjDO",
        "outputId": "113b5669-34df-40e2-cac3-ec241ec67c93"
      },
      "execution_count": 30,
      "outputs": [
        {
          "output_type": "stream",
          "name": "stdout",
          "text": [
            "              precision    recall  f1-score   support\n",
            "\n",
            "         0.0       0.73      0.74      0.74       201\n",
            "         1.0       0.79      0.96      0.87       201\n",
            "         2.0       0.89      0.57      0.70       182\n",
            "         3.0       0.75      0.82      0.78       140\n",
            "         4.0       0.87      0.87      0.87       193\n",
            "         5.0       0.73      0.77      0.75       198\n",
            "         6.0       0.85      0.89      0.87       103\n",
            "         7.0       0.70      0.86      0.77       207\n",
            "         8.0       0.72      0.83      0.77       199\n",
            "         9.0       0.83      0.89      0.86       151\n",
            "        10.0       0.76      0.72      0.74       190\n",
            "        11.0       0.82      0.84      0.83       182\n",
            "        12.0       0.73      0.60      0.66       165\n",
            "        13.0       0.78      0.86      0.82       196\n",
            "        14.0       0.62      0.88      0.73       170\n",
            "        15.0       0.86      0.81      0.83       142\n",
            "        16.0       0.65      0.64      0.65       188\n",
            "        17.0       0.77      0.61      0.68       182\n",
            "        18.0       0.83      0.85      0.84       191\n",
            "        19.0       0.77      0.81      0.79       109\n",
            "        20.0       0.75      0.86      0.80       174\n",
            "        21.0       0.86      0.82      0.84       164\n",
            "        22.0       0.85      0.83      0.84       147\n",
            "        23.0       0.89      0.59      0.71       158\n",
            "        24.0       0.84      0.92      0.88       134\n",
            "        25.0       0.83      0.94      0.88       103\n",
            "        26.0       0.85      0.83      0.84       172\n",
            "        27.0       0.79      0.51      0.62       208\n",
            "        28.0       0.81      0.69      0.74       137\n",
            "        29.0       0.83      0.81      0.82       199\n",
            "\n",
            "    accuracy                           0.78      5086\n",
            "   macro avg       0.79      0.79      0.78      5086\n",
            "weighted avg       0.79      0.78      0.78      5086\n",
            "\n"
          ]
        }
      ]
    },
    {
      "cell_type": "code",
      "source": [
        "import pandas as pd\n",
        "# import warnings\n",
        "# warnings.filterwarnings('always')\n",
        "\n",
        "report = classification_report(validation_label, predict_val, output_dict=True)\n",
        "\n",
        "pd.DataFrame(report).transpose()"
      ],
      "metadata": {
        "id": "bten4DNqEZyt",
        "outputId": "67f76c54-f50e-47b4-f646-e699b00d3358",
        "colab": {
          "base_uri": "https://localhost:8080/",
          "height": 1000
        }
      },
      "execution_count": 31,
      "outputs": [
        {
          "output_type": "execute_result",
          "data": {
            "text/plain": [
              "              precision    recall  f1-score     support\n",
              "0.0            0.733990  0.741294  0.737624   201.00000\n",
              "1.0            0.790984  0.960199  0.867416   201.00000\n",
              "2.0            0.888889  0.571429  0.695652   182.00000\n",
              "3.0            0.746753  0.821429  0.782313   140.00000\n",
              "4.0            0.869792  0.865285  0.867532   193.00000\n",
              "5.0            0.728571  0.772727  0.750000   198.00000\n",
              "6.0            0.851852  0.893204  0.872038   103.00000\n",
              "7.0            0.696850  0.855072  0.767896   207.00000\n",
              "8.0            0.723684  0.829146  0.772834   199.00000\n",
              "9.0            0.828221  0.894040  0.859873   151.00000\n",
              "10.0           0.759777  0.715789  0.737127   190.00000\n",
              "11.0           0.817204  0.835165  0.826087   182.00000\n",
              "12.0           0.733333  0.600000  0.660000   165.00000\n",
              "13.0           0.775229  0.862245  0.816425   196.00000\n",
              "14.0           0.619835  0.882353  0.728155   170.00000\n",
              "15.0           0.858209  0.809859  0.833333   142.00000\n",
              "16.0           0.654054  0.643617  0.648794   188.00000\n",
              "17.0           0.770833  0.609890  0.680982   182.00000\n",
              "18.0           0.831633  0.853403  0.842377   191.00000\n",
              "19.0           0.771930  0.807339  0.789238   109.00000\n",
              "20.0           0.750000  0.862069  0.802139   174.00000\n",
              "21.0           0.858974  0.817073  0.837500   164.00000\n",
              "22.0           0.847222  0.829932  0.838488   147.00000\n",
              "23.0           0.885714  0.588608  0.707224   158.00000\n",
              "24.0           0.842466  0.917910  0.878571   134.00000\n",
              "25.0           0.829060  0.941748  0.881818   103.00000\n",
              "26.0           0.850299  0.825581  0.837758   172.00000\n",
              "27.0           0.792593  0.514423  0.623907   208.00000\n",
              "28.0           0.810345  0.686131  0.743083   137.00000\n",
              "29.0           0.829897  0.809045  0.819338   199.00000\n",
              "accuracy       0.781950  0.781950  0.781950     0.78195\n",
              "macro avg      0.791606  0.787200  0.783517  5086.00000\n",
              "weighted avg   0.787841  0.781950  0.778717  5086.00000"
            ],
            "text/html": [
              "\n",
              "  <div id=\"df-c9835569-0bfc-4653-8acf-5a66a239e805\">\n",
              "    <div class=\"colab-df-container\">\n",
              "      <div>\n",
              "<style scoped>\n",
              "    .dataframe tbody tr th:only-of-type {\n",
              "        vertical-align: middle;\n",
              "    }\n",
              "\n",
              "    .dataframe tbody tr th {\n",
              "        vertical-align: top;\n",
              "    }\n",
              "\n",
              "    .dataframe thead th {\n",
              "        text-align: right;\n",
              "    }\n",
              "</style>\n",
              "<table border=\"1\" class=\"dataframe\">\n",
              "  <thead>\n",
              "    <tr style=\"text-align: right;\">\n",
              "      <th></th>\n",
              "      <th>precision</th>\n",
              "      <th>recall</th>\n",
              "      <th>f1-score</th>\n",
              "      <th>support</th>\n",
              "    </tr>\n",
              "  </thead>\n",
              "  <tbody>\n",
              "    <tr>\n",
              "      <th>0.0</th>\n",
              "      <td>0.733990</td>\n",
              "      <td>0.741294</td>\n",
              "      <td>0.737624</td>\n",
              "      <td>201.00000</td>\n",
              "    </tr>\n",
              "    <tr>\n",
              "      <th>1.0</th>\n",
              "      <td>0.790984</td>\n",
              "      <td>0.960199</td>\n",
              "      <td>0.867416</td>\n",
              "      <td>201.00000</td>\n",
              "    </tr>\n",
              "    <tr>\n",
              "      <th>2.0</th>\n",
              "      <td>0.888889</td>\n",
              "      <td>0.571429</td>\n",
              "      <td>0.695652</td>\n",
              "      <td>182.00000</td>\n",
              "    </tr>\n",
              "    <tr>\n",
              "      <th>3.0</th>\n",
              "      <td>0.746753</td>\n",
              "      <td>0.821429</td>\n",
              "      <td>0.782313</td>\n",
              "      <td>140.00000</td>\n",
              "    </tr>\n",
              "    <tr>\n",
              "      <th>4.0</th>\n",
              "      <td>0.869792</td>\n",
              "      <td>0.865285</td>\n",
              "      <td>0.867532</td>\n",
              "      <td>193.00000</td>\n",
              "    </tr>\n",
              "    <tr>\n",
              "      <th>5.0</th>\n",
              "      <td>0.728571</td>\n",
              "      <td>0.772727</td>\n",
              "      <td>0.750000</td>\n",
              "      <td>198.00000</td>\n",
              "    </tr>\n",
              "    <tr>\n",
              "      <th>6.0</th>\n",
              "      <td>0.851852</td>\n",
              "      <td>0.893204</td>\n",
              "      <td>0.872038</td>\n",
              "      <td>103.00000</td>\n",
              "    </tr>\n",
              "    <tr>\n",
              "      <th>7.0</th>\n",
              "      <td>0.696850</td>\n",
              "      <td>0.855072</td>\n",
              "      <td>0.767896</td>\n",
              "      <td>207.00000</td>\n",
              "    </tr>\n",
              "    <tr>\n",
              "      <th>8.0</th>\n",
              "      <td>0.723684</td>\n",
              "      <td>0.829146</td>\n",
              "      <td>0.772834</td>\n",
              "      <td>199.00000</td>\n",
              "    </tr>\n",
              "    <tr>\n",
              "      <th>9.0</th>\n",
              "      <td>0.828221</td>\n",
              "      <td>0.894040</td>\n",
              "      <td>0.859873</td>\n",
              "      <td>151.00000</td>\n",
              "    </tr>\n",
              "    <tr>\n",
              "      <th>10.0</th>\n",
              "      <td>0.759777</td>\n",
              "      <td>0.715789</td>\n",
              "      <td>0.737127</td>\n",
              "      <td>190.00000</td>\n",
              "    </tr>\n",
              "    <tr>\n",
              "      <th>11.0</th>\n",
              "      <td>0.817204</td>\n",
              "      <td>0.835165</td>\n",
              "      <td>0.826087</td>\n",
              "      <td>182.00000</td>\n",
              "    </tr>\n",
              "    <tr>\n",
              "      <th>12.0</th>\n",
              "      <td>0.733333</td>\n",
              "      <td>0.600000</td>\n",
              "      <td>0.660000</td>\n",
              "      <td>165.00000</td>\n",
              "    </tr>\n",
              "    <tr>\n",
              "      <th>13.0</th>\n",
              "      <td>0.775229</td>\n",
              "      <td>0.862245</td>\n",
              "      <td>0.816425</td>\n",
              "      <td>196.00000</td>\n",
              "    </tr>\n",
              "    <tr>\n",
              "      <th>14.0</th>\n",
              "      <td>0.619835</td>\n",
              "      <td>0.882353</td>\n",
              "      <td>0.728155</td>\n",
              "      <td>170.00000</td>\n",
              "    </tr>\n",
              "    <tr>\n",
              "      <th>15.0</th>\n",
              "      <td>0.858209</td>\n",
              "      <td>0.809859</td>\n",
              "      <td>0.833333</td>\n",
              "      <td>142.00000</td>\n",
              "    </tr>\n",
              "    <tr>\n",
              "      <th>16.0</th>\n",
              "      <td>0.654054</td>\n",
              "      <td>0.643617</td>\n",
              "      <td>0.648794</td>\n",
              "      <td>188.00000</td>\n",
              "    </tr>\n",
              "    <tr>\n",
              "      <th>17.0</th>\n",
              "      <td>0.770833</td>\n",
              "      <td>0.609890</td>\n",
              "      <td>0.680982</td>\n",
              "      <td>182.00000</td>\n",
              "    </tr>\n",
              "    <tr>\n",
              "      <th>18.0</th>\n",
              "      <td>0.831633</td>\n",
              "      <td>0.853403</td>\n",
              "      <td>0.842377</td>\n",
              "      <td>191.00000</td>\n",
              "    </tr>\n",
              "    <tr>\n",
              "      <th>19.0</th>\n",
              "      <td>0.771930</td>\n",
              "      <td>0.807339</td>\n",
              "      <td>0.789238</td>\n",
              "      <td>109.00000</td>\n",
              "    </tr>\n",
              "    <tr>\n",
              "      <th>20.0</th>\n",
              "      <td>0.750000</td>\n",
              "      <td>0.862069</td>\n",
              "      <td>0.802139</td>\n",
              "      <td>174.00000</td>\n",
              "    </tr>\n",
              "    <tr>\n",
              "      <th>21.0</th>\n",
              "      <td>0.858974</td>\n",
              "      <td>0.817073</td>\n",
              "      <td>0.837500</td>\n",
              "      <td>164.00000</td>\n",
              "    </tr>\n",
              "    <tr>\n",
              "      <th>22.0</th>\n",
              "      <td>0.847222</td>\n",
              "      <td>0.829932</td>\n",
              "      <td>0.838488</td>\n",
              "      <td>147.00000</td>\n",
              "    </tr>\n",
              "    <tr>\n",
              "      <th>23.0</th>\n",
              "      <td>0.885714</td>\n",
              "      <td>0.588608</td>\n",
              "      <td>0.707224</td>\n",
              "      <td>158.00000</td>\n",
              "    </tr>\n",
              "    <tr>\n",
              "      <th>24.0</th>\n",
              "      <td>0.842466</td>\n",
              "      <td>0.917910</td>\n",
              "      <td>0.878571</td>\n",
              "      <td>134.00000</td>\n",
              "    </tr>\n",
              "    <tr>\n",
              "      <th>25.0</th>\n",
              "      <td>0.829060</td>\n",
              "      <td>0.941748</td>\n",
              "      <td>0.881818</td>\n",
              "      <td>103.00000</td>\n",
              "    </tr>\n",
              "    <tr>\n",
              "      <th>26.0</th>\n",
              "      <td>0.850299</td>\n",
              "      <td>0.825581</td>\n",
              "      <td>0.837758</td>\n",
              "      <td>172.00000</td>\n",
              "    </tr>\n",
              "    <tr>\n",
              "      <th>27.0</th>\n",
              "      <td>0.792593</td>\n",
              "      <td>0.514423</td>\n",
              "      <td>0.623907</td>\n",
              "      <td>208.00000</td>\n",
              "    </tr>\n",
              "    <tr>\n",
              "      <th>28.0</th>\n",
              "      <td>0.810345</td>\n",
              "      <td>0.686131</td>\n",
              "      <td>0.743083</td>\n",
              "      <td>137.00000</td>\n",
              "    </tr>\n",
              "    <tr>\n",
              "      <th>29.0</th>\n",
              "      <td>0.829897</td>\n",
              "      <td>0.809045</td>\n",
              "      <td>0.819338</td>\n",
              "      <td>199.00000</td>\n",
              "    </tr>\n",
              "    <tr>\n",
              "      <th>accuracy</th>\n",
              "      <td>0.781950</td>\n",
              "      <td>0.781950</td>\n",
              "      <td>0.781950</td>\n",
              "      <td>0.78195</td>\n",
              "    </tr>\n",
              "    <tr>\n",
              "      <th>macro avg</th>\n",
              "      <td>0.791606</td>\n",
              "      <td>0.787200</td>\n",
              "      <td>0.783517</td>\n",
              "      <td>5086.00000</td>\n",
              "    </tr>\n",
              "    <tr>\n",
              "      <th>weighted avg</th>\n",
              "      <td>0.787841</td>\n",
              "      <td>0.781950</td>\n",
              "      <td>0.778717</td>\n",
              "      <td>5086.00000</td>\n",
              "    </tr>\n",
              "  </tbody>\n",
              "</table>\n",
              "</div>\n",
              "      <button class=\"colab-df-convert\" onclick=\"convertToInteractive('df-c9835569-0bfc-4653-8acf-5a66a239e805')\"\n",
              "              title=\"Convert this dataframe to an interactive table.\"\n",
              "              style=\"display:none;\">\n",
              "        \n",
              "  <svg xmlns=\"http://www.w3.org/2000/svg\" height=\"24px\"viewBox=\"0 0 24 24\"\n",
              "       width=\"24px\">\n",
              "    <path d=\"M0 0h24v24H0V0z\" fill=\"none\"/>\n",
              "    <path d=\"M18.56 5.44l.94 2.06.94-2.06 2.06-.94-2.06-.94-.94-2.06-.94 2.06-2.06.94zm-11 1L8.5 8.5l.94-2.06 2.06-.94-2.06-.94L8.5 2.5l-.94 2.06-2.06.94zm10 10l.94 2.06.94-2.06 2.06-.94-2.06-.94-.94-2.06-.94 2.06-2.06.94z\"/><path d=\"M17.41 7.96l-1.37-1.37c-.4-.4-.92-.59-1.43-.59-.52 0-1.04.2-1.43.59L10.3 9.45l-7.72 7.72c-.78.78-.78 2.05 0 2.83L4 21.41c.39.39.9.59 1.41.59.51 0 1.02-.2 1.41-.59l7.78-7.78 2.81-2.81c.8-.78.8-2.07 0-2.86zM5.41 20L4 18.59l7.72-7.72 1.47 1.35L5.41 20z\"/>\n",
              "  </svg>\n",
              "      </button>\n",
              "      \n",
              "  <style>\n",
              "    .colab-df-container {\n",
              "      display:flex;\n",
              "      flex-wrap:wrap;\n",
              "      gap: 12px;\n",
              "    }\n",
              "\n",
              "    .colab-df-convert {\n",
              "      background-color: #E8F0FE;\n",
              "      border: none;\n",
              "      border-radius: 50%;\n",
              "      cursor: pointer;\n",
              "      display: none;\n",
              "      fill: #1967D2;\n",
              "      height: 32px;\n",
              "      padding: 0 0 0 0;\n",
              "      width: 32px;\n",
              "    }\n",
              "\n",
              "    .colab-df-convert:hover {\n",
              "      background-color: #E2EBFA;\n",
              "      box-shadow: 0px 1px 2px rgba(60, 64, 67, 0.3), 0px 1px 3px 1px rgba(60, 64, 67, 0.15);\n",
              "      fill: #174EA6;\n",
              "    }\n",
              "\n",
              "    [theme=dark] .colab-df-convert {\n",
              "      background-color: #3B4455;\n",
              "      fill: #D2E3FC;\n",
              "    }\n",
              "\n",
              "    [theme=dark] .colab-df-convert:hover {\n",
              "      background-color: #434B5C;\n",
              "      box-shadow: 0px 1px 3px 1px rgba(0, 0, 0, 0.15);\n",
              "      filter: drop-shadow(0px 1px 2px rgba(0, 0, 0, 0.3));\n",
              "      fill: #FFFFFF;\n",
              "    }\n",
              "  </style>\n",
              "\n",
              "      <script>\n",
              "        const buttonEl =\n",
              "          document.querySelector('#df-c9835569-0bfc-4653-8acf-5a66a239e805 button.colab-df-convert');\n",
              "        buttonEl.style.display =\n",
              "          google.colab.kernel.accessAllowed ? 'block' : 'none';\n",
              "\n",
              "        async function convertToInteractive(key) {\n",
              "          const element = document.querySelector('#df-c9835569-0bfc-4653-8acf-5a66a239e805');\n",
              "          const dataTable =\n",
              "            await google.colab.kernel.invokeFunction('convertToInteractive',\n",
              "                                                     [key], {});\n",
              "          if (!dataTable) return;\n",
              "\n",
              "          const docLinkHtml = 'Like what you see? Visit the ' +\n",
              "            '<a target=\"_blank\" href=https://colab.research.google.com/notebooks/data_table.ipynb>data table notebook</a>'\n",
              "            + ' to learn more about interactive tables.';\n",
              "          element.innerHTML = '';\n",
              "          dataTable['output_type'] = 'display_data';\n",
              "          await google.colab.output.renderOutput(dataTable, element);\n",
              "          const docLink = document.createElement('div');\n",
              "          docLink.innerHTML = docLinkHtml;\n",
              "          element.appendChild(docLink);\n",
              "        }\n",
              "      </script>\n",
              "    </div>\n",
              "  </div>\n",
              "  "
            ]
          },
          "metadata": {},
          "execution_count": 31
        }
      ]
    },
    {
      "cell_type": "code",
      "source": [
        ""
      ],
      "metadata": {
        "id": "2aRUJeyjEfsS"
      },
      "execution_count": 31,
      "outputs": []
    }
  ]
}