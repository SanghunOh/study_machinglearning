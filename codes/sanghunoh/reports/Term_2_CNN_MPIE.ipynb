{
  "nbformat": 4,
  "nbformat_minor": 0,
  "metadata": {
    "colab": {
      "name": "Term_2_CNN_MPIE.ipynb",
      "provenance": [],
      "collapsed_sections": [],
      "mount_file_id": "https://github.com/SanghunOh/study_machinglearning/blob/main/codes/sanghunoh/reports/Term_2_CNN_MPIE.ipynb",
      "authorship_tag": "ABX9TyP7jkYUOeyNG17SvSp8aj61",
      "include_colab_link": true
    },
    "kernelspec": {
      "name": "python3",
      "display_name": "Python 3"
    },
    "language_info": {
      "name": "python"
    }
  },
  "cells": [
    {
      "cell_type": "markdown",
      "metadata": {
        "id": "view-in-github",
        "colab_type": "text"
      },
      "source": [
        "<a href=\"https://colab.research.google.com/github/SanghunOh/study_machinglearning/blob/main/codes/sanghunoh/reports/Term_2_CNN_MPIE.ipynb\" target=\"_parent\"><img src=\"https://colab.research.google.com/assets/colab-badge.svg\" alt=\"Open In Colab\"/></a>"
      ]
    },
    {
      "cell_type": "markdown",
      "source": [
        "##Connect Drive"
      ],
      "metadata": {
        "id": "brb_gNSQ-Tyg"
      }
    },
    {
      "cell_type": "code",
      "execution_count": 1,
      "metadata": {
        "colab": {
          "base_uri": "https://localhost:8080/"
        },
        "id": "2zl8YlT9398C",
        "outputId": "30311fdd-9b24-4c3d-8387-16c8e9d36454"
      },
      "outputs": [
        {
          "output_type": "stream",
          "name": "stdout",
          "text": [
            "/content/drive/.shortcut-targets-by-id/1tHYgEz3lQF-LmtFPXRgMBDh4UN54qeAs/datas\n"
          ]
        }
      ],
      "source": [
        "path_root = '/content/drive/MyDrive/datas/'\n",
        "\n",
        "# 작업 경로 설정\n",
        "import os\n",
        "os.chdir(path_root)\n",
        "!pwd"
      ]
    },
    {
      "cell_type": "code",
      "source": [
        "# !unzip -o ./mpie_30_shuffle.zip -d ./mpie_30_shuffle"
      ],
      "metadata": {
        "id": "q_zK6dD69lx7"
      },
      "execution_count": 2,
      "outputs": []
    },
    {
      "cell_type": "code",
      "source": [
        "!ls"
      ],
      "metadata": {
        "colab": {
          "base_uri": "https://localhost:8080/"
        },
        "id": "mXG7KRQz-Nax",
        "outputId": "4f50544a-7a52-4c83-87fa-9e7be4efb926"
      },
      "execution_count": 3,
      "outputs": [
        {
          "output_type": "stream",
          "name": "stdout",
          "text": [
            "dataCh4_7.mat\t\tiris_shuffle.mat\t mpie_30_shuffle\n",
            "dataCh4_7.zip\t\tiris.zip\t\t mpie_30_shuffle.zip\n",
            "digitimages_binary.zip\tmatlab_iris_shuffle.mat  number_images\n"
          ]
        }
      ]
    },
    {
      "cell_type": "markdown",
      "source": [
        "###Load Dataset"
      ],
      "metadata": {
        "id": "qLUE0VPqLewv"
      }
    },
    {
      "cell_type": "code",
      "source": [
        "path = path_root + 'mpie_30_shuffle/'\n",
        "\n",
        "def loadDatasetFromCSV(_datafilename, _labelfilename, label_column):\n",
        "  _feature_csv = pd.read_csv(path + _datafilename, dtype=np.float32, header=None) # image features of train data\n",
        "  _feature_flatten = _feature_csv.values.flatten()\n",
        "  _feature_reshape = np.reshape(_feature_flatten, (_feature_csv.shape[0], 32,-1))\n",
        "\n",
        "  _label_csv = pd.read_csv(path + _labelfilename, dtype=np.float32, header=None) # labels of train data\n",
        "  # print(f'_label_csv : {_label_csv.shape}')\n",
        "  _label = _label_csv[label_column] # get label you want\n",
        "\n",
        "  return _feature_reshape, _label"
      ],
      "metadata": {
        "id": "wzRrppGEyLWD"
      },
      "execution_count": 4,
      "outputs": []
    },
    {
      "cell_type": "code",
      "source": [
        "import pandas as pd\n",
        "import numpy as np\n",
        "\n",
        "# train\n",
        "train_feature_reshape, train_label = loadDatasetFromCSV('Traindata.csv', 'Trainlabel.csv', 0)\n",
        "# test\n",
        "validation_feature_reshape, validation_label = loadDatasetFromCSV('Testdata.csv', 'Testlabel.csv', 0)\n",
        "\n",
        "train_feature_reshape.shape, train_label.shape, validation_feature_reshape.shape, validation_label.shape"
      ],
      "metadata": {
        "id": "bLAz9qj1LwGC",
        "colab": {
          "base_uri": "https://localhost:8080/"
        },
        "outputId": "995dd2d6-80a5-406f-8b68-39d0f265b5b5"
      },
      "execution_count": 5,
      "outputs": [
        {
          "output_type": "execute_result",
          "data": {
            "text/plain": [
              "((18777, 32, 32), (18777,), (5086, 32, 32), (5086,))"
            ]
          },
          "metadata": {},
          "execution_count": 5
        }
      ]
    },
    {
      "cell_type": "code",
      "source": [
        "np.unique(train_label)"
      ],
      "metadata": {
        "colab": {
          "base_uri": "https://localhost:8080/"
        },
        "id": "m5ckZH8cYAcL",
        "outputId": "038c224f-6314-4f7f-cfc9-781f77841b6c"
      },
      "execution_count": 6,
      "outputs": [
        {
          "output_type": "execute_result",
          "data": {
            "text/plain": [
              "array([ 0.,  1.,  2.,  3.,  4.,  5.,  6.,  7.,  8.,  9., 10., 11., 12.,\n",
              "       13., 14., 15., 16., 17., 18., 19., 20., 21., 22., 23., 24., 25.,\n",
              "       26., 27., 28., 29.], dtype=float32)"
            ]
          },
          "metadata": {},
          "execution_count": 6
        }
      ]
    },
    {
      "cell_type": "code",
      "execution_count": 7,
      "metadata": {
        "id": "GjUDklviz51u"
      },
      "outputs": [],
      "source": [
        "import tensorflow as tf\n",
        "\n",
        "def preprocessDataset(features_reshape, labels, batch_size=64, shuffle_buffer_size=100):\n",
        "  _batch_size = batch_size\n",
        "  _shuffle_buffer_size = shuffle_buffer_size\n",
        "\n",
        "  _features = features_reshape\n",
        "  _labels = labels\n",
        "  _dataset_tensors = tf.data.Dataset.from_tensor_slices((_features, _labels))\n",
        "\n",
        "  if _shuffle_buffer_size == None:\n",
        "    _dataset_tensors = _dataset_tensors.batch(_batch_size)\n",
        "  else :\n",
        "    _dataset_tensors = _dataset_tensors.shuffle(_shuffle_buffer_size).batch(_batch_size)\n",
        "\n",
        "  return _dataset_tensors"
      ]
    },
    {
      "cell_type": "code",
      "source": [
        "train_dataset = preprocessDataset(train_feature_reshape, train_label)\n",
        "train_dataset"
      ],
      "metadata": {
        "id": "b0iSCMgGOjCp",
        "colab": {
          "base_uri": "https://localhost:8080/"
        },
        "outputId": "c427fcd5-2200-40d3-b72c-cc99a6b02330"
      },
      "execution_count": 8,
      "outputs": [
        {
          "output_type": "execute_result",
          "data": {
            "text/plain": [
              "<BatchDataset element_spec=(TensorSpec(shape=(None, 32, 32), dtype=tf.float32, name=None), TensorSpec(shape=(None,), dtype=tf.float32, name=None))>"
            ]
          },
          "metadata": {},
          "execution_count": 8
        }
      ]
    },
    {
      "cell_type": "code",
      "source": [
        "# train_dataset?"
      ],
      "metadata": {
        "id": "7CJbD5hHSYCU"
      },
      "execution_count": 9,
      "outputs": []
    },
    {
      "cell_type": "code",
      "source": [
        "validation_dataset = preprocessDataset(validation_feature_reshape, validation_label, shuffle_buffer_size=None)\n",
        "validation_dataset"
      ],
      "metadata": {
        "id": "zrUhEcp4PEk0",
        "colab": {
          "base_uri": "https://localhost:8080/"
        },
        "outputId": "0023de32-8568-4f29-9b5d-441f301b58f0"
      },
      "execution_count": 10,
      "outputs": [
        {
          "output_type": "execute_result",
          "data": {
            "text/plain": [
              "<BatchDataset element_spec=(TensorSpec(shape=(None, 32, 32), dtype=tf.float32, name=None), TensorSpec(shape=(None,), dtype=tf.float32, name=None))>"
            ]
          },
          "metadata": {},
          "execution_count": 10
        }
      ]
    },
    {
      "cell_type": "markdown",
      "source": [
        "###Deep CNN with BatchNormalization"
      ],
      "metadata": {
        "id": "Ibx9ZbXzwthu"
      }
    },
    {
      "cell_type": "code",
      "source": [
        "filters = 32\n",
        "_filters = filters\n",
        "_min_filters = 16\n",
        "_hidden_layers = int(_filters / _min_filters)\n",
        "for layer in range(_hidden_layers):\n",
        "  print(f'decrease : {_filters}')\n",
        "  _filters = int(_filters/2)\n",
        "  if _filters < _min_filters:\n",
        "    break\n",
        "\n",
        "for layer in range(_hidden_layers):\n",
        "  _filters = int(_filters*2)\n",
        "  if _filters > filters:\n",
        "    break\n",
        "  print(f'increase : {_filters}')\n"
      ],
      "metadata": {
        "colab": {
          "base_uri": "https://localhost:8080/"
        },
        "id": "h6RjrIKspMHq",
        "outputId": "f23935c3-7ef0-4103-b1e8-607819f4d0cb"
      },
      "execution_count": 11,
      "outputs": [
        {
          "output_type": "stream",
          "name": "stdout",
          "text": [
            "decrease : 32\n",
            "decrease : 16\n",
            "increase : 16\n",
            "increase : 32\n"
          ]
        }
      ]
    },
    {
      "cell_type": "code",
      "source": [
        "from tensorflow.keras import layers\n",
        "\n",
        "category_count = train_label.unique().shape[0]\n",
        "def make_model(_class_cnt, filters=16, _padding='same', _kernel_initializer='he_normal'\n",
        "      , _activation='relu', _optimizer='SGD', _kernel_size = (3,3), _strides = (1,1)\n",
        "      , pool_type='max', batch_normal=True, _pool_size = (2,2), epochs=2, label_class=0):\n",
        "    model = tf.keras.Sequential()\n",
        "\n",
        "    _filters = filters\n",
        "    _min_filters = 16\n",
        "    _hidden_layers = int(_filters / _min_filters)\n",
        "\n",
        "    for layer in range(_hidden_layers):\n",
        "      model.add(layers.Conv2D(input_shape = (32, 32, 1), filters = _filters, kernel_size = _kernel_size\n",
        "                              , strides = _strides, padding = _padding, kernel_initializer=_kernel_initializer))\n",
        "      model.add(layers.Activation(_activation))\n",
        "      if batch_normal:\n",
        "        model.add(layers.BatchNormalization())\n",
        "      if pool_type == 'max':\n",
        "        model.add(layers.MaxPooling2D(pool_size = _pool_size, padding = _padding, strides=_strides))\n",
        "      else :\n",
        "        model.add(layers.AveragePooling2D(pool_size = _pool_size, padding = _padding, strides=_strides))\n",
        "\n",
        "      _filters = int(_filters/2)\n",
        "      if _filters < _min_filters:\n",
        "        break\n",
        "\n",
        "    # ?전 Layer에서 filter size 작아져 실행 않됨\n",
        "    # for layer in range(_hidden_layers):\n",
        "    #   _filters = int(_filters*2)\n",
        "    #   if _filters > filters:\n",
        "    #     break\n",
        "    #   model.add(layers.Conv2D(input_shape = (32, 32, 1), filters = _filters, kernel_size = _kernel_size, strides = _strides, padding = _padding, kernel_initializer=_kernel_initializer))\n",
        "    #   model.add(layers.Activation(_activation))\n",
        "    #   if BatchNormal:\n",
        "    #     model.add(layers.BatchNormalization())\n",
        "    #   model.add(layers.MaxPooling2D(pool_size = _pool_size))\n",
        "\n",
        "    # prior layer should be flattend to be connected to dense layers\n",
        "    model.add(layers.Flatten())\n",
        "    model.add(layers.Dense(128, activation = _activation, kernel_initializer=_kernel_initializer))\n",
        "    model.add(layers.Dropout(0.5))\n",
        "    model.add(layers.Dense(_class_cnt, activation = 'softmax', kernel_initializer=_kernel_initializer))\n",
        "\n",
        "    # adam = optimizers.Adam(lr = 0.001)\n",
        "    model.compile(loss = 'sparse_categorical_crossentropy', optimizer = _optimizer, metrics = ['accuracy'])\n",
        "\n",
        "    return model"
      ],
      "metadata": {
        "id": "2OdDqPX6UWZr"
      },
      "execution_count": 12,
      "outputs": []
    },
    {
      "cell_type": "code",
      "source": [
        "model = make_model(_class_cnt=6, pool_type='max')    \n",
        "# tf.keras.utils.plot_model(model, show_shapes=True, show_dtype=True, expand_nested=True, show_layer_activations=True) #layer_range=?, "
      ],
      "metadata": {
        "id": "jhkqYUVkKBtq"
      },
      "execution_count": 13,
      "outputs": []
    },
    {
      "cell_type": "markdown",
      "source": [
        "###callback function for fit time"
      ],
      "metadata": {
        "id": "69PhSLjqmI8M"
      }
    },
    {
      "cell_type": "code",
      "source": [
        "import time\n",
        "\n",
        "class TimeHistory(tf.keras.callbacks.Callback):\n",
        "    def on_train_begin(self, logs={}):\n",
        "        self.times = []\n",
        "\n",
        "    def on_epoch_begin(self, epoch, logs={}):\n",
        "        self.epoch_time_start = time.time()\n",
        "\n",
        "    def on_epoch_end(self, epoch, logs={}):\n",
        "        self.times.append(time.time() - self.epoch_time_start)\n",
        "TimeHistory()"
      ],
      "metadata": {
        "id": "-r_M426PmP5P",
        "colab": {
          "base_uri": "https://localhost:8080/"
        },
        "outputId": "9739a235-7f1f-480e-99d9-509e8cb26777"
      },
      "execution_count": 14,
      "outputs": [
        {
          "output_type": "execute_result",
          "data": {
            "text/plain": [
              "<__main__.TimeHistory at 0x7f8bec93d490>"
            ]
          },
          "metadata": {},
          "execution_count": 14
        }
      ]
    },
    {
      "cell_type": "markdown",
      "source": [
        "### fit model"
      ],
      "metadata": {
        "id": "1E1Fdq6pnRAe"
      }
    },
    {
      "cell_type": "code",
      "source": [
        "_epochs = 10\n",
        "_batch_size = int(len(list(train_dataset)) / (len(list(train_dataset))/2))   # Just Check Model params quickly\n",
        "# _batch_size = len(list(train_dataset))\n",
        "\n",
        "def model_fit(_param, _train_dataset, _validation_dataset):\n",
        "  tf.keras.backend.clear_session()\n",
        "\n",
        "  model = make_model(**_param)\n",
        "  time_callback = TimeHistory()\n",
        "  history = model.fit(_train_dataset, epochs=_param['epochs'], validation_data=_validation_dataset, callbacks=[time_callback], steps_per_epoch=_batch_size)\n",
        "  execution_time = sum(time_callback.times)\n",
        "  return model, history, execution_time, _param"
      ],
      "metadata": {
        "id": "QYn7Q8f311Bi"
      },
      "execution_count": 15,
      "outputs": []
    },
    {
      "cell_type": "code",
      "source": [
        "label_class = 0\n",
        "# train\n",
        "train_feature_reshape, train_label = loadDatasetFromCSV('Traindata.csv', 'Trainlabel.csv', label_class)\n",
        "class_cnt = len(np.unique(train_label))\n",
        "# test\n",
        "validation_feature_reshape, validation_label = loadDatasetFromCSV('Testdata.csv', 'Testlabel.csv', label_class)\n",
        "\n",
        "train_dataset = preprocessDataset(train_feature_reshape, train_label)\n",
        "validation_dataset = preprocessDataset(validation_feature_reshape, validation_label, shuffle_buffer_size=None)\n",
        "\n",
        "param = {'_class_cnt':class_cnt, 'epochs':2, 'label_class':label_class, '_kernel_initializer':None\n",
        "         , '_activation':'sigmoid', 'batch_normal':False, '_optimizer':'RMSprop', 'filters':16 , '_padding':'valid'\n",
        "         , 'pool_type':'max', '_kernel_size': (3,3), '_strides': (1,1), '_pool_size': (2,2)}\n",
        "\n",
        "model_fit(param, train_dataset, validation_dataset)"
      ],
      "metadata": {
        "colab": {
          "base_uri": "https://localhost:8080/"
        },
        "id": "kU1uwqf8NyEt",
        "outputId": "ce65685a-f236-45fe-ba8a-acd6952fc861"
      },
      "execution_count": 16,
      "outputs": [
        {
          "output_type": "stream",
          "name": "stdout",
          "text": [
            "Epoch 1/2\n",
            "2/2 [==============================] - 4s 2s/step - loss: 3.9965 - accuracy: 0.0234 - val_loss: 3.6237 - val_accuracy: 0.0203\n",
            "Epoch 2/2\n",
            "2/2 [==============================] - 2s 2s/step - loss: 3.8177 - accuracy: 0.0312 - val_loss: 3.5895 - val_accuracy: 0.0203\n"
          ]
        },
        {
          "output_type": "execute_result",
          "data": {
            "text/plain": [
              "(<keras.engine.sequential.Sequential at 0x7f8bec93db50>,\n",
              " <keras.callbacks.History at 0x7f8bec9b6510>,\n",
              " 6.299786567687988,\n",
              " {'_activation': 'sigmoid',\n",
              "  '_class_cnt': 30,\n",
              "  '_kernel_initializer': None,\n",
              "  '_kernel_size': (3, 3),\n",
              "  '_optimizer': 'RMSprop',\n",
              "  '_padding': 'valid',\n",
              "  '_pool_size': (2, 2),\n",
              "  '_strides': (1, 1),\n",
              "  'batch_normal': False,\n",
              "  'epochs': 2,\n",
              "  'filters': 16,\n",
              "  'label_class': 0,\n",
              "  'pool_type': 'max'})"
            ]
          },
          "metadata": {},
          "execution_count": 16
        }
      ]
    },
    {
      "cell_type": "markdown",
      "source": [
        "### fit with multi params\n",
        "filters : larger than 16"
      ],
      "metadata": {
        "id": "6NzJoF7tx9Jv"
      }
    },
    {
      "cell_type": "code",
      "source": [
        "param = {'_class_cnt':class_cnt, 'epochs':2, 'label_class':label_class, '_kernel_initializer':None\n",
        "         , '_activation':'sigmoid', 'batch_normal':False, '_optimizer':'Nadam', 'filters':16 , '_padding':'same'\n",
        "         , 'pool_type':'average', '_kernel_size': (3,3), '_strides': (1,1), '_pool_size': (2,2)}\n"
      ],
      "metadata": {
        "id": "2rWo9r9qQhWS"
      },
      "execution_count": 17,
      "outputs": []
    },
    {
      "cell_type": "code",
      "source": [
        "# param 6\n",
        "params = list()\n",
        "param_key_list = list(param.keys())\n",
        "epochs_list = [10, 50, 100]\n",
        "_kernel_initializer_list = [None, 'glorot_uniform', 'he_normal']\n",
        "_activation_list = ['sigmoid', 'relu']\n",
        "_optimizer_list= ['Adam', 'Nadam']\n",
        "batch_normal_list = [False, True]\n",
        "filters_list = [16, 32]\n",
        "_padding_list = ['same', 'valid']\n",
        "_kernel_size_list = [(3,3), (5,5)]\n",
        "_strides_list = [(1,1), (3,3)]\n",
        "pool_type_list = ['average', 'max']\n",
        "\n",
        "for filters in filters_list:\n",
        "  for _padding in _padding_list:\n",
        "    for _kernel_initializer in _kernel_initializer_list:\n",
        "      for _activation in _activation_list:\n",
        "        for _optimizer in _optimizer_list:\n",
        "          for batch_normal in batch_normal_list:\n",
        "            for epochs in epochs_list:\n",
        "              for _kernel_size in _kernel_size_list:\n",
        "                for _strides in _strides_list:\n",
        "                  for pool_type in pool_type_list:\n",
        "                    param_dict = dict()\n",
        "                    param_dict['filters'] = filters\n",
        "                    param_dict['_padding'] = _padding\n",
        "                    param_dict['_kernel_initializer'] = _kernel_initializer\n",
        "                    param_dict['_activation'] = _activation\n",
        "                    param_dict['_optimizer'] = _optimizer\n",
        "                    param_dict['batch_normal'] = batch_normal\n",
        "                    param_dict['epochs'] = epochs\n",
        "                    param_dict['_kernel_size'] = _kernel_size\n",
        "                    param_dict['_strides'] = _strides\n",
        "                    param_dict['pool_type'] = pool_type\n",
        "                    # print(param_dict)\n",
        "                    params.append(param_dict)\n",
        "len(params)"
      ],
      "metadata": {
        "colab": {
          "base_uri": "https://localhost:8080/"
        },
        "id": "Qv6FmRH5RJFK",
        "outputId": "c144c101-8605-465b-f6ff-d500df67d687"
      },
      "execution_count": 18,
      "outputs": [
        {
          "output_type": "execute_result",
          "data": {
            "text/plain": [
              "2304"
            ]
          },
          "metadata": {},
          "execution_count": 18
        }
      ]
    },
    {
      "cell_type": "code",
      "source": [
        "from datetime import datetime\n",
        "\n",
        "# datetime object containing current date and time\n",
        "now = datetime.now()\n",
        " \n",
        "print(\"now =\", now)\n",
        "\n",
        "# dd/mm/YY H:M:S\n",
        "dt_string = now.strftime(\"%Y%m%d%H%M\")\n",
        "print(\"date and time =\", dt_string)\n",
        "\n",
        "import pickle"
      ],
      "metadata": {
        "colab": {
          "base_uri": "https://localhost:8080/"
        },
        "id": "9TTq4ChAI015",
        "outputId": "8d792397-e51a-4fbb-8407-2a10875bf0fa"
      },
      "execution_count": 19,
      "outputs": [
        {
          "output_type": "stream",
          "name": "stdout",
          "text": [
            "now = 2022-05-28 11:59:27.224467\n",
            "date and time = 202228051159\n"
          ]
        }
      ]
    },
    {
      "cell_type": "code",
      "source": [
        "# params = params[5:7]\n",
        "label_classes = [1, 2, 4]\n",
        "results_list = list()\n",
        "for label_class in label_classes:\n",
        "  train_feature_reshape, train_label = loadDatasetFromCSV('Traindata.csv', 'Trainlabel.csv', label_class)\n",
        "  class_cnt = len(np.unique(train_label))\n",
        "  # test\n",
        "  validation_feature_reshape, validation_label = loadDatasetFromCSV('Testdata.csv', 'Testlabel.csv', label_class)\n",
        "\n",
        "  train_dataset = preprocessDataset(train_feature_reshape, train_label)\n",
        "  validation_dataset = preprocessDataset(validation_feature_reshape, validation_label, shuffle_buffer_size=None)\n",
        "\n",
        "  results = list()          \n",
        "  for idx, param in enumerate(params):\n",
        "    param['_class_cnt'] = class_cnt\n",
        "    param['label_class'] = label_class\n",
        "    print('-'*5 +'[ '+ str(idx) + ' ]'+ '-'*5 + str(param))\n",
        "    results.append(model_fit(param, train_dataset, validation_dataset))\n",
        "  # save\n",
        "  with open(f'results_CNN_label_{label_class}_{dt_string}.pickle', 'wb') as f:\n",
        "    pickle.dump(results, f, pickle.HIGHEST_PROTOCOL)\n",
        "  results_list = results_list + results\n"
      ],
      "metadata": {
        "colab": {
          "base_uri": "https://localhost:8080/"
        },
        "id": "i1Tnuhc2x5eH",
        "outputId": "121bf5b5-f27c-46b3-9ac8-00048b64983d"
      },
      "execution_count": 20,
      "outputs": [
        {
          "output_type": "stream",
          "name": "stdout",
          "text": [
            "-----[ 0 ]-----{'filters': 16, '_padding': 'same', '_kernel_initializer': None, '_activation': 'sigmoid', '_optimizer': 'Adam', 'batch_normal': False, 'epochs': 10, '_kernel_size': (5, 5), '_strides': (1, 1), 'pool_type': 'max', '_class_cnt': 6, 'label_class': 1}\n",
            "Epoch 1/10\n",
            "2/2 [==============================] - 2s 2s/step - loss: 2.3799 - accuracy: 0.3672 - val_loss: 2.6820 - val_accuracy: 0.5387\n",
            "Epoch 2/10\n",
            "2/2 [==============================] - 2s 2s/step - loss: 2.6179 - accuracy: 0.5547 - val_loss: 2.6281 - val_accuracy: 0.5387\n",
            "Epoch 3/10\n",
            "2/2 [==============================] - 2s 2s/step - loss: 2.7412 - accuracy: 0.5469 - val_loss: 2.5610 - val_accuracy: 0.5387\n",
            "Epoch 4/10\n",
            "2/2 [==============================] - 2s 2s/step - loss: 2.3245 - accuracy: 0.5859 - val_loss: 2.4918 - val_accuracy: 0.5387\n",
            "Epoch 5/10\n",
            "2/2 [==============================] - 2s 2s/step - loss: 2.3534 - accuracy: 0.5625 - val_loss: 2.4211 - val_accuracy: 0.5387\n",
            "Epoch 6/10\n",
            "2/2 [==============================] - 2s 2s/step - loss: 2.1407 - accuracy: 0.5859 - val_loss: 2.3498 - val_accuracy: 0.5387\n",
            "Epoch 7/10\n",
            "2/2 [==============================] - 2s 2s/step - loss: 2.2394 - accuracy: 0.5625 - val_loss: 2.2784 - val_accuracy: 0.5387\n",
            "Epoch 8/10\n",
            "2/2 [==============================] - 2s 2s/step - loss: 2.2544 - accuracy: 0.5469 - val_loss: 2.2078 - val_accuracy: 0.5387\n",
            "Epoch 9/10\n",
            "2/2 [==============================] - 2s 2s/step - loss: 1.8517 - accuracy: 0.6172 - val_loss: 2.1397 - val_accuracy: 0.5387\n",
            "Epoch 10/10\n",
            "2/2 [==============================] - 2s 2s/step - loss: 2.0713 - accuracy: 0.5469 - val_loss: 2.0728 - val_accuracy: 0.5387\n",
            "-----[ 1 ]-----{'filters': 16, '_padding': 'same', '_kernel_initializer': None, '_activation': 'sigmoid', '_optimizer': 'Adam', 'batch_normal': False, 'epochs': 10, '_kernel_size': (5, 5), '_strides': (3, 3), 'pool_type': 'average', '_class_cnt': 6, 'label_class': 1}\n",
            "Epoch 1/10\n",
            "2/2 [==============================] - 1s 520ms/step - loss: 2.0041 - accuracy: 0.1797 - val_loss: 1.5755 - val_accuracy: 0.5387\n",
            "Epoch 2/10\n",
            "2/2 [==============================] - 0s 398ms/step - loss: 1.5983 - accuracy: 0.3984 - val_loss: 1.4901 - val_accuracy: 0.5387\n",
            "Epoch 3/10\n",
            "2/2 [==============================] - 0s 397ms/step - loss: 1.5785 - accuracy: 0.5078 - val_loss: 1.5187 - val_accuracy: 0.5387\n",
            "Epoch 4/10\n",
            "2/2 [==============================] - 0s 402ms/step - loss: 1.5548 - accuracy: 0.5859 - val_loss: 1.5470 - val_accuracy: 0.5387\n",
            "Epoch 5/10\n",
            "2/2 [==============================] - 0s 398ms/step - loss: 1.4998 - accuracy: 0.6328 - val_loss: 1.5444 - val_accuracy: 0.5387\n",
            "Epoch 6/10\n",
            "2/2 [==============================] - 0s 385ms/step - loss: 1.6251 - accuracy: 0.5312 - val_loss: 1.5196 - val_accuracy: 0.5387\n",
            "Epoch 7/10\n",
            "2/2 [==============================] - 0s 381ms/step - loss: 1.5910 - accuracy: 0.5312 - val_loss: 1.4890 - val_accuracy: 0.5387\n",
            "Epoch 8/10\n",
            "2/2 [==============================] - 0s 379ms/step - loss: 1.5404 - accuracy: 0.5859 - val_loss: 1.4703 - val_accuracy: 0.5387\n",
            "Epoch 9/10\n",
            "2/2 [==============================] - 0s 412ms/step - loss: 1.5903 - accuracy: 0.5391 - val_loss: 1.4612 - val_accuracy: 0.5387\n",
            "Epoch 10/10\n",
            "2/2 [==============================] - 0s 392ms/step - loss: 1.4958 - accuracy: 0.5312 - val_loss: 1.4578 - val_accuracy: 0.5387\n",
            "INFO:tensorflow:Assets written to: ram://07fdd5ec-40fb-4eb3-ab54-4597c9409ef0/assets\n",
            "INFO:tensorflow:Assets written to: ram://9efd124a-3c3f-482b-a5e9-b3162f874a2a/assets\n",
            "-----[ 0 ]-----{'filters': 16, '_padding': 'same', '_kernel_initializer': None, '_activation': 'sigmoid', '_optimizer': 'Adam', 'batch_normal': False, 'epochs': 10, '_kernel_size': (5, 5), '_strides': (1, 1), 'pool_type': 'max', '_class_cnt': 5, 'label_class': 2}\n",
            "Epoch 1/10\n",
            "2/2 [==============================] - 2s 2s/step - loss: 2.7306 - accuracy: 0.1953 - val_loss: 2.7757 - val_accuracy: 0.1976\n",
            "Epoch 2/10\n",
            "2/2 [==============================] - 2s 2s/step - loss: 3.1623 - accuracy: 0.1797 - val_loss: 2.7271 - val_accuracy: 0.1976\n",
            "Epoch 3/10\n",
            "2/2 [==============================] - 2s 2s/step - loss: 3.5362 - accuracy: 0.1953 - val_loss: 2.6736 - val_accuracy: 0.1976\n",
            "Epoch 4/10\n",
            "2/2 [==============================] - 2s 2s/step - loss: 3.0320 - accuracy: 0.1875 - val_loss: 2.6211 - val_accuracy: 0.1976\n",
            "Epoch 5/10\n",
            "2/2 [==============================] - 2s 2s/step - loss: 2.7405 - accuracy: 0.1406 - val_loss: 2.5724 - val_accuracy: 0.1976\n",
            "Epoch 6/10\n",
            "2/2 [==============================] - 2s 2s/step - loss: 2.5425 - accuracy: 0.2734 - val_loss: 2.5271 - val_accuracy: 0.1976\n",
            "Epoch 7/10\n",
            "2/2 [==============================] - 2s 2s/step - loss: 2.9183 - accuracy: 0.1484 - val_loss: 2.4841 - val_accuracy: 0.1976\n",
            "Epoch 8/10\n",
            "2/2 [==============================] - 2s 2s/step - loss: 2.8041 - accuracy: 0.1562 - val_loss: 2.4435 - val_accuracy: 0.1976\n",
            "Epoch 9/10\n",
            "2/2 [==============================] - 2s 2s/step - loss: 2.6553 - accuracy: 0.2188 - val_loss: 2.4065 - val_accuracy: 0.1976\n",
            "Epoch 10/10\n",
            "2/2 [==============================] - 2s 2s/step - loss: 2.7913 - accuracy: 0.1562 - val_loss: 2.3713 - val_accuracy: 0.1976\n",
            "-----[ 1 ]-----{'filters': 16, '_padding': 'same', '_kernel_initializer': None, '_activation': 'sigmoid', '_optimizer': 'Adam', 'batch_normal': False, 'epochs': 10, '_kernel_size': (5, 5), '_strides': (3, 3), 'pool_type': 'average', '_class_cnt': 5, 'label_class': 2}\n",
            "Epoch 1/10\n",
            "2/2 [==============================] - 1s 500ms/step - loss: 1.9778 - accuracy: 0.2188 - val_loss: 1.6798 - val_accuracy: 0.2314\n",
            "Epoch 2/10\n",
            "2/2 [==============================] - 0s 410ms/step - loss: 1.7957 - accuracy: 0.2031 - val_loss: 1.6090 - val_accuracy: 0.2314\n",
            "Epoch 3/10\n",
            "2/2 [==============================] - 0s 398ms/step - loss: 1.8087 - accuracy: 0.2109 - val_loss: 1.6281 - val_accuracy: 0.2285\n",
            "Epoch 4/10\n",
            "2/2 [==============================] - 0s 400ms/step - loss: 1.7610 - accuracy: 0.2344 - val_loss: 1.6620 - val_accuracy: 0.2285\n",
            "Epoch 5/10\n",
            "2/2 [==============================] - 0s 401ms/step - loss: 1.8082 - accuracy: 0.2266 - val_loss: 1.6588 - val_accuracy: 0.2285\n",
            "Epoch 6/10\n",
            "2/2 [==============================] - 0s 391ms/step - loss: 1.9417 - accuracy: 0.1641 - val_loss: 1.6357 - val_accuracy: 0.2285\n",
            "Epoch 7/10\n",
            "2/2 [==============================] - 0s 408ms/step - loss: 1.7395 - accuracy: 0.2422 - val_loss: 1.6227 - val_accuracy: 0.2285\n",
            "Epoch 8/10\n",
            "2/2 [==============================] - 0s 387ms/step - loss: 1.8441 - accuracy: 0.1953 - val_loss: 1.6155 - val_accuracy: 0.1860\n",
            "Epoch 9/10\n",
            "2/2 [==============================] - 0s 404ms/step - loss: 1.6532 - accuracy: 0.2656 - val_loss: 1.6112 - val_accuracy: 0.1793\n",
            "Epoch 10/10\n",
            "2/2 [==============================] - 0s 400ms/step - loss: 1.7192 - accuracy: 0.1953 - val_loss: 1.6062 - val_accuracy: 0.1793\n",
            "INFO:tensorflow:Assets written to: ram://2b00d7a2-4caf-4783-8715-5fe8f395d641/assets\n",
            "INFO:tensorflow:Assets written to: ram://7dca144b-7af8-4921-8564-b850663c069a/assets\n",
            "-----[ 0 ]-----{'filters': 16, '_padding': 'same', '_kernel_initializer': None, '_activation': 'sigmoid', '_optimizer': 'Adam', 'batch_normal': False, 'epochs': 10, '_kernel_size': (5, 5), '_strides': (1, 1), 'pool_type': 'max', '_class_cnt': 5, 'label_class': 4}\n",
            "Epoch 1/10\n",
            "2/2 [==============================] - 2s 2s/step - loss: 2.2796 - accuracy: 0.2656 - val_loss: 2.6266 - val_accuracy: 0.2448\n",
            "Epoch 2/10\n",
            "2/2 [==============================] - 2s 2s/step - loss: 2.8433 - accuracy: 0.2422 - val_loss: 2.4747 - val_accuracy: 0.2448\n",
            "Epoch 3/10\n",
            "2/2 [==============================] - 2s 2s/step - loss: 2.4625 - accuracy: 0.2266 - val_loss: 2.3610 - val_accuracy: 0.2448\n",
            "Epoch 4/10\n",
            "2/2 [==============================] - 2s 2s/step - loss: 2.2696 - accuracy: 0.2656 - val_loss: 2.2527 - val_accuracy: 0.2448\n",
            "Epoch 5/10\n",
            "2/2 [==============================] - 2s 2s/step - loss: 2.3046 - accuracy: 0.2891 - val_loss: 2.1505 - val_accuracy: 0.2448\n",
            "Epoch 6/10\n",
            "2/2 [==============================] - 2s 2s/step - loss: 2.3507 - accuracy: 0.1875 - val_loss: 2.0569 - val_accuracy: 0.2448\n",
            "Epoch 7/10\n",
            "2/2 [==============================] - 2s 2s/step - loss: 2.2609 - accuracy: 0.2656 - val_loss: 1.9754 - val_accuracy: 0.2448\n",
            "Epoch 8/10\n",
            "2/2 [==============================] - 2s 2s/step - loss: 2.0610 - accuracy: 0.2891 - val_loss: 1.9058 - val_accuracy: 0.2448\n",
            "Epoch 9/10\n",
            "2/2 [==============================] - 2s 2s/step - loss: 2.0356 - accuracy: 0.2656 - val_loss: 1.8447 - val_accuracy: 0.2448\n",
            "Epoch 10/10\n",
            "2/2 [==============================] - 2s 2s/step - loss: 1.9259 - accuracy: 0.1953 - val_loss: 1.7932 - val_accuracy: 0.2448\n",
            "-----[ 1 ]-----{'filters': 16, '_padding': 'same', '_kernel_initializer': None, '_activation': 'sigmoid', '_optimizer': 'Adam', 'batch_normal': False, 'epochs': 10, '_kernel_size': (5, 5), '_strides': (3, 3), 'pool_type': 'average', '_class_cnt': 5, 'label_class': 4}\n",
            "Epoch 1/10\n",
            "2/2 [==============================] - 1s 532ms/step - loss: 1.8311 - accuracy: 0.2031 - val_loss: 1.5146 - val_accuracy: 0.2586\n",
            "Epoch 2/10\n",
            "2/2 [==============================] - 0s 400ms/step - loss: 1.6729 - accuracy: 0.2812 - val_loss: 1.4751 - val_accuracy: 0.3287\n",
            "Epoch 3/10\n",
            "2/2 [==============================] - 0s 437ms/step - loss: 1.6529 - accuracy: 0.2734 - val_loss: 1.4807 - val_accuracy: 0.3287\n",
            "Epoch 4/10\n",
            "2/2 [==============================] - 0s 415ms/step - loss: 1.4700 - accuracy: 0.3594 - val_loss: 1.5007 - val_accuracy: 0.3287\n",
            "Epoch 5/10\n",
            "2/2 [==============================] - 0s 418ms/step - loss: 1.5438 - accuracy: 0.3281 - val_loss: 1.5140 - val_accuracy: 0.3287\n",
            "Epoch 6/10\n",
            "2/2 [==============================] - 0s 397ms/step - loss: 1.7299 - accuracy: 0.2422 - val_loss: 1.5046 - val_accuracy: 0.3287\n",
            "Epoch 7/10\n",
            "2/2 [==============================] - 1s 679ms/step - loss: 1.7174 - accuracy: 0.2891 - val_loss: 1.4863 - val_accuracy: 0.3287\n",
            "Epoch 8/10\n",
            "2/2 [==============================] - 1s 1s/step - loss: 1.5720 - accuracy: 0.3125 - val_loss: 1.4837 - val_accuracy: 0.3287\n",
            "Epoch 9/10\n",
            "2/2 [==============================] - 0s 422ms/step - loss: 1.6369 - accuracy: 0.2188 - val_loss: 1.4860 - val_accuracy: 0.2432\n",
            "Epoch 10/10\n",
            "2/2 [==============================] - 0s 417ms/step - loss: 1.5134 - accuracy: 0.2891 - val_loss: 1.4835 - val_accuracy: 0.3287\n",
            "INFO:tensorflow:Assets written to: ram://836f546e-2420-4384-b2f9-3206305167b2/assets\n",
            "INFO:tensorflow:Assets written to: ram://e2608d2f-a924-484c-9366-2830c893d415/assets\n"
          ]
        }
      ]
    },
    {
      "cell_type": "code",
      "source": [
        "# save\n",
        "with open(f'results_CNN_{dt_string}.pickle', 'wb') as f:\n",
        "    pickle.dump(results_list, f, pickle.HIGHEST_PROTOCOL)"
      ],
      "metadata": {
        "colab": {
          "base_uri": "https://localhost:8080/"
        },
        "id": "nAdPQV3EeZhO",
        "outputId": "3897b4fc-16da-4ab9-8b2c-da0e353d4aaa"
      },
      "execution_count": 21,
      "outputs": [
        {
          "output_type": "stream",
          "name": "stdout",
          "text": [
            "INFO:tensorflow:Assets written to: ram://9747bf27-8aa7-4168-b9dc-7b00a406f415/assets\n",
            "INFO:tensorflow:Assets written to: ram://ab1328e4-c958-43b9-a909-85e328d58d25/assets\n",
            "INFO:tensorflow:Assets written to: ram://2024e3d0-87ad-469f-8ee8-ec26453132a7/assets\n",
            "INFO:tensorflow:Assets written to: ram://0e34876c-925a-47c2-8bc9-936d5fd52102/assets\n",
            "INFO:tensorflow:Assets written to: ram://4296993a-7b7f-400f-9ad7-7f2d856b5b81/assets\n",
            "INFO:tensorflow:Assets written to: ram://254d7a40-6e1e-4a21-868f-b00c6205a414/assets\n"
          ]
        }
      ]
    },
    {
      "cell_type": "markdown",
      "source": [
        "###describe model"
      ],
      "metadata": {
        "id": "hzrF4A-v5tQR"
      }
    },
    {
      "cell_type": "code",
      "source": [
        "len(results)"
      ],
      "metadata": {
        "colab": {
          "base_uri": "https://localhost:8080/"
        },
        "id": "AWT1NkM1ciFw",
        "outputId": "276e7fe6-862b-4f10-af6a-d773f1f8ee7d"
      },
      "execution_count": 22,
      "outputs": [
        {
          "output_type": "execute_result",
          "data": {
            "text/plain": [
              "2"
            ]
          },
          "metadata": {},
          "execution_count": 22
        }
      ]
    },
    {
      "cell_type": "code",
      "source": [
        "choose_index = 1\n",
        "model = results[choose_index][0]"
      ],
      "metadata": {
        "id": "k2C41njJ50HN"
      },
      "execution_count": 23,
      "outputs": []
    },
    {
      "cell_type": "code",
      "source": [
        "tf.keras.utils.plot_model(model, show_shapes=True, show_dtype=True, expand_nested=True, show_layer_activations=True) #layer_range=?, "
      ],
      "metadata": {
        "colab": {
          "base_uri": "https://localhost:8080/",
          "height": 1000
        },
        "id": "u2i7I3_354Lg",
        "outputId": "d0964b43-9fde-490e-b138-a3ee6a3c6d4a"
      },
      "execution_count": 24,
      "outputs": [
        {
          "output_type": "execute_result",
          "data": {
            "text/plain": [
              "<IPython.core.display.Image object>"
            ],
            "image/png": "[encoded data removed]"
          },
          "metadata": {},
          "execution_count": 24
        }
      ]
    },
    {
      "cell_type": "markdown",
      "source": [
        "###drawing history model"
      ],
      "metadata": {
        "id": "ZmJw88aRF63i"
      }
    },
    {
      "cell_type": "code",
      "source": [
        "history = results[choose_index][1]"
      ],
      "metadata": {
        "id": "mzlMqaVi3YD4"
      },
      "execution_count": 25,
      "outputs": []
    },
    {
      "cell_type": "code",
      "source": [
        "history.history.keys(), history.params.keys()"
      ],
      "metadata": {
        "colab": {
          "base_uri": "https://localhost:8080/"
        },
        "id": "jHt3GTIwfMKB",
        "outputId": "7557699d-d7c2-4c0e-a623-7a540b50cc76"
      },
      "execution_count": 26,
      "outputs": [
        {
          "output_type": "execute_result",
          "data": {
            "text/plain": [
              "(dict_keys(['loss', 'accuracy', 'val_loss', 'val_accuracy']),\n",
              " dict_keys(['verbose', 'epochs', 'steps']))"
            ]
          },
          "metadata": {},
          "execution_count": 26
        }
      ]
    },
    {
      "cell_type": "code",
      "source": [
        "history.history['accuracy'][-1]"
      ],
      "metadata": {
        "colab": {
          "base_uri": "https://localhost:8080/"
        },
        "id": "9sZZevuaHq1r",
        "outputId": "c8b967e7-46d5-4160-9a20-7fb2d89263d4"
      },
      "execution_count": 27,
      "outputs": [
        {
          "output_type": "execute_result",
          "data": {
            "text/plain": [
              "0.2890625"
            ]
          },
          "metadata": {},
          "execution_count": 27
        }
      ]
    },
    {
      "cell_type": "code",
      "source": [
        "acc = history.history['accuracy']\n",
        "val_acc = history.history['val_accuracy']\n",
        "\n",
        "loss = history.history['loss']\n",
        "val_loss = history.history['val_loss']\n",
        "\n",
        "epochs_range = range(_epochs)\n",
        "# acc, list(epochs_range)"
      ],
      "metadata": {
        "id": "m4jMOV3EF--3"
      },
      "execution_count": 28,
      "outputs": []
    },
    {
      "cell_type": "code",
      "source": [
        "import matplotlib.pyplot as plt\n",
        "\n",
        "plt.figure(figsize=(20, 6))\n",
        "plt.subplot(1, 2, 1)\n",
        "plt.plot(epochs_range, acc, label='Training Accuracy')\n",
        "plt.plot(epochs_range, val_acc, label='Validation Accuracy')\n",
        "plt.legend(loc='lower right')\n",
        "plt.title('Training and Validation Accuracy')\n",
        "\n",
        "plt.subplot(1, 2, 2)\n",
        "plt.plot(epochs_range, loss, label='Training Loss')\n",
        "plt.plot(epochs_range, val_loss, label='Validation Loss')\n",
        "plt.legend(loc='upper right')\n",
        "plt.title('Training and Validation Loss')\n",
        "plt.show()\n"
      ],
      "metadata": {
        "colab": {
          "base_uri": "https://localhost:8080/",
          "height": 390
        },
        "id": "bg1qb-PPGASa",
        "outputId": "894d0e32-00bc-45d2-97d6-05dfef8a6d76"
      },
      "execution_count": 29,
      "outputs": [
        {
          "output_type": "display_data",
          "data": {
            "text/plain": [
              "<Figure size 1440x432 with 2 Axes>"
            ],
            "image/png": "[encoded data removed]"
          },
          "metadata": {
            "needs_background": "light"
          }
        }
      ]
    },
    {
      "cell_type": "markdown",
      "source": [
        "### evaluate"
      ],
      "metadata": {
        "id": "d2a4pCYdEwI7"
      }
    },
    {
      "cell_type": "code",
      "source": [
        "model = results[choose_index][0]"
      ],
      "metadata": {
        "id": "g8eamLPW32sF"
      },
      "execution_count": 30,
      "outputs": []
    },
    {
      "cell_type": "code",
      "execution_count": 31,
      "metadata": {
        "id": "2q82yN8mmKIE",
        "colab": {
          "base_uri": "https://localhost:8080/"
        },
        "outputId": "1f780f62-f923-4acd-e863-79c562e515ab"
      },
      "outputs": [
        {
          "output_type": "stream",
          "name": "stdout",
          "text": [
            "80/80 [==============================] - 1s 7ms/step - loss: 1.4835 - accuracy: 0.3287\n"
          ]
        },
        {
          "output_type": "execute_result",
          "data": {
            "text/plain": [
              "[1.4834588766098022, 0.328745573759079]"
            ]
          },
          "metadata": {},
          "execution_count": 31
        }
      ],
      "source": [
        "model.evaluate(validation_dataset)"
      ]
    },
    {
      "cell_type": "code",
      "source": [
        "predict_val = model.predict(validation_dataset).argmax(axis=1)\n",
        "predict_val.shape, validation_label.shape"
      ],
      "metadata": {
        "colab": {
          "base_uri": "https://localhost:8080/"
        },
        "id": "f5h1v6O7FtAa",
        "outputId": "30d17ff9-740d-4dce-edd1-17923fa0ba12"
      },
      "execution_count": 32,
      "outputs": [
        {
          "output_type": "execute_result",
          "data": {
            "text/plain": [
              "((5086,), (5086,))"
            ]
          },
          "metadata": {},
          "execution_count": 32
        }
      ]
    },
    {
      "cell_type": "code",
      "source": [
        "predict_val[40:46], validation_label[40:46]"
      ],
      "metadata": {
        "colab": {
          "base_uri": "https://localhost:8080/"
        },
        "id": "ODj0dMrzQcHM",
        "outputId": "ab5687cb-a0ac-4762-f973-3b21e440458e"
      },
      "execution_count": 33,
      "outputs": [
        {
          "output_type": "execute_result",
          "data": {
            "text/plain": [
              "(array([1, 1, 1, 1, 1, 1]), 40    2.0\n",
              " 41    1.0\n",
              " 42    3.0\n",
              " 43    2.0\n",
              " 44    0.0\n",
              " 45    3.0\n",
              " Name: 4, dtype: float32)"
            ]
          },
          "metadata": {},
          "execution_count": 33
        }
      ]
    },
    {
      "cell_type": "code",
      "source": [
        "from sklearn.metrics import classification_report, confusion_matrix"
      ],
      "metadata": {
        "id": "_4fAZ2iqRRVD"
      },
      "execution_count": 34,
      "outputs": []
    },
    {
      "cell_type": "code",
      "source": [
        "# import seaborn as sns\n",
        "# sns.heatmap(confusion_matrix(validation_label, predict_val), annot=True)"
      ],
      "metadata": {
        "id": "OxmgzrBjbZRq"
      },
      "execution_count": 35,
      "outputs": []
    },
    {
      "cell_type": "code",
      "source": [
        "#Accuracy of the predicted values\n",
        "print(classification_report(validation_label, predict_val)) "
      ],
      "metadata": {
        "colab": {
          "base_uri": "https://localhost:8080/"
        },
        "id": "02KqSWUObjDO",
        "outputId": "36e5a0cc-9736-41e1-9e83-df5b912b9c3c"
      },
      "execution_count": 36,
      "outputs": [
        {
          "output_type": "stream",
          "name": "stdout",
          "text": [
            "              precision    recall  f1-score   support\n",
            "\n",
            "         0.0       0.00      0.00      0.00      1245\n",
            "         1.0       0.33      1.00      0.49      1672\n",
            "         2.0       0.00      0.00      0.00      1315\n",
            "         3.0       0.00      0.00      0.00       547\n",
            "         4.0       0.00      0.00      0.00       307\n",
            "\n",
            "    accuracy                           0.33      5086\n",
            "   macro avg       0.07      0.20      0.10      5086\n",
            "weighted avg       0.11      0.33      0.16      5086\n",
            "\n"
          ]
        },
        {
          "output_type": "stream",
          "name": "stderr",
          "text": [
            "/usr/local/lib/python3.7/dist-packages/sklearn/metrics/_classification.py:1318: UndefinedMetricWarning: Precision and F-score are ill-defined and being set to 0.0 in labels with no predicted samples. Use `zero_division` parameter to control this behavior.\n",
            "  _warn_prf(average, modifier, msg_start, len(result))\n",
            "/usr/local/lib/python3.7/dist-packages/sklearn/metrics/_classification.py:1318: UndefinedMetricWarning: Precision and F-score are ill-defined and being set to 0.0 in labels with no predicted samples. Use `zero_division` parameter to control this behavior.\n",
            "  _warn_prf(average, modifier, msg_start, len(result))\n",
            "/usr/local/lib/python3.7/dist-packages/sklearn/metrics/_classification.py:1318: UndefinedMetricWarning: Precision and F-score are ill-defined and being set to 0.0 in labels with no predicted samples. Use `zero_division` parameter to control this behavior.\n",
            "  _warn_prf(average, modifier, msg_start, len(result))\n"
          ]
        }
      ]
    },
    {
      "cell_type": "code",
      "source": [
        "import pandas as pd\n",
        "# import warnings\n",
        "# warnings.filterwarnings('always')\n",
        "\n",
        "report = classification_report(validation_label, predict_val, output_dict=True)\n",
        "\n",
        "pd.DataFrame(report).transpose()"
      ],
      "metadata": {
        "id": "bten4DNqEZyt",
        "outputId": "94512d70-9d9c-4f59-d0b1-5b7111b8e534",
        "colab": {
          "base_uri": "https://localhost:8080/",
          "height": 427
        }
      },
      "execution_count": 37,
      "outputs": [
        {
          "output_type": "stream",
          "name": "stderr",
          "text": [
            "/usr/local/lib/python3.7/dist-packages/sklearn/metrics/_classification.py:1318: UndefinedMetricWarning: Precision and F-score are ill-defined and being set to 0.0 in labels with no predicted samples. Use `zero_division` parameter to control this behavior.\n",
            "  _warn_prf(average, modifier, msg_start, len(result))\n",
            "/usr/local/lib/python3.7/dist-packages/sklearn/metrics/_classification.py:1318: UndefinedMetricWarning: Precision and F-score are ill-defined and being set to 0.0 in labels with no predicted samples. Use `zero_division` parameter to control this behavior.\n",
            "  _warn_prf(average, modifier, msg_start, len(result))\n",
            "/usr/local/lib/python3.7/dist-packages/sklearn/metrics/_classification.py:1318: UndefinedMetricWarning: Precision and F-score are ill-defined and being set to 0.0 in labels with no predicted samples. Use `zero_division` parameter to control this behavior.\n",
            "  _warn_prf(average, modifier, msg_start, len(result))\n"
          ]
        },
        {
          "output_type": "execute_result",
          "data": {
            "text/plain": [
              "              precision    recall  f1-score      support\n",
              "0.0            0.000000  0.000000  0.000000  1245.000000\n",
              "1.0            0.328746  1.000000  0.494821  1672.000000\n",
              "2.0            0.000000  0.000000  0.000000  1315.000000\n",
              "3.0            0.000000  0.000000  0.000000   547.000000\n",
              "4.0            0.000000  0.000000  0.000000   307.000000\n",
              "accuracy       0.328746  0.328746  0.328746     0.328746\n",
              "macro avg      0.065749  0.200000  0.098964  5086.000000\n",
              "weighted avg   0.108074  0.328746  0.162670  5086.000000"
            ],
            "text/html": [
              "\n",
              "  <div id=\"df-79e9c947-3b02-417f-a412-a579e99da2db\">\n",
              "    <div class=\"colab-df-container\">\n",
              "      <div>\n",
              "<style scoped>\n",
              "    .dataframe tbody tr th:only-of-type {\n",
              "        vertical-align: middle;\n",
              "    }\n",
              "\n",
              "    .dataframe tbody tr th {\n",
              "        vertical-align: top;\n",
              "    }\n",
              "\n",
              "    .dataframe thead th {\n",
              "        text-align: right;\n",
              "    }\n",
              "</style>\n",
              "<table border=\"1\" class=\"dataframe\">\n",
              "  <thead>\n",
              "    <tr style=\"text-align: right;\">\n",
              "      <th></th>\n",
              "      <th>precision</th>\n",
              "      <th>recall</th>\n",
              "      <th>f1-score</th>\n",
              "      <th>support</th>\n",
              "    </tr>\n",
              "  </thead>\n",
              "  <tbody>\n",
              "    <tr>\n",
              "      <th>0.0</th>\n",
              "      <td>0.000000</td>\n",
              "      <td>0.000000</td>\n",
              "      <td>0.000000</td>\n",
              "      <td>1245.000000</td>\n",
              "    </tr>\n",
              "    <tr>\n",
              "      <th>1.0</th>\n",
              "      <td>0.328746</td>\n",
              "      <td>1.000000</td>\n",
              "      <td>0.494821</td>\n",
              "      <td>1672.000000</td>\n",
              "    </tr>\n",
              "    <tr>\n",
              "      <th>2.0</th>\n",
              "      <td>0.000000</td>\n",
              "      <td>0.000000</td>\n",
              "      <td>0.000000</td>\n",
              "      <td>1315.000000</td>\n",
              "    </tr>\n",
              "    <tr>\n",
              "      <th>3.0</th>\n",
              "      <td>0.000000</td>\n",
              "      <td>0.000000</td>\n",
              "      <td>0.000000</td>\n",
              "      <td>547.000000</td>\n",
              "    </tr>\n",
              "    <tr>\n",
              "      <th>4.0</th>\n",
              "      <td>0.000000</td>\n",
              "      <td>0.000000</td>\n",
              "      <td>0.000000</td>\n",
              "      <td>307.000000</td>\n",
              "    </tr>\n",
              "    <tr>\n",
              "      <th>accuracy</th>\n",
              "      <td>0.328746</td>\n",
              "      <td>0.328746</td>\n",
              "      <td>0.328746</td>\n",
              "      <td>0.328746</td>\n",
              "    </tr>\n",
              "    <tr>\n",
              "      <th>macro avg</th>\n",
              "      <td>0.065749</td>\n",
              "      <td>0.200000</td>\n",
              "      <td>0.098964</td>\n",
              "      <td>5086.000000</td>\n",
              "    </tr>\n",
              "    <tr>\n",
              "      <th>weighted avg</th>\n",
              "      <td>0.108074</td>\n",
              "      <td>0.328746</td>\n",
              "      <td>0.162670</td>\n",
              "      <td>5086.000000</td>\n",
              "    </tr>\n",
              "  </tbody>\n",
              "</table>\n",
              "</div>\n",
              "      <button class=\"colab-df-convert\" onclick=\"convertToInteractive('df-79e9c947-3b02-417f-a412-a579e99da2db')\"\n",
              "              title=\"Convert this dataframe to an interactive table.\"\n",
              "              style=\"display:none;\">\n",
              "        \n",
              "  <svg xmlns=\"http://www.w3.org/2000/svg\" height=\"24px\"viewBox=\"0 0 24 24\"\n",
              "       width=\"24px\">\n",
              "    <path d=\"M0 0h24v24H0V0z\" fill=\"none\"/>\n",
              "    <path d=\"M18.56 5.44l.94 2.06.94-2.06 2.06-.94-2.06-.94-.94-2.06-.94 2.06-2.06.94zm-11 1L8.5 8.5l.94-2.06 2.06-.94-2.06-.94L8.5 2.5l-.94 2.06-2.06.94zm10 10l.94 2.06.94-2.06 2.06-.94-2.06-.94-.94-2.06-.94 2.06-2.06.94z\"/><path d=\"M17.41 7.96l-1.37-1.37c-.4-.4-.92-.59-1.43-.59-.52 0-1.04.2-1.43.59L10.3 9.45l-7.72 7.72c-.78.78-.78 2.05 0 2.83L4 21.41c.39.39.9.59 1.41.59.51 0 1.02-.2 1.41-.59l7.78-7.78 2.81-2.81c.8-.78.8-2.07 0-2.86zM5.41 20L4 18.59l7.72-7.72 1.47 1.35L5.41 20z\"/>\n",
              "  </svg>\n",
              "      </button>\n",
              "      \n",
              "  <style>\n",
              "    .colab-df-container {\n",
              "      display:flex;\n",
              "      flex-wrap:wrap;\n",
              "      gap: 12px;\n",
              "    }\n",
              "\n",
              "    .colab-df-convert {\n",
              "      background-color: #E8F0FE;\n",
              "      border: none;\n",
              "      border-radius: 50%;\n",
              "      cursor: pointer;\n",
              "      display: none;\n",
              "      fill: #1967D2;\n",
              "      height: 32px;\n",
              "      padding: 0 0 0 0;\n",
              "      width: 32px;\n",
              "    }\n",
              "\n",
              "    .colab-df-convert:hover {\n",
              "      background-color: #E2EBFA;\n",
              "      box-shadow: 0px 1px 2px rgba(60, 64, 67, 0.3), 0px 1px 3px 1px rgba(60, 64, 67, 0.15);\n",
              "      fill: #174EA6;\n",
              "    }\n",
              "\n",
              "    [theme=dark] .colab-df-convert {\n",
              "      background-color: #3B4455;\n",
              "      fill: #D2E3FC;\n",
              "    }\n",
              "\n",
              "    [theme=dark] .colab-df-convert:hover {\n",
              "      background-color: #434B5C;\n",
              "      box-shadow: 0px 1px 3px 1px rgba(0, 0, 0, 0.15);\n",
              "      filter: drop-shadow(0px 1px 2px rgba(0, 0, 0, 0.3));\n",
              "      fill: #FFFFFF;\n",
              "    }\n",
              "  </style>\n",
              "\n",
              "      <script>\n",
              "        const buttonEl =\n",
              "          document.querySelector('#df-79e9c947-3b02-417f-a412-a579e99da2db button.colab-df-convert');\n",
              "        buttonEl.style.display =\n",
              "          google.colab.kernel.accessAllowed ? 'block' : 'none';\n",
              "\n",
              "        async function convertToInteractive(key) {\n",
              "          const element = document.querySelector('#df-79e9c947-3b02-417f-a412-a579e99da2db');\n",
              "          const dataTable =\n",
              "            await google.colab.kernel.invokeFunction('convertToInteractive',\n",
              "                                                     [key], {});\n",
              "          if (!dataTable) return;\n",
              "\n",
              "          const docLinkHtml = 'Like what you see? Visit the ' +\n",
              "            '<a target=\"_blank\" href=https://colab.research.google.com/notebooks/data_table.ipynb>data table notebook</a>'\n",
              "            + ' to learn more about interactive tables.';\n",
              "          element.innerHTML = '';\n",
              "          dataTable['output_type'] = 'display_data';\n",
              "          await google.colab.output.renderOutput(dataTable, element);\n",
              "          const docLink = document.createElement('div');\n",
              "          docLink.innerHTML = docLinkHtml;\n",
              "          element.appendChild(docLink);\n",
              "        }\n",
              "      </script>\n",
              "    </div>\n",
              "  </div>\n",
              "  "
            ]
          },
          "metadata": {},
          "execution_count": 37
        }
      ]
    },
    {
      "cell_type": "code",
      "source": [
        ""
      ],
      "metadata": {
        "id": "2aRUJeyjEfsS"
      },
      "execution_count": 37,
      "outputs": []
    }
  ]
}