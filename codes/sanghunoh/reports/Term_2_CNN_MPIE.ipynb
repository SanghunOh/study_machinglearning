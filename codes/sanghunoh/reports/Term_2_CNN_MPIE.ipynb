{
  "nbformat": 4,
  "nbformat_minor": 0,
  "metadata": {
    "colab": {
      "name": "Term_2_CNN_MPIE.ipynb",
      "provenance": [],
      "collapsed_sections": [],
      "mount_file_id": "1NEHdqYVgkpNCsYUJKTvW-DY8T5xrOwYg",
      "authorship_tag": "ABX9TyOmBhrc6r9RSL7RC/q/hzDx",
      "include_colab_link": true
    },
    "kernelspec": {
      "name": "python3",
      "display_name": "Python 3"
    },
    "language_info": {
      "name": "python"
    }
  },
  "cells": [
    {
      "cell_type": "markdown",
      "metadata": {
        "id": "view-in-github",
        "colab_type": "text"
      },
      "source": [
        "<a href=\"https://colab.research.google.com/github/SanghunOh/study_machinglearning/blob/main/codes/sanghunoh/reports/Term_2_CNN_MPIE.ipynb\" target=\"_parent\"><img src=\"https://colab.research.google.com/assets/colab-badge.svg\" alt=\"Open In Colab\"/></a>"
      ]
    },
    {
      "cell_type": "markdown",
      "source": [
        "##Connect Drive"
      ],
      "metadata": {
        "id": "brb_gNSQ-Tyg"
      }
    },
    {
      "cell_type": "code",
      "execution_count": 1,
      "metadata": {
        "colab": {
          "base_uri": "https://localhost:8080/"
        },
        "id": "2zl8YlT9398C",
        "outputId": "3f59936e-8900-4f7c-d27a-6e3e2087d0d8"
      },
      "outputs": [
        {
          "output_type": "stream",
          "name": "stdout",
          "text": [
            "/content/drive/.shortcut-targets-by-id/1tHYgEz3lQF-LmtFPXRgMBDh4UN54qeAs/datas\n"
          ]
        }
      ],
      "source": [
        "path_root = '/content/drive/MyDrive/datas/'\n",
        "\n",
        "# 작업 경로 설정\n",
        "import os\n",
        "os.chdir(path_root)\n",
        "!pwd"
      ]
    },
    {
      "cell_type": "code",
      "source": [
        "# !unzip -o ./mpie_30_shuffle.zip -d ./mpie_30_shuffle"
      ],
      "metadata": {
        "id": "q_zK6dD69lx7"
      },
      "execution_count": 2,
      "outputs": []
    },
    {
      "cell_type": "code",
      "source": [
        "!ls"
      ],
      "metadata": {
        "colab": {
          "base_uri": "https://localhost:8080/"
        },
        "id": "mXG7KRQz-Nax",
        "outputId": "40f83511-d103-4b59-b5fc-c79026b747ae"
      },
      "execution_count": 3,
      "outputs": [
        {
          "output_type": "stream",
          "name": "stdout",
          "text": [
            "dataCh4_7.mat\t\tiris_shuffle.mat\t mpie_30_shuffle\n",
            "dataCh4_7.zip\t\tiris.zip\t\t mpie_30_shuffle.zip\n",
            "digitimages_binary.zip\tmatlab_iris_shuffle.mat  number_images\n"
          ]
        }
      ]
    },
    {
      "cell_type": "markdown",
      "source": [
        "##Load Dataset"
      ],
      "metadata": {
        "id": "qLUE0VPqLewv"
      }
    },
    {
      "cell_type": "code",
      "source": [
        "path = path_root + 'mpie_30_shuffle/'\n",
        "import pandas as pd\n",
        "import numpy as np\n",
        "\n",
        "# train\n",
        "train_feature_csv = pd.read_csv(path + 'Traindata.csv', dtype=np.float32, header=None) # image features of train data\n",
        "train_feature_flatten = train_feature_csv.values.flatten()\n",
        "train_feature_reshape = np.reshape(train_feature_flatten, (train_feature_csv.shape[0], 32,-1))\n",
        "\n",
        "train_label_csv = pd.read_csv(path + 'Trainlabel.csv', dtype=np.float32, header=None) # labels of train data\n",
        "train_label = train_label_csv[0] # get label you want\n",
        "\n",
        "# test\n",
        "validation_feature_csv = pd.read_csv(path + 'Testdata.csv', dtype=np.float32, header=None) # image feature of test data\n",
        "validation_feature_flatten = validation_feature_csv.values.flatten()\n",
        "validation_feature_reshape = np.reshape(validation_feature_flatten, (validation_feature_csv.shape[0], 32,-1))\n",
        "\n",
        "validation_label_csv = pd.read_csv(path + 'Testlabel.csv', dtype=np.float32, header=None) # labels of test data\n",
        "validation_label = validation_label_csv[0] # get label you want\n"
      ],
      "metadata": {
        "id": "bLAz9qj1LwGC"
      },
      "execution_count": 4,
      "outputs": []
    },
    {
      "cell_type": "code",
      "execution_count": 5,
      "metadata": {
        "id": "GjUDklviz51u"
      },
      "outputs": [],
      "source": [
        "import tensorflow as tf\n",
        "\n",
        "def preprocessDataset(features_reshape, labels, batch_size=64, shuffle_buffer_size=100):\n",
        "  _batch_size = batch_size\n",
        "  _shuffle_buffer_size = shuffle_buffer_size\n",
        "\n",
        "  _features = features_reshape\n",
        "  _labels = labels\n",
        "  _dataset_tensors = tf.data.Dataset.from_tensor_slices((_features, _labels))\n",
        "\n",
        "  if _shuffle_buffer_size == None:\n",
        "    _dataset_tensors = _dataset_tensors.batch(_batch_size)\n",
        "  else :\n",
        "    _dataset_tensors = _dataset_tensors.shuffle(_shuffle_buffer_size).batch(_batch_size)\n",
        "\n",
        "  return _dataset_tensors\n",
        "\n"
      ]
    },
    {
      "cell_type": "code",
      "source": [
        "train_dataset = preprocessDataset(train_feature_reshape, train_label)"
      ],
      "metadata": {
        "id": "b0iSCMgGOjCp"
      },
      "execution_count": 6,
      "outputs": []
    },
    {
      "cell_type": "code",
      "source": [
        "# train_dataset?"
      ],
      "metadata": {
        "id": "7CJbD5hHSYCU"
      },
      "execution_count": 7,
      "outputs": []
    },
    {
      "cell_type": "code",
      "source": [
        "validation_dataset = preprocessDataset(validation_feature_reshape, validation_label, shuffle_buffer_size=None)"
      ],
      "metadata": {
        "id": "zrUhEcp4PEk0"
      },
      "execution_count": 8,
      "outputs": []
    },
    {
      "cell_type": "markdown",
      "source": [
        "### Build and train a model"
      ],
      "metadata": {
        "id": "d2a4pCYdEwI7"
      }
    },
    {
      "cell_type": "code",
      "execution_count": 9,
      "metadata": {
        "id": "Uhxr8py4DkDN"
      },
      "outputs": [],
      "source": [
        "model = tf.keras.Sequential([\n",
        "    tf.keras.layers.Flatten(input_shape=(32, 32)),\n",
        "    tf.keras.layers.Dense(128, activation='relu'),\n",
        "    tf.keras.layers.Dense(30)\n",
        "])\n",
        "\n",
        "model.compile(optimizer=tf.keras.optimizers.RMSprop(),\n",
        "              loss=tf.keras.losses.SparseCategoricalCrossentropy(from_logits=True),\n",
        "              metrics=['sparse_categorical_accuracy'])"
      ]
    },
    {
      "cell_type": "code",
      "execution_count": 10,
      "metadata": {
        "id": "XLDzlPGgOHBx",
        "colab": {
          "base_uri": "https://localhost:8080/"
        },
        "outputId": "bb15bb67-ab25-4a05-b1cd-124b6da1c562"
      },
      "outputs": [
        {
          "output_type": "stream",
          "name": "stdout",
          "text": [
            "Epoch 1/10\n",
            "294/294 [==============================] - 2s 5ms/step - loss: 2.3722 - sparse_categorical_accuracy: 0.3574\n",
            "Epoch 2/10\n",
            "294/294 [==============================] - 2s 6ms/step - loss: 1.2255 - sparse_categorical_accuracy: 0.7086\n",
            "Epoch 3/10\n",
            "294/294 [==============================] - 2s 5ms/step - loss: 0.7430 - sparse_categorical_accuracy: 0.8321\n",
            "Epoch 4/10\n",
            "294/294 [==============================] - 2s 5ms/step - loss: 0.4934 - sparse_categorical_accuracy: 0.8942\n",
            "Epoch 5/10\n",
            "294/294 [==============================] - 2s 5ms/step - loss: 0.3568 - sparse_categorical_accuracy: 0.9219\n",
            "Epoch 6/10\n",
            "294/294 [==============================] - 2s 6ms/step - loss: 0.2699 - sparse_categorical_accuracy: 0.9424\n",
            "Epoch 7/10\n",
            "294/294 [==============================] - 2s 6ms/step - loss: 0.2119 - sparse_categorical_accuracy: 0.9539\n",
            "Epoch 8/10\n",
            "294/294 [==============================] - 2s 5ms/step - loss: 0.1732 - sparse_categorical_accuracy: 0.9613\n",
            "Epoch 9/10\n",
            "294/294 [==============================] - 1s 4ms/step - loss: 0.1434 - sparse_categorical_accuracy: 0.9702\n",
            "Epoch 10/10\n",
            "294/294 [==============================] - 1s 3ms/step - loss: 0.1232 - sparse_categorical_accuracy: 0.9729\n"
          ]
        },
        {
          "output_type": "execute_result",
          "data": {
            "text/plain": [
              "<keras.callbacks.History at 0x7fb5af4c7850>"
            ]
          },
          "metadata": {},
          "execution_count": 10
        }
      ],
      "source": [
        "model.fit(train_dataset, epochs=10)"
      ]
    },
    {
      "cell_type": "code",
      "execution_count": 11,
      "metadata": {
        "id": "2q82yN8mmKIE",
        "colab": {
          "base_uri": "https://localhost:8080/"
        },
        "outputId": "a55827bf-1b71-497e-fca0-a85b04ce38f9"
      },
      "outputs": [
        {
          "output_type": "stream",
          "name": "stdout",
          "text": [
            "80/80 [==============================] - 0s 2ms/step - loss: 0.2392 - sparse_categorical_accuracy: 0.9259\n"
          ]
        },
        {
          "output_type": "execute_result",
          "data": {
            "text/plain": [
              "[0.2391829788684845, 0.9258749485015869]"
            ]
          },
          "metadata": {},
          "execution_count": 11
        }
      ],
      "source": [
        "model.evaluate(validation_dataset)"
      ]
    },
    {
      "cell_type": "code",
      "source": [
        ""
      ],
      "metadata": {
        "id": "2OdDqPX6UWZr"
      },
      "execution_count": 11,
      "outputs": []
    }
  ]
}