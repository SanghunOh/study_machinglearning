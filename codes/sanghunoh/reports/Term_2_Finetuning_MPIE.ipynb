{
  "nbformat": 4,
  "nbformat_minor": 0,
  "metadata": {
    "colab": {
      "name": "Term_2_Finetuning_MPIE.ipynb",
      "provenance": [],
      "collapsed_sections": [],
      "mount_file_id": "https://github.com/SanghunOh/study_machinglearning/blob/main/codes/sanghunoh/reports/Term_2_CNN_MPIE.ipynb",
      "authorship_tag": "ABX9TyOVc4Cf29WrFr+H3225eIFn",
      "include_colab_link": true
    },
    "kernelspec": {
      "name": "python3",
      "display_name": "Python 3"
    },
    "language_info": {
      "name": "python"
    }
  },
  "cells": [
    {
      "cell_type": "markdown",
      "metadata": {
        "id": "view-in-github",
        "colab_type": "text"
      },
      "source": [
        "<a href=\"https://colab.research.google.com/github/SanghunOh/study_machinglearning/blob/main/codes/sanghunoh/reports/Term_2_Finetuning_MPIE.ipynb\" target=\"_parent\"><img src=\"https://colab.research.google.com/assets/colab-badge.svg\" alt=\"Open In Colab\"/></a>"
      ]
    },
    {
      "cell_type": "markdown",
      "source": [
        "from https://colab.research.google.com/github/tensorflow/docs/blob/master/site/en/tutorials/images/transfer_learning.ipynb?force_kitty_mode=1&force_corgi_mode=1#scrollTo=Wv4afXKj6cVa"
      ],
      "metadata": {
        "id": "ELXUwKUWSuwK"
      }
    },
    {
      "cell_type": "markdown",
      "source": [
        "##Connect Drive"
      ],
      "metadata": {
        "id": "brb_gNSQ-Tyg"
      }
    },
    {
      "cell_type": "code",
      "source": [
        "from google.colab import drive\n",
        "drive.mount('/content/drive')"
      ],
      "metadata": {
        "id": "foY3SJ1joaVf",
        "outputId": "c56c48cb-b639-4dc2-b9c3-831e126c980c",
        "colab": {
          "base_uri": "https://localhost:8080/"
        }
      },
      "execution_count": 1,
      "outputs": [
        {
          "output_type": "stream",
          "name": "stdout",
          "text": [
            "Mounted at /content/drive\n"
          ]
        }
      ]
    },
    {
      "cell_type": "code",
      "execution_count": 2,
      "metadata": {
        "colab": {
          "base_uri": "https://localhost:8080/"
        },
        "id": "2zl8YlT9398C",
        "outputId": "00bca1b0-c91a-4efb-ea28-cc05fc268ae9"
      },
      "outputs": [
        {
          "output_type": "stream",
          "name": "stdout",
          "text": [
            "/content/drive/.shortcut-targets-by-id/1tHYgEz3lQF-LmtFPXRgMBDh4UN54qeAs/datas\n"
          ]
        }
      ],
      "source": [
        "path_root = '/content/drive/MyDrive/datas/'\n",
        "\n",
        "# 작업 경로 설정\n",
        "import os\n",
        "os.chdir(path_root)\n",
        "!pwd"
      ]
    },
    {
      "cell_type": "code",
      "source": [
        "# !unzip -o ./mpie_30_shuffle.zip -d ./mpie_30_shuffle"
      ],
      "metadata": {
        "id": "q_zK6dD69lx7"
      },
      "execution_count": 3,
      "outputs": []
    },
    {
      "cell_type": "code",
      "source": [
        "!ls"
      ],
      "metadata": {
        "colab": {
          "base_uri": "https://localhost:8080/"
        },
        "id": "mXG7KRQz-Nax",
        "outputId": "066ee6b4-9df8-4df4-ef9b-96f1e283fab6"
      },
      "execution_count": 4,
      "outputs": [
        {
          "output_type": "stream",
          "name": "stdout",
          "text": [
            "dataCh4_7.mat  digitimages_binary.zip  iris.zip\t\t\tmpie_30_shuffle\n",
            "dataCh4_7.zip  iris_shuffle.mat        matlab_iris_shuffle.mat\n"
          ]
        }
      ]
    },
    {
      "cell_type": "markdown",
      "source": [
        "##Load Dataset"
      ],
      "metadata": {
        "id": "qLUE0VPqLewv"
      }
    },
    {
      "cell_type": "code",
      "source": [
        "from keras.backend import reshape\n",
        "path = path_root + 'mpie_30_shuffle/'\n",
        "\n",
        "def loadDatasetFromCSV(_datafilename, _labelfilename, label_column, rgb_expand=False):\n",
        "  _feature_csv = pd.read_csv(path + _datafilename, dtype=np.float32, header=None) # image features of train data\n",
        "  _feature_flatten = _feature_csv.values.flatten()\n",
        "\n",
        "  _feature_reshape = np.reshape(_feature_flatten, (_feature_csv.shape[0], 32, 32))\n",
        "  if rgb_expand:\n",
        "    _feature_reshape = np.repeat(_feature_reshape[..., np.newaxis], 3, -1)    \n",
        "  print(_feature_reshape.shape)\n",
        "  _label_csv = pd.read_csv(path + _labelfilename, dtype=np.float32, header=None) # labels of train data\n",
        "  # print(f'_label_csv : {_label_csv.shape}')\n",
        "  _label = _label_csv[label_column] # get label you want\n",
        "\n",
        "  return _feature_reshape, _label"
      ],
      "metadata": {
        "id": "wzRrppGEyLWD"
      },
      "execution_count": 5,
      "outputs": []
    },
    {
      "cell_type": "code",
      "source": [
        "import pandas as pd\n",
        "import numpy as np\n",
        "\n",
        "\n",
        "# train\n",
        "train_feature_rgb, train_label = loadDatasetFromCSV('Traindata.csv', 'Trainlabel.csv', 0, rgb_expand=True)\n",
        "# test\n",
        "validation_feature_rgb, validation_label = loadDatasetFromCSV('Testdata.csv', 'Testlabel.csv', 0, rgb_expand=True)\n",
        "\n",
        "train_feature_rgb.shape, train_label.shape, validation_feature_rgb.shape, validation_label.shape"
      ],
      "metadata": {
        "id": "bLAz9qj1LwGC",
        "colab": {
          "base_uri": "https://localhost:8080/"
        },
        "outputId": "1ffc82e3-2080-426f-85d3-1d62b0b56ddb"
      },
      "execution_count": 6,
      "outputs": [
        {
          "output_type": "stream",
          "name": "stdout",
          "text": [
            "(18777, 32, 32, 3)\n",
            "(5086, 32, 32, 3)\n"
          ]
        },
        {
          "output_type": "execute_result",
          "data": {
            "text/plain": [
              "((18777, 32, 32, 3), (18777,), (5086, 32, 32, 3), (5086,))"
            ]
          },
          "metadata": {},
          "execution_count": 6
        }
      ]
    },
    {
      "cell_type": "code",
      "source": [
        "# np.unique(train_label)"
      ],
      "metadata": {
        "id": "m5ckZH8cYAcL"
      },
      "execution_count": 7,
      "outputs": []
    },
    {
      "cell_type": "code",
      "execution_count": 8,
      "metadata": {
        "id": "GjUDklviz51u"
      },
      "outputs": [],
      "source": [
        "import tensorflow as tf\n",
        "\n",
        "def preprocessDataset(features_reshape, labels, normalization=False, batch_size=64, shuffle_buffer_size=100):\n",
        "  _batch_size = batch_size\n",
        "  _shuffle_buffer_size = shuffle_buffer_size\n",
        "\n",
        "  normal_value = 1\n",
        "  if normalization:\n",
        "    normal_value = 255\n",
        "  _features = features_reshape / normal_value\n",
        "  _labels = labels\n",
        "  _dataset_tensors = tf.data.Dataset.from_tensor_slices((_features, _labels))\n",
        "\n",
        "  if _shuffle_buffer_size == None:\n",
        "    _dataset_tensors = _dataset_tensors.batch(_batch_size)\n",
        "  else :\n",
        "    _dataset_tensors = _dataset_tensors.shuffle(_shuffle_buffer_size).batch(_batch_size)\n",
        "\n",
        "  return _dataset_tensors"
      ]
    },
    {
      "cell_type": "code",
      "source": [
        "# batch size\n",
        "train_label_length = len(train_label)\n",
        "print(train_label_length)\n",
        "batch_size = int(train_label_length / (train_label_length/9))\n",
        "\n",
        "train_dataset_rgb = preprocessDataset(train_feature_rgb, train_label, batch_size=batch_size)\n",
        "train_dataset_rgb"
      ],
      "metadata": {
        "id": "b0iSCMgGOjCp",
        "colab": {
          "base_uri": "https://localhost:8080/"
        },
        "outputId": "2243bbd8-97a7-4543-aa17-ac281953e5ab"
      },
      "execution_count": 9,
      "outputs": [
        {
          "output_type": "stream",
          "name": "stdout",
          "text": [
            "18777\n"
          ]
        },
        {
          "output_type": "execute_result",
          "data": {
            "text/plain": [
              "<BatchDataset element_spec=(TensorSpec(shape=(None, 32, 32, 3), dtype=tf.float32, name=None), TensorSpec(shape=(None,), dtype=tf.float32, name=None))>"
            ]
          },
          "metadata": {},
          "execution_count": 9
        }
      ]
    },
    {
      "cell_type": "code",
      "source": [
        "# train_dataset_rgb?\n",
        "# train_dataset_rgb.element_spec\n",
        "train_dataset_rgb.element_spec"
      ],
      "metadata": {
        "id": "7CJbD5hHSYCU",
        "outputId": "c0ea754d-6d7a-4219-86f8-eb7bc94751d0",
        "colab": {
          "base_uri": "https://localhost:8080/"
        }
      },
      "execution_count": 10,
      "outputs": [
        {
          "output_type": "execute_result",
          "data": {
            "text/plain": [
              "(TensorSpec(shape=(None, 32, 32, 3), dtype=tf.float32, name=None),\n",
              " TensorSpec(shape=(None,), dtype=tf.float32, name=None))"
            ]
          },
          "metadata": {},
          "execution_count": 10
        }
      ]
    },
    {
      "cell_type": "code",
      "source": [
        "import matplotlib.pyplot as plt\n",
        "\n",
        "plt.figure(figsize=(10, 10))\n",
        "for images, labels in train_dataset_rgb.take(1):\n",
        "  batch_count = labels.shape[0]\n",
        "  rows_cols = int(np.sqrt(batch_count))\n",
        "  print(batch_count, rows_cols)\n",
        "  for i in range(batch_count):\n",
        "    ax = plt.subplot(rows_cols, rows_cols, i + 1)\n",
        "    plt.imshow(images[i].numpy(), cmap='gray')\n",
        "    plt.title(int(labels[i].numpy()))\n",
        "    plt.axis(\"off\")"
      ],
      "metadata": {
        "id": "WjIC9BwIpJyW",
        "outputId": "2630787d-f8d0-44a4-d0cc-d7aacea0d6f2",
        "colab": {
          "base_uri": "https://localhost:8080/",
          "height": 609
        }
      },
      "execution_count": 11,
      "outputs": [
        {
          "output_type": "stream",
          "name": "stdout",
          "text": [
            "9 3\n"
          ]
        },
        {
          "output_type": "display_data",
          "data": {
            "text/plain": [
              "<Figure size 720x720 with 9 Axes>"
            ],
            "image/png": "[encoded data removed]"
          },
          "metadata": {
            "needs_background": "light"
          }
        }
      ]
    },
    {
      "cell_type": "markdown",
      "source": [
        "## Use data augmentation"
      ],
      "metadata": {
        "id": "EEqyi-CZn1jr"
      }
    },
    {
      "cell_type": "code",
      "source": [
        "data_augmentation = tf.keras.Sequential([\n",
        "  tf.keras.layers.RandomFlip('horizontal'),\n",
        "  tf.keras.layers.RandomRotation(0.2),\n",
        "  tf.keras.layers.Resizing(height=96,width=96)\n",
        "])"
      ],
      "metadata": {
        "id": "Sse8GvsH0Rlg"
      },
      "execution_count": 12,
      "outputs": []
    },
    {
      "cell_type": "code",
      "source": [
        "plt.figure(figsize=(10, 10))\n",
        "for image, _ in train_dataset_rgb.take(1):\n",
        "  first_image = image[0]\n",
        "  batch_count = 16\n",
        "  rows_cols = int(np.sqrt(batch_count))\n",
        "  for i in range(batch_count):\n",
        "    augmented_image = data_augmentation(tf.expand_dims(first_image, 0))\n",
        "    print(f'{type(augmented_image[0].numpy().shape)}, {augmented_image[0].numpy().shape}')\n",
        "    ax = plt.subplot(rows_cols, rows_cols, i + 1)\n",
        "    plt.imshow(augmented_image[0], cmap='gray')\n",
        "    plt.axis('off')"
      ],
      "metadata": {
        "id": "84zvlwGy0USD",
        "outputId": "0fdee255-624d-4fe1-f3f1-c377d8c7c659",
        "colab": {
          "base_uri": "https://localhost:8080/",
          "height": 861
        }
      },
      "execution_count": 13,
      "outputs": [
        {
          "output_type": "stream",
          "name": "stdout",
          "text": [
            "<class 'tuple'>, (96, 96, 3)\n",
            "<class 'tuple'>, (96, 96, 3)\n",
            "<class 'tuple'>, (96, 96, 3)\n",
            "<class 'tuple'>, (96, 96, 3)\n",
            "<class 'tuple'>, (96, 96, 3)\n",
            "<class 'tuple'>, (96, 96, 3)\n",
            "<class 'tuple'>, (96, 96, 3)\n",
            "<class 'tuple'>, (96, 96, 3)\n",
            "<class 'tuple'>, (96, 96, 3)\n",
            "<class 'tuple'>, (96, 96, 3)\n",
            "<class 'tuple'>, (96, 96, 3)\n",
            "<class 'tuple'>, (96, 96, 3)\n",
            "<class 'tuple'>, (96, 96, 3)\n",
            "<class 'tuple'>, (96, 96, 3)\n",
            "<class 'tuple'>, (96, 96, 3)\n",
            "<class 'tuple'>, (96, 96, 3)\n"
          ]
        },
        {
          "output_type": "display_data",
          "data": {
            "text/plain": [
              "<Figure size 720x720 with 16 Axes>"
            ],
            "image/png": "[encoded data removed]"
          },
          "metadata": {
            "needs_background": "light"
          }
        }
      ]
    },
    {
      "cell_type": "markdown",
      "source": [
        "##check pre-trained model"
      ],
      "metadata": {
        "id": "-feC6g_D2FpW"
      }
    },
    {
      "cell_type": "code",
      "source": [
        "# train_dataset_rgb.shape[1:]"
      ],
      "metadata": {
        "id": "Z-_ZAI0Z2z0y"
      },
      "execution_count": 14,
      "outputs": []
    },
    {
      "cell_type": "code",
      "source": [
        "class_count = len(train_label.unique())\n",
        "class_count"
      ],
      "metadata": {
        "id": "9g3ot7K9Rd06",
        "outputId": "c2ae0d36-b8ed-4d93-dee4-3b1080326a47",
        "colab": {
          "base_uri": "https://localhost:8080/"
        }
      },
      "execution_count": 15,
      "outputs": [
        {
          "output_type": "execute_result",
          "data": {
            "text/plain": [
              "30"
            ]
          },
          "metadata": {},
          "execution_count": 15
        }
      ]
    },
    {
      "cell_type": "code",
      "source": [
        "from  tensorflow.keras import layers\n",
        "\n",
        "trained_model = tf.keras.applications.MobileNetV2(input_shape=(96,96,3),\n",
        "                                               include_top=False,\n",
        "                                               weights='imagenet')\n",
        "# trained_model.summary()"
      ],
      "metadata": {
        "colab": {
          "base_uri": "https://localhost:8080/"
        },
        "id": "Uzjr5yEFWJzQ",
        "outputId": "260b3688-84c4-4fae-f425-d85fd5ec44ca"
      },
      "execution_count": 16,
      "outputs": [
        {
          "output_type": "stream",
          "name": "stdout",
          "text": [
            "Downloading data from https://storage.googleapis.com/tensorflow/keras-applications/mobilenet_v2/mobilenet_v2_weights_tf_dim_ordering_tf_kernels_1.0_96_no_top.h5\n",
            "9412608/9406464 [==============================] - 0s 0us/step\n",
            "9420800/9406464 [==============================] - 0s 0us/step\n"
          ]
        }
      ]
    },
    {
      "cell_type": "code",
      "source": [
        "trained_model.trainable = True\n",
        "fine_tune_at = int((1 - 0.1) * len(trained_model.layers))\n",
        "for layer in trained_model.layers[:fine_tune_at]:\n",
        "  layer.trainable = False\n",
        "  # print(layer.name)\n",
        "len(trained_model.trainable_variables)"
      ],
      "metadata": {
        "colab": {
          "base_uri": "https://localhost:8080/"
        },
        "id": "vGo3nRk3qISO",
        "outputId": "57c247b6-8107-4877-a5a6-367640201426"
      },
      "execution_count": 17,
      "outputs": [
        {
          "output_type": "execute_result",
          "data": {
            "text/plain": [
              "17"
            ]
          },
          "metadata": {},
          "execution_count": 17
        }
      ]
    },
    {
      "cell_type": "code",
      "source": [
        "int((1 - 0.1) * len(trained_model.layers))"
      ],
      "metadata": {
        "colab": {
          "base_uri": "https://localhost:8080/"
        },
        "id": "pIkczPfcvMAh",
        "outputId": "1125025e-720e-4434-f75e-f3daacac6738"
      },
      "execution_count": 18,
      "outputs": [
        {
          "output_type": "execute_result",
          "data": {
            "text/plain": [
              "138"
            ]
          },
          "metadata": {},
          "execution_count": 18
        }
      ]
    },
    {
      "cell_type": "code",
      "source": [
        "trained_model.output    # without classfication layers"
      ],
      "metadata": {
        "colab": {
          "base_uri": "https://localhost:8080/"
        },
        "id": "xJWagignS7xb",
        "outputId": "4eea80e3-e149-4d70-d938-b64444d36833"
      },
      "execution_count": 19,
      "outputs": [
        {
          "output_type": "execute_result",
          "data": {
            "text/plain": [
              "<KerasTensor: shape=(None, 3, 3, 1280) dtype=float32 (created by layer 'out_relu')>"
            ]
          },
          "metadata": {},
          "execution_count": 19
        }
      ]
    },
    {
      "cell_type": "code",
      "source": [
        "trained_model.trainable = False\n",
        "# trained_model.summary()"
      ],
      "metadata": {
        "id": "UuxVfjyQRyXe"
      },
      "execution_count": 20,
      "outputs": []
    },
    {
      "cell_type": "markdown",
      "source": [
        "##make model from pre-trained model"
      ],
      "metadata": {
        "id": "EdYoDXzxOfX7"
      }
    },
    {
      "cell_type": "code",
      "source": [
        "image_shape = train_feature_rgb.shape[1:]\n",
        "print(image_shape)"
      ],
      "metadata": {
        "colab": {
          "base_uri": "https://localhost:8080/"
        },
        "id": "sKceRufmlfoc",
        "outputId": "593c4c49-a8ef-4722-a1ec-2be519e4320b"
      },
      "execution_count": 21,
      "outputs": [
        {
          "output_type": "stream",
          "name": "stdout",
          "text": [
            "(32, 32, 3)\n"
          ]
        }
      ]
    },
    {
      "cell_type": "code",
      "source": [
        "import tensorflow as tf\n",
        "from tensorflow.keras import layers\n",
        "\n",
        "# Create the base model from the pre-trained models\n",
        "def make_model(_class_cnt, _learning_rate=0.0001,_logits_flag=True, fine_tune_at=0.0\n",
        "               , trained_model_name ='MobileNetV2', epochs=2, label_class=0):\n",
        "\n",
        "  if trained_model_name == 'MobileNetV2':\n",
        "    _trained_model = tf.keras.applications.MobileNetV2(input_shape=(96,96,3),\n",
        "                                               include_top=False,\n",
        "                                               weights='imagenet')\n",
        "\n",
        "  inputs = layers.Input(shape=(32,32,3), name='custom_input')\n",
        "  augment_input = data_augmentation(inputs)\n",
        "  add_layer = _trained_model(augment_input, training=False)\n",
        "  add_layer = tf.keras.layers.GlobalAveragePooling2D()(add_layer)\n",
        "  add_layer = tf.keras.layers.Dropout(0.2)(add_layer)\n",
        "  outputs = tf.keras.layers.Dense(_class_cnt)(add_layer)\n",
        "  _model = tf.keras.Model(inputs, outputs)\n",
        "\n",
        "  _model.compile(optimizer=tf.keras.optimizers.Adam(learning_rate=_learning_rate),\n",
        "              loss=tf.keras.losses.SparseCategoricalCrossentropy(from_logits=_logits_flag),\n",
        "              metrics=['accuracy'])\n",
        "\n",
        "  _trained_model.trainable = True\n",
        "  fine_tune_at = int((1 - 0.1) * len(_trained_model.layers))\n",
        "  for layer in _trained_model.layers[:fine_tune_at]:\n",
        "    layer.trainable = False\n",
        "    # print(layer.name)\n",
        "  # len(trained_model.trainable_variables)\n",
        "  return _model\n"
      ],
      "metadata": {
        "id": "SJYcVF9w2FVk"
      },
      "execution_count": 22,
      "outputs": []
    },
    {
      "cell_type": "code",
      "source": [
        "model = make_model(2,fine_tune_at=0.1)\n",
        "# model.summary()\n",
        "len(model.trainable_variables)"
      ],
      "metadata": {
        "colab": {
          "base_uri": "https://localhost:8080/"
        },
        "id": "CcTewQRyal2y",
        "outputId": "9ac7d01d-7f92-414e-ccea-d2b016a53ddd"
      },
      "execution_count": 23,
      "outputs": [
        {
          "output_type": "execute_result",
          "data": {
            "text/plain": [
              "19"
            ]
          },
          "metadata": {},
          "execution_count": 23
        }
      ]
    },
    {
      "cell_type": "code",
      "source": [
        "validation_dataset = preprocessDataset(validation_feature_rgb, validation_label, batch_size=batch_size, shuffle_buffer_size=None)\n",
        "validation_dataset"
      ],
      "metadata": {
        "id": "zrUhEcp4PEk0",
        "colab": {
          "base_uri": "https://localhost:8080/"
        },
        "outputId": "eddb6b6a-9f3e-47dd-d483-33e7222565cf"
      },
      "execution_count": 24,
      "outputs": [
        {
          "output_type": "execute_result",
          "data": {
            "text/plain": [
              "<BatchDataset element_spec=(TensorSpec(shape=(None, 32, 32, 3), dtype=tf.float32, name=None), TensorSpec(shape=(None,), dtype=tf.float32, name=None))>"
            ]
          },
          "metadata": {},
          "execution_count": 24
        }
      ]
    },
    {
      "cell_type": "markdown",
      "source": [
        "##callback function for fit time"
      ],
      "metadata": {
        "id": "69PhSLjqmI8M"
      }
    },
    {
      "cell_type": "code",
      "source": [
        "import time\n",
        "\n",
        "class TimeHistory(tf.keras.callbacks.Callback):\n",
        "    def on_train_begin(self, logs={}):\n",
        "        self.times = []\n",
        "\n",
        "    def on_epoch_begin(self, epoch, logs={}):\n",
        "        self.epoch_time_start = time.time()\n",
        "\n",
        "    def on_epoch_end(self, epoch, logs={}):\n",
        "        self.times.append(time.time() - self.epoch_time_start)\n",
        "TimeHistory()"
      ],
      "metadata": {
        "id": "-r_M426PmP5P",
        "colab": {
          "base_uri": "https://localhost:8080/"
        },
        "outputId": "a40e513f-a846-4c91-b92a-86258c7b3ac3"
      },
      "execution_count": 25,
      "outputs": [
        {
          "output_type": "execute_result",
          "data": {
            "text/plain": [
              "<__main__.TimeHistory at 0x7f1536d57a50>"
            ]
          },
          "metadata": {},
          "execution_count": 25
        }
      ]
    },
    {
      "cell_type": "markdown",
      "source": [
        "## fit model"
      ],
      "metadata": {
        "id": "1E1Fdq6pnRAe"
      }
    },
    {
      "cell_type": "code",
      "source": [
        "rows_length = train_feature_rgb.shape[0]\n",
        "# steps_per_epoch = int(rows_length / (rows_length))\n",
        "steps_per_epoch = int(rows_length / (rows_length/5))\n",
        "\n",
        "def model_fit(_param, _train_dataset, _validation_dataset):\n",
        "  tf.keras.backend.clear_session()\n",
        "\n",
        "  _model = make_model(**_param)\n",
        "  time_callback = TimeHistory()\n",
        "  _history = _model.fit(_train_dataset, epochs=_param['epochs'], validation_data=_validation_dataset\n",
        "                      , callbacks=[time_callback], steps_per_epoch=steps_per_epoch)\n",
        "  _execution_time = sum(time_callback.times)\n",
        "  return _model, _history, _execution_time, _param"
      ],
      "metadata": {
        "id": "bNVwwpiExuY5"
      },
      "execution_count": 26,
      "outputs": []
    },
    {
      "cell_type": "code",
      "source": [
        "label_class = 0\n",
        "# train\n",
        "train_feature_rgb, train_label = loadDatasetFromCSV('Traindata.csv', 'Trainlabel.csv', label_class, rgb_expand=True)\n",
        "class_cnt = len(np.unique(train_label))\n",
        "# test\n",
        "validation_feature_rgb, validation_label = loadDatasetFromCSV('Testdata.csv', 'Testlabel.csv', label_class, rgb_expand=True)\n",
        "\n",
        "train_dataset_rgb = preprocessDataset(train_feature_rgb, train_label)\n",
        "validation_dataset = preprocessDataset(validation_feature_rgb, validation_label, shuffle_buffer_size=None)\n",
        "\n",
        "param = {'_class_cnt':class_cnt, '_learning_rate':0.0001,'_logits_flag':True, 'fine_tune_at':0.0\n",
        "         , 'trained_model_name':'MobileNetV2', 'epochs':2, 'label_class':0}\n",
        "\n",
        "model_fit(param, train_dataset_rgb, validation_dataset)"
      ],
      "metadata": {
        "id": "kU1uwqf8NyEt",
        "colab": {
          "base_uri": "https://localhost:8080/"
        },
        "outputId": "9637ff44-4d28-4f81-b17f-c25a11ec7dbf"
      },
      "execution_count": 27,
      "outputs": [
        {
          "output_type": "stream",
          "name": "stdout",
          "text": [
            "(18777, 32, 32, 3)\n",
            "(5086, 32, 32, 3)\n",
            "Epoch 1/2\n",
            "5/5 [==============================] - 42s 9s/step - loss: 3.5948 - accuracy: 0.0469 - val_loss: 3.4068 - val_accuracy: 0.0480\n",
            "Epoch 2/2\n",
            "5/5 [==============================] - 33s 8s/step - loss: 3.4065 - accuracy: 0.0437 - val_loss: 3.4127 - val_accuracy: 0.0358\n"
          ]
        },
        {
          "output_type": "execute_result",
          "data": {
            "text/plain": [
              "(<keras.engine.functional.Functional at 0x7f15369a5f50>,\n",
              " <keras.callbacks.History at 0x7f1536cf8e50>,\n",
              " 74.25827503204346,\n",
              " {'_class_cnt': 30,\n",
              "  '_learning_rate': 0.0001,\n",
              "  '_logits_flag': True,\n",
              "  'epochs': 2,\n",
              "  'fine_tune_at': 0.0,\n",
              "  'label_class': 0,\n",
              "  'trained_model_name': 'MobileNetV2'})"
            ]
          },
          "metadata": {},
          "execution_count": 27
        }
      ]
    },
    {
      "cell_type": "markdown",
      "source": [
        "## fit with multi params"
      ],
      "metadata": {
        "id": "6NzJoF7tx9Jv"
      }
    },
    {
      "cell_type": "code",
      "source": [
        "param = {'_class_cnt':class_cnt, '_learning_rate':0.0001,'_logits_flag':True, 'fine_tune_at':0.0\n",
        "         , 'trained_model_name':'MobileNetV2', 'epochs':2, 'label_class':0}"
      ],
      "metadata": {
        "id": "2rWo9r9qQhWS"
      },
      "execution_count": 28,
      "outputs": []
    },
    {
      "cell_type": "code",
      "source": [
        "# param 6\n",
        "params = list()\n",
        "param_key_list = list(param.keys())\n",
        "epochs_list = [10]\n",
        "_learning_rate_list = [0.0001, 0.01]\n",
        "_logits_flag_list = [True, False]\n",
        "fine_tune_at_list = [0.0, 0.1]\n",
        "\n",
        "for _learning_rate in _learning_rate_list:\n",
        "  for _logits_flag in _logits_flag_list:\n",
        "    for fine_tune_at in fine_tune_at_list:\n",
        "      for epochs in epochs_list:\n",
        "        param_dict = dict()\n",
        "        param_dict['_learning_rate'] = _learning_rate\n",
        "        param_dict['_logits_flag'] = _logits_flag\n",
        "        param_dict['fine_tune_at'] = fine_tune_at\n",
        "        param_dict['epochs'] = epochs\n",
        "        # print(param_dict)\n",
        "        params.append(param_dict)\n",
        "len(params)"
      ],
      "metadata": {
        "id": "Qv6FmRH5RJFK",
        "colab": {
          "base_uri": "https://localhost:8080/"
        },
        "outputId": "3e2524f1-079a-40e9-dbd0-b79bb9f3fd63"
      },
      "execution_count": 29,
      "outputs": [
        {
          "output_type": "execute_result",
          "data": {
            "text/plain": [
              "8"
            ]
          },
          "metadata": {},
          "execution_count": 29
        }
      ]
    },
    {
      "cell_type": "code",
      "source": [
        "from datetime import datetime\n",
        "\n",
        "# datetime object containing current date and time\n",
        "now = datetime.now()\n",
        " \n",
        "print(\"now =\", now)\n",
        "\n",
        "# dd/mm/YY H:M:S\n",
        "dt_string = now.strftime(\"%Y%m%d%H%M\")\n",
        "print(\"date and time =\", dt_string)\n",
        "\n",
        "import pickle"
      ],
      "metadata": {
        "id": "9TTq4ChAI015",
        "colab": {
          "base_uri": "https://localhost:8080/"
        },
        "outputId": "1d30696a-fbf6-4a82-f788-92742968dc1d"
      },
      "execution_count": 30,
      "outputs": [
        {
          "output_type": "stream",
          "name": "stdout",
          "text": [
            "now = 2022-05-30 15:19:40.881770\n",
            "date and time = 202205301519\n"
          ]
        }
      ]
    },
    {
      "cell_type": "code",
      "source": [
        "# params = params[5:7]\n",
        "label_classes = [1, 2, 4]\n",
        "results_list = list()\n",
        "for label_class in label_classes:\n",
        "  train_feature_rgb, train_label = loadDatasetFromCSV('Traindata.csv', 'Trainlabel.csv', label_class, rgb_expand=True)\n",
        "  class_cnt = len(np.unique(train_label))\n",
        "  # test\n",
        "  validation_feature_rgb, validation_label = loadDatasetFromCSV('Testdata.csv', 'Testlabel.csv', label_class, rgb_expand=True)\n",
        "\n",
        "  train_dataset_rgb = preprocessDataset(train_feature_rgb, train_label)\n",
        "  validation_dataset = preprocessDataset(validation_feature_rgb, validation_label, shuffle_buffer_size=None)\n",
        "\n",
        "  results = list()          \n",
        "  for idx, param in enumerate(params):\n",
        "    param['_class_cnt'] = class_cnt\n",
        "    param['label_class'] = label_class\n",
        "    print('-'*5 +'[ '+ str(idx) + ' ]'+ '-'*5 + str(param))\n",
        "    results.append(model_fit(param, train_dataset_rgb, validation_dataset))\n",
        "  # save\n",
        "  with open(f'results_Finetuning_label_{label_class}_{dt_string}.pickle', 'wb') as f:\n",
        "    pickle.dump(results, f, pickle.HIGHEST_PROTOCOL)\n",
        "  results_list = results_list + results\n"
      ],
      "metadata": {
        "id": "i1Tnuhc2x5eH",
        "colab": {
          "base_uri": "https://localhost:8080/"
        },
        "outputId": "08416473-4e54-4b41-a95e-304b07334d39"
      },
      "execution_count": 31,
      "outputs": [
        {
          "output_type": "stream",
          "name": "stdout",
          "text": [
            "(18777, 32, 32, 3)\n",
            "(5086, 32, 32, 3)\n",
            "-----[ 0 ]-----{'_learning_rate': 0.0001, '_logits_flag': True, 'fine_tune_at': 0.0, 'epochs': 10, '_class_cnt': 6, 'label_class': 1}\n",
            "Epoch 1/10\n",
            "5/5 [==============================] - 39s 8s/step - loss: 1.9096 - accuracy: 0.4125 - val_loss: 1.4568 - val_accuracy: 0.5387\n",
            "Epoch 2/10\n",
            "5/5 [==============================] - 33s 8s/step - loss: 1.4147 - accuracy: 0.5656 - val_loss: 1.4608 - val_accuracy: 0.5387\n",
            "Epoch 3/10\n",
            "5/5 [==============================] - 33s 8s/step - loss: 1.4465 - accuracy: 0.5562 - val_loss: 1.4788 - val_accuracy: 0.5387\n",
            "Epoch 4/10\n",
            "5/5 [==============================] - 33s 8s/step - loss: 1.4485 - accuracy: 0.5625 - val_loss: 1.4661 - val_accuracy: 0.5387\n",
            "Epoch 5/10\n",
            "5/5 [==============================] - 32s 8s/step - loss: 1.4243 - accuracy: 0.5688 - val_loss: 1.4340 - val_accuracy: 0.5387\n",
            "Epoch 6/10\n",
            "5/5 [==============================] - 32s 8s/step - loss: 1.4199 - accuracy: 0.5625 - val_loss: 1.4379 - val_accuracy: 0.5387\n",
            "Epoch 7/10\n",
            "5/5 [==============================] - 32s 8s/step - loss: 1.2889 - accuracy: 0.6375 - val_loss: 1.4887 - val_accuracy: 0.5387\n",
            "Epoch 8/10\n",
            "5/5 [==============================] - 32s 8s/step - loss: 1.3401 - accuracy: 0.5969 - val_loss: 1.4347 - val_accuracy: 0.5387\n",
            "Epoch 9/10\n",
            "5/5 [==============================] - 32s 8s/step - loss: 1.4705 - accuracy: 0.5312 - val_loss: 1.4340 - val_accuracy: 0.5387\n",
            "Epoch 10/10\n",
            "5/5 [==============================] - 32s 8s/step - loss: 1.4867 - accuracy: 0.5219 - val_loss: 1.4345 - val_accuracy: 0.5387\n",
            "-----[ 1 ]-----{'_learning_rate': 0.0001, '_logits_flag': True, 'fine_tune_at': 0.1, 'epochs': 10, '_class_cnt': 6, 'label_class': 1}\n",
            "Epoch 1/10\n",
            "5/5 [==============================] - 38s 8s/step - loss: 2.1165 - accuracy: 0.3219 - val_loss: 1.4571 - val_accuracy: 0.5383\n",
            "Epoch 2/10\n",
            "5/5 [==============================] - 32s 8s/step - loss: 1.4246 - accuracy: 0.5656 - val_loss: 1.4525 - val_accuracy: 0.5387\n",
            "Epoch 3/10\n",
            "5/5 [==============================] - 32s 8s/step - loss: 1.3824 - accuracy: 0.5813 - val_loss: 1.4747 - val_accuracy: 0.5387\n",
            "Epoch 4/10\n",
            "5/5 [==============================] - 32s 8s/step - loss: 1.4593 - accuracy: 0.5500 - val_loss: 1.4551 - val_accuracy: 0.5387\n",
            "Epoch 5/10\n",
            "5/5 [==============================] - 32s 8s/step - loss: 1.4643 - accuracy: 0.5500 - val_loss: 1.4401 - val_accuracy: 0.5387\n",
            "Epoch 6/10\n",
            "5/5 [==============================] - 32s 8s/step - loss: 1.3720 - accuracy: 0.5844 - val_loss: 1.4360 - val_accuracy: 0.5387\n",
            "Epoch 7/10\n",
            "5/5 [==============================] - 32s 8s/step - loss: 1.2411 - accuracy: 0.6500 - val_loss: 1.5118 - val_accuracy: 0.5387\n",
            "Epoch 8/10\n",
            "5/5 [==============================] - 32s 8s/step - loss: 1.4013 - accuracy: 0.5813 - val_loss: 1.4615 - val_accuracy: 0.5387\n",
            "Epoch 9/10\n",
            "5/5 [==============================] - 33s 8s/step - loss: 1.4974 - accuracy: 0.5281 - val_loss: 1.4312 - val_accuracy: 0.5387\n",
            "Epoch 10/10\n",
            "5/5 [==============================] - 35s 8s/step - loss: 1.4836 - accuracy: 0.5375 - val_loss: 1.4311 - val_accuracy: 0.5387\n",
            "-----[ 2 ]-----{'_learning_rate': 0.0001, '_logits_flag': False, 'fine_tune_at': 0.0, 'epochs': 10, '_class_cnt': 6, 'label_class': 1}\n",
            "Epoch 1/10\n",
            "5/5 [==============================] - 40s 8s/step - loss: 4.0156 - accuracy: 0.2000 - val_loss: 1.7918 - val_accuracy: 0.0863\n",
            "Epoch 2/10\n",
            "5/5 [==============================] - 34s 8s/step - loss: 1.8719 - accuracy: 0.0875 - val_loss: 1.7918 - val_accuracy: 0.1553\n",
            "Epoch 3/10\n",
            "5/5 [==============================] - 34s 8s/step - loss: 1.7918 - accuracy: 0.2188 - val_loss: 1.7918 - val_accuracy: 0.5043\n",
            "Epoch 4/10\n",
            "5/5 [==============================] - 35s 8s/step - loss: 1.7918 - accuracy: 0.4031 - val_loss: 1.7918 - val_accuracy: 0.5368\n",
            "Epoch 5/10\n",
            "5/5 [==============================] - 34s 8s/step - loss: 1.7862 - accuracy: 0.4375 - val_loss: 1.7918 - val_accuracy: 0.5381\n",
            "Epoch 6/10\n",
            "5/5 [==============================] - 35s 8s/step - loss: 1.7750 - accuracy: 0.4781 - val_loss: 1.7918 - val_accuracy: 0.5385\n",
            "Epoch 7/10\n",
            "5/5 [==============================] - 35s 8s/step - loss: 1.8095 - accuracy: 0.5219 - val_loss: 1.7918 - val_accuracy: 0.5305\n",
            "Epoch 8/10\n",
            "5/5 [==============================] - 34s 8s/step - loss: 1.8301 - accuracy: 0.2375 - val_loss: 1.7918 - val_accuracy: 0.0887\n",
            "Epoch 9/10\n",
            "5/5 [==============================] - 34s 8s/step - loss: 1.7918 - accuracy: 0.1156 - val_loss: 1.7918 - val_accuracy: 0.0883\n",
            "Epoch 10/10\n",
            "5/5 [==============================] - 34s 8s/step - loss: 1.7918 - accuracy: 0.1094 - val_loss: 1.7918 - val_accuracy: 0.0912\n",
            "-----[ 3 ]-----{'_learning_rate': 0.0001, '_logits_flag': False, 'fine_tune_at': 0.1, 'epochs': 10, '_class_cnt': 6, 'label_class': 1}\n",
            "Epoch 1/10\n",
            "5/5 [==============================] - 39s 8s/step - loss: 5.8403 - accuracy: 0.2188 - val_loss: 3.3476 - val_accuracy: 0.1013\n",
            "Epoch 2/10\n",
            "5/5 [==============================] - 33s 8s/step - loss: 3.4175 - accuracy: 0.0969 - val_loss: 4.2445 - val_accuracy: 0.1009\n",
            "Epoch 3/10\n",
            "5/5 [==============================] - 33s 8s/step - loss: 4.2509 - accuracy: 0.1156 - val_loss: 5.3928 - val_accuracy: 0.1009\n",
            "Epoch 4/10\n",
            "5/5 [==============================] - 33s 8s/step - loss: 4.6525 - accuracy: 0.1187 - val_loss: 4.1783 - val_accuracy: 0.1009\n",
            "Epoch 5/10\n",
            "5/5 [==============================] - 33s 8s/step - loss: 4.2159 - accuracy: 0.0938 - val_loss: 4.1783 - val_accuracy: 0.1009\n",
            "Epoch 6/10\n",
            "5/5 [==============================] - 33s 8s/step - loss: 3.7562 - accuracy: 0.0750 - val_loss: 4.1783 - val_accuracy: 0.1009\n",
            "Epoch 7/10\n",
            "5/5 [==============================] - 33s 8s/step - loss: 3.6890 - accuracy: 0.0875 - val_loss: 3.7967 - val_accuracy: 0.1009\n",
            "Epoch 8/10\n",
            "5/5 [==============================] - 33s 8s/step - loss: 4.1153 - accuracy: 0.0844 - val_loss: 4.2065 - val_accuracy: 0.1009\n",
            "Epoch 9/10\n",
            "5/5 [==============================] - 33s 8s/step - loss: 2.6701 - accuracy: 0.1156 - val_loss: 1.7850 - val_accuracy: 0.1009\n",
            "Epoch 10/10\n",
            "5/5 [==============================] - 32s 8s/step - loss: 1.8181 - accuracy: 0.0969 - val_loss: 1.7918 - val_accuracy: 0.1009\n",
            "-----[ 4 ]-----{'_learning_rate': 0.01, '_logits_flag': True, 'fine_tune_at': 0.0, 'epochs': 10, '_class_cnt': 6, 'label_class': 1}\n",
            "Epoch 1/10\n",
            "5/5 [==============================] - 39s 8s/step - loss: 28.4859 - accuracy: 0.3031 - val_loss: 11.8676 - val_accuracy: 0.5387\n",
            "Epoch 2/10\n",
            "5/5 [==============================] - 32s 8s/step - loss: 16.6205 - accuracy: 0.3844 - val_loss: 14.2682 - val_accuracy: 0.5387\n",
            "Epoch 3/10\n",
            "5/5 [==============================] - 32s 8s/step - loss: 13.1731 - accuracy: 0.4156 - val_loss: 16.9512 - val_accuracy: 0.0901\n",
            "Epoch 4/10\n",
            "5/5 [==============================] - 33s 8s/step - loss: 13.7565 - accuracy: 0.2750 - val_loss: 7.8421 - val_accuracy: 0.0932\n",
            "Epoch 5/10\n",
            "5/5 [==============================] - 32s 8s/step - loss: 9.0092 - accuracy: 0.2750 - val_loss: 12.3862 - val_accuracy: 0.5387\n",
            "Epoch 6/10\n",
            "5/5 [==============================] - 32s 8s/step - loss: 11.1975 - accuracy: 0.5094 - val_loss: 6.0514 - val_accuracy: 0.5387\n",
            "Epoch 7/10\n",
            "5/5 [==============================] - 32s 8s/step - loss: 6.1216 - accuracy: 0.3906 - val_loss: 9.5065 - val_accuracy: 0.5387\n",
            "Epoch 8/10\n",
            "5/5 [==============================] - 32s 8s/step - loss: 9.5822 - accuracy: 0.4344 - val_loss: 6.8992 - val_accuracy: 0.5387\n",
            "Epoch 9/10\n",
            "5/5 [==============================] - 32s 8s/step - loss: 6.2992 - accuracy: 0.3469 - val_loss: 6.2051 - val_accuracy: 0.0932\n",
            "Epoch 10/10\n",
            "5/5 [==============================] - 32s 8s/step - loss: 6.4846 - accuracy: 0.3656 - val_loss: 2.9319 - val_accuracy: 0.5387\n",
            "-----[ 5 ]-----{'_learning_rate': 0.01, '_logits_flag': True, 'fine_tune_at': 0.1, 'epochs': 10, '_class_cnt': 6, 'label_class': 1}\n",
            "Epoch 1/10\n",
            "5/5 [==============================] - 38s 8s/step - loss: 13.5384 - accuracy: 0.1875 - val_loss: 16.4004 - val_accuracy: 0.5387\n",
            "Epoch 2/10\n",
            "5/5 [==============================] - 33s 8s/step - loss: 18.3185 - accuracy: 0.3469 - val_loss: 28.4679 - val_accuracy: 0.0932\n",
            "Epoch 3/10\n",
            "5/5 [==============================] - 33s 8s/step - loss: 29.3065 - accuracy: 0.4625 - val_loss: 26.0290 - val_accuracy: 0.5387\n",
            "Epoch 4/10\n",
            "5/5 [==============================] - 33s 8s/step - loss: 16.1006 - accuracy: 0.3063 - val_loss: 7.2695 - val_accuracy: 0.0832\n",
            "Epoch 5/10\n",
            "5/5 [==============================] - 32s 8s/step - loss: 8.7019 - accuracy: 0.3625 - val_loss: 6.9720 - val_accuracy: 0.5387\n",
            "Epoch 6/10\n",
            "5/5 [==============================] - 32s 8s/step - loss: 9.6544 - accuracy: 0.3594 - val_loss: 8.9894 - val_accuracy: 0.5387\n",
            "Epoch 7/10\n",
            "5/5 [==============================] - 33s 8s/step - loss: 6.8823 - accuracy: 0.4812 - val_loss: 2.6629 - val_accuracy: 0.5387\n",
            "Epoch 8/10\n",
            "5/5 [==============================] - 32s 8s/step - loss: 6.3808 - accuracy: 0.3719 - val_loss: 5.4701 - val_accuracy: 0.5387\n",
            "Epoch 9/10\n",
            "5/5 [==============================] - 32s 8s/step - loss: 5.4577 - accuracy: 0.2750 - val_loss: 3.2542 - val_accuracy: 0.5387\n",
            "Epoch 10/10\n",
            "5/5 [==============================] - 34s 8s/step - loss: 4.8416 - accuracy: 0.3219 - val_loss: 3.7658 - val_accuracy: 0.5387\n",
            "-----[ 6 ]-----{'_learning_rate': 0.01, '_logits_flag': False, 'fine_tune_at': 0.0, 'epochs': 10, '_class_cnt': 6, 'label_class': 1}\n",
            "Epoch 1/10\n",
            "5/5 [==============================] - 40s 8s/step - loss: 7.9510 - accuracy: 0.3625 - val_loss: 6.6257 - val_accuracy: 0.5387\n",
            "Epoch 2/10\n",
            "5/5 [==============================] - 34s 8s/step - loss: 6.3849 - accuracy: 0.5813 - val_loss: 6.6257 - val_accuracy: 0.5387\n",
            "Epoch 3/10\n",
            "5/5 [==============================] - 33s 8s/step - loss: 5.8812 - accuracy: 0.6062 - val_loss: 6.6257 - val_accuracy: 0.5387\n",
            "Epoch 4/10\n",
            "5/5 [==============================] - 33s 8s/step - loss: 6.2841 - accuracy: 0.5531 - val_loss: 6.6257 - val_accuracy: 0.5387\n",
            "Epoch 5/10\n",
            "5/5 [==============================] - 33s 8s/step - loss: 7.1404 - accuracy: 0.5125 - val_loss: 6.6257 - val_accuracy: 0.5387\n",
            "Epoch 6/10\n",
            "5/5 [==============================] - 33s 8s/step - loss: 5.6797 - accuracy: 0.5969 - val_loss: 6.6257 - val_accuracy: 0.5387\n",
            "Epoch 7/10\n",
            "5/5 [==============================] - 34s 8s/step - loss: 5.3775 - accuracy: 0.6562 - val_loss: 6.6257 - val_accuracy: 0.5387\n",
            "Epoch 8/10\n",
            "5/5 [==============================] - 34s 8s/step - loss: 6.2841 - accuracy: 0.5781 - val_loss: 6.6257 - val_accuracy: 0.5387\n",
            "Epoch 9/10\n",
            "5/5 [==============================] - 33s 8s/step - loss: 6.5360 - accuracy: 0.5406 - val_loss: 6.6257 - val_accuracy: 0.5387\n",
            "Epoch 10/10\n",
            "5/5 [==============================] - 33s 8s/step - loss: 6.3345 - accuracy: 0.5469 - val_loss: 6.6257 - val_accuracy: 0.5387\n",
            "-----[ 7 ]-----{'_learning_rate': 0.01, '_logits_flag': False, 'fine_tune_at': 0.1, 'epochs': 10, '_class_cnt': 6, 'label_class': 1}\n",
            "Epoch 1/10\n",
            "5/5 [==============================] - 40s 8s/step - loss: 6.6167 - accuracy: 0.5000 - val_loss: 6.6257 - val_accuracy: 0.5387\n",
            "Epoch 2/10\n",
            "5/5 [==============================] - 35s 8s/step - loss: 6.4352 - accuracy: 0.5656 - val_loss: 6.6257 - val_accuracy: 0.5387\n",
            "Epoch 3/10\n",
            "5/5 [==============================] - 34s 8s/step - loss: 6.2841 - accuracy: 0.5719 - val_loss: 6.6257 - val_accuracy: 0.5387\n",
            "Epoch 4/10\n",
            "5/5 [==============================] - 34s 8s/step - loss: 6.0826 - accuracy: 0.5781 - val_loss: 6.6257 - val_accuracy: 0.5387\n",
            "Epoch 5/10\n",
            "5/5 [==============================] - 34s 8s/step - loss: 6.9389 - accuracy: 0.5375 - val_loss: 6.6257 - val_accuracy: 0.5387\n",
            "Epoch 6/10\n",
            "5/5 [==============================] - 36s 9s/step - loss: 5.9819 - accuracy: 0.5844 - val_loss: 6.6257 - val_accuracy: 0.5387\n",
            "Epoch 7/10\n",
            "5/5 [==============================] - 35s 8s/step - loss: 5.4782 - accuracy: 0.6375 - val_loss: 6.6257 - val_accuracy: 0.5387\n",
            "Epoch 8/10\n",
            "5/5 [==============================] - 36s 8s/step - loss: 5.9315 - accuracy: 0.6031 - val_loss: 6.6257 - val_accuracy: 0.5387\n",
            "Epoch 9/10\n",
            "5/5 [==============================] - 35s 8s/step - loss: 6.6871 - accuracy: 0.5344 - val_loss: 6.6257 - val_accuracy: 0.5387\n",
            "Epoch 10/10\n",
            "5/5 [==============================] - 35s 8s/step - loss: 6.6367 - accuracy: 0.5312 - val_loss: 6.6257 - val_accuracy: 0.5387\n",
            "INFO:tensorflow:Assets written to: ram://d24f77d6-8ab0-4594-932b-012d235d0e1d/assets\n",
            "INFO:tensorflow:Assets written to: ram://964a2b90-7d86-4feb-a7fc-65a460f5969d/assets\n",
            "INFO:tensorflow:Assets written to: ram://75ae8897-f73e-493b-92d7-62dee8808977/assets\n",
            "INFO:tensorflow:Assets written to: ram://18d390ec-1fb4-4e92-b20a-cbce96e4af65/assets\n",
            "INFO:tensorflow:Assets written to: ram://7ddf7989-353c-47bb-801a-f75572c6c287/assets\n",
            "INFO:tensorflow:Assets written to: ram://0e8813f8-a6ec-4b05-91ac-39d5bda77669/assets\n",
            "INFO:tensorflow:Assets written to: ram://1743d5ad-e723-4809-8c5e-d178711894c2/assets\n",
            "INFO:tensorflow:Assets written to: ram://1de41ac6-04dd-403a-9e92-70c5e9c13835/assets\n",
            "(18777, 32, 32, 3)\n",
            "(5086, 32, 32, 3)\n",
            "-----[ 0 ]-----{'_learning_rate': 0.0001, '_logits_flag': True, 'fine_tune_at': 0.0, 'epochs': 10, '_class_cnt': 5, 'label_class': 2}\n",
            "Epoch 1/10\n",
            "5/5 [==============================] - 42s 9s/step - loss: 1.9465 - accuracy: 0.2188 - val_loss: 1.4487 - val_accuracy: 0.3989\n",
            "Epoch 2/10\n",
            "5/5 [==============================] - 36s 8s/step - loss: 1.5293 - accuracy: 0.3313 - val_loss: 1.4073 - val_accuracy: 0.3486\n",
            "Epoch 3/10\n",
            "5/5 [==============================] - 37s 9s/step - loss: 1.4621 - accuracy: 0.3438 - val_loss: 1.2727 - val_accuracy: 0.4868\n",
            "Epoch 4/10\n",
            "5/5 [==============================] - 37s 9s/step - loss: 1.3394 - accuracy: 0.4250 - val_loss: 1.0738 - val_accuracy: 0.5792\n",
            "Epoch 5/10\n",
            "5/5 [==============================] - 38s 9s/step - loss: 1.1326 - accuracy: 0.5281 - val_loss: 0.9321 - val_accuracy: 0.6473\n",
            "Epoch 6/10\n",
            "5/5 [==============================] - 36s 9s/step - loss: 1.0470 - accuracy: 0.5688 - val_loss: 0.7464 - val_accuracy: 0.7218\n",
            "Epoch 7/10\n",
            "5/5 [==============================] - 36s 9s/step - loss: 0.8146 - accuracy: 0.6875 - val_loss: 0.6340 - val_accuracy: 0.7556\n",
            "Epoch 8/10\n",
            "5/5 [==============================] - 36s 9s/step - loss: 0.7426 - accuracy: 0.6781 - val_loss: 0.8079 - val_accuracy: 0.6327\n",
            "Epoch 9/10\n",
            "5/5 [==============================] - 37s 9s/step - loss: 0.7913 - accuracy: 0.6687 - val_loss: 0.5100 - val_accuracy: 0.8181\n",
            "Epoch 10/10\n",
            "5/5 [==============================] - 37s 9s/step - loss: 0.6431 - accuracy: 0.7344 - val_loss: 0.5311 - val_accuracy: 0.7861\n",
            "-----[ 1 ]-----{'_learning_rate': 0.0001, '_logits_flag': True, 'fine_tune_at': 0.1, 'epochs': 10, '_class_cnt': 5, 'label_class': 2}\n",
            "Epoch 1/10\n",
            "5/5 [==============================] - 43s 9s/step - loss: 1.7392 - accuracy: 0.2812 - val_loss: 1.4804 - val_accuracy: 0.3584\n",
            "Epoch 2/10\n",
            "5/5 [==============================] - 36s 8s/step - loss: 1.6265 - accuracy: 0.2625 - val_loss: 1.3920 - val_accuracy: 0.5012\n",
            "Epoch 3/10\n",
            "5/5 [==============================] - 35s 8s/step - loss: 1.4457 - accuracy: 0.4469 - val_loss: 1.1999 - val_accuracy: 0.5857\n",
            "Epoch 4/10\n",
            "5/5 [==============================] - 35s 8s/step - loss: 1.1407 - accuracy: 0.5562 - val_loss: 1.0257 - val_accuracy: 0.5183\n",
            "Epoch 5/10\n",
            "5/5 [==============================] - 35s 8s/step - loss: 1.1801 - accuracy: 0.5000 - val_loss: 0.8602 - val_accuracy: 0.6054\n",
            "Epoch 6/10\n",
            "5/5 [==============================] - 35s 8s/step - loss: 0.9727 - accuracy: 0.5969 - val_loss: 0.6806 - val_accuracy: 0.7265\n",
            "Epoch 7/10\n",
            "5/5 [==============================] - 36s 8s/step - loss: 0.8426 - accuracy: 0.6406 - val_loss: 0.6523 - val_accuracy: 0.7416\n",
            "Epoch 8/10\n",
            "5/5 [==============================] - 36s 8s/step - loss: 0.7006 - accuracy: 0.7312 - val_loss: 0.6218 - val_accuracy: 0.7204\n",
            "Epoch 9/10\n",
            "5/5 [==============================] - 35s 8s/step - loss: 0.6092 - accuracy: 0.7531 - val_loss: 0.7000 - val_accuracy: 0.7102\n",
            "Epoch 10/10\n",
            "5/5 [==============================] - 36s 9s/step - loss: 0.7233 - accuracy: 0.7000 - val_loss: 0.5527 - val_accuracy: 0.7566\n",
            "-----[ 2 ]-----{'_learning_rate': 0.0001, '_logits_flag': False, 'fine_tune_at': 0.0, 'epochs': 10, '_class_cnt': 5, 'label_class': 2}\n",
            "Epoch 1/10\n",
            "5/5 [==============================] - 44s 9s/step - loss: 9.6453 - accuracy: 0.1781 - val_loss: 8.2980 - val_accuracy: 0.1793\n",
            "Epoch 2/10\n",
            "5/5 [==============================] - 37s 9s/step - loss: 7.8271 - accuracy: 0.1781 - val_loss: 7.9661 - val_accuracy: 0.1809\n",
            "Epoch 3/10\n",
            "5/5 [==============================] - 36s 9s/step - loss: 7.5046 - accuracy: 0.1875 - val_loss: 7.9661 - val_accuracy: 0.1602\n",
            "Epoch 4/10\n",
            "5/5 [==============================] - 37s 9s/step - loss: 4.9443 - accuracy: 0.1813 - val_loss: 4.5712 - val_accuracy: 0.1793\n",
            "Epoch 5/10\n",
            "5/5 [==============================] - 36s 9s/step - loss: 4.2519 - accuracy: 0.1750 - val_loss: 1.6155 - val_accuracy: 0.1793\n",
            "Epoch 6/10\n",
            "5/5 [==============================] - 37s 9s/step - loss: 1.6539 - accuracy: 0.1844 - val_loss: 1.6094 - val_accuracy: 0.1793\n",
            "Epoch 7/10\n",
            "5/5 [==============================] - 35s 8s/step - loss: 1.6087 - accuracy: 0.1844 - val_loss: 1.6094 - val_accuracy: 0.1793\n",
            "Epoch 8/10\n",
            "5/5 [==============================] - 35s 8s/step - loss: 1.6094 - accuracy: 0.1781 - val_loss: 1.6094 - val_accuracy: 0.1793\n",
            "Epoch 9/10\n",
            "5/5 [==============================] - 34s 8s/step - loss: 1.6084 - accuracy: 0.1719 - val_loss: 1.6094 - val_accuracy: 0.1687\n",
            "Epoch 10/10\n",
            "5/5 [==============================] - 34s 8s/step - loss: 1.6064 - accuracy: 0.1969 - val_loss: 1.6094 - val_accuracy: 0.1701\n",
            "-----[ 3 ]-----{'_learning_rate': 0.0001, '_logits_flag': False, 'fine_tune_at': 0.1, 'epochs': 10, '_class_cnt': 5, 'label_class': 2}\n",
            "Epoch 1/10\n",
            "5/5 [==============================] - 41s 8s/step - loss: 12.3009 - accuracy: 0.1688 - val_loss: 12.9259 - val_accuracy: 0.1976\n",
            "Epoch 2/10\n",
            "5/5 [==============================] - 34s 8s/step - loss: 11.6274 - accuracy: 0.1688 - val_loss: 10.5889 - val_accuracy: 0.1976\n",
            "Epoch 3/10\n",
            "5/5 [==============================] - 36s 8s/step - loss: 10.9548 - accuracy: 0.1750 - val_loss: 9.9438 - val_accuracy: 0.2285\n",
            "Epoch 4/10\n",
            "5/5 [==============================] - 36s 9s/step - loss: 9.8090 - accuracy: 0.2438 - val_loss: 9.9438 - val_accuracy: 0.2285\n",
            "Epoch 5/10\n",
            "5/5 [==============================] - 36s 9s/step - loss: 9.9702 - accuracy: 0.2313 - val_loss: 9.9438 - val_accuracy: 0.2285\n",
            "Epoch 6/10\n",
            "5/5 [==============================] - 36s 9s/step - loss: 10.0114 - accuracy: 0.2313 - val_loss: 9.9438 - val_accuracy: 0.2513\n",
            "Epoch 7/10\n",
            "5/5 [==============================] - 36s 9s/step - loss: 8.9033 - accuracy: 0.2562 - val_loss: 9.9438 - val_accuracy: 0.2220\n",
            "Epoch 8/10\n",
            "5/5 [==============================] - 39s 9s/step - loss: 9.5077 - accuracy: 0.2031 - val_loss: 9.9438 - val_accuracy: 0.2006\n",
            "Epoch 9/10\n",
            "5/5 [==============================] - 37s 9s/step - loss: 9.8099 - accuracy: 0.2313 - val_loss: 9.9438 - val_accuracy: 0.1978\n",
            "Epoch 10/10\n",
            "5/5 [==============================] - 37s 9s/step - loss: 9.9107 - accuracy: 0.1844 - val_loss: 9.9438 - val_accuracy: 0.1978\n",
            "-----[ 4 ]-----{'_learning_rate': 0.01, '_logits_flag': True, 'fine_tune_at': 0.0, 'epochs': 10, '_class_cnt': 5, 'label_class': 2}\n",
            "Epoch 1/10\n",
            "5/5 [==============================] - 42s 9s/step - loss: 16.8791 - accuracy: 0.2281 - val_loss: 22.4059 - val_accuracy: 0.2314\n",
            "Epoch 2/10\n",
            "5/5 [==============================] - 36s 9s/step - loss: 19.8884 - accuracy: 0.2125 - val_loss: 16.8725 - val_accuracy: 0.1793\n",
            "Epoch 3/10\n",
            "5/5 [==============================] - 37s 9s/step - loss: 14.2163 - accuracy: 0.1906 - val_loss: 8.1203 - val_accuracy: 0.1976\n",
            "Epoch 4/10\n",
            "5/5 [==============================] - 37s 9s/step - loss: 9.5453 - accuracy: 0.1969 - val_loss: 10.2036 - val_accuracy: 0.1632\n",
            "Epoch 5/10\n",
            "5/5 [==============================] - 38s 9s/step - loss: 8.8954 - accuracy: 0.2156 - val_loss: 7.6415 - val_accuracy: 0.1976\n",
            "Epoch 6/10\n",
            "5/5 [==============================] - 37s 9s/step - loss: 6.6924 - accuracy: 0.2094 - val_loss: 5.9584 - val_accuracy: 0.2285\n",
            "Epoch 7/10\n",
            "5/5 [==============================] - 37s 9s/step - loss: 6.6772 - accuracy: 0.2125 - val_loss: 6.3254 - val_accuracy: 0.2314\n",
            "Epoch 8/10\n",
            "5/5 [==============================] - 36s 9s/step - loss: 7.0360 - accuracy: 0.1844 - val_loss: 2.2750 - val_accuracy: 0.1976\n",
            "Epoch 9/10\n",
            "5/5 [==============================] - 37s 9s/step - loss: 5.5488 - accuracy: 0.2031 - val_loss: 4.3332 - val_accuracy: 0.1632\n",
            "Epoch 10/10\n",
            "5/5 [==============================] - 37s 9s/step - loss: 6.4249 - accuracy: 0.2125 - val_loss: 8.4154 - val_accuracy: 0.2285\n",
            "-----[ 5 ]-----{'_learning_rate': 0.01, '_logits_flag': True, 'fine_tune_at': 0.1, 'epochs': 10, '_class_cnt': 5, 'label_class': 2}\n",
            "Epoch 1/10\n",
            "5/5 [==============================] - 44s 9s/step - loss: 35.8294 - accuracy: 0.2313 - val_loss: 47.3363 - val_accuracy: 0.2314\n",
            "Epoch 2/10\n",
            "5/5 [==============================] - 36s 9s/step - loss: 34.7835 - accuracy: 0.2469 - val_loss: 18.4453 - val_accuracy: 0.1976\n",
            "Epoch 3/10\n",
            "5/5 [==============================] - 37s 9s/step - loss: 17.1799 - accuracy: 0.2062 - val_loss: 21.8488 - val_accuracy: 0.2285\n",
            "Epoch 4/10\n",
            "5/5 [==============================] - 35s 8s/step - loss: 18.5106 - accuracy: 0.2250 - val_loss: 9.9374 - val_accuracy: 0.1632\n",
            "Epoch 5/10\n",
            "5/5 [==============================] - 36s 8s/step - loss: 8.8299 - accuracy: 0.2000 - val_loss: 9.7784 - val_accuracy: 0.2314\n",
            "Epoch 6/10\n",
            "5/5 [==============================] - 35s 8s/step - loss: 9.1603 - accuracy: 0.2062 - val_loss: 6.4160 - val_accuracy: 0.2285\n",
            "Epoch 7/10\n",
            "5/5 [==============================] - 35s 8s/step - loss: 6.8975 - accuracy: 0.1844 - val_loss: 4.5811 - val_accuracy: 0.2285\n",
            "Epoch 8/10\n",
            "5/5 [==============================] - 35s 8s/step - loss: 6.0164 - accuracy: 0.2250 - val_loss: 4.8090 - val_accuracy: 0.1976\n",
            "Epoch 9/10\n",
            "5/5 [==============================] - 36s 8s/step - loss: 5.5879 - accuracy: 0.2031 - val_loss: 4.9381 - val_accuracy: 0.1976\n",
            "Epoch 10/10\n",
            "5/5 [==============================] - 36s 9s/step - loss: 5.4611 - accuracy: 0.2125 - val_loss: 4.7272 - val_accuracy: 0.2314\n",
            "-----[ 6 ]-----{'_learning_rate': 0.01, '_logits_flag': False, 'fine_tune_at': 0.0, 'epochs': 10, '_class_cnt': 5, 'label_class': 2}\n",
            "Epoch 1/10\n",
            "5/5 [==============================] - 46s 9s/step - loss: 2.9743 - accuracy: 0.2438 - val_loss: 1.6094 - val_accuracy: 0.2314\n",
            "Epoch 2/10\n",
            "5/5 [==============================] - 36s 9s/step - loss: 1.6094 - accuracy: 0.2531 - val_loss: 1.6094 - val_accuracy: 0.2314\n",
            "Epoch 3/10\n",
            "5/5 [==============================] - 36s 8s/step - loss: 1.6094 - accuracy: 0.1937 - val_loss: 1.6094 - val_accuracy: 0.2314\n",
            "Epoch 4/10\n",
            "5/5 [==============================] - 36s 9s/step - loss: 1.6094 - accuracy: 0.2156 - val_loss: 1.6094 - val_accuracy: 0.2314\n",
            "Epoch 5/10\n",
            "5/5 [==============================] - 37s 9s/step - loss: 1.6094 - accuracy: 0.2281 - val_loss: 1.6094 - val_accuracy: 0.2314\n",
            "Epoch 6/10\n",
            "5/5 [==============================] - 36s 9s/step - loss: 1.6094 - accuracy: 0.2219 - val_loss: 1.6094 - val_accuracy: 0.2314\n",
            "Epoch 7/10\n",
            "5/5 [==============================] - 37s 9s/step - loss: 1.6094 - accuracy: 0.2406 - val_loss: 1.6094 - val_accuracy: 0.2314\n",
            "Epoch 8/10\n",
            "5/5 [==============================] - 37s 9s/step - loss: 1.6094 - accuracy: 0.2250 - val_loss: 1.6094 - val_accuracy: 0.2314\n",
            "Epoch 9/10\n",
            "5/5 [==============================] - 37s 9s/step - loss: 1.6094 - accuracy: 0.2156 - val_loss: 1.6094 - val_accuracy: 0.2314\n",
            "Epoch 10/10\n",
            "5/5 [==============================] - 36s 9s/step - loss: 1.6094 - accuracy: 0.2062 - val_loss: 1.6094 - val_accuracy: 0.2314\n",
            "-----[ 7 ]-----{'_learning_rate': 0.01, '_logits_flag': False, 'fine_tune_at': 0.1, 'epochs': 10, '_class_cnt': 5, 'label_class': 2}\n",
            "Epoch 1/10\n",
            "5/5 [==============================] - 43s 9s/step - loss: 5.3475 - accuracy: 0.1906 - val_loss: 1.6094 - val_accuracy: 0.2285\n",
            "Epoch 2/10\n",
            "5/5 [==============================] - 36s 9s/step - loss: 1.6094 - accuracy: 0.2156 - val_loss: 1.6094 - val_accuracy: 0.2285\n",
            "Epoch 3/10\n",
            "5/5 [==============================] - 36s 9s/step - loss: 1.6094 - accuracy: 0.2406 - val_loss: 1.6094 - val_accuracy: 0.2285\n",
            "Epoch 4/10\n",
            "5/5 [==============================] - 36s 9s/step - loss: 1.6094 - accuracy: 0.2406 - val_loss: 1.6094 - val_accuracy: 0.2285\n",
            "Epoch 5/10\n",
            "5/5 [==============================] - 35s 8s/step - loss: 1.6094 - accuracy: 0.2406 - val_loss: 1.6094 - val_accuracy: 0.2285\n",
            "Epoch 6/10\n",
            "5/5 [==============================] - 34s 8s/step - loss: 1.6094 - accuracy: 0.2250 - val_loss: 1.6094 - val_accuracy: 0.2285\n",
            "Epoch 7/10\n",
            "5/5 [==============================] - 35s 8s/step - loss: 1.6094 - accuracy: 0.2688 - val_loss: 1.6094 - val_accuracy: 0.2285\n",
            "Epoch 8/10\n",
            "5/5 [==============================] - 35s 8s/step - loss: 1.6094 - accuracy: 0.2250 - val_loss: 1.6094 - val_accuracy: 0.2285\n",
            "Epoch 9/10\n",
            "5/5 [==============================] - 36s 9s/step - loss: 1.6094 - accuracy: 0.2313 - val_loss: 1.6094 - val_accuracy: 0.2285\n",
            "Epoch 10/10\n",
            "5/5 [==============================] - 36s 8s/step - loss: 1.6094 - accuracy: 0.2531 - val_loss: 1.6094 - val_accuracy: 0.2285\n",
            "INFO:tensorflow:Assets written to: ram://3506fa8d-7215-4613-9470-65ecf3c49adb/assets\n",
            "INFO:tensorflow:Assets written to: ram://bde14509-01f2-48d2-8e4d-a8a5a527ef08/assets\n",
            "INFO:tensorflow:Assets written to: ram://fecf8cbc-4bba-4510-b624-b535f4e973be/assets\n",
            "INFO:tensorflow:Assets written to: ram://03e58617-3e95-4f0f-b783-d65112e8b3fd/assets\n",
            "INFO:tensorflow:Assets written to: ram://fc07508f-1d1d-4353-9c66-a5868c994b9d/assets\n",
            "INFO:tensorflow:Assets written to: ram://45a0162b-f93f-4d6a-85a8-b5d2b230fb0a/assets\n",
            "INFO:tensorflow:Assets written to: ram://b5752337-ff04-4cfa-8894-38ab784de8fd/assets\n",
            "INFO:tensorflow:Assets written to: ram://779823a8-5fa7-4d1a-929a-d274512713c6/assets\n",
            "(18777, 32, 32, 3)\n",
            "(5086, 32, 32, 3)\n",
            "-----[ 0 ]-----{'_learning_rate': 0.0001, '_logits_flag': True, 'fine_tune_at': 0.0, 'epochs': 10, '_class_cnt': 5, 'label_class': 4}\n",
            "Epoch 1/10\n",
            "5/5 [==============================] - 45s 9s/step - loss: 1.9902 - accuracy: 0.2469 - val_loss: 1.4813 - val_accuracy: 0.3063\n",
            "Epoch 2/10\n",
            "5/5 [==============================] - 36s 9s/step - loss: 1.5216 - accuracy: 0.2625 - val_loss: 1.4761 - val_accuracy: 0.3219\n",
            "Epoch 3/10\n",
            "5/5 [==============================] - 36s 9s/step - loss: 1.5214 - accuracy: 0.2875 - val_loss: 1.4573 - val_accuracy: 0.3266\n",
            "Epoch 4/10\n",
            "5/5 [==============================] - 39s 9s/step - loss: 1.4451 - accuracy: 0.3469 - val_loss: 1.4732 - val_accuracy: 0.3136\n",
            "Epoch 5/10\n",
            "5/5 [==============================] - 35s 8s/step - loss: 1.4136 - accuracy: 0.3250 - val_loss: 1.4586 - val_accuracy: 0.3270\n",
            "Epoch 6/10\n",
            "5/5 [==============================] - 35s 8s/step - loss: 1.4825 - accuracy: 0.3250 - val_loss: 1.4634 - val_accuracy: 0.3042\n",
            "Epoch 7/10\n",
            "5/5 [==============================] - 36s 9s/step - loss: 1.4755 - accuracy: 0.3187 - val_loss: 1.4620 - val_accuracy: 0.3089\n",
            "Epoch 8/10\n",
            "5/5 [==============================] - 36s 9s/step - loss: 1.4518 - accuracy: 0.3125 - val_loss: 1.4828 - val_accuracy: 0.2928\n",
            "Epoch 9/10\n",
            "5/5 [==============================] - 36s 9s/step - loss: 1.5056 - accuracy: 0.2937 - val_loss: 1.4503 - val_accuracy: 0.3287\n",
            "Epoch 10/10\n",
            "5/5 [==============================] - 35s 8s/step - loss: 1.4757 - accuracy: 0.3438 - val_loss: 1.4504 - val_accuracy: 0.3287\n",
            "-----[ 1 ]-----{'_learning_rate': 0.0001, '_logits_flag': True, 'fine_tune_at': 0.1, 'epochs': 10, '_class_cnt': 5, 'label_class': 4}\n",
            "Epoch 1/10\n",
            "5/5 [==============================] - 43s 9s/step - loss: 2.0651 - accuracy: 0.3031 - val_loss: 1.6221 - val_accuracy: 0.3272\n",
            "Epoch 2/10\n",
            "5/5 [==============================] - 36s 9s/step - loss: 1.5043 - accuracy: 0.3344 - val_loss: 1.5109 - val_accuracy: 0.3278\n",
            "Epoch 3/10\n",
            "5/5 [==============================] - 36s 8s/step - loss: 1.5379 - accuracy: 0.2781 - val_loss: 1.4898 - val_accuracy: 0.2603\n",
            "Epoch 4/10\n",
            "5/5 [==============================] - 36s 9s/step - loss: 1.4752 - accuracy: 0.3469 - val_loss: 1.4828 - val_accuracy: 0.3287\n",
            "Epoch 5/10\n",
            "5/5 [==============================] - 37s 9s/step - loss: 1.4450 - accuracy: 0.3656 - val_loss: 1.4868 - val_accuracy: 0.3287\n",
            "Epoch 6/10\n",
            "5/5 [==============================] - 37s 9s/step - loss: 1.5182 - accuracy: 0.2844 - val_loss: 1.4868 - val_accuracy: 0.3309\n",
            "Epoch 7/10\n",
            "5/5 [==============================] - 36s 9s/step - loss: 1.4713 - accuracy: 0.2969 - val_loss: 1.4691 - val_accuracy: 0.3287\n",
            "Epoch 8/10\n",
            "5/5 [==============================] - 36s 9s/step - loss: 1.4395 - accuracy: 0.3594 - val_loss: 1.4888 - val_accuracy: 0.3287\n",
            "Epoch 9/10\n",
            "5/5 [==============================] - 36s 9s/step - loss: 1.5008 - accuracy: 0.3469 - val_loss: 1.4656 - val_accuracy: 0.3287\n",
            "Epoch 10/10\n",
            "5/5 [==============================] - 36s 8s/step - loss: 1.5111 - accuracy: 0.2625 - val_loss: 1.4683 - val_accuracy: 0.3287\n",
            "-----[ 2 ]-----{'_learning_rate': 0.0001, '_logits_flag': False, 'fine_tune_at': 0.0, 'epochs': 10, '_class_cnt': 5, 'label_class': 4}\n",
            "Epoch 1/10\n",
            "5/5 [==============================] - 43s 9s/step - loss: 8.0030 - accuracy: 0.2750 - val_loss: 7.3451 - val_accuracy: 0.3221\n",
            "Epoch 2/10\n",
            "5/5 [==============================] - 36s 9s/step - loss: 5.6757 - accuracy: 0.3219 - val_loss: 3.6644 - val_accuracy: 0.2558\n",
            "Epoch 3/10\n",
            "5/5 [==============================] - 37s 9s/step - loss: 3.8163 - accuracy: 0.2344 - val_loss: 3.8050 - val_accuracy: 0.2448\n",
            "Epoch 4/10\n",
            "5/5 [==============================] - 36s 8s/step - loss: 3.8261 - accuracy: 0.2438 - val_loss: 3.8050 - val_accuracy: 0.3063\n",
            "Epoch 5/10\n",
            "5/5 [==============================] - 36s 8s/step - loss: 3.1135 - accuracy: 0.3625 - val_loss: 3.8050 - val_accuracy: 0.3287\n",
            "Epoch 6/10\n",
            "5/5 [==============================] - 35s 8s/step - loss: 3.6687 - accuracy: 0.3187 - val_loss: 3.8050 - val_accuracy: 0.3287\n",
            "Epoch 7/10\n",
            "5/5 [==============================] - 35s 8s/step - loss: 3.4744 - accuracy: 0.2937 - val_loss: 3.8050 - val_accuracy: 0.3287\n",
            "Epoch 8/10\n",
            "5/5 [==============================] - 35s 8s/step - loss: 3.4563 - accuracy: 0.3063 - val_loss: 3.1198 - val_accuracy: 0.3287\n",
            "Epoch 9/10\n",
            "5/5 [==============================] - 36s 9s/step - loss: 3.1606 - accuracy: 0.3094 - val_loss: 3.1198 - val_accuracy: 0.3287\n",
            "Epoch 10/10\n",
            "5/5 [==============================] - 36s 8s/step - loss: 3.5020 - accuracy: 0.2969 - val_loss: 3.1198 - val_accuracy: 0.3287\n",
            "-----[ 3 ]-----{'_learning_rate': 0.0001, '_logits_flag': False, 'fine_tune_at': 0.1, 'epochs': 10, '_class_cnt': 5, 'label_class': 4}\n",
            "Epoch 1/10\n",
            "5/5 [==============================] - 42s 9s/step - loss: 3.2431 - accuracy: 0.1969 - val_loss: 2.0773 - val_accuracy: 0.1076\n",
            "Epoch 2/10\n",
            "5/5 [==============================] - 35s 8s/step - loss: 1.7041 - accuracy: 0.1344 - val_loss: 1.6094 - val_accuracy: 0.1597\n",
            "Epoch 3/10\n",
            "5/5 [==============================] - 36s 8s/step - loss: 1.7576 - accuracy: 0.2313 - val_loss: 1.6094 - val_accuracy: 0.2715\n",
            "Epoch 4/10\n",
            "5/5 [==============================] - 35s 8s/step - loss: 1.6089 - accuracy: 0.2812 - val_loss: 1.6094 - val_accuracy: 0.3166\n",
            "Epoch 5/10\n",
            "5/5 [==============================] - 39s 9s/step - loss: 1.6094 - accuracy: 0.2688 - val_loss: 1.6094 - val_accuracy: 0.3258\n",
            "Epoch 6/10\n",
            "5/5 [==============================] - 36s 8s/step - loss: 1.6094 - accuracy: 0.2781 - val_loss: 1.6094 - val_accuracy: 0.3278\n",
            "Epoch 7/10\n",
            "5/5 [==============================] - 36s 9s/step - loss: 1.6094 - accuracy: 0.2531 - val_loss: 1.6094 - val_accuracy: 0.3284\n",
            "Epoch 8/10\n",
            "5/5 [==============================] - 37s 9s/step - loss: 1.6094 - accuracy: 0.3094 - val_loss: 1.6094 - val_accuracy: 0.3285\n",
            "Epoch 9/10\n",
            "5/5 [==============================] - 37s 9s/step - loss: 1.6094 - accuracy: 0.2812 - val_loss: 1.6094 - val_accuracy: 0.3285\n",
            "Epoch 10/10\n",
            "5/5 [==============================] - 37s 9s/step - loss: 1.6094 - accuracy: 0.2750 - val_loss: 1.6094 - val_accuracy: 0.3285\n",
            "-----[ 4 ]-----{'_learning_rate': 0.01, '_logits_flag': True, 'fine_tune_at': 0.0, 'epochs': 10, '_class_cnt': 5, 'label_class': 4}\n",
            "Epoch 1/10\n",
            "5/5 [==============================] - 43s 9s/step - loss: 24.5217 - accuracy: 0.2313 - val_loss: 13.8889 - val_accuracy: 0.0604\n",
            "Epoch 2/10\n",
            "5/5 [==============================] - 36s 9s/step - loss: 12.3679 - accuracy: 0.2000 - val_loss: 11.2363 - val_accuracy: 0.2586\n",
            "Epoch 3/10\n",
            "5/5 [==============================] - 35s 8s/step - loss: 13.7057 - accuracy: 0.2781 - val_loss: 8.0937 - val_accuracy: 0.3287\n",
            "Epoch 4/10\n",
            "5/5 [==============================] - 37s 9s/step - loss: 9.5312 - accuracy: 0.2500 - val_loss: 8.6808 - val_accuracy: 0.3287\n",
            "Epoch 5/10\n",
            "5/5 [==============================] - 36s 8s/step - loss: 5.9930 - accuracy: 0.3000 - val_loss: 4.4552 - val_accuracy: 0.3287\n",
            "Epoch 6/10\n",
            "5/5 [==============================] - 36s 8s/step - loss: 5.6770 - accuracy: 0.2031 - val_loss: 6.4671 - val_accuracy: 0.3287\n",
            "Epoch 7/10\n",
            "5/5 [==============================] - 35s 8s/step - loss: 6.3343 - accuracy: 0.3094 - val_loss: 4.4879 - val_accuracy: 0.3287\n",
            "Epoch 8/10\n",
            "5/5 [==============================] - 35s 8s/step - loss: 4.8878 - accuracy: 0.2094 - val_loss: 2.7364 - val_accuracy: 0.2448\n",
            "Epoch 9/10\n",
            "5/5 [==============================] - 36s 9s/step - loss: 4.6105 - accuracy: 0.2406 - val_loss: 2.9630 - val_accuracy: 0.2448\n",
            "Epoch 10/10\n",
            "5/5 [==============================] - 36s 8s/step - loss: 4.3279 - accuracy: 0.2688 - val_loss: 4.2660 - val_accuracy: 0.2448\n",
            "-----[ 5 ]-----{'_learning_rate': 0.01, '_logits_flag': True, 'fine_tune_at': 0.1, 'epochs': 10, '_class_cnt': 5, 'label_class': 4}\n",
            "Epoch 1/10\n",
            "5/5 [==============================] - 42s 9s/step - loss: 21.7317 - accuracy: 0.2156 - val_loss: 26.7529 - val_accuracy: 0.3287\n",
            "Epoch 2/10\n",
            "5/5 [==============================] - 36s 9s/step - loss: 18.9768 - accuracy: 0.2719 - val_loss: 11.9164 - val_accuracy: 0.3287\n",
            "Epoch 3/10\n",
            "5/5 [==============================] - 36s 8s/step - loss: 15.4650 - accuracy: 0.2688 - val_loss: 14.5023 - val_accuracy: 0.3287\n",
            "Epoch 4/10\n",
            "5/5 [==============================] - 37s 9s/step - loss: 10.1093 - accuracy: 0.2469 - val_loss: 5.2371 - val_accuracy: 0.2448\n",
            "Epoch 5/10\n",
            "5/5 [==============================] - 35s 8s/step - loss: 6.4989 - accuracy: 0.2969 - val_loss: 5.0131 - val_accuracy: 0.2586\n",
            "Epoch 6/10\n",
            "5/5 [==============================] - 36s 9s/step - loss: 5.5447 - accuracy: 0.2438 - val_loss: 2.3766 - val_accuracy: 0.2586\n",
            "Epoch 7/10\n",
            "5/5 [==============================] - 36s 9s/step - loss: 4.7680 - accuracy: 0.2656 - val_loss: 4.1504 - val_accuracy: 0.2448\n",
            "Epoch 8/10\n",
            "5/5 [==============================] - 35s 8s/step - loss: 5.4141 - accuracy: 0.2937 - val_loss: 4.6677 - val_accuracy: 0.2448\n",
            "Epoch 9/10\n",
            "5/5 [==============================] - 36s 9s/step - loss: 5.0200 - accuracy: 0.2656 - val_loss: 2.9524 - val_accuracy: 0.2448\n",
            "Epoch 10/10\n",
            "5/5 [==============================] - 36s 9s/step - loss: 4.6435 - accuracy: 0.2406 - val_loss: 3.6682 - val_accuracy: 0.2586\n",
            "-----[ 6 ]-----{'_learning_rate': 0.01, '_logits_flag': False, 'fine_tune_at': 0.0, 'epochs': 10, '_class_cnt': 5, 'label_class': 4}\n",
            "Epoch 1/10\n",
            "5/5 [==============================] - 44s 9s/step - loss: 3.0056 - accuracy: 0.1937 - val_loss: 1.6094 - val_accuracy: 0.1076\n",
            "Epoch 2/10\n",
            "5/5 [==============================] - 36s 8s/step - loss: 1.6094 - accuracy: 0.1094 - val_loss: 1.6094 - val_accuracy: 0.1076\n",
            "Epoch 3/10\n",
            "5/5 [==============================] - 37s 9s/step - loss: 1.6094 - accuracy: 0.1063 - val_loss: 1.6094 - val_accuracy: 0.1076\n",
            "Epoch 4/10\n",
            "5/5 [==============================] - 35s 8s/step - loss: 1.6094 - accuracy: 0.0969 - val_loss: 1.6094 - val_accuracy: 0.1076\n",
            "Epoch 5/10\n",
            "5/5 [==============================] - 35s 8s/step - loss: 1.6094 - accuracy: 0.1031 - val_loss: 1.6094 - val_accuracy: 0.1076\n",
            "Epoch 6/10\n",
            "5/5 [==============================] - 35s 8s/step - loss: 1.6094 - accuracy: 0.0812 - val_loss: 1.6094 - val_accuracy: 0.1076\n",
            "Epoch 7/10\n",
            "5/5 [==============================] - 35s 8s/step - loss: 1.6094 - accuracy: 0.0938 - val_loss: 1.6094 - val_accuracy: 0.1076\n",
            "Epoch 8/10\n",
            "5/5 [==============================] - 35s 8s/step - loss: 1.6094 - accuracy: 0.0781 - val_loss: 1.6094 - val_accuracy: 0.1076\n",
            "Epoch 9/10\n",
            "5/5 [==============================] - 34s 8s/step - loss: 1.6094 - accuracy: 0.1187 - val_loss: 1.6094 - val_accuracy: 0.1076\n",
            "Epoch 10/10\n",
            "5/5 [==============================] - 35s 8s/step - loss: 1.6094 - accuracy: 0.1344 - val_loss: 1.6094 - val_accuracy: 0.1076\n",
            "-----[ 7 ]-----{'_learning_rate': 0.01, '_logits_flag': False, 'fine_tune_at': 0.1, 'epochs': 10, '_class_cnt': 5, 'label_class': 4}\n",
            "Epoch 1/10\n",
            "5/5 [==============================] - 42s 9s/step - loss: 4.4033 - accuracy: 0.2531 - val_loss: 3.8050 - val_accuracy: 0.2586\n",
            "Epoch 2/10\n",
            "5/5 [==============================] - 35s 8s/step - loss: 3.5163 - accuracy: 0.2500 - val_loss: 3.8050 - val_accuracy: 0.2586\n",
            "Epoch 3/10\n",
            "5/5 [==============================] - 35s 8s/step - loss: 3.7682 - accuracy: 0.2719 - val_loss: 3.8050 - val_accuracy: 0.2586\n",
            "Epoch 4/10\n",
            "5/5 [==============================] - 34s 8s/step - loss: 3.7682 - accuracy: 0.2281 - val_loss: 3.8050 - val_accuracy: 0.2586\n",
            "Epoch 5/10\n",
            "5/5 [==============================] - 35s 8s/step - loss: 3.0630 - accuracy: 0.2875 - val_loss: 3.8050 - val_accuracy: 0.2586\n",
            "Epoch 6/10\n",
            "5/5 [==============================] - 34s 8s/step - loss: 3.9696 - accuracy: 0.2406 - val_loss: 3.8050 - val_accuracy: 0.2586\n",
            "Epoch 7/10\n",
            "5/5 [==============================] - 35s 8s/step - loss: 3.4660 - accuracy: 0.2750 - val_loss: 3.8050 - val_accuracy: 0.2586\n",
            "Epoch 8/10\n",
            "5/5 [==============================] - 34s 8s/step - loss: 3.4156 - accuracy: 0.3156 - val_loss: 3.8050 - val_accuracy: 0.2586\n",
            "Epoch 9/10\n",
            "5/5 [==============================] - 34s 8s/step - loss: 3.8185 - accuracy: 0.2219 - val_loss: 3.8050 - val_accuracy: 0.2586\n",
            "Epoch 10/10\n",
            "5/5 [==============================] - 34s 8s/step - loss: 4.2719 - accuracy: 0.2313 - val_loss: 3.8050 - val_accuracy: 0.2586\n",
            "INFO:tensorflow:Assets written to: ram://bb2ad7ef-107b-48c5-9e39-4d0a8d6de7e9/assets\n",
            "INFO:tensorflow:Assets written to: ram://f42c25d3-7835-4ea6-ac37-ddf075caa5c0/assets\n",
            "INFO:tensorflow:Assets written to: ram://6ae37b89-877d-4e38-8a99-fdd9d6db8a1b/assets\n",
            "INFO:tensorflow:Assets written to: ram://23edee67-4c61-4c4a-bdae-cb2dc437295b/assets\n",
            "INFO:tensorflow:Assets written to: ram://1b6b9c7c-d277-4599-84fd-bc75ba7173e4/assets\n",
            "INFO:tensorflow:Assets written to: ram://c51505b3-f6a4-4371-a332-0da332b75bd3/assets\n",
            "INFO:tensorflow:Assets written to: ram://5f911edb-17ad-4801-9214-d331afcd4374/assets\n",
            "INFO:tensorflow:Assets written to: ram://ec1c5772-099d-461d-b7a7-1e470ea18430/assets\n"
          ]
        }
      ]
    },
    {
      "cell_type": "code",
      "source": [
        "# save\n",
        "with open(f'results_Finetuning_{dt_string}.pickle', 'wb') as f:\n",
        "    pickle.dump(results_list, f, pickle.HIGHEST_PROTOCOL)"
      ],
      "metadata": {
        "id": "nAdPQV3EeZhO",
        "colab": {
          "base_uri": "https://localhost:8080/"
        },
        "outputId": "3e540246-7365-4cb4-e99a-2caca9007427"
      },
      "execution_count": 32,
      "outputs": [
        {
          "output_type": "stream",
          "name": "stdout",
          "text": [
            "INFO:tensorflow:Assets written to: ram://b73ca9e0-3976-45e6-adc0-b5b445df37eb/assets\n",
            "INFO:tensorflow:Assets written to: ram://06d6f51e-7aa0-47ea-992f-432cb1194cb6/assets\n",
            "INFO:tensorflow:Assets written to: ram://2f6bd058-fad1-4675-8a64-0392ca746720/assets\n",
            "INFO:tensorflow:Assets written to: ram://08f47f55-91b1-431d-aa67-dd2a600c7db7/assets\n",
            "INFO:tensorflow:Assets written to: ram://52dff555-3253-4ab0-8a51-f98cfb56032a/assets\n",
            "INFO:tensorflow:Assets written to: ram://fbd74bcb-8f00-45b6-a03e-117ea6671934/assets\n",
            "INFO:tensorflow:Assets written to: ram://08649c08-9c5e-41c1-8e15-7ef9fd68bde4/assets\n",
            "INFO:tensorflow:Assets written to: ram://9fe81465-8096-4a1f-a867-91d778e3d1ef/assets\n",
            "INFO:tensorflow:Assets written to: ram://386548f2-c50c-4318-9a9d-21281249b66d/assets\n",
            "INFO:tensorflow:Assets written to: ram://4518a70f-0181-4109-8ca2-13cb40c92ebd/assets\n",
            "INFO:tensorflow:Assets written to: ram://fd1cadbc-ad9f-4e48-9c38-a34633998bc2/assets\n",
            "INFO:tensorflow:Assets written to: ram://c57eb5e0-260a-40a9-9162-03fe8bb9cdbd/assets\n",
            "INFO:tensorflow:Assets written to: ram://72245fec-4017-49ad-9100-13261f6a6d31/assets\n",
            "INFO:tensorflow:Assets written to: ram://8ce9d4a2-a60f-486d-ac40-2ddf291cdc09/assets\n",
            "INFO:tensorflow:Assets written to: ram://61e3557f-9ce6-453e-b873-7b80cf125dde/assets\n",
            "INFO:tensorflow:Assets written to: ram://82625760-6178-46b7-b3fe-50f48179b945/assets\n",
            "INFO:tensorflow:Assets written to: ram://8efbf7ab-5065-424b-8f23-f3d89eb27f2c/assets\n",
            "INFO:tensorflow:Assets written to: ram://1f1b4a13-2a26-45c5-8029-9960c60a0704/assets\n",
            "INFO:tensorflow:Assets written to: ram://ce0c4558-17d7-4527-ac92-01bda2152e86/assets\n",
            "INFO:tensorflow:Assets written to: ram://cd511321-92d9-4a3b-a1a7-a80d89279615/assets\n",
            "INFO:tensorflow:Assets written to: ram://ba0d0f18-805d-4d09-8ef9-fcb3049b6860/assets\n",
            "INFO:tensorflow:Assets written to: ram://bce38d21-b98e-45fb-9128-431a6cbe6baa/assets\n",
            "INFO:tensorflow:Assets written to: ram://3928ce68-2d82-434c-bafb-b2e9e4dfa6c5/assets\n",
            "INFO:tensorflow:Assets written to: ram://28463b4d-28ed-4c44-ad59-054dc3bb27d0/assets\n"
          ]
        }
      ]
    }
  ]
}