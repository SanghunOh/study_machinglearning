{
  "nbformat": 4,
  "nbformat_minor": 0,
  "metadata": {
    "colab": {
      "name": "Term_2_CNN_MPIE_results.ipynb",
      "provenance": [],
      "collapsed_sections": [],
      "mount_file_id": "https://github.com/SanghunOh/study_machinglearning/blob/main/codes/sanghunoh/reports/Term_2_CNN_MPIE_results.ipynb",
      "authorship_tag": "ABX9TyN12AoWdGZHH7NdIp19CEIy",
      "include_colab_link": true
    },
    "kernelspec": {
      "name": "python3",
      "display_name": "Python 3"
    },
    "language_info": {
      "name": "python"
    }
  },
  "cells": [
    {
      "cell_type": "markdown",
      "metadata": {
        "id": "view-in-github",
        "colab_type": "text"
      },
      "source": [
        "<a href=\"https://colab.research.google.com/github/SanghunOh/study_machinglearning/blob/main/codes/sanghunoh/reports/Term_2_CNN_MPIE_results.ipynb\" target=\"_parent\"><img src=\"https://colab.research.google.com/assets/colab-badge.svg\" alt=\"Open In Colab\"/></a>"
      ]
    },
    {
      "cell_type": "markdown",
      "source": [
        "##Connect Drive"
      ],
      "metadata": {
        "id": "E30jLi471ulb"
      }
    },
    {
      "cell_type": "code",
      "execution_count": 1,
      "metadata": {
        "colab": {
          "base_uri": "https://localhost:8080/"
        },
        "id": "EzTeCLP51cM7",
        "outputId": "98dc0bd3-0ade-43f8-88eb-900cbd4b42c2"
      },
      "outputs": [
        {
          "output_type": "stream",
          "name": "stdout",
          "text": [
            "/content/drive/MyDrive/Colab Notebooks/00.study/10.knou/datas\n"
          ]
        }
      ],
      "source": [
        "path_root = '/content/drive/MyDrive/datas/'\n",
        "\n",
        "# 작업 경로 설정\n",
        "import os\n",
        "os.chdir(path_root)\n",
        "!pwd"
      ]
    },
    {
      "cell_type": "markdown",
      "source": [
        "##Load Trained Model"
      ],
      "metadata": {
        "id": "OTHDgaLB2Vk6"
      }
    },
    {
      "cell_type": "code",
      "source": [
        "import pickle\n",
        "results_file = 'results_CNN_202205290150.pickle'\n",
        "with open(results_file, 'rb') as f:\n",
        "  results = pickle.load(f)\n",
        "results   # model, history, execution_time, _params"
      ],
      "metadata": {
        "colab": {
          "base_uri": "https://localhost:8080/"
        },
        "id": "b-KGLqVq2Yzg",
        "outputId": "0156fc2a-dc05-450f-8d60-4a7855b46a19"
      },
      "execution_count": 2,
      "outputs": [
        {
          "output_type": "execute_result",
          "data": {
            "text/plain": [
              "[(<keras.engine.sequential.Sequential at 0x7f260c815e90>,\n",
              "  <keras.callbacks.History at 0x7f2684de8b50>,\n",
              "  82.97611904144287,\n",
              "  {'_activation': 'sigmoid',\n",
              "   '_class_cnt': 5,\n",
              "   '_kernel_initializer': None,\n",
              "   '_kernel_size': (3, 3),\n",
              "   '_optimizer': 'Adam',\n",
              "   '_padding': 'same',\n",
              "   '_strides': (1, 1),\n",
              "   'batch_normal': False,\n",
              "   'epochs': 50,\n",
              "   'filters': 16,\n",
              "   'label_class': 4,\n",
              "   'pool_type': 'average'}),\n",
              " (<keras.engine.sequential.Sequential at 0x7f2601329c10>,\n",
              "  <keras.callbacks.History at 0x7f260527f050>,\n",
              "  80.95225310325623,\n",
              "  {'_activation': 'sigmoid',\n",
              "   '_class_cnt': 5,\n",
              "   '_kernel_initializer': None,\n",
              "   '_kernel_size': (3, 3),\n",
              "   '_optimizer': 'Adam',\n",
              "   '_padding': 'same',\n",
              "   '_strides': (1, 1),\n",
              "   'batch_normal': False,\n",
              "   'epochs': 50,\n",
              "   'filters': 16,\n",
              "   'label_class': 4,\n",
              "   'pool_type': 'max'}),\n",
              " (<keras.engine.sequential.Sequential at 0x7f2601329790>,\n",
              "  <keras.callbacks.History at 0x7f260128e6d0>,\n",
              "  83.16095161437988,\n",
              "  {'_activation': 'sigmoid',\n",
              "   '_class_cnt': 5,\n",
              "   '_kernel_initializer': None,\n",
              "   '_kernel_size': (3, 3),\n",
              "   '_optimizer': 'Adam',\n",
              "   '_padding': 'same',\n",
              "   '_strides': (1, 1),\n",
              "   'batch_normal': False,\n",
              "   'epochs': 50,\n",
              "   'filters': 16,\n",
              "   'label_class': 4,\n",
              "   'pool_type': 'average'}),\n",
              " (<keras.engine.sequential.Sequential at 0x7f2600fd3ad0>,\n",
              "  <keras.callbacks.History at 0x7f2600fbb3d0>,\n",
              "  79.54694485664368,\n",
              "  {'_activation': 'sigmoid',\n",
              "   '_class_cnt': 5,\n",
              "   '_kernel_initializer': None,\n",
              "   '_kernel_size': (3, 3),\n",
              "   '_optimizer': 'Adam',\n",
              "   '_padding': 'same',\n",
              "   '_strides': (1, 1),\n",
              "   'batch_normal': False,\n",
              "   'epochs': 50,\n",
              "   'filters': 16,\n",
              "   'label_class': 4,\n",
              "   'pool_type': 'max'}),\n",
              " (<keras.engine.sequential.Sequential at 0x7f2600ce6d10>,\n",
              "  <keras.callbacks.History at 0x7f2600e56110>,\n",
              "  83.88028144836426,\n",
              "  {'_activation': 'sigmoid',\n",
              "   '_class_cnt': 5,\n",
              "   '_kernel_initializer': None,\n",
              "   '_kernel_size': (3, 3),\n",
              "   '_optimizer': 'Adam',\n",
              "   '_padding': 'same',\n",
              "   '_strides': (1, 1),\n",
              "   'batch_normal': False,\n",
              "   'epochs': 50,\n",
              "   'filters': 16,\n",
              "   'label_class': 4,\n",
              "   'pool_type': 'average'}),\n",
              " (<keras.engine.sequential.Sequential at 0x7f2600b95110>,\n",
              "  <keras.callbacks.History at 0x7f2600d7fd90>,\n",
              "  80.72435855865479,\n",
              "  {'_activation': 'sigmoid',\n",
              "   '_class_cnt': 5,\n",
              "   '_kernel_initializer': None,\n",
              "   '_kernel_size': (3, 3),\n",
              "   '_optimizer': 'Adam',\n",
              "   '_padding': 'same',\n",
              "   '_strides': (1, 1),\n",
              "   'batch_normal': False,\n",
              "   'epochs': 50,\n",
              "   'filters': 16,\n",
              "   'label_class': 4,\n",
              "   'pool_type': 'max'})]"
            ]
          },
          "metadata": {},
          "execution_count": 2
        }
      ]
    },
    {
      "cell_type": "markdown",
      "source": [
        "## show model"
      ],
      "metadata": {
        "id": "ZW5_D9ix3lzw"
      }
    },
    {
      "cell_type": "code",
      "source": [
        "def drawModel(index, model, savefile=True):\n",
        "  tf.keras.utils.plot_model(model, to_file=f'model_{index}.png', show_shapes=True, show_dtype=True, expand_nested=True, show_layer_activations=True, ) #layer_range=?, \n",
        "\n",
        "model = results[0][0]\n",
        "# drawModel(None, model)\n",
        "print(len(model.layers), model.layers, )"
      ],
      "metadata": {
        "id": "vKb5ACXx34vs",
        "colab": {
          "base_uri": "https://localhost:8080/"
        },
        "outputId": "89353257-8853-4e14-a3ee-5017a7a8d265"
      },
      "execution_count": 3,
      "outputs": [
        {
          "output_type": "stream",
          "name": "stdout",
          "text": [
            "7 [<keras.layers.convolutional.Conv2D object at 0x7f26081c2ed0>, <keras.layers.core.activation.Activation object at 0x7f2605265fd0>, <keras.layers.pooling.AveragePooling2D object at 0x7f26015084d0>, <keras.layers.core.flatten.Flatten object at 0x7f260150b110>, <keras.layers.core.dense.Dense object at 0x7f2605265dd0>, <keras.layers.core.dropout.Dropout object at 0x7f2601511650>, <keras.layers.core.dense.Dense object at 0x7f2601511fd0>]\n"
          ]
        }
      ]
    },
    {
      "cell_type": "markdown",
      "source": [
        "##drawing history model"
      ],
      "metadata": {
        "id": "ZmJw88aRF63i"
      }
    },
    {
      "cell_type": "code",
      "source": [
        "import matplotlib.pyplot as plt\n",
        "\n",
        "def drawModelHistory(index, history, training_time, filesave=True):\n",
        "  _epochs = history.params['epochs']\n",
        "  acc = history.history['accuracy']\n",
        "  val_acc = history.history['val_accuracy']\n",
        "\n",
        "  loss = history.history['loss']\n",
        "  val_loss = history.history['val_loss']\n",
        "\n",
        "  epochs_range = range(_epochs)\n",
        "  # acc, list(epochs_range)\n",
        "\n",
        "  plt.figure(figsize=(20, 6))\n",
        "  plt.subplot(1, 2, 1)\n",
        "  plt.plot(epochs_range, acc, label='Training Accuracy')\n",
        "  plt.plot(epochs_range, val_acc, label='Validation Accuracy')\n",
        "  plt.legend(loc='lower right')\n",
        "  plt.title(f'Training and Validation Accuracy ({index})')\n",
        "\n",
        "  plt.subplot(1, 2, 2)\n",
        "  plt.plot(epochs_range, loss, label='Training Loss')\n",
        "  plt.plot(epochs_range, val_loss, label='Validation Loss')\n",
        "  plt.legend(loc='upper right')\n",
        "  plt.title(f'Training and Validation Loss ({index})')\n",
        "  plt.savefig(f'history_{index}.png', bbox_inches='tight')\n",
        "  plt.show()\n",
        "\n",
        "history = results[0][1]\n",
        "drawModelHistory(None, history, None)"
      ],
      "metadata": {
        "id": "mzlMqaVi3YD4",
        "colab": {
          "base_uri": "https://localhost:8080/",
          "height": 390
        },
        "outputId": "29e09b6b-915a-4b58-c07a-391865f2476e"
      },
      "execution_count": 4,
      "outputs": [
        {
          "output_type": "display_data",
          "data": {
            "text/plain": [
              "<Figure size 1440x432 with 2 Axes>"
            ],
            "image/png": "[encoded data removed]"
          },
          "metadata": {
            "needs_background": "light"
          }
        }
      ]
    },
    {
      "cell_type": "markdown",
      "source": [
        "##make list from anothers params"
      ],
      "metadata": {
        "id": "8tzsFg0aQOxD"
      }
    },
    {
      "cell_type": "code",
      "source": [
        "training_time = results[0][2]\n",
        "params = results[0][3]"
      ],
      "metadata": {
        "id": "_GB-OE_RRRGo"
      },
      "execution_count": 5,
      "outputs": []
    },
    {
      "cell_type": "code",
      "source": [
        "history.history.keys(), history.params.keys(), training_time, params.keys()"
      ],
      "metadata": {
        "colab": {
          "base_uri": "https://localhost:8080/"
        },
        "id": "6yu0R8u-QcBd",
        "outputId": "150782d5-25c2-4d8c-f7a9-127b0d938711"
      },
      "execution_count": 6,
      "outputs": [
        {
          "output_type": "execute_result",
          "data": {
            "text/plain": [
              "(dict_keys(['loss', 'accuracy', 'val_loss', 'val_accuracy']),\n",
              " dict_keys(['verbose', 'epochs', 'steps']),\n",
              " 82.97611904144287,\n",
              " dict_keys(['filters', '_padding', '_kernel_initializer', '_activation', '_optimizer', 'batch_normal', 'epochs', '_kernel_size', '_strides', 'pool_type', '_class_cnt', 'label_class']))"
            ]
          },
          "metadata": {},
          "execution_count": 6
        }
      ]
    },
    {
      "cell_type": "code",
      "source": [
        "# list(history.history.values())[0], type(history.history.values()), "
      ],
      "metadata": {
        "id": "f78hj26TRnaS"
      },
      "execution_count": 7,
      "outputs": []
    },
    {
      "cell_type": "code",
      "source": [
        "import numpy as np\n",
        "\n",
        "history_values = np.array(list(history.history.values()))\n",
        "history_values.shape, history_values[:,-1], list(history_values[:,-1])\n"
      ],
      "metadata": {
        "colab": {
          "base_uri": "https://localhost:8080/"
        },
        "id": "gyPl-t2dSq1R",
        "outputId": "a26fc75f-b18e-41c3-cc0b-04674d28e18f"
      },
      "execution_count": 8,
      "outputs": [
        {
          "output_type": "execute_result",
          "data": {
            "text/plain": [
              "((4, 50),\n",
              " array([1.47884321, 0.515625  , 1.45456147, 0.53873378]),\n",
              " [1.4788432121276855, 0.515625, 1.454561471939087, 0.5387337803840637])"
            ]
          },
          "metadata": {},
          "execution_count": 8
        }
      ]
    },
    {
      "cell_type": "code",
      "source": [
        "history_values = list(np.array(list(history.history.values()))[:,-1])\n",
        "history_values"
      ],
      "metadata": {
        "colab": {
          "base_uri": "https://localhost:8080/"
        },
        "id": "lhTFKNDYWRJZ",
        "outputId": "0629668b-390f-4cd0-88da-874a65f5dec4"
      },
      "execution_count": 9,
      "outputs": [
        {
          "output_type": "execute_result",
          "data": {
            "text/plain": [
              "[1.4788432121276855, 0.515625, 1.454561471939087, 0.5387337803840637]"
            ]
          },
          "metadata": {},
          "execution_count": 9
        }
      ]
    },
    {
      "cell_type": "code",
      "source": [
        "list(history.params.values())"
      ],
      "metadata": {
        "colab": {
          "base_uri": "https://localhost:8080/"
        },
        "id": "I9O-wDdEWFLg",
        "outputId": "a4be175d-be5b-4159-c0c2-1baa2b3b36b3"
      },
      "execution_count": 10,
      "outputs": [
        {
          "output_type": "execute_result",
          "data": {
            "text/plain": [
              "[1, 50, 2]"
            ]
          },
          "metadata": {},
          "execution_count": 10
        }
      ]
    },
    {
      "cell_type": "code",
      "source": [
        "params_values = list(params.values())\n",
        "# params_values"
      ],
      "metadata": {
        "id": "rr8FW8jSVqui"
      },
      "execution_count": 11,
      "outputs": []
    },
    {
      "cell_type": "code",
      "source": [
        "_training_time = [training_time]\n",
        "_training_time, type(_training_time)"
      ],
      "metadata": {
        "colab": {
          "base_uri": "https://localhost:8080/"
        },
        "id": "f_7SMGdqWq8b",
        "outputId": "9e252978-70d4-430b-f648-5d3ee3664829"
      },
      "execution_count": 12,
      "outputs": [
        {
          "output_type": "execute_result",
          "data": {
            "text/plain": [
              "([82.97611904144287], list)"
            ]
          },
          "metadata": {},
          "execution_count": 12
        }
      ]
    },
    {
      "cell_type": "code",
      "source": [
        "import numpy as np\n",
        "# value list : params + history values + model layers + training time + history params\n",
        "def resultvaluesTolist(model, history, training_time, params):\n",
        "  model_layer_depth = [len(model.layers)]\n",
        "  history_values = list(np.array(list(history.history.values()))[:,-1])\n",
        "  history_params = list(history.params.values())\n",
        "  _training_time = [training_time]\n",
        "  params_values = list(params.values())\n",
        "  _value_list = params_values + history_values + model_layer_depth + _training_time + history_params\n",
        "  return _value_list\n",
        "value_list = resultvaluesTolist(model, history, training_time, params)\n",
        "# value_list"
      ],
      "metadata": {
        "id": "1W1Q08jCT7wq"
      },
      "execution_count": 13,
      "outputs": []
    },
    {
      "cell_type": "markdown",
      "source": [
        "## store results"
      ],
      "metadata": {
        "id": "FJso3nw4Q9L2"
      }
    },
    {
      "cell_type": "code",
      "source": [
        "import tensorflow as tf\n",
        "result_list = list()\n",
        "for idx, result in enumerate(results):\n",
        "  model, history, training_time, params = result[0], result[1], result[2], result[3]\n",
        "  print(f'Training Time : {training_time:.3f} sec')\n",
        "  # drawModelHistory(idx, history, training_time)\n",
        "  result_list.append(resultvaluesTolist(model, history, training_time, params))\n"
      ],
      "metadata": {
        "id": "xyvKQ57H23X8",
        "colab": {
          "base_uri": "https://localhost:8080/"
        },
        "outputId": "e5a6119e-a759-4012-8d44-076774f269d7"
      },
      "execution_count": 14,
      "outputs": [
        {
          "output_type": "stream",
          "name": "stdout",
          "text": [
            "Training Time : 82.976 sec\n",
            "Training Time : 80.952 sec\n",
            "Training Time : 83.161 sec\n",
            "Training Time : 79.547 sec\n",
            "Training Time : 83.880 sec\n",
            "Training Time : 80.724 sec\n"
          ]
        }
      ]
    },
    {
      "cell_type": "markdown",
      "source": [
        "##evaluation with params value"
      ],
      "metadata": {
        "id": "Lr0V1VckQv88"
      }
    },
    {
      "cell_type": "code",
      "source": [
        "column_name = list(params.keys())+list(history.history.keys())+['model_layer_depth','training_time']+list(history.params.keys())\n",
        "print(column_name, len(column_name))"
      ],
      "metadata": {
        "id": "cxM7sSgOPgr2",
        "outputId": "9141a31a-28f3-4eeb-8af2-8589df99f956",
        "colab": {
          "base_uri": "https://localhost:8080/"
        }
      },
      "execution_count": 15,
      "outputs": [
        {
          "output_type": "stream",
          "name": "stdout",
          "text": [
            "['filters', '_padding', '_kernel_initializer', '_activation', '_optimizer', 'batch_normal', 'epochs', '_kernel_size', '_strides', 'pool_type', '_class_cnt', 'label_class', 'loss', 'accuracy', 'val_loss', 'val_accuracy', 'model_layer_depth', 'training_time', 'verbose', 'epochs', 'steps'] 21\n"
          ]
        }
      ]
    },
    {
      "cell_type": "code",
      "source": [
        "import pandas as pd\n",
        "result_df = pd.DataFrame(data=result_list, columns=column_name)\n",
        "# result_df_epochs\n",
        "result_df_epochs = result_df.iloc[:,[6]]\n",
        "\n",
        "result_df.drop(labels='epochs', axis=1, inplace=True)\n",
        "result_df = pd.concat([result_df, result_df_epochs], axis=1)\n",
        "result_df.keys()\n",
        "result_df"
      ],
      "metadata": {
        "id": "X4ZFsQCVgjek",
        "outputId": "7906aaaa-61f3-48f4-c4cb-9319bba5a358",
        "colab": {
          "base_uri": "https://localhost:8080/",
          "height": 302
        }
      },
      "execution_count": 16,
      "outputs": [
        {
          "output_type": "execute_result",
          "data": {
            "text/plain": [
              "   filters _padding _kernel_initializer _activation _optimizer  batch_normal  \\\n",
              "0       16     same                None     sigmoid       Adam         False   \n",
              "1       16     same                None     sigmoid       Adam         False   \n",
              "2       16     same                None     sigmoid       Adam         False   \n",
              "3       16     same                None     sigmoid       Adam         False   \n",
              "4       16     same                None     sigmoid       Adam         False   \n",
              "5       16     same                None     sigmoid       Adam         False   \n",
              "\n",
              "  _kernel_size _strides pool_type  _class_cnt  label_class      loss  \\\n",
              "0       (3, 3)   (1, 1)   average           5            4  1.478843   \n",
              "1       (3, 3)   (1, 1)       max           5            4  1.402791   \n",
              "2       (3, 3)   (1, 1)   average           5            4  1.918592   \n",
              "3       (3, 3)   (1, 1)       max           5            4  1.745440   \n",
              "4       (3, 3)   (1, 1)   average           5            4  1.670495   \n",
              "5       (3, 3)   (1, 1)       max           5            4  1.638149   \n",
              "\n",
              "   accuracy  val_loss  val_accuracy  model_layer_depth  training_time  \\\n",
              "0  0.515625  1.454561      0.538734                  7      82.976119   \n",
              "1  0.570312  1.450625      0.538734                  7      80.952253   \n",
              "2  0.171875  1.602529      0.231420                  7      83.160952   \n",
              "3  0.218750  1.603073      0.231420                  7      79.546945   \n",
              "4  0.289062  1.473867      0.328746                  7      83.880281   \n",
              "5  0.281250  1.471895      0.328746                  7      80.724359   \n",
              "\n",
              "   verbose  steps  epochs  \n",
              "0        1      2      50  \n",
              "1        1      2      50  \n",
              "2        1      2      50  \n",
              "3        1      2      50  \n",
              "4        1      2      50  \n",
              "5        1      2      50  "
            ],
            "text/html": [
              "\n",
              "  <div id=\"df-fcf89752-1171-44dd-899b-d6d3fe36357c\">\n",
              "    <div class=\"colab-df-container\">\n",
              "      <div>\n",
              "<style scoped>\n",
              "    .dataframe tbody tr th:only-of-type {\n",
              "        vertical-align: middle;\n",
              "    }\n",
              "\n",
              "    .dataframe tbody tr th {\n",
              "        vertical-align: top;\n",
              "    }\n",
              "\n",
              "    .dataframe thead th {\n",
              "        text-align: right;\n",
              "    }\n",
              "</style>\n",
              "<table border=\"1\" class=\"dataframe\">\n",
              "  <thead>\n",
              "    <tr style=\"text-align: right;\">\n",
              "      <th></th>\n",
              "      <th>filters</th>\n",
              "      <th>_padding</th>\n",
              "      <th>_kernel_initializer</th>\n",
              "      <th>_activation</th>\n",
              "      <th>_optimizer</th>\n",
              "      <th>batch_normal</th>\n",
              "      <th>_kernel_size</th>\n",
              "      <th>_strides</th>\n",
              "      <th>pool_type</th>\n",
              "      <th>_class_cnt</th>\n",
              "      <th>label_class</th>\n",
              "      <th>loss</th>\n",
              "      <th>accuracy</th>\n",
              "      <th>val_loss</th>\n",
              "      <th>val_accuracy</th>\n",
              "      <th>model_layer_depth</th>\n",
              "      <th>training_time</th>\n",
              "      <th>verbose</th>\n",
              "      <th>steps</th>\n",
              "      <th>epochs</th>\n",
              "    </tr>\n",
              "  </thead>\n",
              "  <tbody>\n",
              "    <tr>\n",
              "      <th>0</th>\n",
              "      <td>16</td>\n",
              "      <td>same</td>\n",
              "      <td>None</td>\n",
              "      <td>sigmoid</td>\n",
              "      <td>Adam</td>\n",
              "      <td>False</td>\n",
              "      <td>(3, 3)</td>\n",
              "      <td>(1, 1)</td>\n",
              "      <td>average</td>\n",
              "      <td>5</td>\n",
              "      <td>4</td>\n",
              "      <td>1.478843</td>\n",
              "      <td>0.515625</td>\n",
              "      <td>1.454561</td>\n",
              "      <td>0.538734</td>\n",
              "      <td>7</td>\n",
              "      <td>82.976119</td>\n",
              "      <td>1</td>\n",
              "      <td>2</td>\n",
              "      <td>50</td>\n",
              "    </tr>\n",
              "    <tr>\n",
              "      <th>1</th>\n",
              "      <td>16</td>\n",
              "      <td>same</td>\n",
              "      <td>None</td>\n",
              "      <td>sigmoid</td>\n",
              "      <td>Adam</td>\n",
              "      <td>False</td>\n",
              "      <td>(3, 3)</td>\n",
              "      <td>(1, 1)</td>\n",
              "      <td>max</td>\n",
              "      <td>5</td>\n",
              "      <td>4</td>\n",
              "      <td>1.402791</td>\n",
              "      <td>0.570312</td>\n",
              "      <td>1.450625</td>\n",
              "      <td>0.538734</td>\n",
              "      <td>7</td>\n",
              "      <td>80.952253</td>\n",
              "      <td>1</td>\n",
              "      <td>2</td>\n",
              "      <td>50</td>\n",
              "    </tr>\n",
              "    <tr>\n",
              "      <th>2</th>\n",
              "      <td>16</td>\n",
              "      <td>same</td>\n",
              "      <td>None</td>\n",
              "      <td>sigmoid</td>\n",
              "      <td>Adam</td>\n",
              "      <td>False</td>\n",
              "      <td>(3, 3)</td>\n",
              "      <td>(1, 1)</td>\n",
              "      <td>average</td>\n",
              "      <td>5</td>\n",
              "      <td>4</td>\n",
              "      <td>1.918592</td>\n",
              "      <td>0.171875</td>\n",
              "      <td>1.602529</td>\n",
              "      <td>0.231420</td>\n",
              "      <td>7</td>\n",
              "      <td>83.160952</td>\n",
              "      <td>1</td>\n",
              "      <td>2</td>\n",
              "      <td>50</td>\n",
              "    </tr>\n",
              "    <tr>\n",
              "      <th>3</th>\n",
              "      <td>16</td>\n",
              "      <td>same</td>\n",
              "      <td>None</td>\n",
              "      <td>sigmoid</td>\n",
              "      <td>Adam</td>\n",
              "      <td>False</td>\n",
              "      <td>(3, 3)</td>\n",
              "      <td>(1, 1)</td>\n",
              "      <td>max</td>\n",
              "      <td>5</td>\n",
              "      <td>4</td>\n",
              "      <td>1.745440</td>\n",
              "      <td>0.218750</td>\n",
              "      <td>1.603073</td>\n",
              "      <td>0.231420</td>\n",
              "      <td>7</td>\n",
              "      <td>79.546945</td>\n",
              "      <td>1</td>\n",
              "      <td>2</td>\n",
              "      <td>50</td>\n",
              "    </tr>\n",
              "    <tr>\n",
              "      <th>4</th>\n",
              "      <td>16</td>\n",
              "      <td>same</td>\n",
              "      <td>None</td>\n",
              "      <td>sigmoid</td>\n",
              "      <td>Adam</td>\n",
              "      <td>False</td>\n",
              "      <td>(3, 3)</td>\n",
              "      <td>(1, 1)</td>\n",
              "      <td>average</td>\n",
              "      <td>5</td>\n",
              "      <td>4</td>\n",
              "      <td>1.670495</td>\n",
              "      <td>0.289062</td>\n",
              "      <td>1.473867</td>\n",
              "      <td>0.328746</td>\n",
              "      <td>7</td>\n",
              "      <td>83.880281</td>\n",
              "      <td>1</td>\n",
              "      <td>2</td>\n",
              "      <td>50</td>\n",
              "    </tr>\n",
              "    <tr>\n",
              "      <th>5</th>\n",
              "      <td>16</td>\n",
              "      <td>same</td>\n",
              "      <td>None</td>\n",
              "      <td>sigmoid</td>\n",
              "      <td>Adam</td>\n",
              "      <td>False</td>\n",
              "      <td>(3, 3)</td>\n",
              "      <td>(1, 1)</td>\n",
              "      <td>max</td>\n",
              "      <td>5</td>\n",
              "      <td>4</td>\n",
              "      <td>1.638149</td>\n",
              "      <td>0.281250</td>\n",
              "      <td>1.471895</td>\n",
              "      <td>0.328746</td>\n",
              "      <td>7</td>\n",
              "      <td>80.724359</td>\n",
              "      <td>1</td>\n",
              "      <td>2</td>\n",
              "      <td>50</td>\n",
              "    </tr>\n",
              "  </tbody>\n",
              "</table>\n",
              "</div>\n",
              "      <button class=\"colab-df-convert\" onclick=\"convertToInteractive('df-fcf89752-1171-44dd-899b-d6d3fe36357c')\"\n",
              "              title=\"Convert this dataframe to an interactive table.\"\n",
              "              style=\"display:none;\">\n",
              "        \n",
              "  <svg xmlns=\"http://www.w3.org/2000/svg\" height=\"24px\"viewBox=\"0 0 24 24\"\n",
              "       width=\"24px\">\n",
              "    <path d=\"M0 0h24v24H0V0z\" fill=\"none\"/>\n",
              "    <path d=\"M18.56 5.44l.94 2.06.94-2.06 2.06-.94-2.06-.94-.94-2.06-.94 2.06-2.06.94zm-11 1L8.5 8.5l.94-2.06 2.06-.94-2.06-.94L8.5 2.5l-.94 2.06-2.06.94zm10 10l.94 2.06.94-2.06 2.06-.94-2.06-.94-.94-2.06-.94 2.06-2.06.94z\"/><path d=\"M17.41 7.96l-1.37-1.37c-.4-.4-.92-.59-1.43-.59-.52 0-1.04.2-1.43.59L10.3 9.45l-7.72 7.72c-.78.78-.78 2.05 0 2.83L4 21.41c.39.39.9.59 1.41.59.51 0 1.02-.2 1.41-.59l7.78-7.78 2.81-2.81c.8-.78.8-2.07 0-2.86zM5.41 20L4 18.59l7.72-7.72 1.47 1.35L5.41 20z\"/>\n",
              "  </svg>\n",
              "      </button>\n",
              "      \n",
              "  <style>\n",
              "    .colab-df-container {\n",
              "      display:flex;\n",
              "      flex-wrap:wrap;\n",
              "      gap: 12px;\n",
              "    }\n",
              "\n",
              "    .colab-df-convert {\n",
              "      background-color: #E8F0FE;\n",
              "      border: none;\n",
              "      border-radius: 50%;\n",
              "      cursor: pointer;\n",
              "      display: none;\n",
              "      fill: #1967D2;\n",
              "      height: 32px;\n",
              "      padding: 0 0 0 0;\n",
              "      width: 32px;\n",
              "    }\n",
              "\n",
              "    .colab-df-convert:hover {\n",
              "      background-color: #E2EBFA;\n",
              "      box-shadow: 0px 1px 2px rgba(60, 64, 67, 0.3), 0px 1px 3px 1px rgba(60, 64, 67, 0.15);\n",
              "      fill: #174EA6;\n",
              "    }\n",
              "\n",
              "    [theme=dark] .colab-df-convert {\n",
              "      background-color: #3B4455;\n",
              "      fill: #D2E3FC;\n",
              "    }\n",
              "\n",
              "    [theme=dark] .colab-df-convert:hover {\n",
              "      background-color: #434B5C;\n",
              "      box-shadow: 0px 1px 3px 1px rgba(0, 0, 0, 0.15);\n",
              "      filter: drop-shadow(0px 1px 2px rgba(0, 0, 0, 0.3));\n",
              "      fill: #FFFFFF;\n",
              "    }\n",
              "  </style>\n",
              "\n",
              "      <script>\n",
              "        const buttonEl =\n",
              "          document.querySelector('#df-fcf89752-1171-44dd-899b-d6d3fe36357c button.colab-df-convert');\n",
              "        buttonEl.style.display =\n",
              "          google.colab.kernel.accessAllowed ? 'block' : 'none';\n",
              "\n",
              "        async function convertToInteractive(key) {\n",
              "          const element = document.querySelector('#df-fcf89752-1171-44dd-899b-d6d3fe36357c');\n",
              "          const dataTable =\n",
              "            await google.colab.kernel.invokeFunction('convertToInteractive',\n",
              "                                                     [key], {});\n",
              "          if (!dataTable) return;\n",
              "\n",
              "          const docLinkHtml = 'Like what you see? Visit the ' +\n",
              "            '<a target=\"_blank\" href=https://colab.research.google.com/notebooks/data_table.ipynb>data table notebook</a>'\n",
              "            + ' to learn more about interactive tables.';\n",
              "          element.innerHTML = '';\n",
              "          dataTable['output_type'] = 'display_data';\n",
              "          await google.colab.output.renderOutput(dataTable, element);\n",
              "          const docLink = document.createElement('div');\n",
              "          docLink.innerHTML = docLinkHtml;\n",
              "          element.appendChild(docLink);\n",
              "        }\n",
              "      </script>\n",
              "    </div>\n",
              "  </div>\n",
              "  "
            ]
          },
          "metadata": {},
          "execution_count": 16
        }
      ]
    },
    {
      "cell_type": "code",
      "source": [
        "result_columns = ['loss', 'val_loss', 'accuracy', 'val_accuracy']\n",
        "\n",
        "# result_df_useful = result_df.loc[:,'filters':'training_time']\n",
        "result_df_useful = result_df.sort_values(result_columns, ascending = [True, False, True, False])\n",
        "\n",
        "result_df_useful"
      ],
      "metadata": {
        "colab": {
          "base_uri": "https://localhost:8080/",
          "height": 302
        },
        "id": "l5XisbODT-3n",
        "outputId": "a4195768-23e5-44ed-aac8-3f5078738be5"
      },
      "execution_count": 17,
      "outputs": [
        {
          "output_type": "execute_result",
          "data": {
            "text/plain": [
              "   filters _padding _kernel_initializer _activation _optimizer  batch_normal  \\\n",
              "1       16     same                None     sigmoid       Adam         False   \n",
              "0       16     same                None     sigmoid       Adam         False   \n",
              "5       16     same                None     sigmoid       Adam         False   \n",
              "4       16     same                None     sigmoid       Adam         False   \n",
              "3       16     same                None     sigmoid       Adam         False   \n",
              "2       16     same                None     sigmoid       Adam         False   \n",
              "\n",
              "  _kernel_size _strides pool_type  _class_cnt  label_class      loss  \\\n",
              "1       (3, 3)   (1, 1)       max           5            4  1.402791   \n",
              "0       (3, 3)   (1, 1)   average           5            4  1.478843   \n",
              "5       (3, 3)   (1, 1)       max           5            4  1.638149   \n",
              "4       (3, 3)   (1, 1)   average           5            4  1.670495   \n",
              "3       (3, 3)   (1, 1)       max           5            4  1.745440   \n",
              "2       (3, 3)   (1, 1)   average           5            4  1.918592   \n",
              "\n",
              "   accuracy  val_loss  val_accuracy  model_layer_depth  training_time  \\\n",
              "1  0.570312  1.450625      0.538734                  7      80.952253   \n",
              "0  0.515625  1.454561      0.538734                  7      82.976119   \n",
              "5  0.281250  1.471895      0.328746                  7      80.724359   \n",
              "4  0.289062  1.473867      0.328746                  7      83.880281   \n",
              "3  0.218750  1.603073      0.231420                  7      79.546945   \n",
              "2  0.171875  1.602529      0.231420                  7      83.160952   \n",
              "\n",
              "   verbose  steps  epochs  \n",
              "1        1      2      50  \n",
              "0        1      2      50  \n",
              "5        1      2      50  \n",
              "4        1      2      50  \n",
              "3        1      2      50  \n",
              "2        1      2      50  "
            ],
            "text/html": [
              "\n",
              "  <div id=\"df-ffbb746e-704c-4185-944d-d0a99c9789a8\">\n",
              "    <div class=\"colab-df-container\">\n",
              "      <div>\n",
              "<style scoped>\n",
              "    .dataframe tbody tr th:only-of-type {\n",
              "        vertical-align: middle;\n",
              "    }\n",
              "\n",
              "    .dataframe tbody tr th {\n",
              "        vertical-align: top;\n",
              "    }\n",
              "\n",
              "    .dataframe thead th {\n",
              "        text-align: right;\n",
              "    }\n",
              "</style>\n",
              "<table border=\"1\" class=\"dataframe\">\n",
              "  <thead>\n",
              "    <tr style=\"text-align: right;\">\n",
              "      <th></th>\n",
              "      <th>filters</th>\n",
              "      <th>_padding</th>\n",
              "      <th>_kernel_initializer</th>\n",
              "      <th>_activation</th>\n",
              "      <th>_optimizer</th>\n",
              "      <th>batch_normal</th>\n",
              "      <th>_kernel_size</th>\n",
              "      <th>_strides</th>\n",
              "      <th>pool_type</th>\n",
              "      <th>_class_cnt</th>\n",
              "      <th>label_class</th>\n",
              "      <th>loss</th>\n",
              "      <th>accuracy</th>\n",
              "      <th>val_loss</th>\n",
              "      <th>val_accuracy</th>\n",
              "      <th>model_layer_depth</th>\n",
              "      <th>training_time</th>\n",
              "      <th>verbose</th>\n",
              "      <th>steps</th>\n",
              "      <th>epochs</th>\n",
              "    </tr>\n",
              "  </thead>\n",
              "  <tbody>\n",
              "    <tr>\n",
              "      <th>1</th>\n",
              "      <td>16</td>\n",
              "      <td>same</td>\n",
              "      <td>None</td>\n",
              "      <td>sigmoid</td>\n",
              "      <td>Adam</td>\n",
              "      <td>False</td>\n",
              "      <td>(3, 3)</td>\n",
              "      <td>(1, 1)</td>\n",
              "      <td>max</td>\n",
              "      <td>5</td>\n",
              "      <td>4</td>\n",
              "      <td>1.402791</td>\n",
              "      <td>0.570312</td>\n",
              "      <td>1.450625</td>\n",
              "      <td>0.538734</td>\n",
              "      <td>7</td>\n",
              "      <td>80.952253</td>\n",
              "      <td>1</td>\n",
              "      <td>2</td>\n",
              "      <td>50</td>\n",
              "    </tr>\n",
              "    <tr>\n",
              "      <th>0</th>\n",
              "      <td>16</td>\n",
              "      <td>same</td>\n",
              "      <td>None</td>\n",
              "      <td>sigmoid</td>\n",
              "      <td>Adam</td>\n",
              "      <td>False</td>\n",
              "      <td>(3, 3)</td>\n",
              "      <td>(1, 1)</td>\n",
              "      <td>average</td>\n",
              "      <td>5</td>\n",
              "      <td>4</td>\n",
              "      <td>1.478843</td>\n",
              "      <td>0.515625</td>\n",
              "      <td>1.454561</td>\n",
              "      <td>0.538734</td>\n",
              "      <td>7</td>\n",
              "      <td>82.976119</td>\n",
              "      <td>1</td>\n",
              "      <td>2</td>\n",
              "      <td>50</td>\n",
              "    </tr>\n",
              "    <tr>\n",
              "      <th>5</th>\n",
              "      <td>16</td>\n",
              "      <td>same</td>\n",
              "      <td>None</td>\n",
              "      <td>sigmoid</td>\n",
              "      <td>Adam</td>\n",
              "      <td>False</td>\n",
              "      <td>(3, 3)</td>\n",
              "      <td>(1, 1)</td>\n",
              "      <td>max</td>\n",
              "      <td>5</td>\n",
              "      <td>4</td>\n",
              "      <td>1.638149</td>\n",
              "      <td>0.281250</td>\n",
              "      <td>1.471895</td>\n",
              "      <td>0.328746</td>\n",
              "      <td>7</td>\n",
              "      <td>80.724359</td>\n",
              "      <td>1</td>\n",
              "      <td>2</td>\n",
              "      <td>50</td>\n",
              "    </tr>\n",
              "    <tr>\n",
              "      <th>4</th>\n",
              "      <td>16</td>\n",
              "      <td>same</td>\n",
              "      <td>None</td>\n",
              "      <td>sigmoid</td>\n",
              "      <td>Adam</td>\n",
              "      <td>False</td>\n",
              "      <td>(3, 3)</td>\n",
              "      <td>(1, 1)</td>\n",
              "      <td>average</td>\n",
              "      <td>5</td>\n",
              "      <td>4</td>\n",
              "      <td>1.670495</td>\n",
              "      <td>0.289062</td>\n",
              "      <td>1.473867</td>\n",
              "      <td>0.328746</td>\n",
              "      <td>7</td>\n",
              "      <td>83.880281</td>\n",
              "      <td>1</td>\n",
              "      <td>2</td>\n",
              "      <td>50</td>\n",
              "    </tr>\n",
              "    <tr>\n",
              "      <th>3</th>\n",
              "      <td>16</td>\n",
              "      <td>same</td>\n",
              "      <td>None</td>\n",
              "      <td>sigmoid</td>\n",
              "      <td>Adam</td>\n",
              "      <td>False</td>\n",
              "      <td>(3, 3)</td>\n",
              "      <td>(1, 1)</td>\n",
              "      <td>max</td>\n",
              "      <td>5</td>\n",
              "      <td>4</td>\n",
              "      <td>1.745440</td>\n",
              "      <td>0.218750</td>\n",
              "      <td>1.603073</td>\n",
              "      <td>0.231420</td>\n",
              "      <td>7</td>\n",
              "      <td>79.546945</td>\n",
              "      <td>1</td>\n",
              "      <td>2</td>\n",
              "      <td>50</td>\n",
              "    </tr>\n",
              "    <tr>\n",
              "      <th>2</th>\n",
              "      <td>16</td>\n",
              "      <td>same</td>\n",
              "      <td>None</td>\n",
              "      <td>sigmoid</td>\n",
              "      <td>Adam</td>\n",
              "      <td>False</td>\n",
              "      <td>(3, 3)</td>\n",
              "      <td>(1, 1)</td>\n",
              "      <td>average</td>\n",
              "      <td>5</td>\n",
              "      <td>4</td>\n",
              "      <td>1.918592</td>\n",
              "      <td>0.171875</td>\n",
              "      <td>1.602529</td>\n",
              "      <td>0.231420</td>\n",
              "      <td>7</td>\n",
              "      <td>83.160952</td>\n",
              "      <td>1</td>\n",
              "      <td>2</td>\n",
              "      <td>50</td>\n",
              "    </tr>\n",
              "  </tbody>\n",
              "</table>\n",
              "</div>\n",
              "      <button class=\"colab-df-convert\" onclick=\"convertToInteractive('df-ffbb746e-704c-4185-944d-d0a99c9789a8')\"\n",
              "              title=\"Convert this dataframe to an interactive table.\"\n",
              "              style=\"display:none;\">\n",
              "        \n",
              "  <svg xmlns=\"http://www.w3.org/2000/svg\" height=\"24px\"viewBox=\"0 0 24 24\"\n",
              "       width=\"24px\">\n",
              "    <path d=\"M0 0h24v24H0V0z\" fill=\"none\"/>\n",
              "    <path d=\"M18.56 5.44l.94 2.06.94-2.06 2.06-.94-2.06-.94-.94-2.06-.94 2.06-2.06.94zm-11 1L8.5 8.5l.94-2.06 2.06-.94-2.06-.94L8.5 2.5l-.94 2.06-2.06.94zm10 10l.94 2.06.94-2.06 2.06-.94-2.06-.94-.94-2.06-.94 2.06-2.06.94z\"/><path d=\"M17.41 7.96l-1.37-1.37c-.4-.4-.92-.59-1.43-.59-.52 0-1.04.2-1.43.59L10.3 9.45l-7.72 7.72c-.78.78-.78 2.05 0 2.83L4 21.41c.39.39.9.59 1.41.59.51 0 1.02-.2 1.41-.59l7.78-7.78 2.81-2.81c.8-.78.8-2.07 0-2.86zM5.41 20L4 18.59l7.72-7.72 1.47 1.35L5.41 20z\"/>\n",
              "  </svg>\n",
              "      </button>\n",
              "      \n",
              "  <style>\n",
              "    .colab-df-container {\n",
              "      display:flex;\n",
              "      flex-wrap:wrap;\n",
              "      gap: 12px;\n",
              "    }\n",
              "\n",
              "    .colab-df-convert {\n",
              "      background-color: #E8F0FE;\n",
              "      border: none;\n",
              "      border-radius: 50%;\n",
              "      cursor: pointer;\n",
              "      display: none;\n",
              "      fill: #1967D2;\n",
              "      height: 32px;\n",
              "      padding: 0 0 0 0;\n",
              "      width: 32px;\n",
              "    }\n",
              "\n",
              "    .colab-df-convert:hover {\n",
              "      background-color: #E2EBFA;\n",
              "      box-shadow: 0px 1px 2px rgba(60, 64, 67, 0.3), 0px 1px 3px 1px rgba(60, 64, 67, 0.15);\n",
              "      fill: #174EA6;\n",
              "    }\n",
              "\n",
              "    [theme=dark] .colab-df-convert {\n",
              "      background-color: #3B4455;\n",
              "      fill: #D2E3FC;\n",
              "    }\n",
              "\n",
              "    [theme=dark] .colab-df-convert:hover {\n",
              "      background-color: #434B5C;\n",
              "      box-shadow: 0px 1px 3px 1px rgba(0, 0, 0, 0.15);\n",
              "      filter: drop-shadow(0px 1px 2px rgba(0, 0, 0, 0.3));\n",
              "      fill: #FFFFFF;\n",
              "    }\n",
              "  </style>\n",
              "\n",
              "      <script>\n",
              "        const buttonEl =\n",
              "          document.querySelector('#df-ffbb746e-704c-4185-944d-d0a99c9789a8 button.colab-df-convert');\n",
              "        buttonEl.style.display =\n",
              "          google.colab.kernel.accessAllowed ? 'block' : 'none';\n",
              "\n",
              "        async function convertToInteractive(key) {\n",
              "          const element = document.querySelector('#df-ffbb746e-704c-4185-944d-d0a99c9789a8');\n",
              "          const dataTable =\n",
              "            await google.colab.kernel.invokeFunction('convertToInteractive',\n",
              "                                                     [key], {});\n",
              "          if (!dataTable) return;\n",
              "\n",
              "          const docLinkHtml = 'Like what you see? Visit the ' +\n",
              "            '<a target=\"_blank\" href=https://colab.research.google.com/notebooks/data_table.ipynb>data table notebook</a>'\n",
              "            + ' to learn more about interactive tables.';\n",
              "          element.innerHTML = '';\n",
              "          dataTable['output_type'] = 'display_data';\n",
              "          await google.colab.output.renderOutput(dataTable, element);\n",
              "          const docLink = document.createElement('div');\n",
              "          docLink.innerHTML = docLinkHtml;\n",
              "          element.appendChild(docLink);\n",
              "        }\n",
              "      </script>\n",
              "    </div>\n",
              "  </div>\n",
              "  "
            ]
          },
          "metadata": {},
          "execution_count": 17
        }
      ]
    },
    {
      "cell_type": "markdown",
      "source": [
        "###Ascending Rank with low loss and high accuracy\n",
        "기준 : low loss and high accuracy (Overfitting은 다른 모델 방식에서 고려)"
      ],
      "metadata": {
        "id": "Nz4iiGJKdN5r"
      }
    },
    {
      "cell_type": "code",
      "source": [
        "result_rank = 6"
      ],
      "metadata": {
        "id": "4Snxx8mKdenu"
      },
      "execution_count": 18,
      "outputs": []
    },
    {
      "cell_type": "code",
      "source": [
        "result_df_rank = result_df_useful.iloc[:result_rank]\n",
        "result_df_rank"
      ],
      "metadata": {
        "id": "LaMCc75BQWUh",
        "outputId": "46809b9f-297f-4f78-9c66-098f2e789b93",
        "colab": {
          "base_uri": "https://localhost:8080/",
          "height": 302
        }
      },
      "execution_count": 19,
      "outputs": [
        {
          "output_type": "execute_result",
          "data": {
            "text/plain": [
              "   filters _padding _kernel_initializer _activation _optimizer  batch_normal  \\\n",
              "1       16     same                None     sigmoid       Adam         False   \n",
              "0       16     same                None     sigmoid       Adam         False   \n",
              "5       16     same                None     sigmoid       Adam         False   \n",
              "4       16     same                None     sigmoid       Adam         False   \n",
              "3       16     same                None     sigmoid       Adam         False   \n",
              "2       16     same                None     sigmoid       Adam         False   \n",
              "\n",
              "  _kernel_size _strides pool_type  _class_cnt  label_class      loss  \\\n",
              "1       (3, 3)   (1, 1)       max           5            4  1.402791   \n",
              "0       (3, 3)   (1, 1)   average           5            4  1.478843   \n",
              "5       (3, 3)   (1, 1)       max           5            4  1.638149   \n",
              "4       (3, 3)   (1, 1)   average           5            4  1.670495   \n",
              "3       (3, 3)   (1, 1)       max           5            4  1.745440   \n",
              "2       (3, 3)   (1, 1)   average           5            4  1.918592   \n",
              "\n",
              "   accuracy  val_loss  val_accuracy  model_layer_depth  training_time  \\\n",
              "1  0.570312  1.450625      0.538734                  7      80.952253   \n",
              "0  0.515625  1.454561      0.538734                  7      82.976119   \n",
              "5  0.281250  1.471895      0.328746                  7      80.724359   \n",
              "4  0.289062  1.473867      0.328746                  7      83.880281   \n",
              "3  0.218750  1.603073      0.231420                  7      79.546945   \n",
              "2  0.171875  1.602529      0.231420                  7      83.160952   \n",
              "\n",
              "   verbose  steps  epochs  \n",
              "1        1      2      50  \n",
              "0        1      2      50  \n",
              "5        1      2      50  \n",
              "4        1      2      50  \n",
              "3        1      2      50  \n",
              "2        1      2      50  "
            ],
            "text/html": [
              "\n",
              "  <div id=\"df-a017a2b4-58dc-42ae-8037-6733390a2c3f\">\n",
              "    <div class=\"colab-df-container\">\n",
              "      <div>\n",
              "<style scoped>\n",
              "    .dataframe tbody tr th:only-of-type {\n",
              "        vertical-align: middle;\n",
              "    }\n",
              "\n",
              "    .dataframe tbody tr th {\n",
              "        vertical-align: top;\n",
              "    }\n",
              "\n",
              "    .dataframe thead th {\n",
              "        text-align: right;\n",
              "    }\n",
              "</style>\n",
              "<table border=\"1\" class=\"dataframe\">\n",
              "  <thead>\n",
              "    <tr style=\"text-align: right;\">\n",
              "      <th></th>\n",
              "      <th>filters</th>\n",
              "      <th>_padding</th>\n",
              "      <th>_kernel_initializer</th>\n",
              "      <th>_activation</th>\n",
              "      <th>_optimizer</th>\n",
              "      <th>batch_normal</th>\n",
              "      <th>_kernel_size</th>\n",
              "      <th>_strides</th>\n",
              "      <th>pool_type</th>\n",
              "      <th>_class_cnt</th>\n",
              "      <th>label_class</th>\n",
              "      <th>loss</th>\n",
              "      <th>accuracy</th>\n",
              "      <th>val_loss</th>\n",
              "      <th>val_accuracy</th>\n",
              "      <th>model_layer_depth</th>\n",
              "      <th>training_time</th>\n",
              "      <th>verbose</th>\n",
              "      <th>steps</th>\n",
              "      <th>epochs</th>\n",
              "    </tr>\n",
              "  </thead>\n",
              "  <tbody>\n",
              "    <tr>\n",
              "      <th>1</th>\n",
              "      <td>16</td>\n",
              "      <td>same</td>\n",
              "      <td>None</td>\n",
              "      <td>sigmoid</td>\n",
              "      <td>Adam</td>\n",
              "      <td>False</td>\n",
              "      <td>(3, 3)</td>\n",
              "      <td>(1, 1)</td>\n",
              "      <td>max</td>\n",
              "      <td>5</td>\n",
              "      <td>4</td>\n",
              "      <td>1.402791</td>\n",
              "      <td>0.570312</td>\n",
              "      <td>1.450625</td>\n",
              "      <td>0.538734</td>\n",
              "      <td>7</td>\n",
              "      <td>80.952253</td>\n",
              "      <td>1</td>\n",
              "      <td>2</td>\n",
              "      <td>50</td>\n",
              "    </tr>\n",
              "    <tr>\n",
              "      <th>0</th>\n",
              "      <td>16</td>\n",
              "      <td>same</td>\n",
              "      <td>None</td>\n",
              "      <td>sigmoid</td>\n",
              "      <td>Adam</td>\n",
              "      <td>False</td>\n",
              "      <td>(3, 3)</td>\n",
              "      <td>(1, 1)</td>\n",
              "      <td>average</td>\n",
              "      <td>5</td>\n",
              "      <td>4</td>\n",
              "      <td>1.478843</td>\n",
              "      <td>0.515625</td>\n",
              "      <td>1.454561</td>\n",
              "      <td>0.538734</td>\n",
              "      <td>7</td>\n",
              "      <td>82.976119</td>\n",
              "      <td>1</td>\n",
              "      <td>2</td>\n",
              "      <td>50</td>\n",
              "    </tr>\n",
              "    <tr>\n",
              "      <th>5</th>\n",
              "      <td>16</td>\n",
              "      <td>same</td>\n",
              "      <td>None</td>\n",
              "      <td>sigmoid</td>\n",
              "      <td>Adam</td>\n",
              "      <td>False</td>\n",
              "      <td>(3, 3)</td>\n",
              "      <td>(1, 1)</td>\n",
              "      <td>max</td>\n",
              "      <td>5</td>\n",
              "      <td>4</td>\n",
              "      <td>1.638149</td>\n",
              "      <td>0.281250</td>\n",
              "      <td>1.471895</td>\n",
              "      <td>0.328746</td>\n",
              "      <td>7</td>\n",
              "      <td>80.724359</td>\n",
              "      <td>1</td>\n",
              "      <td>2</td>\n",
              "      <td>50</td>\n",
              "    </tr>\n",
              "    <tr>\n",
              "      <th>4</th>\n",
              "      <td>16</td>\n",
              "      <td>same</td>\n",
              "      <td>None</td>\n",
              "      <td>sigmoid</td>\n",
              "      <td>Adam</td>\n",
              "      <td>False</td>\n",
              "      <td>(3, 3)</td>\n",
              "      <td>(1, 1)</td>\n",
              "      <td>average</td>\n",
              "      <td>5</td>\n",
              "      <td>4</td>\n",
              "      <td>1.670495</td>\n",
              "      <td>0.289062</td>\n",
              "      <td>1.473867</td>\n",
              "      <td>0.328746</td>\n",
              "      <td>7</td>\n",
              "      <td>83.880281</td>\n",
              "      <td>1</td>\n",
              "      <td>2</td>\n",
              "      <td>50</td>\n",
              "    </tr>\n",
              "    <tr>\n",
              "      <th>3</th>\n",
              "      <td>16</td>\n",
              "      <td>same</td>\n",
              "      <td>None</td>\n",
              "      <td>sigmoid</td>\n",
              "      <td>Adam</td>\n",
              "      <td>False</td>\n",
              "      <td>(3, 3)</td>\n",
              "      <td>(1, 1)</td>\n",
              "      <td>max</td>\n",
              "      <td>5</td>\n",
              "      <td>4</td>\n",
              "      <td>1.745440</td>\n",
              "      <td>0.218750</td>\n",
              "      <td>1.603073</td>\n",
              "      <td>0.231420</td>\n",
              "      <td>7</td>\n",
              "      <td>79.546945</td>\n",
              "      <td>1</td>\n",
              "      <td>2</td>\n",
              "      <td>50</td>\n",
              "    </tr>\n",
              "    <tr>\n",
              "      <th>2</th>\n",
              "      <td>16</td>\n",
              "      <td>same</td>\n",
              "      <td>None</td>\n",
              "      <td>sigmoid</td>\n",
              "      <td>Adam</td>\n",
              "      <td>False</td>\n",
              "      <td>(3, 3)</td>\n",
              "      <td>(1, 1)</td>\n",
              "      <td>average</td>\n",
              "      <td>5</td>\n",
              "      <td>4</td>\n",
              "      <td>1.918592</td>\n",
              "      <td>0.171875</td>\n",
              "      <td>1.602529</td>\n",
              "      <td>0.231420</td>\n",
              "      <td>7</td>\n",
              "      <td>83.160952</td>\n",
              "      <td>1</td>\n",
              "      <td>2</td>\n",
              "      <td>50</td>\n",
              "    </tr>\n",
              "  </tbody>\n",
              "</table>\n",
              "</div>\n",
              "      <button class=\"colab-df-convert\" onclick=\"convertToInteractive('df-a017a2b4-58dc-42ae-8037-6733390a2c3f')\"\n",
              "              title=\"Convert this dataframe to an interactive table.\"\n",
              "              style=\"display:none;\">\n",
              "        \n",
              "  <svg xmlns=\"http://www.w3.org/2000/svg\" height=\"24px\"viewBox=\"0 0 24 24\"\n",
              "       width=\"24px\">\n",
              "    <path d=\"M0 0h24v24H0V0z\" fill=\"none\"/>\n",
              "    <path d=\"M18.56 5.44l.94 2.06.94-2.06 2.06-.94-2.06-.94-.94-2.06-.94 2.06-2.06.94zm-11 1L8.5 8.5l.94-2.06 2.06-.94-2.06-.94L8.5 2.5l-.94 2.06-2.06.94zm10 10l.94 2.06.94-2.06 2.06-.94-2.06-.94-.94-2.06-.94 2.06-2.06.94z\"/><path d=\"M17.41 7.96l-1.37-1.37c-.4-.4-.92-.59-1.43-.59-.52 0-1.04.2-1.43.59L10.3 9.45l-7.72 7.72c-.78.78-.78 2.05 0 2.83L4 21.41c.39.39.9.59 1.41.59.51 0 1.02-.2 1.41-.59l7.78-7.78 2.81-2.81c.8-.78.8-2.07 0-2.86zM5.41 20L4 18.59l7.72-7.72 1.47 1.35L5.41 20z\"/>\n",
              "  </svg>\n",
              "      </button>\n",
              "      \n",
              "  <style>\n",
              "    .colab-df-container {\n",
              "      display:flex;\n",
              "      flex-wrap:wrap;\n",
              "      gap: 12px;\n",
              "    }\n",
              "\n",
              "    .colab-df-convert {\n",
              "      background-color: #E8F0FE;\n",
              "      border: none;\n",
              "      border-radius: 50%;\n",
              "      cursor: pointer;\n",
              "      display: none;\n",
              "      fill: #1967D2;\n",
              "      height: 32px;\n",
              "      padding: 0 0 0 0;\n",
              "      width: 32px;\n",
              "    }\n",
              "\n",
              "    .colab-df-convert:hover {\n",
              "      background-color: #E2EBFA;\n",
              "      box-shadow: 0px 1px 2px rgba(60, 64, 67, 0.3), 0px 1px 3px 1px rgba(60, 64, 67, 0.15);\n",
              "      fill: #174EA6;\n",
              "    }\n",
              "\n",
              "    [theme=dark] .colab-df-convert {\n",
              "      background-color: #3B4455;\n",
              "      fill: #D2E3FC;\n",
              "    }\n",
              "\n",
              "    [theme=dark] .colab-df-convert:hover {\n",
              "      background-color: #434B5C;\n",
              "      box-shadow: 0px 1px 3px 1px rgba(0, 0, 0, 0.15);\n",
              "      filter: drop-shadow(0px 1px 2px rgba(0, 0, 0, 0.3));\n",
              "      fill: #FFFFFF;\n",
              "    }\n",
              "  </style>\n",
              "\n",
              "      <script>\n",
              "        const buttonEl =\n",
              "          document.querySelector('#df-a017a2b4-58dc-42ae-8037-6733390a2c3f button.colab-df-convert');\n",
              "        buttonEl.style.display =\n",
              "          google.colab.kernel.accessAllowed ? 'block' : 'none';\n",
              "\n",
              "        async function convertToInteractive(key) {\n",
              "          const element = document.querySelector('#df-a017a2b4-58dc-42ae-8037-6733390a2c3f');\n",
              "          const dataTable =\n",
              "            await google.colab.kernel.invokeFunction('convertToInteractive',\n",
              "                                                     [key], {});\n",
              "          if (!dataTable) return;\n",
              "\n",
              "          const docLinkHtml = 'Like what you see? Visit the ' +\n",
              "            '<a target=\"_blank\" href=https://colab.research.google.com/notebooks/data_table.ipynb>data table notebook</a>'\n",
              "            + ' to learn more about interactive tables.';\n",
              "          element.innerHTML = '';\n",
              "          dataTable['output_type'] = 'display_data';\n",
              "          await google.colab.output.renderOutput(dataTable, element);\n",
              "          const docLink = document.createElement('div');\n",
              "          docLink.innerHTML = docLinkHtml;\n",
              "          element.appendChild(docLink);\n",
              "        }\n",
              "      </script>\n",
              "    </div>\n",
              "  </div>\n",
              "  "
            ]
          },
          "metadata": {},
          "execution_count": 19
        }
      ]
    },
    {
      "cell_type": "code",
      "source": [
        "# result_df_rank[result_columns]\n",
        "plt.rcParams[\"figure.figsize\"] = (13, 7)\n",
        "result_df_rank[['loss', 'val_loss']].T.plot()\n",
        "plt.grid(axis='y')\n",
        "# plt.xticks(rotation=20)\n",
        "plt.show()\n",
        "\n",
        "result_df_rank[['accuracy', 'val_accuracy']].T.plot()\n",
        "plt.grid(axis='y')\n",
        "# plt.xticks(rotation=20)\n",
        "plt.show()"
      ],
      "metadata": {
        "colab": {
          "base_uri": "https://localhost:8080/",
          "height": 839
        },
        "id": "6BtL6Vcftuxl",
        "outputId": "030f22b3-aee6-4383-cabe-bfef2cb1c4a9"
      },
      "execution_count": 42,
      "outputs": [
        {
          "output_type": "display_data",
          "data": {
            "text/plain": [
              "<Figure size 936x504 with 1 Axes>"
            ],
            "image/png": "[encoded data removed]"
          },
          "metadata": {
            "needs_background": "light"
          }
        },
        {
          "output_type": "display_data",
          "data": {
            "text/plain": [
              "<Figure size 936x504 with 1 Axes>"
            ],
            "image/png": "[encoded data removed]"
          },
          "metadata": {
            "needs_background": "light"
          }
        }
      ]
    },
    {
      "cell_type": "code",
      "source": [
        "result_df_rank_str = result_df_rank.astype('str')\n",
        "result_df_rank_str.dtypes\n",
        "result_df_rank_str"
      ],
      "metadata": {
        "id": "bC3EJvMkSX_Y",
        "outputId": "b53f73bb-8317-4352-c83c-be562a6912f7",
        "colab": {
          "base_uri": "https://localhost:8080/",
          "height": 302
        }
      },
      "execution_count": 21,
      "outputs": [
        {
          "output_type": "execute_result",
          "data": {
            "text/plain": [
              "  filters _padding _kernel_initializer _activation _optimizer batch_normal  \\\n",
              "1      16     same                None     sigmoid       Adam        False   \n",
              "0      16     same                None     sigmoid       Adam        False   \n",
              "5      16     same                None     sigmoid       Adam        False   \n",
              "4      16     same                None     sigmoid       Adam        False   \n",
              "3      16     same                None     sigmoid       Adam        False   \n",
              "2      16     same                None     sigmoid       Adam        False   \n",
              "\n",
              "  _kernel_size _strides pool_type _class_cnt label_class                loss  \\\n",
              "1       (3, 3)   (1, 1)       max          5           4  1.4027912616729736   \n",
              "0       (3, 3)   (1, 1)   average          5           4  1.4788432121276855   \n",
              "5       (3, 3)   (1, 1)       max          5           4  1.6381494998931885   \n",
              "4       (3, 3)   (1, 1)   average          5           4   1.670494794845581   \n",
              "3       (3, 3)   (1, 1)       max          5           4  1.7454395294189453   \n",
              "2       (3, 3)   (1, 1)   average          5           4  1.9185922145843506   \n",
              "\n",
              "    accuracy            val_loss         val_accuracy model_layer_depth  \\\n",
              "1  0.5703125  1.4506250619888306   0.5387337803840637                 7   \n",
              "0   0.515625   1.454561471939087   0.5387337803840637                 7   \n",
              "5    0.28125   1.471895456314087    0.328745573759079                 7   \n",
              "4  0.2890625   1.473867416381836    0.328745573759079                 7   \n",
              "3    0.21875  1.6030725240707397  0.23141957819461823                 7   \n",
              "2   0.171875  1.6025285720825195  0.23141957819461823                 7   \n",
              "\n",
              "       training_time verbose steps epochs  \n",
              "1  80.95225310325623       1     2     50  \n",
              "0  82.97611904144287       1     2     50  \n",
              "5  80.72435855865479       1     2     50  \n",
              "4  83.88028144836426       1     2     50  \n",
              "3  79.54694485664368       1     2     50  \n",
              "2  83.16095161437988       1     2     50  "
            ],
            "text/html": [
              "\n",
              "  <div id=\"df-19dbfce4-ad87-457f-8747-c6c709093196\">\n",
              "    <div class=\"colab-df-container\">\n",
              "      <div>\n",
              "<style scoped>\n",
              "    .dataframe tbody tr th:only-of-type {\n",
              "        vertical-align: middle;\n",
              "    }\n",
              "\n",
              "    .dataframe tbody tr th {\n",
              "        vertical-align: top;\n",
              "    }\n",
              "\n",
              "    .dataframe thead th {\n",
              "        text-align: right;\n",
              "    }\n",
              "</style>\n",
              "<table border=\"1\" class=\"dataframe\">\n",
              "  <thead>\n",
              "    <tr style=\"text-align: right;\">\n",
              "      <th></th>\n",
              "      <th>filters</th>\n",
              "      <th>_padding</th>\n",
              "      <th>_kernel_initializer</th>\n",
              "      <th>_activation</th>\n",
              "      <th>_optimizer</th>\n",
              "      <th>batch_normal</th>\n",
              "      <th>_kernel_size</th>\n",
              "      <th>_strides</th>\n",
              "      <th>pool_type</th>\n",
              "      <th>_class_cnt</th>\n",
              "      <th>label_class</th>\n",
              "      <th>loss</th>\n",
              "      <th>accuracy</th>\n",
              "      <th>val_loss</th>\n",
              "      <th>val_accuracy</th>\n",
              "      <th>model_layer_depth</th>\n",
              "      <th>training_time</th>\n",
              "      <th>verbose</th>\n",
              "      <th>steps</th>\n",
              "      <th>epochs</th>\n",
              "    </tr>\n",
              "  </thead>\n",
              "  <tbody>\n",
              "    <tr>\n",
              "      <th>1</th>\n",
              "      <td>16</td>\n",
              "      <td>same</td>\n",
              "      <td>None</td>\n",
              "      <td>sigmoid</td>\n",
              "      <td>Adam</td>\n",
              "      <td>False</td>\n",
              "      <td>(3, 3)</td>\n",
              "      <td>(1, 1)</td>\n",
              "      <td>max</td>\n",
              "      <td>5</td>\n",
              "      <td>4</td>\n",
              "      <td>1.4027912616729736</td>\n",
              "      <td>0.5703125</td>\n",
              "      <td>1.4506250619888306</td>\n",
              "      <td>0.5387337803840637</td>\n",
              "      <td>7</td>\n",
              "      <td>80.95225310325623</td>\n",
              "      <td>1</td>\n",
              "      <td>2</td>\n",
              "      <td>50</td>\n",
              "    </tr>\n",
              "    <tr>\n",
              "      <th>0</th>\n",
              "      <td>16</td>\n",
              "      <td>same</td>\n",
              "      <td>None</td>\n",
              "      <td>sigmoid</td>\n",
              "      <td>Adam</td>\n",
              "      <td>False</td>\n",
              "      <td>(3, 3)</td>\n",
              "      <td>(1, 1)</td>\n",
              "      <td>average</td>\n",
              "      <td>5</td>\n",
              "      <td>4</td>\n",
              "      <td>1.4788432121276855</td>\n",
              "      <td>0.515625</td>\n",
              "      <td>1.454561471939087</td>\n",
              "      <td>0.5387337803840637</td>\n",
              "      <td>7</td>\n",
              "      <td>82.97611904144287</td>\n",
              "      <td>1</td>\n",
              "      <td>2</td>\n",
              "      <td>50</td>\n",
              "    </tr>\n",
              "    <tr>\n",
              "      <th>5</th>\n",
              "      <td>16</td>\n",
              "      <td>same</td>\n",
              "      <td>None</td>\n",
              "      <td>sigmoid</td>\n",
              "      <td>Adam</td>\n",
              "      <td>False</td>\n",
              "      <td>(3, 3)</td>\n",
              "      <td>(1, 1)</td>\n",
              "      <td>max</td>\n",
              "      <td>5</td>\n",
              "      <td>4</td>\n",
              "      <td>1.6381494998931885</td>\n",
              "      <td>0.28125</td>\n",
              "      <td>1.471895456314087</td>\n",
              "      <td>0.328745573759079</td>\n",
              "      <td>7</td>\n",
              "      <td>80.72435855865479</td>\n",
              "      <td>1</td>\n",
              "      <td>2</td>\n",
              "      <td>50</td>\n",
              "    </tr>\n",
              "    <tr>\n",
              "      <th>4</th>\n",
              "      <td>16</td>\n",
              "      <td>same</td>\n",
              "      <td>None</td>\n",
              "      <td>sigmoid</td>\n",
              "      <td>Adam</td>\n",
              "      <td>False</td>\n",
              "      <td>(3, 3)</td>\n",
              "      <td>(1, 1)</td>\n",
              "      <td>average</td>\n",
              "      <td>5</td>\n",
              "      <td>4</td>\n",
              "      <td>1.670494794845581</td>\n",
              "      <td>0.2890625</td>\n",
              "      <td>1.473867416381836</td>\n",
              "      <td>0.328745573759079</td>\n",
              "      <td>7</td>\n",
              "      <td>83.88028144836426</td>\n",
              "      <td>1</td>\n",
              "      <td>2</td>\n",
              "      <td>50</td>\n",
              "    </tr>\n",
              "    <tr>\n",
              "      <th>3</th>\n",
              "      <td>16</td>\n",
              "      <td>same</td>\n",
              "      <td>None</td>\n",
              "      <td>sigmoid</td>\n",
              "      <td>Adam</td>\n",
              "      <td>False</td>\n",
              "      <td>(3, 3)</td>\n",
              "      <td>(1, 1)</td>\n",
              "      <td>max</td>\n",
              "      <td>5</td>\n",
              "      <td>4</td>\n",
              "      <td>1.7454395294189453</td>\n",
              "      <td>0.21875</td>\n",
              "      <td>1.6030725240707397</td>\n",
              "      <td>0.23141957819461823</td>\n",
              "      <td>7</td>\n",
              "      <td>79.54694485664368</td>\n",
              "      <td>1</td>\n",
              "      <td>2</td>\n",
              "      <td>50</td>\n",
              "    </tr>\n",
              "    <tr>\n",
              "      <th>2</th>\n",
              "      <td>16</td>\n",
              "      <td>same</td>\n",
              "      <td>None</td>\n",
              "      <td>sigmoid</td>\n",
              "      <td>Adam</td>\n",
              "      <td>False</td>\n",
              "      <td>(3, 3)</td>\n",
              "      <td>(1, 1)</td>\n",
              "      <td>average</td>\n",
              "      <td>5</td>\n",
              "      <td>4</td>\n",
              "      <td>1.9185922145843506</td>\n",
              "      <td>0.171875</td>\n",
              "      <td>1.6025285720825195</td>\n",
              "      <td>0.23141957819461823</td>\n",
              "      <td>7</td>\n",
              "      <td>83.16095161437988</td>\n",
              "      <td>1</td>\n",
              "      <td>2</td>\n",
              "      <td>50</td>\n",
              "    </tr>\n",
              "  </tbody>\n",
              "</table>\n",
              "</div>\n",
              "      <button class=\"colab-df-convert\" onclick=\"convertToInteractive('df-19dbfce4-ad87-457f-8747-c6c709093196')\"\n",
              "              title=\"Convert this dataframe to an interactive table.\"\n",
              "              style=\"display:none;\">\n",
              "        \n",
              "  <svg xmlns=\"http://www.w3.org/2000/svg\" height=\"24px\"viewBox=\"0 0 24 24\"\n",
              "       width=\"24px\">\n",
              "    <path d=\"M0 0h24v24H0V0z\" fill=\"none\"/>\n",
              "    <path d=\"M18.56 5.44l.94 2.06.94-2.06 2.06-.94-2.06-.94-.94-2.06-.94 2.06-2.06.94zm-11 1L8.5 8.5l.94-2.06 2.06-.94-2.06-.94L8.5 2.5l-.94 2.06-2.06.94zm10 10l.94 2.06.94-2.06 2.06-.94-2.06-.94-.94-2.06-.94 2.06-2.06.94z\"/><path d=\"M17.41 7.96l-1.37-1.37c-.4-.4-.92-.59-1.43-.59-.52 0-1.04.2-1.43.59L10.3 9.45l-7.72 7.72c-.78.78-.78 2.05 0 2.83L4 21.41c.39.39.9.59 1.41.59.51 0 1.02-.2 1.41-.59l7.78-7.78 2.81-2.81c.8-.78.8-2.07 0-2.86zM5.41 20L4 18.59l7.72-7.72 1.47 1.35L5.41 20z\"/>\n",
              "  </svg>\n",
              "      </button>\n",
              "      \n",
              "  <style>\n",
              "    .colab-df-container {\n",
              "      display:flex;\n",
              "      flex-wrap:wrap;\n",
              "      gap: 12px;\n",
              "    }\n",
              "\n",
              "    .colab-df-convert {\n",
              "      background-color: #E8F0FE;\n",
              "      border: none;\n",
              "      border-radius: 50%;\n",
              "      cursor: pointer;\n",
              "      display: none;\n",
              "      fill: #1967D2;\n",
              "      height: 32px;\n",
              "      padding: 0 0 0 0;\n",
              "      width: 32px;\n",
              "    }\n",
              "\n",
              "    .colab-df-convert:hover {\n",
              "      background-color: #E2EBFA;\n",
              "      box-shadow: 0px 1px 2px rgba(60, 64, 67, 0.3), 0px 1px 3px 1px rgba(60, 64, 67, 0.15);\n",
              "      fill: #174EA6;\n",
              "    }\n",
              "\n",
              "    [theme=dark] .colab-df-convert {\n",
              "      background-color: #3B4455;\n",
              "      fill: #D2E3FC;\n",
              "    }\n",
              "\n",
              "    [theme=dark] .colab-df-convert:hover {\n",
              "      background-color: #434B5C;\n",
              "      box-shadow: 0px 1px 3px 1px rgba(0, 0, 0, 0.15);\n",
              "      filter: drop-shadow(0px 1px 2px rgba(0, 0, 0, 0.3));\n",
              "      fill: #FFFFFF;\n",
              "    }\n",
              "  </style>\n",
              "\n",
              "      <script>\n",
              "        const buttonEl =\n",
              "          document.querySelector('#df-19dbfce4-ad87-457f-8747-c6c709093196 button.colab-df-convert');\n",
              "        buttonEl.style.display =\n",
              "          google.colab.kernel.accessAllowed ? 'block' : 'none';\n",
              "\n",
              "        async function convertToInteractive(key) {\n",
              "          const element = document.querySelector('#df-19dbfce4-ad87-457f-8747-c6c709093196');\n",
              "          const dataTable =\n",
              "            await google.colab.kernel.invokeFunction('convertToInteractive',\n",
              "                                                     [key], {});\n",
              "          if (!dataTable) return;\n",
              "\n",
              "          const docLinkHtml = 'Like what you see? Visit the ' +\n",
              "            '<a target=\"_blank\" href=https://colab.research.google.com/notebooks/data_table.ipynb>data table notebook</a>'\n",
              "            + ' to learn more about interactive tables.';\n",
              "          element.innerHTML = '';\n",
              "          dataTable['output_type'] = 'display_data';\n",
              "          await google.colab.output.renderOutput(dataTable, element);\n",
              "          const docLink = document.createElement('div');\n",
              "          docLink.innerHTML = docLinkHtml;\n",
              "          element.appendChild(docLink);\n",
              "        }\n",
              "      </script>\n",
              "    </div>\n",
              "  </div>\n",
              "  "
            ]
          },
          "metadata": {},
          "execution_count": 21
        }
      ]
    },
    {
      "cell_type": "code",
      "source": [
        "columns_mask_str = result_df_rank_str.columns.map(lambda x: True if (x not in ('loss','accuracy','val_loss','val_accuracy','verbose','training_time','steps')) else False )\n",
        "columns_mask_str, len(list(columns_mask_str))"
      ],
      "metadata": {
        "colab": {
          "base_uri": "https://localhost:8080/"
        },
        "id": "2-HoRmpA_ABj",
        "outputId": "0dcbd070-9a8b-49ba-d59e-67e64be7467f"
      },
      "execution_count": 22,
      "outputs": [
        {
          "output_type": "execute_result",
          "data": {
            "text/plain": [
              "(Index([ True,  True,  True,  True,  True,  True,  True,  True,  True,  True,\n",
              "         True, False, False, False, False,  True, False, False, False,  True],\n",
              "       dtype='object'), 20)"
            ]
          },
          "metadata": {},
          "execution_count": 22
        }
      ]
    },
    {
      "cell_type": "code",
      "source": [
        ""
      ],
      "metadata": {
        "id": "65Ounssry-BQ"
      },
      "execution_count": 22,
      "outputs": []
    },
    {
      "cell_type": "code",
      "source": [
        "result_df_rank_str_pick = result_df_rank_str.loc[:,columns_mask_str].value_counts().reset_index()\n",
        "type(result_df_rank_str_pick), \n",
        "result_df_rank_str_pick.drop(labels=0, axis=1, inplace=True)\n",
        "result_df_rank_str_pick"
      ],
      "metadata": {
        "id": "yCpwlYxAIVTO",
        "colab": {
          "base_uri": "https://localhost:8080/",
          "height": 176
        },
        "outputId": "59c5a88f-436f-4421-8f7e-4dc1ee682f59"
      },
      "execution_count": 23,
      "outputs": [
        {
          "output_type": "execute_result",
          "data": {
            "text/plain": [
              "  filters _padding _kernel_initializer _activation _optimizer batch_normal  \\\n",
              "0      16     same                None     sigmoid       Adam        False   \n",
              "1      16     same                None     sigmoid       Adam        False   \n",
              "\n",
              "  _kernel_size _strides pool_type _class_cnt label_class model_layer_depth  \\\n",
              "0       (3, 3)   (1, 1)   average          5           4                 7   \n",
              "1       (3, 3)   (1, 1)       max          5           4                 7   \n",
              "\n",
              "  epochs  \n",
              "0     50  \n",
              "1     50  "
            ],
            "text/html": [
              "\n",
              "  <div id=\"df-715ff61d-d6a5-4479-af45-d4436399ba5a\">\n",
              "    <div class=\"colab-df-container\">\n",
              "      <div>\n",
              "<style scoped>\n",
              "    .dataframe tbody tr th:only-of-type {\n",
              "        vertical-align: middle;\n",
              "    }\n",
              "\n",
              "    .dataframe tbody tr th {\n",
              "        vertical-align: top;\n",
              "    }\n",
              "\n",
              "    .dataframe thead th {\n",
              "        text-align: right;\n",
              "    }\n",
              "</style>\n",
              "<table border=\"1\" class=\"dataframe\">\n",
              "  <thead>\n",
              "    <tr style=\"text-align: right;\">\n",
              "      <th></th>\n",
              "      <th>filters</th>\n",
              "      <th>_padding</th>\n",
              "      <th>_kernel_initializer</th>\n",
              "      <th>_activation</th>\n",
              "      <th>_optimizer</th>\n",
              "      <th>batch_normal</th>\n",
              "      <th>_kernel_size</th>\n",
              "      <th>_strides</th>\n",
              "      <th>pool_type</th>\n",
              "      <th>_class_cnt</th>\n",
              "      <th>label_class</th>\n",
              "      <th>model_layer_depth</th>\n",
              "      <th>epochs</th>\n",
              "    </tr>\n",
              "  </thead>\n",
              "  <tbody>\n",
              "    <tr>\n",
              "      <th>0</th>\n",
              "      <td>16</td>\n",
              "      <td>same</td>\n",
              "      <td>None</td>\n",
              "      <td>sigmoid</td>\n",
              "      <td>Adam</td>\n",
              "      <td>False</td>\n",
              "      <td>(3, 3)</td>\n",
              "      <td>(1, 1)</td>\n",
              "      <td>average</td>\n",
              "      <td>5</td>\n",
              "      <td>4</td>\n",
              "      <td>7</td>\n",
              "      <td>50</td>\n",
              "    </tr>\n",
              "    <tr>\n",
              "      <th>1</th>\n",
              "      <td>16</td>\n",
              "      <td>same</td>\n",
              "      <td>None</td>\n",
              "      <td>sigmoid</td>\n",
              "      <td>Adam</td>\n",
              "      <td>False</td>\n",
              "      <td>(3, 3)</td>\n",
              "      <td>(1, 1)</td>\n",
              "      <td>max</td>\n",
              "      <td>5</td>\n",
              "      <td>4</td>\n",
              "      <td>7</td>\n",
              "      <td>50</td>\n",
              "    </tr>\n",
              "  </tbody>\n",
              "</table>\n",
              "</div>\n",
              "      <button class=\"colab-df-convert\" onclick=\"convertToInteractive('df-715ff61d-d6a5-4479-af45-d4436399ba5a')\"\n",
              "              title=\"Convert this dataframe to an interactive table.\"\n",
              "              style=\"display:none;\">\n",
              "        \n",
              "  <svg xmlns=\"http://www.w3.org/2000/svg\" height=\"24px\"viewBox=\"0 0 24 24\"\n",
              "       width=\"24px\">\n",
              "    <path d=\"M0 0h24v24H0V0z\" fill=\"none\"/>\n",
              "    <path d=\"M18.56 5.44l.94 2.06.94-2.06 2.06-.94-2.06-.94-.94-2.06-.94 2.06-2.06.94zm-11 1L8.5 8.5l.94-2.06 2.06-.94-2.06-.94L8.5 2.5l-.94 2.06-2.06.94zm10 10l.94 2.06.94-2.06 2.06-.94-2.06-.94-.94-2.06-.94 2.06-2.06.94z\"/><path d=\"M17.41 7.96l-1.37-1.37c-.4-.4-.92-.59-1.43-.59-.52 0-1.04.2-1.43.59L10.3 9.45l-7.72 7.72c-.78.78-.78 2.05 0 2.83L4 21.41c.39.39.9.59 1.41.59.51 0 1.02-.2 1.41-.59l7.78-7.78 2.81-2.81c.8-.78.8-2.07 0-2.86zM5.41 20L4 18.59l7.72-7.72 1.47 1.35L5.41 20z\"/>\n",
              "  </svg>\n",
              "      </button>\n",
              "      \n",
              "  <style>\n",
              "    .colab-df-container {\n",
              "      display:flex;\n",
              "      flex-wrap:wrap;\n",
              "      gap: 12px;\n",
              "    }\n",
              "\n",
              "    .colab-df-convert {\n",
              "      background-color: #E8F0FE;\n",
              "      border: none;\n",
              "      border-radius: 50%;\n",
              "      cursor: pointer;\n",
              "      display: none;\n",
              "      fill: #1967D2;\n",
              "      height: 32px;\n",
              "      padding: 0 0 0 0;\n",
              "      width: 32px;\n",
              "    }\n",
              "\n",
              "    .colab-df-convert:hover {\n",
              "      background-color: #E2EBFA;\n",
              "      box-shadow: 0px 1px 2px rgba(60, 64, 67, 0.3), 0px 1px 3px 1px rgba(60, 64, 67, 0.15);\n",
              "      fill: #174EA6;\n",
              "    }\n",
              "\n",
              "    [theme=dark] .colab-df-convert {\n",
              "      background-color: #3B4455;\n",
              "      fill: #D2E3FC;\n",
              "    }\n",
              "\n",
              "    [theme=dark] .colab-df-convert:hover {\n",
              "      background-color: #434B5C;\n",
              "      box-shadow: 0px 1px 3px 1px rgba(0, 0, 0, 0.15);\n",
              "      filter: drop-shadow(0px 1px 2px rgba(0, 0, 0, 0.3));\n",
              "      fill: #FFFFFF;\n",
              "    }\n",
              "  </style>\n",
              "\n",
              "      <script>\n",
              "        const buttonEl =\n",
              "          document.querySelector('#df-715ff61d-d6a5-4479-af45-d4436399ba5a button.colab-df-convert');\n",
              "        buttonEl.style.display =\n",
              "          google.colab.kernel.accessAllowed ? 'block' : 'none';\n",
              "\n",
              "        async function convertToInteractive(key) {\n",
              "          const element = document.querySelector('#df-715ff61d-d6a5-4479-af45-d4436399ba5a');\n",
              "          const dataTable =\n",
              "            await google.colab.kernel.invokeFunction('convertToInteractive',\n",
              "                                                     [key], {});\n",
              "          if (!dataTable) return;\n",
              "\n",
              "          const docLinkHtml = 'Like what you see? Visit the ' +\n",
              "            '<a target=\"_blank\" href=https://colab.research.google.com/notebooks/data_table.ipynb>data table notebook</a>'\n",
              "            + ' to learn more about interactive tables.';\n",
              "          element.innerHTML = '';\n",
              "          dataTable['output_type'] = 'display_data';\n",
              "          await google.colab.output.renderOutput(dataTable, element);\n",
              "          const docLink = document.createElement('div');\n",
              "          docLink.innerHTML = docLinkHtml;\n",
              "          element.appendChild(docLink);\n",
              "        }\n",
              "      </script>\n",
              "    </div>\n",
              "  </div>\n",
              "  "
            ]
          },
          "metadata": {},
          "execution_count": 23
        }
      ]
    },
    {
      "cell_type": "markdown",
      "source": [
        "##학습 결과 영향 params 확인"
      ],
      "metadata": {
        "id": "_Ya9oOEy0gx9"
      }
    },
    {
      "cell_type": "code",
      "source": [
        "len(result_df_rank_str_pick['filters'].unique()), result_df_rank_str_pick['pool_type'].unique(), len(result_df_rank_str_pick['pool_type'].unique())\n"
      ],
      "metadata": {
        "id": "l-Jragj0t7Dk",
        "outputId": "be4c5c58-da44-4936-d583-fc0aab66b7ec",
        "colab": {
          "base_uri": "https://localhost:8080/"
        }
      },
      "execution_count": 24,
      "outputs": [
        {
          "output_type": "execute_result",
          "data": {
            "text/plain": [
              "(1, array(['average', 'max'], dtype=object), 2)"
            ]
          },
          "metadata": {},
          "execution_count": 24
        }
      ]
    },
    {
      "cell_type": "code",
      "source": [
        "result_measure_columns = list()\n",
        "for column in result_df_rank_str_pick.columns:\n",
        "  if len(result_df_rank_str_pick[column].unique()) > 1:\n",
        "    result_measure_columns.append(column)\n",
        "result_measure_columns"
      ],
      "metadata": {
        "id": "Jk4x7R3B6ow3",
        "outputId": "e13ddb3c-298e-4a62-c555-f7044d399eeb",
        "colab": {
          "base_uri": "https://localhost:8080/"
        }
      },
      "execution_count": 26,
      "outputs": [
        {
          "output_type": "execute_result",
          "data": {
            "text/plain": [
              "['pool_type']"
            ]
          },
          "metadata": {},
          "execution_count": 26
        }
      ]
    },
    {
      "cell_type": "code",
      "source": [
        "result_columns = result_columns + result_measure_columns\n",
        "result_df_rank_params = result_df_rank[result_columns]\n",
        "result_df_rank_params"
      ],
      "metadata": {
        "id": "joc-XQax8E2m"
      },
      "execution_count": 31,
      "outputs": []
    },
    {
      "cell_type": "code",
      "source": [
        "file_name = 'Term_2_CNN_MPIE_results.csv'\n",
        "result_df_rank_params.to_csv(file_name)"
      ],
      "metadata": {
        "id": "ac9qwZHz9YzG"
      },
      "execution_count": 33,
      "outputs": []
    },
    {
      "cell_type": "code",
      "source": [
        ""
      ],
      "metadata": {
        "id": "etY4v6vq-n6H"
      },
      "execution_count": null,
      "outputs": []
    }
  ]
}