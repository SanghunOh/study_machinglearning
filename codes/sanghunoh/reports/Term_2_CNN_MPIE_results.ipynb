{
  "nbformat": 4,
  "nbformat_minor": 0,
  "metadata": {
    "colab": {
      "name": "Term_2_CNN_MPIE_results.ipynb",
      "provenance": [],
      "collapsed_sections": [],
      "mount_file_id": "1uxf14UTe3Qetn7_VxuD9vDpelYDzwvdO",
      "authorship_tag": "ABX9TyP/UaRBh6ux5jzBovBZNh0o",
      "include_colab_link": true
    },
    "kernelspec": {
      "name": "python3",
      "display_name": "Python 3"
    },
    "language_info": {
      "name": "python"
    }
  },
  "cells": [
    {
      "cell_type": "markdown",
      "metadata": {
        "id": "view-in-github",
        "colab_type": "text"
      },
      "source": [
        "<a href=\"https://colab.research.google.com/github/SanghunOh/study_machinglearning/blob/main/codes/sanghunoh/reports/Term_2_CNN_MPIE_results.ipynb\" target=\"_parent\"><img src=\"https://colab.research.google.com/assets/colab-badge.svg\" alt=\"Open In Colab\"/></a>"
      ]
    },
    {
      "cell_type": "markdown",
      "source": [
        "##Connect Drive"
      ],
      "metadata": {
        "id": "E30jLi471ulb"
      }
    },
    {
      "cell_type": "code",
      "execution_count": 1,
      "metadata": {
        "colab": {
          "base_uri": "https://localhost:8080/"
        },
        "id": "EzTeCLP51cM7",
        "outputId": "acf1472e-8e26-42fd-a731-da00261ca995"
      },
      "outputs": [
        {
          "output_type": "stream",
          "name": "stdout",
          "text": [
            "results_CNN_label_1_202205301442.pickle\n",
            "results_CNN_label_2_202205301442.pickle\n",
            "results_CNN_label_4_202205301442.pickle\n"
          ]
        }
      ],
      "source": [
        "path_root = '/content/drive/MyDrive/datas/'\n",
        "\n",
        "# 작업 경로 설정\n",
        "import os\n",
        "os.chdir(path_root)\n",
        "!ls"
      ]
    },
    {
      "cell_type": "code",
      "source": [
        "# config param\n",
        "file_prefix = 'results_CNN_label_'  # file name\n",
        "save_file = True  # save graph, csv "
      ],
      "metadata": {
        "id": "hme8TckJeNGb"
      },
      "execution_count": 2,
      "outputs": []
    },
    {
      "cell_type": "code",
      "source": [
        "import glob\n",
        "\n",
        "filename_list = []\n",
        "for file_name in glob.glob(f\"./{file_prefix}*.pickle\"):\n",
        "    filename_list.append(file_name)\n",
        "filename_list"
      ],
      "metadata": {
        "colab": {
          "base_uri": "https://localhost:8080/"
        },
        "id": "WbFTsLbYuFFM",
        "outputId": "8ffa5266-6d10-4e97-97b8-7c73c74a1f3d"
      },
      "execution_count": 3,
      "outputs": [
        {
          "output_type": "execute_result",
          "data": {
            "text/plain": [
              "['./results_CNN_label_1_202205301442.pickle',\n",
              " './results_CNN_label_4_202205301442.pickle',\n",
              " './results_CNN_label_2_202205301442.pickle']"
            ]
          },
          "metadata": {},
          "execution_count": 3
        }
      ]
    },
    {
      "cell_type": "markdown",
      "source": [
        "##Load Trained Model"
      ],
      "metadata": {
        "id": "OTHDgaLB2Vk6"
      }
    },
    {
      "cell_type": "code",
      "source": [
        "import pickle\n",
        "results_list = list()\n",
        "for filename in filename_list:\n",
        "  with open(filename, 'rb') as f:\n",
        "    results_list.append(pickle.load(f))\n",
        "len(results_list)   # model, history, execution_time, _params"
      ],
      "metadata": {
        "id": "b-KGLqVq2Yzg",
        "colab": {
          "base_uri": "https://localhost:8080/",
          "height": 222
        },
        "outputId": "c1a16f33-ee2a-4ced-c424-67683d1347be"
      },
      "execution_count": 4,
      "outputs": [
        {
          "output_type": "error",
          "ename": "ValueError",
          "evalue": "ignored",
          "traceback": [
            "\u001b[0;31m---------------------------------------------------------------------------\u001b[0m",
            "\u001b[0;31mValueError\u001b[0m                                Traceback (most recent call last)",
            "\u001b[0;32m<ipython-input-4-7552afa68a48>\u001b[0m in \u001b[0;36m<module>\u001b[0;34m()\u001b[0m\n\u001b[1;32m      3\u001b[0m \u001b[0;32mfor\u001b[0m \u001b[0mfilename\u001b[0m \u001b[0;32min\u001b[0m \u001b[0mfilename_list\u001b[0m\u001b[0;34m:\u001b[0m\u001b[0;34m\u001b[0m\u001b[0;34m\u001b[0m\u001b[0m\n\u001b[1;32m      4\u001b[0m   \u001b[0;32mwith\u001b[0m \u001b[0mopen\u001b[0m\u001b[0;34m(\u001b[0m\u001b[0mfilename\u001b[0m\u001b[0;34m,\u001b[0m \u001b[0;34m'rb'\u001b[0m\u001b[0;34m)\u001b[0m \u001b[0;32mas\u001b[0m \u001b[0mf\u001b[0m\u001b[0;34m:\u001b[0m\u001b[0;34m\u001b[0m\u001b[0;34m\u001b[0m\u001b[0m\n\u001b[0;32m----> 5\u001b[0;31m     \u001b[0mresults_list\u001b[0m\u001b[0;34m.\u001b[0m\u001b[0mappend\u001b[0m\u001b[0;34m(\u001b[0m\u001b[0mpickle\u001b[0m\u001b[0;34m.\u001b[0m\u001b[0mload\u001b[0m\u001b[0;34m(\u001b[0m\u001b[0mf\u001b[0m\u001b[0;34m)\u001b[0m\u001b[0;34m)\u001b[0m\u001b[0;34m\u001b[0m\u001b[0;34m\u001b[0m\u001b[0m\n\u001b[0m\u001b[1;32m      6\u001b[0m \u001b[0mlen\u001b[0m\u001b[0;34m(\u001b[0m\u001b[0mresults_list\u001b[0m\u001b[0;34m)\u001b[0m   \u001b[0;31m# model, history, execution_time, _params\u001b[0m\u001b[0;34m\u001b[0m\u001b[0;34m\u001b[0m\u001b[0m\n",
            "\u001b[0;31mValueError\u001b[0m: unsupported pickle protocol: 5"
          ]
        }
      ]
    },
    {
      "cell_type": "markdown",
      "source": [
        "##create DataFrame with concate params from results"
      ],
      "metadata": {
        "id": "bEoK4S67x7PT"
      }
    },
    {
      "cell_type": "markdown",
      "source": [
        "###결과값을 순서 맞게 나열하기\n",
        "순서 : params + history values + model layers + training time + history params\n"
      ],
      "metadata": {
        "id": "evjZ4BQBEOH-"
      }
    },
    {
      "cell_type": "code",
      "source": [
        "import numpy as np\n",
        "def resultToValueslist(model, history, training_time, params):\n",
        "  model_layer_depth = [len(model.layers)]\n",
        "  history_values = list(np.array(list(history.history.values()))[:,-1])\n",
        "  history_params = list(history.params.values())\n",
        "  _training_time = [training_time]\n",
        "  params_values = list(params.values())\n",
        "  _value_list = params_values + history_values + model_layer_depth + _training_time + history_params\n",
        "  return _value_list\n",
        "# value_list"
      ],
      "metadata": {
        "id": "7yS9lKRAAryX"
      },
      "execution_count": null,
      "outputs": []
    },
    {
      "cell_type": "markdown",
      "source": [
        "###학습결과값을 DataFrame으로 만들기"
      ],
      "metadata": {
        "id": "8au-M_sDD2Hu"
      }
    },
    {
      "cell_type": "code",
      "source": [
        "# merge column epochs (epochs 컬럼 2개임)\n",
        "import pandas as pd\n",
        "\n",
        "def mergeColumnWithepochs(dataframe):\n",
        "  # dataframe = _dataframe.copy()\n",
        "  _epochs_temp = dataframe['epochs']\n",
        "  _epochs_temp = _epochs_temp.iloc[:,0]\n",
        "  dataframe.drop(labels=['epochs', 'verbose'], axis=1, inplace=True)\n",
        "  _result_df = pd.concat([dataframe, _epochs_temp],axis=1)\n",
        "  return _result_df"
      ],
      "metadata": {
        "id": "AV4r0zWKITTV"
      },
      "execution_count": null,
      "outputs": []
    },
    {
      "cell_type": "code",
      "source": [
        "def valueslistToDataFrame(_result_per_label_list):\n",
        "  _results_list = list()\n",
        "  for _results in _result_per_label_list:\n",
        "    _model, _history, _training_time, _params = _results[0], _results[1], _results[2], _results[3]\n",
        "    # print(f'Training Time : {_training_time:.3f} sec')\n",
        "    _results_list.append(resultToValueslist(_model, _history, _training_time, _params))\n",
        "  _column_name = list(_params.keys())+list(_history.history.keys())+['model_layer_depth','training_time']+list(_history.params.keys())\n",
        "\n",
        "  # print(f'valueslistToDataFrame : {len(_results_list)}, column_name: {_column_name}')\n",
        "  _result_df = pd.DataFrame(_results_list, columns=_column_name)\n",
        "  _result_df = mergeColumnWithepochs(_result_df)\n",
        "  return _result_df"
      ],
      "metadata": {
        "id": "Ju-wBnRzz5uU"
      },
      "execution_count": null,
      "outputs": []
    },
    {
      "cell_type": "markdown",
      "source": [
        "###label_class 별로 DataFrame을 list 담기"
      ],
      "metadata": {
        "id": "j0plF9X4CIT4"
      }
    },
    {
      "cell_type": "code",
      "source": [
        "import pandas as pd\n",
        "\n",
        "results_df_list = list()\n",
        "for result_per_label_list in results_list:\n",
        "  results_df_list.append(valueslistToDataFrame(result_per_label_list))"
      ],
      "metadata": {
        "id": "7PJ6G0o2vIzW"
      },
      "execution_count": null,
      "outputs": []
    },
    {
      "cell_type": "code",
      "source": [
        "# results_df_list[0]"
      ],
      "metadata": {
        "id": "dAXW5uVJwvpS"
      },
      "execution_count": null,
      "outputs": []
    },
    {
      "cell_type": "markdown",
      "source": [
        "##Evaluation"
      ],
      "metadata": {
        "id": "qzr2hZXXMnOr"
      }
    },
    {
      "cell_type": "markdown",
      "source": [
        "###Per Label class"
      ],
      "metadata": {
        "id": "S6hpO044MtWE"
      }
    },
    {
      "cell_type": "code",
      "source": [
        "evaluation_columns = ['loss', 'val_loss', 'accuracy', 'val_accuracy']"
      ],
      "metadata": {
        "id": "Dbikf7kqM4cu"
      },
      "execution_count": null,
      "outputs": []
    },
    {
      "cell_type": "code",
      "source": [
        "def sortEvaluationColumns(_results_df):\n",
        "  _evaluation_df = _results_df.sort_values(evaluation_columns, ascending = [True, False, True, False])\n",
        "  print(len(_evaluation_df.columns), _evaluation_df.columns)\n",
        "  return _evaluation_df"
      ],
      "metadata": {
        "id": "Xb9Z0QEogj-0"
      },
      "execution_count": null,
      "outputs": []
    },
    {
      "cell_type": "code",
      "source": [
        "evaluation_df_list = list()\n",
        "for results_df in results_df_list:\n",
        "  evaluation_df_list.append(sortEvaluationColumns(results_df))\n",
        "# evaluation_df\n"
      ],
      "metadata": {
        "id": "7qE9XeZ7JJ_i"
      },
      "execution_count": null,
      "outputs": []
    },
    {
      "cell_type": "markdown",
      "source": [
        "###draw evaluation"
      ],
      "metadata": {
        "id": "7U0EHXt_O-Kp"
      }
    },
    {
      "cell_type": "code",
      "source": [
        "import matplotlib.pyplot as plt\n",
        "\n",
        "def drawEvaluation(_evaluation_df, _save_file=False, _label=None):\n",
        "  plt.rcParams[\"figure.figsize\"] = (15, 5)\n",
        "\n",
        "  plt.subplot(121)\n",
        "  _evaluation_df[['loss', 'val_loss']].T.plot(ax=plt.gca())\n",
        "  plt.grid(axis='y')\n",
        "  plt.title('loss rate')\n",
        "  # plt.xticks(rotation=20)\n",
        "\n",
        "  plt.subplot(122)\n",
        "  _evaluation_df[['accuracy', 'val_accuracy']].T.plot(ax=plt.gca())\n",
        "  plt.grid(axis='y')\n",
        "  # plt.xticks(rotation=20)\n",
        "  plt.title('accuracy rate')\n",
        "\n",
        "  _label_class = _label\n",
        "  if not _label:\n",
        "    _label_class = _evaluation_df.loc[0,'label_class']\n",
        "  \n",
        "  plt.suptitle(f'label_class : {_label_class}')\n",
        "  if _save_file:\n",
        "    _file_name = file_prefix + str(_label_class) + '.png'\n",
        "    plt.savefig(_file_name)\n",
        "  plt.show()\n"
      ],
      "metadata": {
        "id": "lwYU_U_lPDk_"
      },
      "execution_count": null,
      "outputs": []
    },
    {
      "cell_type": "code",
      "source": [
        "for evaluation_df in evaluation_df_list:\n",
        "  drawEvaluation(evaluation_df, save_file)\n"
      ],
      "metadata": {
        "id": "x4kNJajnGOek"
      },
      "execution_count": null,
      "outputs": []
    },
    {
      "cell_type": "markdown",
      "source": [
        "###성능 영향 준 Parameters"
      ],
      "metadata": {
        "id": "-VxApravXD-Z"
      }
    },
    {
      "cell_type": "code",
      "source": [
        "def getParametersByPerformance(_evaluation_df, _save_file=False, _label=None):\n",
        "  _label_class = _label\n",
        "  if not _label:\n",
        "    _label_class = _evaluation_df.loc[0,'label_class']\n",
        "\n",
        "  columns_mask_str = _evaluation_df.columns.map(lambda x: True if (x not in evaluation_columns) else False )\n",
        "  # print(columns_mask_str, len(list(columns_mask_str)))\n",
        "  performance_df = _evaluation_df.loc[:,columns_mask_str].value_counts().reset_index()\n",
        "  performance_df.drop(labels=0, axis=1, inplace=True)\n",
        "\n",
        "  _measure_columns = list()\n",
        "  for column in performance_df.columns:\n",
        "    if len(performance_df[column].unique()) > 1:\n",
        "      _measure_columns.append(column)\n",
        "  # print(_measure_columns)\n",
        "  result_columns = evaluation_columns + _measure_columns\n",
        "  _evaluation_df = _evaluation_df[result_columns]\n",
        "\n",
        "  if _save_file:\n",
        "    _file_name = file_prefix + str(_label_class) + '.csv'\n",
        "    _evaluation_df.to_csv(_file_name)\n",
        "  return _evaluation_df"
      ],
      "metadata": {
        "id": "DWxzc8n4QoGk"
      },
      "execution_count": null,
      "outputs": []
    },
    {
      "cell_type": "code",
      "source": [
        "performance_params_df_list = list()\n",
        "for evaluation_df in evaluation_df_list:\n",
        "  performance_params_df_list.append(getParametersByPerformance(evaluation_df, save_file))\n",
        "# performance_params_df_list[-1]"
      ],
      "metadata": {
        "id": "bfDLaIyjXZGf"
      },
      "execution_count": null,
      "outputs": []
    },
    {
      "cell_type": "code",
      "source": [
        "performance_params_df_list[0]"
      ],
      "metadata": {
        "id": "Ioj9ml7Sa001"
      },
      "execution_count": null,
      "outputs": []
    },
    {
      "cell_type": "markdown",
      "source": [
        "##Concate All Dataset for Performance"
      ],
      "metadata": {
        "id": "z2rWHxCQfpxT"
      }
    },
    {
      "cell_type": "code",
      "source": [
        "results_df_all = pd.concat(results_df_list).reset_index()\n",
        "results_df_all.drop(labels='index', axis=1, inplace=True)\n",
        "results_df_all"
      ],
      "metadata": {
        "id": "KSkiMR4Qa-dr"
      },
      "execution_count": null,
      "outputs": []
    },
    {
      "cell_type": "code",
      "source": [
        "evaluation_df_all = sortEvaluationColumns(results_df_all)\n",
        "evaluation_df_all"
      ],
      "metadata": {
        "id": "7wHztrkfgOT9"
      },
      "execution_count": null,
      "outputs": []
    },
    {
      "cell_type": "code",
      "source": [
        "evaluation_df_all_rank = evaluation_df_all[:10]\n",
        "drawEvaluation(evaluation_df_all_rank, save_file, _label='all')"
      ],
      "metadata": {
        "id": "JwV-AK8eh67Z"
      },
      "execution_count": null,
      "outputs": []
    },
    {
      "cell_type": "code",
      "source": [
        "getParametersByPerformance(evaluation_df_all_rank, save_file, _label='all')"
      ],
      "metadata": {
        "id": "hNuVtQ-jiN49"
      },
      "execution_count": null,
      "outputs": []
    },
    {
      "cell_type": "code",
      "source": [
        ""
      ],
      "metadata": {
        "id": "amcoLVtom39P"
      },
      "execution_count": null,
      "outputs": []
    }
  ]
}