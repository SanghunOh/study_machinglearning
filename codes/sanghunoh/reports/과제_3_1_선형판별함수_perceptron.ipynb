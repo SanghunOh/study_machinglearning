{
  "nbformat": 4,
  "nbformat_minor": 0,
  "metadata": {
    "colab": {
      "name": "3_1_선형판별함수.ipynb",
      "provenance": [],
      "collapsed_sections": [],
      "authorship_tag": "ABX9TyPzp7tBiNjDyE4xbhFZgYiZ",
      "include_colab_link": true
    },
    "kernelspec": {
      "name": "python3",
      "display_name": "Python 3"
    },
    "language_info": {
      "name": "python"
    }
  },
  "cells": [
    {
      "cell_type": "markdown",
      "metadata": {
        "id": "view-in-github",
        "colab_type": "text"
      },
      "source": [
        "<a href=\"https://colab.research.google.com/github/SanghunOh/study_machinglearning/blob/main/codes/sanghunoh/reports/3_1_%EC%84%A0%ED%98%95%ED%8C%90%EB%B3%84%ED%95%A8%EC%88%98_perceptron.ipynb\" target=\"_parent\"><img src=\"https://colab.research.google.com/assets/colab-badge.svg\" alt=\"Open In Colab\"/></a>"
      ]
    },
    {
      "cell_type": "markdown",
      "source": [
        "1. (50점) 교재 프로그램 6-1을 참고하여, 데이터 HW3Data_1.mat을 이용한 선형판별함수 분류기인 퍼셉트론을 구현하고 새로운 데이터에 대한 분류를 수행하시오."
      ],
      "metadata": {
        "id": "kCmel5NXLHOb"
      }
    },
    {
      "cell_type": "code",
      "execution_count": 1,
      "metadata": {
        "id": "98YriMn09w-_"
      },
      "outputs": [],
      "source": [
        "# !wget https://github.com/SanghunOh/study_machinglearning/blob/main/datas/HW3Data_1.mat"
      ]
    },
    {
      "cell_type": "code",
      "source": [
        "# !ls\n",
        "!pip install mat73"
      ],
      "metadata": {
        "colab": {
          "base_uri": "https://localhost:8080/"
        },
        "id": "cw2ZjmP2MDzq",
        "outputId": "f62db5b5-7126-4943-fc8e-9c80c061c41f"
      },
      "execution_count": 2,
      "outputs": [
        {
          "output_type": "stream",
          "name": "stdout",
          "text": [
            "Requirement already satisfied: mat73 in /usr/local/lib/python3.7/dist-packages (0.58)\n",
            "Requirement already satisfied: numpy in /usr/local/lib/python3.7/dist-packages (from mat73) (1.21.5)\n",
            "Requirement already satisfied: h5py in /usr/local/lib/python3.7/dist-packages (from mat73) (3.1.0)\n",
            "Requirement already satisfied: cached-property in /usr/local/lib/python3.7/dist-packages (from h5py->mat73) (1.5.2)\n"
          ]
        }
      ]
    },
    {
      "cell_type": "code",
      "source": [
        "# read dataset file\n",
        "import mat73\n",
        "mat = mat73.loadmat('./HW3Data_1.mat')\n",
        "# type(mat), mat.keys(),\n",
        "variables = mat['X']\n",
        "labels = mat['Y']\n",
        "\n",
        "import numpy as np\n",
        "variables.shape, labels.shape, np.unique(labels)"
      ],
      "metadata": {
        "colab": {
          "base_uri": "https://localhost:8080/"
        },
        "id": "WXESQrjELPyD",
        "outputId": "5ffd36ef-dfde-4ad4-80f5-128c552f5140"
      },
      "execution_count": 3,
      "outputs": [
        {
          "output_type": "execute_result",
          "data": {
            "text/plain": [
              "((10, 2), (10,), array([0., 1.]))"
            ]
          },
          "metadata": {},
          "execution_count": 3
        }
      ]
    },
    {
      "cell_type": "code",
      "source": [
        "# class A, class B 로 분리\n",
        "class_A_mask = (labels == 0)  # label 0\n",
        "class_A = variables[class_A_mask]\n",
        "class_B_mask = (labels == 1)  # label 1\n",
        "class_B = variables[class_B_mask]\n",
        "\n",
        "class_A.shape, class_B.shape"
      ],
      "metadata": {
        "colab": {
          "base_uri": "https://localhost:8080/"
        },
        "id": "_6gmzBXHQKAC",
        "outputId": "c77743ae-4140-4b74-ed1a-e4e6a2e81efa"
      },
      "execution_count": 4,
      "outputs": [
        {
          "output_type": "execute_result",
          "data": {
            "text/plain": [
              "((5, 2), (5, 2))"
            ]
          },
          "metadata": {},
          "execution_count": 4
        }
      ]
    },
    {
      "cell_type": "markdown",
      "source": [
        "## 데이터 분포 그리기"
      ],
      "metadata": {
        "id": "N40HJ7qDOHQw"
      }
    },
    {
      "cell_type": "code",
      "source": [
        "import matplotlib.pyplot as plt"
      ],
      "metadata": {
        "id": "btcvBwTbOGcK"
      },
      "execution_count": 5,
      "outputs": []
    },
    {
      "cell_type": "code",
      "source": [
        "plt.scatter(class_A[:,0],class_A[:,1], marker='s', color='orange', label='class A') # 데이터 A\n",
        "plt.scatter(class_B[:,0],class_B[:,1], marker='v', color='blue', label='class B')  # 데이터 B\n",
        "plt.legend()\n",
        "plt.show()"
      ],
      "metadata": {
        "colab": {
          "base_uri": "https://localhost:8080/",
          "height": 265
        },
        "id": "9zfw8IUaOLHK",
        "outputId": "ff5f3ce5-6d03-4070-f963-d6f4b0ef6096"
      },
      "execution_count": 6,
      "outputs": [
        {
          "output_type": "display_data",
          "data": {
            "text/plain": [
              "<Figure size 432x288 with 1 Axes>"
            ],
            "image/png": "[encoded data removed]"
          },
          "metadata": {
            "needs_background": "light"
          }
        }
      ]
    },
    {
      "cell_type": "markdown",
      "source": [
        "(1) (30점) [퍼센트론 학습] 제공된 데이터 HW3Data_1.mat을 이용하여 입력 노드 2개와 출 력 노드 1개로 구성된 퍼셉트론을 학습하시오. 이때 최대 반복횟수는 5회로 설정하시오. 이때 학습과정에서 각 반복에 따른 결정 경계를 추적하여 이를 관찰하시오. (파라미터의 초기 값에 따라 그림이 달라질 수 있음. 마지막 step의 결정경계는 초록색으로 할 것.)"
      ],
      "metadata": {
        "id": "5qwf8V2YNK3v"
      }
    },
    {
      "cell_type": "markdown",
      "source": [
        "#Perceptron"
      ],
      "metadata": {
        "id": "IJrWe-svV1sC"
      }
    },
    {
      "cell_type": "markdown",
      "source": [
        "## 학습하기\n",
        "$\n",
        "w_i^{τ+1}=w_i^{(τ)}+η(t_i-y_i)x , w_{i0}^{τ+1}=w_{i0}^{(τ)}+η(t_i-y_i)x\n",
        "$"
      ],
      "metadata": {
        "id": "h3D3aZouSoTw"
      }
    },
    {
      "cell_type": "code",
      "source": [
        "# 입출력 차원\n",
        "input_dim = 2\n",
        "output_dim = 1\n",
        "\n",
        "# 파라미터 초기화\n",
        "weight=np.random.rand(input_dim,1)*0.3+0.1\n",
        "weight0=np.random.rand(1)*0.3+0.1\n",
        "weight, weight0"
      ],
      "metadata": {
        "colab": {
          "base_uri": "https://localhost:8080/"
        },
        "id": "29H0aQQ-Lr9W",
        "outputId": "4b03eb65-5c0a-440b-ff7b-1092581838fd"
      },
      "execution_count": 7,
      "outputs": [
        {
          "output_type": "execute_result",
          "data": {
            "text/plain": [
              "(array([[0.19539685],\n",
              "        [0.14175819]]), array([0.27848365]))"
            ]
          },
          "metadata": {},
          "execution_count": 7
        }
      ]
    },
    {
      "cell_type": "code",
      "source": [
        "# merge data\n",
        "train_data = np.vstack([class_A,class_B])\n",
        "\n",
        "# 선형 선 그리기 위한 데이터 생성\n",
        "train_dataX_min, train_dataX_max = np.min(train_data[:,0],0), np.max(train_data[:,0],0)\n",
        "import math\n",
        "# math.floor(train_dataX_min), math.ceil(train_dataX_max), \n",
        "x_values = np.arange(math.floor(train_dataX_min), math.ceil(train_dataX_max))\n",
        "x_values, #np.info(x_values)"
      ],
      "metadata": {
        "colab": {
          "base_uri": "https://localhost:8080/"
        },
        "id": "qWl06kg8SvWH",
        "outputId": "98a79403-704e-4924-bed4-1374dbf957b1"
      },
      "execution_count": 8,
      "outputs": [
        {
          "output_type": "execute_result",
          "data": {
            "text/plain": [
              "(array([-3, -2, -1,  0,  1,  2]),)"
            ]
          },
          "metadata": {},
          "execution_count": 8
        }
      ]
    },
    {
      "cell_type": "code",
      "source": [
        "plt.scatter(class_A[:,0],class_A[:,1], marker='s', color='orange', label='class A') # 데이터 A\n",
        "plt.scatter(class_B[:,0],class_B[:,1], marker='v', color='blue', label='class B')  # 데이터 B\n",
        "plt.plot(x_values, (weight[0,0]*x_values-weight0)/weight[1,0], linestyle=':', label='init:{}'.format(0))\n",
        "# plt.show()"
      ],
      "metadata": {
        "colab": {
          "base_uri": "https://localhost:8080/",
          "height": 283
        },
        "id": "dIRIp0NpTOKX",
        "outputId": "a77ff557-72ac-4004-8b6e-96cb477a23b5"
      },
      "execution_count": 9,
      "outputs": [
        {
          "output_type": "execute_result",
          "data": {
            "text/plain": [
              "[<matplotlib.lines.Line2D at 0x7f1db8432590>]"
            ]
          },
          "metadata": {},
          "execution_count": 9
        },
        {
          "output_type": "display_data",
          "data": {
            "text/plain": [
              "<Figure size 432x288 with 1 Axes>"
            ],
            "image/png": "[encoded data removed]"
          },
          "metadata": {
            "needs_background": "light"
          }
        }
      ]
    },
    {
      "cell_type": "markdown",
      "source": [
        "## 결정 결계\n",
        "$\n",
        "y_i=step(w_i^Tx+w_{i0}) \\\\\n",
        "step(u) = \\{\n",
        "  \\begin{array}{cl}\n",
        "  1 & \\text{if }u>0 \\\\\n",
        "  0 & otherwise\n",
        "  \\end{array}\n",
        "$"
      ],
      "metadata": {
        "id": "SBIt7BpJY2Hk"
      }
    },
    {
      "cell_type": "code",
      "source": [
        "# 학습 횟수\n",
        "steps = 5\n",
        "eta = 0.5\n",
        "\n",
        "train_data = variables\n",
        "train_label = labels\n",
        "row_count = train_label.shape[0]\n",
        "\n",
        "plt.scatter(class_A[:,0],class_A[:,1], marker='s', color='orange', label='class A') # 데이터 A\n",
        "plt.scatter(class_B[:,0],class_B[:,1], marker='v', color='blue', label='class B')  # 데이터 B\n",
        "plt.plot(x_values, (weight[0,0]*x_values-weight0)/weight[1,0], linestyle=':', label='init')\n",
        "\n",
        "linestyle = ':'\n",
        "linecolor = 'black'\n",
        "init_weight = weight\n",
        "init_weight0 = weight0\n",
        "for j in range(1, steps+1):\n",
        "  # errors = np.empty([0,1])\n",
        "  for i in range(row_count):\n",
        "    x_value, y_label = train_data[i,:], train_label[i]\n",
        "    # 퍼셉트론 계산\n",
        "    result = x_value @ weight + weight0\n",
        "    if (result > 0) :\n",
        "      y_hat=1\n",
        "    else :\n",
        "      y_hat=0\n",
        "    error = y_label - y_hat\n",
        "    # errors = np.append(errors,error)\n",
        "    delta_weight = np.reshape(eta * error * x_value.T, (2,1))\n",
        "    delta_weight0 = eta * error * 1\n",
        "    weight = weight + delta_weight\n",
        "    weight0 = weight0 + delta_weight0\n",
        "  # x_values가 커서 제한 출력\n",
        "  y_values = ((weight[0,0]*x_values-weight0)/weight[1,0])\n",
        "\n",
        "  if j >= (steps) :\n",
        "    linestyle = '-'\n",
        "    linecolor = 'green'\n",
        "  \n",
        "  plt.plot(x_values, y_values, color=linecolor, linestyle=linestyle, label='step:{}'.format(j))\n",
        "plt.legend(ncol=2)\n",
        "plt.show()\n"
      ],
      "metadata": {
        "colab": {
          "base_uri": "https://localhost:8080/",
          "height": 265
        },
        "id": "egZYmDm6UjFJ",
        "outputId": "89abe092-4672-4a58-b9c9-79fe6efa6fbe"
      },
      "execution_count": 10,
      "outputs": [
        {
          "output_type": "display_data",
          "data": {
            "text/plain": [
              "<Figure size 432x288 with 1 Axes>"
            ],
            "image/png": "[encoded data removed]"
          },
          "metadata": {
            "needs_background": "light"
          }
        }
      ]
    },
    {
      "cell_type": "markdown",
      "source": [
        "(2) (20점) [테스트 데이터 생성 및 분류] 학습이 완료된 후, 다음 데이터를 테스트 데이터로 하여 학습된 퍼셉트론의 파라미터를 사용하여 각 테스트 데이터 입력에 따른 퍼셉트론의 출력값을 계산해 보시오. 그리고 출력값을 기준으로 각 데이터가 어떤 클래스인지를 분류 하시오. (Hint: 1.(2)에서 학습된 퍼셉트론의 파라미터를 사용해야 됨)."
      ],
      "metadata": {
        "id": "w8Ov5Sd2NYLS"
      }
    },
    {
      "cell_type": "markdown",
      "source": [
        "## 판별 함수\n",
        "$\n",
        "y_i=step(w_i^Tx+w_{i0}) \\\\\n",
        "step(u) = \\{\n",
        "  \\begin{array}{cl}\n",
        "  1 & \\text{if }u>0 \\\\\n",
        "  0 & otherwise\n",
        "  \\end{array}\n",
        "$"
      ],
      "metadata": {
        "id": "lsWDVBxhN4s_"
      }
    },
    {
      "cell_type": "code",
      "source": [
        "print('init weight : {}, weight0 : {}'.format(init_weight, init_weight0))\n",
        "print('train weight : {}, weight0 : {}'.format(weight, weight0))"
      ],
      "metadata": {
        "colab": {
          "base_uri": "https://localhost:8080/"
        },
        "id": "gu4R7dFEgbny",
        "outputId": "3e11c6fe-4746-45f2-aca4-93da1382f67f"
      },
      "execution_count": 12,
      "outputs": [
        {
          "output_type": "stream",
          "name": "stdout",
          "text": [
            "init weight : [[0.19539685]\n",
            " [0.14175819]], weight0 : [0.27848365]\n",
            "train weight : [[0.51340637]\n",
            " [0.95330063]], weight0 : [0.77848365]\n"
          ]
        }
      ]
    },
    {
      "cell_type": "code",
      "source": [
        "# 데이터 1: 입력 (5, 3) \n",
        "# 데이터 2: 입력 (1, -3) \n",
        "# 데이터 3: 입력 (-2, -1) \n",
        "# 데이터 4: 입력 (-2, 2)\n",
        "\n",
        "datas_x = np.array([[5,3],[1,-3],[-2,-1],[-2,2]])\n",
        "for predict_x in datas_x:\n",
        "  result = predict_x @ weight + weight0\n",
        "  if (result > 0) :\n",
        "    y_hat = 1\n",
        "  else :\n",
        "    y_hat = 0\n",
        "  print('predict x:{}, result:{}, y_hat:{}'.format(predict_x, result, y_hat))\n"
      ],
      "metadata": {
        "colab": {
          "base_uri": "https://localhost:8080/"
        },
        "id": "caIK5JcANYuY",
        "outputId": "ca0c17d5-cb0d-4b3d-ee81-3e6b3866dbeb"
      },
      "execution_count": 16,
      "outputs": [
        {
          "output_type": "stream",
          "name": "stdout",
          "text": [
            "predict x:[5 3], result:[6.20541738], y_hat:1\n",
            "predict x:[ 1 -3], result:[-1.56801186], y_hat:0\n",
            "predict x:[-2 -1], result:[-1.20162971], y_hat:0\n",
            "predict x:[-2  2], result:[1.65827217], y_hat:1\n"
          ]
        }
      ]
    },
    {
      "cell_type": "code",
      "source": [
        ""
      ],
      "metadata": {
        "id": "kNrPvXI4hvt4"
      },
      "execution_count": null,
      "outputs": []
    }
  ]
}