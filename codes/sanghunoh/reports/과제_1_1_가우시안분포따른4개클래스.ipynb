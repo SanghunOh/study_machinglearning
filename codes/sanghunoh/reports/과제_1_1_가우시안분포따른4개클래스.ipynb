{
  "nbformat": 4,
  "nbformat_minor": 0,
  "metadata": {
    "colab": {
      "name": "과제_1_1_가우시안분포따른4개클래스.ipynb",
      "provenance": [],
      "authorship_tag": "ABX9TyNb1TWp6qb/EflUYTyp8aSb"
    },
    "kernelspec": {
      "name": "python3",
      "display_name": "Python 3"
    },
    "language_info": {
      "name": "python"
    }
  },
  "cells": [
    {
      "cell_type": "markdown",
      "source": [
        "1. (50점) 4개의 클래스 집합 는 각각 다음과 같은 평균과 공분산을 가지는 가우시안분포를 따른다.\n"
      ],
      "metadata": {
        "id": "ACMBoSnM7m0F"
      }
    },
    {
      "cell_type": "code",
      "execution_count": 1,
      "metadata": {
        "id": "vCW2FCF3owED"
      },
      "outputs": [],
      "source": [
        "import numpy as np"
      ]
    },
    {
      "cell_type": "markdown",
      "source": [
        "# 정규 분포를 아래 평균 분포 따르게 조정\n",
        "$\n",
        "μ_1 = \\begin{pmatrix}\n",
        "0 \\\\\n",
        "0\n",
        "\\end{pmatrix}\n",
        "Σ_1 = \\begin{pmatrix}\n",
        "1 & 0 \\\\\n",
        "0 & 1\n",
        "\\end{pmatrix},\n",
        "μ_2 = \\begin{pmatrix}\n",
        "10 \\\\\n",
        "0\n",
        "\\end{pmatrix}\n",
        "Σ_2 = \\begin{pmatrix}\n",
        "5 & 0 \\\\\n",
        "0 & 5\n",
        "\\end{pmatrix}, \\\\\n",
        "μ_3 = \\begin{pmatrix}\n",
        "0 \\\\\n",
        "10\n",
        "\\end{pmatrix}\n",
        "Σ_3 = \\begin{pmatrix}\n",
        "1 & 0 \\\\\n",
        "0 & 5\n",
        "\\end{pmatrix},\n",
        "μ_4 = \\begin{pmatrix}\n",
        "10 \\\\\n",
        "10\n",
        "\\end{pmatrix}\n",
        "Σ_4 = \\begin{pmatrix}\n",
        "1 & 1 \\\\\n",
        "1 & 2\n",
        "\\end{pmatrix}\n",
        "$"
      ],
      "metadata": {
        "id": "A30x6pR29tH_"
      }
    },
    {
      "cell_type": "code",
      "source": [
        "# 정규 분포 따르는 100개 데이터 생성\n",
        "row_count = 100\n",
        "normal_rand = np.random.randn(row_count, 2)\n",
        "normal_rand.shape"
      ],
      "metadata": {
        "colab": {
          "base_uri": "https://localhost:8080/"
        },
        "id": "nThTgfso9Qep",
        "outputId": "50090dc5-aade-4dcd-e72c-c3ddb47b6cd8"
      },
      "execution_count": 2,
      "outputs": [
        {
          "output_type": "execute_result",
          "data": {
            "text/plain": [
              "(100, 2)"
            ]
          },
          "metadata": {},
          "execution_count": 2
        }
      ]
    },
    {
      "cell_type": "code",
      "source": [
        "mu_1 = np.array([0,0])\n",
        "sigma_1 = np.array([[1,0],[0,1]])\n",
        "class_1 = normal_rand @ np.sqrt(sigma_1) + mu_1 # 공분산 적용 분포 구하기\n",
        "class_1.shape"
      ],
      "metadata": {
        "colab": {
          "base_uri": "https://localhost:8080/"
        },
        "id": "zKGDu_EC8ToV",
        "outputId": "de3c7eaa-bb5e-4751-836f-a5853e662607"
      },
      "execution_count": 3,
      "outputs": [
        {
          "output_type": "execute_result",
          "data": {
            "text/plain": [
              "(100, 2)"
            ]
          },
          "metadata": {},
          "execution_count": 3
        }
      ]
    },
    {
      "cell_type": "code",
      "source": [
        "mu_2 = np.array([10,0])\n",
        "sigma_2 = np.array([[5,0],[0,5]])\n",
        "class_2 = normal_rand @ np.sqrt(sigma_2) + mu_2 # 공분산 적용 분포 구하기\n",
        "class_2.shape"
      ],
      "metadata": {
        "colab": {
          "base_uri": "https://localhost:8080/"
        },
        "id": "kTbHttAK_Lx7",
        "outputId": "031865a1-463d-4d79-d466-96c0bf90e01a"
      },
      "execution_count": 4,
      "outputs": [
        {
          "output_type": "execute_result",
          "data": {
            "text/plain": [
              "(100, 2)"
            ]
          },
          "metadata": {},
          "execution_count": 4
        }
      ]
    },
    {
      "cell_type": "code",
      "source": [
        "mu_3 = np.array([0,10])\n",
        "sigma_3 = np.array([[1,0],[0,5]])\n",
        "class_3 = normal_rand @ np.sqrt(sigma_3) + mu_3 # 공분산 적용 분포 구하기\n",
        "class_3.shape"
      ],
      "metadata": {
        "colab": {
          "base_uri": "https://localhost:8080/"
        },
        "id": "86XTmTbr_Mme",
        "outputId": "b9c94d50-7dfa-4824-8c3b-6a4d36a32586"
      },
      "execution_count": 5,
      "outputs": [
        {
          "output_type": "execute_result",
          "data": {
            "text/plain": [
              "(100, 2)"
            ]
          },
          "metadata": {},
          "execution_count": 5
        }
      ]
    },
    {
      "cell_type": "code",
      "source": [
        "# 정규 분포 따르는 50개 데이터 생성\n",
        "row_count = 50\n",
        "normal_rand = np.random.randn(row_count, 2)\n",
        "normal_rand.shape"
      ],
      "metadata": {
        "colab": {
          "base_uri": "https://localhost:8080/"
        },
        "id": "h_BS0FWi7sVJ",
        "outputId": "45912776-0bbc-4e81-8780-92f329f653b8"
      },
      "execution_count": 6,
      "outputs": [
        {
          "output_type": "execute_result",
          "data": {
            "text/plain": [
              "(50, 2)"
            ]
          },
          "metadata": {},
          "execution_count": 6
        }
      ]
    },
    {
      "cell_type": "code",
      "source": [
        "mu_4 = np.array([10,10])\n",
        "sigma_4 = np.array([[1,1],[1,2]])\n",
        "class_4 = normal_rand @ np.sqrt(sigma_4) + mu_4 # 공분산 적용 분포 구하기\n",
        "class_4.shape"
      ],
      "metadata": {
        "colab": {
          "base_uri": "https://localhost:8080/"
        },
        "id": "5_PyuVW7_Zmj",
        "outputId": "8d9460ff-5dc3-4798-918c-81bb6dff42e5"
      },
      "execution_count": 7,
      "outputs": [
        {
          "output_type": "execute_result",
          "data": {
            "text/plain": [
              "(50, 2)"
            ]
          },
          "metadata": {},
          "execution_count": 7
        }
      ]
    },
    {
      "cell_type": "markdown",
      "source": [
        "#Plot 그리기"
      ],
      "metadata": {
        "id": "xtFzlMX7AI6v"
      }
    },
    {
      "cell_type": "code",
      "source": [
        "import matplotlib.pyplot as plt"
      ],
      "metadata": {
        "id": "xkxZEe3aALIm"
      },
      "execution_count": 8,
      "outputs": []
    },
    {
      "cell_type": "code",
      "source": [
        "plt.plot(class_1[:,0], class_1[:,1], marker='o', markersize=4, linestyle='None', label='$C_1$')\n",
        "plt.plot(class_2[:,0], class_2[:,1], marker='+', linestyle='None', label='$C_2$')\n",
        "plt.plot(class_3[:,0], class_3[:,1], marker='v', linestyle='None', label='$C_3$')\n",
        "plt.plot(class_4[:,0], class_4[:,1], marker='*', linestyle='None', label='$C_4$')\n",
        "plt.legend(ncol=1)\n",
        "plt.show()"
      ],
      "metadata": {
        "colab": {
          "base_uri": "https://localhost:8080/",
          "height": 268
        },
        "id": "3mD2atTUAOu2",
        "outputId": "4e244ab4-9cbb-47c4-a882-f60f646a3f44"
      },
      "execution_count": 9,
      "outputs": [
        {
          "output_type": "display_data",
          "data": {
            "text/plain": [
              "<Figure size 432x288 with 1 Axes>"
            ],
            "image/png": "[encoded data removed]"
          },
          "metadata": {
            "needs_background": "light"
          }
        }
      ]
    },
    {
      "cell_type": "code",
      "source": [
        ""
      ],
      "metadata": {
        "id": "NTRITqiqAhlZ"
      },
      "execution_count": 9,
      "outputs": []
    }
  ]
}