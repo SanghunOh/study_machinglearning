{
  "nbformat": 4,
  "nbformat_minor": 0,
  "metadata": {
    "colab": {
      "name": "과제_4_1_특징추출.ipynb",
      "provenance": [],
      "collapsed_sections": [],
      "include_colab_link": true
    },
    "kernelspec": {
      "name": "python3",
      "display_name": "Python 3"
    },
    "language_info": {
      "name": "python"
    }
  },
  "cells": [
    {
      "cell_type": "markdown",
      "metadata": {
        "id": "view-in-github",
        "colab_type": "text"
      },
      "source": [
        "<a href=\"https://colab.research.google.com/github/SanghunOh/study_machinglearning/blob/main/codes/sanghunoh/reports/%EA%B3%BC%EC%A0%9C_4_1_%ED%8A%B9%EC%A7%95%EC%B6%94%EC%B6%9C.ipynb\" target=\"_parent\"><img src=\"https://colab.research.google.com/assets/colab-badge.svg\" alt=\"Open In Colab\"/></a>"
      ]
    },
    {
      "cell_type": "markdown",
      "source": [
        "##1. (40점) 교재 프로그램 8-1(강의자료 MATLAB 코드)을 참고하여, 특징 추출을 수행해 보시오"
      ],
      "metadata": {
        "id": "tJ5c1GyVGUUX"
      }
    },
    {
      "cell_type": "markdown",
      "source": [
        "#(1) (10점) 다음과 같은 분포를 가진 두 클래스의 데이터를 생성하고 아래 그림과 같이 산점도를 그리시오."
      ],
      "metadata": {
        "id": "3f-7BDAgGagp"
      }
    },
    {
      "cell_type": "code",
      "execution_count": 1,
      "metadata": {
        "id": "9yarP18Cxz0r"
      },
      "outputs": [],
      "source": [
        "import numpy as np\n",
        "np.random.seed(50)\n",
        "row_count = 100\n",
        "n_dimension = 2"
      ]
    },
    {
      "cell_type": "markdown",
      "source": [
        "## 두 클래스 생성\n",
        "$\n",
        "\\begin{align}\n",
        "μ_1=\\begin{pmatrix}\n",
        "0 \\\\\n",
        "0\n",
        "\\end{pmatrix},\n",
        "μ_2=\\begin{pmatrix}\n",
        "0 \\\\\n",
        "5\n",
        "\\end{pmatrix},\n",
        "\\Sigma_1=Σ_2=\\begin{pmatrix}\n",
        "10 & 2 \\\\\n",
        "2 & 1\n",
        "\\end{pmatrix}\n",
        "\\end{align}\n",
        "$"
      ],
      "metadata": {
        "id": "R4UKc6Q1Gqox"
      }
    },
    {
      "cell_type": "code",
      "source": [
        "# 공통 sigma\n",
        "simga_common = np.array([[10,2],[2,1]])"
      ],
      "metadata": {
        "id": "1vhwyr3IGftw"
      },
      "execution_count": 2,
      "outputs": []
    },
    {
      "cell_type": "code",
      "source": [
        "# class 1\n",
        "rand_1 = np.random.randn(row_count, n_dimension)\n",
        "mu_1 = np.array([0,0])\n",
        "class_1 = rand_1.dot(simga_common) + mu_1\n",
        "# class_1 = rand_1 @ simga_common + mu_1\n",
        "\n",
        "rand_1.shape, class_1.shape"
      ],
      "metadata": {
        "colab": {
          "base_uri": "https://localhost:8080/"
        },
        "id": "MiUj9y_tUvYs",
        "outputId": "60588f75-87df-4259-c52a-67ed8781ee8a"
      },
      "execution_count": 3,
      "outputs": [
        {
          "output_type": "execute_result",
          "data": {
            "text/plain": [
              "((100, 2), (100, 2))"
            ]
          },
          "metadata": {},
          "execution_count": 3
        }
      ]
    },
    {
      "cell_type": "code",
      "source": [
        "# class 2\n",
        "rand_2 = np.random.randn(row_count, n_dimension)\n",
        "mu_2 = np.array([0,5])\n",
        "class_2 = rand_2.dot(simga_common) + mu_2\n",
        "\n",
        "rand_2.shape, class_2.shape"
      ],
      "metadata": {
        "colab": {
          "base_uri": "https://localhost:8080/"
        },
        "id": "3-ZuukVqUx0o",
        "outputId": "e3907666-c3ee-4517-dccb-f83d85ae8c96"
      },
      "execution_count": 4,
      "outputs": [
        {
          "output_type": "execute_result",
          "data": {
            "text/plain": [
              "((100, 2), (100, 2))"
            ]
          },
          "metadata": {},
          "execution_count": 4
        }
      ]
    },
    {
      "cell_type": "code",
      "source": [
        "# 분포 확인 \n",
        "import matplotlib.pyplot as plt\n",
        "axis_x = [-10, 10]\n",
        "axis_y = [-5, 10]\n",
        "\n",
        "fig = plt.figure(figsize=(14,5))\n",
        "ax = fig.add_subplot(121)\n",
        "# random 분포\n",
        "ax.scatter(rand_1[:,0],rand_1[:,1], label='class 1') \n",
        "ax.scatter(rand_2[:,0],rand_2[:,1], label='class 2')\n",
        "plt.title('random Gaussian Distribution')\n",
        "plt.legend()\n",
        "plt.xlim(axis_x)\n",
        "plt.ylim(axis_y)\n",
        "\n",
        "\n",
        "ax = fig.add_subplot(122)\n",
        "# 평균과 공분산 적용\n",
        "ax.scatter(class_1[:,0],class_1[:,1], label='class 1') \n",
        "ax.scatter(class_2[:,0],class_2[:,1], label='class 2')\n",
        "plt.title('Apply Mu and Covariance')\n",
        "plt.xlim(axis_x)\n",
        "plt.ylim(axis_y)\n",
        "plt.legend()\n",
        "\n",
        "plt.show()\n"
      ],
      "metadata": {
        "colab": {
          "base_uri": "https://localhost:8080/",
          "height": 336
        },
        "id": "5CSHt5ZqLZfA",
        "outputId": "906aeb82-3a9b-467a-d660-fc5c233581d8"
      },
      "execution_count": 5,
      "outputs": [
        {
          "output_type": "display_data",
          "data": {
            "text/plain": [
              "<Figure size 1008x360 with 2 Axes>"
            ],
            "image/png": "[encoded data removed]"
          },
          "metadata": {
            "needs_background": "light"
          }
        }
      ]
    },
    {
      "cell_type": "markdown",
      "source": [
        "#(2) (20점) (1)에서 생성한 데이터에 대해 PCA를 적용하여 첫 번째 주성분 벡터를 찾고 이를 아래 그림2와 같이 2차원 평면상에 표시하시오. 이를 LDA에 대해서도 수행하고 함께 출력하시오."
      ],
      "metadata": {
        "id": "BDoeAFAWXmww"
      }
    },
    {
      "cell_type": "markdown",
      "source": [
        "## PCA(Principal Component Analysis)"
      ],
      "metadata": {
        "id": "XxEzXeUGX0C_"
      }
    },
    {
      "cell_type": "markdown",
      "source": [
        "### 비지도 학습 위해 두 클래스 합하기"
      ],
      "metadata": {
        "id": "zJ7rRzguYuGQ"
      }
    },
    {
      "cell_type": "code",
      "source": [
        "class_all = np.vstack([class_1, class_2])\n",
        "class_all.shape"
      ],
      "metadata": {
        "colab": {
          "base_uri": "https://localhost:8080/"
        },
        "id": "tOYYtVx1Q3Ju",
        "outputId": "fdd0cd0d-e6cc-43df-f710-b0e3ddf65f86"
      },
      "execution_count": 6,
      "outputs": [
        {
          "output_type": "execute_result",
          "data": {
            "text/plain": [
              "(200, 2)"
            ]
          },
          "metadata": {},
          "execution_count": 6
        }
      ]
    },
    {
      "cell_type": "markdown",
      "source": [
        "### Centering \bData : 이미 되어 있어 하지 않아도 됨"
      ],
      "metadata": {
        "id": "EaNSZUh6Z8_0"
      }
    },
    {
      "cell_type": "code",
      "source": [
        "norm_class_all = class_all - class_all.mean(axis=0)\n",
        "class_all_centering = norm_class_all/norm_class_all.std(axis=0)\n",
        "class_all_centering.shape"
      ],
      "metadata": {
        "colab": {
          "base_uri": "https://localhost:8080/"
        },
        "id": "X5QTTSheZ7ho",
        "outputId": "2c764930-76f3-4808-8e7e-ad6ae49bc361"
      },
      "execution_count": 7,
      "outputs": [
        {
          "output_type": "execute_result",
          "data": {
            "text/plain": [
              "(200, 2)"
            ]
          },
          "metadata": {},
          "execution_count": 7
        }
      ]
    },
    {
      "cell_type": "code",
      "source": [
        "plt.scatter(class_1[:,0],class_1[:,1], label='class 1') \n",
        "plt.scatter(class_2[:,0],class_2[:,1], label='class 2')\n",
        "plt.scatter(class_all_centering[:,0],class_all_centering[:,1], label='Centering Data')\n",
        "\n",
        "plt.title('Each Class Distribution')\n",
        "plt.legend()\n",
        "plt.xlim(axis_x)\n",
        "plt.ylim(axis_y)\n",
        "plt.show()"
      ],
      "metadata": {
        "colab": {
          "base_uri": "https://localhost:8080/",
          "height": 281
        },
        "id": "lrXXwqkoaIXK",
        "outputId": "9251c11b-1184-45ad-ca41-33f6765f222d"
      },
      "execution_count": 8,
      "outputs": [
        {
          "output_type": "display_data",
          "data": {
            "text/plain": [
              "<Figure size 432x288 with 1 Axes>"
            ],
            "image/png": "[encoded data removed]"
          },
          "metadata": {
            "needs_background": "light"
          }
        }
      ]
    },
    {
      "cell_type": "markdown",
      "source": [
        "##Computing eigen values and eigen vectors"
      ],
      "metadata": {
        "id": "FJ6hmDw9Ydd9"
      }
    },
    {
      "cell_type": "code",
      "source": [
        "# 공분산 구하기\n",
        "class_all_centering_sigma = np.cov(class_all_centering.T)\n",
        "eigen_values_pca, eigen_vectors_pca = np.linalg.eig(class_all_centering_sigma)\n",
        "eigen_values_pca, eigen_vectors_pca"
      ],
      "metadata": {
        "colab": {
          "base_uri": "https://localhost:8080/"
        },
        "id": "i8cZFZPTYLFd",
        "outputId": "5439ff1c-7163-4deb-ffab-8e5bb38ae22b"
      },
      "execution_count": 9,
      "outputs": [
        {
          "output_type": "execute_result",
          "data": {
            "text/plain": [
              "(array([1.66656578, 0.34348447]), array([[ 0.70710678, -0.70710678],\n",
              "        [ 0.70710678,  0.70710678]]))"
            ]
          },
          "metadata": {},
          "execution_count": 9
        }
      ]
    },
    {
      "cell_type": "code",
      "source": [
        "# 벡터별 정보 보유율\n",
        "for idx, eigen_value in enumerate(eigen_values_pca):\n",
        "  print('index {}, rate:{:.2f} %'.format(idx, eigen_value/sum(eigen_values_pca)*100))"
      ],
      "metadata": {
        "colab": {
          "base_uri": "https://localhost:8080/"
        },
        "id": "qnxzQkIrbjvZ",
        "outputId": "17217485-ab55-49b4-bce3-db04dcd42ce9"
      },
      "execution_count": 10,
      "outputs": [
        {
          "output_type": "stream",
          "name": "stdout",
          "text": [
            "index 0, rate:82.91 %\n",
            "index 1, rate:17.09 %\n"
          ]
        }
      ]
    },
    {
      "cell_type": "markdown",
      "source": [
        "##LDA(Linear Discriminant Analysis)"
      ],
      "metadata": {
        "id": "rZTSBu9VduWB"
      }
    },
    {
      "cell_type": "markdown",
      "source": [
        "###Computing \bCovariance\n",
        "$\n",
        "\\begin{align}\n",
        "J(w) = \\frac{w^T(m_1-M_2)(m_1-m_2)^Tw}{w^T\\sum_{k=1}^{2}\\sum_{x_i∈C_k}(m_i-M_k)(m_i-m_k)^Tw}\n",
        "= \\frac{w^TS_{between}w}{w^TS_{within}w}\n",
        "\\end{align}\n",
        "$"
      ],
      "metadata": {
        "id": "dc5lqVpke5mT"
      }
    },
    {
      "cell_type": "code",
      "source": [
        "# 각 클래스 평균과 공분산 구하기\n",
        "class_1_mu = np.mean(class_1,axis=0)\n",
        "class_1_sigma = np.cov(class_1.T)\n",
        "class_2_mu = np.mean(class_2,axis=0)\n",
        "class_2_sigma = np.cov(class_2.T)"
      ],
      "metadata": {
        "id": "JtUjoHWKce9I"
      },
      "execution_count": 11,
      "outputs": []
    },
    {
      "cell_type": "code",
      "source": [
        "# within scatter\n",
        "Sw = class_1_sigma + class_2_sigma\n",
        "# between scatter\n",
        "Sb = (class_1_mu-class_2_mu).T * (class_1_mu-class_2_mu)\n",
        "Sw, Sb"
      ],
      "metadata": {
        "colab": {
          "base_uri": "https://localhost:8080/"
        },
        "id": "suwyj9dJfFaG",
        "outputId": "31301068-6c01-492e-d814-309749c000e0"
      },
      "execution_count": 12,
      "outputs": [
        {
          "output_type": "execute_result",
          "data": {
            "text/plain": [
              "(array([[211.39013972,  45.08600007],\n",
              "        [ 45.08600007,  10.26147933]]), array([ 0.3585093 , 26.68441256]))"
            ]
          },
          "metadata": {},
          "execution_count": 12
        }
      ]
    },
    {
      "cell_type": "code",
      "source": [
        "# J covariance \n",
        "Jcov = Sb * np.linalg.inv(Sw)\n",
        "Jcov"
      ],
      "metadata": {
        "colab": {
          "base_uri": "https://localhost:8080/"
        },
        "id": "JlIz-EVRfVr-",
        "outputId": "bfc6abd7-6c70-4b53-c001-504b390ce9e0"
      },
      "execution_count": 13,
      "outputs": [
        {
          "output_type": "execute_result",
          "data": {
            "text/plain": [
              "array([[ 2.69653724e-02, -8.81851332e+00],\n",
              "       [-1.18478120e-01,  4.13464659e+01]])"
            ]
          },
          "metadata": {},
          "execution_count": 13
        }
      ]
    },
    {
      "cell_type": "markdown",
      "source": [
        "##Computing the Eigenvectors and Eigenvalues"
      ],
      "metadata": {
        "id": "Uk5lW4DdhUbp"
      }
    },
    {
      "cell_type": "code",
      "source": [
        "eigen_values_lda, eigen_vectors_lda = np.linalg.eig(Jcov)\n",
        "# eigen_values.shape, eigen_vectors.shape\n",
        "eigen_values_lda, eigen_vectors_lda"
      ],
      "metadata": {
        "colab": {
          "base_uri": "https://localhost:8080/"
        },
        "id": "Gw94AdXmhQE5",
        "outputId": "4a11956c-9d8a-45fe-f648-cbae4a04a783"
      },
      "execution_count": 14,
      "outputs": [
        {
          "output_type": "execute_result",
          "data": {
            "text/plain": [
              "(array([1.69492446e-03, 4.13717363e+01]), array([[-0.99999589,  0.20859991],\n",
              "        [-0.0028656 , -0.97800106]]))"
            ]
          },
          "metadata": {},
          "execution_count": 14
        }
      ]
    },
    {
      "cell_type": "code",
      "source": [
        "# 벡터별 정보 보유율\n",
        "for idx, eigen_value in enumerate(eigen_values_lda):\n",
        "  print('index {}, rate:{:.2f} %'.format(idx, eigen_value/sum(eigen_values_lda)*100))"
      ],
      "metadata": {
        "colab": {
          "base_uri": "https://localhost:8080/"
        },
        "id": "6Cf5vnFchdMO",
        "outputId": "eb750ef3-b7ce-41cd-8d2b-b153748f7dd9"
      },
      "execution_count": 15,
      "outputs": [
        {
          "output_type": "stream",
          "name": "stdout",
          "text": [
            "index 0, rate:0.00 %\n",
            "index 1, rate:100.00 %\n"
          ]
        }
      ]
    },
    {
      "cell_type": "markdown",
      "source": [
        "##PCA와 LDA 벡터 표시"
      ],
      "metadata": {
        "id": "f1iUD6u6h-tU"
      }
    },
    {
      "cell_type": "code",
      "source": [
        "# 표시 위해 사이즈 증가\n",
        "scala_size = 20 # 표시 위해 scalar 변경 eigen_vectors_pca[0] \n",
        "start_point = np.zeros((2))\n",
        "eigen_vector_pca = np.vstack([start_point,eigen_vectors_pca.T[0] * scala_size])\n",
        "eigen_vector_lda =np.vstack([start_point,eigen_vectors_lda.T[1] * scala_size])\n",
        "eigen_vector_pca, eigen_vector_lda"
      ],
      "metadata": {
        "colab": {
          "base_uri": "https://localhost:8080/"
        },
        "id": "e_QhIRyRkdB9",
        "outputId": "fdd8898b-3bc0-4f67-d1a0-80e679956f7d"
      },
      "execution_count": 16,
      "outputs": [
        {
          "output_type": "execute_result",
          "data": {
            "text/plain": [
              "(array([[ 0.        ,  0.        ],\n",
              "        [14.14213562, 14.14213562]]), array([[  0.        ,   0.        ],\n",
              "        [  4.17199815, -19.56002125]]))"
            ]
          },
          "metadata": {},
          "execution_count": 16
        }
      ]
    },
    {
      "cell_type": "code",
      "source": [
        "plt.scatter(class_1[:,0],class_1[:,1], label='class 1') \n",
        "plt.scatter(class_2[:,0],class_2[:,1], label='class 2')\n",
        "plt.plot(eigen_vector_pca[:,0], eigen_vector_pca[:,1], label='PCA 1 vector')\n",
        "plt.plot(eigen_vector_lda[:,0], eigen_vector_lda[:,1], label='LDA 1 vector')\n",
        "\n",
        "plt.title('Eigen First Vectors ')\n",
        "plt.legend()\n",
        "plt.xlim(axis_x)\n",
        "plt.ylim(axis_y)\n",
        "plt.show()"
      ],
      "metadata": {
        "colab": {
          "base_uri": "https://localhost:8080/",
          "height": 281
        },
        "id": "9Ryy1mZjhhZk",
        "outputId": "f983931f-38f1-4b87-b441-9f1bbc671204"
      },
      "execution_count": 17,
      "outputs": [
        {
          "output_type": "display_data",
          "data": {
            "text/plain": [
              "<Figure size 432x288 with 1 Axes>"
            ],
            "image/png": "[encoded data removed]"
          },
          "metadata": {
            "needs_background": "light"
          }
        }
      ]
    },
    {
      "cell_type": "markdown",
      "source": [
        "# (3) (10점) PCA의 결과와 LDA의 결과를 그림으로 비교하고 두 결과의 차이를 간단히 서술하시오."
      ],
      "metadata": {
        "id": "Q2gArs7LDjlq"
      }
    },
    {
      "cell_type": "code",
      "source": [
        "# 분포 확인 \n",
        "import matplotlib.pyplot as plt\n",
        "axis_x = [-10, 10]\n",
        "axis_y = [-5, 10]\n",
        "\n",
        "fig = plt.figure(figsize=(14,5))\n",
        "ax = fig.add_subplot(121)\n",
        "# random 분포\n",
        "ax.scatter(class_all[:,0],class_all[:,1], label='All Data')\n",
        "ax.plot(eigen_vector_pca[:,0], eigen_vector_pca[:,1], label='PCA 1 vector')\n",
        "plt.title('Apply PCA')\n",
        "plt.legend()\n",
        "plt.xlim(axis_x)\n",
        "plt.ylim(axis_y)\n",
        "\n",
        "\n",
        "ax = fig.add_subplot(122)\n",
        "# 평균과 공분산 적용\n",
        "ax.scatter(class_1[:,0],class_1[:,1], label='class 1') \n",
        "ax.scatter(class_2[:,0],class_2[:,1], label='class 2')\n",
        "ax.plot(eigen_vector_lda[:,0], eigen_vector_lda[:,1], label='LDA 1 vector')\n",
        "plt.title('Apply LDA')\n",
        "plt.xlim(axis_x)\n",
        "plt.ylim(axis_y)\n",
        "plt.legend()\n",
        "\n",
        "plt.show()\n"
      ],
      "metadata": {
        "colab": {
          "base_uri": "https://localhost:8080/",
          "height": 336
        },
        "id": "tDcozvBmDk5d",
        "outputId": "0b8f136c-2d0a-4b19-d5c6-b4d790aa0a92"
      },
      "execution_count": 18,
      "outputs": [
        {
          "output_type": "display_data",
          "data": {
            "text/plain": [
              "<Figure size 1008x360 with 2 Axes>"
            ],
            "image/png": "[encoded data removed]"
          },
          "metadata": {
            "needs_background": "light"
          }
        }
      ]
    },
    {
      "cell_type": "markdown",
      "source": [
        "1. PCA : 분류되지 않은 데이터에 적용해 eigen Vector를 찾을 수 있다.\n",
        "2. LDA : 분류된 데이터에 적용 가능하며, PCA를 보완 가능하다."
      ],
      "metadata": {
        "id": "PNOrtRH_E7tk"
      }
    },
    {
      "cell_type": "code",
      "source": [
        ""
      ],
      "metadata": {
        "id": "PcLq4y_SEckf"
      },
      "execution_count": 18,
      "outputs": []
    }
  ]
}