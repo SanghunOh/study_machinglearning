{
  "nbformat": 4,
  "nbformat_minor": 0,
  "metadata": {
    "colab": {
      "name": "6강_선형판별함수.ipynb",
      "provenance": [],
      "authorship_tag": "ABX9TyO0xUhSG4XAyVO10CpwkeTQ",
      "include_colab_link": true
    },
    "kernelspec": {
      "name": "python3",
      "display_name": "Python 3"
    },
    "language_info": {
      "name": "python"
    }
  },
  "cells": [
    {
      "cell_type": "markdown",
      "metadata": {
        "id": "view-in-github",
        "colab_type": "text"
      },
      "source": [
        "<a href=\"https://colab.research.google.com/github/SanghunOh/study_machinglearning/blob/main/codes/sanghunoh/6%EA%B0%95_%EC%84%A0%ED%98%95%ED%8C%90%EB%B3%84%ED%95%A8%EC%88%98_%EC%B5%9C%EC%86%8C%EC%A0%9C%EA%B3%B1%EB%B2%95.ipynb\" target=\"_parent\"><img src=\"https://colab.research.google.com/assets/colab-badge.svg\" alt=\"Open In Colab\"/></a>"
      ]
    },
    {
      "cell_type": "markdown",
      "source": [
        "#판별함수"
      ],
      "metadata": {
        "id": "A56SqTMJ5Mf2"
      }
    },
    {
      "cell_type": "markdown",
      "source": [
        "## 직선 형태(고차원공간 경우 초평면)\n",
        "n차원 입력 특징 벡터 \n",
        "$\n",
        "x=[x_1,x_2, ..., x_n]^T \\\\\n",
        "\\begin{align}\n",
        "g_i(x)=w_i^T x+ w_{i0}=\\sum_{j=1}^n w_{ij}x_j+w_{i0}\n",
        "\\end{align}\n",
        "$"
      ],
      "metadata": {
        "id": "kaPo52CsggB3"
      }
    },
    {
      "cell_type": "markdown",
      "source": [
        "##다항식 형태\n",
        "$\n",
        "g_i(x)=x^TW^ix+w_i^Tx+w_{i0} \\\\\n",
        "\\begin{align}\n",
        "=\\sum_{k=1}^n \\sum_{j=1}^n w_{jk}^i x_j x_k + \\sum_{j=1}^n w_{ij}x_j + w_{j0} → w 추정시 \\frac{n(n+1)}{2+n+1}\n",
        "\\end{align} \\\\\n",
        "n차원 데이터 추정할 파라미터 개수 (p차 다항식) → O(n^p)\n",
        "$"
      ],
      "metadata": {
        "id": "ChjPZCjGiXRi"
      }
    },
    {
      "cell_type": "markdown",
      "source": [
        "##비선형 기저함수 선형합 이용 형태\n",
        "다항식 형태 이슈 대안\n",
        "$\n",
        "g_i(x)=w_i^T𝞥(x)+w_{i0}\n",
        "\\begin{align}\n",
        "=\\sum_{j=1}^mw_{ij}𝞥_j(x)+w_{j0}\n",
        "\\end{align} \\\\\n",
        "𝞥(x)=[𝞥_1(x),𝞥_2(x),...,𝞥_m(x)]^T \\\\\n",
        "→ 종류:삼각/가우시안/하이퍼탄젠트/시그모이드 함수\n",
        "$\n"
      ],
      "metadata": {
        "id": "NR4uxX_xmc_2"
      }
    },
    {
      "cell_type": "markdown",
      "source": [
        "###최소제곱법(영상 위치 : 32:6)\n",
        "/begin{align}\n",
        "Δw_i=\\frac{\\d}{}\n",
        "/end{align}"
      ],
      "metadata": {
        "id": "X3pw7LCz5cDZ"
      }
    },
    {
      "cell_type": "code",
      "execution_count": null,
      "metadata": {
        "id": "GkHQJbvTgUAw"
      },
      "outputs": [],
      "source": [
        ""
      ]
    },
    {
      "cell_type": "markdown",
      "source": [
        "#퍼셉트론(Perceptron Classifier)"
      ],
      "metadata": {
        "id": "akvVzouK5R8A"
      }
    },
    {
      "cell_type": "code",
      "source": [
        ""
      ],
      "metadata": {
        "id": "rmPxp-Xc5USM"
      },
      "execution_count": null,
      "outputs": []
    }
  ]
}