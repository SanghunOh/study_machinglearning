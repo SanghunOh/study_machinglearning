{
  "nbformat": 4,
  "nbformat_minor": 0,
  "metadata": {
    "colab": {
      "name": "03_데이터_통계로분석_모수추정.ipynb",
      "provenance": [],
      "collapsed_sections": [],
      "authorship_tag": "ABX9TyMciyU6a+xAbIx+wJkI7V8S"
    },
    "kernelspec": {
      "name": "python3",
      "display_name": "Python 3"
    },
    "language_info": {
      "name": "python"
    }
  },
  "cells": [
    {
      "cell_type": "markdown",
      "source": [
        "#모수 확률밀도 추정(Parametric Density Estimation) : 클래스별 \n",
        "\n",
        "\n",
        "*   확률 모델 가정 후 값(파라미터) 추정 : 평균이나 분산 등\n",
        "*   단점 : 추정한 밀도함수와 모집단 밀도 함수 차이 시 의미 없음\n",
        "\n"
      ],
      "metadata": {
        "id": "J71KvC0urZgO"
      }
    },
    {
      "cell_type": "markdown",
      "source": [
        "## 데이터가 가우시안 분포로 가정\n",
        "$\n",
        "p(x|C_k) = G(x;μ_k, Σ_k) \\\\\n",
        "= \\frac{1}{\\sqrt{2π_n}\\sqrt{|Σ_k|}}\\exp[-\\frac{1}{2}(x-μ_k)^TΣ_k^{-1}(x-μ_k)]\n",
        "$"
      ],
      "metadata": {
        "id": "C8lTWXQasSME"
      }
    },
    {
      "cell_type": "code",
      "source": [
        "import numpy as np\n",
        "np.random.seed(0)\n",
        "\n",
        "row_count = 100"
      ],
      "metadata": {
        "id": "yJDY26jPoDgx"
      },
      "execution_count": 19,
      "outputs": []
    },
    {
      "cell_type": "markdown",
      "source": [
        "## 단변량 분포"
      ],
      "metadata": {
        "id": "jP8EGLqIodBE"
      }
    },
    {
      "cell_type": "code",
      "execution_count": 20,
      "metadata": {
        "id": "7f25lUxWooe0",
        "colab": {
          "base_uri": "https://localhost:8080/"
        },
        "outputId": "414b2afc-c4bf-4f57-fc49-b83d2eecef21"
      },
      "outputs": [
        {
          "output_type": "stream",
          "name": "stdout",
          "text": [
            "0.013626099616008715 0.007807938064356931 0.0049395649799881735\n",
            "0.11673088544172325 0.08836253767494985 0.07028203881496448\n"
          ]
        },
        {
          "output_type": "execute_result",
          "data": {
            "text/plain": [
              "(numpy.ndarray, (100,), (100,), 6.572520305780927e-16)"
            ]
          },
          "metadata": {},
          "execution_count": 20
        }
      ],
      "source": [
        "x = np.linspace(-8, 8, row_count)\n",
        "\n",
        "mu_1, sigma_1 = 0.0, 1.0\n",
        "mu_2, sigma_2 = 1.5, 1.5\n",
        "mu_3, sigma_3 = 3.0, 2.0\n",
        "\n",
        "y_1 = (1 / np.sqrt(2 * np.pi * sigma_1**2)) * np.exp(-(x-mu_1)**2 / (2 * sigma_1**2))\n",
        "y_2 = (1 / np.sqrt(2 * np.pi * sigma_2**2)) * np.exp(-(x-mu_2)**2 / (2 * sigma_2**2))\n",
        "y_3 = (1 / np.sqrt(2 * np.pi * sigma_3**2)) * np.exp(-(x-mu_3)**2 / (2 * sigma_3**2))\n",
        "print(y_1.var(),  y_2.var(), y_3.var()) # 분산\n",
        "print(y_1.std(),  y_2.std(), y_3.std()) # 표준편차\n",
        "type(x), x.shape, y_1.shape, x.mean(),#x, y_1 "
      ]
    },
    {
      "cell_type": "code",
      "source": [
        "import matplotlib.pyplot as plt"
      ],
      "metadata": {
        "id": "LHSdFh83okIe"
      },
      "execution_count": 21,
      "outputs": []
    },
    {
      "cell_type": "code",
      "source": [
        "plt.plot(x, y_1, alpha=0.7, label=r'N(0, $1^2$)')\n",
        "plt.plot(x, y_2, alpha=0.7, label=r'N(1.5, $1.5^2$)')\n",
        "plt.plot(x, y_3, alpha=0.7, label='N(3.0, $2.0^2$)')\n",
        "plt.legend(ncol=1)"
      ],
      "metadata": {
        "colab": {
          "base_uri": "https://localhost:8080/",
          "height": 283
        },
        "id": "3cl6fl5jon8P",
        "outputId": "114da86e-e56c-4c6e-f8be-68f380b83d02"
      },
      "execution_count": 22,
      "outputs": [
        {
          "output_type": "execute_result",
          "data": {
            "text/plain": [
              "<matplotlib.legend.Legend at 0x7fde55d39b50>"
            ]
          },
          "metadata": {},
          "execution_count": 22
        },
        {
          "output_type": "display_data",
          "data": {
            "text/plain": [
              "<Figure size 432x288 with 1 Axes>"
            ],
            "image/png": "[encoded data removed]"
          },
          "metadata": {
            "needs_background": "light"
          }
        }
      ]
    },
    {
      "cell_type": "code",
      "source": [
        "x_rand = np.sort(np.random.randn(row_count))  # 그래프 분포 점 표시 위해 정렬\n",
        "x_rand.shape, x_rand.mean(), x_rand.std()# x_rand"
      ],
      "metadata": {
        "colab": {
          "base_uri": "https://localhost:8080/"
        },
        "id": "roUDwydAtPB3",
        "outputId": "27a361f6-c5d0-4352-f38b-7b47f8d50ba7"
      },
      "execution_count": 23,
      "outputs": [
        {
          "output_type": "execute_result",
          "data": {
            "text/plain": [
              "((100,), 0.059808015534484955, 1.0078822447165796)"
            ]
          },
          "metadata": {},
          "execution_count": 23
        }
      ]
    },
    {
      "cell_type": "code",
      "source": [
        "mu_rand, sigma_rand = -0.08, 0.96   # 비교 위해 평균과 분산 조정\n",
        "y_rand = (1 / np.sqrt(2 * np.pi * sigma_rand**2)) * np.exp(-(x_rand-mu_rand)**2 / (2 * sigma_rand**2))"
      ],
      "metadata": {
        "id": "eVoaODrqud15"
      },
      "execution_count": 24,
      "outputs": []
    },
    {
      "cell_type": "code",
      "source": [
        "x_like = np.full_like(x, fill_value=-0.001)  \n",
        "# plt.plot(x, x_like, 'o', color='blue', ms=1, ls='None', label=r'P N(0, $1^2$)') # 수직선 상에 표시\n",
        "\n",
        "plt.plot(x, y_1, alpha=0.7, label=r'N(0, $1^2$)')\n",
        "plt.plot(x_rand, y_rand, alpha=0.7, label=r'N(-0.08, $0.96^2$)')\n",
        "plt.legend(ncol=1)"
      ],
      "metadata": {
        "colab": {
          "base_uri": "https://localhost:8080/",
          "height": 283
        },
        "id": "q9ZoYMEXvNHP",
        "outputId": "cfd8c743-eb56-4513-e0f0-abcf09b91eb6"
      },
      "execution_count": 25,
      "outputs": [
        {
          "output_type": "execute_result",
          "data": {
            "text/plain": [
              "<matplotlib.legend.Legend at 0x7fde55c1dd50>"
            ]
          },
          "metadata": {},
          "execution_count": 25
        },
        {
          "output_type": "display_data",
          "data": {
            "text/plain": [
              "<Figure size 432x288 with 1 Axes>"
            ],
            "image/png": "[encoded data removed]"
          },
          "metadata": {
            "needs_background": "light"
          }
        }
      ]
    },
    {
      "cell_type": "markdown",
      "source": [
        "##다변량 분포"
      ],
      "metadata": {
        "id": "4-UXjTExr3ny"
      }
    },
    {
      "cell_type": "markdown",
      "source": [
        "### x, y 축 가우시안 분포 생성"
      ],
      "metadata": {
        "id": "BUt3pgp4zHIk"
      }
    },
    {
      "cell_type": "code",
      "source": [
        "normal_rand_x = np.random.randn(row_count, 1)\n",
        "normal_rand_y = np.random.randn(row_count, 1)\n",
        "# normal_rand, \n",
        "normal_rand_x.shape,normal_rand_y.shape, type(normal_rand_x)"
      ],
      "metadata": {
        "id": "BmagFeE4r9A5",
        "outputId": "a1b2c749-0151-4d2a-814a-01b858d3c6f1",
        "colab": {
          "base_uri": "https://localhost:8080/"
        }
      },
      "execution_count": 26,
      "outputs": [
        {
          "output_type": "execute_result",
          "data": {
            "text/plain": [
              "((100, 1), (100, 1), numpy.ndarray)"
            ]
          },
          "metadata": {},
          "execution_count": 26
        }
      ]
    },
    {
      "cell_type": "code",
      "source": [
        "plt.plot(normal_rand_x, normal_rand_y,marker='o', linestyle='None')"
      ],
      "metadata": {
        "id": "HChIyLyMpP54",
        "outputId": "fa7441fa-4eed-4ce9-a6c5-638158ce611a",
        "colab": {
          "base_uri": "https://localhost:8080/",
          "height": 283
        }
      },
      "execution_count": 27,
      "outputs": [
        {
          "output_type": "execute_result",
          "data": {
            "text/plain": [
              "[<matplotlib.lines.Line2D at 0x7fde55bd4350>]"
            ]
          },
          "metadata": {},
          "execution_count": 27
        },
        {
          "output_type": "display_data",
          "data": {
            "text/plain": [
              "<Figure size 432x288 with 1 Axes>"
            ],
            "image/png": "[encoded data removed]"
          },
          "metadata": {
            "needs_background": "light"
          }
        }
      ]
    },
    {
      "cell_type": "markdown",
      "source": [
        "### 정규 평균과 공분산 행렬 정의"
      ],
      "metadata": {
        "id": "Me_C2yFIzjs-"
      }
    },
    {
      "cell_type": "code",
      "source": [
        "mu_rand, sigma_rand = np.array([0,0]), np.eye(2, dtype=int) \n",
        "mu_rand, sigma_rand"
      ],
      "metadata": {
        "id": "T6P_gfpkppVL",
        "outputId": "af51e9f1-1962-49bd-b93f-7fef5f3c67d9",
        "colab": {
          "base_uri": "https://localhost:8080/"
        }
      },
      "execution_count": 28,
      "outputs": [
        {
          "output_type": "execute_result",
          "data": {
            "text/plain": [
              "(array([0, 0]), array([[1, 0],\n",
              "        [0, 1]]))"
            ]
          },
          "metadata": {},
          "execution_count": 28
        }
      ]
    },
    {
      "cell_type": "code",
      "source": [
        "grid_x, grid_y = np.meshgrid(normal_rand_x, normal_rand_y)\n",
        "grid_x.shape, grid_y.shape"
      ],
      "metadata": {
        "id": "c8VpUSkkTIJG",
        "outputId": "fd249b2d-8972-4f5c-cb79-964ab2d438c0",
        "colab": {
          "base_uri": "https://localhost:8080/"
        }
      },
      "execution_count": 29,
      "outputs": [
        {
          "output_type": "execute_result",
          "data": {
            "text/plain": [
              "((100, 100), (100, 100))"
            ]
          },
          "metadata": {},
          "execution_count": 29
        }
      ]
    },
    {
      "cell_type": "code",
      "source": [
        "axis_x = np.reshape(grid_x, (-1,1))\n",
        "axis_y = np.reshape(grid_y, (-1,1))\n",
        "mash_xy = np.hstack((axis_x, axis_y))\n",
        "axis_x.shape, axis_y.shape, mash_xy.shape"
      ],
      "metadata": {
        "id": "qR1faeF00wPR",
        "outputId": "af2318d3-e46b-4003-f484-b8e5d9bfcc0e",
        "colab": {
          "base_uri": "https://localhost:8080/"
        }
      },
      "execution_count": 30,
      "outputs": [
        {
          "output_type": "execute_result",
          "data": {
            "text/plain": [
              "((10000, 1), (10000, 1), (10000, 2))"
            ]
          },
          "metadata": {},
          "execution_count": 30
        }
      ]
    },
    {
      "cell_type": "markdown",
      "source": [
        "###분포 밀도 측정 \n",
        "$\n",
        "p(x|C_k) = G(x;μ_k, Σ_k) \\\\\n",
        "= \\frac{1}{\\sqrt{2π_n}\\sqrt{|Σ_k|}}\\exp[-\\frac{1}{2}(x-μ_k)^TΣ_k^{-1}(x-μ_k)]\n",
        "$"
      ],
      "metadata": {
        "id": "-F4O-Q_1xn7J"
      }
    },
    {
      "cell_type": "markdown",
      "source": [
        "#### 공식 들어간 연산 하나 행으로 연습"
      ],
      "metadata": {
        "id": "zDaty6-w2m28"
      }
    },
    {
      "cell_type": "code",
      "source": [
        "(mash_xy[1,:]-mu_rand).shape"
      ],
      "metadata": {
        "id": "ICYKVSYI14PI",
        "outputId": "84b6891c-d2c0-4d32-bd9f-7c68b6bae751",
        "colab": {
          "base_uri": "https://localhost:8080/"
        }
      },
      "execution_count": 32,
      "outputs": [
        {
          "output_type": "execute_result",
          "data": {
            "text/plain": [
              "(2,)"
            ]
          },
          "metadata": {},
          "execution_count": 32
        }
      ]
    },
    {
      "cell_type": "code",
      "source": [
        "np.invert(sigma_rand), sigma_rand"
      ],
      "metadata": {
        "id": "iH7dH28rz3u8",
        "outputId": "51e6e2a7-dc04-4623-b5ea-f1885e308539",
        "colab": {
          "base_uri": "https://localhost:8080/"
        }
      },
      "execution_count": 31,
      "outputs": [
        {
          "output_type": "execute_result",
          "data": {
            "text/plain": [
              "(array([[-2, -1],\n",
              "        [-1, -2]]), array([[1, 0],\n",
              "        [0, 1]]))"
            ]
          },
          "metadata": {},
          "execution_count": 31
        }
      ]
    },
    {
      "cell_type": "code",
      "source": [
        "1/np.sqrt(2*np.pi*np.linalg.det(sigma_rand))*np.exp(-1/2*(mash_xy[1,:]-mu_rand).T @ np.invert(sigma_rand) @ (mash_xy[1,:]-mu_rand))"
      ],
      "metadata": {
        "id": "hD1czQH_3HMk",
        "outputId": "7c8395dc-b2bd-4f68-a8dd-255f7ad1cfb1",
        "colab": {
          "base_uri": "https://localhost:8080/"
        }
      },
      "execution_count": 35,
      "outputs": [
        {
          "output_type": "execute_result",
          "data": {
            "text/plain": [
              "4.624551301885948"
            ]
          },
          "metadata": {},
          "execution_count": 35
        }
      ]
    },
    {
      "cell_type": "code",
      "source": [
        "axis_z = [] #계속 돌리다보면 for에 저장되니 깡통을 만들어서 돌릴때마다 리셋 해준다.\n",
        "\n",
        "for i in range(mash_xy.shape[0]):\n",
        "  measure = 1/np.sqrt(2*np.pi*np.linalg.det(sigma_rand))*np.exp(-1/2*(mash_xy[1,:]-mu_rand).T @ np.invert(sigma_rand) @ (mash_xy[1,:]-mu_rand))\n",
        "  axis_z = np.append(axis_z, measure)\n",
        "    #append를 사용해서 옆으로 붙여준다 / np.pi는 3.14 / np.linalg.det는 determinant, 행렬식(행렬 -> 숫자) / exp는 exponantial ()안을 지수로 만들어줌 / linalg.inv는 inverse 역행렬\n",
        "    #np.exp 앞의 값을 실수로 추정되니 *로 스칼라곱해주고, np.linalg앞은 1*2 행렬과 그뒤 2*1행렬이니 @로 행렬곱셈해준다.\n",
        "    #!파이썬 행렬의 곱셈에서는 뒤에 백터(n*1 이던 1*n)는 @ 연산을 쓰면 자동으로 앞의열과 백터의 길이만 맞으면 자동으로 연산을 한다. 결과 값은 당연 (n, )으로 표현된다?\n",
        "\n",
        "axis_z.shape, axis_z, type(axis_z)"
      ],
      "metadata": {
        "id": "_gNNWP1O3Ns3",
        "outputId": "305672bd-b3e2-4945-d5c7-9703abb9daf1",
        "colab": {
          "base_uri": "https://localhost:8080/"
        }
      },
      "execution_count": 41,
      "outputs": [
        {
          "output_type": "execute_result",
          "data": {
            "text/plain": [
              "((10000,), array([4.6245513, 4.6245513, 4.6245513, ..., 4.6245513, 4.6245513,\n",
              "        4.6245513]), numpy.ndarray)"
            ]
          },
          "metadata": {},
          "execution_count": 41
        }
      ]
    },
    {
      "cell_type": "code",
      "source": [
        "mash_z = np.reshape(axis_z, grid_x.shape)\n",
        "mash_z.shape"
      ],
      "metadata": {
        "id": "k1sSZmnG5CCx",
        "outputId": "d50a4dfa-ccda-423e-a097-981987360323",
        "colab": {
          "base_uri": "https://localhost:8080/"
        }
      },
      "execution_count": 43,
      "outputs": [
        {
          "output_type": "execute_result",
          "data": {
            "text/plain": [
              "(100, 100)"
            ]
          },
          "metadata": {},
          "execution_count": 43
        }
      ]
    },
    {
      "cell_type": "code",
      "source": [
        "# refer : https://github.com/SanghunOh/study_machinglearning/blob/main/codes/sanghunoh/3_1_Data_Generation_and_Drawing_true.ipynb\n",
        "from mpl_toolkits.mplot3d import Axes3D #plot 3D 그리는 툴킷이라고 함\n",
        "\n",
        "fig = plt.figure() #plt.figure를 호출해서 fig라는 변수에 저장\n",
        "ax = Axes3D(fig) #Axes3D모듈에 위에서 저장한 plt.figure를 불러와서 ax에 저장 \n",
        "ax.plot_surface(grid_x, grid_y, mash_z, rstride=1, cstride=1, cmap='spring') #3D 추출함수는 ax.plot_surface로 기억하자\n",
        "  #rstride, cstride는 각각 row와 column의 샘플 추출 간격 (값이 커지면 격자가 커진다)\n",
        "\n",
        "plt.show()"
      ],
      "metadata": {
        "id": "7NrGXHT05SM5",
        "outputId": "8a93c1c8-30b0-44e0-d1f4-ff97f6d3a80e",
        "colab": {
          "base_uri": "https://localhost:8080/",
          "height": 319
        }
      },
      "execution_count": 45,
      "outputs": [
        {
          "output_type": "display_data",
          "data": {
            "text/plain": [
              "<Figure size 432x288 with 1 Axes>"
            ],
            "image/png": "[encoded data removed]"
          },
          "metadata": {
            "needs_background": "light"
          }
        }
      ]
    },
    {
      "cell_type": "markdown",
      "source": [
        "## 모수추정 시 단점 : 분포 형식 선택 오류 시 좋은 추정 함수 얻기 어려움"
      ],
      "metadata": {
        "id": "yXZP2DVwV9sX"
      }
    },
    {
      "cell_type": "code",
      "source": [
        "x_list = np.random.randint(-8,8,5)"
      ],
      "metadata": {
        "id": "TLiadHf948sF"
      },
      "execution_count": null,
      "outputs": []
    },
    {
      "cell_type": "code",
      "source": [
        "pdf_list = np.random.choice(x_list, p=[0.05, 0.3, 0.2, 0.05, 0.4], size=(100)) # PDF(Probability Density Function)-적분\n",
        "pdf_list"
      ],
      "metadata": {
        "id": "NRkq4BB7Wr0Z",
        "outputId": "a38b5227-750c-4e19-a9f1-a41aaef2f1bd",
        "colab": {
          "base_uri": "https://localhost:8080/"
        }
      },
      "execution_count": null,
      "outputs": [
        {
          "output_type": "execute_result",
          "data": {
            "text/plain": [
              "array([ 2, -6, -7, -6, -6,  2, -6, -7, -6,  2, -6,  2, -6,  2, -6, -5, -5,\n",
              "       -5, -5, -6, -6, -6, -6, -5,  2,  2, -6, -6,  2, -5, -7,  1, -5, -5,\n",
              "        2, -5, -6, -7, -6, -6,  2,  2, -5, -6, -5,  2, -5, -6, -6, -6, -6,\n",
              "       -5, -6, -6, -7, -6, -5, -6, -5, -6, -5, -6, -5, -6, -6,  2, -5, -5,\n",
              "       -6, -5, -5,  2, -6,  2, -7,  2,  2,  2,  2,  1, -6,  1,  1,  2,  1,\n",
              "        2,  2, -6, -5, -6, -6, -5, -5, -5,  2, -5,  2, -6, -5,  2])"
            ]
          },
          "metadata": {},
          "execution_count": 51
        }
      ]
    },
    {
      "cell_type": "code",
      "source": [
        "import seaborn as sns\n",
        "sns.displot([x,pdf_list], kind='kde')    # kdep은 커널 밀도 추정(kernal density estimation)\n",
        "# sns.displot(, kind='kde')\n",
        "plt.show()"
      ],
      "metadata": {
        "id": "zCebx1PqXtvJ",
        "outputId": "8c226aa8-c933-4e66-dc05-112c521fd988",
        "colab": {
          "base_uri": "https://localhost:8080/",
          "height": 369
        }
      },
      "execution_count": null,
      "outputs": [
        {
          "output_type": "display_data",
          "data": {
            "text/plain": [
              "<Figure size 402.375x360 with 1 Axes>"
            ],
            "image/png": "[encoded data removed]"
          },
          "metadata": {
            "needs_background": "light"
          }
        }
      ]
    },
    {
      "cell_type": "code",
      "source": [
        ""
      ],
      "metadata": {
        "id": "c5tDZkNNX7Bi"
      },
      "execution_count": null,
      "outputs": []
    }
  ]
}