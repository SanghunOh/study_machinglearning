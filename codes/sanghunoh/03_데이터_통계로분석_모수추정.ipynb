{
  "nbformat": 4,
  "nbformat_minor": 0,
  "metadata": {
    "colab": {
      "name": "03_데이터_통계로분석_모수추정.ipynb",
      "provenance": [],
      "collapsed_sections": [],
      "authorship_tag": "ABX9TyPsBnto9+i7DZ7mQyHet321"
    },
    "kernelspec": {
      "name": "python3",
      "display_name": "Python 3"
    },
    "language_info": {
      "name": "python"
    }
  },
  "cells": [
    {
      "cell_type": "markdown",
      "source": [
        "#모수 확률밀도 추정(Parametric Density Estimation) : 클래스별 \n",
        "\n",
        "\n",
        "*   확률 모델 가정 후 값(파라미터) 추정 : 평균이나 분산 등\n",
        "*   단점 : 추정한 밀도함수와 모집단 밀도 함수 차이 시 의미 없음\n",
        "\n"
      ],
      "metadata": {
        "id": "J71KvC0urZgO"
      }
    },
    {
      "cell_type": "markdown",
      "source": [
        "## 데이터가 가우시안 분포로 가정\n",
        "$\n",
        "p(x|C_k) = G(x;μ_k, Σ_k) \\\\\n",
        "= \\frac{1}{\\sqrt{2π_n}\\sqrt{|Σ_k|}}\\exp[-\\frac{1}{2}(x-μ_k)^TΣ_k^-1(x-μ_k)]\n",
        "$"
      ],
      "metadata": {
        "id": "C8lTWXQasSME"
      }
    },
    {
      "cell_type": "code",
      "source": [
        "import numpy as np\n",
        "np.random.seed(0)\n",
        "\n",
        "row_count = 200"
      ],
      "metadata": {
        "id": "yJDY26jPoDgx"
      },
      "execution_count": null,
      "outputs": []
    },
    {
      "cell_type": "markdown",
      "source": [
        "### 단변량 분포"
      ],
      "metadata": {
        "id": "jP8EGLqIodBE"
      }
    },
    {
      "cell_type": "code",
      "execution_count": null,
      "metadata": {
        "id": "7f25lUxWooe0",
        "colab": {
          "base_uri": "https://localhost:8080/"
        },
        "outputId": "0c405d04-cf0d-4846-d611-c7aea520e44c"
      },
      "outputs": [
        {
          "output_type": "stream",
          "name": "stdout",
          "text": [
            "0.013675484707188056 0.007827944897583367 0.004947717420012018\n",
            "0.11694222807518273 0.0884756740442443 0.0703400129372466\n"
          ]
        },
        {
          "output_type": "execute_result",
          "data": {
            "text/plain": [
              "(numpy.ndarray, (200,), (200,), 2.842170943040401e-16)"
            ]
          },
          "metadata": {},
          "execution_count": 95
        }
      ],
      "source": [
        "x = np.linspace(-8, 8, row_count)\n",
        "\n",
        "mu_1, sigma_1 = 0.0, 1.0\n",
        "mu_2, sigma_2 = 1.5, 1.5\n",
        "mu_3, sigma_3 = 3.0, 2.0\n",
        "\n",
        "y_1 = (1 / np.sqrt(2 * np.pi * sigma_1**2)) * np.exp(-(x-mu_1)**2 / (2 * sigma_1**2))\n",
        "y_2 = (1 / np.sqrt(2 * np.pi * sigma_2**2)) * np.exp(-(x-mu_2)**2 / (2 * sigma_2**2))\n",
        "y_3 = (1 / np.sqrt(2 * np.pi * sigma_3**2)) * np.exp(-(x-mu_3)**2 / (2 * sigma_3**2))\n",
        "print(y_1.var(),  y_2.var(), y_3.var()) # 분산\n",
        "print(y_1.std(),  y_2.std(), y_3.std()) # 표준편차\n",
        "type(x), x.shape, y_1.shape, x.mean(),#x, y_1 "
      ]
    },
    {
      "cell_type": "code",
      "source": [
        "import matplotlib.pyplot as plt"
      ],
      "metadata": {
        "id": "LHSdFh83okIe"
      },
      "execution_count": null,
      "outputs": []
    },
    {
      "cell_type": "code",
      "source": [
        "plt.plot(x, y_1, alpha=0.7, label=r'N(0, $1^2$)')\n",
        "plt.plot(x, y_2, alpha=0.7, label=r'N(1.5, $1.5^2$)')\n",
        "plt.plot(x, y_3, alpha=0.7, label='N(3.0, $2.0^2$)')\n",
        "plt.legend(ncol=1)"
      ],
      "metadata": {
        "colab": {
          "base_uri": "https://localhost:8080/",
          "height": 283
        },
        "id": "3cl6fl5jon8P",
        "outputId": "e1a956be-a1ff-4b14-d829-9187862f3714"
      },
      "execution_count": null,
      "outputs": [
        {
          "output_type": "execute_result",
          "data": {
            "text/plain": [
              "<matplotlib.legend.Legend at 0x7f3ffa564290>"
            ]
          },
          "metadata": {},
          "execution_count": 97
        },
        {
          "output_type": "display_data",
          "data": {
            "text/plain": [
              "<Figure size 432x288 with 1 Axes>"
            ],
            "image/png": "[encoded data removed]"
          },
          "metadata": {
            "needs_background": "light"
          }
        }
      ]
    },
    {
      "cell_type": "code",
      "source": [
        "rand_x_1 = np.sort(np.random.randn(row_count))\n",
        "rand_x_1.shape, rand_x_1.mean(), rand_x_1.std()# rand_x_1"
      ],
      "metadata": {
        "colab": {
          "base_uri": "https://localhost:8080/"
        },
        "id": "roUDwydAtPB3",
        "outputId": "194337b9-2b96-4394-83f7-4af62c26b0ac"
      },
      "execution_count": null,
      "outputs": [
        {
          "output_type": "execute_result",
          "data": {
            "text/plain": [
              "((200,), 0.0709104931411612, 1.0214227686959954)"
            ]
          },
          "metadata": {},
          "execution_count": 98
        }
      ]
    },
    {
      "cell_type": "code",
      "source": [
        "rand_y_1 = (1 / np.sqrt(2 * np.pi * sigma_1**2)) * np.exp(-(rand_x_1-mu_1)**2 / (2 * sigma_1**2))"
      ],
      "metadata": {
        "id": "eVoaODrqud15"
      },
      "execution_count": null,
      "outputs": []
    },
    {
      "cell_type": "code",
      "source": [
        "# x_y = np.full_like(x, fill_value=-0.01)\n",
        "# plt.plot(x, x_y, 'o', color='blue', ms=1, ls='None', label=r'P N(0, $1^2$)')\n",
        "\n",
        "plt.plot(x, y_1, alpha=0.7, label=r'N(0, $1^2$)')\n",
        "plt.plot(rand_x_1, rand_y_1, alpha=0.7, label=r'Random N(0, $1^2$)')"
      ],
      "metadata": {
        "colab": {
          "base_uri": "https://localhost:8080/",
          "height": 283
        },
        "id": "q9ZoYMEXvNHP",
        "outputId": "e030c4c2-6e52-4058-8e51-1865ff395912"
      },
      "execution_count": null,
      "outputs": [
        {
          "output_type": "execute_result",
          "data": {
            "text/plain": [
              "[<matplotlib.lines.Line2D at 0x7f3ffa4d2750>]"
            ]
          },
          "metadata": {},
          "execution_count": 100
        },
        {
          "output_type": "display_data",
          "data": {
            "text/plain": [
              "<Figure size 432x288 with 1 Axes>"
            ],
            "image/png": "[encoded data removed]"
          },
          "metadata": {
            "needs_background": "light"
          }
        }
      ]
    },
    {
      "cell_type": "markdown",
      "source": [
        "###다변량 분포"
      ],
      "metadata": {
        "id": "4-UXjTExr3ny"
      }
    },
    {
      "cell_type": "code",
      "source": [
        ""
      ],
      "metadata": {
        "id": "BmagFeE4r9A5"
      },
      "execution_count": null,
      "outputs": []
    }
  ]
}