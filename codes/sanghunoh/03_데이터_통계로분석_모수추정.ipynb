{
  "nbformat": 4,
  "nbformat_minor": 0,
  "metadata": {
    "colab": {
      "name": "03_데이터_통계로분석_모수추정.ipynb",
      "provenance": [],
      "collapsed_sections": [],
      "authorship_tag": "ABX9TyO2KjmSfE3sGSufqrRs70d+"
    },
    "kernelspec": {
      "name": "python3",
      "display_name": "Python 3"
    },
    "language_info": {
      "name": "python"
    }
  },
  "cells": [
    {
      "cell_type": "markdown",
      "source": [
        "#모수 확률밀도 추정(Parametric Density Estimation) : 클래스별 \n",
        "\n",
        "\n",
        "*   확률 모델 가정 후 값(파라미터) 추정 : 평균이나 분산 등\n",
        "*   단점 : 추정한 밀도함수와 모집단 밀도 함수 차이 시 의미 없음\n",
        "\n"
      ],
      "metadata": {
        "id": "J71KvC0urZgO"
      }
    },
    {
      "cell_type": "markdown",
      "source": [
        "## 데이터가 가우시안 분포로 가정\n",
        "$\n",
        "p(x|C_k) = G(x;μ_k, Σ_k) \\\\\n",
        "= \\frac{1}{\\sqrt{2π_n}\\sqrt{|Σ_k|}}\\exp[-\\frac{1}{2}(x-μ_k)^TΣ_k^{-1}(x-μ_k)]\n",
        "$"
      ],
      "metadata": {
        "id": "C8lTWXQasSME"
      }
    },
    {
      "cell_type": "code",
      "source": [
        "import numpy as np\n",
        "np.random.seed(0)\n",
        "\n",
        "row_count = 200"
      ],
      "metadata": {
        "id": "yJDY26jPoDgx"
      },
      "execution_count": 1,
      "outputs": []
    },
    {
      "cell_type": "markdown",
      "source": [
        "### 단변량 분포"
      ],
      "metadata": {
        "id": "jP8EGLqIodBE"
      }
    },
    {
      "cell_type": "code",
      "execution_count": 2,
      "metadata": {
        "id": "7f25lUxWooe0",
        "colab": {
          "base_uri": "https://localhost:8080/"
        },
        "outputId": "1995d45d-8871-4f57-bc89-ebbf2940420d"
      },
      "outputs": [
        {
          "output_type": "stream",
          "name": "stdout",
          "text": [
            "0.013675484707188056 0.007827944897583367 0.004947717420012018\n",
            "0.11694222807518273 0.0884756740442443 0.0703400129372466\n"
          ]
        },
        {
          "output_type": "execute_result",
          "data": {
            "text/plain": [
              "(numpy.ndarray, (200,), (200,), 2.842170943040401e-16)"
            ]
          },
          "metadata": {},
          "execution_count": 2
        }
      ],
      "source": [
        "x = np.linspace(-8, 8, row_count)\n",
        "\n",
        "mu_1, sigma_1 = 0.0, 1.0\n",
        "mu_2, sigma_2 = 1.5, 1.5\n",
        "mu_3, sigma_3 = 3.0, 2.0\n",
        "\n",
        "y_1 = (1 / np.sqrt(2 * np.pi * sigma_1**2)) * np.exp(-(x-mu_1)**2 / (2 * sigma_1**2))\n",
        "y_2 = (1 / np.sqrt(2 * np.pi * sigma_2**2)) * np.exp(-(x-mu_2)**2 / (2 * sigma_2**2))\n",
        "y_3 = (1 / np.sqrt(2 * np.pi * sigma_3**2)) * np.exp(-(x-mu_3)**2 / (2 * sigma_3**2))\n",
        "print(y_1.var(),  y_2.var(), y_3.var()) # 분산\n",
        "print(y_1.std(),  y_2.std(), y_3.std()) # 표준편차\n",
        "type(x), x.shape, y_1.shape, x.mean(),#x, y_1 "
      ]
    },
    {
      "cell_type": "code",
      "source": [
        "import matplotlib.pyplot as plt"
      ],
      "metadata": {
        "id": "LHSdFh83okIe"
      },
      "execution_count": 3,
      "outputs": []
    },
    {
      "cell_type": "code",
      "source": [
        "plt.plot(x, y_1, alpha=0.7, label=r'N(0, $1^2$)')\n",
        "plt.plot(x, y_2, alpha=0.7, label=r'N(1.5, $1.5^2$)')\n",
        "plt.plot(x, y_3, alpha=0.7, label='N(3.0, $2.0^2$)')\n",
        "plt.legend(ncol=1)"
      ],
      "metadata": {
        "colab": {
          "base_uri": "https://localhost:8080/",
          "height": 283
        },
        "id": "3cl6fl5jon8P",
        "outputId": "ac82e9b4-2dd7-439d-e719-1f634b2184c5"
      },
      "execution_count": 4,
      "outputs": [
        {
          "output_type": "execute_result",
          "data": {
            "text/plain": [
              "<matplotlib.legend.Legend at 0x7f06077a6150>"
            ]
          },
          "metadata": {},
          "execution_count": 4
        },
        {
          "output_type": "display_data",
          "data": {
            "text/plain": [
              "<Figure size 432x288 with 1 Axes>"
            ],
            "image/png": "[encoded data removed]"
          },
          "metadata": {
            "needs_background": "light"
          }
        }
      ]
    },
    {
      "cell_type": "code",
      "source": [
        "x_rand = np.sort(np.random.randn(row_count))  # 그래프 분포 점 표시 위해 정렬\n",
        "x_rand.shape, x_rand.mean(), x_rand.std()# x_rand"
      ],
      "metadata": {
        "colab": {
          "base_uri": "https://localhost:8080/"
        },
        "id": "roUDwydAtPB3",
        "outputId": "7d43ab4d-7ee3-43c8-b1a8-c19ed440eb31"
      },
      "execution_count": 5,
      "outputs": [
        {
          "output_type": "execute_result",
          "data": {
            "text/plain": [
              "((200,), 0.0709104931411612, 1.0214227686959954)"
            ]
          },
          "metadata": {},
          "execution_count": 5
        }
      ]
    },
    {
      "cell_type": "code",
      "source": [
        "mu_rand, sigma_rand = -0.08, 0.96   # 비교 위해 평균과 분산 조정\n",
        "y_rand = (1 / np.sqrt(2 * np.pi * sigma_rand**2)) * np.exp(-(x_rand-mu_rand)**2 / (2 * sigma_rand**2))"
      ],
      "metadata": {
        "id": "eVoaODrqud15"
      },
      "execution_count": 6,
      "outputs": []
    },
    {
      "cell_type": "code",
      "source": [
        "x_like = np.full_like(x, fill_value=-0.001)  \n",
        "# plt.plot(x, x_like, 'o', color='blue', ms=1, ls='None', label=r'P N(0, $1^2$)') # 수직선 상에 표시\n",
        "\n",
        "plt.plot(x, y_1, alpha=0.7, label=r'N(0, $1^2$)')\n",
        "plt.plot(x_rand, y_rand, alpha=0.7, label=r'N(-0.08, $0.96^2$)')\n",
        "plt.legend(ncol=1)"
      ],
      "metadata": {
        "colab": {
          "base_uri": "https://localhost:8080/",
          "height": 283
        },
        "id": "q9ZoYMEXvNHP",
        "outputId": "68602afa-7109-4eb5-9ef0-efd00011e3c4"
      },
      "execution_count": 7,
      "outputs": [
        {
          "output_type": "execute_result",
          "data": {
            "text/plain": [
              "<matplotlib.legend.Legend at 0x7f0607608c50>"
            ]
          },
          "metadata": {},
          "execution_count": 7
        },
        {
          "output_type": "display_data",
          "data": {
            "text/plain": [
              "<Figure size 432x288 with 1 Axes>"
            ],
            "image/png": "[encoded data removed]"
          },
          "metadata": {
            "needs_background": "light"
          }
        }
      ]
    },
    {
      "cell_type": "markdown",
      "source": [
        "###다변량 분포"
      ],
      "metadata": {
        "id": "4-UXjTExr3ny"
      }
    },
    {
      "cell_type": "code",
      "source": [
        "normal_rand_1 = np.random.randn(row_count, 2)\n",
        "# normal_rand_1, \n",
        "normal_rand_1.shape, type(normal_rand_1)"
      ],
      "metadata": {
        "id": "BmagFeE4r9A5",
        "outputId": "f51b6e0e-4845-4ae5-87e1-4974c3e09d89",
        "colab": {
          "base_uri": "https://localhost:8080/"
        }
      },
      "execution_count": 8,
      "outputs": [
        {
          "output_type": "execute_result",
          "data": {
            "text/plain": [
              "((200, 2), numpy.ndarray)"
            ]
          },
          "metadata": {},
          "execution_count": 8
        }
      ]
    },
    {
      "cell_type": "code",
      "source": [
        "plt.plot(normal_rand_1[:,1], normal_rand_1[:,0],marker='o', linestyle='None')"
      ],
      "metadata": {
        "id": "HChIyLyMpP54",
        "outputId": "d3130859-20d3-40c6-9d91-3480308f94f2",
        "colab": {
          "base_uri": "https://localhost:8080/",
          "height": 283
        }
      },
      "execution_count": 9,
      "outputs": [
        {
          "output_type": "execute_result",
          "data": {
            "text/plain": [
              "[<matplotlib.lines.Line2D at 0x7f0607621210>]"
            ]
          },
          "metadata": {},
          "execution_count": 9
        },
        {
          "output_type": "display_data",
          "data": {
            "text/plain": [
              "<Figure size 432x288 with 1 Axes>"
            ],
            "image/png": "[encoded data removed]"
          },
          "metadata": {
            "needs_background": "light"
          }
        }
      ]
    },
    {
      "cell_type": "markdown",
      "source": [
        "$\n",
        "p(x|C_k) = G(x;μ_k, Σ_k) \\\\\n",
        "= \\frac{1}{\\sqrt{2π_n}\\sqrt{|Σ_k|}}\\exp[-\\frac{1}{2}(x-μ_k)^TΣ_k^{-1}(x-μ_k)]\n",
        "$"
      ],
      "metadata": {
        "id": "-F4O-Q_1xn7J"
      }
    },
    {
      "cell_type": "code",
      "source": [
        "mu_rand, sigma_rand = np.array([0,0]), np.eye(1, dtype=int) # 정규 평균과 공분산 행렬 정의\n",
        "mu_rand, sigma_rand"
      ],
      "metadata": {
        "id": "T6P_gfpkppVL",
        "outputId": "fd1f1cde-1067-438b-c879-81a401e984a1",
        "colab": {
          "base_uri": "https://localhost:8080/"
        }
      },
      "execution_count": 26,
      "outputs": [
        {
          "output_type": "execute_result",
          "data": {
            "text/plain": [
              "(array([0, 0]), array([[1]]))"
            ]
          },
          "metadata": {},
          "execution_count": 26
        }
      ]
    },
    {
      "cell_type": "code",
      "source": [
        "np.invert(sigma_rand), sigma_rand"
      ],
      "metadata": {
        "id": "iH7dH28rz3u8",
        "outputId": "29d52118-17b0-4549-9a92-b938dd2011f6",
        "colab": {
          "base_uri": "https://localhost:8080/"
        }
      },
      "execution_count": 27,
      "outputs": [
        {
          "output_type": "execute_result",
          "data": {
            "text/plain": [
              "(array([[-2]]), array([[1]]))"
            ]
          },
          "metadata": {},
          "execution_count": 27
        }
      ]
    },
    {
      "cell_type": "code",
      "source": [
        "# normal_rand_1[:,1].shape\n",
        "(normal_rand_1-mu_rand).shape, (normal_rand_1[1]-mu_rand).shape"
      ],
      "metadata": {
        "id": "ICYKVSYI14PI",
        "outputId": "8207768c-3dea-4e90-a92e-3d9a26d22470",
        "colab": {
          "base_uri": "https://localhost:8080/"
        }
      },
      "execution_count": 33,
      "outputs": [
        {
          "output_type": "execute_result",
          "data": {
            "text/plain": [
              "((200, 2), (2,))"
            ]
          },
          "metadata": {},
          "execution_count": 33
        }
      ]
    },
    {
      "cell_type": "code",
      "source": [
        "1/np.sqrt(2*np.pi*np.linalg.det(sigma_rand))*np.exp(-1/2*(normal_rand_1-mu_rand)*np.invert(sigma_rand)*(normal_rand_1-mu_rand))"
      ],
      "metadata": {
        "id": "vSOguvg50pHc",
        "outputId": "d98d81eb-bc3d-4fe1-8c5a-51cc66f26553",
        "colab": {
          "base_uri": "https://localhost:8080/"
        }
      },
      "execution_count": 30,
      "outputs": [
        {
          "output_type": "execute_result",
          "data": {
            "text/plain": [
              "array([[4.57195905e-01, 4.22470295e-01],\n",
              "       [1.33684545e+00, 6.12891120e-01],\n",
              "       [6.00994099e-01, 5.44996026e+00],\n",
              "       [3.99178428e-01, 6.87805689e-01],\n",
              "       [4.31459879e-01, 4.02804062e-01],\n",
              "       [9.13462561e-01, 4.41176112e-01],\n",
              "       [7.40353970e-01, 4.95894657e-01],\n",
              "       [9.73400369e-01, 4.71989857e-01],\n",
              "       [3.99057869e-01, 4.60619713e-01],\n",
              "       [6.57288799e+01, 3.99655295e-01],\n",
              "       [9.94905333e-01, 4.49672767e-01],\n",
              "       [4.94594371e-01, 5.03025646e-01],\n",
              "       [4.28498438e+00, 4.00542078e-01],\n",
              "       [4.08834751e-01, 4.21038711e-01],\n",
              "       [5.69981117e-01, 4.22176509e-01],\n",
              "       [3.03135871e+00, 5.08864236e-01],\n",
              "       [5.35668408e-01, 4.74335267e-01],\n",
              "       [1.51864620e+00, 7.34424515e-01],\n",
              "       [3.72305855e+00, 2.89595338e+01],\n",
              "       [4.78431599e-01, 6.30820425e-01],\n",
              "       [5.98928789e-01, 4.67145905e-01],\n",
              "       [4.06049062e-01, 4.35936310e-01],\n",
              "       [4.38914995e-01, 6.61970115e+00],\n",
              "       [1.50520560e+00, 1.27971548e+00],\n",
              "       [7.73076620e-01, 3.42623426e+00],\n",
              "       [5.23389198e-01, 5.55766661e-01],\n",
              "       [4.07062789e-01, 4.41769116e-01],\n",
              "       [6.43577587e-01, 6.46448230e-01],\n",
              "       [6.75402157e-01, 2.70406798e+00],\n",
              "       [4.88786419e+00, 5.79044732e-01],\n",
              "       [1.63959261e+00, 5.15779610e-01],\n",
              "       [5.69299796e-01, 4.00046210e-01],\n",
              "       [1.69495444e+01, 4.13415898e-01],\n",
              "       [5.24937155e-01, 4.02073622e-01],\n",
              "       [4.39424958e-01, 4.02744972e-01],\n",
              "       [4.67806492e-01, 8.69859809e+02],\n",
              "       [1.82954871e+01, 4.64513001e-01],\n",
              "       [6.10607098e-01, 4.64825138e-01],\n",
              "       [5.09076189e-01, 4.04356482e-01],\n",
              "       [2.46491120e+01, 2.83093529e+01],\n",
              "       [4.03846955e-01, 1.12954379e+00],\n",
              "       [6.44032852e-01, 4.22709890e+00],\n",
              "       [4.33031058e-01, 5.77961675e-01],\n",
              "       [1.18959875e+00, 1.72967647e+00],\n",
              "       [6.42049784e-01, 2.17247066e+00],\n",
              "       [5.91884035e-01, 5.02805711e-01],\n",
              "       [8.05673610e+01, 1.22715074e+00],\n",
              "       [4.06384220e-01, 1.45293179e+00],\n",
              "       [4.02770498e-01, 5.60400518e-01],\n",
              "       [4.67956935e-01, 4.57491409e-01],\n",
              "       [2.19915651e+00, 6.23674753e+00],\n",
              "       [4.04551679e-01, 6.33626165e-01],\n",
              "       [6.21964587e-01, 4.93281235e-01],\n",
              "       [2.36625168e+00, 2.44662496e+00],\n",
              "       [6.45572767e-01, 4.09231262e-01],\n",
              "       [4.06137939e-01, 1.27455000e+00],\n",
              "       [1.42020023e+00, 6.80417598e-01],\n",
              "       [4.62640000e-01, 4.02509608e-01],\n",
              "       [3.99652403e-01, 4.33165992e-01],\n",
              "       [4.00460269e-01, 4.03562418e-01],\n",
              "       [6.69577704e-01, 7.72609963e-01],\n",
              "       [4.30168063e-01, 8.82312614e-01],\n",
              "       [1.52277246e+00, 4.39810167e-01],\n",
              "       [4.08983836e-01, 6.49658931e+01],\n",
              "       [6.55513714e-01, 9.71224398e-01],\n",
              "       [6.97224290e-01, 1.63992675e+00],\n",
              "       [7.25409928e-01, 1.62033811e+00],\n",
              "       [4.69777162e+02, 5.76191523e-01],\n",
              "       [8.70774803e+00, 4.88900325e-01],\n",
              "       [6.36947767e-01, 6.26620126e+00],\n",
              "       [1.24953790e+00, 4.89985321e-01],\n",
              "       [6.40300326e-01, 1.74202008e+00],\n",
              "       [4.84554307e-01, 4.31564056e-01],\n",
              "       [4.55692449e-01, 4.08860018e-01],\n",
              "       [5.57523062e-01, 4.50823083e-01],\n",
              "       [7.15321922e-01, 3.15284679e+00],\n",
              "       [2.56769506e+00, 6.41723114e-01],\n",
              "       [6.10515502e-01, 5.23457082e-01],\n",
              "       [1.19170105e+01, 5.01335679e-01],\n",
              "       [5.02143756e-01, 5.86200080e-01],\n",
              "       [6.49796434e-01, 3.98947953e-01],\n",
              "       [9.50661576e-01, 4.47820703e-01],\n",
              "       [3.99040404e-01, 4.09408986e-01],\n",
              "       [4.13710106e-01, 4.66250426e-01],\n",
              "       [4.28588818e-01, 1.42400173e+00],\n",
              "       [4.31584921e-01, 1.06967619e+00],\n",
              "       [8.10101809e-01, 4.24557024e-01],\n",
              "       [3.99920789e-01, 5.09123952e-01],\n",
              "       [6.03454260e-01, 4.70167749e+00],\n",
              "       [4.16391481e-01, 8.65694143e-01],\n",
              "       [7.13223636e+00, 4.63498390e-01],\n",
              "       [6.46269470e+01, 1.13494219e+00],\n",
              "       [3.99538074e-01, 6.20755065e+00],\n",
              "       [1.05368430e+00, 3.48113976e+00],\n",
              "       [6.03400049e+00, 4.09848468e-01],\n",
              "       [5.50394341e-01, 4.19222140e-01],\n",
              "       [4.52021953e-01, 5.44147557e+00],\n",
              "       [4.34408698e-01, 7.12433899e-01],\n",
              "       [8.32847211e-01, 1.46693463e+00],\n",
              "       [3.42778608e+00, 8.25229521e-01],\n",
              "       [5.70893845e-01, 1.38581380e+00],\n",
              "       [7.18085886e-01, 4.52940748e-01],\n",
              "       [9.10469048e+00, 4.52679356e-01],\n",
              "       [7.74532241e-01, 4.00329905e-01],\n",
              "       [4.12840619e-01, 7.65946884e-01],\n",
              "       [3.23336731e+00, 7.56947239e-01],\n",
              "       [4.38942527e-01, 4.21290841e-01],\n",
              "       [8.03160335e+00, 6.37375211e-01],\n",
              "       [4.57752171e-01, 4.07075350e-01],\n",
              "       [4.02065910e+00, 7.67561832e+00],\n",
              "       [9.46524162e-01, 5.59924650e-01],\n",
              "       [3.20861186e+01, 4.05095912e-01],\n",
              "       [4.05752986e-01, 4.02479416e-01],\n",
              "       [9.70831255e-01, 7.25522763e+02],\n",
              "       [5.51660577e-01, 4.29089322e-01],\n",
              "       [4.96092058e-01, 2.97036369e+00],\n",
              "       [8.48876990e-01, 4.30727138e-01],\n",
              "       [1.02439844e+00, 4.40507124e-01],\n",
              "       [7.83538209e-01, 3.98953456e-01],\n",
              "       [7.57270673e-01, 4.01393162e-01],\n",
              "       [4.66390233e-01, 1.53007599e+00],\n",
              "       [4.01899012e-01, 4.14290116e-01],\n",
              "       [8.59112408e-01, 4.04263331e-01],\n",
              "       [4.91787043e-01, 1.01160462e+00],\n",
              "       [7.36069940e-01, 4.03833451e-01],\n",
              "       [1.21324994e+00, 7.81819003e-01],\n",
              "       [4.94380987e-01, 4.31260015e-01],\n",
              "       [4.47498306e-01, 2.37048233e+01],\n",
              "       [4.97029993e-01, 5.07750555e+01],\n",
              "       [4.15107413e-01, 3.99965168e-01],\n",
              "       [5.21465285e-01, 1.03994659e+00],\n",
              "       [4.83815764e-01, 4.12279028e-01],\n",
              "       [5.13700998e-01, 1.34423360e+02],\n",
              "       [1.00363673e+00, 7.48335867e-01],\n",
              "       [7.51016969e+01, 4.24988095e-01],\n",
              "       [2.32651645e+01, 5.33696885e-01],\n",
              "       [4.30441312e-01, 6.60191887e-01],\n",
              "       [8.20496661e+00, 1.07238128e+00],\n",
              "       [2.27318871e+00, 8.69118706e-01],\n",
              "       [1.42587553e+00, 5.10215755e-01],\n",
              "       [7.23343262e-01, 1.15120103e+00],\n",
              "       [9.11113414e-01, 4.77642330e-01],\n",
              "       [8.39568966e-01, 4.60989024e+02],\n",
              "       [3.94016796e+00, 5.41732223e-01],\n",
              "       [3.99776483e-01, 4.18819639e-01],\n",
              "       [1.15237860e+00, 4.50914212e-01],\n",
              "       [1.33868407e+00, 2.15097775e+00],\n",
              "       [5.72885349e+02, 4.01128411e-01],\n",
              "       [6.15545432e-01, 5.19700829e-01],\n",
              "       [1.12464871e+00, 4.01367758e-01],\n",
              "       [4.61878033e-01, 3.99410328e-01],\n",
              "       [1.32715542e+00, 4.21438470e-01],\n",
              "       [4.50131023e-01, 5.59302118e-01],\n",
              "       [5.73482344e+00, 4.65972813e+00],\n",
              "       [1.60235575e+00, 2.17010704e+00],\n",
              "       [8.89187124e-01, 2.64213592e+00],\n",
              "       [2.35337239e+00, 1.92314053e+01],\n",
              "       [6.16766860e-01, 4.11467094e-01],\n",
              "       [5.11582435e-01, 1.19638811e+00],\n",
              "       [4.32521345e-01, 8.31412558e+00],\n",
              "       [4.19209181e-01, 9.18305757e-01],\n",
              "       [6.73660545e+00, 8.79265431e-01],\n",
              "       [4.23027781e-01, 8.78873032e-01],\n",
              "       [9.59395299e-01, 2.93213556e+00],\n",
              "       [1.09508653e+02, 8.41682718e-01],\n",
              "       [6.01527889e+01, 4.68725935e-01],\n",
              "       [1.78848585e+00, 4.00623891e-01],\n",
              "       [2.05169411e+00, 5.62025061e-01],\n",
              "       [4.27209739e-01, 4.12414911e-01],\n",
              "       [4.15708326e-01, 4.03788397e-01],\n",
              "       [4.17544229e-01, 1.71894674e+00],\n",
              "       [4.23007684e-01, 3.99953638e+00],\n",
              "       [4.62556563e-01, 4.85804958e-01],\n",
              "       [1.27579676e+00, 2.78798033e+02],\n",
              "       [1.61077731e+00, 5.94736889e-01],\n",
              "       [4.09808232e-01, 4.02660812e-01],\n",
              "       [9.69773851e-01, 4.28556975e-01],\n",
              "       [6.31776509e-01, 2.14999424e+00],\n",
              "       [1.06738221e+02, 3.99107269e-01],\n",
              "       [2.45460146e+00, 7.12521988e-01],\n",
              "       [2.27875630e+01, 3.99736467e-01],\n",
              "       [4.14415433e-01, 9.53555721e+00],\n",
              "       [6.78797507e-01, 4.14656952e-01],\n",
              "       [4.52446610e-01, 5.83687517e-01],\n",
              "       [3.98971979e-01, 5.26657368e-01],\n",
              "       [4.90161422e-01, 1.13476587e+01],\n",
              "       [3.99488976e-01, 7.19452750e-01],\n",
              "       [5.64971309e-01, 4.55415405e-01],\n",
              "       [7.63452428e-01, 1.39331114e+00],\n",
              "       [4.05853355e-01, 1.44041531e+00],\n",
              "       [1.80041217e+01, 6.16632881e-01],\n",
              "       [1.46259332e+00, 7.38761441e-01],\n",
              "       [5.42439147e-01, 4.97858824e-01],\n",
              "       [4.18168249e-01, 4.86478104e-01],\n",
              "       [4.65348167e-01, 4.27290404e+03],\n",
              "       [5.35930537e-01, 4.83753493e-01],\n",
              "       [4.18641527e-01, 1.29200705e+00],\n",
              "       [4.51495765e-01, 4.60648987e-01],\n",
              "       [4.97575676e-01, 4.18128698e-01],\n",
              "       [9.47671445e-01, 4.11871254e-01]])"
            ]
          },
          "metadata": {},
          "execution_count": 30
        }
      ]
    },
    {
      "cell_type": "code",
      "source": [
        ""
      ],
      "metadata": {
        "id": "TLiadHf948sF"
      },
      "execution_count": null,
      "outputs": []
    }
  ]
}