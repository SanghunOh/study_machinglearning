{
  "nbformat": 4,
  "nbformat_minor": 0,
  "metadata": {
    "colab": {
      "name": "03_데이터_통계로분석_모수추정.ipynb",
      "provenance": [],
      "collapsed_sections": [],
      "authorship_tag": "ABX9TyMd8+Sq9W3geI3bh/E1I0DH"
    },
    "kernelspec": {
      "name": "python3",
      "display_name": "Python 3"
    },
    "language_info": {
      "name": "python"
    }
  },
  "cells": [
    {
      "cell_type": "markdown",
      "source": [
        "#모수 확률밀도 추정(Parametric Density Estimation) : 클래스별 \n",
        "\n",
        "\n",
        "*   확률 모델 가정 후 값(파라미터) 추정 : 평균이나 분산 등\n",
        "*   단점 : 추정한 밀도함수와 모집단 밀도 함수 차이 시 의미 없음\n",
        "\n"
      ],
      "metadata": {
        "id": "J71KvC0urZgO"
      }
    },
    {
      "cell_type": "markdown",
      "source": [
        "## 데이터가 가우시안 분포로 가정\n",
        "$\n",
        "p(x|C_k) = G(x;μ_k, Σ_k) \\\\\n",
        "= \\frac{1}{\\sqrt{2π_n}\\sqrt{|Σ_k|}}\\exp[-\\frac{1}{2}(x-μ_k)^TΣ_k^{-1}(x-μ_k)]\n",
        "$"
      ],
      "metadata": {
        "id": "C8lTWXQasSME"
      }
    },
    {
      "cell_type": "code",
      "source": [
        "import numpy as np\n",
        "np.random.seed(0)\n",
        "\n",
        "row_count = 100"
      ],
      "metadata": {
        "id": "yJDY26jPoDgx"
      },
      "execution_count": 28,
      "outputs": []
    },
    {
      "cell_type": "markdown",
      "source": [
        "### 단변량 분포"
      ],
      "metadata": {
        "id": "jP8EGLqIodBE"
      }
    },
    {
      "cell_type": "code",
      "execution_count": 29,
      "metadata": {
        "id": "7f25lUxWooe0",
        "colab": {
          "base_uri": "https://localhost:8080/"
        },
        "outputId": "bfc590cc-992e-4b9c-cebf-d56d73395c6f"
      },
      "outputs": [
        {
          "output_type": "stream",
          "name": "stdout",
          "text": [
            "0.013626099616008715 0.007807938064356931 0.0049395649799881735\n",
            "0.11673088544172325 0.08836253767494985 0.07028203881496448\n"
          ]
        },
        {
          "output_type": "execute_result",
          "data": {
            "text/plain": [
              "(numpy.ndarray, (100,), (100,), 6.572520305780927e-16)"
            ]
          },
          "metadata": {},
          "execution_count": 29
        }
      ],
      "source": [
        "x = np.linspace(-8, 8, row_count)\n",
        "\n",
        "mu_1, sigma_1 = 0.0, 1.0\n",
        "mu_2, sigma_2 = 1.5, 1.5\n",
        "mu_3, sigma_3 = 3.0, 2.0\n",
        "\n",
        "y_1 = (1 / np.sqrt(2 * np.pi * sigma_1**2)) * np.exp(-(x-mu_1)**2 / (2 * sigma_1**2))\n",
        "y_2 = (1 / np.sqrt(2 * np.pi * sigma_2**2)) * np.exp(-(x-mu_2)**2 / (2 * sigma_2**2))\n",
        "y_3 = (1 / np.sqrt(2 * np.pi * sigma_3**2)) * np.exp(-(x-mu_3)**2 / (2 * sigma_3**2))\n",
        "print(y_1.var(),  y_2.var(), y_3.var()) # 분산\n",
        "print(y_1.std(),  y_2.std(), y_3.std()) # 표준편차\n",
        "type(x), x.shape, y_1.shape, x.mean(),#x, y_1 "
      ]
    },
    {
      "cell_type": "code",
      "source": [
        "import matplotlib.pyplot as plt"
      ],
      "metadata": {
        "id": "LHSdFh83okIe"
      },
      "execution_count": 30,
      "outputs": []
    },
    {
      "cell_type": "code",
      "source": [
        "plt.plot(x, y_1, alpha=0.7, label=r'N(0, $1^2$)')\n",
        "plt.plot(x, y_2, alpha=0.7, label=r'N(1.5, $1.5^2$)')\n",
        "plt.plot(x, y_3, alpha=0.7, label='N(3.0, $2.0^2$)')\n",
        "plt.legend(ncol=1)"
      ],
      "metadata": {
        "colab": {
          "base_uri": "https://localhost:8080/",
          "height": 283
        },
        "id": "3cl6fl5jon8P",
        "outputId": "d3e3a86e-c484-4d6a-a252-6637c00a9335"
      },
      "execution_count": 31,
      "outputs": [
        {
          "output_type": "execute_result",
          "data": {
            "text/plain": [
              "<matplotlib.legend.Legend at 0x7f0a6d413310>"
            ]
          },
          "metadata": {},
          "execution_count": 31
        },
        {
          "output_type": "display_data",
          "data": {
            "text/plain": [
              "<Figure size 432x288 with 1 Axes>"
            ],
            "image/png": "[encoded data removed]"
          },
          "metadata": {
            "needs_background": "light"
          }
        }
      ]
    },
    {
      "cell_type": "code",
      "source": [
        "x_rand = np.sort(np.random.randn(row_count))  # 그래프 분포 점 표시 위해 정렬\n",
        "x_rand.shape, x_rand.mean(), x_rand.std()# x_rand"
      ],
      "metadata": {
        "colab": {
          "base_uri": "https://localhost:8080/"
        },
        "id": "roUDwydAtPB3",
        "outputId": "c61cf25a-04fb-40fa-9264-11700feef937"
      },
      "execution_count": 32,
      "outputs": [
        {
          "output_type": "execute_result",
          "data": {
            "text/plain": [
              "((100,), 0.059808015534484955, 1.0078822447165796)"
            ]
          },
          "metadata": {},
          "execution_count": 32
        }
      ]
    },
    {
      "cell_type": "code",
      "source": [
        "mu_rand, sigma_rand = -0.08, 0.96   # 비교 위해 평균과 분산 조정\n",
        "y_rand = (1 / np.sqrt(2 * np.pi * sigma_rand**2)) * np.exp(-(x_rand-mu_rand)**2 / (2 * sigma_rand**2))"
      ],
      "metadata": {
        "id": "eVoaODrqud15"
      },
      "execution_count": 33,
      "outputs": []
    },
    {
      "cell_type": "code",
      "source": [
        "x_like = np.full_like(x, fill_value=-0.001)  \n",
        "# plt.plot(x, x_like, 'o', color='blue', ms=1, ls='None', label=r'P N(0, $1^2$)') # 수직선 상에 표시\n",
        "\n",
        "plt.plot(x, y_1, alpha=0.7, label=r'N(0, $1^2$)')\n",
        "plt.plot(x_rand, y_rand, alpha=0.7, label=r'N(-0.08, $0.96^2$)')\n",
        "plt.legend(ncol=1)"
      ],
      "metadata": {
        "colab": {
          "base_uri": "https://localhost:8080/",
          "height": 283
        },
        "id": "q9ZoYMEXvNHP",
        "outputId": "559baa89-5598-481f-e091-f0b5e08e9191"
      },
      "execution_count": 34,
      "outputs": [
        {
          "output_type": "execute_result",
          "data": {
            "text/plain": [
              "<matplotlib.legend.Legend at 0x7f0a6d316c50>"
            ]
          },
          "metadata": {},
          "execution_count": 34
        },
        {
          "output_type": "display_data",
          "data": {
            "text/plain": [
              "<Figure size 432x288 with 1 Axes>"
            ],
            "image/png": "[encoded data removed]"
          },
          "metadata": {
            "needs_background": "light"
          }
        }
      ]
    },
    {
      "cell_type": "markdown",
      "source": [
        "###다변량 분포"
      ],
      "metadata": {
        "id": "4-UXjTExr3ny"
      }
    },
    {
      "cell_type": "code",
      "source": [
        "normal_rand = np.random.randn(row_count, 2)\n",
        "# normal_rand, \n",
        "normal_rand.shape, type(normal_rand)"
      ],
      "metadata": {
        "id": "BmagFeE4r9A5",
        "outputId": "99166adc-3131-4234-cf06-5f715dd4e765",
        "colab": {
          "base_uri": "https://localhost:8080/"
        }
      },
      "execution_count": 35,
      "outputs": [
        {
          "output_type": "execute_result",
          "data": {
            "text/plain": [
              "((100, 2), numpy.ndarray)"
            ]
          },
          "metadata": {},
          "execution_count": 35
        }
      ]
    },
    {
      "cell_type": "code",
      "source": [
        "plt.plot(normal_rand[:,1], normal_rand[:,0],marker='o', linestyle='None')"
      ],
      "metadata": {
        "id": "HChIyLyMpP54",
        "outputId": "a749b2c5-91f0-4939-9e16-b3ec15b490bd",
        "colab": {
          "base_uri": "https://localhost:8080/",
          "height": 283
        }
      },
      "execution_count": 36,
      "outputs": [
        {
          "output_type": "execute_result",
          "data": {
            "text/plain": [
              "[<matplotlib.lines.Line2D at 0x7f0a6d234410>]"
            ]
          },
          "metadata": {},
          "execution_count": 36
        },
        {
          "output_type": "display_data",
          "data": {
            "text/plain": [
              "<Figure size 432x288 with 1 Axes>"
            ],
            "image/png": "[encoded data removed]"
          },
          "metadata": {
            "needs_background": "light"
          }
        }
      ]
    },
    {
      "cell_type": "markdown",
      "source": [
        "$\n",
        "p(x|C_k) = G(x;μ_k, Σ_k) \\\\\n",
        "= \\frac{1}{\\sqrt{2π_n}\\sqrt{|Σ_k|}}\\exp[-\\frac{1}{2}(x-μ_k)^TΣ_k^{-1}(x-μ_k)]\n",
        "$"
      ],
      "metadata": {
        "id": "-F4O-Q_1xn7J"
      }
    },
    {
      "cell_type": "code",
      "source": [
        "mu_rand, sigma_rand = np.array([0,0]), np.eye(1, dtype=int) # 정규 평균과 공분산 행렬 정의\n",
        "mu_rand, sigma_rand"
      ],
      "metadata": {
        "id": "T6P_gfpkppVL",
        "outputId": "23d3fe11-68aa-4688-f802-c5baa2b837e4",
        "colab": {
          "base_uri": "https://localhost:8080/"
        }
      },
      "execution_count": 37,
      "outputs": [
        {
          "output_type": "execute_result",
          "data": {
            "text/plain": [
              "(array([0, 0]), array([[1]]))"
            ]
          },
          "metadata": {},
          "execution_count": 37
        }
      ]
    },
    {
      "cell_type": "code",
      "source": [
        "np.invert(sigma_rand), sigma_rand"
      ],
      "metadata": {
        "id": "iH7dH28rz3u8",
        "outputId": "3071a03b-e9b6-4cda-a78f-cf82216654ba",
        "colab": {
          "base_uri": "https://localhost:8080/"
        }
      },
      "execution_count": 38,
      "outputs": [
        {
          "output_type": "execute_result",
          "data": {
            "text/plain": [
              "(array([[-2]]), array([[1]]))"
            ]
          },
          "metadata": {},
          "execution_count": 38
        }
      ]
    },
    {
      "cell_type": "code",
      "source": [
        "# normal_rand[:,1].shape\n",
        "(normal_rand-mu_rand).shape, (normal_rand[1]-mu_rand).shape"
      ],
      "metadata": {
        "id": "ICYKVSYI14PI",
        "outputId": "b259f1e3-1c7a-4d91-ae5c-3d93c4d1e677",
        "colab": {
          "base_uri": "https://localhost:8080/"
        }
      },
      "execution_count": 39,
      "outputs": [
        {
          "output_type": "execute_result",
          "data": {
            "text/plain": [
              "((100, 2), (2,))"
            ]
          },
          "metadata": {},
          "execution_count": 39
        }
      ]
    },
    {
      "cell_type": "code",
      "source": [
        "X_meshgrid, Y_meshgrid = np.meshgrid(normal_rand[:,0], normal_rand[:,1])\n",
        "X_meshgrid.shape, Y_meshgrid.shape, X_meshgrid[0,:]"
      ],
      "metadata": {
        "id": "c8VpUSkkTIJG"
      },
      "execution_count": null,
      "outputs": []
    },
    {
      "cell_type": "code",
      "source": [
        "# XY = X_meshgrid, Y_meshgrid\n",
        "# XY.shape"
      ],
      "metadata": {
        "id": "TLbvHweYUT9N"
      },
      "execution_count": 41,
      "outputs": []
    },
    {
      "cell_type": "code",
      "source": [
        "# 1/np.sqrt(2*np.pi*np.linalg.det(sigma_rand))*np.exp(-1/2*(normal_rand-mu_rand)*np.invert(sigma_rand)*(normal_rand-mu_rand))"
      ],
      "metadata": {
        "id": "vSOguvg50pHc"
      },
      "execution_count": null,
      "outputs": []
    },
    {
      "cell_type": "markdown",
      "source": [
        "## 모수추정 시 단점 : 분포 오류 시 좋은 추정 함수 얻기 어려움"
      ],
      "metadata": {
        "id": "yXZP2DVwV9sX"
      }
    },
    {
      "cell_type": "code",
      "source": [
        "x_list = np.random.randint(-8,8,5)"
      ],
      "metadata": {
        "id": "TLiadHf948sF"
      },
      "execution_count": 50,
      "outputs": []
    },
    {
      "cell_type": "code",
      "source": [
        "pdf_list = np.random.choice(x_list, p=[0.05, 0.3, 0.2, 0.05, 0.4], size=(100)) # PDF(Probability Density Function)-적분\n",
        "pdf_list"
      ],
      "metadata": {
        "id": "NRkq4BB7Wr0Z",
        "outputId": "a38b5227-750c-4e19-a9f1-a41aaef2f1bd",
        "colab": {
          "base_uri": "https://localhost:8080/"
        }
      },
      "execution_count": 51,
      "outputs": [
        {
          "output_type": "execute_result",
          "data": {
            "text/plain": [
              "array([ 2, -6, -7, -6, -6,  2, -6, -7, -6,  2, -6,  2, -6,  2, -6, -5, -5,\n",
              "       -5, -5, -6, -6, -6, -6, -5,  2,  2, -6, -6,  2, -5, -7,  1, -5, -5,\n",
              "        2, -5, -6, -7, -6, -6,  2,  2, -5, -6, -5,  2, -5, -6, -6, -6, -6,\n",
              "       -5, -6, -6, -7, -6, -5, -6, -5, -6, -5, -6, -5, -6, -6,  2, -5, -5,\n",
              "       -6, -5, -5,  2, -6,  2, -7,  2,  2,  2,  2,  1, -6,  1,  1,  2,  1,\n",
              "        2,  2, -6, -5, -6, -6, -5, -5, -5,  2, -5,  2, -6, -5,  2])"
            ]
          },
          "metadata": {},
          "execution_count": 51
        }
      ]
    },
    {
      "cell_type": "code",
      "source": [
        "import seaborn as sns\n",
        "sns.displot([x,pdf_list], kind='kde')    # kdep은 커널 밀도 추정(kernal density estimation)\n",
        "# sns.displot(, kind='kde')\n",
        "plt.show()"
      ],
      "metadata": {
        "id": "zCebx1PqXtvJ",
        "outputId": "8c226aa8-c933-4e66-dc05-112c521fd988",
        "colab": {
          "base_uri": "https://localhost:8080/",
          "height": 369
        }
      },
      "execution_count": 55,
      "outputs": [
        {
          "output_type": "display_data",
          "data": {
            "text/plain": [
              "<Figure size 402.375x360 with 1 Axes>"
            ],
            "image/png": "[encoded data removed]"
          },
          "metadata": {
            "needs_background": "light"
          }
        }
      ]
    },
    {
      "cell_type": "code",
      "source": [
        ""
      ],
      "metadata": {
        "id": "c5tDZkNNX7Bi"
      },
      "execution_count": 45,
      "outputs": []
    }
  ]
}