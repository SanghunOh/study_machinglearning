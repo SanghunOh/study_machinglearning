{
  "nbformat": 4,
  "nbformat_minor": 0,
  "metadata": {
    "colab": {
      "name": "7강_군집화_Dendrogram.ipynb",
      "provenance": [],
      "collapsed_sections": [],
      "authorship_tag": "ABX9TyPYFql8PZMZGIppqizZPn3n",
      "include_colab_link": true
    },
    "kernelspec": {
      "name": "python3",
      "display_name": "Python 3"
    },
    "language_info": {
      "name": "python"
    }
  },
  "cells": [
    {
      "cell_type": "markdown",
      "metadata": {
        "id": "view-in-github",
        "colab_type": "text"
      },
      "source": [
        "<a href=\"https://colab.research.google.com/github/SanghunOh/study_machinglearning/blob/main/codes/sanghunoh/7%EA%B0%95_%EA%B5%B0%EC%A7%91%ED%99%94_Dendrogram.ipynb\" target=\"_parent\"><img src=\"https://colab.research.google.com/assets/colab-badge.svg\" alt=\"Open In Colab\"/></a>"
      ]
    },
    {
      "cell_type": "markdown",
      "source": [
        "* 사용 이유\n",
        "  - 데이터에 클래스 라벨이 없는 경우\n",
        "  - 클래스 라벨링에 비용이 많이 드는 경우"
      ],
      "metadata": {
        "id": "wt25SvAtKxGx"
      }
    },
    {
      "cell_type": "markdown",
      "source": [
        "# 계층스러운 군집화 알고리즘\n",
        "- 병합 방법 : 가까운 군집끼리 순서 있게 합침. $N-1$\n",
        "- 분할 방법 : 모든 데이터를 하나로 보고, 기준 따라 나눔. $ 2^{n-1}-1 $, 비실용스러움."
      ],
      "metadata": {
        "id": "lTTZbI_ZWYo_"
      }
    },
    {
      "cell_type": "markdown",
      "source": [
        "## 병합 방법 : Dendrogram\n",
        "데이터 집합 $ \\{ x_1, x_2, ..., x_n \\}$\n",
        "1. N개 군집 만듬 : $ \\{ C_1, C_2, ..., C_n \\}$\n",
        "2. 군집 간 거리 계산해 가까운 군집 합침 :\n",
        "$\n",
        "\\begin{align}\n",
        "  d(C_i, C_j) &= min_{x_i \\in C_i, x_j \\in C_j} \\{ d(x_i, x_j \\} \\\\\n",
        "  C_ij &= C_i ∪ C_j  \n",
        "\\end{align}\n",
        "$\n",
        "3. cluster가 하나 일 때까지 2 과정 반복"
      ],
      "metadata": {
        "id": "6K5OhoFhXYFs"
      }
    },
    {
      "cell_type": "markdown",
      "source": [
        "## 고려 사항\n",
        "- 군집 간 거리 \n",
        "  + 최단연결법 : 고립된 군집 찾는데 유용\n",
        "  + 최장연결법 : 응집된 군집 찾는데 유용\n",
        "  + 중심연결법 : 특이값에 특화됨\n",
        "  + 평균연결법 : 작은 분산을 가지는 군집 형성\n",
        "  + Ward's 방법 : 비슷한 크기 군집 시 유용\n",
        "- 적합한 군집 수 결정 : 클러스터 수가 일정 동안 유지되는 지점 선택"
      ],
      "metadata": {
        "id": "43dYNsRccE2R"
      }
    },
    {
      "cell_type": "code",
      "execution_count": null,
      "metadata": {
        "id": "EocksXLfKtqr"
      },
      "outputs": [],
      "source": [
        ""
      ]
    }
  ]
}