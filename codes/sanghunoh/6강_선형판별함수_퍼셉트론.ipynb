{
  "nbformat": 4,
  "nbformat_minor": 0,
  "metadata": {
    "colab": {
      "name": "6강_선형판별함수_퍼셉트론.ipynb",
      "provenance": [],
      "collapsed_sections": [],
      "authorship_tag": "ABX9TyNtpdBOILDPBNcFrVL993fr",
      "include_colab_link": true
    },
    "kernelspec": {
      "name": "python3",
      "display_name": "Python 3"
    },
    "language_info": {
      "name": "python"
    }
  },
  "cells": [
    {
      "cell_type": "markdown",
      "metadata": {
        "id": "view-in-github",
        "colab_type": "text"
      },
      "source": [
        "<a href=\"https://colab.research.google.com/github/SanghunOh/study_machinglearning/blob/main/codes/sanghunoh/6%EA%B0%95_%EC%84%A0%ED%98%95%ED%8C%90%EB%B3%84%ED%95%A8%EC%88%98_%ED%8D%BC%EC%85%89%ED%8A%B8%EB%A1%A0.ipynb\" target=\"_parent\"><img src=\"https://colab.research.google.com/assets/colab-badge.svg\" alt=\"Open In Colab\"/></a>"
      ]
    },
    {
      "cell_type": "markdown",
      "source": [
        "#Perceptron\n",
        "$\n",
        "y_i=step(w_i^Tx+w_{i0}) \\\\\n",
        "step(u) = \\{\n",
        "  \\begin{array}{cl}\n",
        "  1 & \\text{if }u>0 \\\\\n",
        "  0 & otherwise\n",
        "  \\end{array}\n",
        "$"
      ],
      "metadata": {
        "id": "xtzaem1z_dlm"
      }
    },
    {
      "cell_type": "markdown",
      "source": [
        "#퍼셉트론 이용한 이분류(Perceptron Classifier)"
      ],
      "metadata": {
        "id": "akvVzouK5R8A"
      }
    },
    {
      "cell_type": "markdown",
      "source": [
        "## 학습데이터 생성"
      ],
      "metadata": {
        "id": "kO0LZ5b6_J1f"
      }
    },
    {
      "cell_type": "code",
      "source": [
        "import numpy as np"
      ],
      "metadata": {
        "id": "rmPxp-Xc5USM"
      },
      "execution_count": 1,
      "outputs": []
    },
    {
      "cell_type": "code",
      "source": [
        "np.random.seed(50)  # 동일한 수열 발생 위해 설정\n",
        "row_count = 10"
      ],
      "metadata": {
        "id": "IQYKThOp-kqp"
      },
      "execution_count": 2,
      "outputs": []
    },
    {
      "cell_type": "code",
      "source": [
        "rand_std_1 = np.random.randn(row_count, 2)\n",
        "class_A = rand_std_1"
      ],
      "metadata": {
        "id": "-IqAakfP-5Z1"
      },
      "execution_count": 3,
      "outputs": []
    },
    {
      "cell_type": "code",
      "source": [
        "# case 1\n",
        "mean_2 = np.array([2,2])\n",
        "# sigma_2 = np.array([[1,1],[1,2]])\n",
        "sigma_2 = np.array([[3,1],[1,3]])   # 식별 위해 값 분포 임의 폭 증가\n",
        "rand_std_2 = np.random.randn(row_count, 2)\n",
        "class_B = rand_std_2 @ np.sqrt(sigma_2) + mean_2\n",
        "\n",
        "# case 2\n",
        "# import numpy.matlib\n",
        "# rand_std_2 = np.random.randn(row_count, 2) + np.matlib.repmat([2.5,2.5],row_count, 1)\n",
        "# class_B = rand_std_2\n",
        "\n",
        "class_B.shape"
      ],
      "metadata": {
        "colab": {
          "base_uri": "https://localhost:8080/"
        },
        "id": "BvEhdg4D_4As",
        "outputId": "d206f62e-7eb3-4897-df5d-1ba23d1b9725"
      },
      "execution_count": 4,
      "outputs": [
        {
          "output_type": "execute_result",
          "data": {
            "text/plain": [
              "(10, 2)"
            ]
          },
          "metadata": {},
          "execution_count": 4
        }
      ]
    },
    {
      "cell_type": "markdown",
      "source": [
        "### Plot 그리기"
      ],
      "metadata": {
        "id": "Cutxt7Ei_8wI"
      }
    },
    {
      "cell_type": "code",
      "source": [
        "import matplotlib.pyplot as plt"
      ],
      "metadata": {
        "id": "358sVaGC__Bw"
      },
      "execution_count": 5,
      "outputs": []
    },
    {
      "cell_type": "code",
      "source": [
        "from matplotlib.markers import MarkerStyle\n",
        "plt.plot(class_A[:,0],class_A[:,1],marker='+',linestyle='None') # 데이터 A\n",
        "plt.plot(class_B[:,0],class_B[:,1],'v')  # 데이터 B\n"
      ],
      "metadata": {
        "colab": {
          "base_uri": "https://localhost:8080/",
          "height": 283
        },
        "id": "rzl_7P5y__fB",
        "outputId": "ab09f4c6-01f8-4a2e-ea88-b6f3c24a22d6"
      },
      "execution_count": 6,
      "outputs": [
        {
          "output_type": "execute_result",
          "data": {
            "text/plain": [
              "[<matplotlib.lines.Line2D at 0x7fc970744f50>]"
            ]
          },
          "metadata": {},
          "execution_count": 6
        },
        {
          "output_type": "display_data",
          "data": {
            "text/plain": [
              "<Figure size 432x288 with 1 Axes>"
            ],
            "image/png": "[encoded data removed]"
          },
          "metadata": {
            "needs_background": "light"
          }
        }
      ]
    },
    {
      "cell_type": "markdown",
      "source": [
        "##학습 하기\n",
        "$\n",
        "w_i^{τ+1}=w_i^{(τ)}+η(t_i-y_i)x \\\\\n",
        "w_{i0}^{τ+1}=w_{i0}^{(τ)}+η(t_i-y_i)x\n",
        "$"
      ],
      "metadata": {
        "id": "0VxK6cXbAZ1K"
      }
    },
    {
      "cell_type": "code",
      "source": [
        "# 입출력 차원\n",
        "input_dim = 2\n",
        "output_dim = 1"
      ],
      "metadata": {
        "id": "v1V1EUW9AOWK"
      },
      "execution_count": 7,
      "outputs": []
    },
    {
      "cell_type": "markdown",
      "source": [
        "### 임의로 부여한 값으로 결정 경계 표시"
      ],
      "metadata": {
        "id": "e2oNzGRMD4In"
      }
    },
    {
      "cell_type": "code",
      "source": [
        "# 파라미터 초기화\n",
        "weight=np.random.rand(input_dim,1)*0.4-0.2\n",
        "weight0=np.random.rand(1)*0.4-0.2\n",
        "weight, weight0\n",
        "# np.info(weight)"
      ],
      "metadata": {
        "colab": {
          "base_uri": "https://localhost:8080/"
        },
        "id": "1Vz-8_PqCmLo",
        "outputId": "d371d5a9-cd7b-4ac3-c7fd-df77490b551a"
      },
      "execution_count": 8,
      "outputs": [
        {
          "output_type": "execute_result",
          "data": {
            "text/plain": [
              "(array([[ 0.16652338],\n",
              "        [-0.0449156 ]]), array([-0.08202818]))"
            ]
          },
          "metadata": {},
          "execution_count": 8
        }
      ]
    },
    {
      "cell_type": "code",
      "source": [
        "# merge data\n",
        "train_data = np.vstack([class_A,class_B])\n",
        "\n",
        "# 선형 그리기 위한 데이터 생성\n",
        "train_dataX_min, train_dataX_max = np.min(train_data[:,0],0), np.max(train_data[:,0],0)\n",
        "import math\n",
        "math.floor(train_dataX_min), math.ceil(train_dataX_max), "
      ],
      "metadata": {
        "colab": {
          "base_uri": "https://localhost:8080/"
        },
        "id": "jqiGU0u5EJOi",
        "outputId": "226203e3-75b3-41fa-f33a-b90e8baaa288"
      },
      "execution_count": 9,
      "outputs": [
        {
          "output_type": "execute_result",
          "data": {
            "text/plain": [
              "(-2, 6)"
            ]
          },
          "metadata": {},
          "execution_count": 9
        }
      ]
    },
    {
      "cell_type": "code",
      "source": [
        "x_values = np.arange(math.floor(train_dataX_min), math.ceil(train_dataX_max))\n",
        "x_values, np.info(x_values)"
      ],
      "metadata": {
        "colab": {
          "base_uri": "https://localhost:8080/"
        },
        "id": "JSlu1L3tMHVv",
        "outputId": "f0ba11a9-7fe6-497b-cde8-8ee515d065db"
      },
      "execution_count": 10,
      "outputs": [
        {
          "output_type": "stream",
          "name": "stdout",
          "text": [
            "class:  ndarray\n",
            "shape:  (8,)\n",
            "strides:  (8,)\n",
            "itemsize:  8\n",
            "aligned:  True\n",
            "contiguous:  True\n",
            "fortran:  True\n",
            "data pointer: 0x56067cc1d4c0\n",
            "byteorder:  little\n",
            "byteswap:  False\n",
            "type: int64\n"
          ]
        },
        {
          "output_type": "execute_result",
          "data": {
            "text/plain": [
              "(array([-2, -1,  0,  1,  2,  3,  4,  5]), None)"
            ]
          },
          "metadata": {},
          "execution_count": 10
        }
      ]
    },
    {
      "cell_type": "code",
      "source": [
        "x_values, weight, ((weight[0,0]*x_values-weight0)/weight[1,0])"
      ],
      "metadata": {
        "colab": {
          "base_uri": "https://localhost:8080/"
        },
        "id": "DS_qkx46OfPV",
        "outputId": "45e8420b-2918-4869-9e5b-feaf4a3aee03"
      },
      "execution_count": 11,
      "outputs": [
        {
          "output_type": "execute_result",
          "data": {
            "text/plain": [
              "(array([-2, -1,  0,  1,  2,  3,  4,  5]), array([[ 0.16652338],\n",
              "        [-0.0449156 ]]), array([  5.58867217,   1.88119925,  -1.82627366,  -5.53374657,\n",
              "         -9.24121949, -12.9486924 , -16.65616532, -20.36363823]))"
            ]
          },
          "metadata": {},
          "execution_count": 11
        }
      ]
    },
    {
      "cell_type": "code",
      "source": [
        "plt.plot(class_A[:,0],class_A[:,1],marker='+',linestyle='None') # 데이터 A\n",
        "plt.plot(class_B[:,0],class_B[:,1],'v')  # 데이터 B\n",
        "# x_values가 커서 [1:3] 제한 출력\n",
        "plt.plot(x_values[1:3], ((weight[0,0]*x_values-weight0)/weight[1,0])[1:3]) \n",
        "plt.show()"
      ],
      "metadata": {
        "colab": {
          "base_uri": "https://localhost:8080/",
          "height": 265
        },
        "id": "2YiO59L9MYGJ",
        "outputId": "2b9cc700-1e1d-4c29-ad73-e02526e43e1e"
      },
      "execution_count": 12,
      "outputs": [
        {
          "output_type": "display_data",
          "data": {
            "text/plain": [
              "<Figure size 432x288 with 1 Axes>"
            ],
            "image/png": "[encoded data removed]"
          },
          "metadata": {
            "needs_background": "light"
          }
        }
      ]
    },
    {
      "cell_type": "markdown",
      "source": [
        "### 학습 통한 결정 경계 "
      ],
      "metadata": {
        "id": "LU0jStnMTpTr"
      }
    },
    {
      "cell_type": "code",
      "source": [
        "# class별 label 생성. class_A - 0, class_B - 1\n",
        "class_A_label = np.full((row_count,1), fill_value=0)\n",
        "class_B_label = np.full((row_count,1), fill_value=1)\n",
        "class_A_label.shape, class_B_label.shape\n",
        "train_label = np.vstack([class_A_label, class_B_label])\n",
        "train_label[row_count-3:row_count+3], np.info(train_label)"
      ],
      "metadata": {
        "colab": {
          "base_uri": "https://localhost:8080/"
        },
        "id": "ZOxAUl2HCnWT",
        "outputId": "bd73aa3a-3e04-4d90-dc33-b8f61aa40fb9"
      },
      "execution_count": 13,
      "outputs": [
        {
          "output_type": "stream",
          "name": "stdout",
          "text": [
            "class:  ndarray\n",
            "shape:  (20, 1)\n",
            "strides:  (8, 8)\n",
            "itemsize:  8\n",
            "aligned:  True\n",
            "contiguous:  True\n",
            "fortran:  True\n",
            "data pointer: 0x56067cb5ab40\n",
            "byteorder:  little\n",
            "byteswap:  False\n",
            "type: int64\n"
          ]
        },
        {
          "output_type": "execute_result",
          "data": {
            "text/plain": [
              "(array([[0],\n",
              "        [0],\n",
              "        [0],\n",
              "        [1],\n",
              "        [1],\n",
              "        [1]]), None)"
            ]
          },
          "metadata": {},
          "execution_count": 13
        }
      ]
    },
    {
      "cell_type": "code",
      "source": [
        "# 학습 횟수\n",
        "steps = 5\n",
        "eta = 0.5\n",
        "plt.plot(class_A[:,0],class_A[:,1],marker='+',linestyle='None') # 데이터 A\n",
        "plt.plot(class_B[:,0],class_B[:,1],'v')  # 데이터 B\n",
        "\n",
        "for j in range(1, steps):\n",
        "  # errors = np.empty([0,1])\n",
        "  for i in range(row_count*2):\n",
        "    x_value, y_label = train_data[i,:], train_label[i,0]\n",
        "    # 퍼셉트론 계산\n",
        "    result = x_value @ weight + weight0\n",
        "    if (result > 0) :\n",
        "      y_hat=1\n",
        "    else :\n",
        "      y_hat=0\n",
        "    error = y_label - y_hat\n",
        "    # errors = np.append(errors,error)\n",
        "    delta_weight = np.reshape(eta * error * x_value.T, (2,1))\n",
        "    delta_weight0 = eta * error * 1\n",
        "    weight = weight + delta_weight\n",
        "    weight0 = weight0 + delta_weight0\n",
        "  # x_values가 커서 제한 출력\n",
        "  plt.plot(x_values, ((weight[0,0]*x_values-weight0)/weight[1,0]), label='step:{}'.format(j))\n",
        "plt.legend()\n",
        "plt.show()\n"
      ],
      "metadata": {
        "colab": {
          "base_uri": "https://localhost:8080/",
          "height": 265
        },
        "id": "IXyvK9QjX2tl",
        "outputId": "4cb9a42f-5294-4d65-8b4d-ae277623152f"
      },
      "execution_count": 14,
      "outputs": [
        {
          "output_type": "display_data",
          "data": {
            "text/plain": [
              "<Figure size 432x288 with 1 Axes>"
            ],
            "image/png": "[encoded data removed]"
          },
          "metadata": {
            "needs_background": "light"
          }
        }
      ]
    },
    {
      "cell_type": "code",
      "source": [
        ""
      ],
      "metadata": {
        "id": "_aS99OEle992"
      },
      "execution_count": 14,
      "outputs": []
    }
  ]
}