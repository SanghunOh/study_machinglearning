{
  "nbformat": 4,
  "nbformat_minor": 0,
  "metadata": {
    "colab": {
      "name": "과제_1_1_가우시안분포따른4개클래스.ipynb",
      "provenance": [],
      "authorship_tag": "ABX9TyOb4iefGnUblRqEZYVB3dzC"
    },
    "kernelspec": {
      "name": "python3",
      "display_name": "Python 3"
    },
    "language_info": {
      "name": "python"
    }
  },
  "cells": [
    {
      "cell_type": "markdown",
      "source": [
        "1. (50점) 4개의 클래스 집합 는 각각 다음과 같은 평균과 공분산을 가지는 가우시안분포를 따른다.\n"
      ],
      "metadata": {
        "id": "ACMBoSnM7m0F"
      }
    },
    {
      "cell_type": "code",
      "execution_count": 8,
      "metadata": {
        "id": "vCW2FCF3owED"
      },
      "outputs": [],
      "source": [
        "import numpy as np"
      ]
    },
    {
      "cell_type": "code",
      "source": [
        "# 정규 분포 따르는 100개 데이터 생성\n",
        "row_count = 100\n",
        "normal_rand = np.random.randn(row_count, 2)\n",
        "normal_rand.shape"
      ],
      "metadata": {
        "colab": {
          "base_uri": "https://localhost:8080/"
        },
        "id": "nThTgfso9Qep",
        "outputId": "d2d9291c-9c09-4097-db5a-e454efd043b2"
      },
      "execution_count": 9,
      "outputs": [
        {
          "output_type": "execute_result",
          "data": {
            "text/plain": [
              "(100, 2)"
            ]
          },
          "metadata": {},
          "execution_count": 9
        }
      ]
    },
    {
      "cell_type": "markdown",
      "source": [
        "# 정규 분포를 아래 평균 분포 따르게 조정\n",
        "$\n",
        "μ_1 = \\begin{pmatrix}\n",
        "0 \\\\\n",
        "0\n",
        "\\end{pmatrix}\n",
        "Σ_1 = \\begin{pmatrix}\n",
        "1 & 0 \\\\\n",
        "0 & 1\n",
        "\\end{pmatrix},\n",
        "μ_2 = \\begin{pmatrix}\n",
        "10 \\\\\n",
        "0\n",
        "\\end{pmatrix}\n",
        "Σ_2 = \\begin{pmatrix}\n",
        "5 & 0 \\\\\n",
        "0 & 5\n",
        "\\end{pmatrix},\n",
        "μ_3 = \\begin{pmatrix}\n",
        "0 \\\\\n",
        "10\n",
        "\\end{pmatrix}\n",
        "Σ_3 = \\begin{pmatrix}\n",
        "1 & 0 \\\\\n",
        "0 & 5\n",
        "\\end{pmatrix},\n",
        "μ_4 = \\begin{pmatrix}\n",
        "10 \\\\\n",
        "10\n",
        "\\end{pmatrix}\n",
        "Σ_4 = \\begin{pmatrix}\n",
        "1 & 1 \\\\\n",
        "1 & 2\n",
        "\\end{pmatrix}\n",
        "$"
      ],
      "metadata": {
        "id": "A30x6pR29tH_"
      }
    },
    {
      "cell_type": "code",
      "source": [
        "mu_1 = np.array([0,0])\n",
        "sigma_1 = np.array([[1,0],[0,1]])\n",
        "class_1 = normal_rand @ np.sqrt(sigma_1) + mu_1 # 공분산 적용 분포 구하기\n",
        "class_1.shape"
      ],
      "metadata": {
        "colab": {
          "base_uri": "https://localhost:8080/"
        },
        "id": "zKGDu_EC8ToV",
        "outputId": "4274248f-0f93-4fac-c3c3-36b94c75e41f"
      },
      "execution_count": 10,
      "outputs": [
        {
          "output_type": "execute_result",
          "data": {
            "text/plain": [
              "(100, 2)"
            ]
          },
          "metadata": {},
          "execution_count": 10
        }
      ]
    },
    {
      "cell_type": "code",
      "source": [
        "mu_2 = np.array([10,0])\n",
        "sigma_2 = np.array([[5,0],[0,5]])\n",
        "class_2 = normal_rand @ np.sqrt(sigma_2) + mu_2 # 공분산 적용 분포 구하기\n",
        "class_2.shape"
      ],
      "metadata": {
        "colab": {
          "base_uri": "https://localhost:8080/"
        },
        "id": "kTbHttAK_Lx7",
        "outputId": "eeec5688-f8fd-4858-f2f3-47db23ebfeaa"
      },
      "execution_count": 11,
      "outputs": [
        {
          "output_type": "execute_result",
          "data": {
            "text/plain": [
              "(100, 2)"
            ]
          },
          "metadata": {},
          "execution_count": 11
        }
      ]
    },
    {
      "cell_type": "code",
      "source": [
        "mu_3 = np.array([0,10])\n",
        "sigma_3 = np.array([[1,0],[0,5]])\n",
        "class_3 = normal_rand @ np.sqrt(sigma_3) + mu_3 # 공분산 적용 분포 구하기\n",
        "class_3.shape"
      ],
      "metadata": {
        "colab": {
          "base_uri": "https://localhost:8080/"
        },
        "id": "86XTmTbr_Mme",
        "outputId": "53160566-c8cb-413c-9c00-ac20f216bfab"
      },
      "execution_count": 12,
      "outputs": [
        {
          "output_type": "execute_result",
          "data": {
            "text/plain": [
              "(100, 2)"
            ]
          },
          "metadata": {},
          "execution_count": 12
        }
      ]
    },
    {
      "cell_type": "code",
      "source": [
        "# 정규 분포 따르는 50개 데이터 생성\n",
        "row_count = 50\n",
        "normal_rand = np.random.randn(row_count, 2)\n",
        "normal_rand.shape"
      ],
      "metadata": {
        "colab": {
          "base_uri": "https://localhost:8080/"
        },
        "id": "h_BS0FWi7sVJ",
        "outputId": "3c6ff71f-5383-424a-f717-c3c9b99f0564"
      },
      "execution_count": 13,
      "outputs": [
        {
          "output_type": "execute_result",
          "data": {
            "text/plain": [
              "(50, 2)"
            ]
          },
          "metadata": {},
          "execution_count": 13
        }
      ]
    },
    {
      "cell_type": "code",
      "source": [
        "mu_4 = np.array([10,10])\n",
        "sigma_4 = np.array([[1,1],[1,2]])\n",
        "class_4 = normal_rand @ np.sqrt(sigma_4) + mu_4 # 공분산 적용 분포 구하기\n",
        "class_4.shape"
      ],
      "metadata": {
        "colab": {
          "base_uri": "https://localhost:8080/"
        },
        "id": "5_PyuVW7_Zmj",
        "outputId": "5a6ba040-eb10-4b11-90b0-5fea2e21c1d7"
      },
      "execution_count": 14,
      "outputs": [
        {
          "output_type": "execute_result",
          "data": {
            "text/plain": [
              "(50, 2)"
            ]
          },
          "metadata": {},
          "execution_count": 14
        }
      ]
    },
    {
      "cell_type": "markdown",
      "source": [
        "#Plot 그리기"
      ],
      "metadata": {
        "id": "xtFzlMX7AI6v"
      }
    },
    {
      "cell_type": "code",
      "source": [
        "import matplotlib.pyplot as plt"
      ],
      "metadata": {
        "id": "xkxZEe3aALIm"
      },
      "execution_count": 16,
      "outputs": []
    },
    {
      "cell_type": "code",
      "source": [
        "plt.plot(class_1[:,0], class_1[:,1], marker='o', markersize=4, linestyle='None', label='$C_1$')\n",
        "plt.plot(class_2[:,0], class_2[:,1], marker='+', linestyle='None', label='$C_2$')\n",
        "plt.plot(class_3[:,0], class_3[:,1], marker='v', linestyle='None', label='$C_3$')\n",
        "plt.plot(class_4[:,0], class_4[:,1], marker='*', linestyle='None', label='$C_4$')\n",
        "plt.legend(ncol=1)\n",
        "plt.show()"
      ],
      "metadata": {
        "colab": {
          "base_uri": "https://localhost:8080/",
          "height": 265
        },
        "id": "3mD2atTUAOu2",
        "outputId": "9d0597a0-ef34-44f5-8976-5b90ae52e359"
      },
      "execution_count": 31,
      "outputs": [
        {
          "output_type": "display_data",
          "data": {
            "text/plain": [
              "<Figure size 432x288 with 1 Axes>"
            ],
            "image/png": "[encoded data removed]"
          },
          "metadata": {
            "needs_background": "light"
          }
        }
      ]
    },
    {
      "cell_type": "code",
      "source": [
        ""
      ],
      "metadata": {
        "id": "NTRITqiqAhlZ"
      },
      "execution_count": null,
      "outputs": []
    }
  ]
}