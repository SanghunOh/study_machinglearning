{
  "nbformat": 4,
  "nbformat_minor": 0,
  "metadata": {
    "colab": {
      "name": "과제_1_2_표본평균과공분산계산.ipynb",
      "provenance": [],
      "collapsed_sections": [],
      "authorship_tag": "ABX9TyMoFbhhqKajUwzWnYfljyKR"
    },
    "kernelspec": {
      "name": "python3",
      "display_name": "Python 3"
    },
    "language_info": {
      "name": "python"
    }
  },
  "cells": [
    {
      "cell_type": "markdown",
      "source": [
        "2. (20점) 각 클래스의 데이터 분포가 가우시안 함수를 따른다는 가정 하에, 1번 문제에서 생성한 데이터 집합을 이용하여 각 클래스의 확률밀도함수 의 파라미터 와 를 추정하시오. 즉, 문제 1의 각 클래스에 대해 샘플 데이터의 (표본)평균과 (표본)공분산을 계산하여 정리하고 데이터 생성시의 평균/분산과 비교하여 관찰하시오.\n"
      ],
      "metadata": {
        "id": "ACMBoSnM7m0F"
      }
    },
    {
      "cell_type": "code",
      "execution_count": 1,
      "metadata": {
        "id": "vCW2FCF3owED"
      },
      "outputs": [],
      "source": [
        "import numpy as np"
      ]
    },
    {
      "cell_type": "markdown",
      "source": [
        "# 정규 분포를 아래 평균 분포 따르게 조정\n",
        "$\n",
        "μ_1 = \\begin{pmatrix}\n",
        "0 \\\\\n",
        "0\n",
        "\\end{pmatrix}\n",
        "Σ_1 = \\begin{pmatrix}\n",
        "1 & 0 \\\\\n",
        "0 & 1\n",
        "\\end{pmatrix},\n",
        "μ_2 = \\begin{pmatrix}\n",
        "10 \\\\\n",
        "0\n",
        "\\end{pmatrix}\n",
        "Σ_2 = \\begin{pmatrix}\n",
        "5 & 0 \\\\\n",
        "0 & 5\n",
        "\\end{pmatrix}, \\\\\n",
        "μ_3 = \\begin{pmatrix}\n",
        "0 \\\\\n",
        "10\n",
        "\\end{pmatrix}\n",
        "Σ_3 = \\begin{pmatrix}\n",
        "1 & 0 \\\\\n",
        "0 & 5\n",
        "\\end{pmatrix},\n",
        "μ_4 = \\begin{pmatrix}\n",
        "10 \\\\\n",
        "10\n",
        "\\end{pmatrix}\n",
        "Σ_4 = \\begin{pmatrix}\n",
        "1 & 1 \\\\\n",
        "1 & 2\n",
        "\\end{pmatrix}\n",
        "$"
      ],
      "metadata": {
        "id": "A30x6pR29tH_"
      }
    },
    {
      "cell_type": "code",
      "source": [
        "# 정규 분포 따르는 100개 데이터 생성\n",
        "row_count = 100\n",
        "normal_rand = np.random.randn(row_count, 2)\n",
        "normal_rand.shape"
      ],
      "metadata": {
        "colab": {
          "base_uri": "https://localhost:8080/"
        },
        "id": "91lU_-dsGEdE",
        "outputId": "9dde9f5f-a0b3-47b6-a417-8c914a618913"
      },
      "execution_count": 2,
      "outputs": [
        {
          "output_type": "execute_result",
          "data": {
            "text/plain": [
              "(100, 2)"
            ]
          },
          "metadata": {},
          "execution_count": 2
        }
      ]
    },
    {
      "cell_type": "code",
      "source": [
        "mu_1 = np.array([0,0])\n",
        "sigma_1 = np.array([[1,0],[0,1]])\n",
        "class_1 = normal_rand @ np.sqrt(sigma_1) + mu_1 # 공분산 적용 분포 구하기\n",
        "class_1.shape"
      ],
      "metadata": {
        "colab": {
          "base_uri": "https://localhost:8080/"
        },
        "id": "zKGDu_EC8ToV",
        "outputId": "166baa13-d751-4e70-f82b-74bb99744147"
      },
      "execution_count": 3,
      "outputs": [
        {
          "output_type": "execute_result",
          "data": {
            "text/plain": [
              "(100, 2)"
            ]
          },
          "metadata": {},
          "execution_count": 3
        }
      ]
    },
    {
      "cell_type": "code",
      "source": [
        "mu_2 = np.array([10,0])\n",
        "sigma_2 = np.array([[5,0],[0,5]])\n",
        "class_2 = normal_rand @ np.sqrt(sigma_2) + mu_2 # 공분산 적용 분포 구하기\n",
        "class_2.shape"
      ],
      "metadata": {
        "colab": {
          "base_uri": "https://localhost:8080/"
        },
        "id": "kTbHttAK_Lx7",
        "outputId": "1766f3ea-bcaa-46d5-cec3-82717ff295df"
      },
      "execution_count": 4,
      "outputs": [
        {
          "output_type": "execute_result",
          "data": {
            "text/plain": [
              "(100, 2)"
            ]
          },
          "metadata": {},
          "execution_count": 4
        }
      ]
    },
    {
      "cell_type": "code",
      "source": [
        "mu_3 = np.array([0,10])\n",
        "sigma_3 = np.array([[1,0],[0,5]])\n",
        "class_3 = normal_rand @ np.sqrt(sigma_3) + mu_3 # 공분산 적용 분포 구하기\n",
        "class_3.shape"
      ],
      "metadata": {
        "colab": {
          "base_uri": "https://localhost:8080/"
        },
        "id": "86XTmTbr_Mme",
        "outputId": "4bfb043e-4213-4a8d-807a-65d135a7c2ca"
      },
      "execution_count": 5,
      "outputs": [
        {
          "output_type": "execute_result",
          "data": {
            "text/plain": [
              "(100, 2)"
            ]
          },
          "metadata": {},
          "execution_count": 5
        }
      ]
    },
    {
      "cell_type": "code",
      "source": [
        "# 정규 분포 따르는 50개 데이터 생성\n",
        "row_count = 50\n",
        "normal_rand = np.random.randn(row_count, 2)\n",
        "normal_rand.shape"
      ],
      "metadata": {
        "colab": {
          "base_uri": "https://localhost:8080/"
        },
        "id": "h_BS0FWi7sVJ",
        "outputId": "c60fed0a-fd74-45b4-f805-92e17164d6b6"
      },
      "execution_count": 6,
      "outputs": [
        {
          "output_type": "execute_result",
          "data": {
            "text/plain": [
              "(50, 2)"
            ]
          },
          "metadata": {},
          "execution_count": 6
        }
      ]
    },
    {
      "cell_type": "code",
      "source": [
        "mu_4 = np.array([10,10])\n",
        "sigma_4 = np.array([[1,1],[1,2]])\n",
        "class_4 = normal_rand @ np.sqrt(sigma_4) + mu_4 # 공분산 적용 분포 구하기\n",
        "class_4.shape"
      ],
      "metadata": {
        "colab": {
          "base_uri": "https://localhost:8080/"
        },
        "id": "5_PyuVW7_Zmj",
        "outputId": "974a8efb-28ee-4938-e4e0-a16cad515e31"
      },
      "execution_count": 7,
      "outputs": [
        {
          "output_type": "execute_result",
          "data": {
            "text/plain": [
              "(50, 2)"
            ]
          },
          "metadata": {},
          "execution_count": 7
        }
      ]
    },
    {
      "cell_type": "code",
      "source": [
        "# 정규 분포 따르는 100개 데이터 생성\n",
        "row_count = 100\n",
        "normal_rand = np.random.randn(row_count, 2)\n",
        "normal_rand.shape"
      ],
      "metadata": {
        "colab": {
          "base_uri": "https://localhost:8080/"
        },
        "id": "nThTgfso9Qep",
        "outputId": "49092566-49b6-47d2-a87d-8c8fe2c52395"
      },
      "execution_count": 8,
      "outputs": [
        {
          "output_type": "execute_result",
          "data": {
            "text/plain": [
              "(100, 2)"
            ]
          },
          "metadata": {},
          "execution_count": 8
        }
      ]
    },
    {
      "cell_type": "markdown",
      "source": [
        "#각 데이터 평균과 공분산 확인"
      ],
      "metadata": {
        "id": "xtFzlMX7AI6v"
      }
    },
    {
      "cell_type": "code",
      "source": [
        "# class_1\n",
        "class_1_mu = np.mean(class_1,axis=0)\n",
        "class_1_sigma = np.cov(class_1.T)\n",
        "print('설정 평균 : {}, 공분산 : {}'.format(mu_1, sigma_1))\n",
        "print('확인 평균 : {}, 공분산 : {}'.format(class_1_mu, class_1_sigma))"
      ],
      "metadata": {
        "colab": {
          "base_uri": "https://localhost:8080/"
        },
        "id": "NTRITqiqAhlZ",
        "outputId": "14335bde-2226-471f-f095-6d56801bcc67"
      },
      "execution_count": 9,
      "outputs": [
        {
          "output_type": "stream",
          "name": "stdout",
          "text": [
            "설정 평균 : [0 0], 공분산 : [[1 0]\n",
            " [0 1]]\n",
            "확인 평균 : [0.0394757  0.05340601], 공분산 : [[ 1.10237059 -0.16605181]\n",
            " [-0.16605181  0.86372818]]\n"
          ]
        }
      ]
    },
    {
      "cell_type": "code",
      "source": [
        "# class_2\n",
        "class_2_mu = np.mean(class_2,axis=0)\n",
        "class_2_sigma = np.cov(class_2.T)\n",
        "print('설정 평균 : {}, 공분산 : {}'.format(mu_2, sigma_2))\n",
        "print('확인 평균 : {}, 공분산 : {}'.format(class_2_mu, class_2_sigma))"
      ],
      "metadata": {
        "colab": {
          "base_uri": "https://localhost:8080/"
        },
        "id": "x-Cpw5nwE0IW",
        "outputId": "35906015-8345-40f0-bbd1-9d2c85b3bef0"
      },
      "execution_count": 10,
      "outputs": [
        {
          "output_type": "stream",
          "name": "stdout",
          "text": [
            "설정 평균 : [10  0], 공분산 : [[5 0]\n",
            " [0 5]]\n",
            "확인 평균 : [10.08827034  0.11941946], 공분산 : [[ 5.51185296 -0.83025905]\n",
            " [-0.83025905  4.31864091]]\n"
          ]
        }
      ]
    },
    {
      "cell_type": "code",
      "source": [
        "# class_3\n",
        "class_3_mu = np.mean(class_3,axis=0)\n",
        "class_3_sigma = np.cov(class_3.T)\n",
        "print('설정 평균 : {}, 공분산 : {}'.format(mu_3, sigma_3))\n",
        "print('확인 평균 : {}, 공분산 : {}'.format(class_3_mu, class_3_sigma))"
      ],
      "metadata": {
        "colab": {
          "base_uri": "https://localhost:8080/"
        },
        "id": "FTh7-4fPFbVk",
        "outputId": "6ba3bbe1-5dbf-4141-eec8-ba4c93840948"
      },
      "execution_count": 11,
      "outputs": [
        {
          "output_type": "stream",
          "name": "stdout",
          "text": [
            "설정 평균 : [ 0 10], 공분산 : [[1 0]\n",
            " [0 5]]\n",
            "확인 평균 : [ 0.0394757  10.11941946], 공분산 : [[ 1.10237059 -0.37130313]\n",
            " [-0.37130313  4.31864091]]\n"
          ]
        }
      ]
    },
    {
      "cell_type": "code",
      "source": [
        "# class_4\n",
        "class_4_mu = np.mean(class_4,axis=0)\n",
        "class_4_sigma = np.cov(class_4.T)\n",
        "print('설정 평균 : {}, 공분산 : {}'.format(mu_4, sigma_4))\n",
        "print('확인 평균 : {}, 공분산 : {}'.format(class_4_mu, class_4_sigma))"
      ],
      "metadata": {
        "colab": {
          "base_uri": "https://localhost:8080/"
        },
        "id": "3SMmZGFoFknj",
        "outputId": "ab7afe99-0998-4814-ee46-65b3f06c0afe"
      },
      "execution_count": 12,
      "outputs": [
        {
          "output_type": "stream",
          "name": "stdout",
          "text": [
            "설정 평균 : [10 10], 공분산 : [[1 1]\n",
            " [1 2]]\n",
            "확인 평균 : [9.84926929 9.73052646], 공분산 : [[1.80724806 2.25693002]\n",
            " [2.25693002 2.89854344]]\n"
          ]
        }
      ]
    }
  ]
}