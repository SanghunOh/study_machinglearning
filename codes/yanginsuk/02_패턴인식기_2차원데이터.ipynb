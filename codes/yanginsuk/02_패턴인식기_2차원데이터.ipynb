{
  "nbformat": 4,
  "nbformat_minor": 0,
  "metadata": {
    "colab": {
      "name": "02_패턴인식기_2차원데이터.ipynb",
      "provenance": [],
      "authorship_tag": "ABX9TyMXqOrrylnfRPWahqiX80be",
      "include_colab_link": true
    },
    "kernelspec": {
      "name": "python3",
      "display_name": "Python 3"
    },
    "language_info": {
      "name": "python"
    }
  },
  "cells": [
    {
      "cell_type": "markdown",
      "metadata": {
        "id": "view-in-github",
        "colab_type": "text"
      },
      "source": [
        "<a href=\"https://colab.research.google.com/github/SanghunOh/study_machinglearning/blob/main/codes/yanginsuk/02_%ED%8C%A8%ED%84%B4%EC%9D%B8%EC%8B%9D%EA%B8%B0_2%EC%B0%A8%EC%9B%90%EB%8D%B0%EC%9D%B4%ED%84%B0.ipynb\" target=\"_parent\"><img src=\"https://colab.research.google.com/assets/colab-badge.svg\" alt=\"Open In Colab\"/></a>"
      ]
    },
    {
      "cell_type": "code",
      "execution_count": 1,
      "metadata": {
        "id": "SZtD5oO6HBKA"
      },
      "outputs": [],
      "source": [
        "import numpy as np"
      ]
    },
    {
      "cell_type": "code",
      "source": [
        "np.random.seed(50)  # 동일한 수열 발생 위해 설정\n",
        "row_count = 50\n",
        "# row_count = 1000"
      ],
      "metadata": {
        "id": "O-w-87c0HHIw"
      },
      "execution_count": 2,
      "outputs": []
    },
    {
      "cell_type": "code",
      "source": [
        "mean_1 = np.array([3,5])\n",
        "mean_1, mean_1.shape, type(mean_1)"
      ],
      "metadata": {
        "colab": {
          "base_uri": "https://localhost:8080/"
        },
        "id": "zBVKfW7BHLpQ",
        "outputId": "f89817ec-9416-45d9-a940-5ec8c388b485"
      },
      "execution_count": 3,
      "outputs": [
        {
          "output_type": "execute_result",
          "data": {
            "text/plain": [
              "(array([3, 5]), (2,), numpy.ndarray)"
            ]
          },
          "metadata": {},
          "execution_count": 3
        }
      ]
    },
    {
      "cell_type": "code",
      "source": [
        "# sigma_1 = np.array([[1,1],[1,2]])\n",
        "sigma_1 = np.array([[3,1],[1,4]])   # 식별 위해 값 분포 임의 폭 증가\n",
        "sigma_1, sigma_1.shape, type(sigma_1)"
      ],
      "metadata": {
        "colab": {
          "base_uri": "https://localhost:8080/"
        },
        "id": "-YeslBj3HOMw",
        "outputId": "eaa1982f-13c6-413b-8f1b-3e65d725be3a"
      },
      "execution_count": 4,
      "outputs": [
        {
          "output_type": "execute_result",
          "data": {
            "text/plain": [
              "(array([[3, 1],\n",
              "        [1, 4]]), (2, 2), numpy.ndarray)"
            ]
          },
          "metadata": {},
          "execution_count": 4
        }
      ]
    },
    {
      "cell_type": "code",
      "source": [
        "rand_std_1 = np.random.randn(row_count, 2)\n",
        "# rand_std_1, \n",
        "rand_std_1.shape, type(rand_std_1)"
      ],
      "metadata": {
        "colab": {
          "base_uri": "https://localhost:8080/"
        },
        "id": "i-oq-GEDHRLJ",
        "outputId": "97e079c5-2e74-43a0-dd40-b654e16eb9ad"
      },
      "execution_count": 5,
      "outputs": [
        {
          "output_type": "execute_result",
          "data": {
            "text/plain": [
              "((50, 2), numpy.ndarray)"
            ]
          },
          "metadata": {},
          "execution_count": 5
        }
      ]
    },
    {
      "cell_type": "code",
      "source": [
        "class_A = rand_std_1 @ np.sqrt(sigma_1) + mean_1 # 공분산 적용 분포 구하기"
      ],
      "metadata": {
        "id": "BX2JBdteHVif"
      },
      "execution_count": 6,
      "outputs": []
    },
    {
      "cell_type": "code",
      "source": [
        "mean_2 = np.array([5,3])\n",
        "# sigma_2 = np.array([[1,1],[1,2]])\n",
        "sigma_2 = np.array([[3,1],[1,4]])   # 식별 위해 값 분포 임의 폭 증가\n",
        "rand_std_2 = np.random.randn(row_count, 2)\n",
        "class_B = rand_std_2 @ np.sqrt(sigma_2) + mean_2\n",
        "class_B.shape"
      ],
      "metadata": {
        "colab": {
          "base_uri": "https://localhost:8080/"
        },
        "id": "_cnRyslDHYgI",
        "outputId": "ce7551ae-ab9a-486a-c6c5-cdac83720f27"
      },
      "execution_count": 7,
      "outputs": [
        {
          "output_type": "execute_result",
          "data": {
            "text/plain": [
              "(50, 2)"
            ]
          },
          "metadata": {},
          "execution_count": 7
        }
      ]
    },
    {
      "cell_type": "code",
      "source": [
        "import matplotlib.pyplot as plt\n",
        "from matplotlib.markers import MarkerStyle\n",
        "plt.plot(class_A[:,0],class_A[:,1],marker='+',linestyle='None') # 데이터 A\n",
        "plt.plot(mean_1[0],mean_1[1],'o',ls='None', color='red', markersize=12) # 데이터 A 평균\n",
        "plt.plot(class_B[:,0],class_B[:,1],'v')  # 데이터 B\n",
        "plt.plot(mean_2[0],mean_2[1],'o',color='blue', ms=12)  # 데이터 B 평균\n",
        "# plt.plot(range(11)) # 예상할 수 있는 선형 경계"
      ],
      "metadata": {
        "colab": {
          "base_uri": "https://localhost:8080/",
          "height": 283
        },
        "id": "kcGBDTTxHdrJ",
        "outputId": "cd5f47ee-3372-40b9-a699-7fb1e080f71f"
      },
      "execution_count": 9,
      "outputs": [
        {
          "output_type": "execute_result",
          "data": {
            "text/plain": [
              "[<matplotlib.lines.Line2D at 0x7f3efea66610>]"
            ]
          },
          "metadata": {},
          "execution_count": 9
        },
        {
          "output_type": "display_data",
          "data": {
            "text/plain": [
              "<Figure size 432x288 with 1 Axes>"
            ],
            "image/png": "[encoded data removed]"
          },
          "metadata": {
            "needs_background": "light"
          }
        }
      ]
    },
    {
      "cell_type": "code",
      "source": [
        "class_A_mean = np.mean(class_A,axis=0)\n",
        "class_A_cov = np.cov(class_A.T)\n",
        "class_A_mean, class_A_cov"
      ],
      "metadata": {
        "colab": {
          "base_uri": "https://localhost:8080/"
        },
        "id": "4riWKPTRHmsx",
        "outputId": "5f4ad2cb-4c79-4b04-f1c7-87aa5722f252"
      },
      "execution_count": 10,
      "outputs": [
        {
          "output_type": "execute_result",
          "data": {
            "text/plain": [
              "(array([3.20902787, 4.98402174]), array([[3.96764102, 3.83332394],\n",
              "        [3.83332394, 5.72462042]]))"
            ]
          },
          "metadata": {},
          "execution_count": 10
        }
      ]
    },
    {
      "cell_type": "code",
      "source": [
        "class_B_mean = np.mean(class_B,axis=0)\n",
        "class_B_cov = np.cov(class_B.T)\n",
        "class_A_mean, class_A_cov"
      ],
      "metadata": {
        "colab": {
          "base_uri": "https://localhost:8080/"
        },
        "id": "8pdQtsOuHpvv",
        "outputId": "e2acb4c3-8315-459e-da66-88d6d27d70fb"
      },
      "execution_count": 11,
      "outputs": [
        {
          "output_type": "execute_result",
          "data": {
            "text/plain": [
              "(array([3.20902787, 4.98402174]), array([[3.96764102, 3.83332394],\n",
              "        [3.83332394, 5.72462042]]))"
            ]
          },
          "metadata": {},
          "execution_count": 11
        }
      ]
    },
    {
      "cell_type": "code",
      "source": [
        "# 예측할려고 하는 새로운 값\n",
        "new_data_02 = np.array([3,1])\n",
        "new_data_02, type(new_data_02), new_data_02.shape, new_data_02[0],new_data_02[1],"
      ],
      "metadata": {
        "colab": {
          "base_uri": "https://localhost:8080/"
        },
        "id": "1if3ZUWbHrKy",
        "outputId": "3b287671-1961-4114-ce34-c049c3ad8e2d"
      },
      "execution_count": 12,
      "outputs": [
        {
          "output_type": "execute_result",
          "data": {
            "text/plain": [
              "(array([3, 1]), numpy.ndarray, (2,), 3, 1)"
            ]
          },
          "metadata": {},
          "execution_count": 12
        }
      ]
    },
    {
      "cell_type": "code",
      "source": [
        "# 예측할려고 하는 새로운 값\n",
        "new_data_01 = np.array([8,9])\n",
        "new_data_01, type(new_data_01), new_data_01.shape, new_data_01[0],new_data_01[1]"
      ],
      "metadata": {
        "colab": {
          "base_uri": "https://localhost:8080/"
        },
        "id": "aWpnGUJXHvAw",
        "outputId": "61dae5b2-c225-4ee1-bed5-1e95762aa806"
      },
      "execution_count": 13,
      "outputs": [
        {
          "output_type": "execute_result",
          "data": {
            "text/plain": [
              "(array([8, 9]), numpy.ndarray, (2,), 8, 9)"
            ]
          },
          "metadata": {},
          "execution_count": 13
        }
      ]
    },
    {
      "cell_type": "code",
      "source": [
        "plt.plot(range(11))\n",
        "plt.plot(class_A_mean[0],class_A_mean[1],'o',color='red', ms=12)  # 데이터 A 평균\n",
        "plt.plot(class_B_mean[0],class_B_mean[1],'o',color='blue', ms=12)  # 데이터 B 평균\n",
        "plt.plot(new_data_01[0],new_data_01[1],'p',color='black', ms=12)  # 데이터 A 평균\n",
        "plt.plot(new_data_02[0],new_data_02[1],'v',color='green', ms=12)  # 데이터 B 평균\n",
        "plt.show()"
      ],
      "metadata": {
        "colab": {
          "base_uri": "https://localhost:8080/",
          "height": 265
        },
        "id": "nJv0qWA7HxuJ",
        "outputId": "df0d5313-fd19-40a1-f982-086027efe531"
      },
      "execution_count": 14,
      "outputs": [
        {
          "output_type": "display_data",
          "data": {
            "text/plain": [
              "<Figure size 432x288 with 1 Axes>"
            ],
            "image/png": "[encoded data removed]"
          },
          "metadata": {
            "needs_background": "light"
          }
        }
      ]
    },
    {
      "cell_type": "code",
      "source": [
        "np.linalg.norm(new_data_01-class_B_mean) - np.linalg.norm(new_data_01-class_A_mean) # class A"
      ],
      "metadata": {
        "colab": {
          "base_uri": "https://localhost:8080/"
        },
        "id": "pFAphJ3pH1hp",
        "outputId": "69902f49-8f24-43af-9880-a086607f9bc2"
      },
      "execution_count": 15,
      "outputs": [
        {
          "output_type": "execute_result",
          "data": {
            "text/plain": [
              "1.2173067711404641"
            ]
          },
          "metadata": {},
          "execution_count": 15
        }
      ]
    },
    {
      "cell_type": "code",
      "source": [
        "np.linalg.norm(new_data_02-class_B_mean) - np.linalg.norm(new_data_02-class_A_mean) # class B"
      ],
      "metadata": {
        "colab": {
          "base_uri": "https://localhost:8080/"
        },
        "id": "q-Fj3t_wH3wZ",
        "outputId": "70acc68d-acf6-41dc-fc79-b77e356d9a06"
      },
      "execution_count": 16,
      "outputs": [
        {
          "output_type": "execute_result",
          "data": {
            "text/plain": [
              "-1.952180179204856"
            ]
          },
          "metadata": {},
          "execution_count": 16
        }
      ]
    },
    {
      "cell_type": "code",
      "source": [
        "first = np.sqrt(np.matmul((new_data_01 - class_B_mean).T, (new_data_01 - class_B_mean)))\n",
        "first, type(first), first.shape"
      ],
      "metadata": {
        "colab": {
          "base_uri": "https://localhost:8080/"
        },
        "id": "jd3-JswZH6LB",
        "outputId": "2082bc11-c3df-495e-847e-76c207e13c4f"
      },
      "execution_count": 17,
      "outputs": [
        {
          "output_type": "execute_result",
          "data": {
            "text/plain": [
              "(7.468826216538792, numpy.float64, ())"
            ]
          },
          "metadata": {},
          "execution_count": 17
        }
      ]
    },
    {
      "cell_type": "code",
      "source": [
        "second = np.sqrt(np.matmul((new_data_01 - class_A_mean).T, (new_data_01 - class_A_mean)))\n",
        "second, type(second), second.shape"
      ],
      "metadata": {
        "colab": {
          "base_uri": "https://localhost:8080/"
        },
        "id": "SoSVWWGAH-GI",
        "outputId": "e87c2848-11cf-4f3d-c2df-7177b37d9961"
      },
      "execution_count": 18,
      "outputs": [
        {
          "output_type": "execute_result",
          "data": {
            "text/plain": [
              "(6.251519445398328, numpy.float64, ())"
            ]
          },
          "metadata": {},
          "execution_count": 18
        }
      ]
    },
    {
      "cell_type": "code",
      "source": [
        "result = second - first   # class A\n",
        "result"
      ],
      "metadata": {
        "colab": {
          "base_uri": "https://localhost:8080/"
        },
        "id": "5q6XGA9AIBmS",
        "outputId": "03c35c0a-e6bb-4b2f-c83d-e6dfbb5aa27b"
      },
      "execution_count": 19,
      "outputs": [
        {
          "output_type": "execute_result",
          "data": {
            "text/plain": [
              "-1.2173067711404641"
            ]
          },
          "metadata": {},
          "execution_count": 19
        }
      ]
    },
    {
      "cell_type": "code",
      "source": [
        "first = np.sqrt(np.matmul((new_data_02 - class_B_mean).T, (new_data_02 - class_B_mean)))\n",
        "first, type(first), first.shape"
      ],
      "metadata": {
        "colab": {
          "base_uri": "https://localhost:8080/"
        },
        "id": "xrPrqKeeIESQ",
        "outputId": "1988e6dd-42c4-45ff-f2c3-44f0e247d9a2"
      },
      "execution_count": 20,
      "outputs": [
        {
          "output_type": "execute_result",
          "data": {
            "text/plain": [
              "(2.037321276064938, numpy.float64, ())"
            ]
          },
          "metadata": {},
          "execution_count": 20
        }
      ]
    },
    {
      "cell_type": "code",
      "source": [
        "second = np.sqrt(np.matmul((new_data_02 - class_A_mean).T, (new_data_02 - class_A_mean)))\n",
        "second, type(second), second.shape"
      ],
      "metadata": {
        "colab": {
          "base_uri": "https://localhost:8080/"
        },
        "id": "8A3URiDTIGS4",
        "outputId": "4d815e24-b482-43f2-b562-2c2492938af4"
      },
      "execution_count": 21,
      "outputs": [
        {
          "output_type": "execute_result",
          "data": {
            "text/plain": [
              "(3.989501455269794, numpy.float64, ())"
            ]
          },
          "metadata": {},
          "execution_count": 21
        }
      ]
    },
    {
      "cell_type": "code",
      "source": [
        "result = second - first   # class B\n",
        "result"
      ],
      "metadata": {
        "colab": {
          "base_uri": "https://localhost:8080/"
        },
        "id": "p91d-oqyIIl4",
        "outputId": "3363c79c-4248-4907-9bfb-02c3d38948ea"
      },
      "execution_count": 22,
      "outputs": [
        {
          "output_type": "execute_result",
          "data": {
            "text/plain": [
              "1.952180179204856"
            ]
          },
          "metadata": {},
          "execution_count": 22
        }
      ]
    },
    {
      "cell_type": "code",
      "source": [
        "class_A_error_count, class_B_error_count = 0, 0\n",
        "for idx in range(row_count):\n",
        "  distance_A = np.linalg.norm(class_A[idx] - class_A_mean) - np.linalg.norm(class_A[idx] - class_B_mean)\n",
        "  if distance_A > 0 :\n",
        "    class_A_error_count += 1\n",
        "  distance_B = np.linalg.norm(class_B[idx] - class_A_mean) - np.linalg.norm(class_B[idx] - class_B_mean)\n",
        "  if distance_B < 0 :\n",
        "    class_B_error_count += 1    \n",
        "\n",
        "(class_A_error_count + class_B_error_count) / row_count, class_A_error_count, class_B_error_count"
      ],
      "metadata": {
        "colab": {
          "base_uri": "https://localhost:8080/"
        },
        "id": "8VAK-Ag8ILDz",
        "outputId": "7f3e0a4b-c288-4fc8-94c2-3b16b154f8d5"
      },
      "execution_count": 23,
      "outputs": [
        {
          "output_type": "execute_result",
          "data": {
            "text/plain": [
              "(0.28, 9, 5)"
            ]
          },
          "metadata": {},
          "execution_count": 23
        }
      ]
    },
    {
      "cell_type": "code",
      "source": [
        "from google.colab import drive\n",
        "drive.mount('/content/drive/')"
      ],
      "metadata": {
        "colab": {
          "base_uri": "https://localhost:8080/"
        },
        "id": "hflSGT3EwzJr",
        "outputId": "1fa085d7-527f-455d-97aa-522158d36759"
      },
      "execution_count": 1,
      "outputs": [
        {
          "output_type": "stream",
          "name": "stdout",
          "text": [
            "Mounted at /content/drive/\n"
          ]
        }
      ]
    },
    {
      "cell_type": "code",
      "source": [
        "cd /content/drive/MyDrive/yanginsuk"
      ],
      "metadata": {
        "colab": {
          "base_uri": "https://localhost:8080/"
        },
        "id": "qVW0d6pXxE-0",
        "outputId": "2b6a197a-4152-4387-db6d-c0cccce7fdfc"
      },
      "execution_count": 5,
      "outputs": [
        {
          "output_type": "stream",
          "name": "stdout",
          "text": [
            "/content/drive/MyDrive/yanginsuk\n"
          ]
        }
      ]
    },
    {
      "cell_type": "code",
      "source": [
        "# read dataset file\n",
        "import scipy.io\n",
        "mat = scipy.io.loadmat('./dataCh4_7.mat')\n",
        "type(mat), mat.keys()"
      ],
      "metadata": {
        "colab": {
          "base_uri": "https://localhost:8080/"
        },
        "id": "7o2ABTl5yAxr",
        "outputId": "e431696d-4129-45f1-a4c2-7929adde4965"
      },
      "execution_count": 6,
      "outputs": [
        {
          "output_type": "execute_result",
          "data": {
            "text/plain": [
              "(dict,\n",
              " dict_keys(['__header__', '__version__', '__globals__', 'X1', 'X2', 'X3', 'X1_test', 'X2_test', 'X3_test']))"
            ]
          },
          "metadata": {},
          "execution_count": 6
        }
      ]
    },
    {
      "cell_type": "code",
      "source": [
        "import numpy as np\n",
        "class_kernel_count = 3\n",
        "class_A = mat['X1']\n",
        "class_B = mat['X2']\n",
        "class_C = mat['X3']\n",
        "class_All = np.vstack([class_A, class_B, class_C])\n",
        "class_A.shape, type(class_A), class_B.shape, class_C.shape, class_All.shape"
      ],
      "metadata": {
        "colab": {
          "base_uri": "https://localhost:8080/"
        },
        "id": "6krI7GWQyGxj",
        "outputId": "1617e337-70f1-492a-eeda-41a189dc3988"
      },
      "execution_count": 7,
      "outputs": [
        {
          "output_type": "execute_result",
          "data": {
            "text/plain": [
              "((100, 2), numpy.ndarray, (100, 2), (100, 2), (300, 2))"
            ]
          },
          "metadata": {},
          "execution_count": 7
        }
      ]
    },
    {
      "cell_type": "code",
      "source": [
        "import matplotlib.pyplot as plt\n",
        "plt.plot(class_A[:,0], class_A[:,1], marker='o', linestyle='None', label='class_A')\n",
        "plt.plot(class_B[:,0], class_B[:,1], marker='v', linestyle='None', label='class_B')\n",
        "plt.plot(class_C[:,0], class_C[:,1], marker='^', linestyle='None', label='class_C')\n",
        "plt.legend()\n",
        "plt.show()"
      ],
      "metadata": {
        "colab": {
          "base_uri": "https://localhost:8080/",
          "height": 265
        },
        "id": "DZcyxReuyMGb",
        "outputId": "796392d6-a0c5-47e8-d5f1-b5809d55eb01"
      },
      "execution_count": 8,
      "outputs": [
        {
          "output_type": "display_data",
          "data": {
            "text/plain": [
              "<Figure size 432x288 with 1 Axes>"
            ],
            "image/png": "[encoded data removed]"
          },
          "metadata": {
            "needs_background": "light"
          }
        }
      ]
    }
  ]
}