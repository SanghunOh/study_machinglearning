{
  "nbformat": 4,
  "nbformat_minor": 0,
  "metadata": {
    "colab": {
      "name": "과제_2_2_iris_KNN분류.ipynb",
      "provenance": [],
      "collapsed_sections": [],
      "authorship_tag": "ABX9TyO83dM3B0bKKZHKwdigZlLD",
      "include_colab_link": true
    },
    "kernelspec": {
      "name": "python3",
      "display_name": "Python 3"
    },
    "language_info": {
      "name": "python"
    }
  },
  "cells": [
    {
      "cell_type": "markdown",
      "metadata": {
        "id": "view-in-github",
        "colab_type": "text"
      },
      "source": [
        "<a href=\"https://colab.research.google.com/github/SanghunOh/study_machinglearning/blob/main/codes/yanginsuk/%EA%B3%BC%EC%A0%9C_2_2_iris_KNN%EB%B6%84%EB%A5%98.ipynb\" target=\"_parent\"><img src=\"https://colab.research.google.com/assets/colab-badge.svg\" alt=\"Open In Colab\"/></a>"
      ]
    },
    {
      "cell_type": "code",
      "execution_count": 2,
      "metadata": {
        "colab": {
          "base_uri": "https://localhost:8080/"
        },
        "id": "iRVGQDXU91Pz",
        "outputId": "b72ebbcd-22bc-433c-d64a-6c836eb3bc45"
      },
      "outputs": [
        {
          "output_type": "stream",
          "name": "stdout",
          "text": [
            "Mounted at /content/drive/\n"
          ]
        }
      ],
      "source": [
        "from google.colab import drive\n",
        "drive.mount('/content/drive/')"
      ]
    },
    {
      "cell_type": "code",
      "source": [
        "cd /content/drive/MyDrive/yanginsuk"
      ],
      "metadata": {
        "colab": {
          "base_uri": "https://localhost:8080/"
        },
        "id": "YXaPpYAC-Qgo",
        "outputId": "4f4640e3-1c4d-4f8c-cbe3-9d7ea57a7173"
      },
      "execution_count": 3,
      "outputs": [
        {
          "output_type": "stream",
          "name": "stdout",
          "text": [
            "/content/drive/MyDrive/yanginsuk\n"
          ]
        }
      ]
    },
    {
      "cell_type": "code",
      "source": [
        "import scipy.io\n",
        "mat = scipy.io.loadmat('./matlab_iris_shuffle.mat')\n",
        "type(mat), mat.keys()"
      ],
      "metadata": {
        "colab": {
          "base_uri": "https://localhost:8080/"
        },
        "id": "8ovZkYbI-Ry2",
        "outputId": "2598a351-faba-41b8-83ee-cecd213f5dc8"
      },
      "execution_count": 4,
      "outputs": [
        {
          "output_type": "execute_result",
          "data": {
            "text/plain": [
              "(dict,\n",
              " dict_keys(['__header__', '__version__', '__globals__', 'iris_class', 'iris_data']))"
            ]
          },
          "metadata": {},
          "execution_count": 4
        }
      ]
    },
    {
      "cell_type": "code",
      "source": [
        "import numpy as np"
      ],
      "metadata": {
        "id": "r4fLsqwe-XmH"
      },
      "execution_count": 5,
      "outputs": []
    },
    {
      "cell_type": "code",
      "source": [
        "for key in list(mat.keys()):\n",
        "  result = None\n",
        "  if isinstance(mat[key], np.ndarray):\n",
        "    result = mat[key].shape\n",
        "  else :\n",
        "    result = mat[key]\n",
        "  print('key name:{}, result:{}, data type:{}'.format(key ,result, type(mat[key])))"
      ],
      "metadata": {
        "colab": {
          "base_uri": "https://localhost:8080/"
        },
        "id": "oKsBoixy-bIX",
        "outputId": "e26cac55-6291-4f61-cf79-70b30eb55a95"
      },
      "execution_count": 6,
      "outputs": [
        {
          "output_type": "stream",
          "name": "stdout",
          "text": [
            "key name:__header__, result:b'MATLAB 5.0 MAT-file, written by Octave 5.2.0, 2020-03-26 12:54:05 UTC', data type:<class 'bytes'>\n",
            "key name:__version__, result:1.0, data type:<class 'str'>\n",
            "key name:__globals__, result:[], data type:<class 'list'>\n",
            "key name:iris_class, result:(150, 1), data type:<class 'numpy.ndarray'>\n",
            "key name:iris_data, result:(150, 4), data type:<class 'numpy.ndarray'>\n"
          ]
        }
      ]
    },
    {
      "cell_type": "code",
      "source": [
        "class_type, class_count = np.unique(mat['iris_class'],return_counts=True)\n",
        "class_type, class_count"
      ],
      "metadata": {
        "colab": {
          "base_uri": "https://localhost:8080/"
        },
        "id": "CrsvnsSx-ft-",
        "outputId": "39549c14-fa23-48c5-f486-b8df8a78f946"
      },
      "execution_count": 7,
      "outputs": [
        {
          "output_type": "execute_result",
          "data": {
            "text/plain": [
              "(array([array([[1.]]), array([[2.]]), array([[3.]])], dtype=object),\n",
              " array([50, 50, 50]))"
            ]
          },
          "metadata": {},
          "execution_count": 7
        }
      ]
    },
    {
      "cell_type": "code",
      "source": [
        "import pandas as pd"
      ],
      "metadata": {
        "id": "MPN9inj4C6Tu"
      },
      "execution_count": 8,
      "outputs": []
    },
    {
      "cell_type": "code",
      "source": [
        "iris_pd = pd.DataFrame(mat['iris_data'])\n",
        "iris_pd.info()\n",
        "# iris_pd.describe()"
      ],
      "metadata": {
        "colab": {
          "base_uri": "https://localhost:8080/"
        },
        "id": "A54TCFCdC7at",
        "outputId": "f0a8b442-50fb-4cab-8f0e-cdcaf27e1e39"
      },
      "execution_count": 9,
      "outputs": [
        {
          "output_type": "stream",
          "name": "stdout",
          "text": [
            "<class 'pandas.core.frame.DataFrame'>\n",
            "RangeIndex: 150 entries, 0 to 149\n",
            "Data columns (total 4 columns):\n",
            " #   Column  Non-Null Count  Dtype \n",
            "---  ------  --------------  ----- \n",
            " 0   0       150 non-null    object\n",
            " 1   1       150 non-null    object\n",
            " 2   2       150 non-null    object\n",
            " 3   3       150 non-null    object\n",
            "dtypes: object(4)\n",
            "memory usage: 4.8+ KB\n"
          ]
        }
      ]
    },
    {
      "cell_type": "code",
      "source": [
        "# dtype 일치 위해 변환\n",
        "iris_data = mat['iris_data'].astype('float64')\n",
        "iris_class = mat['iris_class'].astype('int32')"
      ],
      "metadata": {
        "id": "WvBOVMvpDEdt"
      },
      "execution_count": 10,
      "outputs": []
    },
    {
      "cell_type": "code",
      "source": [
        "# iris = np.hstack([mat['iris_data'], mat['iris_class']])\n",
        "iris = np.concatenate([iris_data, iris_class],axis=1)\n",
        "iris.shape\n",
        "iris.astype\n",
        "iris = iris[iris[:, 4].argsort()] "
      ],
      "metadata": {
        "id": "Pf6mkmyLDFxG"
      },
      "execution_count": 11,
      "outputs": []
    },
    {
      "cell_type": "code",
      "source": [
        "iris[3,0:5], np.linalg.norm(iris[2:4,0:4] - iris[3:5,0:4], axis=1)"
      ],
      "metadata": {
        "colab": {
          "base_uri": "https://localhost:8080/"
        },
        "id": "V1s6dnn5DVVF",
        "outputId": "d0c3014b-3a6b-4da9-ab30-d850c32ac0ea"
      },
      "execution_count": 12,
      "outputs": [
        {
          "output_type": "execute_result",
          "data": {
            "text/plain": [
              "(array([5. , 3.2, 1.2, 0.2, 1. ]), array([0.64031242, 0.74161985]))"
            ]
          },
          "metadata": {},
          "execution_count": 12
        }
      ]
    },
    {
      "cell_type": "code",
      "source": [
        "print(\"data의 처음 다섯 행:\\n{}\".format(iris_data[:5]))\n",
        "print(\"data의 처음 다섯 행:\\n{}\".format(iris_class[:5]))\n",
        "print(\"iris 처음 다섯 행:\\n{}\".format(iris[:,0:5]))"
      ],
      "metadata": {
        "colab": {
          "base_uri": "https://localhost:8080/"
        },
        "id": "1cwjtN50KR7E",
        "outputId": "051d85c9-5f3f-413f-956a-ee008635d1c6"
      },
      "execution_count": 13,
      "outputs": [
        {
          "output_type": "stream",
          "name": "stdout",
          "text": [
            "data의 처음 다섯 행:\n",
            "[[6.6 3.  4.4 1.4]\n",
            " [5.2 3.5 1.5 0.2]\n",
            " [6.8 3.  5.5 2.1]\n",
            " [5.9 3.2 4.8 1.8]\n",
            " [7.7 3.8 6.7 2.2]]\n",
            "data의 처음 다섯 행:\n",
            "[[2]\n",
            " [1]\n",
            " [3]\n",
            " [2]\n",
            " [3]]\n",
            "iris 처음 다섯 행:\n",
            "[[5.7 4.4 1.5 0.4 1. ]\n",
            " [4.8 3.4 1.9 0.2 1. ]\n",
            " [5.  3.5 1.6 0.6 1. ]\n",
            " [5.  3.2 1.2 0.2 1. ]\n",
            " [4.3 3.  1.1 0.1 1. ]\n",
            " [5.5 3.5 1.3 0.2 1. ]\n",
            " [5.2 4.1 1.5 0.1 1. ]\n",
            " [5.  3.3 1.4 0.2 1. ]\n",
            " [4.7 3.2 1.6 0.2 1. ]\n",
            " [4.6 3.4 1.4 0.3 1. ]\n",
            " [5.  3.5 1.3 0.3 1. ]\n",
            " [4.4 3.2 1.3 0.2 1. ]\n",
            " [4.8 3.  1.4 0.1 1. ]\n",
            " [5.4 3.9 1.7 0.4 1. ]\n",
            " [5.1 3.8 1.6 0.2 1. ]\n",
            " [5.4 3.4 1.7 0.2 1. ]\n",
            " [5.  3.6 1.4 0.2 1. ]\n",
            " [5.7 3.8 1.7 0.3 1. ]\n",
            " [5.1 3.4 1.5 0.2 1. ]\n",
            " [4.4 3.  1.3 0.2 1. ]\n",
            " [4.4 2.9 1.4 0.2 1. ]\n",
            " [5.8 4.  1.2 0.2 1. ]\n",
            " [4.8 3.1 1.6 0.2 1. ]\n",
            " [5.3 3.7 1.5 0.2 1. ]\n",
            " [5.  3.  1.6 0.2 1. ]\n",
            " [5.4 3.7 1.5 0.2 1. ]\n",
            " [5.1 3.8 1.5 0.3 1. ]\n",
            " [5.1 3.5 1.4 0.3 1. ]\n",
            " [4.8 3.  1.4 0.3 1. ]\n",
            " [5.2 3.4 1.4 0.2 1. ]\n",
            " [4.7 3.2 1.3 0.2 1. ]\n",
            " [4.6 3.2 1.4 0.2 1. ]\n",
            " [5.1 3.7 1.5 0.4 1. ]\n",
            " [5.4 3.4 1.5 0.4 1. ]\n",
            " [5.2 3.5 1.5 0.2 1. ]\n",
            " [4.9 3.  1.4 0.2 1. ]\n",
            " [5.1 3.3 1.7 0.5 1. ]\n",
            " [5.1 3.8 1.9 0.4 1. ]\n",
            " [4.9 3.1 1.5 0.1 1. ]\n",
            " [5.1 3.5 1.4 0.2 1. ]\n",
            " [4.9 3.1 1.5 0.1 1. ]\n",
            " [5.  3.4 1.5 0.2 1. ]\n",
            " [5.  3.4 1.6 0.4 1. ]\n",
            " [4.6 3.1 1.5 0.2 1. ]\n",
            " [4.6 3.6 1.  0.2 1. ]\n",
            " [5.5 4.2 1.4 0.2 1. ]\n",
            " [4.9 3.1 1.5 0.1 1. ]\n",
            " [5.4 3.9 1.3 0.4 1. ]\n",
            " [4.8 3.4 1.6 0.2 1. ]\n",
            " [4.5 2.3 1.3 0.3 1. ]\n",
            " [5.6 3.  4.5 1.5 2. ]\n",
            " [6.4 3.2 4.5 1.5 2. ]\n",
            " [6.6 2.9 4.6 1.3 2. ]\n",
            " [6.4 2.9 4.3 1.3 2. ]\n",
            " [5.8 2.7 3.9 1.2 2. ]\n",
            " [6.  3.4 4.5 1.6 2. ]\n",
            " [6.1 2.8 4.7 1.2 2. ]\n",
            " [5.  2.  3.5 1.  2. ]\n",
            " [6.5 2.8 4.6 1.5 2. ]\n",
            " [5.  2.3 3.3 1.  2. ]\n",
            " [5.4 3.  4.5 1.5 2. ]\n",
            " [5.6 2.7 4.2 1.3 2. ]\n",
            " [5.7 2.8 4.5 1.3 2. ]\n",
            " [6.1 2.9 4.7 1.4 2. ]\n",
            " [5.6 3.  4.1 1.3 2. ]\n",
            " [5.6 2.5 3.9 1.1 2. ]\n",
            " [4.9 2.4 3.3 1.  2. ]\n",
            " [7.  3.2 4.7 1.4 2. ]\n",
            " [5.5 2.4 3.8 1.1 2. ]\n",
            " [6.7 3.1 4.4 1.4 2. ]\n",
            " [5.9 3.  4.2 1.5 2. ]\n",
            " [5.7 3.  4.2 1.2 2. ]\n",
            " [5.5 2.3 4.  1.3 2. ]\n",
            " [6.1 2.8 4.  1.3 2. ]\n",
            " [6.6 3.  4.4 1.4 2. ]\n",
            " [5.7 2.9 4.2 1.3 2. ]\n",
            " [5.7 2.6 3.5 1.  2. ]\n",
            " [5.1 2.5 3.  1.1 2. ]\n",
            " [5.5 2.5 4.  1.3 2. ]\n",
            " [6.2 2.9 4.3 1.3 2. ]\n",
            " [5.5 2.6 4.4 1.2 2. ]\n",
            " [5.2 2.7 3.9 1.4 2. ]\n",
            " [6.3 2.5 4.9 1.5 2. ]\n",
            " [6.3 3.3 4.7 1.6 2. ]\n",
            " [6.7 3.1 4.7 1.5 2. ]\n",
            " [6.8 2.8 4.8 1.4 2. ]\n",
            " [6.  2.9 4.5 1.5 2. ]\n",
            " [6.7 3.  5.  1.7 2. ]\n",
            " [5.8 2.7 4.1 1.  2. ]\n",
            " [5.8 2.6 4.  1.2 2. ]\n",
            " [5.7 2.8 4.1 1.3 2. ]\n",
            " [5.5 2.4 3.7 1.  2. ]\n",
            " [6.  2.2 4.  1.  2. ]\n",
            " [6.  2.7 5.1 1.6 2. ]\n",
            " [5.6 2.9 3.6 1.3 2. ]\n",
            " [6.9 3.1 4.9 1.5 2. ]\n",
            " [5.9 3.2 4.8 1.8 2. ]\n",
            " [6.1 3.  4.6 1.4 2. ]\n",
            " [6.2 2.2 4.5 1.5 2. ]\n",
            " [6.3 2.3 4.4 1.3 2. ]\n",
            " [6.2 3.4 5.4 2.3 3. ]\n",
            " [6.3 2.8 5.1 1.5 3. ]\n",
            " [6.4 3.2 5.3 2.3 3. ]\n",
            " [6.4 2.7 5.3 1.9 3. ]\n",
            " [6.7 2.5 5.8 1.8 3. ]\n",
            " [6.3 3.4 5.6 2.4 3. ]\n",
            " [5.8 2.7 5.1 1.9 3. ]\n",
            " [4.9 2.5 4.5 1.7 3. ]\n",
            " [6.5 3.2 5.1 2.  3. ]\n",
            " [6.7 3.3 5.7 2.5 3. ]\n",
            " [6.7 3.  5.2 2.3 3. ]\n",
            " [6.3 2.7 4.9 1.8 3. ]\n",
            " [6.4 3.1 5.5 1.8 3. ]\n",
            " [7.1 3.  5.9 2.1 3. ]\n",
            " [7.7 3.8 6.7 2.2 3. ]\n",
            " [6.  3.  4.8 1.8 3. ]\n",
            " [6.8 3.  5.5 2.1 3. ]\n",
            " [6.5 3.  5.8 2.2 3. ]\n",
            " [6.4 2.8 5.6 2.2 3. ]\n",
            " [7.4 2.8 6.1 1.9 3. ]\n",
            " [6.3 2.5 5.  1.9 3. ]\n",
            " [7.2 3.  5.8 1.6 3. ]\n",
            " [5.8 2.7 5.1 1.9 3. ]\n",
            " [5.6 2.8 4.9 2.  3. ]\n",
            " [5.8 2.8 5.1 2.4 3. ]\n",
            " [7.3 2.9 6.3 1.8 3. ]\n",
            " [7.2 3.2 6.  1.8 3. ]\n",
            " [7.2 3.6 6.1 2.5 3. ]\n",
            " [6.9 3.2 5.7 2.3 3. ]\n",
            " [6.9 3.1 5.1 2.3 3. ]\n",
            " [7.7 3.  6.1 2.3 3. ]\n",
            " [6.4 2.8 5.6 2.1 3. ]\n",
            " [6.1 3.  4.9 1.8 3. ]\n",
            " [6.5 3.  5.5 1.8 3. ]\n",
            " [7.9 3.8 6.4 2.  3. ]\n",
            " [7.7 2.8 6.7 2.  3. ]\n",
            " [6.3 2.9 5.6 1.8 3. ]\n",
            " [6.9 3.1 5.4 2.1 3. ]\n",
            " [5.9 3.  5.1 1.8 3. ]\n",
            " [7.7 2.6 6.9 2.3 3. ]\n",
            " [6.3 3.3 6.  2.5 3. ]\n",
            " [6.  2.2 5.  1.5 3. ]\n",
            " [6.8 3.2 5.9 2.3 3. ]\n",
            " [7.6 3.  6.6 2.1 3. ]\n",
            " [5.7 2.5 5.  2.  3. ]\n",
            " [6.7 3.3 5.7 2.1 3. ]\n",
            " [6.1 2.6 5.6 1.4 3. ]\n",
            " [6.2 2.8 4.8 1.8 3. ]\n",
            " [6.5 3.  5.2 2.  3. ]\n",
            " [6.7 3.1 5.6 2.4 3. ]]\n"
          ]
        }
      ]
    },
    {
      "cell_type": "code",
      "source": [
        "from pandas._libs.algos import ensure_uint8\n",
        "import math\n",
        "kernel_count = 1\n",
        "error_count = 0\n",
        "K = 30\n",
        "lcnt=150\n",
        "for i in range(len(iris)):\n",
        "  distance_norm = np.linalg.norm(iris[:,0:4] - iris[i,0:4] , axis=1)\n",
        "  #print(\"item 처음 다섯 행:\\n{}\".format(distance_norm))\n",
        "  #kernel_stack = np.stack((distance_norm, iris[:,4]), axis=1)\n",
        "  kernel_stack = np.stack((distance_norm, np.array(range(150))), axis=1)\n",
        "  kernel_items = kernel_stack[kernel_stack[:,0].argsort()]  # 거리 계산 column 기준 가까운 거리로 정렬\n",
        "  #if (i==50 or i==51 or i==49):  print(\"kernel_items :\\n\"+format(kernel_items)+\":i:%d\",i)\n",
        "  class_types = np.full((3),0)\n",
        "  #print(\"class_types 처음 000 행:\\n\"+format(class_types)+\":i:%d\",i)\n",
        "  for n in range(K):\n",
        "    #if (i==50):  print(\"kernel_items-1 행:\\n{}\".format(kernel_items[n,1]))\n",
        "    if(int(kernel_items[n,1])<=49): class_types[0] = class_types[0] + 1\n",
        "    if(int(kernel_items[n,1])>99): class_types[2] = class_types[2] + 1\n",
        "    if(int(kernel_items[n,1])>49 and int(kernel_items[n,1])<=99): class_types[1] = class_types[1] + 1\n",
        "  #if (i==50):  print(\"class_types-2 행:\\n{}\".format(class_types))\n",
        "  max_val = np.argmax(class_types)\n",
        "  #if (i==50):  print(\"max_val-3 행:{}\",max_val)\n",
        "  #if (i==50):  print(\"floor 처음 222 행:{}\",(math.floor((i-1)/50)+1))\n",
        "  if((max_val) != (math.floor((i)/50))):\n",
        "    #print(\"에러-max_val:\",(max_val+1))\n",
        "    #print(\"에러-i:\",i)\n",
        "    #print(\"에러-floor:\",math.floor((i)/50))\n",
        "    error_count = error_count + 1\n",
        "    #print(\"에러-error_count:\",error_count)\n",
        "  pass\n",
        "#kernel_stack[0:10,:]\n",
        "print('error rate : {}'.format(error_count/lcnt))\n",
        "print('error rate : {}'.format(error_count))\n",
        "\n"
      ],
      "metadata": {
        "colab": {
          "base_uri": "https://localhost:8080/"
        },
        "id": "4had9EqMavrT",
        "outputId": "a7e5ea41-7040-4aae-b293-d4bf29390e73"
      },
      "execution_count": 44,
      "outputs": [
        {
          "output_type": "stream",
          "name": "stdout",
          "text": [
            "error rate : 0.04666666666666667\n",
            "error rate : 7\n"
          ]
        }
      ]
    },
    {
      "cell_type": "code",
      "source": [
        "def knn_classtify(kernel_count):\n",
        "  _kernel_count = kernel_count\n",
        "  error_count = 0\n",
        "  K = 30\n",
        "  lcnt=150\n",
        "  for i in range(len(iris)):\n",
        "    distance_norm = np.linalg.norm(iris[:,0:4] - iris[i,0:4] , axis=1)\n",
        "    #print(\"item 처음 다섯 행:\\n{}\".format(distance_norm))\n",
        "    #kernel_stack = np.stack((distance_norm, iris[:,4]), axis=1)\n",
        "    kernel_stack = np.stack((distance_norm, np.array(range(150))), axis=1)\n",
        "    kernel_items = kernel_stack[kernel_stack[:,0].argsort()]  # 거리 계산 column 기준 가까운 거리로 정렬\n",
        "    #if (i==50 or i==51 or i==49):  print(\"kernel_items :\\n\"+format(kernel_items)+\":i:%d\",i)\n",
        "    class_types = np.full((3),0)\n",
        "    #print(\"class_types 처음 000 행:\\n\"+format(class_types)+\":i:%d\",i)\n",
        "    for n in range(_kernel_count):\n",
        "      #if (i==50):  print(\"kernel_items-1 행:\\n{}\".format(kernel_items[n,1]))\n",
        "      if(int(kernel_items[n,1])<=49): class_types[0] = class_types[0] + 1\n",
        "      if(int(kernel_items[n,1])>99): class_types[2] = class_types[2] + 1\n",
        "      if(int(kernel_items[n,1])>49 and int(kernel_items[n,1])<=99): class_types[1] = class_types[1] + 1\n",
        "    #if (i==50):  print(\"class_types-2 행:\\n{}\".format(class_types))\n",
        "    max_val = np.argmax(class_types)\n",
        "    #if (i==50):  print(\"max_val-3 행:{}\",max_val)\n",
        "    #if (i==50):  print(\"floor 처음 222 행:{}\",(math.floor((i-1)/50)+1))\n",
        "    if((max_val) != (math.floor((i)/50))):\n",
        "      #print(\"에러-max_val:\",(max_val+1))\n",
        "      #print(\"에러-i:\",i)\n",
        "      #print(\"에러-floor:\",math.floor((i)/50))\n",
        "      error_count = error_count + 1\n",
        "  return error_count/lcnt"
      ],
      "metadata": {
        "id": "RmhXTGAoEHI-"
      },
      "execution_count": 47,
      "outputs": []
    },
    {
      "cell_type": "code",
      "source": [
        "print(knn_classtify(1))\n",
        "print(knn_classtify(5))\n",
        "print(knn_classtify(10))\n",
        "print(knn_classtify(15))\n",
        "print(knn_classtify(20))\n",
        "print(knn_classtify(25))\n",
        "print(knn_classtify(30))"
      ],
      "metadata": {
        "colab": {
          "base_uri": "https://localhost:8080/"
        },
        "id": "c4-WMn-3zyy1",
        "outputId": "827fa5a0-76dd-4513-b27f-4bd29a5be137"
      },
      "execution_count": 48,
      "outputs": [
        {
          "output_type": "stream",
          "name": "stdout",
          "text": [
            "0.0\n",
            "0.03333333333333333\n",
            "0.02\n",
            "0.013333333333333334\n",
            "0.02\n",
            "0.02\n",
            "0.04666666666666667\n"
          ]
        }
      ]
    }
  ]
}