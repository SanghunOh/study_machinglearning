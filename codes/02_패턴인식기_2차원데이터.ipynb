{
  "nbformat": 4,
  "nbformat_minor": 0,
  "metadata": {
    "colab": {
      "name": "02_패턴인식기_2차원데이터.ipynb",
      "provenance": [],
      "collapsed_sections": [],
      "authorship_tag": "ABX9TyM5BEMDt/pvg+WrzhoClJDE"
    },
    "kernelspec": {
      "name": "python3",
      "display_name": "Python 3"
    },
    "language_info": {
      "name": "python"
    }
  },
  "cells": [
    {
      "cell_type": "markdown",
      "source": [
        "# 가우시안 분포 따르는 2차원 데이터 생성"
      ],
      "metadata": {
        "id": "D1k3R5N8X-wg"
      }
    },
    {
      "cell_type": "code",
      "execution_count": 127,
      "metadata": {
        "id": "4CYlVg0kRoNw"
      },
      "outputs": [],
      "source": [
        "import numpy as np"
      ]
    },
    {
      "cell_type": "code",
      "source": [
        "np.random.seed(50)  # 동일한 수열 발생 위해 설정\n",
        "row_count = 50\n",
        "# row_count = 1000"
      ],
      "metadata": {
        "id": "OJC3Eu1SeQ3R"
      },
      "execution_count": 128,
      "outputs": []
    },
    {
      "cell_type": "markdown",
      "source": [
        "## 데이터 A 종류"
      ],
      "metadata": {
        "id": "xSjsrz2NkNx5"
      }
    },
    {
      "cell_type": "code",
      "source": [
        "mean_1 = np.array([3,5])\n",
        "mean_1, mean_1.shape, type(mean_1)"
      ],
      "metadata": {
        "colab": {
          "base_uri": "https://localhost:8080/"
        },
        "id": "e9KFZKXrexzU",
        "outputId": "a82f26f8-5936-45aa-a81a-1a3f0e8b20f3"
      },
      "execution_count": 129,
      "outputs": [
        {
          "output_type": "execute_result",
          "data": {
            "text/plain": [
              "(array([3, 5]), (2,), numpy.ndarray)"
            ]
          },
          "metadata": {},
          "execution_count": 129
        }
      ]
    },
    {
      "cell_type": "code",
      "source": [
        "# sigma_1 = np.array([[1,1],[1,2]])\n",
        "sigma_1 = np.array([[3,1],[1,4]])   # 식별 위해 값 분포 임의 폭 증가\n",
        "sigma_1, sigma_1.shape, type(sigma_1)"
      ],
      "metadata": {
        "colab": {
          "base_uri": "https://localhost:8080/"
        },
        "id": "Geb4-Zhafzj5",
        "outputId": "c220d35d-9b66-4868-c5b3-7cc9fe8d24c5"
      },
      "execution_count": 130,
      "outputs": [
        {
          "output_type": "execute_result",
          "data": {
            "text/plain": [
              "(array([[3, 1],\n",
              "        [1, 4]]), (2, 2), numpy.ndarray)"
            ]
          },
          "metadata": {},
          "execution_count": 130
        }
      ]
    },
    {
      "cell_type": "code",
      "source": [
        "rand_std_1 = np.random.randn(row_count, 2)\n",
        "# rand_std_1, \n",
        "rand_std_1.shape, type(rand_std_1)"
      ],
      "metadata": {
        "colab": {
          "base_uri": "https://localhost:8080/"
        },
        "id": "CnPTdkLgYKlP",
        "outputId": "e040b331-5b92-44e5-e7d0-4c180a3e4974"
      },
      "execution_count": 131,
      "outputs": [
        {
          "output_type": "execute_result",
          "data": {
            "text/plain": [
              "((50, 2), numpy.ndarray)"
            ]
          },
          "metadata": {},
          "execution_count": 131
        }
      ]
    },
    {
      "cell_type": "code",
      "source": [
        "# type(rand_std_1), type(sigma_1), type(mean_1)"
      ],
      "metadata": {
        "id": "owbEvbY4iv8O"
      },
      "execution_count": 132,
      "outputs": []
    },
    {
      "cell_type": "code",
      "source": [
        "# rand_std_1.shape, sigma_1.shape, mean_1.shape"
      ],
      "metadata": {
        "id": "7vlw7mfJeWFw"
      },
      "execution_count": 133,
      "outputs": []
    },
    {
      "cell_type": "code",
      "source": [
        "class_A = rand_std_1 @ np.sqrt(sigma_1) + mean_1 # 공분산 적용 분포 구하기"
      ],
      "metadata": {
        "id": "jtmeUzIshZev"
      },
      "execution_count": 134,
      "outputs": []
    },
    {
      "cell_type": "markdown",
      "source": [
        "## 데이터 \bB 종류"
      ],
      "metadata": {
        "id": "XICimAUclN5-"
      }
    },
    {
      "cell_type": "code",
      "source": [
        "mean_2 = np.array([5,3])\n",
        "# sigma_2 = np.array([[1,1],[1,2]])\n",
        "sigma_2 = np.array([[3,1],[1,4]])   # 식별 위해 값 분포 임의 폭 증가\n",
        "rand_std_2 = np.random.randn(row_count, 2)\n",
        "class_B = rand_std_2 @ np.sqrt(sigma_2) + mean_2\n",
        "class_B.shape"
      ],
      "metadata": {
        "colab": {
          "base_uri": "https://localhost:8080/"
        },
        "id": "O0XIJUdFi687",
        "outputId": "247fb096-f36b-4e23-c529-49ad93b8b330"
      },
      "execution_count": 135,
      "outputs": [
        {
          "output_type": "execute_result",
          "data": {
            "text/plain": [
              "(50, 2)"
            ]
          },
          "metadata": {},
          "execution_count": 135
        }
      ]
    },
    {
      "cell_type": "markdown",
      "source": [
        "## Plot 그리기"
      ],
      "metadata": {
        "id": "ZybtYKCAl1In"
      }
    },
    {
      "cell_type": "code",
      "source": [
        "import matplotlib.pyplot as plt"
      ],
      "metadata": {
        "id": "u-76ZhRVlzhJ"
      },
      "execution_count": 136,
      "outputs": []
    },
    {
      "cell_type": "code",
      "source": [
        "# class_B[:,0]\n",
        "# mean_1[0]"
      ],
      "metadata": {
        "id": "vZSLIN3nmT7Y"
      },
      "execution_count": 137,
      "outputs": []
    },
    {
      "cell_type": "code",
      "source": [
        "from matplotlib.markers import MarkerStyle\n",
        "plt.plot(class_A[:,0],class_A[:,1],marker='+',linestyle='None') # 데이터 A\n",
        "plt.plot(mean_1[0],mean_1[1],'o',ls='None', color='red', markersize=12) # 데이터 A 평균\n",
        "plt.plot(class_B[:,0],class_B[:,1],'v')  # 데이터 B\n",
        "plt.plot(mean_2[0],mean_2[1],'o',color='red', ms=12)  # 데이터 B 평균\n",
        "# plt.plot(range(11)) # 예상할 수 있는 선형 경계"
      ],
      "metadata": {
        "colab": {
          "base_uri": "https://localhost:8080/",
          "height": 283
        },
        "id": "9e3vYG2Al-wD",
        "outputId": "f82d2d4c-f740-4e8e-8611-c4b36c30a42c"
      },
      "execution_count": 138,
      "outputs": [
        {
          "output_type": "execute_result",
          "data": {
            "text/plain": [
              "[<matplotlib.lines.Line2D at 0x7fc67ef7c950>]"
            ]
          },
          "metadata": {},
          "execution_count": 138
        },
        {
          "output_type": "display_data",
          "data": {
            "image/png": "[encoded data removed]",
            "text/plain": [
              "<Figure size 432x288 with 1 Axes>"
            ]
          },
          "metadata": {
            "needs_background": "light"
          }
        }
      ]
    },
    {
      "cell_type": "markdown",
      "source": [
        "# 결정경계 : 새로운 값 판단 위한 분기선\n",
        "- 여기선 각 데이터 class 평균과 거리 사용 측정 방식"
      ],
      "metadata": {
        "id": "CgLJ97l4sTu3"
      }
    },
    {
      "cell_type": "code",
      "source": [
        "class_A_mean = np.mean(class_A,axis=0)\n",
        "class_A_cov = np.cov(class_A.T)\n",
        "class_A_mean, class_A_cov"
      ],
      "metadata": {
        "colab": {
          "base_uri": "https://localhost:8080/"
        },
        "id": "ZzjZ2H88mZi4",
        "outputId": "a5b18c7b-e037-40c6-e367-b4759c06fe81"
      },
      "execution_count": 139,
      "outputs": [
        {
          "output_type": "execute_result",
          "data": {
            "text/plain": [
              "(array([3.20902787, 4.98402174]), array([[3.96764102, 3.83332394],\n",
              "        [3.83332394, 5.72462042]]))"
            ]
          },
          "metadata": {},
          "execution_count": 139
        }
      ]
    },
    {
      "cell_type": "code",
      "source": [
        "class_B_mean = np.mean(class_B,axis=0)\n",
        "class_B_cov = np.cov(class_B.T)\n",
        "class_A_mean, class_A_cov"
      ],
      "metadata": {
        "colab": {
          "base_uri": "https://localhost:8080/"
        },
        "id": "Lq0Pk1J51JLM",
        "outputId": "0322e297-842e-4ecc-ec2e-a77a4bf201ab"
      },
      "execution_count": 140,
      "outputs": [
        {
          "output_type": "execute_result",
          "data": {
            "text/plain": [
              "(array([3.20902787, 4.98402174]), array([[3.96764102, 3.83332394],\n",
              "        [3.83332394, 5.72462042]]))"
            ]
          },
          "metadata": {},
          "execution_count": 140
        }
      ]
    },
    {
      "cell_type": "code",
      "source": [
        "# 예측할려고 하는 새로운 값\n",
        "new_data_02 = np.array([3,1])\n",
        "new_data_02, type(new_data_02), new_data_02.shape, new_data_02[0],new_data_02[1],"
      ],
      "metadata": {
        "colab": {
          "base_uri": "https://localhost:8080/"
        },
        "id": "J3ohafaVMiUd",
        "outputId": "1de473c9-f13b-4389-db05-32637a5c4f67"
      },
      "execution_count": 141,
      "outputs": [
        {
          "output_type": "execute_result",
          "data": {
            "text/plain": [
              "(array([3, 1]), numpy.ndarray, (2,), 3, 1)"
            ]
          },
          "metadata": {},
          "execution_count": 141
        }
      ]
    },
    {
      "cell_type": "code",
      "source": [
        "# 예측할려고 하는 새로운 값\n",
        "new_data_01 = np.array([8,9])\n",
        "new_data_01, type(new_data_01), new_data_01.shape, new_data_01[0],new_data_01[1],"
      ],
      "metadata": {
        "colab": {
          "base_uri": "https://localhost:8080/"
        },
        "id": "hygMVFMFUpTl",
        "outputId": "8e1fe187-78fd-4317-8542-205115599fa0"
      },
      "execution_count": 142,
      "outputs": [
        {
          "output_type": "execute_result",
          "data": {
            "text/plain": [
              "(array([8, 9]), numpy.ndarray, (2,), 8, 9)"
            ]
          },
          "metadata": {},
          "execution_count": 142
        }
      ]
    },
    {
      "cell_type": "markdown",
      "source": [
        "## 그래프로 판단\n"
      ],
      "metadata": {
        "id": "V-kdmBOkRars"
      }
    },
    {
      "cell_type": "code",
      "source": [
        "plt.plot(range(11))\n",
        "plt.plot(class_A_mean[0],class_A_mean[1],'o',color='red', ms=12)  # 데이터 A 평균\n",
        "plt.plot(class_B_mean[0],class_B_mean[1],'o',color='red', ms=12)  # 데이터 B 평균\n",
        "plt.plot(new_data_01[0],new_data_01[1],'p',color='blue', ms=12)  # 데이터 A 평균\n",
        "plt.plot(new_data_02[0],new_data_02[1],'v',color='blue', ms=12)  # 데이터 B 평균\n",
        "plt.show()"
      ],
      "metadata": {
        "colab": {
          "base_uri": "https://localhost:8080/",
          "height": 265
        },
        "id": "yB8QVp7eOYUD",
        "outputId": "592d9a35-fb03-486a-d2fa-cf20bc8bbfcb"
      },
      "execution_count": 143,
      "outputs": [
        {
          "output_type": "display_data",
          "data": {
            "image/png": "[encoded data removed]",
            "text/plain": [
              "<Figure size 432x288 with 1 Axes>"
            ]
          },
          "metadata": {
            "needs_background": "light"
          }
        }
      ]
    },
    {
      "cell_type": "markdown",
      "source": [
        "### 판별함수(discriminant function)로 판단\n",
        "$\n",
        "g(x) = d(x, m_2) - d(x, m_1) = 0 \\\\\n",
        "= (x-m_1)^T(x-m_1) - (x-m_2)^T(x-m_2) \\\\\n",
        "= -2(m_1-m_2)^Tx + m_1^Tm_1-m_2^T\n",
        "$\n",
        "### 클래스 라벨\n",
        "$\n",
        "y(x) = \\left\\{\n",
        "        \\begin{array}{cl}\n",
        "        1 & if & g(x) > 0 & >> 데이터 A\\\\\n",
        "        -1 & if & g(x) < 0 & >> 데이터 B \n",
        "        \\end{array}\n",
        "        \\right.\n",
        "$"
      ],
      "metadata": {
        "id": "vypYu9r9RvYN"
      }
    },
    {
      "cell_type": "markdown",
      "source": [
        "$g(x) = -2(m_1-m_2)^Tx + m_1^Tm_1-m_2^T $ -> 정확히 못 풀었음."
      ],
      "metadata": {
        "id": "46Up2SRzVKtK"
      }
    },
    {
      "cell_type": "code",
      "source": [
        "# first_vec = (class_A_mean - class_B_mean).T\n",
        "# first_vec, type(first_vec), first_vec.shape"
      ],
      "metadata": {
        "id": "DUXnn_iYshho"
      },
      "execution_count": 144,
      "outputs": []
    },
    {
      "cell_type": "code",
      "source": [
        "# second_vec = (class_A_mean.T * class_A_mean) - class_A_mean.T\n",
        "# second_vec, type(second_vec), second_vec.shape"
      ],
      "metadata": {
        "id": "qxnX-HpcI9ND"
      },
      "execution_count": 145,
      "outputs": []
    },
    {
      "cell_type": "code",
      "source": [
        "# result_vec = (-2*first_vec*new_data_02) + second_vec\n",
        "# result_vec"
      ],
      "metadata": {
        "id": "9toGdvO5OYLa"
      },
      "execution_count": 146,
      "outputs": []
    },
    {
      "cell_type": "code",
      "source": [
        "# np.linalg.norm(result_vec)"
      ],
      "metadata": {
        "id": "EUoyLxF-4Vag"
      },
      "execution_count": 147,
      "outputs": []
    },
    {
      "cell_type": "markdown",
      "source": [
        "$𝑔(𝑥)=𝑑(𝑥,𝑚2)−𝑑(𝑥,𝑚1)$"
      ],
      "metadata": {
        "id": "1BR9F_P4Uww_"
      }
    },
    {
      "cell_type": "code",
      "source": [
        "np.linalg.norm(new_data_01-class_B_mean) - np.linalg.norm(new_data_01-class_A_mean) # class A"
      ],
      "metadata": {
        "colab": {
          "base_uri": "https://localhost:8080/"
        },
        "id": "CmilXRAEVru-",
        "outputId": "f61d8f54-6d30-42bd-f626-b6e36da6c86e"
      },
      "execution_count": 149,
      "outputs": [
        {
          "output_type": "execute_result",
          "data": {
            "text/plain": [
              "1.2173067711404641"
            ]
          },
          "metadata": {},
          "execution_count": 149
        }
      ]
    },
    {
      "cell_type": "code",
      "source": [
        "np.linalg.norm(new_data_02-class_B_mean) - np.linalg.norm(new_data_02-class_A_mean) # class B"
      ],
      "metadata": {
        "colab": {
          "base_uri": "https://localhost:8080/"
        },
        "id": "fty9nbQrTONW",
        "outputId": "2b684066-777a-479f-a44c-b8c5441ee380"
      },
      "execution_count": 148,
      "outputs": [
        {
          "output_type": "execute_result",
          "data": {
            "text/plain": [
              "-1.952180179204856"
            ]
          },
          "metadata": {},
          "execution_count": 148
        }
      ]
    },
    {
      "cell_type": "markdown",
      "source": [
        "# 성능평가"
      ],
      "metadata": {
        "id": "JNb05V0a0Qng"
      }
    },
    {
      "cell_type": "markdown",
      "source": [
        "### 평균 거리 이용"
      ],
      "metadata": {
        "id": "YoFXUK9_0Tsp"
      }
    },
    {
      "cell_type": "code",
      "source": [
        "class_A_error_count, class_B_error_count = 0, 0\n",
        "for idx in range(row_count):\n",
        "  distance_A = np.linalg.norm(class_A[idx] - class_A_mean) - np.linalg.norm(class_A[idx] - class_B_mean)\n",
        "  if distance_A > 0 :\n",
        "    class_A_error_count += 1\n",
        "  distance_B = np.linalg.norm(class_B[idx] - class_A_mean) - np.linalg.norm(class_B[idx] - class_B_mean)\n",
        "  if distance_B < 0 :\n",
        "    class_B_error_count += 1    \n",
        "\n",
        "(class_A_error_count + class_B_error_count) / row_count, class_A_error_count, class_B_error_count, "
      ],
      "metadata": {
        "colab": {
          "base_uri": "https://localhost:8080/"
        },
        "id": "NYuGZih4VsX0",
        "outputId": "2dce5fe5-4ce6-4f32-a358-aec1bb434ab8"
      },
      "execution_count": 150,
      "outputs": [
        {
          "output_type": "execute_result",
          "data": {
            "text/plain": [
              "(0.28, 9, 5)"
            ]
          },
          "metadata": {},
          "execution_count": 150
        }
      ]
    },
    {
      "cell_type": "markdown",
      "source": [
        "# try on it\n",
        "샘플 갯수 증가하면, 성능 좋아짐.(row_count=1000 --> 약 0.28)"
      ],
      "metadata": {
        "id": "x3d_f-rC3Abg"
      }
    },
    {
      "cell_type": "code",
      "source": [
        ""
      ],
      "metadata": {
        "id": "nNgipmM62xOh"
      },
      "execution_count": 150,
      "outputs": []
    }
  ]
}