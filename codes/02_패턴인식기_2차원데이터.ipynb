{
  "nbformat": 4,
  "nbformat_minor": 0,
  "metadata": {
    "colab": {
      "name": "02_패턴인식기_2차원데이터.ipynb",
      "provenance": [],
      "collapsed_sections": [],
      "authorship_tag": "ABX9TyMi+VtHsAKnss2yuZpw1JBj"
    },
    "kernelspec": {
      "name": "python3",
      "display_name": "Python 3"
    },
    "language_info": {
      "name": "python"
    }
  },
  "cells": [
    {
      "cell_type": "markdown",
      "source": [
        "# 가우시안 분포 따르는 2차원 데이터 생성"
      ],
      "metadata": {
        "id": "D1k3R5N8X-wg"
      }
    },
    {
      "cell_type": "code",
      "execution_count": 125,
      "metadata": {
        "id": "4CYlVg0kRoNw"
      },
      "outputs": [],
      "source": [
        "import numpy as np"
      ]
    },
    {
      "cell_type": "code",
      "source": [
        "np.random.seed(50)  # 동일한 수열 발생 위해 설정\n",
        "row_count = 50"
      ],
      "metadata": {
        "id": "OJC3Eu1SeQ3R"
      },
      "execution_count": 126,
      "outputs": []
    },
    {
      "cell_type": "markdown",
      "source": [
        "## 데이터 A 종류"
      ],
      "metadata": {
        "id": "xSjsrz2NkNx5"
      }
    },
    {
      "cell_type": "code",
      "source": [
        "mean_1 = np.array([3,5])\n",
        "mean_1, mean_1.shape, type(mean_1)"
      ],
      "metadata": {
        "colab": {
          "base_uri": "https://localhost:8080/"
        },
        "id": "e9KFZKXrexzU",
        "outputId": "50193edd-20ea-46cf-bf69-39eb9c8ea9ca"
      },
      "execution_count": 127,
      "outputs": [
        {
          "output_type": "execute_result",
          "data": {
            "text/plain": [
              "(array([3, 5]), (2,), numpy.ndarray)"
            ]
          },
          "metadata": {},
          "execution_count": 127
        }
      ]
    },
    {
      "cell_type": "code",
      "source": [
        "sigma_1 = np.array([[1,1],[1,2]])\n",
        "sigma_1, sigma_1.shape, type(sigma_1)"
      ],
      "metadata": {
        "colab": {
          "base_uri": "https://localhost:8080/"
        },
        "id": "Geb4-Zhafzj5",
        "outputId": "f5fbe596-52b8-4809-8210-10281a61bb96"
      },
      "execution_count": 128,
      "outputs": [
        {
          "output_type": "execute_result",
          "data": {
            "text/plain": [
              "(array([[1, 1],\n",
              "        [1, 2]]), (2, 2), numpy.ndarray)"
            ]
          },
          "metadata": {},
          "execution_count": 128
        }
      ]
    },
    {
      "cell_type": "code",
      "source": [
        "rand_std_1 = np.random.randn(row_count, 2)\n",
        "# rand_std_1, \n",
        "rand_std_1.shape, type(rand_std_1)"
      ],
      "metadata": {
        "colab": {
          "base_uri": "https://localhost:8080/"
        },
        "id": "CnPTdkLgYKlP",
        "outputId": "ebc0caf1-5271-4e84-efa8-61b6d365a423"
      },
      "execution_count": 129,
      "outputs": [
        {
          "output_type": "execute_result",
          "data": {
            "text/plain": [
              "((50, 2), numpy.ndarray)"
            ]
          },
          "metadata": {},
          "execution_count": 129
        }
      ]
    },
    {
      "cell_type": "code",
      "source": [
        "# type(rand_std_1), type(sigma_1), type(mean_1)"
      ],
      "metadata": {
        "id": "owbEvbY4iv8O"
      },
      "execution_count": 130,
      "outputs": []
    },
    {
      "cell_type": "code",
      "source": [
        "# rand_std_1.shape, sigma_1.shape, mean_1.shape"
      ],
      "metadata": {
        "id": "7vlw7mfJeWFw"
      },
      "execution_count": 131,
      "outputs": []
    },
    {
      "cell_type": "code",
      "source": [
        "type_A = rand_std_1 @ np.sqrt(sigma_1) + mean_1 # 공분산 적용 분포 구하기"
      ],
      "metadata": {
        "id": "jtmeUzIshZev"
      },
      "execution_count": 132,
      "outputs": []
    },
    {
      "cell_type": "markdown",
      "source": [
        "## 데이터 \bB 종류"
      ],
      "metadata": {
        "id": "XICimAUclN5-"
      }
    },
    {
      "cell_type": "code",
      "source": [
        "mean_2 = np.array([5,3])\n",
        "sigma_2 = np.array([[1,1],[1,2]])\n",
        "rand_std_2 = np.random.randn(row_count, 2)\n",
        "type_B = rand_std_2 @ np.sqrt(sigma_2) + mean_2\n",
        "type_B.shape"
      ],
      "metadata": {
        "colab": {
          "base_uri": "https://localhost:8080/"
        },
        "id": "O0XIJUdFi687",
        "outputId": "dea6fee8-51b4-4037-ecc9-1ba97a6693f2"
      },
      "execution_count": 133,
      "outputs": [
        {
          "output_type": "execute_result",
          "data": {
            "text/plain": [
              "(50, 2)"
            ]
          },
          "metadata": {},
          "execution_count": 133
        }
      ]
    },
    {
      "cell_type": "markdown",
      "source": [
        "## Plot 그리기"
      ],
      "metadata": {
        "id": "ZybtYKCAl1In"
      }
    },
    {
      "cell_type": "code",
      "source": [
        "import matplotlib.pyplot as plt"
      ],
      "metadata": {
        "id": "u-76ZhRVlzhJ"
      },
      "execution_count": 134,
      "outputs": []
    },
    {
      "cell_type": "code",
      "source": [
        "# type_B[:,0]\n",
        "# mean_1[0]"
      ],
      "metadata": {
        "id": "vZSLIN3nmT7Y"
      },
      "execution_count": 135,
      "outputs": []
    },
    {
      "cell_type": "code",
      "source": [
        "from matplotlib.markers import MarkerStyle\n",
        "plt.plot(type_A[:,0],type_A[:,1],marker='+',linestyle='None') # 데이터 A\n",
        "plt.plot(mean_1[0],mean_1[1],'o',ls='None', color='red', markersize=12) # 데이터 A 평균\n",
        "plt.plot(type_B[:,0],type_B[:,1],'v')  # 데이터 B\n",
        "plt.plot(mean_2[0],mean_2[1],'o',color='red', ms=12)  # 데이터 B 평균"
      ],
      "metadata": {
        "colab": {
          "base_uri": "https://localhost:8080/",
          "height": 283
        },
        "id": "9e3vYG2Al-wD",
        "outputId": "bd6b5a57-5a2c-4fae-e149-b53ca7124127"
      },
      "execution_count": 136,
      "outputs": [
        {
          "output_type": "execute_result",
          "data": {
            "text/plain": [
              "[<matplotlib.lines.Line2D at 0x7f818f416890>]"
            ]
          },
          "metadata": {},
          "execution_count": 136
        },
        {
          "output_type": "display_data",
          "data": {
            "image/png": "[encoded data removed]",
            "text/plain": [
              "<Figure size 432x288 with 1 Axes>"
            ]
          },
          "metadata": {
            "needs_background": "light"
          }
        }
      ]
    },
    {
      "cell_type": "markdown",
      "source": [
        "# 결정경계"
      ],
      "metadata": {
        "id": "CgLJ97l4sTu3"
      }
    },
    {
      "cell_type": "code",
      "source": [
        "np.mean(type_A,axis=0), np.cov(type_A.T)"
      ],
      "metadata": {
        "colab": {
          "base_uri": "https://localhost:8080/"
        },
        "id": "ZzjZ2H88mZi4",
        "outputId": "75d41e3a-43e6-4146-eb43-18b97ffdbe13"
      },
      "execution_count": 100,
      "outputs": [
        {
          "output_type": "execute_result",
          "data": {
            "text/plain": [
              "(array([3.05106164, 5.13109796]), array([[2.74865298, 3.34579082],\n",
              "        [3.34579082, 4.15602497]]))"
            ]
          },
          "metadata": {},
          "execution_count": 100
        }
      ]
    },
    {
      "cell_type": "code",
      "source": [
        "np.mean(type_A,axis=0), np.cov(type_A.T)"
      ],
      "metadata": {
        "colab": {
          "base_uri": "https://localhost:8080/"
        },
        "id": "Lq0Pk1J51JLM",
        "outputId": "17b28dc3-7919-42e1-82ba-73e1747a51dd"
      },
      "execution_count": 137,
      "outputs": [
        {
          "output_type": "execute_result",
          "data": {
            "text/plain": [
              "(array([2.58316935, 4.52945943]), array([[2.37640934, 2.89394704],\n",
              "        [2.89394704, 3.60935419]]))"
            ]
          },
          "metadata": {},
          "execution_count": 137
        }
      ]
    },
    {
      "cell_type": "markdown",
      "source": [
        "## 판별함수\n",
        "$g(x) = d(x, m_2) - d(x, m_1) = 0 \\\\\n",
        "= (x-m_1)^T(x-m_1) - (x-m_2)^T(x-m_2) \\\\\n",
        "= -2(m_1-m_2)^Tx + m_1^Tm_1-m_2^T$\n"
      ],
      "metadata": {
        "id": "8OT_QgB7uxeM"
      }
    },
    {
      "cell_type": "code",
      "source": [
        ""
      ],
      "metadata": {
        "id": "DUXnn_iYshho"
      },
      "execution_count": 100,
      "outputs": []
    }
  ]
}