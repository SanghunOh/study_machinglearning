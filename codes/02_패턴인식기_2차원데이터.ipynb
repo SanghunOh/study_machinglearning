{
  "nbformat": 4,
  "nbformat_minor": 0,
  "metadata": {
    "colab": {
      "name": "02_패턴인식기_2차원데이터.ipynb",
      "provenance": [],
      "collapsed_sections": [],
      "authorship_tag": "ABX9TyNCm5Ujz1e1RoqojsFzA40U"
    },
    "kernelspec": {
      "name": "python3",
      "display_name": "Python 3"
    },
    "language_info": {
      "name": "python"
    }
  },
  "cells": [
    {
      "cell_type": "markdown",
      "source": [
        "# 가우시안 분포 따르는 2차원 데이터 생성"
      ],
      "metadata": {
        "id": "D1k3R5N8X-wg"
      }
    },
    {
      "cell_type": "code",
      "execution_count": 1,
      "metadata": {
        "id": "4CYlVg0kRoNw"
      },
      "outputs": [],
      "source": [
        "import numpy as np"
      ]
    },
    {
      "cell_type": "code",
      "source": [
        "np.random.seed(50)  # 동일한 수열 발생 위해 설정\n",
        "row_count = 50"
      ],
      "metadata": {
        "id": "OJC3Eu1SeQ3R"
      },
      "execution_count": 2,
      "outputs": []
    },
    {
      "cell_type": "markdown",
      "source": [
        "## 데이터 A 종류"
      ],
      "metadata": {
        "id": "xSjsrz2NkNx5"
      }
    },
    {
      "cell_type": "code",
      "source": [
        "mean_1 = np.array([3,5])\n",
        "mean_1, mean_1.shape, type(mean_1)"
      ],
      "metadata": {
        "colab": {
          "base_uri": "https://localhost:8080/"
        },
        "id": "e9KFZKXrexzU",
        "outputId": "1a050868-7eca-463f-cf0e-5d96f712409b"
      },
      "execution_count": 3,
      "outputs": [
        {
          "output_type": "execute_result",
          "data": {
            "text/plain": [
              "(array([3, 5]), (2,), numpy.ndarray)"
            ]
          },
          "metadata": {},
          "execution_count": 3
        }
      ]
    },
    {
      "cell_type": "code",
      "source": [
        "# sigma_1 = np.array([[1,1],[1,2]])\n",
        "sigma_1 = np.array([[3,1],[1,4]])   # 식별 위해 값 분포 임의 폭 증가\n",
        "sigma_1, sigma_1.shape, type(sigma_1)"
      ],
      "metadata": {
        "colab": {
          "base_uri": "https://localhost:8080/"
        },
        "id": "Geb4-Zhafzj5",
        "outputId": "7a484712-479c-4e50-f912-df97ef840d0f"
      },
      "execution_count": 4,
      "outputs": [
        {
          "output_type": "execute_result",
          "data": {
            "text/plain": [
              "(array([[3, 1],\n",
              "        [1, 4]]), (2, 2), numpy.ndarray)"
            ]
          },
          "metadata": {},
          "execution_count": 4
        }
      ]
    },
    {
      "cell_type": "code",
      "source": [
        "rand_std_1 = np.random.randn(row_count, 2)\n",
        "# rand_std_1, \n",
        "rand_std_1.shape, type(rand_std_1)"
      ],
      "metadata": {
        "colab": {
          "base_uri": "https://localhost:8080/"
        },
        "id": "CnPTdkLgYKlP",
        "outputId": "191bddd4-4c04-4e4f-e3a8-93c3e68e72ad"
      },
      "execution_count": 5,
      "outputs": [
        {
          "output_type": "execute_result",
          "data": {
            "text/plain": [
              "((50, 2), numpy.ndarray)"
            ]
          },
          "metadata": {},
          "execution_count": 5
        }
      ]
    },
    {
      "cell_type": "code",
      "source": [
        "# type(rand_std_1), type(sigma_1), type(mean_1)"
      ],
      "metadata": {
        "id": "owbEvbY4iv8O"
      },
      "execution_count": 6,
      "outputs": []
    },
    {
      "cell_type": "code",
      "source": [
        "# rand_std_1.shape, sigma_1.shape, mean_1.shape"
      ],
      "metadata": {
        "id": "7vlw7mfJeWFw"
      },
      "execution_count": 7,
      "outputs": []
    },
    {
      "cell_type": "code",
      "source": [
        "class_A = rand_std_1 @ np.sqrt(sigma_1) + mean_1 # 공분산 적용 분포 구하기"
      ],
      "metadata": {
        "id": "jtmeUzIshZev"
      },
      "execution_count": 8,
      "outputs": []
    },
    {
      "cell_type": "markdown",
      "source": [
        "## 데이터 \bB 종류"
      ],
      "metadata": {
        "id": "XICimAUclN5-"
      }
    },
    {
      "cell_type": "code",
      "source": [
        "mean_2 = np.array([5,3])\n",
        "# sigma_2 = np.array([[1,1],[1,2]])\n",
        "sigma_2 = np.array([[3,1],[1,4]])   # 식별 위해 값 분포 임의 폭 증가\n",
        "rand_std_2 = np.random.randn(row_count, 2)\n",
        "class_B = rand_std_2 @ np.sqrt(sigma_2) + mean_2\n",
        "class_B.shape"
      ],
      "metadata": {
        "colab": {
          "base_uri": "https://localhost:8080/"
        },
        "id": "O0XIJUdFi687",
        "outputId": "4109cbc0-78ef-4dfe-a32d-12b2df08b510"
      },
      "execution_count": 9,
      "outputs": [
        {
          "output_type": "execute_result",
          "data": {
            "text/plain": [
              "(50, 2)"
            ]
          },
          "metadata": {},
          "execution_count": 9
        }
      ]
    },
    {
      "cell_type": "markdown",
      "source": [
        "## Plot 그리기"
      ],
      "metadata": {
        "id": "ZybtYKCAl1In"
      }
    },
    {
      "cell_type": "code",
      "source": [
        "import matplotlib.pyplot as plt"
      ],
      "metadata": {
        "id": "u-76ZhRVlzhJ"
      },
      "execution_count": 10,
      "outputs": []
    },
    {
      "cell_type": "code",
      "source": [
        "# class_B[:,0]\n",
        "# mean_1[0]"
      ],
      "metadata": {
        "id": "vZSLIN3nmT7Y"
      },
      "execution_count": 11,
      "outputs": []
    },
    {
      "cell_type": "code",
      "source": [
        "from matplotlib.markers import MarkerStyle\n",
        "plt.plot(class_A[:,0],class_A[:,1],marker='+',linestyle='None') # 데이터 A\n",
        "plt.plot(mean_1[0],mean_1[1],'o',ls='None', color='red', markersize=12) # 데이터 A 평균\n",
        "plt.plot(class_B[:,0],class_B[:,1],'v')  # 데이터 B\n",
        "plt.plot(mean_2[0],mean_2[1],'o',color='red', ms=12)  # 데이터 B 평균"
      ],
      "metadata": {
        "colab": {
          "base_uri": "https://localhost:8080/",
          "height": 283
        },
        "id": "9e3vYG2Al-wD",
        "outputId": "88744a3a-8911-4ff8-8134-a9a752b4da5f"
      },
      "execution_count": 12,
      "outputs": [
        {
          "output_type": "execute_result",
          "data": {
            "text/plain": [
              "[<matplotlib.lines.Line2D at 0x7f20c9131990>]"
            ]
          },
          "metadata": {},
          "execution_count": 12
        },
        {
          "output_type": "display_data",
          "data": {
            "image/png": "[encoded data removed]",
            "text/plain": [
              "<Figure size 432x288 with 1 Axes>"
            ]
          },
          "metadata": {
            "needs_background": "light"
          }
        }
      ]
    },
    {
      "cell_type": "markdown",
      "source": [
        "# 결정경계 : 새로운 값 판단 위한 분기선\n",
        "- 여기선 각 데이터 class 평균과 거리 사용 측정 방식"
      ],
      "metadata": {
        "id": "CgLJ97l4sTu3"
      }
    },
    {
      "cell_type": "code",
      "source": [
        "class_A_mean = np.mean(class_A,axis=0)\n",
        "class_A_cov = np.cov(class_A.T)\n",
        "class_A_mean, class_A_cov"
      ],
      "metadata": {
        "colab": {
          "base_uri": "https://localhost:8080/"
        },
        "id": "ZzjZ2H88mZi4",
        "outputId": "08c0073c-c1d7-44fa-d34b-5f079e819e0d"
      },
      "execution_count": 13,
      "outputs": [
        {
          "output_type": "execute_result",
          "data": {
            "text/plain": [
              "(array([3.20902787, 4.98402174]), array([[3.96764102, 3.83332394],\n",
              "        [3.83332394, 5.72462042]]))"
            ]
          },
          "metadata": {},
          "execution_count": 13
        }
      ]
    },
    {
      "cell_type": "code",
      "source": [
        "class_B_mean = np.mean(class_B,axis=0)\n",
        "class_B_cov = np.cov(class_B.T)\n",
        "class_A_mean, class_A_cov"
      ],
      "metadata": {
        "colab": {
          "base_uri": "https://localhost:8080/"
        },
        "id": "Lq0Pk1J51JLM",
        "outputId": "6989d5e8-7170-48c8-af5c-ca9181235997"
      },
      "execution_count": 14,
      "outputs": [
        {
          "output_type": "execute_result",
          "data": {
            "text/plain": [
              "(array([3.20902787, 4.98402174]), array([[3.96764102, 3.83332394],\n",
              "        [3.83332394, 5.72462042]]))"
            ]
          },
          "metadata": {},
          "execution_count": 14
        }
      ]
    },
    {
      "cell_type": "code",
      "source": [
        "# 예측할려고 하는 새로운 값\n",
        "new_data = np.array([3,1])\n",
        "new_data, type(new_data), new_data.shape, new_data[0],new_data[1],"
      ],
      "metadata": {
        "id": "J3ohafaVMiUd",
        "outputId": "4549da07-8d62-457b-a592-066fb68eb109",
        "colab": {
          "base_uri": "https://localhost:8080/"
        }
      },
      "execution_count": 15,
      "outputs": [
        {
          "output_type": "execute_result",
          "data": {
            "text/plain": [
              "(array([3, 1]), numpy.ndarray, (2,), 3, 1)"
            ]
          },
          "metadata": {},
          "execution_count": 15
        }
      ]
    },
    {
      "cell_type": "markdown",
      "source": [
        "## 그래프로 판단\n"
      ],
      "metadata": {
        "id": "V-kdmBOkRars"
      }
    },
    {
      "cell_type": "code",
      "source": [
        "plt.plot(range(11))\n",
        "plt.plot(class_A_mean[0],class_A_mean[1],'o',color='red', ms=12)  # 데이터 A 평균\n",
        "plt.plot(class_B_mean[0],class_B_mean[1],'o',color='red', ms=12)  # 데이터 B 평균\n",
        "plt.plot(new_data[0],new_data[1],'x',color='red', ms=12)  # 데이터 B 평균\n",
        "plt.show()"
      ],
      "metadata": {
        "id": "yB8QVp7eOYUD",
        "outputId": "f31cdbf0-4baa-48c6-bfd9-0942e0463492",
        "colab": {
          "base_uri": "https://localhost:8080/",
          "height": 265
        }
      },
      "execution_count": 16,
      "outputs": [
        {
          "output_type": "display_data",
          "data": {
            "image/png": "[encoded data removed]",
            "text/plain": [
              "<Figure size 432x288 with 1 Axes>"
            ]
          },
          "metadata": {
            "needs_background": "light"
          }
        }
      ]
    },
    {
      "cell_type": "markdown",
      "source": [
        "### 판별함수(discriminant function)로 판단\n",
        "$\n",
        "g(x) = d(x, m_2) - d(x, m_1) = 0 \\\\\n",
        "= (x-m_1)^T(x-m_1) - (x-m_2)^T(x-m_2) \\\\\n",
        "= -2(m_1-m_2)^Tx + m_1^Tm_1-m_2^T\n",
        "$\n",
        "### 클래스 라벨\n",
        "$\n",
        "y(x) = \\left\\{\n",
        "        \\begin{array}{cl}\n",
        "        1 & if g(x) > 0 >> 데이터 A\\\\\n",
        "        -1 & if g(x) < 0 >> 데이터 B \n",
        "        \\end{array}\n",
        "        \\right.\n",
        "$"
      ],
      "metadata": {
        "id": "vypYu9r9RvYN"
      }
    },
    {
      "cell_type": "markdown",
      "source": [
        "$g(x) = -2(m_1-m_2)^Tx + m_1^Tm_1-m_2^T $ -> 정확히 못 풀었음."
      ],
      "metadata": {
        "id": "46Up2SRzVKtK"
      }
    },
    {
      "cell_type": "code",
      "source": [
        "# first_vec = (class_A_mean - class_B_mean).T \n",
        "# first_vec, type(first_vec), first_vec.shape"
      ],
      "metadata": {
        "id": "DUXnn_iYshho",
        "outputId": "d12c8cae-ecd0-473c-e4b9-972c8a9cdd14",
        "colab": {
          "base_uri": "https://localhost:8080/"
        }
      },
      "execution_count": 17,
      "outputs": [
        {
          "output_type": "execute_result",
          "data": {
            "text/plain": [
              "(array([-1.24592152,  2.55790805]), numpy.ndarray, (2,))"
            ]
          },
          "metadata": {},
          "execution_count": 17
        }
      ]
    },
    {
      "cell_type": "code",
      "source": [
        "# second_vec = (class_A_mean.T @ class_A_mean) - class_A_mean.T\n",
        "# second_vec, type(second_vec), second_vec.shape"
      ],
      "metadata": {
        "id": "qxnX-HpcI9ND",
        "outputId": "3bb4e29f-72fc-4be3-a627-9fb2c372cc51",
        "colab": {
          "base_uri": "https://localhost:8080/"
        }
      },
      "execution_count": 18,
      "outputs": [
        {
          "output_type": "execute_result",
          "data": {
            "text/plain": [
              "(array([31.92930467, 30.1543108 ]), numpy.ndarray, (2,))"
            ]
          },
          "metadata": {},
          "execution_count": 18
        }
      ]
    },
    {
      "cell_type": "code",
      "source": [
        "# -2*first_vec@new_data + second_vec"
      ],
      "metadata": {
        "id": "9toGdvO5OYLa",
        "outputId": "54533beb-9671-4e84-d6ad-6bb2a0bd8191",
        "colab": {
          "base_uri": "https://localhost:8080/"
        }
      },
      "execution_count": 20,
      "outputs": [
        {
          "output_type": "execute_result",
          "data": {
            "text/plain": [
              "array([34.28901771, 32.51402384])"
            ]
          },
          "metadata": {},
          "execution_count": 20
        }
      ]
    },
    {
      "cell_type": "markdown",
      "source": [
        "$𝑔(𝑥)=𝑑(𝑥,𝑚2)−𝑑(𝑥,𝑚1)$"
      ],
      "metadata": {
        "id": "1BR9F_P4Uww_"
      }
    },
    {
      "cell_type": "code",
      "source": [
        "np.linalg.norm(class_B_mean-new_data) - np.linalg.norm(class_A_mean-new_data) # class B"
      ],
      "metadata": {
        "id": "fty9nbQrTONW",
        "outputId": "c52b1b32-3c26-4489-b3ec-7506790c5863",
        "colab": {
          "base_uri": "https://localhost:8080/"
        }
      },
      "execution_count": 23,
      "outputs": [
        {
          "output_type": "execute_result",
          "data": {
            "text/plain": [
              "-1.952180179204856"
            ]
          },
          "metadata": {},
          "execution_count": 23
        }
      ]
    },
    {
      "cell_type": "code",
      "source": [
        "# 예측할려고 하는 새로운 값\n",
        "new_data = np.array([8,9])\n",
        "new_data, type(new_data), new_data.shape, new_data[0],new_data[1],"
      ],
      "metadata": {
        "id": "hygMVFMFUpTl",
        "outputId": "4c9c4dfe-1fa2-4823-f06f-bae4dfb3d55d",
        "colab": {
          "base_uri": "https://localhost:8080/"
        }
      },
      "execution_count": 24,
      "outputs": [
        {
          "output_type": "execute_result",
          "data": {
            "text/plain": [
              "(array([8, 9]), numpy.ndarray, (2,), 8, 9)"
            ]
          },
          "metadata": {},
          "execution_count": 24
        }
      ]
    },
    {
      "cell_type": "code",
      "source": [
        "np.linalg.norm(class_B_mean-new_data) - np.linalg.norm(class_A_mean-new_data) # class A"
      ],
      "metadata": {
        "id": "CmilXRAEVru-",
        "outputId": "c8e9ee15-d6b3-4c8c-d534-6b622cbfe131",
        "colab": {
          "base_uri": "https://localhost:8080/"
        }
      },
      "execution_count": 26,
      "outputs": [
        {
          "output_type": "execute_result",
          "data": {
            "text/plain": [
              "1.2173067711404641"
            ]
          },
          "metadata": {},
          "execution_count": 26
        }
      ]
    },
    {
      "cell_type": "code",
      "source": [
        ""
      ],
      "metadata": {
        "id": "NYuGZih4VsX0"
      },
      "execution_count": null,
      "outputs": []
    }
  ]
}