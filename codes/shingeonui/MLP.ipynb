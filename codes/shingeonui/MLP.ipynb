{
  "nbformat": 4,
  "nbformat_minor": 0,
  "metadata": {
    "colab": {
      "name": "Untitled0.ipynb",
      "provenance": [],
      "collapsed_sections": [],
      "authorship_tag": "ABX9TyNsckdLtsD+78ujRA8cBbmQ",
      "include_colab_link": true
    },
    "kernelspec": {
      "name": "python3",
      "display_name": "Python 3"
    },
    "language_info": {
      "name": "python"
    }
  },
  "cells": [
    {
      "cell_type": "markdown",
      "metadata": {
        "id": "view-in-github",
        "colab_type": "text"
      },
      "source": [
        "<a href=\"https://colab.research.google.com/github/SanghunOh/study_machinglearning/blob/main/codes/shingeonui/MLP.ipynb\" target=\"_parent\"><img src=\"https://colab.research.google.com/assets/colab-badge.svg\" alt=\"Open In Colab\"/></a>"
      ]
    },
    {
      "cell_type": "code",
      "execution_count": 226,
      "metadata": {
        "colab": {
          "base_uri": "https://localhost:8080/",
          "height": 269
        },
        "id": "xWRu6glYKwhf",
        "outputId": "4d637c5d-81d6-4117-9bc9-318aa3df4d2d"
      },
      "outputs": [
        {
          "output_type": "display_data",
          "data": {
            "text/plain": [
              "<Figure size 432x288 with 1 Axes>"
            ],
            "image/png": "[encoded data removed]"
          },
          "metadata": {
            "needs_background": "light"
          }
        }
      ],
      "source": [
        "import matplotlib.pyplot as plt\n",
        "from matplotlib.markers import MarkerStyle\n",
        "import numpy as np\n",
        "\n",
        "np.random.seed(1)\n",
        "N = 100\n",
        "\n",
        "mean_c1 = np.array([0,0])\n",
        "cov_c1 = np.array([[7,2], [2,7]])\n",
        "rand_std_c1 = np.random.randn(N, 2)\n",
        "class_c1 = rand_std_c1@np.sqrt(cov_c1)+mean_c1\n",
        "rows, columns = class_c1.shape\n",
        "class_label_list_1 = []\n",
        "for i in range(rows):\n",
        "  class_label_list_1.append([1,-1])\n",
        "class_1_label = np.array(class_label_list_1)\n",
        "\n",
        "mean_c2 = np.array([0,5])\n",
        "cov_c2 = np.array([[7,4], [2,7]])\n",
        "rand_std_c2 = np.random.randn(N, 2)\n",
        "class_c2 = rand_std_c2@np.sqrt(cov_c2)+mean_c2\n",
        "rows, columns = class_c2.shape\n",
        "class_label_list_2 = []\n",
        "for i in range(rows):\n",
        "  class_label_list_2.append([-1,1])\n",
        "class_2_label = np.array(class_label_list_2)\n",
        "\n",
        "plt.xlim([-10,10])\n",
        "plt.ylim([-5, 10])\n",
        "line1 = plt.scatter(class_c1[:,0], class_c1[:,1], s=10, c=\"g\", label=\"class 1\")\n",
        "line2 = plt.scatter(class_c2[:,0], class_c2[:,1], s=10, c=\"b\", label=\"class 2\")\n",
        "plt.legend()\n",
        "plt.show()"
      ]
    },
    {
      "cell_type": "code",
      "source": [
        "#함수 설정\n",
        "\n",
        "def d_tanh(a):\n",
        "  return (1-a)*(1+a)\n",
        "\n",
        "def MLPtest(Xtst, Ttst, w, w0, v, v0):\n",
        "  rows, columns = Xtst.shape\n",
        "\n",
        "  E = np.zeros(N*2)\n",
        "  Ytst = np.zeros((N*2,2))\n",
        "\n",
        "  for i in range(N):\n",
        "    x = Xtst[i,:]\n",
        "    t = Ttst[i,:]\n",
        "    uh=x@w+w0\n",
        "    z=np.tanh(uh)\n",
        "    uo=z@v+v0\n",
        "    y = np.tanh(uo)\n",
        "    \n",
        "    e = y-t\n",
        "    \n",
        "    E[i] = e@e.T\n",
        "\n",
        "    if y[0,0]>y[0,1]:\n",
        "      Ytst[i,:] = [1,-1]\n",
        "    else:\n",
        "      Ytst[i,:] = [-1,1]\n",
        "  \n",
        "  SEtst = sum(np.power(E,2))/N        #평균제곱 오차 계산\n",
        "  diffTY = sum(np.abs(Ttst-Ytst))/2    \n",
        "\n",
        "  CEtst = diffTY[0]/N                 # 분류 오차 계산\n",
        "  \n",
        "  return [SEtst,CEtst]\n",
        "\n"
      ],
      "metadata": {
        "id": "Hi1OWqQ2nbfT"
      },
      "execution_count": 227,
      "outputs": []
    },
    {
      "cell_type": "code",
      "source": [
        "data_all = np.vstack((class_c1, class_c2))\n",
        "class_label = np.vstack((class_1_label, class_2_label))     #클래스 데이터\n",
        "\n",
        "rows, columns = data_all.shape\n",
        "data_num = rows                          # 데이터 수\n",
        "\n",
        "INP = 2                           # 입력 뉴런 수\n",
        "HID = 5                           # 은닉 뉴런 수\n",
        "OUT = 2                           # 출력 뉴런 수\n",
        "\n",
        "np.random.seed(2)\n",
        "w = np.random.rand(INP, HID)*0.4 - 0.2           # 입력 -> 은닉 뉴런 가중치 초기화\n",
        "w0 = np.random.rand(1, HID)*0.4 - 0.2            # 입력 -> 은닉 뉴런 bias 가중치 계산\n",
        "v = np.random.rand(HID, OUT)*0.4 - 0.2           # 은닉 -> 출력 뉴런 가중치 초기화\n",
        "v0 = np.random.rand(1, OUT)*0.4 - 0.2            # 은닉 -> 출력 뉴런 bias 가중치 계산\n",
        "\n",
        "eta = 0.001                       # 학습률 설정\n",
        "Mstep = 5000                      # 반복횟수 설정\n",
        "Elimit = 0.03                     # 오차 한계 설정\n",
        "\n",
        "Serr = []\n",
        "Cerr = []\n",
        "Step = []\n",
        "\n",
        "print(w.shape, w0.shape, v.shape, v0.shape)\n"
      ],
      "metadata": {
        "colab": {
          "base_uri": "https://localhost:8080/"
        },
        "id": "9MxqWckKLh2z",
        "outputId": "afe64d65-e787-4076-b2b7-1100f4bf6b3f"
      },
      "execution_count": 228,
      "outputs": [
        {
          "output_type": "stream",
          "name": "stdout",
          "text": [
            "(2, 5) (1, 5) (5, 2) (1, 2)\n"
          ]
        }
      ]
    },
    {
      "cell_type": "code",
      "source": [
        "for j in range(Mstep):\n",
        "  for i in range(N):\n",
        "    x = data_all[i,:]                    \n",
        "    t = class_label[i,:]\n",
        "    \n",
        "    uh =x@w+w0                         # 은닉뉴런 가중합 계산\n",
        "    z = np.tanh(uh)                     # 하이퍼볼릭 탄젠트 함수로 은닉뉴런의 출력 계산\n",
        "    \n",
        "    uo = z@v+v0                         # 츌력 뉴런의 가중합 계산\n",
        "    y = np.tanh(uo)                     # 하이퍼볼릭 탄젠트 함수로 출력 뉴런의 출력 계산\n",
        "\n",
        "    e = y - t                           # 신경망 출력과 목표 출력의 차 계산\n",
        "    \n",
        "    # e*e.T       ???    \n",
        "    delta_v = d_tanh(y)*e\n",
        "    delta_w = d_tanh(z)*(delta_v@v.T)\n",
        "\n",
        "    #print(v.shape,y.shape, z.shape, delta_v.shape, e.shape)\n",
        "    v = v-eta*(delta_v.T@z).T              # 출력 뉴런의 가중치 수정\n",
        "    v0 = v0-eta*(delta_v)                 # 출력 뉴런의 bias 가중치 수정\n",
        "\n",
        "    w = w-eta*(delta_w.T@x.reshape(1,2)).T\n",
        "    w0 = w0-eta*(delta_w)\n",
        "  [serr, cerr]= MLPtest(data_all,class_label,w,w0,v,v0)\n",
        "  print(j, serr, cerr)\n",
        "    \n",
        "  Serr.append(serr) \n",
        "  Cerr.append(cerr)\n",
        "  Step.append(j)\n",
        "  if serr<Elimit:\n",
        "    break\n",
        "numpy_Serr = np.array(Serr)\n",
        "numpy_Cerr = np.array(Cerr)\n",
        "numpy_Step = np.array(Step)\n",
        "\n",
        "print(numpy_Serr.shape, numpy_Cerr.shape)\n",
        "plt.plot(numpy_Step.reshape(-1), numpy_Serr.reshape(-1), '-.', color='g', label='Serr')\n",
        "plt.plot(numpy_Step.reshape(-1), numpy_Cerr.reshape(-1), '-.', color='r', label='Cerr')\n",
        "plt.legend(loc='upper right', ncol=4)\n",
        "plt.show()  "
      ],
      "metadata": {
        "colab": {
          "base_uri": "https://localhost:8080/",
          "height": 646
        },
        "id": "qE9dEhK3NUPo",
        "outputId": "4573dd28-9d47-4974-cea5-cf81e9821a87"
      },
      "execution_count": 229,
      "outputs": [
        {
          "output_type": "stream",
          "name": "stdout",
          "text": [
            "0 1.8371469229041926 0.5\n",
            "1 1.2500425171320046 0.5\n",
            "2 0.872732338623115 0.5\n",
            "3 0.6255528656963136 0.5\n",
            "4 0.4597801124648842 0.5\n",
            "5 0.3458437323920683 0.5\n",
            "6 0.2656427185352662 0.5\n",
            "7 0.20790800441345536 0.5\n",
            "8 0.1654778256968292 0.5\n",
            "9 0.1337005958710051 0.5\n",
            "10 0.10948926399313703 0.5\n",
            "11 0.09075230258717579 0.5\n",
            "12 0.07604480023137394 0.5\n",
            "13 0.06435024753874509 0.5\n",
            "14 0.0549413513377033 0.5\n",
            "15 0.04728955019101299 0.5\n",
            "16 0.04100511349368183 0.5\n",
            "17 0.03579680124977799 0.5\n",
            "18 0.03144425553291346 0.5\n",
            "19 0.027778817660580483 0.5\n",
            "(20,) (20,)\n"
          ]
        },
        {
          "output_type": "display_data",
          "data": {
            "text/plain": [
              "<Figure size 432x288 with 1 Axes>"
            ],
            "image/png": "[encoded data removed]"
          },
          "metadata": {
            "needs_background": "light"
          }
        }
      ]
    }
  ]
}