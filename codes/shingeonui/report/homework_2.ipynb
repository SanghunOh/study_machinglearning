{
  "cells": [
    {
      "cell_type": "markdown",
      "metadata": {
        "id": "view-in-github",
        "colab_type": "text"
      },
      "source": [
        "<a href=\"https://colab.research.google.com/github/SanghunOh/study_machinglearning/blob/main/codes/shingeonui/report/homework_2.ipynb\" target=\"_parent\"><img src=\"https://colab.research.google.com/assets/colab-badge.svg\" alt=\"Open In Colab\"/></a>"
      ]
    },
    {
      "cell_type": "markdown",
      "metadata": {
        "id": "6Nt_vcu2uWwR"
      },
      "source": [
        "Q1_1) 2차원 데이터가 100개로 이뤄진 C1,C2 생성, 2차원 평면상에 산점도 표시 \n",
        "C1: 평균=[0;0], 공분산=[4,0;0,4]\n",
        "C2: 평균=[3;5], 공분산=[3,0;0,5]"
      ]
    },
    {
      "cell_type": "code",
      "execution_count": null,
      "metadata": {
        "id": "Mzu1qUU2uWwU",
        "outputId": "5bfd5d4d-aa16-4163-e5eb-9d0d7cbd580f"
      },
      "outputs": [
        {
          "data": {
            "image/png": "[encoded data removed]",
            "text/plain": [
              "<Figure size 432x288 with 1 Axes>"
            ]
          },
          "metadata": {
            "needs_background": "light"
          },
          "output_type": "display_data"
        }
      ],
      "source": [
        "import matplotlib.pyplot as plt\n",
        "from matplotlib.markers import MarkerStyle\n",
        "import numpy as np\n",
        "\n",
        "np.random.seed(2)\n",
        "row_count = 100\n",
        "\n",
        "mean_c1 = np.array([0,0])                                   # class c1 평균행렬\n",
        "cov_c1 = np.array([[4,0],[0,4]])                            # class c1 공분산행렬\n",
        "rand_std_c1 = np.random.randn(row_count, 2)                 # class c1 난수 \n",
        "class_c1 = rand_std_c1 @ np.sqrt(cov_c1) + mean_c1          # class c1 데이터\n",
        "\n",
        "\n",
        "mean_c2 = np.array([3,5])                                   # class c2 평균행렬\n",
        "cov_c2 = np.array([[3,0],[0,5]])                            # class c2 공분산행렬\n",
        "rand_std_c2 = np.random.randn(row_count, 2)                 # class c2 난수\n",
        "class_c2 = rand_std_c2 @ np.sqrt(cov_c2) + mean_c2          # class c2 데이터\n",
        "\n",
        "mean_c1,cov_c1,class_c1.shape\n",
        "mean_c2,cov_c2,class_c2.shape\n",
        "\n",
        "line1 = plt.plot(class_c1[:,0], class_c1[:,1], marker='+', linestyle='None')\n",
        "line2 = plt.plot(class_c2[:,0], class_c2[:,1], marker='^', linestyle='None')"
      ]
    },
    {
      "cell_type": "markdown",
      "metadata": {
        "id": "UarmRKyfuWwX"
      },
      "source": [
        "Q1_2) 새로운 데이터 x = [1;2]에 대해\n",
        " 1) 클래스 공통 공분산행렬을 가정한 경우\n",
        " 2) 일반적인 공분산행렬을 가정한 경우\n",
        "각각의 판별함수에 의해 어디에 속하는지"
      ]
    },
    {
      "cell_type": "code",
      "execution_count": null,
      "metadata": {
        "id": "F2n2IVFPuWwY",
        "outputId": "11290f5d-bdc0-4efe-905a-ea3a2acac17a"
      },
      "outputs": [
        {
          "name": "stdout",
          "output_type": "stream",
          "text": [
            "1.0788598239500367 에 따라 새로운 데이터 [1 2] 는 class_c1에 속한다.\n",
            "4.202368615472042 에 따라 새로운 데이터 [1 2] 는 class_c1에 속한다.\n"
          ]
        }
      ],
      "source": [
        "k = 2 # 클래스 숫자\n",
        "new_data = np.array([1,2])\n",
        "\n",
        "\n",
        "sample_mean_c1 = np.mean(class_c1,axis=0).transpose()      #class c1의 표본 평균 행렬\n",
        "sample_cov_c1 = np.cov(class_c1.T).transpose()             #class c1의 공분산 행렬\n",
        "\n",
        "sample_mean_c2 = np.mean(class_c2,axis=0)    #class c2의 표본 평균 행렬\n",
        "sample_cov_c2 = np.cov(class_c2.T)           #class c2의 공분산 행렬\n",
        "\n",
        "a_mean = (sample_cov_c1 +sample_cov_c2)/k    #클래스별 표본 공분산들의 전체 평균\n",
        "\n",
        "#1) 클래스 공통 공분산행렬을 가정한 판별함수\n",
        "d_1 = (new_data-sample_mean_c1).T@np.linalg.inv(a_mean)@(new_data-sample_mean_c1)\n",
        "d_2 = (new_data-sample_mean_c2).T@np.linalg.inv(a_mean)@(new_data-sample_mean_c2)\n",
        "if d_1 < d_2:\n",
        "    print(d_1,\"에 따라 새로운 데이터\", new_data,\"는 class_c1에 속한다.\")\n",
        "elif d_1>d_2:\n",
        "    print(d_2,\"에 따라 새로운 데이터\", new_data,\"는 class_c2에 속한다.\")\n",
        "else:    \n",
        "    print(\"새로운 데이터의 분류에 실패했다.\")\n",
        "\n",
        "#2) 일반적인 공분산행렬을 가정한 판별함수\n",
        "d_1 = (new_data-sample_mean_c1).T@np.linalg.inv(sample_cov_c1)@(new_data-sample_mean_c1)+np.log(np.linalg.det(sample_cov_c1))\n",
        "d_2 = (new_data-sample_mean_c2).T@np.linalg.inv(sample_cov_c2)@(new_data-sample_mean_c2)+np.log(np.linalg.det(sample_cov_c2))\n",
        "\n",
        "if d_1 < d_2:\n",
        "    print(d_1,\"에 따라 새로운 데이터\", new_data,\"는 class_c1에 속한다.\")\n",
        "elif d_1>d_2:\n",
        "    print(d_2,\"에 따라 새로운 데이터\", new_data,\"는 class_c2에 속한다.\")\n",
        "else:    \n",
        "    print(\"새로운 데이터의 분류에 실패했다.\")"
      ]
    },
    {
      "cell_type": "markdown",
      "metadata": {
        "id": "Bi_TgYAGuWwZ"
      },
      "source": [
        "Q2) 각 클래스당 데이터 50개씩 총 3개의 클래스로 이뤄진 iris 데이터 load 및 K-근접이웃 분류기를 이용하여 iris 데이터 분류.\n",
        "\n",
        "조건 1: 데이터 간 거리 계산은 유클리디안 거리 사용\n",
        "\n",
        "조건 2: K 값을 1, 5, 10, 15, 20, 25, 30 각각 수행"
      ]
    },
    {
      "cell_type": "code",
      "execution_count": null,
      "metadata": {
        "id": "PTlg9VtIuWwa",
        "outputId": "b810ad41-9ecf-44c0-cca0-de37358c67d1"
      },
      "outputs": [
        {
          "name": "stdout",
          "output_type": "stream",
          "text": [
            "1 의 Error rate:  4.0 %\n",
            "5 의 Error rate:  3.3333333333333335 %\n",
            "10 의 Error rate:  3.3333333333333335 %\n",
            "15 의 Error rate:  2.666666666666667 %\n",
            "20 의 Error rate:  2.0 %\n",
            "25 의 Error rate:  3.3333333333333335 %\n",
            "30 의 Error rate:  5.333333333333334 %\n"
          ]
        }
      ],
      "source": [
        "import scipy.io as sc\n",
        "import math\n",
        "mat = sc.loadmat(\"iris/matlab_iris_shuffle.mat\")            #.mat 데이터 로드\n",
        "\n",
        "class_temp_a = []\n",
        "class_temp_b = []\n",
        "class_temp_c = []\n",
        "\n",
        "iris_data_row = mat['iris_data'].shape[0]               \n",
        "iris_data_colum = mat['iris_data'].shape[1]\n",
        "\n",
        "for i in range(iris_data_row):                              #.mat 데이터를 Python에서 간단히 쓸 수 있도록 정리\n",
        "    class_sel = math.floor(mat['iris_class'][i][0])\n",
        "    data_array_list = []\n",
        "    for j in range(iris_data_colum):\n",
        "        data_array_list.append(float(mat['iris_data'][i][j]))\n",
        "    if class_sel == 1:\n",
        "        class_temp_a.append(data_array_list)\n",
        "    elif class_sel == 2:\n",
        "        class_temp_b.append(data_array_list)\n",
        "    elif class_sel == 3:\n",
        "        class_temp_c.append(data_array_list)    \n",
        "\n",
        "class_a = np.array(class_temp_a)                            #.mat에서 데이터의 클래스가 1인 경우 class_a로 분류\n",
        "class_b = np.array(class_temp_b)                            #.mat에서 데이터의 클래스가 2인 경우 class_b로 분류\n",
        "class_c = np.array(class_temp_c)                            #.mat에서 데이터의 클래스가 3인 경우 class_c로 분류\n",
        "\n",
        "class_vstack = np.vstack([class_a, class_b, class_c])       #교재와 같은 알고리즘을 사용하기 위해 각 클래스를 하나의 행렬로 합침\n",
        "\n",
        "k_list = [1,5,10,15,20,25,30]                               #문제의 조건에 따르기 위해 K 값을 리스트로 만듦\n",
        "for k in range(len(k_list)):\n",
        "    Etrain = 0\n",
        "    for i in range(len(class_vstack)):\n",
        "        distance_list = []\n",
        "        for j in range(len(class_vstack)):\n",
        "            if i == j :                                                         #같은 데이터의 거리를 비교하는 경우를 제외\n",
        "                continue\n",
        "            distance = np.linalg.norm(class_vstack[i]-class_vstack[j],2)        #거리 함수는 유클리드 거리 사용\n",
        "            distance_list.append([distance,j])\n",
        "    \n",
        "        distance_list.sort(key=lambda x:x[0])                   #K값 만큼 인접한 순위를 뽑기 위해 정렬\n",
        "        count = [0,0,0]                                         #투표 진행\n",
        "        for j in range(k_list[k]):\n",
        "            if distance_list[j][1] < len(class_a):\n",
        "                count[0] = count[0]+1\n",
        "            elif distance_list[j][1] >= len(class_a) and distance_list[j][1] < len(class_a)+len(class_b):\n",
        "                count[1] = count[1]+1\n",
        "            elif distance_list[j][1] >= len(class_a)+len(class_b) and distance_list[j][1] < len(class_a)+len(class_b)+len(class_c):\n",
        "                count[2] = count[2]+1\n",
        "        \n",
        "        tmp = max(count)\n",
        "        index = count.index(tmp)                               #투표 공개\n",
        "       \n",
        "        if index == 0:                                         #클래스가 class_a로 분류되었으나, 실제 class_a에 속하지 않은 경우\n",
        "            if not(i <len(class_a)) :\n",
        "                Etrain = Etrain+1\n",
        "        elif index ==1:                                        #클래스가 class_b로 분류되었으나, 실제 class_b에 속하지 않은 경우\n",
        "            if not( i >= len(class_a) and i < len(class_a)+len(class_b)):\n",
        "                Etrain = Etrain+1\n",
        "        else:                                                  #클래스가 class_c로 분류되었으나, 실제 class_c에 속하지 않은 경우\n",
        "            if not( i >= len(class_a)+len(class_b) and i < len(class_a)+len(class_b)+len(class_c)):\n",
        "                Etrain = Etrain+1\n",
        "    \n",
        "    Error_rate = Etrain/(class_vstack.shape[0])\n",
        "    print(k_list[k],\"의 Error rate: \",Error_rate*100, \"%\")"
      ]
    },
    {
      "cell_type": "markdown",
      "metadata": {
        "id": "cbmbAQHRuWwc"
      },
      "source": [
        "결론: 분류를 수행한 결과, K 값이 20일 때 학습 오류가 가장 적다. "
      ]
    }
  ],
  "metadata": {
    "interpreter": {
      "hash": "8a348568804044dd86bd8a4700035094c83ad0177db54fd7e79c21dfa067c005"
    },
    "kernelspec": {
      "display_name": "Python 3.9.10 64-bit",
      "language": "python",
      "name": "python3"
    },
    "language_info": {
      "codemirror_mode": {
        "name": "ipython",
        "version": 3
      },
      "file_extension": ".py",
      "mimetype": "text/x-python",
      "name": "python",
      "nbconvert_exporter": "python",
      "pygments_lexer": "ipython3",
      "version": "3.9.10"
    },
    "orig_nbformat": 4,
    "colab": {
      "name": "homework_2.ipynb",
      "provenance": [],
      "include_colab_link": true
    }
  },
  "nbformat": 4,
  "nbformat_minor": 0
}