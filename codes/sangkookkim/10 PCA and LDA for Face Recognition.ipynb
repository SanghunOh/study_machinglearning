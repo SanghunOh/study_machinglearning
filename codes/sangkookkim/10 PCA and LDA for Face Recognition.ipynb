{
 "cells": [
  {
   "cell_type": "code",
   "execution_count": 1,
   "id": "tribal-marsh",
   "metadata": {},
   "outputs": [
    {
     "data": {
      "text/plain": [
       "(150, 300, 2000, 50)"
      ]
     },
     "execution_count": 1,
     "metadata": {},
     "output_type": "execute_result"
    }
   ],
   "source": [
    "import numpy as np\n",
    "import matplotlib.pyplot as plt\n",
    "import scipy.io as sio\n",
    "\n",
    "arr = sio.loadmat('data_person_trim.mat')\n",
    "train_trim = arr['train_trim']\n",
    "test_trim = arr['test_trim']\n",
    "\n",
    "Ntrn = len(train_trim)       #Ntrn=size(train_trim,1)  # 학습데이터의 수\n",
    "Ntst = len(test_trim)        #Ntst=size(test_trim,1)   # 테스트데이터의 수\n",
    "Isize = test_trim.shape[1]   #Isize=size(train_trim,2) # 입력벡터의 차원\n",
    "Mcls = 50                   #Mcls = 50                # 클래스의 수\n",
    "\n",
    "Ntrn, Ntst, Isize, Mcls\n"
   ]
  },
  {
   "cell_type": "code",
   "execution_count": 2,
   "id": "passing-speaker",
   "metadata": {},
   "outputs": [
    {
     "data": {
      "text/plain": [
       "((150, 150), (150, 150), (2000, 150))"
      ]
     },
     "execution_count": 2,
     "metadata": {},
     "output_type": "execute_result"
    }
   ],
   "source": [
    "# PCA에 의한 특징 추출\n",
    "\n",
    "X=train_trim;                            # 학습데이터 행렬\n",
    "meanfig= np.mean(X, axis=0) \n",
    "M=np.tile(meanfig,(len(X),1))            # 평균벡터를 데이터 수만큼 반복한 행렬\n",
    "S= np.array(X-M) @ np.transpose(X-M) / Ntrn  # 고유치분석을 위한 행렬을 계산\n",
    "V,D,U=np.linalg.svd(S)                   # 고유치분석\n",
    "W=np.dot(np.transpose(X-M), V);          # 고유벡터 찾기\n",
    "\n",
    "#X=train_trim;                   # 학습데이터 행렬\n",
    "#meanfig = mean(X);              # 학습데이터 행렬의 평균\n",
    "#M=repmat(meanfig,size(X,1),1);  # 평균벡터를 데이터 수만큼 반복한 행렬\n",
    "#S=(X-M)*(X-M)'/Ntrn;            # 고유치분석을 위한 행렬을 계산\n",
    "#[V,D,U]=svd(S);                 # 고유치분석\n",
    "#W=(X-M)'*V;                     # 고유벡터 찾기\n",
    "S.shape, V.shape, W.shape"
   ]
  },
  {
   "cell_type": "code",
   "execution_count": 3,
   "id": "welcome-chain",
   "metadata": {},
   "outputs": [
    {
     "data": {
      "text/plain": [
       "(50.92572612721602, 48.439964230192444, 68)"
      ]
     },
     "execution_count": 3,
     "metadata": {},
     "output_type": "execute_result"
    }
   ],
   "source": [
    "eval=np.diag(D);                   # PCA로 축소할 차원 결정\n",
    "SM = 0\n",
    "for i in range(150):\n",
    "    SM = SM + eval[i,i]\n",
    "\n",
    "SM1=0\n",
    "for i in range(150):\n",
    "    SM1 = SM1 + eval[i,i]\n",
    "    if SM1/SM > 0.95:\n",
    "        break\n",
    "        \n",
    "SM, SM1, i\n"
   ]
  },
  {
   "cell_type": "code",
   "execution_count": 4,
   "id": "rubber-british",
   "metadata": {},
   "outputs": [
    {
     "data": {
      "text/plain": [
       "((2000, 68), (68, 68), (150, 68), (300, 68))"
      ]
     },
     "execution_count": 4,
     "metadata": {},
     "output_type": "execute_result"
    }
   ],
   "source": [
    "\n",
    "\n",
    "Ydim=i;\n",
    "Wo, Wi= np.linalg.qr(W[:,0:Ydim]);           # 변환행렬의 직교화\n",
    "Y=np.transpose(np.dot(Wo.T, X.T));            # PCA에 의한 차원축소 (학습데이터)\n",
    "Yt=np.transpose(np.dot(Wo.T, test_trim.T));  # PCA에 의한 차원축소 (테스트데이터)\n",
    "\n",
    "Wo.shape, Wi.shape, Y.shape, Yt.shape\n"
   ]
  },
  {
   "cell_type": "code",
   "execution_count": 5,
   "id": "present-carol",
   "metadata": {},
   "outputs": [
    {
     "data": {
      "text/plain": [
       "(50, 68)"
      ]
     },
     "execution_count": 5,
     "metadata": {},
     "output_type": "execute_result"
    }
   ],
   "source": [
    "# LDA에 의한 특징추출\n",
    "\n",
    "Sw = np.zeros((Ydim, Ydim))                # Within-Scatter Matrix의 계산\n",
    "m = np.zeros((Mcls, Ydim))  #????????????  # Within-Scatter Matrix의 계산\n",
    "for i in range(Mcls):       \n",
    "    C=Y[i*3:(i+1)*3-1,:] \n",
    "    #print(i, C.shape, Y.shape)\n",
    "    Sw = Sw + 3 * np.cov(C.T) \n",
    "    m[i,:]=np.mean(C, axis=0)\n",
    "\n",
    "#C.shape, Sw.shape\n",
    "m.shape"
   ]
  },
  {
   "cell_type": "code",
   "execution_count": 6,
   "id": "indoor-democrat",
   "metadata": {},
   "outputs": [
    {
     "data": {
      "text/plain": [
       "((68, 68), (68, 68), (68, 68), (68,), (68, 68))"
      ]
     },
     "execution_count": 6,
     "metadata": {},
     "output_type": "execute_result"
    }
   ],
   "source": [
    "\n",
    "Sb=Mcls * np.cov(m.T);  # Between-Scatter Matrix의 계산\n",
    "Vf,Df,Uf=np.linalg.svd( np.dot(np.linalg.inv(Sw),Sb) ) # LDA 변환행렬 찾기\n",
    "\n",
    "\n",
    "Sw.shape, Sb.shape, Vf.shape, Df.shape, Uf.shape"
   ]
  },
  {
   "cell_type": "code",
   "execution_count": 7,
   "id": "cleared-edinburgh",
   "metadata": {},
   "outputs": [
    {
     "data": {
      "text/plain": [
       "((150, 68), (300, 68))"
      ]
     },
     "execution_count": 7,
     "metadata": {},
     "output_type": "execute_result"
    }
   ],
   "source": [
    "Z=np.transpose(np.dot(Vf.T, Y.T))   # LDA에 의한 특징추출 (학습데이터)\n",
    "Zt=np.transpose(np.dot(Vf.T, Yt.T)) # LDA에 의한 특징추출 (테스트데이터)\n",
    "\n",
    "Z.shape, Zt.shape"
   ]
  },
  {
   "cell_type": "code",
   "execution_count": 8,
   "id": "focused-supply",
   "metadata": {},
   "outputs": [],
   "source": [
    "import scipy.io\n",
    "#save feature_person W Vf Y Yt Z Zt; # 추출된 특징 저장\n",
    "\n",
    "#arr = np.array((W, Vf, Y, Yt, Z, Zt))\n",
    "\n",
    "np.save(\"feature_person_W\",  W )\n",
    "np.save(\"feature_person_Vf\",  Vf )\n",
    "np.save(\"feature_person_Y\",  Y )\n",
    "np.save(\"feature_person_Yt\",  Yt )\n",
    "np.save(\"feature_person_Z\",  Z )\n",
    "np.save(\"feature_person_Zt\",  Zt )\n"
   ]
  },
  {
   "cell_type": "code",
   "execution_count": null,
   "id": "seasonal-schema",
   "metadata": {},
   "outputs": [],
   "source": [
    "\n",
    "\n",
    "\n",
    "\n",
    "\n",
    "\n",
    "\n",
    "\n",
    "\n",
    "\n",
    "\n",
    "\n",
    "\n",
    "\n",
    "\n",
    "\n",
    "\n"
   ]
  }
 ],
 "metadata": {
  "kernelspec": {
   "display_name": "Python 3",
   "language": "python",
   "name": "python3"
  },
  "language_info": {
   "codemirror_mode": {
    "name": "ipython",
    "version": 3
   },
   "file_extension": ".py",
   "mimetype": "text/x-python",
   "name": "python",
   "nbconvert_exporter": "python",
   "pygments_lexer": "ipython3",
   "version": "3.9.2"
  }
 },
 "nbformat": 4,
 "nbformat_minor": 5
}
