{
 "cells": [
  {
   "cell_type": "code",
   "execution_count": 1,
   "id": "decimal-jerusalem",
   "metadata": {},
   "outputs": [],
   "source": [
    "import numpy as np\n",
    "import matplotlib.pyplot as plt\n",
    "import scipy.io as sio"
   ]
  },
  {
   "cell_type": "code",
   "execution_count": 2,
   "id": "abroad-institution",
   "metadata": {},
   "outputs": [
    {
     "data": {
      "text/plain": [
       "(150, 300, 2000, 50, (1, 150))"
      ]
     },
     "execution_count": 2,
     "metadata": {},
     "output_type": "execute_result"
    }
   ],
   "source": [
    "# 데이터 불러오기\n",
    "arr = sio.loadmat('data_person_trim.mat')\n",
    "\n",
    "train_trim = arr['train_trim']\n",
    "test_trim = arr['test_trim']\n",
    "train_label = arr['train_label']\n",
    "test_label = arr['test_label']\n",
    "\n",
    "Ntrn = len(train_trim)       #Ntrn=size(train_trim,1)  # 학습데이터의 수\n",
    "Ntst = len(test_trim)        #Ntst=size(test_trim,1)   # 테스트데이터의 수\n",
    "Isize = test_trim.shape[1]   #Isize=size(train_trim,2) # 입력벡터의 차원\n",
    "Mcls = 50                    #Mcls = 50                # 클래스의 수\n",
    "\n",
    "X=train_trim;                            # 학습데이터 행렬\n",
    "\n",
    "Ntrn, Ntst, Isize, Mcls, train_label.shape"
   ]
  },
  {
   "cell_type": "code",
   "execution_count": 3,
   "id": "fifty-contact",
   "metadata": {},
   "outputs": [
    {
     "data": {
      "text/plain": [
       "((2000, 150),\n",
       " (150, 68),\n",
       " (300, 68),\n",
       " (150, 68),\n",
       " (300, 68),\n",
       " (68, 68),\n",
       " (150,),\n",
       " (150,))"
      ]
     },
     "execution_count": 3,
     "metadata": {},
     "output_type": "execute_result"
    }
   ],
   "source": [
    "# 특징 물러오기\n",
    "\n",
    "W  = np.load('feature_person_W.npy')\n",
    "Y  = np.load('feature_person_Y.npy')\n",
    "Yt = np.load('feature_person_Yt.npy')\n",
    "Z  = np.load('feature_person_Z.npy')\n",
    "Zt = np.load('feature_person_Zt.npy')\n",
    "Vf = np.load('feature_person_Vf.npy')\n",
    "\n",
    "dy = np.zeros((Ntrn))\n",
    "dz = np.zeros((Ntrn))\n",
    "\n",
    "W.shape, Y.shape, Yt.shape, Z.shape, Zt.shape, Vf.shape, dy.shape, dz.shape\n"
   ]
  },
  {
   "cell_type": "code",
   "execution_count": 4,
   "id": "based-defeat",
   "metadata": {},
   "outputs": [
    {
     "data": {
      "text/plain": [
       "((150,), (150,), (1, 300), (1, 300))"
      ]
     },
     "execution_count": 4,
     "metadata": {},
     "output_type": "execute_result"
    }
   ],
   "source": [
    "dy = np.zeros((Ntrn))\n",
    "dz = np.zeros((Ntrn))\n",
    "min_labely = np.zeros((1,Ntst))\n",
    "min_labelz = np.zeros((1,Ntst))\n",
    "classification_ratey = np.zeros((Mcls))\n",
    "classification_ratez = np.zeros((Mcls))\n",
    "\n",
    "dy.shape, dz.shape, min_labely.shape, min_labelz.shape"
   ]
  },
  {
   "cell_type": "code",
   "execution_count": null,
   "id": "sound-reaction",
   "metadata": {},
   "outputs": [],
   "source": []
  },
  {
   "cell_type": "code",
   "execution_count": null,
   "id": "published-courage",
   "metadata": {},
   "outputs": [],
   "source": []
  },
  {
   "cell_type": "code",
   "execution_count": 5,
   "id": "mediterranean-stanford",
   "metadata": {},
   "outputs": [
    {
     "name": "stdout",
     "output_type": "stream",
     "text": [
      "(39,) [  2.  -1.  10.  10.  44.  10.  27.  -3.  -3.  -3.  -3.  32.  32.  18.\n",
      "  18.   6.  11.  17.  10.  10.  -6.  -6.  -6.  17. -22. -22. -11.   4.\n",
      "   4.   3.  -3.   3. -28. -18. -38. -38.   2. -18. -17.] 39\n",
      "(38,) [ -1.  -1.  10.  10.  44.  44.   1.  27.  27.  25.  -3.  -3.  -3.  10.\n",
      "   5.  18.  31.   6.  11.  14. -24.  -6. -11. -22. -22. -11.   1.   4.\n",
      "   3.   3.  -3.   3.   9.   9.   5. -18. -45. -17.] 38\n"
     ]
    }
   ],
   "source": [
    "#+++ 가능한 모든 특징 차원에 대하여 반복 수행\n",
    "for dim in range(Mcls-1):      #=1:Mcls-1:        \n",
    "    \n",
    "    Wo, Wi= np.linalg.qr(W[:,0:(dim+1)]);           # 변환행렬의 직교화\n",
    "    Y=np.transpose(np.dot(Wo.T, X.T));           # PCA에 의한 차원축소 (학습데이터)\n",
    "    Yt=np.transpose(np.dot(Wo.T, test_trim.T));  # PCA에 의한 차원축소 (테스트데이터)\n",
    "    #print(Mcls, dim)\n",
    "\n",
    "    #+++ 각 테스트데이터에 대해 분류 시작\n",
    "    for i in range(Ntst):  #=1:Ntst:            \n",
    "        \n",
    "        yt=Yt[i,:];             # 테스트데이터에 대한 PCA 특징\n",
    "        zt=Zt[i,0:(dim+1)];         # Yt(:,i); % 테스트데이터에 대한 LDA 특징\n",
    "\n",
    "        # 학습데이터들과의 거리계산\n",
    "        for j in range(Ntrn): #=1:Ntrn            \n",
    "            dy[j] = np.linalg.norm(yt - Y[j,0:(dim+1)] )  # PCA 특징을 사용한 경우\n",
    "            dz[j] = np.linalg.norm(zt - Z[j,0:(dim+1)] )  # LDA 특징을 사용한 경우\n",
    "        \n",
    "        miniy=np.argmin(dy);           # 최근접이웃 찾기 (PCA 특징)\n",
    "        miniz=np.argmin(dz);           # 최근접이웃 찾기 (LDA 특징) \n",
    "        \n",
    "        #print(i, 'miniy:', miniy, 'miniz:', miniz)\n",
    "        #print(i, min_labely.shape, train_label.shape)\n",
    "        \n",
    "        min_labely[0,i]=train_label[0, miniy]; # 최근접이웃의 클래스로 할당 (PCA)\n",
    "        min_labelz[0,i]=train_label[0, miniz]; # 최근접이웃의 클래스로 할당 (LDA)\n",
    "    #--- 각 테스트데이터에 대해 분류 시작\n",
    "\n",
    "    \n",
    "    T = min_labely - test_label\n",
    "    error_labely = np.array([val for val in T[0] if val != 0 ])   # error_labely=find(min_labely-test_label); %분류율 계산 (PCA)\n",
    "    correcty= Ntst - error_labely.shape[0]             #    correcty=Ntst-size(error_labely,2)\n",
    "    classification_ratey[dim]=correcty / Ntst;\n",
    "\n",
    "    #error_labelz=find(min_labelz-test_label);\n",
    "    T = min_labelz - test_label\n",
    "    error_labelz = np.array([val for val in T[0] if val != 0 ])  # 분류율 계산 (LDA)\n",
    "    correctz = Ntst - error_labelz.shape[0]             # correctz=Ntst-size(error_labelz,2);\n",
    "    classification_ratez[dim]=correctz / Ntst;            #    classification_ratez(dim)=correctz/Ntst;\n",
    "\n",
    "\n",
    "#    [classification_ratey(dim), classification_ratez(dim)]\n",
    "#    [classification_ratey(dim), classification_ratez(dim)]\n",
    "\n",
    "#--- 가능한 모든 특징 차원에 대하여 반복 수행\n",
    "\n",
    "print(error_labely.shape, error_labely, error_labely.shape[0])\n",
    "print(error_labelz.shape, error_labelz, error_labelz.shape[0])\n"
   ]
  },
  {
   "cell_type": "code",
   "execution_count": null,
   "id": "successful-values",
   "metadata": {},
   "outputs": [],
   "source": []
  },
  {
   "cell_type": "code",
   "execution_count": 6,
   "id": "unique-royal",
   "metadata": {},
   "outputs": [
    {
     "data": {
      "text/plain": [
       "[<matplotlib.lines.Line2D at 0x1f4aaf97d00>]"
      ]
     },
     "execution_count": 6,
     "metadata": {},
     "output_type": "execute_result"
    },
    {
     "data": {
      "image/png": "[encoded data removed]",
      "text/plain": [
       "<Figure size 432x288 with 1 Axes>"
      ]
     },
     "metadata": {
      "needs_background": "light"
     },
     "output_type": "display_data"
    }
   ],
   "source": [
    "T = [var for var in range(50) if var>-1]\n",
    "plt.plot(T,classification_ratey)\n",
    "plt.plot(T,classification_ratez)\n"
   ]
  },
  {
   "cell_type": "code",
   "execution_count": null,
   "id": "vanilla-sullivan",
   "metadata": {},
   "outputs": [],
   "source": []
  },
  {
   "cell_type": "code",
   "execution_count": null,
   "id": "higher-closer",
   "metadata": {},
   "outputs": [],
   "source": []
  },
  {
   "cell_type": "code",
   "execution_count": null,
   "id": "south-lloyd",
   "metadata": {},
   "outputs": [],
   "source": []
  },
  {
   "cell_type": "code",
   "execution_count": null,
   "id": "interstate-context",
   "metadata": {},
   "outputs": [],
   "source": []
  }
 ],
 "metadata": {
  "kernelspec": {
   "display_name": "Python 3",
   "language": "python",
   "name": "python3"
  },
  "language_info": {
   "codemirror_mode": {
    "name": "ipython",
    "version": 3
   },
   "file_extension": ".py",
   "mimetype": "text/x-python",
   "name": "python",
   "nbconvert_exporter": "python",
   "pygments_lexer": "ipython3",
   "version": "3.9.2"
  }
 },
 "nbformat": 4,
 "nbformat_minor": 5
}
